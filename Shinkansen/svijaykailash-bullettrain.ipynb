{
 "cells": [
  {
   "cell_type": "markdown",
   "metadata": {},
   "source": [
    "#  Shinkansen Travel Experience\n",
    "\n",
    "**PROBLEM STATEMENT**\n",
    "\n",
    "This is the problem of a Shinkansen (Bullet-Trains) of Japan. They aim to determine the relative importance of each parameter with regards to their contribution to the passenger travel experience. Provided is a random sample of individuals who travelled using their train. The on-time performance of the trains along with the passenger’s information is published in the CSV file named ‘Traveldata_train’.  These passengers were later asked to provide their feedback on various parameters related to the travel along with their overall experience. These collected details are made available in the survey report CSV labelled ‘Surveydata_train’.\n",
    "\n",
    "In the survey, a passenger was explicitly asked whether they were delighted with their overall travel experience and that is captured in the data of the survey report under the variable labelled ‘Overall_Experience’. \n",
    "\n",
    "The objective of this exercise is to understand which parameters play an important role in swaying passenger feedback towards a positive scale. You are provided test data containing Travel data and Survey data of passengers. Both the test data and the train data are collected at the same time and belongs to the same company.\n",
    "\n",
    "**Objective:**\n",
    "\n",
    "- The goal of the problem is to predict whether a passenger was delighted considering his/her overall travel experience of traveling in Shinkansen (Bullet Train). For each passenger id in the test set,  predict the “Overall_Experience” level.\n"
   ]
  },
  {
   "cell_type": "markdown",
   "metadata": {},
   "source": [
    "**Data set Details**"
   ]
  },
  {
   "cell_type": "markdown",
   "metadata": {},
   "source": [
    "The problem consists of 2 separate datasets: Travel data & Survey data. The Travel data has information related to passengers and the performance of the Train in which they traveled. The survey data is the aggregated data of surveys collected post-service experience. You are expected to treat both the datasets as raw data and perform any necessary cleaning/validation steps as required."
   ]
  },
  {
   "cell_type": "markdown",
   "metadata": {},
   "source": [
    "**Import the necessary libraries**"
   ]
  },
  {
   "cell_type": "code",
   "execution_count": 1,
   "metadata": {},
   "outputs": [],
   "source": [
    "# Libraries for data manipulation\n",
    "import numpy as np\n",
    "import pandas as pd\n",
    "\n",
    "# Libraries for data visualization\n",
    "import matplotlib.pyplot as plt\n",
    "import seaborn as sns\n",
    "\n",
    "# Libraries for scaling the data\n",
    "from scipy.stats import zscore\n",
    "from sklearn.preprocessing import StandardScaler\n",
    "\n",
    "# Library to check VIF\n",
    "from statsmodels.stats.outliers_influence import variance_inflation_factor\n",
    "\n",
    "# Libraries for Model Building\n",
    "from sklearn.model_selection import train_test_split,GridSearchCV\n",
    "\n",
    "from sklearn.tree import DecisionTreeClassifier\n",
    "\n",
    "from sklearn.ensemble import BaggingClassifier\n",
    "\n",
    "from sklearn.ensemble import RandomForestClassifier\n",
    "\n",
    "from sklearn.neural_network import MLPClassifier\n",
    "\n",
    "from sklearn.naive_bayes import GaussianNB\n",
    "\n",
    "from sklearn.neighbors import KNeighborsClassifier\n",
    "\n",
    "from sklearn.ensemble import AdaBoostClassifier\n",
    "\n",
    "import catboost as catboost\n",
    "from catboost import CatBoostClassifier\n",
    "\n",
    "from sklearn.ensemble import GradientBoostingClassifier\n",
    "\n",
    "import lightgbm as lightgbm\n",
    "from lightgbm import LGBMClassifier\n",
    "\n",
    "import xgboost as xgboost\n",
    "from xgboost import XGBClassifier\n",
    "\n",
    "from sklearn.linear_model import LogisticRegression\n",
    "\n",
    "from sklearn.discriminant_analysis import LinearDiscriminantAnalysis\n",
    "\n",
    "# Libraries for evaluation metrics\n",
    "from sklearn import metrics\n",
    "from sklearn.metrics import roc_auc_score,roc_curve,classification_report,confusion_matrix,plot_confusion_matrix"
   ]
  },
  {
   "cell_type": "markdown",
   "metadata": {},
   "source": [
    "**Read the data and EDA**"
   ]
  },
  {
   "cell_type": "code",
   "execution_count": 2,
   "metadata": {},
   "outputs": [
    {
     "data": {
      "text/plain": [
       "'C:\\\\Users\\\\User\\\\Desktop\\\\GL\\\\Hackathon-Shinkansen'"
      ]
     },
     "execution_count": 2,
     "metadata": {},
     "output_type": "execute_result"
    }
   ],
   "source": [
    "import os\n",
    "os.getcwd()"
   ]
  },
  {
   "cell_type": "code",
   "execution_count": 3,
   "metadata": {},
   "outputs": [],
   "source": [
    "survey_df = pd.read_csv(\"Surveydata_train.csv\")\n",
    "survey_df_test = pd.read_csv(\"Surveydata_test.csv\")"
   ]
  },
  {
   "cell_type": "code",
   "execution_count": 4,
   "metadata": {},
   "outputs": [],
   "source": [
    "travel_df = pd.read_csv(\"Traveldata_train.csv\")\n",
    "travel_df_test = pd.read_csv(\"Traveldata_test.csv\")"
   ]
  },
  {
   "cell_type": "code",
   "execution_count": 5,
   "metadata": {},
   "outputs": [
    {
     "data": {
      "text/plain": [
       "((94379, 17), (94379, 9))"
      ]
     },
     "execution_count": 5,
     "metadata": {},
     "output_type": "execute_result"
    }
   ],
   "source": [
    "# Has the Target Variable\n",
    "survey_df.shape,travel_df.shape"
   ]
  },
  {
   "cell_type": "code",
   "execution_count": 6,
   "metadata": {},
   "outputs": [
    {
     "data": {
      "text/plain": [
       "((35602, 16), (35602, 9))"
      ]
     },
     "execution_count": 6,
     "metadata": {},
     "output_type": "execute_result"
    }
   ],
   "source": [
    "survey_df_test.shape,travel_df_test.shape"
   ]
  },
  {
   "cell_type": "code",
   "execution_count": 7,
   "metadata": {},
   "outputs": [
    {
     "data": {
      "text/html": [
       "<div>\n",
       "<style scoped>\n",
       "    .dataframe tbody tr th:only-of-type {\n",
       "        vertical-align: middle;\n",
       "    }\n",
       "\n",
       "    .dataframe tbody tr th {\n",
       "        vertical-align: top;\n",
       "    }\n",
       "\n",
       "    .dataframe thead th {\n",
       "        text-align: right;\n",
       "    }\n",
       "</style>\n",
       "<table border=\"1\" class=\"dataframe\">\n",
       "  <thead>\n",
       "    <tr style=\"text-align: right;\">\n",
       "      <th></th>\n",
       "      <th>ID</th>\n",
       "      <th>Overall_Experience</th>\n",
       "      <th>Seat_comfort</th>\n",
       "      <th>Seat_Class</th>\n",
       "      <th>Arrival_time_convenient</th>\n",
       "      <th>Catering</th>\n",
       "      <th>Platform_location</th>\n",
       "      <th>Onboardwifi_service</th>\n",
       "      <th>Onboard_entertainment</th>\n",
       "      <th>Online_support</th>\n",
       "      <th>Onlinebooking_Ease</th>\n",
       "      <th>Onboard_service</th>\n",
       "      <th>Leg_room</th>\n",
       "      <th>Baggage_handling</th>\n",
       "      <th>Checkin_service</th>\n",
       "      <th>Cleanliness</th>\n",
       "      <th>Online_boarding</th>\n",
       "    </tr>\n",
       "  </thead>\n",
       "  <tbody>\n",
       "    <tr>\n",
       "      <th>0</th>\n",
       "      <td>98800001</td>\n",
       "      <td>0</td>\n",
       "      <td>need improvement</td>\n",
       "      <td>Green Car</td>\n",
       "      <td>excellent</td>\n",
       "      <td>excellent</td>\n",
       "      <td>very convinient</td>\n",
       "      <td>good</td>\n",
       "      <td>need improvement</td>\n",
       "      <td>acceptable</td>\n",
       "      <td>need improvement</td>\n",
       "      <td>need improvement</td>\n",
       "      <td>acceptable</td>\n",
       "      <td>need improvement</td>\n",
       "      <td>good</td>\n",
       "      <td>need improvement</td>\n",
       "      <td>poor</td>\n",
       "    </tr>\n",
       "    <tr>\n",
       "      <th>1</th>\n",
       "      <td>98800002</td>\n",
       "      <td>0</td>\n",
       "      <td>poor</td>\n",
       "      <td>Ordinary</td>\n",
       "      <td>excellent</td>\n",
       "      <td>poor</td>\n",
       "      <td>need improvement</td>\n",
       "      <td>good</td>\n",
       "      <td>poor</td>\n",
       "      <td>good</td>\n",
       "      <td>good</td>\n",
       "      <td>excellent</td>\n",
       "      <td>need improvement</td>\n",
       "      <td>poor</td>\n",
       "      <td>need improvement</td>\n",
       "      <td>good</td>\n",
       "      <td>good</td>\n",
       "    </tr>\n",
       "    <tr>\n",
       "      <th>2</th>\n",
       "      <td>98800003</td>\n",
       "      <td>1</td>\n",
       "      <td>need improvement</td>\n",
       "      <td>Green Car</td>\n",
       "      <td>need improvement</td>\n",
       "      <td>need improvement</td>\n",
       "      <td>need improvement</td>\n",
       "      <td>need improvement</td>\n",
       "      <td>good</td>\n",
       "      <td>excellent</td>\n",
       "      <td>excellent</td>\n",
       "      <td>excellent</td>\n",
       "      <td>excellent</td>\n",
       "      <td>excellent</td>\n",
       "      <td>good</td>\n",
       "      <td>excellent</td>\n",
       "      <td>excellent</td>\n",
       "    </tr>\n",
       "    <tr>\n",
       "      <th>3</th>\n",
       "      <td>98800004</td>\n",
       "      <td>0</td>\n",
       "      <td>acceptable</td>\n",
       "      <td>Ordinary</td>\n",
       "      <td>need improvement</td>\n",
       "      <td>NaN</td>\n",
       "      <td>need improvement</td>\n",
       "      <td>acceptable</td>\n",
       "      <td>need improvement</td>\n",
       "      <td>acceptable</td>\n",
       "      <td>acceptable</td>\n",
       "      <td>acceptable</td>\n",
       "      <td>acceptable</td>\n",
       "      <td>acceptable</td>\n",
       "      <td>good</td>\n",
       "      <td>acceptable</td>\n",
       "      <td>acceptable</td>\n",
       "    </tr>\n",
       "    <tr>\n",
       "      <th>4</th>\n",
       "      <td>98800005</td>\n",
       "      <td>1</td>\n",
       "      <td>acceptable</td>\n",
       "      <td>Ordinary</td>\n",
       "      <td>acceptable</td>\n",
       "      <td>acceptable</td>\n",
       "      <td>manageable</td>\n",
       "      <td>need improvement</td>\n",
       "      <td>good</td>\n",
       "      <td>excellent</td>\n",
       "      <td>good</td>\n",
       "      <td>good</td>\n",
       "      <td>good</td>\n",
       "      <td>good</td>\n",
       "      <td>good</td>\n",
       "      <td>good</td>\n",
       "      <td>good</td>\n",
       "    </tr>\n",
       "  </tbody>\n",
       "</table>\n",
       "</div>"
      ],
      "text/plain": [
       "         ID  Overall_Experience      Seat_comfort Seat_Class  \\\n",
       "0  98800001                   0  need improvement  Green Car   \n",
       "1  98800002                   0              poor   Ordinary   \n",
       "2  98800003                   1  need improvement  Green Car   \n",
       "3  98800004                   0        acceptable   Ordinary   \n",
       "4  98800005                   1        acceptable   Ordinary   \n",
       "\n",
       "  Arrival_time_convenient          Catering Platform_location  \\\n",
       "0               excellent         excellent   very convinient   \n",
       "1               excellent              poor  need improvement   \n",
       "2        need improvement  need improvement  need improvement   \n",
       "3        need improvement               NaN  need improvement   \n",
       "4              acceptable        acceptable        manageable   \n",
       "\n",
       "  Onboardwifi_service Onboard_entertainment Online_support Onlinebooking_Ease  \\\n",
       "0                good      need improvement     acceptable   need improvement   \n",
       "1                good                  poor           good               good   \n",
       "2    need improvement                  good      excellent          excellent   \n",
       "3          acceptable      need improvement     acceptable         acceptable   \n",
       "4    need improvement                  good      excellent               good   \n",
       "\n",
       "    Onboard_service          Leg_room  Baggage_handling   Checkin_service  \\\n",
       "0  need improvement        acceptable  need improvement              good   \n",
       "1         excellent  need improvement              poor  need improvement   \n",
       "2         excellent         excellent         excellent              good   \n",
       "3        acceptable        acceptable        acceptable              good   \n",
       "4              good              good              good              good   \n",
       "\n",
       "        Cleanliness Online_boarding  \n",
       "0  need improvement            poor  \n",
       "1              good            good  \n",
       "2         excellent       excellent  \n",
       "3        acceptable      acceptable  \n",
       "4              good            good  "
      ]
     },
     "metadata": {},
     "output_type": "display_data"
    },
    {
     "data": {
      "text/html": [
       "<div>\n",
       "<style scoped>\n",
       "    .dataframe tbody tr th:only-of-type {\n",
       "        vertical-align: middle;\n",
       "    }\n",
       "\n",
       "    .dataframe tbody tr th {\n",
       "        vertical-align: top;\n",
       "    }\n",
       "\n",
       "    .dataframe thead th {\n",
       "        text-align: right;\n",
       "    }\n",
       "</style>\n",
       "<table border=\"1\" class=\"dataframe\">\n",
       "  <thead>\n",
       "    <tr style=\"text-align: right;\">\n",
       "      <th></th>\n",
       "      <th>ID</th>\n",
       "      <th>Seat_comfort</th>\n",
       "      <th>Seat_Class</th>\n",
       "      <th>Arrival_time_convenient</th>\n",
       "      <th>Catering</th>\n",
       "      <th>Platform_location</th>\n",
       "      <th>Onboardwifi_service</th>\n",
       "      <th>Onboard_entertainment</th>\n",
       "      <th>Online_support</th>\n",
       "      <th>Onlinebooking_Ease</th>\n",
       "      <th>Onboard_service</th>\n",
       "      <th>Leg_room</th>\n",
       "      <th>Baggage_handling</th>\n",
       "      <th>Checkin_service</th>\n",
       "      <th>Cleanliness</th>\n",
       "      <th>Online_boarding</th>\n",
       "    </tr>\n",
       "  </thead>\n",
       "  <tbody>\n",
       "    <tr>\n",
       "      <th>0</th>\n",
       "      <td>99900001</td>\n",
       "      <td>acceptable</td>\n",
       "      <td>Green Car</td>\n",
       "      <td>acceptable</td>\n",
       "      <td>acceptable</td>\n",
       "      <td>manageable</td>\n",
       "      <td>need improvement</td>\n",
       "      <td>excellent</td>\n",
       "      <td>good</td>\n",
       "      <td>excellent</td>\n",
       "      <td>excellent</td>\n",
       "      <td>excellent</td>\n",
       "      <td>excellent</td>\n",
       "      <td>good</td>\n",
       "      <td>excellent</td>\n",
       "      <td>poor</td>\n",
       "    </tr>\n",
       "    <tr>\n",
       "      <th>1</th>\n",
       "      <td>99900002</td>\n",
       "      <td>extremely poor</td>\n",
       "      <td>Ordinary</td>\n",
       "      <td>good</td>\n",
       "      <td>poor</td>\n",
       "      <td>manageable</td>\n",
       "      <td>acceptable</td>\n",
       "      <td>poor</td>\n",
       "      <td>acceptable</td>\n",
       "      <td>acceptable</td>\n",
       "      <td>excellent</td>\n",
       "      <td>acceptable</td>\n",
       "      <td>good</td>\n",
       "      <td>acceptable</td>\n",
       "      <td>excellent</td>\n",
       "      <td>acceptable</td>\n",
       "    </tr>\n",
       "    <tr>\n",
       "      <th>2</th>\n",
       "      <td>99900003</td>\n",
       "      <td>excellent</td>\n",
       "      <td>Ordinary</td>\n",
       "      <td>excellent</td>\n",
       "      <td>excellent</td>\n",
       "      <td>very convinient</td>\n",
       "      <td>excellent</td>\n",
       "      <td>excellent</td>\n",
       "      <td>excellent</td>\n",
       "      <td>need improvement</td>\n",
       "      <td>need improvement</td>\n",
       "      <td>need improvement</td>\n",
       "      <td>need improvement</td>\n",
       "      <td>good</td>\n",
       "      <td>need improvement</td>\n",
       "      <td>excellent</td>\n",
       "    </tr>\n",
       "    <tr>\n",
       "      <th>3</th>\n",
       "      <td>99900004</td>\n",
       "      <td>acceptable</td>\n",
       "      <td>Green Car</td>\n",
       "      <td>excellent</td>\n",
       "      <td>acceptable</td>\n",
       "      <td>very convinient</td>\n",
       "      <td>poor</td>\n",
       "      <td>acceptable</td>\n",
       "      <td>excellent</td>\n",
       "      <td>poor</td>\n",
       "      <td>acceptable</td>\n",
       "      <td>need improvement</td>\n",
       "      <td>excellent</td>\n",
       "      <td>excellent</td>\n",
       "      <td>excellent</td>\n",
       "      <td>poor</td>\n",
       "    </tr>\n",
       "    <tr>\n",
       "      <th>4</th>\n",
       "      <td>99900005</td>\n",
       "      <td>excellent</td>\n",
       "      <td>Ordinary</td>\n",
       "      <td>extremely poor</td>\n",
       "      <td>excellent</td>\n",
       "      <td>need improvement</td>\n",
       "      <td>excellent</td>\n",
       "      <td>excellent</td>\n",
       "      <td>excellent</td>\n",
       "      <td>excellent</td>\n",
       "      <td>NaN</td>\n",
       "      <td>acceptable</td>\n",
       "      <td>excellent</td>\n",
       "      <td>excellent</td>\n",
       "      <td>excellent</td>\n",
       "      <td>excellent</td>\n",
       "    </tr>\n",
       "  </tbody>\n",
       "</table>\n",
       "</div>"
      ],
      "text/plain": [
       "         ID    Seat_comfort Seat_Class Arrival_time_convenient    Catering  \\\n",
       "0  99900001      acceptable  Green Car              acceptable  acceptable   \n",
       "1  99900002  extremely poor   Ordinary                    good        poor   \n",
       "2  99900003       excellent   Ordinary               excellent   excellent   \n",
       "3  99900004      acceptable  Green Car               excellent  acceptable   \n",
       "4  99900005       excellent   Ordinary          extremely poor   excellent   \n",
       "\n",
       "  Platform_location Onboardwifi_service Onboard_entertainment Online_support  \\\n",
       "0        manageable    need improvement             excellent           good   \n",
       "1        manageable          acceptable                  poor     acceptable   \n",
       "2   very convinient           excellent             excellent      excellent   \n",
       "3   very convinient                poor            acceptable      excellent   \n",
       "4  need improvement           excellent             excellent      excellent   \n",
       "\n",
       "  Onlinebooking_Ease   Onboard_service          Leg_room  Baggage_handling  \\\n",
       "0          excellent         excellent         excellent         excellent   \n",
       "1         acceptable         excellent        acceptable              good   \n",
       "2   need improvement  need improvement  need improvement  need improvement   \n",
       "3               poor        acceptable  need improvement         excellent   \n",
       "4          excellent               NaN        acceptable         excellent   \n",
       "\n",
       "  Checkin_service       Cleanliness Online_boarding  \n",
       "0            good         excellent            poor  \n",
       "1      acceptable         excellent      acceptable  \n",
       "2            good  need improvement       excellent  \n",
       "3       excellent         excellent            poor  \n",
       "4       excellent         excellent       excellent  "
      ]
     },
     "metadata": {},
     "output_type": "display_data"
    }
   ],
   "source": [
    "display(survey_df.head())\n",
    "display(survey_df_test.head())"
   ]
  },
  {
   "cell_type": "code",
   "execution_count": 8,
   "metadata": {},
   "outputs": [
    {
     "name": "stdout",
     "output_type": "stream",
     "text": [
      "<class 'pandas.core.frame.DataFrame'>\n",
      "RangeIndex: 94379 entries, 0 to 94378\n",
      "Data columns (total 17 columns):\n",
      " #   Column                   Non-Null Count  Dtype \n",
      "---  ------                   --------------  ----- \n",
      " 0   ID                       94379 non-null  int64 \n",
      " 1   Overall_Experience       94379 non-null  int64 \n",
      " 2   Seat_comfort             94318 non-null  object\n",
      " 3   Seat_Class               94379 non-null  object\n",
      " 4   Arrival_time_convenient  85449 non-null  object\n",
      " 5   Catering                 85638 non-null  object\n",
      " 6   Platform_location        94349 non-null  object\n",
      " 7   Onboardwifi_service      94349 non-null  object\n",
      " 8   Onboard_entertainment    94361 non-null  object\n",
      " 9   Online_support           94288 non-null  object\n",
      " 10  Onlinebooking_Ease       94306 non-null  object\n",
      " 11  Onboard_service          86778 non-null  object\n",
      " 12  Leg_room                 94289 non-null  object\n",
      " 13  Baggage_handling         94237 non-null  object\n",
      " 14  Checkin_service          94302 non-null  object\n",
      " 15  Cleanliness              94373 non-null  object\n",
      " 16  Online_boarding          94373 non-null  object\n",
      "dtypes: int64(2), object(15)\n",
      "memory usage: 12.2+ MB\n"
     ]
    },
    {
     "data": {
      "text/plain": [
       "None"
      ]
     },
     "metadata": {},
     "output_type": "display_data"
    },
    {
     "name": "stdout",
     "output_type": "stream",
     "text": [
      "<class 'pandas.core.frame.DataFrame'>\n",
      "RangeIndex: 35602 entries, 0 to 35601\n",
      "Data columns (total 16 columns):\n",
      " #   Column                   Non-Null Count  Dtype \n",
      "---  ------                   --------------  ----- \n",
      " 0   ID                       35602 non-null  int64 \n",
      " 1   Seat_comfort             35580 non-null  object\n",
      " 2   Seat_Class               35602 non-null  object\n",
      " 3   Arrival_time_convenient  32277 non-null  object\n",
      " 4   Catering                 32245 non-null  object\n",
      " 5   Platform_location        35590 non-null  object\n",
      " 6   Onboardwifi_service      35590 non-null  object\n",
      " 7   Onboard_entertainment    35594 non-null  object\n",
      " 8   Online_support           35576 non-null  object\n",
      " 9   Onlinebooking_Ease       35584 non-null  object\n",
      " 10  Onboard_service          32730 non-null  object\n",
      " 11  Leg_room                 35577 non-null  object\n",
      " 12  Baggage_handling         35562 non-null  object\n",
      " 13  Checkin_service          35580 non-null  object\n",
      " 14  Cleanliness              35600 non-null  object\n",
      " 15  Online_boarding          35600 non-null  object\n",
      "dtypes: int64(1), object(15)\n",
      "memory usage: 4.3+ MB\n"
     ]
    },
    {
     "data": {
      "text/plain": [
       "None"
      ]
     },
     "metadata": {},
     "output_type": "display_data"
    }
   ],
   "source": [
    "display(survey_df.info())\n",
    "display(survey_df_test.info())"
   ]
  },
  {
   "cell_type": "code",
   "execution_count": 9,
   "metadata": {},
   "outputs": [
    {
     "data": {
      "text/html": [
       "<div>\n",
       "<style scoped>\n",
       "    .dataframe tbody tr th:only-of-type {\n",
       "        vertical-align: middle;\n",
       "    }\n",
       "\n",
       "    .dataframe tbody tr th {\n",
       "        vertical-align: top;\n",
       "    }\n",
       "\n",
       "    .dataframe thead th {\n",
       "        text-align: right;\n",
       "    }\n",
       "</style>\n",
       "<table border=\"1\" class=\"dataframe\">\n",
       "  <thead>\n",
       "    <tr style=\"text-align: right;\">\n",
       "      <th></th>\n",
       "      <th>ID</th>\n",
       "      <th>Gender</th>\n",
       "      <th>CustomerType</th>\n",
       "      <th>Age</th>\n",
       "      <th>TypeTravel</th>\n",
       "      <th>Travel_Class</th>\n",
       "      <th>Travel_Distance</th>\n",
       "      <th>DepartureDelay_in_Mins</th>\n",
       "      <th>ArrivalDelay_in_Mins</th>\n",
       "    </tr>\n",
       "  </thead>\n",
       "  <tbody>\n",
       "    <tr>\n",
       "      <th>0</th>\n",
       "      <td>98800001</td>\n",
       "      <td>Female</td>\n",
       "      <td>Loyal Customer</td>\n",
       "      <td>52.0</td>\n",
       "      <td>NaN</td>\n",
       "      <td>Business</td>\n",
       "      <td>272</td>\n",
       "      <td>0.0</td>\n",
       "      <td>5.0</td>\n",
       "    </tr>\n",
       "    <tr>\n",
       "      <th>1</th>\n",
       "      <td>98800002</td>\n",
       "      <td>Male</td>\n",
       "      <td>Loyal Customer</td>\n",
       "      <td>48.0</td>\n",
       "      <td>Personal Travel</td>\n",
       "      <td>Eco</td>\n",
       "      <td>2200</td>\n",
       "      <td>9.0</td>\n",
       "      <td>0.0</td>\n",
       "    </tr>\n",
       "    <tr>\n",
       "      <th>2</th>\n",
       "      <td>98800003</td>\n",
       "      <td>Female</td>\n",
       "      <td>Loyal Customer</td>\n",
       "      <td>43.0</td>\n",
       "      <td>Business travel</td>\n",
       "      <td>Business</td>\n",
       "      <td>1061</td>\n",
       "      <td>77.0</td>\n",
       "      <td>119.0</td>\n",
       "    </tr>\n",
       "    <tr>\n",
       "      <th>3</th>\n",
       "      <td>98800004</td>\n",
       "      <td>Female</td>\n",
       "      <td>Loyal Customer</td>\n",
       "      <td>44.0</td>\n",
       "      <td>Business travel</td>\n",
       "      <td>Business</td>\n",
       "      <td>780</td>\n",
       "      <td>13.0</td>\n",
       "      <td>18.0</td>\n",
       "    </tr>\n",
       "    <tr>\n",
       "      <th>4</th>\n",
       "      <td>98800005</td>\n",
       "      <td>Female</td>\n",
       "      <td>Loyal Customer</td>\n",
       "      <td>50.0</td>\n",
       "      <td>Business travel</td>\n",
       "      <td>Business</td>\n",
       "      <td>1981</td>\n",
       "      <td>0.0</td>\n",
       "      <td>0.0</td>\n",
       "    </tr>\n",
       "  </tbody>\n",
       "</table>\n",
       "</div>"
      ],
      "text/plain": [
       "         ID  Gender    CustomerType   Age       TypeTravel Travel_Class  \\\n",
       "0  98800001  Female  Loyal Customer  52.0              NaN     Business   \n",
       "1  98800002    Male  Loyal Customer  48.0  Personal Travel          Eco   \n",
       "2  98800003  Female  Loyal Customer  43.0  Business travel     Business   \n",
       "3  98800004  Female  Loyal Customer  44.0  Business travel     Business   \n",
       "4  98800005  Female  Loyal Customer  50.0  Business travel     Business   \n",
       "\n",
       "   Travel_Distance  DepartureDelay_in_Mins  ArrivalDelay_in_Mins  \n",
       "0              272                     0.0                   5.0  \n",
       "1             2200                     9.0                   0.0  \n",
       "2             1061                    77.0                 119.0  \n",
       "3              780                    13.0                  18.0  \n",
       "4             1981                     0.0                   0.0  "
      ]
     },
     "metadata": {},
     "output_type": "display_data"
    },
    {
     "data": {
      "text/html": [
       "<div>\n",
       "<style scoped>\n",
       "    .dataframe tbody tr th:only-of-type {\n",
       "        vertical-align: middle;\n",
       "    }\n",
       "\n",
       "    .dataframe tbody tr th {\n",
       "        vertical-align: top;\n",
       "    }\n",
       "\n",
       "    .dataframe thead th {\n",
       "        text-align: right;\n",
       "    }\n",
       "</style>\n",
       "<table border=\"1\" class=\"dataframe\">\n",
       "  <thead>\n",
       "    <tr style=\"text-align: right;\">\n",
       "      <th></th>\n",
       "      <th>ID</th>\n",
       "      <th>Gender</th>\n",
       "      <th>CustomerType</th>\n",
       "      <th>Age</th>\n",
       "      <th>TypeTravel</th>\n",
       "      <th>Travel_Class</th>\n",
       "      <th>Travel_Distance</th>\n",
       "      <th>DepartureDelay_in_Mins</th>\n",
       "      <th>ArrivalDelay_in_Mins</th>\n",
       "    </tr>\n",
       "  </thead>\n",
       "  <tbody>\n",
       "    <tr>\n",
       "      <th>0</th>\n",
       "      <td>99900001</td>\n",
       "      <td>Female</td>\n",
       "      <td>NaN</td>\n",
       "      <td>36.0</td>\n",
       "      <td>Business travel</td>\n",
       "      <td>Business</td>\n",
       "      <td>532</td>\n",
       "      <td>0.0</td>\n",
       "      <td>0.0</td>\n",
       "    </tr>\n",
       "    <tr>\n",
       "      <th>1</th>\n",
       "      <td>99900002</td>\n",
       "      <td>Female</td>\n",
       "      <td>disloyal Customer</td>\n",
       "      <td>21.0</td>\n",
       "      <td>Business travel</td>\n",
       "      <td>Business</td>\n",
       "      <td>1425</td>\n",
       "      <td>9.0</td>\n",
       "      <td>28.0</td>\n",
       "    </tr>\n",
       "    <tr>\n",
       "      <th>2</th>\n",
       "      <td>99900003</td>\n",
       "      <td>Male</td>\n",
       "      <td>Loyal Customer</td>\n",
       "      <td>60.0</td>\n",
       "      <td>Business travel</td>\n",
       "      <td>Business</td>\n",
       "      <td>2832</td>\n",
       "      <td>0.0</td>\n",
       "      <td>0.0</td>\n",
       "    </tr>\n",
       "    <tr>\n",
       "      <th>3</th>\n",
       "      <td>99900004</td>\n",
       "      <td>Female</td>\n",
       "      <td>Loyal Customer</td>\n",
       "      <td>29.0</td>\n",
       "      <td>Personal Travel</td>\n",
       "      <td>Eco</td>\n",
       "      <td>1352</td>\n",
       "      <td>0.0</td>\n",
       "      <td>0.0</td>\n",
       "    </tr>\n",
       "    <tr>\n",
       "      <th>4</th>\n",
       "      <td>99900005</td>\n",
       "      <td>Male</td>\n",
       "      <td>disloyal Customer</td>\n",
       "      <td>18.0</td>\n",
       "      <td>Business travel</td>\n",
       "      <td>Business</td>\n",
       "      <td>1610</td>\n",
       "      <td>17.0</td>\n",
       "      <td>0.0</td>\n",
       "    </tr>\n",
       "  </tbody>\n",
       "</table>\n",
       "</div>"
      ],
      "text/plain": [
       "         ID  Gender       CustomerType   Age       TypeTravel Travel_Class  \\\n",
       "0  99900001  Female                NaN  36.0  Business travel     Business   \n",
       "1  99900002  Female  disloyal Customer  21.0  Business travel     Business   \n",
       "2  99900003    Male     Loyal Customer  60.0  Business travel     Business   \n",
       "3  99900004  Female     Loyal Customer  29.0  Personal Travel          Eco   \n",
       "4  99900005    Male  disloyal Customer  18.0  Business travel     Business   \n",
       "\n",
       "   Travel_Distance  DepartureDelay_in_Mins  ArrivalDelay_in_Mins  \n",
       "0              532                     0.0                   0.0  \n",
       "1             1425                     9.0                  28.0  \n",
       "2             2832                     0.0                   0.0  \n",
       "3             1352                     0.0                   0.0  \n",
       "4             1610                    17.0                   0.0  "
      ]
     },
     "metadata": {},
     "output_type": "display_data"
    }
   ],
   "source": [
    "display(travel_df.head())\n",
    "display(travel_df_test.head())"
   ]
  },
  {
   "cell_type": "code",
   "execution_count": 10,
   "metadata": {},
   "outputs": [
    {
     "name": "stdout",
     "output_type": "stream",
     "text": [
      "<class 'pandas.core.frame.DataFrame'>\n",
      "RangeIndex: 94379 entries, 0 to 94378\n",
      "Data columns (total 9 columns):\n",
      " #   Column                  Non-Null Count  Dtype  \n",
      "---  ------                  --------------  -----  \n",
      " 0   ID                      94379 non-null  int64  \n",
      " 1   Gender                  94302 non-null  object \n",
      " 2   CustomerType            85428 non-null  object \n",
      " 3   Age                     94346 non-null  float64\n",
      " 4   TypeTravel              85153 non-null  object \n",
      " 5   Travel_Class            94379 non-null  object \n",
      " 6   Travel_Distance         94379 non-null  int64  \n",
      " 7   DepartureDelay_in_Mins  94322 non-null  float64\n",
      " 8   ArrivalDelay_in_Mins    94022 non-null  float64\n",
      "dtypes: float64(3), int64(2), object(4)\n",
      "memory usage: 6.5+ MB\n"
     ]
    },
    {
     "data": {
      "text/plain": [
       "None"
      ]
     },
     "metadata": {},
     "output_type": "display_data"
    },
    {
     "name": "stdout",
     "output_type": "stream",
     "text": [
      "<class 'pandas.core.frame.DataFrame'>\n",
      "RangeIndex: 35602 entries, 0 to 35601\n",
      "Data columns (total 9 columns):\n",
      " #   Column                  Non-Null Count  Dtype  \n",
      "---  ------                  --------------  -----  \n",
      " 0   ID                      35602 non-null  int64  \n",
      " 1   Gender                  35572 non-null  object \n",
      " 2   CustomerType            32219 non-null  object \n",
      " 3   Age                     35591 non-null  float64\n",
      " 4   TypeTravel              32154 non-null  object \n",
      " 5   Travel_Class            35602 non-null  object \n",
      " 6   Travel_Distance         35602 non-null  int64  \n",
      " 7   DepartureDelay_in_Mins  35573 non-null  float64\n",
      " 8   ArrivalDelay_in_Mins    35479 non-null  float64\n",
      "dtypes: float64(3), int64(2), object(4)\n",
      "memory usage: 2.4+ MB\n"
     ]
    },
    {
     "data": {
      "text/plain": [
       "None"
      ]
     },
     "metadata": {},
     "output_type": "display_data"
    }
   ],
   "source": [
    "display(travel_df.info())\n",
    "display(travel_df_test.info())"
   ]
  },
  {
   "cell_type": "code",
   "execution_count": 11,
   "metadata": {},
   "outputs": [],
   "source": [
    "#merging the two datasets\n",
    "\n",
    "df = pd.merge(survey_df, travel_df, on= 'ID')\n",
    "df_test = pd.merge(survey_df_test, travel_df_test, on= 'ID')"
   ]
  },
  {
   "cell_type": "code",
   "execution_count": 12,
   "metadata": {},
   "outputs": [
    {
     "data": {
      "text/html": [
       "<div>\n",
       "<style scoped>\n",
       "    .dataframe tbody tr th:only-of-type {\n",
       "        vertical-align: middle;\n",
       "    }\n",
       "\n",
       "    .dataframe tbody tr th {\n",
       "        vertical-align: top;\n",
       "    }\n",
       "\n",
       "    .dataframe thead th {\n",
       "        text-align: right;\n",
       "    }\n",
       "</style>\n",
       "<table border=\"1\" class=\"dataframe\">\n",
       "  <thead>\n",
       "    <tr style=\"text-align: right;\">\n",
       "      <th></th>\n",
       "      <th>ID</th>\n",
       "      <th>Overall_Experience</th>\n",
       "      <th>Seat_comfort</th>\n",
       "      <th>Seat_Class</th>\n",
       "      <th>Arrival_time_convenient</th>\n",
       "      <th>Catering</th>\n",
       "      <th>Platform_location</th>\n",
       "      <th>Onboardwifi_service</th>\n",
       "      <th>Onboard_entertainment</th>\n",
       "      <th>Online_support</th>\n",
       "      <th>...</th>\n",
       "      <th>Cleanliness</th>\n",
       "      <th>Online_boarding</th>\n",
       "      <th>Gender</th>\n",
       "      <th>CustomerType</th>\n",
       "      <th>Age</th>\n",
       "      <th>TypeTravel</th>\n",
       "      <th>Travel_Class</th>\n",
       "      <th>Travel_Distance</th>\n",
       "      <th>DepartureDelay_in_Mins</th>\n",
       "      <th>ArrivalDelay_in_Mins</th>\n",
       "    </tr>\n",
       "  </thead>\n",
       "  <tbody>\n",
       "    <tr>\n",
       "      <th>0</th>\n",
       "      <td>98800001</td>\n",
       "      <td>0</td>\n",
       "      <td>need improvement</td>\n",
       "      <td>Green Car</td>\n",
       "      <td>excellent</td>\n",
       "      <td>excellent</td>\n",
       "      <td>very convinient</td>\n",
       "      <td>good</td>\n",
       "      <td>need improvement</td>\n",
       "      <td>acceptable</td>\n",
       "      <td>...</td>\n",
       "      <td>need improvement</td>\n",
       "      <td>poor</td>\n",
       "      <td>Female</td>\n",
       "      <td>Loyal Customer</td>\n",
       "      <td>52.0</td>\n",
       "      <td>NaN</td>\n",
       "      <td>Business</td>\n",
       "      <td>272</td>\n",
       "      <td>0.0</td>\n",
       "      <td>5.0</td>\n",
       "    </tr>\n",
       "    <tr>\n",
       "      <th>1</th>\n",
       "      <td>98800002</td>\n",
       "      <td>0</td>\n",
       "      <td>poor</td>\n",
       "      <td>Ordinary</td>\n",
       "      <td>excellent</td>\n",
       "      <td>poor</td>\n",
       "      <td>need improvement</td>\n",
       "      <td>good</td>\n",
       "      <td>poor</td>\n",
       "      <td>good</td>\n",
       "      <td>...</td>\n",
       "      <td>good</td>\n",
       "      <td>good</td>\n",
       "      <td>Male</td>\n",
       "      <td>Loyal Customer</td>\n",
       "      <td>48.0</td>\n",
       "      <td>Personal Travel</td>\n",
       "      <td>Eco</td>\n",
       "      <td>2200</td>\n",
       "      <td>9.0</td>\n",
       "      <td>0.0</td>\n",
       "    </tr>\n",
       "    <tr>\n",
       "      <th>2</th>\n",
       "      <td>98800003</td>\n",
       "      <td>1</td>\n",
       "      <td>need improvement</td>\n",
       "      <td>Green Car</td>\n",
       "      <td>need improvement</td>\n",
       "      <td>need improvement</td>\n",
       "      <td>need improvement</td>\n",
       "      <td>need improvement</td>\n",
       "      <td>good</td>\n",
       "      <td>excellent</td>\n",
       "      <td>...</td>\n",
       "      <td>excellent</td>\n",
       "      <td>excellent</td>\n",
       "      <td>Female</td>\n",
       "      <td>Loyal Customer</td>\n",
       "      <td>43.0</td>\n",
       "      <td>Business travel</td>\n",
       "      <td>Business</td>\n",
       "      <td>1061</td>\n",
       "      <td>77.0</td>\n",
       "      <td>119.0</td>\n",
       "    </tr>\n",
       "    <tr>\n",
       "      <th>3</th>\n",
       "      <td>98800004</td>\n",
       "      <td>0</td>\n",
       "      <td>acceptable</td>\n",
       "      <td>Ordinary</td>\n",
       "      <td>need improvement</td>\n",
       "      <td>NaN</td>\n",
       "      <td>need improvement</td>\n",
       "      <td>acceptable</td>\n",
       "      <td>need improvement</td>\n",
       "      <td>acceptable</td>\n",
       "      <td>...</td>\n",
       "      <td>acceptable</td>\n",
       "      <td>acceptable</td>\n",
       "      <td>Female</td>\n",
       "      <td>Loyal Customer</td>\n",
       "      <td>44.0</td>\n",
       "      <td>Business travel</td>\n",
       "      <td>Business</td>\n",
       "      <td>780</td>\n",
       "      <td>13.0</td>\n",
       "      <td>18.0</td>\n",
       "    </tr>\n",
       "    <tr>\n",
       "      <th>4</th>\n",
       "      <td>98800005</td>\n",
       "      <td>1</td>\n",
       "      <td>acceptable</td>\n",
       "      <td>Ordinary</td>\n",
       "      <td>acceptable</td>\n",
       "      <td>acceptable</td>\n",
       "      <td>manageable</td>\n",
       "      <td>need improvement</td>\n",
       "      <td>good</td>\n",
       "      <td>excellent</td>\n",
       "      <td>...</td>\n",
       "      <td>good</td>\n",
       "      <td>good</td>\n",
       "      <td>Female</td>\n",
       "      <td>Loyal Customer</td>\n",
       "      <td>50.0</td>\n",
       "      <td>Business travel</td>\n",
       "      <td>Business</td>\n",
       "      <td>1981</td>\n",
       "      <td>0.0</td>\n",
       "      <td>0.0</td>\n",
       "    </tr>\n",
       "  </tbody>\n",
       "</table>\n",
       "<p>5 rows × 25 columns</p>\n",
       "</div>"
      ],
      "text/plain": [
       "         ID  Overall_Experience      Seat_comfort Seat_Class  \\\n",
       "0  98800001                   0  need improvement  Green Car   \n",
       "1  98800002                   0              poor   Ordinary   \n",
       "2  98800003                   1  need improvement  Green Car   \n",
       "3  98800004                   0        acceptable   Ordinary   \n",
       "4  98800005                   1        acceptable   Ordinary   \n",
       "\n",
       "  Arrival_time_convenient          Catering Platform_location  \\\n",
       "0               excellent         excellent   very convinient   \n",
       "1               excellent              poor  need improvement   \n",
       "2        need improvement  need improvement  need improvement   \n",
       "3        need improvement               NaN  need improvement   \n",
       "4              acceptable        acceptable        manageable   \n",
       "\n",
       "  Onboardwifi_service Onboard_entertainment Online_support  ...  \\\n",
       "0                good      need improvement     acceptable  ...   \n",
       "1                good                  poor           good  ...   \n",
       "2    need improvement                  good      excellent  ...   \n",
       "3          acceptable      need improvement     acceptable  ...   \n",
       "4    need improvement                  good      excellent  ...   \n",
       "\n",
       "        Cleanliness Online_boarding  Gender    CustomerType   Age  \\\n",
       "0  need improvement            poor  Female  Loyal Customer  52.0   \n",
       "1              good            good    Male  Loyal Customer  48.0   \n",
       "2         excellent       excellent  Female  Loyal Customer  43.0   \n",
       "3        acceptable      acceptable  Female  Loyal Customer  44.0   \n",
       "4              good            good  Female  Loyal Customer  50.0   \n",
       "\n",
       "        TypeTravel Travel_Class Travel_Distance DepartureDelay_in_Mins  \\\n",
       "0              NaN     Business             272                    0.0   \n",
       "1  Personal Travel          Eco            2200                    9.0   \n",
       "2  Business travel     Business            1061                   77.0   \n",
       "3  Business travel     Business             780                   13.0   \n",
       "4  Business travel     Business            1981                    0.0   \n",
       "\n",
       "   ArrivalDelay_in_Mins  \n",
       "0                   5.0  \n",
       "1                   0.0  \n",
       "2                 119.0  \n",
       "3                  18.0  \n",
       "4                   0.0  \n",
       "\n",
       "[5 rows x 25 columns]"
      ]
     },
     "metadata": {},
     "output_type": "display_data"
    },
    {
     "data": {
      "text/html": [
       "<div>\n",
       "<style scoped>\n",
       "    .dataframe tbody tr th:only-of-type {\n",
       "        vertical-align: middle;\n",
       "    }\n",
       "\n",
       "    .dataframe tbody tr th {\n",
       "        vertical-align: top;\n",
       "    }\n",
       "\n",
       "    .dataframe thead th {\n",
       "        text-align: right;\n",
       "    }\n",
       "</style>\n",
       "<table border=\"1\" class=\"dataframe\">\n",
       "  <thead>\n",
       "    <tr style=\"text-align: right;\">\n",
       "      <th></th>\n",
       "      <th>ID</th>\n",
       "      <th>Seat_comfort</th>\n",
       "      <th>Seat_Class</th>\n",
       "      <th>Arrival_time_convenient</th>\n",
       "      <th>Catering</th>\n",
       "      <th>Platform_location</th>\n",
       "      <th>Onboardwifi_service</th>\n",
       "      <th>Onboard_entertainment</th>\n",
       "      <th>Online_support</th>\n",
       "      <th>Onlinebooking_Ease</th>\n",
       "      <th>...</th>\n",
       "      <th>Cleanliness</th>\n",
       "      <th>Online_boarding</th>\n",
       "      <th>Gender</th>\n",
       "      <th>CustomerType</th>\n",
       "      <th>Age</th>\n",
       "      <th>TypeTravel</th>\n",
       "      <th>Travel_Class</th>\n",
       "      <th>Travel_Distance</th>\n",
       "      <th>DepartureDelay_in_Mins</th>\n",
       "      <th>ArrivalDelay_in_Mins</th>\n",
       "    </tr>\n",
       "  </thead>\n",
       "  <tbody>\n",
       "    <tr>\n",
       "      <th>0</th>\n",
       "      <td>99900001</td>\n",
       "      <td>acceptable</td>\n",
       "      <td>Green Car</td>\n",
       "      <td>acceptable</td>\n",
       "      <td>acceptable</td>\n",
       "      <td>manageable</td>\n",
       "      <td>need improvement</td>\n",
       "      <td>excellent</td>\n",
       "      <td>good</td>\n",
       "      <td>excellent</td>\n",
       "      <td>...</td>\n",
       "      <td>excellent</td>\n",
       "      <td>poor</td>\n",
       "      <td>Female</td>\n",
       "      <td>NaN</td>\n",
       "      <td>36.0</td>\n",
       "      <td>Business travel</td>\n",
       "      <td>Business</td>\n",
       "      <td>532</td>\n",
       "      <td>0.0</td>\n",
       "      <td>0.0</td>\n",
       "    </tr>\n",
       "    <tr>\n",
       "      <th>1</th>\n",
       "      <td>99900002</td>\n",
       "      <td>extremely poor</td>\n",
       "      <td>Ordinary</td>\n",
       "      <td>good</td>\n",
       "      <td>poor</td>\n",
       "      <td>manageable</td>\n",
       "      <td>acceptable</td>\n",
       "      <td>poor</td>\n",
       "      <td>acceptable</td>\n",
       "      <td>acceptable</td>\n",
       "      <td>...</td>\n",
       "      <td>excellent</td>\n",
       "      <td>acceptable</td>\n",
       "      <td>Female</td>\n",
       "      <td>disloyal Customer</td>\n",
       "      <td>21.0</td>\n",
       "      <td>Business travel</td>\n",
       "      <td>Business</td>\n",
       "      <td>1425</td>\n",
       "      <td>9.0</td>\n",
       "      <td>28.0</td>\n",
       "    </tr>\n",
       "    <tr>\n",
       "      <th>2</th>\n",
       "      <td>99900003</td>\n",
       "      <td>excellent</td>\n",
       "      <td>Ordinary</td>\n",
       "      <td>excellent</td>\n",
       "      <td>excellent</td>\n",
       "      <td>very convinient</td>\n",
       "      <td>excellent</td>\n",
       "      <td>excellent</td>\n",
       "      <td>excellent</td>\n",
       "      <td>need improvement</td>\n",
       "      <td>...</td>\n",
       "      <td>need improvement</td>\n",
       "      <td>excellent</td>\n",
       "      <td>Male</td>\n",
       "      <td>Loyal Customer</td>\n",
       "      <td>60.0</td>\n",
       "      <td>Business travel</td>\n",
       "      <td>Business</td>\n",
       "      <td>2832</td>\n",
       "      <td>0.0</td>\n",
       "      <td>0.0</td>\n",
       "    </tr>\n",
       "    <tr>\n",
       "      <th>3</th>\n",
       "      <td>99900004</td>\n",
       "      <td>acceptable</td>\n",
       "      <td>Green Car</td>\n",
       "      <td>excellent</td>\n",
       "      <td>acceptable</td>\n",
       "      <td>very convinient</td>\n",
       "      <td>poor</td>\n",
       "      <td>acceptable</td>\n",
       "      <td>excellent</td>\n",
       "      <td>poor</td>\n",
       "      <td>...</td>\n",
       "      <td>excellent</td>\n",
       "      <td>poor</td>\n",
       "      <td>Female</td>\n",
       "      <td>Loyal Customer</td>\n",
       "      <td>29.0</td>\n",
       "      <td>Personal Travel</td>\n",
       "      <td>Eco</td>\n",
       "      <td>1352</td>\n",
       "      <td>0.0</td>\n",
       "      <td>0.0</td>\n",
       "    </tr>\n",
       "    <tr>\n",
       "      <th>4</th>\n",
       "      <td>99900005</td>\n",
       "      <td>excellent</td>\n",
       "      <td>Ordinary</td>\n",
       "      <td>extremely poor</td>\n",
       "      <td>excellent</td>\n",
       "      <td>need improvement</td>\n",
       "      <td>excellent</td>\n",
       "      <td>excellent</td>\n",
       "      <td>excellent</td>\n",
       "      <td>excellent</td>\n",
       "      <td>...</td>\n",
       "      <td>excellent</td>\n",
       "      <td>excellent</td>\n",
       "      <td>Male</td>\n",
       "      <td>disloyal Customer</td>\n",
       "      <td>18.0</td>\n",
       "      <td>Business travel</td>\n",
       "      <td>Business</td>\n",
       "      <td>1610</td>\n",
       "      <td>17.0</td>\n",
       "      <td>0.0</td>\n",
       "    </tr>\n",
       "  </tbody>\n",
       "</table>\n",
       "<p>5 rows × 24 columns</p>\n",
       "</div>"
      ],
      "text/plain": [
       "         ID    Seat_comfort Seat_Class Arrival_time_convenient    Catering  \\\n",
       "0  99900001      acceptable  Green Car              acceptable  acceptable   \n",
       "1  99900002  extremely poor   Ordinary                    good        poor   \n",
       "2  99900003       excellent   Ordinary               excellent   excellent   \n",
       "3  99900004      acceptable  Green Car               excellent  acceptable   \n",
       "4  99900005       excellent   Ordinary          extremely poor   excellent   \n",
       "\n",
       "  Platform_location Onboardwifi_service Onboard_entertainment Online_support  \\\n",
       "0        manageable    need improvement             excellent           good   \n",
       "1        manageable          acceptable                  poor     acceptable   \n",
       "2   very convinient           excellent             excellent      excellent   \n",
       "3   very convinient                poor            acceptable      excellent   \n",
       "4  need improvement           excellent             excellent      excellent   \n",
       "\n",
       "  Onlinebooking_Ease  ...       Cleanliness Online_boarding  Gender  \\\n",
       "0          excellent  ...         excellent            poor  Female   \n",
       "1         acceptable  ...         excellent      acceptable  Female   \n",
       "2   need improvement  ...  need improvement       excellent    Male   \n",
       "3               poor  ...         excellent            poor  Female   \n",
       "4          excellent  ...         excellent       excellent    Male   \n",
       "\n",
       "        CustomerType   Age       TypeTravel Travel_Class Travel_Distance  \\\n",
       "0                NaN  36.0  Business travel     Business             532   \n",
       "1  disloyal Customer  21.0  Business travel     Business            1425   \n",
       "2     Loyal Customer  60.0  Business travel     Business            2832   \n",
       "3     Loyal Customer  29.0  Personal Travel          Eco            1352   \n",
       "4  disloyal Customer  18.0  Business travel     Business            1610   \n",
       "\n",
       "   DepartureDelay_in_Mins ArrivalDelay_in_Mins  \n",
       "0                     0.0                  0.0  \n",
       "1                     9.0                 28.0  \n",
       "2                     0.0                  0.0  \n",
       "3                     0.0                  0.0  \n",
       "4                    17.0                  0.0  \n",
       "\n",
       "[5 rows x 24 columns]"
      ]
     },
     "metadata": {},
     "output_type": "display_data"
    }
   ],
   "source": [
    "display(df.head())\n",
    "display(df_test.head())"
   ]
  },
  {
   "cell_type": "code",
   "execution_count": 13,
   "metadata": {},
   "outputs": [
    {
     "data": {
      "text/plain": [
       "'Train'"
      ]
     },
     "metadata": {},
     "output_type": "display_data"
    },
    {
     "data": {
      "text/plain": [
       "(94379, 25)"
      ]
     },
     "metadata": {},
     "output_type": "display_data"
    },
    {
     "data": {
      "text/plain": [
       "'Test'"
      ]
     },
     "metadata": {},
     "output_type": "display_data"
    },
    {
     "data": {
      "text/plain": [
       "(35602, 24)"
      ]
     },
     "metadata": {},
     "output_type": "display_data"
    }
   ],
   "source": [
    "display(\"Train\", df.shape)\n",
    "display(\"Test\", df_test.shape)"
   ]
  },
  {
   "cell_type": "code",
   "execution_count": 14,
   "metadata": {},
   "outputs": [
    {
     "name": "stdout",
     "output_type": "stream",
     "text": [
      "1    51593\n",
      "0    42786\n",
      "Name: Overall_Experience, dtype: int64\n"
     ]
    },
    {
     "data": {
      "text/plain": [
       "1    0.546658\n",
       "0    0.453342\n",
       "Name: Overall_Experience, dtype: float64"
      ]
     },
     "execution_count": 14,
     "metadata": {},
     "output_type": "execute_result"
    }
   ],
   "source": [
    "print(df.Overall_Experience.value_counts())\n",
    "df.Overall_Experience.value_counts(normalize=True) "
   ]
  },
  {
   "cell_type": "code",
   "execution_count": 18,
   "metadata": {},
   "outputs": [
    {
     "name": "stdout",
     "output_type": "stream",
     "text": [
      "<class 'pandas.core.frame.DataFrame'>\n",
      "Int64Index: 94379 entries, 0 to 94378\n",
      "Data columns (total 25 columns):\n",
      " #   Column                   Non-Null Count  Dtype  \n",
      "---  ------                   --------------  -----  \n",
      " 0   ID                       94379 non-null  int64  \n",
      " 1   Overall_Experience       94379 non-null  int64  \n",
      " 2   Seat_comfort             94318 non-null  object \n",
      " 3   Seat_Class               94379 non-null  object \n",
      " 4   Arrival_time_convenient  85449 non-null  object \n",
      " 5   Catering                 85638 non-null  object \n",
      " 6   Platform_location        94349 non-null  object \n",
      " 7   Onboardwifi_service      94349 non-null  object \n",
      " 8   Onboard_entertainment    94361 non-null  object \n",
      " 9   Online_support           94288 non-null  object \n",
      " 10  Onlinebooking_Ease       94306 non-null  object \n",
      " 11  Onboard_service          86778 non-null  object \n",
      " 12  Leg_room                 94289 non-null  object \n",
      " 13  Baggage_handling         94237 non-null  object \n",
      " 14  Checkin_service          94302 non-null  object \n",
      " 15  Cleanliness              94373 non-null  object \n",
      " 16  Online_boarding          94373 non-null  object \n",
      " 17  Gender                   94302 non-null  object \n",
      " 18  CustomerType             85428 non-null  object \n",
      " 19  Age                      94346 non-null  float64\n",
      " 20  TypeTravel               85153 non-null  object \n",
      " 21  Travel_Class             94379 non-null  object \n",
      " 22  Travel_Distance          94379 non-null  int64  \n",
      " 23  DepartureDelay_in_Mins   94322 non-null  float64\n",
      " 24  ArrivalDelay_in_Mins     94022 non-null  float64\n",
      "dtypes: float64(3), int64(3), object(19)\n",
      "memory usage: 18.7+ MB\n"
     ]
    }
   ],
   "source": [
    "df.info()"
   ]
  },
  {
   "cell_type": "code",
   "execution_count": 1250,
   "metadata": {},
   "outputs": [
    {
     "data": {
      "text/html": [
       "<div>\n",
       "<style scoped>\n",
       "    .dataframe tbody tr th:only-of-type {\n",
       "        vertical-align: middle;\n",
       "    }\n",
       "\n",
       "    .dataframe tbody tr th {\n",
       "        vertical-align: top;\n",
       "    }\n",
       "\n",
       "    .dataframe thead th {\n",
       "        text-align: right;\n",
       "    }\n",
       "</style>\n",
       "<table border=\"1\" class=\"dataframe\">\n",
       "  <thead>\n",
       "    <tr style=\"text-align: right;\">\n",
       "      <th></th>\n",
       "      <th>ID</th>\n",
       "      <th>Overall_Experience</th>\n",
       "      <th>Seat_comfort</th>\n",
       "      <th>Seat_Class</th>\n",
       "      <th>Arrival_time_convenient</th>\n",
       "      <th>Catering</th>\n",
       "      <th>Platform_location</th>\n",
       "      <th>Onboardwifi_service</th>\n",
       "      <th>Onboard_entertainment</th>\n",
       "      <th>Online_support</th>\n",
       "      <th>...</th>\n",
       "      <th>Cleanliness</th>\n",
       "      <th>Online_boarding</th>\n",
       "      <th>Gender</th>\n",
       "      <th>CustomerType</th>\n",
       "      <th>Age</th>\n",
       "      <th>TypeTravel</th>\n",
       "      <th>Travel_Class</th>\n",
       "      <th>Travel_Distance</th>\n",
       "      <th>DepartureDelay_in_Mins</th>\n",
       "      <th>ArrivalDelay_in_Mins</th>\n",
       "    </tr>\n",
       "  </thead>\n",
       "  <tbody>\n",
       "    <tr>\n",
       "      <th>count</th>\n",
       "      <td>9.437900e+04</td>\n",
       "      <td>94379.000000</td>\n",
       "      <td>94318</td>\n",
       "      <td>94379</td>\n",
       "      <td>85449</td>\n",
       "      <td>85638</td>\n",
       "      <td>94349</td>\n",
       "      <td>94349</td>\n",
       "      <td>94361</td>\n",
       "      <td>94288</td>\n",
       "      <td>...</td>\n",
       "      <td>94373</td>\n",
       "      <td>94373</td>\n",
       "      <td>94302</td>\n",
       "      <td>85428</td>\n",
       "      <td>94346.000000</td>\n",
       "      <td>85153</td>\n",
       "      <td>94379</td>\n",
       "      <td>94379.000000</td>\n",
       "      <td>94322.000000</td>\n",
       "      <td>94022.000000</td>\n",
       "    </tr>\n",
       "    <tr>\n",
       "      <th>unique</th>\n",
       "      <td>NaN</td>\n",
       "      <td>NaN</td>\n",
       "      <td>6</td>\n",
       "      <td>2</td>\n",
       "      <td>6</td>\n",
       "      <td>6</td>\n",
       "      <td>6</td>\n",
       "      <td>6</td>\n",
       "      <td>6</td>\n",
       "      <td>6</td>\n",
       "      <td>...</td>\n",
       "      <td>6</td>\n",
       "      <td>6</td>\n",
       "      <td>2</td>\n",
       "      <td>2</td>\n",
       "      <td>NaN</td>\n",
       "      <td>2</td>\n",
       "      <td>2</td>\n",
       "      <td>NaN</td>\n",
       "      <td>NaN</td>\n",
       "      <td>NaN</td>\n",
       "    </tr>\n",
       "    <tr>\n",
       "      <th>top</th>\n",
       "      <td>NaN</td>\n",
       "      <td>NaN</td>\n",
       "      <td>acceptable</td>\n",
       "      <td>Green Car</td>\n",
       "      <td>good</td>\n",
       "      <td>acceptable</td>\n",
       "      <td>manageable</td>\n",
       "      <td>good</td>\n",
       "      <td>good</td>\n",
       "      <td>good</td>\n",
       "      <td>...</td>\n",
       "      <td>good</td>\n",
       "      <td>good</td>\n",
       "      <td>Female</td>\n",
       "      <td>Loyal Customer</td>\n",
       "      <td>NaN</td>\n",
       "      <td>Business travel</td>\n",
       "      <td>Eco</td>\n",
       "      <td>NaN</td>\n",
       "      <td>NaN</td>\n",
       "      <td>NaN</td>\n",
       "    </tr>\n",
       "    <tr>\n",
       "      <th>freq</th>\n",
       "      <td>NaN</td>\n",
       "      <td>NaN</td>\n",
       "      <td>21158</td>\n",
       "      <td>47435</td>\n",
       "      <td>19574</td>\n",
       "      <td>18468</td>\n",
       "      <td>24173</td>\n",
       "      <td>22835</td>\n",
       "      <td>30446</td>\n",
       "      <td>30016</td>\n",
       "      <td>...</td>\n",
       "      <td>35427</td>\n",
       "      <td>25533</td>\n",
       "      <td>47815</td>\n",
       "      <td>69823</td>\n",
       "      <td>NaN</td>\n",
       "      <td>58617</td>\n",
       "      <td>49342</td>\n",
       "      <td>NaN</td>\n",
       "      <td>NaN</td>\n",
       "      <td>NaN</td>\n",
       "    </tr>\n",
       "    <tr>\n",
       "      <th>mean</th>\n",
       "      <td>9.884719e+07</td>\n",
       "      <td>0.546658</td>\n",
       "      <td>NaN</td>\n",
       "      <td>NaN</td>\n",
       "      <td>NaN</td>\n",
       "      <td>NaN</td>\n",
       "      <td>NaN</td>\n",
       "      <td>NaN</td>\n",
       "      <td>NaN</td>\n",
       "      <td>NaN</td>\n",
       "      <td>...</td>\n",
       "      <td>NaN</td>\n",
       "      <td>NaN</td>\n",
       "      <td>NaN</td>\n",
       "      <td>NaN</td>\n",
       "      <td>39.419647</td>\n",
       "      <td>NaN</td>\n",
       "      <td>NaN</td>\n",
       "      <td>1978.888185</td>\n",
       "      <td>14.647092</td>\n",
       "      <td>15.005222</td>\n",
       "    </tr>\n",
       "    <tr>\n",
       "      <th>std</th>\n",
       "      <td>2.724501e+04</td>\n",
       "      <td>0.497821</td>\n",
       "      <td>NaN</td>\n",
       "      <td>NaN</td>\n",
       "      <td>NaN</td>\n",
       "      <td>NaN</td>\n",
       "      <td>NaN</td>\n",
       "      <td>NaN</td>\n",
       "      <td>NaN</td>\n",
       "      <td>NaN</td>\n",
       "      <td>...</td>\n",
       "      <td>NaN</td>\n",
       "      <td>NaN</td>\n",
       "      <td>NaN</td>\n",
       "      <td>NaN</td>\n",
       "      <td>15.116632</td>\n",
       "      <td>NaN</td>\n",
       "      <td>NaN</td>\n",
       "      <td>1027.961019</td>\n",
       "      <td>38.138781</td>\n",
       "      <td>38.439409</td>\n",
       "    </tr>\n",
       "    <tr>\n",
       "      <th>min</th>\n",
       "      <td>9.880000e+07</td>\n",
       "      <td>0.000000</td>\n",
       "      <td>NaN</td>\n",
       "      <td>NaN</td>\n",
       "      <td>NaN</td>\n",
       "      <td>NaN</td>\n",
       "      <td>NaN</td>\n",
       "      <td>NaN</td>\n",
       "      <td>NaN</td>\n",
       "      <td>NaN</td>\n",
       "      <td>...</td>\n",
       "      <td>NaN</td>\n",
       "      <td>NaN</td>\n",
       "      <td>NaN</td>\n",
       "      <td>NaN</td>\n",
       "      <td>7.000000</td>\n",
       "      <td>NaN</td>\n",
       "      <td>NaN</td>\n",
       "      <td>50.000000</td>\n",
       "      <td>0.000000</td>\n",
       "      <td>0.000000</td>\n",
       "    </tr>\n",
       "    <tr>\n",
       "      <th>25%</th>\n",
       "      <td>9.882360e+07</td>\n",
       "      <td>0.000000</td>\n",
       "      <td>NaN</td>\n",
       "      <td>NaN</td>\n",
       "      <td>NaN</td>\n",
       "      <td>NaN</td>\n",
       "      <td>NaN</td>\n",
       "      <td>NaN</td>\n",
       "      <td>NaN</td>\n",
       "      <td>NaN</td>\n",
       "      <td>...</td>\n",
       "      <td>NaN</td>\n",
       "      <td>NaN</td>\n",
       "      <td>NaN</td>\n",
       "      <td>NaN</td>\n",
       "      <td>27.000000</td>\n",
       "      <td>NaN</td>\n",
       "      <td>NaN</td>\n",
       "      <td>1359.000000</td>\n",
       "      <td>0.000000</td>\n",
       "      <td>0.000000</td>\n",
       "    </tr>\n",
       "    <tr>\n",
       "      <th>50%</th>\n",
       "      <td>9.884719e+07</td>\n",
       "      <td>1.000000</td>\n",
       "      <td>NaN</td>\n",
       "      <td>NaN</td>\n",
       "      <td>NaN</td>\n",
       "      <td>NaN</td>\n",
       "      <td>NaN</td>\n",
       "      <td>NaN</td>\n",
       "      <td>NaN</td>\n",
       "      <td>NaN</td>\n",
       "      <td>...</td>\n",
       "      <td>NaN</td>\n",
       "      <td>NaN</td>\n",
       "      <td>NaN</td>\n",
       "      <td>NaN</td>\n",
       "      <td>40.000000</td>\n",
       "      <td>NaN</td>\n",
       "      <td>NaN</td>\n",
       "      <td>1923.000000</td>\n",
       "      <td>0.000000</td>\n",
       "      <td>0.000000</td>\n",
       "    </tr>\n",
       "    <tr>\n",
       "      <th>75%</th>\n",
       "      <td>9.887078e+07</td>\n",
       "      <td>1.000000</td>\n",
       "      <td>NaN</td>\n",
       "      <td>NaN</td>\n",
       "      <td>NaN</td>\n",
       "      <td>NaN</td>\n",
       "      <td>NaN</td>\n",
       "      <td>NaN</td>\n",
       "      <td>NaN</td>\n",
       "      <td>NaN</td>\n",
       "      <td>...</td>\n",
       "      <td>NaN</td>\n",
       "      <td>NaN</td>\n",
       "      <td>NaN</td>\n",
       "      <td>NaN</td>\n",
       "      <td>51.000000</td>\n",
       "      <td>NaN</td>\n",
       "      <td>NaN</td>\n",
       "      <td>2538.000000</td>\n",
       "      <td>12.000000</td>\n",
       "      <td>13.000000</td>\n",
       "    </tr>\n",
       "    <tr>\n",
       "      <th>max</th>\n",
       "      <td>9.889438e+07</td>\n",
       "      <td>1.000000</td>\n",
       "      <td>NaN</td>\n",
       "      <td>NaN</td>\n",
       "      <td>NaN</td>\n",
       "      <td>NaN</td>\n",
       "      <td>NaN</td>\n",
       "      <td>NaN</td>\n",
       "      <td>NaN</td>\n",
       "      <td>NaN</td>\n",
       "      <td>...</td>\n",
       "      <td>NaN</td>\n",
       "      <td>NaN</td>\n",
       "      <td>NaN</td>\n",
       "      <td>NaN</td>\n",
       "      <td>85.000000</td>\n",
       "      <td>NaN</td>\n",
       "      <td>NaN</td>\n",
       "      <td>6951.000000</td>\n",
       "      <td>1592.000000</td>\n",
       "      <td>1584.000000</td>\n",
       "    </tr>\n",
       "  </tbody>\n",
       "</table>\n",
       "<p>11 rows × 25 columns</p>\n",
       "</div>"
      ],
      "text/plain": [
       "                  ID  Overall_Experience Seat_comfort Seat_Class  \\\n",
       "count   9.437900e+04        94379.000000        94318      94379   \n",
       "unique           NaN                 NaN            6          2   \n",
       "top              NaN                 NaN   acceptable  Green Car   \n",
       "freq             NaN                 NaN        21158      47435   \n",
       "mean    9.884719e+07            0.546658          NaN        NaN   \n",
       "std     2.724501e+04            0.497821          NaN        NaN   \n",
       "min     9.880000e+07            0.000000          NaN        NaN   \n",
       "25%     9.882360e+07            0.000000          NaN        NaN   \n",
       "50%     9.884719e+07            1.000000          NaN        NaN   \n",
       "75%     9.887078e+07            1.000000          NaN        NaN   \n",
       "max     9.889438e+07            1.000000          NaN        NaN   \n",
       "\n",
       "       Arrival_time_convenient    Catering Platform_location  \\\n",
       "count                    85449       85638             94349   \n",
       "unique                       6           6                 6   \n",
       "top                       good  acceptable        manageable   \n",
       "freq                     19574       18468             24173   \n",
       "mean                       NaN         NaN               NaN   \n",
       "std                        NaN         NaN               NaN   \n",
       "min                        NaN         NaN               NaN   \n",
       "25%                        NaN         NaN               NaN   \n",
       "50%                        NaN         NaN               NaN   \n",
       "75%                        NaN         NaN               NaN   \n",
       "max                        NaN         NaN               NaN   \n",
       "\n",
       "       Onboardwifi_service Onboard_entertainment Online_support  ...  \\\n",
       "count                94349                 94361          94288  ...   \n",
       "unique                   6                     6              6  ...   \n",
       "top                   good                  good           good  ...   \n",
       "freq                 22835                 30446          30016  ...   \n",
       "mean                   NaN                   NaN            NaN  ...   \n",
       "std                    NaN                   NaN            NaN  ...   \n",
       "min                    NaN                   NaN            NaN  ...   \n",
       "25%                    NaN                   NaN            NaN  ...   \n",
       "50%                    NaN                   NaN            NaN  ...   \n",
       "75%                    NaN                   NaN            NaN  ...   \n",
       "max                    NaN                   NaN            NaN  ...   \n",
       "\n",
       "       Cleanliness Online_boarding  Gender    CustomerType           Age  \\\n",
       "count        94373           94373   94302           85428  94346.000000   \n",
       "unique           6               6       2               2           NaN   \n",
       "top           good            good  Female  Loyal Customer           NaN   \n",
       "freq         35427           25533   47815           69823           NaN   \n",
       "mean           NaN             NaN     NaN             NaN     39.419647   \n",
       "std            NaN             NaN     NaN             NaN     15.116632   \n",
       "min            NaN             NaN     NaN             NaN      7.000000   \n",
       "25%            NaN             NaN     NaN             NaN     27.000000   \n",
       "50%            NaN             NaN     NaN             NaN     40.000000   \n",
       "75%            NaN             NaN     NaN             NaN     51.000000   \n",
       "max            NaN             NaN     NaN             NaN     85.000000   \n",
       "\n",
       "             TypeTravel Travel_Class Travel_Distance DepartureDelay_in_Mins  \\\n",
       "count             85153        94379    94379.000000           94322.000000   \n",
       "unique                2            2             NaN                    NaN   \n",
       "top     Business travel          Eco             NaN                    NaN   \n",
       "freq              58617        49342             NaN                    NaN   \n",
       "mean                NaN          NaN     1978.888185              14.647092   \n",
       "std                 NaN          NaN     1027.961019              38.138781   \n",
       "min                 NaN          NaN       50.000000               0.000000   \n",
       "25%                 NaN          NaN     1359.000000               0.000000   \n",
       "50%                 NaN          NaN     1923.000000               0.000000   \n",
       "75%                 NaN          NaN     2538.000000              12.000000   \n",
       "max                 NaN          NaN     6951.000000            1592.000000   \n",
       "\n",
       "        ArrivalDelay_in_Mins  \n",
       "count           94022.000000  \n",
       "unique                   NaN  \n",
       "top                      NaN  \n",
       "freq                     NaN  \n",
       "mean               15.005222  \n",
       "std                38.439409  \n",
       "min                 0.000000  \n",
       "25%                 0.000000  \n",
       "50%                 0.000000  \n",
       "75%                13.000000  \n",
       "max              1584.000000  \n",
       "\n",
       "[11 rows x 25 columns]"
      ]
     },
     "metadata": {},
     "output_type": "display_data"
    }
   ],
   "source": [
    "display(df.describe(include = 'all'))"
   ]
  },
  {
   "cell_type": "code",
   "execution_count": 1251,
   "metadata": {},
   "outputs": [
    {
     "data": {
      "text/plain": [
       "'TRAIN DATASET'"
      ]
     },
     "metadata": {},
     "output_type": "display_data"
    },
    {
     "data": {
      "text/plain": [
       "ID                         94379\n",
       "Overall_Experience             2\n",
       "Seat_comfort                   6\n",
       "Seat_Class                     2\n",
       "Arrival_time_convenient        6\n",
       "Catering                       6\n",
       "Platform_location              6\n",
       "Onboardwifi_service            6\n",
       "Onboard_entertainment          6\n",
       "Online_support                 6\n",
       "Onlinebooking_Ease             6\n",
       "Onboard_service                6\n",
       "Leg_room                       6\n",
       "Baggage_handling               5\n",
       "Checkin_service                6\n",
       "Cleanliness                    6\n",
       "Online_boarding                6\n",
       "Gender                         2\n",
       "CustomerType                   2\n",
       "Age                           75\n",
       "TypeTravel                     2\n",
       "Travel_Class                   2\n",
       "Travel_Distance             5210\n",
       "DepartureDelay_in_Mins       437\n",
       "ArrivalDelay_in_Mins         434\n",
       "dtype: int64"
      ]
     },
     "metadata": {},
     "output_type": "display_data"
    },
    {
     "data": {
      "text/plain": [
       "'TEST DATASET'"
      ]
     },
     "metadata": {},
     "output_type": "display_data"
    },
    {
     "data": {
      "text/plain": [
       "ID                         35602\n",
       "Seat_comfort                   6\n",
       "Seat_Class                     2\n",
       "Arrival_time_convenient        6\n",
       "Catering                       6\n",
       "Platform_location              5\n",
       "Onboardwifi_service            6\n",
       "Onboard_entertainment          6\n",
       "Online_support                 5\n",
       "Onlinebooking_Ease             6\n",
       "Onboard_service                5\n",
       "Leg_room                       6\n",
       "Baggage_handling               5\n",
       "Checkin_service                5\n",
       "Cleanliness                    5\n",
       "Online_boarding                6\n",
       "Gender                         2\n",
       "CustomerType                   2\n",
       "Age                           75\n",
       "TypeTravel                     2\n",
       "Travel_Class                   2\n",
       "Travel_Distance             4644\n",
       "DepartureDelay_in_Mins       350\n",
       "ArrivalDelay_in_Mins         355\n",
       "dtype: int64"
      ]
     },
     "metadata": {},
     "output_type": "display_data"
    }
   ],
   "source": [
    "display(\"TRAIN DATASET\",df.nunique())\n",
    "display(\"TEST DATASET\",df_test.nunique())"
   ]
  },
  {
   "cell_type": "code",
   "execution_count": 1252,
   "metadata": {},
   "outputs": [
    {
     "data": {
      "text/plain": [
       "'TRAIN DATASET'"
      ]
     },
     "metadata": {},
     "output_type": "display_data"
    },
    {
     "data": {
      "text/plain": [
       "ID                            0\n",
       "Overall_Experience            0\n",
       "Seat_comfort                 61\n",
       "Seat_Class                    0\n",
       "Arrival_time_convenient    8930\n",
       "Catering                   8741\n",
       "Platform_location            30\n",
       "Onboardwifi_service          30\n",
       "Onboard_entertainment        18\n",
       "Online_support               91\n",
       "Onlinebooking_Ease           73\n",
       "Onboard_service            7601\n",
       "Leg_room                     90\n",
       "Baggage_handling            142\n",
       "Checkin_service              77\n",
       "Cleanliness                   6\n",
       "Online_boarding               6\n",
       "Gender                       77\n",
       "CustomerType               8951\n",
       "Age                          33\n",
       "TypeTravel                 9226\n",
       "Travel_Class                  0\n",
       "Travel_Distance               0\n",
       "DepartureDelay_in_Mins       57\n",
       "ArrivalDelay_in_Mins        357\n",
       "dtype: int64"
      ]
     },
     "metadata": {},
     "output_type": "display_data"
    },
    {
     "data": {
      "text/plain": [
       "'TEST DATASET'"
      ]
     },
     "metadata": {},
     "output_type": "display_data"
    },
    {
     "data": {
      "text/plain": [
       "ID                            0\n",
       "Seat_comfort                 22\n",
       "Seat_Class                    0\n",
       "Arrival_time_convenient    3325\n",
       "Catering                   3357\n",
       "Platform_location            12\n",
       "Onboardwifi_service          12\n",
       "Onboard_entertainment         8\n",
       "Online_support               26\n",
       "Onlinebooking_Ease           18\n",
       "Onboard_service            2872\n",
       "Leg_room                     25\n",
       "Baggage_handling             40\n",
       "Checkin_service              22\n",
       "Cleanliness                   2\n",
       "Online_boarding               2\n",
       "Gender                       30\n",
       "CustomerType               3383\n",
       "Age                          11\n",
       "TypeTravel                 3448\n",
       "Travel_Class                  0\n",
       "Travel_Distance               0\n",
       "DepartureDelay_in_Mins       29\n",
       "ArrivalDelay_in_Mins        123\n",
       "dtype: int64"
      ]
     },
     "metadata": {},
     "output_type": "display_data"
    }
   ],
   "source": [
    "display(\"TRAIN DATASET\",df.isnull().sum())\n",
    "display(\"TEST DATASET\",df_test.isnull().sum())"
   ]
  },
  {
   "cell_type": "code",
   "execution_count": 1253,
   "metadata": {},
   "outputs": [
    {
     "data": {
      "text/plain": [
       "'TRAIN DATASET'"
      ]
     },
     "metadata": {},
     "output_type": "display_data"
    },
    {
     "data": {
      "text/plain": [
       "ID                         0.000000\n",
       "Overall_Experience         0.000000\n",
       "Seat_comfort               0.064633\n",
       "Seat_Class                 0.000000\n",
       "Arrival_time_convenient    9.461851\n",
       "Catering                   9.261594\n",
       "Platform_location          0.031787\n",
       "Onboardwifi_service        0.031787\n",
       "Onboard_entertainment      0.019072\n",
       "Online_support             0.096420\n",
       "Onlinebooking_Ease         0.077348\n",
       "Onboard_service            8.053698\n",
       "Leg_room                   0.095360\n",
       "Baggage_handling           0.150457\n",
       "Checkin_service            0.081586\n",
       "Cleanliness                0.006357\n",
       "Online_boarding            0.006357\n",
       "Gender                     0.081586\n",
       "CustomerType               9.484101\n",
       "Age                        0.034965\n",
       "TypeTravel                 9.775480\n",
       "Travel_Class               0.000000\n",
       "Travel_Distance            0.000000\n",
       "DepartureDelay_in_Mins     0.060395\n",
       "ArrivalDelay_in_Mins       0.378262\n",
       "dtype: float64"
      ]
     },
     "metadata": {},
     "output_type": "display_data"
    },
    {
     "data": {
      "text/plain": [
       "'TEST DATASET'"
      ]
     },
     "metadata": {},
     "output_type": "display_data"
    },
    {
     "data": {
      "text/plain": [
       "ID                         0.000000\n",
       "Seat_comfort               0.061794\n",
       "Seat_Class                 0.000000\n",
       "Arrival_time_convenient    9.339363\n",
       "Catering                   9.429246\n",
       "Platform_location          0.033706\n",
       "Onboardwifi_service        0.033706\n",
       "Onboard_entertainment      0.022471\n",
       "Online_support             0.073030\n",
       "Onlinebooking_Ease         0.050559\n",
       "Onboard_service            8.066963\n",
       "Leg_room                   0.070221\n",
       "Baggage_handling           0.112353\n",
       "Checkin_service            0.061794\n",
       "Cleanliness                0.005618\n",
       "Online_boarding            0.005618\n",
       "Gender                     0.084265\n",
       "CustomerType               9.502275\n",
       "Age                        0.030897\n",
       "TypeTravel                 9.684849\n",
       "Travel_Class               0.000000\n",
       "Travel_Distance            0.000000\n",
       "DepartureDelay_in_Mins     0.081456\n",
       "ArrivalDelay_in_Mins       0.345486\n",
       "dtype: float64"
      ]
     },
     "metadata": {},
     "output_type": "display_data"
    }
   ],
   "source": [
    "display(\"TRAIN DATASET\",df.isnull().sum() / df.shape[0] * 100)\n",
    "display(\"TEST DATASET\",df_test.isnull().sum() / df_test.shape[0] * 100)"
   ]
  },
  {
   "cell_type": "code",
   "execution_count": 1254,
   "metadata": {},
   "outputs": [
    {
     "data": {
      "text/plain": [
       "'TRAIN'"
      ]
     },
     "metadata": {},
     "output_type": "display_data"
    },
    {
     "data": {
      "text/plain": [
       "acceptable          21158\n",
       "need improvement    20946\n",
       "good                20595\n",
       "poor                15185\n",
       "excellent           12971\n",
       "extremely poor       3463\n",
       "Name: Seat_comfort, dtype: int64"
      ]
     },
     "metadata": {},
     "output_type": "display_data"
    },
    {
     "data": {
      "text/plain": [
       "acceptable          0.224326\n",
       "need improvement    0.222079\n",
       "good                0.218357\n",
       "poor                0.160998\n",
       "excellent           0.137524\n",
       "extremely poor      0.036716\n",
       "Name: Seat_comfort, dtype: float64"
      ]
     },
     "metadata": {},
     "output_type": "display_data"
    },
    {
     "data": {
      "text/plain": [
       "'TEST'"
      ]
     },
     "metadata": {},
     "output_type": "display_data"
    },
    {
     "data": {
      "text/plain": [
       "acceptable          8003\n",
       "need improvement    7831\n",
       "good                7808\n",
       "poor                5755\n",
       "excellent           4854\n",
       "extremely poor      1329\n",
       "Name: Seat_comfort, dtype: int64"
      ]
     },
     "metadata": {},
     "output_type": "display_data"
    },
    {
     "data": {
      "text/plain": [
       "acceptable          0.224930\n",
       "need improvement    0.220096\n",
       "good                0.219449\n",
       "poor                0.161748\n",
       "excellent           0.136425\n",
       "extremely poor      0.037352\n",
       "Name: Seat_comfort, dtype: float64"
      ]
     },
     "metadata": {},
     "output_type": "display_data"
    }
   ],
   "source": [
    "display(\"TRAIN\",df.Seat_comfort.value_counts())\n",
    "display(df.Seat_comfort.value_counts(normalize=True)) \n",
    "#display(df.groupby(['Seat_comfort', 'Overall_Experience']).count()['ID'])\n",
    "display(\"TEST\",df_test.Seat_comfort.value_counts())\n",
    "display(df_test.Seat_comfort.value_counts(normalize=True))  "
   ]
  },
  {
   "cell_type": "code",
   "execution_count": 1255,
   "metadata": {},
   "outputs": [
    {
     "data": {
      "text/plain": [
       "'TRAIN'"
      ]
     },
     "metadata": {},
     "output_type": "display_data"
    },
    {
     "data": {
      "text/plain": [
       "Green Car    47435\n",
       "Ordinary     46944\n",
       "Name: Seat_Class, dtype: int64"
      ]
     },
     "metadata": {},
     "output_type": "display_data"
    },
    {
     "data": {
      "text/plain": [
       "Green Car    0.502601\n",
       "Ordinary     0.497399\n",
       "Name: Seat_Class, dtype: float64"
      ]
     },
     "metadata": {},
     "output_type": "display_data"
    },
    {
     "data": {
      "text/plain": [
       "'TEST'"
      ]
     },
     "metadata": {},
     "output_type": "display_data"
    },
    {
     "data": {
      "text/plain": [
       "Ordinary     17860\n",
       "Green Car    17742\n",
       "Name: Seat_Class, dtype: int64"
      ]
     },
     "metadata": {},
     "output_type": "display_data"
    },
    {
     "data": {
      "text/plain": [
       "Ordinary     0.501657\n",
       "Green Car    0.498343\n",
       "Name: Seat_Class, dtype: float64"
      ]
     },
     "metadata": {},
     "output_type": "display_data"
    }
   ],
   "source": [
    "display(\"TRAIN\",df.Seat_Class.value_counts())\n",
    "display(df.Seat_Class.value_counts(normalize=True)) \n",
    "#display(df.groupby(['Seat_Class', 'Overall_Experience']).count()['ID'])\n",
    "display(\"TEST\",df_test.Seat_Class.value_counts())\n",
    "display(df_test.Seat_Class.value_counts(normalize=True))  "
   ]
  },
  {
   "cell_type": "code",
   "execution_count": 1256,
   "metadata": {},
   "outputs": [
    {
     "data": {
      "text/plain": [
       "'TRAIN'"
      ]
     },
     "metadata": {},
     "output_type": "display_data"
    },
    {
     "data": {
      "text/plain": [
       "acceptable          18468\n",
       "need improvement    17978\n",
       "good                17969\n",
       "poor                13858\n",
       "excellent           13455\n",
       "extremely poor       3910\n",
       "Name: Catering, dtype: int64"
      ]
     },
     "metadata": {},
     "output_type": "display_data"
    },
    {
     "data": {
      "text/plain": [
       "acceptable          0.215652\n",
       "need improvement    0.209930\n",
       "good                0.209825\n",
       "poor                0.161821\n",
       "excellent           0.157115\n",
       "extremely poor      0.045657\n",
       "Name: Catering, dtype: float64"
      ]
     },
     "metadata": {},
     "output_type": "display_data"
    },
    {
     "data": {
      "text/plain": [
       "'TEST'"
      ]
     },
     "metadata": {},
     "output_type": "display_data"
    },
    {
     "data": {
      "text/plain": [
       "acceptable          7133\n",
       "need improvement    6701\n",
       "good                6701\n",
       "poor                5178\n",
       "excellent           5025\n",
       "extremely poor      1507\n",
       "Name: Catering, dtype: int64"
      ]
     },
     "metadata": {},
     "output_type": "display_data"
    },
    {
     "data": {
      "text/plain": [
       "acceptable          0.221213\n",
       "need improvement    0.207815\n",
       "good                0.207815\n",
       "poor                0.160583\n",
       "excellent           0.155838\n",
       "extremely poor      0.046736\n",
       "Name: Catering, dtype: float64"
      ]
     },
     "metadata": {},
     "output_type": "display_data"
    }
   ],
   "source": [
    "display(\"TRAIN\",df.Catering.value_counts())\n",
    "display(df.Catering.value_counts(normalize=True)) \n",
    "#display(df.groupby(['Catering', 'Overall_Experience']).count()['ID'])\n",
    "display(\"TEST\",df_test.Catering.value_counts())\n",
    "display(df_test.Catering.value_counts(normalize=True)) "
   ]
  },
  {
   "cell_type": "code",
   "execution_count": 1257,
   "metadata": {},
   "outputs": [
    {
     "data": {
      "text/plain": [
       "'TRAIN'"
      ]
     },
     "metadata": {},
     "output_type": "display_data"
    },
    {
     "data": {
      "text/plain": [
       "good                19574\n",
       "excellent           17684\n",
       "acceptable          15177\n",
       "need improvement    14990\n",
       "poor                13692\n",
       "extremely poor       4332\n",
       "Name: Arrival_time_convenient, dtype: int64"
      ]
     },
     "metadata": {},
     "output_type": "display_data"
    },
    {
     "data": {
      "text/plain": [
       "good                0.229072\n",
       "excellent           0.206954\n",
       "acceptable          0.177615\n",
       "need improvement    0.175426\n",
       "poor                0.160236\n",
       "extremely poor      0.050697\n",
       "Name: Arrival_time_convenient, dtype: float64"
      ]
     },
     "metadata": {},
     "output_type": "display_data"
    },
    {
     "data": {
      "text/plain": [
       "'TEST'"
      ]
     },
     "metadata": {},
     "output_type": "display_data"
    },
    {
     "data": {
      "text/plain": [
       "good                7361\n",
       "excellent           6589\n",
       "acceptable          5844\n",
       "need improvement    5684\n",
       "poor                5131\n",
       "extremely poor      1668\n",
       "Name: Arrival_time_convenient, dtype: int64"
      ]
     },
     "metadata": {},
     "output_type": "display_data"
    },
    {
     "data": {
      "text/plain": [
       "good                0.228057\n",
       "excellent           0.204139\n",
       "acceptable          0.181058\n",
       "need improvement    0.176101\n",
       "poor                0.158968\n",
       "extremely poor      0.051678\n",
       "Name: Arrival_time_convenient, dtype: float64"
      ]
     },
     "metadata": {},
     "output_type": "display_data"
    }
   ],
   "source": [
    "display(\"TRAIN\",df.Arrival_time_convenient.value_counts())\n",
    "display(df.Arrival_time_convenient.value_counts(normalize=True)) \n",
    "#display(df.groupby(['Arrival_time_convenient', 'Overall_Experience']).count()['ID'])\n",
    "display(\"TEST\",df_test.Arrival_time_convenient.value_counts())\n",
    "display(df_test.Arrival_time_convenient.value_counts(normalize=True)) "
   ]
  },
  {
   "cell_type": "code",
   "execution_count": 1258,
   "metadata": {},
   "outputs": [
    {
     "data": {
      "text/plain": [
       "'TRAIN'"
      ]
     },
     "metadata": {},
     "output_type": "display_data"
    },
    {
     "data": {
      "text/plain": [
       "manageable           24173\n",
       "Convinient           21912\n",
       "need improvement     17832\n",
       "Inconvinient         16449\n",
       "very convinient      13981\n",
       "very inconvinient        2\n",
       "Name: Platform_location, dtype: int64"
      ]
     },
     "metadata": {},
     "output_type": "display_data"
    },
    {
     "data": {
      "text/plain": [
       "manageable           0.256208\n",
       "Convinient           0.232244\n",
       "need improvement     0.189000\n",
       "Inconvinient         0.174342\n",
       "very convinient      0.148184\n",
       "very inconvinient    0.000021\n",
       "Name: Platform_location, dtype: float64"
      ]
     },
     "metadata": {},
     "output_type": "display_data"
    },
    {
     "data": {
      "text/plain": [
       "'TEST'"
      ]
     },
     "metadata": {},
     "output_type": "display_data"
    },
    {
     "data": {
      "text/plain": [
       "manageable          9364\n",
       "Convinient          8178\n",
       "need improvement    6703\n",
       "Inconvinient        6134\n",
       "very convinient     5211\n",
       "Name: Platform_location, dtype: int64"
      ]
     },
     "metadata": {},
     "output_type": "display_data"
    },
    {
     "data": {
      "text/plain": [
       "manageable          0.263108\n",
       "Convinient          0.229784\n",
       "need improvement    0.188339\n",
       "Inconvinient        0.172352\n",
       "very convinient     0.146418\n",
       "Name: Platform_location, dtype: float64"
      ]
     },
     "metadata": {},
     "output_type": "display_data"
    }
   ],
   "source": [
    "display(\"TRAIN\",df.Platform_location.value_counts())\n",
    "display(df.Platform_location.value_counts(normalize=True)) \n",
    "#display(df.groupby(['Platform_location', 'Overall_Experience']).count()['ID'])\n",
    "display(\"TEST\",df_test.Platform_location.value_counts())\n",
    "display(df_test.Platform_location.value_counts(normalize=True)) "
   ]
  },
  {
   "cell_type": "code",
   "execution_count": 1259,
   "metadata": {},
   "outputs": [
    {
     "data": {
      "text/plain": [
       "'TRAIN'"
      ]
     },
     "metadata": {},
     "output_type": "display_data"
    },
    {
     "data": {
      "text/plain": [
       "good                22835\n",
       "excellent           20968\n",
       "acceptable          20118\n",
       "need improvement    19596\n",
       "poor                10741\n",
       "extremely poor         91\n",
       "Name: Onboardwifi_service, dtype: int64"
      ]
     },
     "metadata": {},
     "output_type": "display_data"
    },
    {
     "data": {
      "text/plain": [
       "good                0.242027\n",
       "excellent           0.222239\n",
       "acceptable          0.213230\n",
       "need improvement    0.207697\n",
       "poor                0.113843\n",
       "extremely poor      0.000965\n",
       "Name: Onboardwifi_service, dtype: float64"
      ]
     },
     "metadata": {},
     "output_type": "display_data"
    },
    {
     "data": {
      "text/plain": [
       "'TEST'"
      ]
     },
     "metadata": {},
     "output_type": "display_data"
    },
    {
     "data": {
      "text/plain": [
       "good                8743\n",
       "excellent           7875\n",
       "acceptable          7495\n",
       "need improvement    7456\n",
       "poor                3980\n",
       "extremely poor        41\n",
       "Name: Onboardwifi_service, dtype: int64"
      ]
     },
     "metadata": {},
     "output_type": "display_data"
    },
    {
     "data": {
      "text/plain": [
       "good                0.245659\n",
       "excellent           0.221270\n",
       "acceptable          0.210593\n",
       "need improvement    0.209497\n",
       "poor                0.111829\n",
       "extremely poor      0.001152\n",
       "Name: Onboardwifi_service, dtype: float64"
      ]
     },
     "metadata": {},
     "output_type": "display_data"
    }
   ],
   "source": [
    "display(\"TRAIN\",df.Onboardwifi_service.value_counts())\n",
    "display(df.Onboardwifi_service.value_counts(normalize=True)) \n",
    "#display(df.groupby(['Onboardwifi_service', 'Overall_Experience']).count()['ID'])\n",
    "display(\"TEST\",df_test.Onboardwifi_service.value_counts())\n",
    "display(df_test.Onboardwifi_service.value_counts(normalize=True))  "
   ]
  },
  {
   "cell_type": "code",
   "execution_count": 1260,
   "metadata": {},
   "outputs": [
    {
     "data": {
      "text/plain": [
       "'TRAIN'"
      ]
     },
     "metadata": {},
     "output_type": "display_data"
    },
    {
     "data": {
      "text/plain": [
       "good                30446\n",
       "excellent           21644\n",
       "acceptable          17560\n",
       "need improvement    13926\n",
       "poor                 8641\n",
       "extremely poor       2144\n",
       "Name: Onboard_entertainment, dtype: int64"
      ]
     },
     "metadata": {},
     "output_type": "display_data"
    },
    {
     "data": {
      "text/plain": [
       "good                0.322654\n",
       "excellent           0.229374\n",
       "acceptable          0.186094\n",
       "need improvement    0.147582\n",
       "poor                0.091574\n",
       "extremely poor      0.022721\n",
       "Name: Onboard_entertainment, dtype: float64"
      ]
     },
     "metadata": {},
     "output_type": "display_data"
    },
    {
     "data": {
      "text/plain": [
       "'TEST'"
      ]
     },
     "metadata": {},
     "output_type": "display_data"
    },
    {
     "data": {
      "text/plain": [
       "good                11436\n",
       "excellent            8204\n",
       "acceptable           6675\n",
       "need improvement     5279\n",
       "poor                 3167\n",
       "extremely poor        833\n",
       "Name: Onboard_entertainment, dtype: int64"
      ]
     },
     "metadata": {},
     "output_type": "display_data"
    },
    {
     "data": {
      "text/plain": [
       "good                0.321290\n",
       "excellent           0.230488\n",
       "acceptable          0.187532\n",
       "need improvement    0.148312\n",
       "poor                0.088976\n",
       "extremely poor      0.023403\n",
       "Name: Onboard_entertainment, dtype: float64"
      ]
     },
     "metadata": {},
     "output_type": "display_data"
    }
   ],
   "source": [
    "display(\"TRAIN\",df.Onboard_entertainment.value_counts())\n",
    "display(df.Onboard_entertainment.value_counts(normalize=True)) \n",
    "#display(df.groupby(['Onboard_entertainment', 'Overall_Experience']).count()['ID'])\n",
    "display(\"TEST\",df_test.Onboard_entertainment.value_counts())\n",
    "display(df_test.Onboard_entertainment.value_counts(normalize=True)) "
   ]
  },
  {
   "cell_type": "code",
   "execution_count": 1261,
   "metadata": {},
   "outputs": [
    {
     "data": {
      "text/plain": [
       "'TRAIN'"
      ]
     },
     "metadata": {},
     "output_type": "display_data"
    },
    {
     "data": {
      "text/plain": [
       "good                30016\n",
       "excellent           25894\n",
       "acceptable          15702\n",
       "need improvement    12508\n",
       "poor                10167\n",
       "extremely poor          1\n",
       "Name: Online_support, dtype: int64"
      ]
     },
     "metadata": {},
     "output_type": "display_data"
    },
    {
     "data": {
      "text/plain": [
       "good                0.318344\n",
       "excellent           0.274627\n",
       "acceptable          0.166532\n",
       "need improvement    0.132657\n",
       "poor                0.107829\n",
       "extremely poor      0.000011\n",
       "Name: Online_support, dtype: float64"
      ]
     },
     "metadata": {},
     "output_type": "display_data"
    },
    {
     "data": {
      "text/plain": [
       "'TEST'"
      ]
     },
     "metadata": {},
     "output_type": "display_data"
    },
    {
     "data": {
      "text/plain": [
       "good                11487\n",
       "excellent            9665\n",
       "acceptable           5902\n",
       "need improvement     4755\n",
       "poor                 3767\n",
       "Name: Online_support, dtype: int64"
      ]
     },
     "metadata": {},
     "output_type": "display_data"
    },
    {
     "data": {
      "text/plain": [
       "good                0.322886\n",
       "excellent           0.271672\n",
       "acceptable          0.165898\n",
       "need improvement    0.133658\n",
       "poor                0.105886\n",
       "Name: Online_support, dtype: float64"
      ]
     },
     "metadata": {},
     "output_type": "display_data"
    }
   ],
   "source": [
    "display(\"TRAIN\",df.Online_support.value_counts())\n",
    "display(df.Online_support.value_counts(normalize=True)) \n",
    "#display(df.groupby(['Online_support', 'Overall_Experience']).count()['ID'])\n",
    "display(\"TEST\",df_test.Online_support.value_counts())\n",
    "display(df_test.Online_support.value_counts(normalize=True))  "
   ]
  },
  {
   "cell_type": "code",
   "execution_count": 1262,
   "metadata": {},
   "outputs": [
    {
     "data": {
      "text/plain": [
       "'TRAIN'"
      ]
     },
     "metadata": {},
     "output_type": "display_data"
    },
    {
     "data": {
      "text/plain": [
       "good                28909\n",
       "excellent           24744\n",
       "acceptable          16390\n",
       "need improvement    14479\n",
       "poor                 9768\n",
       "extremely poor         16\n",
       "Name: Onlinebooking_Ease, dtype: int64"
      ]
     },
     "metadata": {},
     "output_type": "display_data"
    },
    {
     "data": {
      "text/plain": [
       "good                0.306545\n",
       "excellent           0.262380\n",
       "acceptable          0.173796\n",
       "need improvement    0.153532\n",
       "poor                0.103578\n",
       "extremely poor      0.000170\n",
       "Name: Onlinebooking_Ease, dtype: float64"
      ]
     },
     "metadata": {},
     "output_type": "display_data"
    },
    {
     "data": {
      "text/plain": [
       "'TEST'"
      ]
     },
     "metadata": {},
     "output_type": "display_data"
    },
    {
     "data": {
      "text/plain": [
       "good                11025\n",
       "excellent            9380\n",
       "acceptable           6029\n",
       "need improvement     5474\n",
       "poor                 3674\n",
       "extremely poor          2\n",
       "Name: Onlinebooking_Ease, dtype: int64"
      ]
     },
     "metadata": {},
     "output_type": "display_data"
    },
    {
     "data": {
      "text/plain": [
       "good                0.309830\n",
       "excellent           0.263602\n",
       "acceptable          0.169430\n",
       "need improvement    0.153833\n",
       "poor                0.103249\n",
       "extremely poor      0.000056\n",
       "Name: Onlinebooking_Ease, dtype: float64"
      ]
     },
     "metadata": {},
     "output_type": "display_data"
    }
   ],
   "source": [
    "display(\"TRAIN\",df.Onlinebooking_Ease.value_counts())\n",
    "display(df.Onlinebooking_Ease.value_counts(normalize=True)) \n",
    "#display(df.groupby(['Onlinebooking_Ease', 'Overall_Experience']).count()['ID'])\n",
    "display(\"TEST\",df_test.Onlinebooking_Ease.value_counts())\n",
    "display(df_test.Onlinebooking_Ease.value_counts(normalize=True)) "
   ]
  },
  {
   "cell_type": "code",
   "execution_count": 1263,
   "metadata": {},
   "outputs": [
    {
     "data": {
      "text/plain": [
       "'TRAIN'"
      ]
     },
     "metadata": {},
     "output_type": "display_data"
    },
    {
     "data": {
      "text/plain": [
       "good                27265\n",
       "excellent           21272\n",
       "acceptable          18071\n",
       "need improvement    11390\n",
       "poor                 8776\n",
       "extremely poor          4\n",
       "Name: Onboard_service, dtype: int64"
      ]
     },
     "metadata": {},
     "output_type": "display_data"
    },
    {
     "data": {
      "text/plain": [
       "good                0.314193\n",
       "excellent           0.245131\n",
       "acceptable          0.208244\n",
       "need improvement    0.131254\n",
       "poor                0.101132\n",
       "extremely poor      0.000046\n",
       "Name: Onboard_service, dtype: float64"
      ]
     },
     "metadata": {},
     "output_type": "display_data"
    },
    {
     "data": {
      "text/plain": [
       "'TEST'"
      ]
     },
     "metadata": {},
     "output_type": "display_data"
    },
    {
     "data": {
      "text/plain": [
       "good                10222\n",
       "excellent            7941\n",
       "acceptable           6770\n",
       "need improvement     4385\n",
       "poor                 3412\n",
       "Name: Onboard_service, dtype: int64"
      ]
     },
     "metadata": {},
     "output_type": "display_data"
    },
    {
     "data": {
      "text/plain": [
       "good                0.312313\n",
       "excellent           0.242621\n",
       "acceptable          0.206844\n",
       "need improvement    0.133975\n",
       "poor                0.104247\n",
       "Name: Onboard_service, dtype: float64"
      ]
     },
     "metadata": {},
     "output_type": "display_data"
    }
   ],
   "source": [
    "display(\"TRAIN\",df.Onboard_service.value_counts())\n",
    "display(df.Onboard_service.value_counts(normalize=True)) \n",
    "#display(df.groupby(['Onboard_service', 'Overall_Experience']).count()['ID'])\n",
    "display(\"TEST\",df_test.Onboard_service.value_counts())\n",
    "display(df_test.Onboard_service.value_counts(normalize=True)) "
   ]
  },
  {
   "cell_type": "code",
   "execution_count": 1264,
   "metadata": {},
   "outputs": [
    {
     "data": {
      "text/plain": [
       "'TRAIN'"
      ]
     },
     "metadata": {},
     "output_type": "display_data"
    },
    {
     "data": {
      "text/plain": [
       "good                28870\n",
       "excellent           24832\n",
       "acceptable          16384\n",
       "need improvement    15753\n",
       "poor                 8110\n",
       "extremely poor        340\n",
       "Name: Leg_room, dtype: int64"
      ]
     },
     "metadata": {},
     "output_type": "display_data"
    },
    {
     "data": {
      "text/plain": [
       "good                0.306186\n",
       "excellent           0.263361\n",
       "acceptable          0.173764\n",
       "need improvement    0.167071\n",
       "poor                0.086012\n",
       "extremely poor      0.003606\n",
       "Name: Leg_room, dtype: float64"
      ]
     },
     "metadata": {},
     "output_type": "display_data"
    },
    {
     "data": {
      "text/plain": [
       "'TEST'"
      ]
     },
     "metadata": {},
     "output_type": "display_data"
    },
    {
     "data": {
      "text/plain": [
       "good                10842\n",
       "excellent            9536\n",
       "acceptable           6079\n",
       "need improvement     5992\n",
       "poor                 3025\n",
       "extremely poor        103\n",
       "Name: Leg_room, dtype: int64"
      ]
     },
     "metadata": {},
     "output_type": "display_data"
    },
    {
     "data": {
      "text/plain": [
       "good                0.304747\n",
       "excellent           0.268038\n",
       "acceptable          0.170869\n",
       "need improvement    0.168423\n",
       "poor                0.085027\n",
       "extremely poor      0.002895\n",
       "Name: Leg_room, dtype: float64"
      ]
     },
     "metadata": {},
     "output_type": "display_data"
    }
   ],
   "source": [
    "display(\"TRAIN\",df.Leg_room.value_counts())\n",
    "display(df.Leg_room.value_counts(normalize=True)) \n",
    "#display(df.groupby(['Leg_room', 'Overall_Experience']).count()['ID'])\n",
    "display(\"TEST\",df_test.Leg_room.value_counts())\n",
    "display(df_test.Leg_room.value_counts(normalize=True)) "
   ]
  },
  {
   "cell_type": "code",
   "execution_count": 1265,
   "metadata": {},
   "outputs": [
    {
     "data": {
      "text/plain": [
       "'TRAIN'"
      ]
     },
     "metadata": {},
     "output_type": "display_data"
    },
    {
     "data": {
      "text/plain": [
       "good                34944\n",
       "excellent           26003\n",
       "acceptable          17767\n",
       "need improvement     9759\n",
       "poor                 5764\n",
       "Name: Baggage_handling, dtype: int64"
      ]
     },
     "metadata": {},
     "output_type": "display_data"
    },
    {
     "data": {
      "text/plain": [
       "good                0.370810\n",
       "excellent           0.275932\n",
       "acceptable          0.188535\n",
       "need improvement    0.103558\n",
       "poor                0.061165\n",
       "Name: Baggage_handling, dtype: float64"
      ]
     },
     "metadata": {},
     "output_type": "display_data"
    },
    {
     "data": {
      "text/plain": [
       "'TEST'"
      ]
     },
     "metadata": {},
     "output_type": "display_data"
    },
    {
     "data": {
      "text/plain": [
       "good                13291\n",
       "excellent            9729\n",
       "acceptable           6683\n",
       "need improvement     3659\n",
       "poor                 2200\n",
       "Name: Baggage_handling, dtype: int64"
      ]
     },
     "metadata": {},
     "output_type": "display_data"
    },
    {
     "data": {
      "text/plain": [
       "good                0.373742\n",
       "excellent           0.273579\n",
       "acceptable          0.187925\n",
       "need improvement    0.102891\n",
       "poor                0.061864\n",
       "Name: Baggage_handling, dtype: float64"
      ]
     },
     "metadata": {},
     "output_type": "display_data"
    }
   ],
   "source": [
    "display(\"TRAIN\",df.Baggage_handling.value_counts())\n",
    "display(df.Baggage_handling.value_counts(normalize=True)) \n",
    "#display(df.groupby(['Baggage_handling', 'Overall_Experience']).count()['ID'])\n",
    "display(\"TEST\",df_test.Baggage_handling.value_counts())\n",
    "display(df_test.Baggage_handling.value_counts(normalize=True)) "
   ]
  },
  {
   "cell_type": "code",
   "execution_count": 1266,
   "metadata": {},
   "outputs": [
    {
     "data": {
      "text/plain": [
       "'TRAIN'"
      ]
     },
     "metadata": {},
     "output_type": "display_data"
    },
    {
     "data": {
      "text/plain": [
       "good                26502\n",
       "acceptable          25803\n",
       "excellent           19641\n",
       "need improvement    11218\n",
       "poor                11137\n",
       "extremely poor          1\n",
       "Name: Checkin_service, dtype: int64"
      ]
     },
     "metadata": {},
     "output_type": "display_data"
    },
    {
     "data": {
      "text/plain": [
       "good                0.281033\n",
       "acceptable          0.273621\n",
       "excellent           0.208278\n",
       "need improvement    0.118958\n",
       "poor                0.118099\n",
       "extremely poor      0.000011\n",
       "Name: Checkin_service, dtype: float64"
      ]
     },
     "metadata": {},
     "output_type": "display_data"
    },
    {
     "data": {
      "text/plain": [
       "'TEST'"
      ]
     },
     "metadata": {},
     "output_type": "display_data"
    },
    {
     "data": {
      "text/plain": [
       "good                9982\n",
       "acceptable          9740\n",
       "excellent           7375\n",
       "need improvement    4262\n",
       "poor                4221\n",
       "Name: Checkin_service, dtype: int64"
      ]
     },
     "metadata": {},
     "output_type": "display_data"
    },
    {
     "data": {
      "text/plain": [
       "good                0.280551\n",
       "acceptable          0.273749\n",
       "excellent           0.207279\n",
       "need improvement    0.119786\n",
       "poor                0.118634\n",
       "Name: Checkin_service, dtype: float64"
      ]
     },
     "metadata": {},
     "output_type": "display_data"
    }
   ],
   "source": [
    "display(\"TRAIN\",df.Checkin_service.value_counts())\n",
    "display(df.Checkin_service.value_counts(normalize=True)) \n",
    "#display(df.groupby(['Checkin_service', 'Overall_Experience']).count()['ID'])\n",
    "display(\"TEST\",df_test.Checkin_service.value_counts())\n",
    "display(df_test.Checkin_service.value_counts(normalize=True)) "
   ]
  },
  {
   "cell_type": "code",
   "execution_count": 1267,
   "metadata": {},
   "outputs": [
    {
     "data": {
      "text/plain": [
       "'TRAIN'"
      ]
     },
     "metadata": {},
     "output_type": "display_data"
    },
    {
     "data": {
      "text/plain": [
       "good                35427\n",
       "excellent           26053\n",
       "acceptable          17449\n",
       "need improvement     9806\n",
       "poor                 5633\n",
       "extremely poor          5\n",
       "Name: Cleanliness, dtype: int64"
      ]
     },
     "metadata": {},
     "output_type": "display_data"
    },
    {
     "data": {
      "text/plain": [
       "good                0.375393\n",
       "excellent           0.276064\n",
       "acceptable          0.184894\n",
       "need improvement    0.103907\n",
       "poor                0.059689\n",
       "extremely poor      0.000053\n",
       "Name: Cleanliness, dtype: float64"
      ]
     },
     "metadata": {},
     "output_type": "display_data"
    },
    {
     "data": {
      "text/plain": [
       "'TEST'"
      ]
     },
     "metadata": {},
     "output_type": "display_data"
    },
    {
     "data": {
      "text/plain": [
       "good                13421\n",
       "excellent            9900\n",
       "acceptable           6534\n",
       "need improvement     3607\n",
       "poor                 2138\n",
       "Name: Cleanliness, dtype: int64"
      ]
     },
     "metadata": {},
     "output_type": "display_data"
    },
    {
     "data": {
      "text/plain": [
       "good                0.376994\n",
       "excellent           0.278090\n",
       "acceptable          0.183539\n",
       "need improvement    0.101320\n",
       "poor                0.060056\n",
       "Name: Cleanliness, dtype: float64"
      ]
     },
     "metadata": {},
     "output_type": "display_data"
    }
   ],
   "source": [
    "display(\"TRAIN\",df.Cleanliness.value_counts())\n",
    "display(df.Cleanliness.value_counts(normalize=True)) \n",
    "#display(df.groupby(['Cleanliness', 'Overall_Experience']).count()['ID'])\n",
    "display(\"TEST\",df_test.Cleanliness.value_counts())\n",
    "display(df_test.Cleanliness.value_counts(normalize=True)) "
   ]
  },
  {
   "cell_type": "code",
   "execution_count": 1268,
   "metadata": {},
   "outputs": [
    {
     "data": {
      "text/plain": [
       "'TRAIN'"
      ]
     },
     "metadata": {},
     "output_type": "display_data"
    },
    {
     "data": {
      "text/plain": [
       "good                25533\n",
       "acceptable          22475\n",
       "excellent           21742\n",
       "need improvement    13451\n",
       "poor                11160\n",
       "extremely poor         12\n",
       "Name: Online_boarding, dtype: int64"
      ]
     },
     "metadata": {},
     "output_type": "display_data"
    },
    {
     "data": {
      "text/plain": [
       "good                0.270554\n",
       "acceptable          0.238151\n",
       "excellent           0.230384\n",
       "need improvement    0.142530\n",
       "poor                0.118254\n",
       "extremely poor      0.000127\n",
       "Name: Online_boarding, dtype: float64"
      ]
     },
     "metadata": {},
     "output_type": "display_data"
    },
    {
     "data": {
      "text/plain": [
       "'TEST'"
      ]
     },
     "metadata": {},
     "output_type": "display_data"
    },
    {
     "data": {
      "text/plain": [
       "good                9680\n",
       "acceptable          8323\n",
       "excellent           8250\n",
       "need improvement    5134\n",
       "poor                4211\n",
       "extremely poor         2\n",
       "Name: Online_boarding, dtype: int64"
      ]
     },
     "metadata": {},
     "output_type": "display_data"
    },
    {
     "data": {
      "text/plain": [
       "good                0.271910\n",
       "acceptable          0.233792\n",
       "excellent           0.231742\n",
       "need improvement    0.144213\n",
       "poor                0.118287\n",
       "extremely poor      0.000056\n",
       "Name: Online_boarding, dtype: float64"
      ]
     },
     "metadata": {},
     "output_type": "display_data"
    }
   ],
   "source": [
    "display(\"TRAIN\",df.Online_boarding.value_counts())\n",
    "display(df.Online_boarding.value_counts(normalize=True)) \n",
    "#display(df.groupby(['Online_boarding', 'Overall_Experience']).count()['ID'])\n",
    "display(\"TEST\",df_test.Online_boarding.value_counts())\n",
    "display(df_test.Online_boarding.value_counts(normalize=True))"
   ]
  },
  {
   "cell_type": "code",
   "execution_count": 1269,
   "metadata": {},
   "outputs": [
    {
     "data": {
      "text/plain": [
       "'TRAIN'"
      ]
     },
     "metadata": {},
     "output_type": "display_data"
    },
    {
     "data": {
      "text/plain": [
       "Female    47815\n",
       "Male      46487\n",
       "Name: Gender, dtype: int64"
      ]
     },
     "metadata": {},
     "output_type": "display_data"
    },
    {
     "data": {
      "text/plain": [
       "Female    0.507041\n",
       "Male      0.492959\n",
       "Name: Gender, dtype: float64"
      ]
     },
     "metadata": {},
     "output_type": "display_data"
    },
    {
     "data": {
      "text/plain": [
       "'TEST'"
      ]
     },
     "metadata": {},
     "output_type": "display_data"
    },
    {
     "data": {
      "text/plain": [
       "Female    18069\n",
       "Male      17503\n",
       "Name: Gender, dtype: int64"
      ]
     },
     "metadata": {},
     "output_type": "display_data"
    },
    {
     "data": {
      "text/plain": [
       "Female    0.507956\n",
       "Male      0.492044\n",
       "Name: Gender, dtype: float64"
      ]
     },
     "metadata": {},
     "output_type": "display_data"
    }
   ],
   "source": [
    "display(\"TRAIN\",df.Gender.value_counts())\n",
    "display(df.Gender.value_counts(normalize=True)) \n",
    "#display(df.groupby(['Gender', 'Overall_Experience']).count()['ID'])\n",
    "display(\"TEST\",df_test.Gender.value_counts())\n",
    "display(df_test.Gender.value_counts(normalize=True)) "
   ]
  },
  {
   "cell_type": "code",
   "execution_count": 1270,
   "metadata": {},
   "outputs": [
    {
     "data": {
      "text/plain": [
       "'TRAIN'"
      ]
     },
     "metadata": {},
     "output_type": "display_data"
    },
    {
     "data": {
      "text/plain": [
       "Loyal Customer       69823\n",
       "disloyal Customer    15605\n",
       "Name: CustomerType, dtype: int64"
      ]
     },
     "metadata": {},
     "output_type": "display_data"
    },
    {
     "data": {
      "text/plain": [
       "Loyal Customer       0.817332\n",
       "disloyal Customer    0.182668\n",
       "Name: CustomerType, dtype: float64"
      ]
     },
     "metadata": {},
     "output_type": "display_data"
    },
    {
     "data": {
      "text/plain": [
       "'TEST'"
      ]
     },
     "metadata": {},
     "output_type": "display_data"
    },
    {
     "data": {
      "text/plain": [
       "Loyal Customer       26349\n",
       "disloyal Customer     5870\n",
       "Name: CustomerType, dtype: int64"
      ]
     },
     "metadata": {},
     "output_type": "display_data"
    },
    {
     "data": {
      "text/plain": [
       "Loyal Customer       0.817809\n",
       "disloyal Customer    0.182191\n",
       "Name: CustomerType, dtype: float64"
      ]
     },
     "metadata": {},
     "output_type": "display_data"
    }
   ],
   "source": [
    "display(\"TRAIN\",df.CustomerType.value_counts())\n",
    "display(df.CustomerType.value_counts(normalize=True)) \n",
    "#display(df.groupby(['CustomerType', 'Overall_Experience']).count()['ID'])\n",
    "display(\"TEST\",df_test.CustomerType.value_counts())\n",
    "display(df_test.CustomerType.value_counts(normalize=True))  "
   ]
  },
  {
   "cell_type": "code",
   "execution_count": 1271,
   "metadata": {},
   "outputs": [
    {
     "data": {
      "text/plain": [
       "'TRAIN'"
      ]
     },
     "metadata": {},
     "output_type": "display_data"
    },
    {
     "data": {
      "text/plain": [
       "Business travel    58617\n",
       "Personal Travel    26536\n",
       "Name: TypeTravel, dtype: int64"
      ]
     },
     "metadata": {},
     "output_type": "display_data"
    },
    {
     "data": {
      "text/plain": [
       "Business travel    0.688373\n",
       "Personal Travel    0.311627\n",
       "Name: TypeTravel, dtype: float64"
      ]
     },
     "metadata": {},
     "output_type": "display_data"
    },
    {
     "data": {
      "text/plain": [
       "'TEST'"
      ]
     },
     "metadata": {},
     "output_type": "display_data"
    },
    {
     "data": {
      "text/plain": [
       "Business travel    22313\n",
       "Personal Travel     9841\n",
       "Name: TypeTravel, dtype: int64"
      ]
     },
     "metadata": {},
     "output_type": "display_data"
    },
    {
     "data": {
      "text/plain": [
       "Business travel    0.693942\n",
       "Personal Travel    0.306058\n",
       "Name: TypeTravel, dtype: float64"
      ]
     },
     "metadata": {},
     "output_type": "display_data"
    }
   ],
   "source": [
    "display(\"TRAIN\",df.TypeTravel.value_counts())\n",
    "display(df.TypeTravel.value_counts(normalize=True)) \n",
    "#display(df.groupby(['TypeTravel', 'Overall_Experience']).count()['ID'])\n",
    "display(\"TEST\",df_test.TypeTravel.value_counts())\n",
    "display(df_test.TypeTravel.value_counts(normalize=True)) "
   ]
  },
  {
   "cell_type": "code",
   "execution_count": 1272,
   "metadata": {},
   "outputs": [
    {
     "data": {
      "text/plain": [
       "'TRAIN'"
      ]
     },
     "metadata": {},
     "output_type": "display_data"
    },
    {
     "data": {
      "text/plain": [
       "Eco         49342\n",
       "Business    45037\n",
       "Name: Travel_Class, dtype: int64"
      ]
     },
     "metadata": {},
     "output_type": "display_data"
    },
    {
     "data": {
      "text/plain": [
       "Eco         0.522807\n",
       "Business    0.477193\n",
       "Name: Travel_Class, dtype: float64"
      ]
     },
     "metadata": {},
     "output_type": "display_data"
    },
    {
     "data": {
      "text/plain": [
       "'TEST'"
      ]
     },
     "metadata": {},
     "output_type": "display_data"
    },
    {
     "data": {
      "text/plain": [
       "Eco         18473\n",
       "Business    17129\n",
       "Name: Travel_Class, dtype: int64"
      ]
     },
     "metadata": {},
     "output_type": "display_data"
    },
    {
     "data": {
      "text/plain": [
       "Eco         0.518875\n",
       "Business    0.481125\n",
       "Name: Travel_Class, dtype: float64"
      ]
     },
     "metadata": {},
     "output_type": "display_data"
    }
   ],
   "source": [
    "display(\"TRAIN\",df.Travel_Class.value_counts())\n",
    "display(df.Travel_Class.value_counts(normalize=True)) \n",
    "#display(df.groupby(['Travel_Class', 'Overall_Experience']).count()['ID'])\n",
    "display(\"TEST\",df_test.Travel_Class.value_counts())\n",
    "display(df_test.Travel_Class.value_counts(normalize=True))  "
   ]
  },
  {
   "cell_type": "markdown",
   "metadata": {},
   "source": [
    "## Label Encoding"
   ]
  },
  {
   "cell_type": "code",
   "execution_count": 19,
   "metadata": {},
   "outputs": [],
   "source": [
    "df['Seat_comfort'].replace(['excellent', 'good', 'acceptable', 'need improvement', 'poor', 'extremely poor'], [5, 4, 3, 2, 1, 0], inplace = True)\n",
    "df['Seat_Class'].replace(['Green Car', 'Ordinary'], [1, 0], inplace = True)\n",
    "df['Arrival_time_convenient'].replace(['excellent', 'good', 'acceptable', 'need improvement', 'poor', 'extremely poor'], [5, 4, 3, 2, 1, 0], inplace = True)\n",
    "df['Catering'].replace(['excellent', 'good', 'acceptable', 'need improvement', 'poor', 'extremely poor'], [5, 4, 3, 2, 1, 0], inplace = True)\n",
    "df['Platform_location'].replace(['very convinient', 'Convinient', 'manageable', 'need improvement', 'Inconvinient', 'very inconvinient'], [5, 4, 3, 2, 1, 0], inplace = True)\n",
    "df['Onboardwifi_service'].replace(['excellent', 'good', 'acceptable', 'need improvement', 'poor', 'extremely poor'], [5, 4, 3, 2, 1, 0], inplace = True)\n",
    "df['Onboard_entertainment'].replace(['excellent', 'good', 'acceptable', 'need improvement', 'poor', 'extremely poor'], [5, 4, 3, 2, 1, 0], inplace = True)\n",
    "df['Online_support'].replace(['excellent', 'good', 'acceptable', 'need improvement', 'poor', 'extremely poor'], [5, 4, 3, 2, 1, 0], inplace = True)\n",
    "df['Onlinebooking_Ease'].replace(['excellent', 'good', 'acceptable', 'need improvement', 'poor', 'extremely poor'], [5, 4, 3, 2, 1, 0], inplace = True)\n",
    "df['Onboard_service'].replace(['excellent', 'good', 'acceptable', 'need improvement', 'poor', 'extremely poor'], [5, 4, 3, 2, 1, 0], inplace = True)\n",
    "df['Leg_room'].replace(['excellent', 'good', 'acceptable', 'need improvement', 'poor', 'extremely poor'], [5, 4, 3, 2, 1, 0], inplace = True)\n",
    "df['Baggage_handling'].replace(['excellent', 'good', 'acceptable', 'need improvement', 'poor', 'extremely poor'], [5, 4, 3, 2, 1, 0], inplace = True)\n",
    "df['Checkin_service'].replace(['excellent', 'good', 'acceptable', 'need improvement', 'poor', 'extremely poor'], [5, 4, 3, 2, 1, 0], inplace = True)\n",
    "df['Cleanliness'].replace(['excellent', 'good', 'acceptable', 'need improvement', 'poor', 'extremely poor'], [5, 4, 3, 2, 1, 0], inplace = True)\n",
    "df['Online_boarding'].replace(['excellent', 'good', 'acceptable', 'need improvement', 'poor', 'extremely poor' ], [5, 4, 3, 2, 1, 0], inplace = True)\n",
    "df['Gender'].replace(['Female', 'Male'], [1, 0], inplace = True)\n",
    "df['CustomerType'].replace(['Loyal Customer', 'disloyal Customer'], [1, 0], inplace = True)\n",
    "df['TypeTravel'].replace(['Business travel', 'Personal Travel'], [1, 0], inplace = True)\n",
    "df['Travel_Class'].replace(['Business', 'Eco'], [1, 0], inplace = True)"
   ]
  },
  {
   "cell_type": "code",
   "execution_count": 20,
   "metadata": {},
   "outputs": [],
   "source": [
    "df_test['Seat_comfort'].replace(['excellent', 'good', 'acceptable', 'need improvement', 'poor', 'extremely poor'], [5, 4, 3, 2, 1, 0], inplace = True)\n",
    "df_test['Seat_Class'].replace(['Green Car', 'Ordinary'], [1, 0], inplace = True)\n",
    "df_test['Arrival_time_convenient'].replace(['excellent', 'good', 'acceptable', 'need improvement', 'poor', 'extremely poor'], [5, 4, 3, 2, 1, 0], inplace = True)\n",
    "df_test['Catering'].replace(['excellent', 'good', 'acceptable', 'need improvement', 'poor', 'extremely poor'], [5, 4, 3, 2, 1, 0], inplace = True)\n",
    "df_test['Platform_location'].replace(['very convinient', 'Convinient', 'manageable', 'need improvement', 'Inconvinient', 'very inconvinient'], [5, 4, 3, 2, 1, 0], inplace = True)\n",
    "df_test['Onboardwifi_service'].replace(['excellent', 'good', 'acceptable', 'need improvement', 'poor', 'extremely poor'], [5, 4, 3, 2, 1, 0], inplace = True)\n",
    "df_test['Onboard_entertainment'].replace(['excellent', 'good', 'acceptable', 'need improvement', 'poor', 'extremely poor'], [5, 4, 3, 2, 1, 0], inplace = True)\n",
    "df_test['Online_support'].replace(['excellent', 'good', 'acceptable', 'need improvement', 'poor', 'extremely poor'], [5, 4, 3, 2, 1, 0], inplace = True)\n",
    "df_test['Onlinebooking_Ease'].replace(['excellent', 'good', 'acceptable', 'need improvement', 'poor', 'extremely poor'], [5, 4, 3, 2, 1, 0], inplace = True)\n",
    "df_test['Onboard_service'].replace(['excellent', 'good', 'acceptable', 'need improvement', 'poor', 'extremely poor'], [5, 4, 3, 2, 1, 0], inplace = True)\n",
    "df_test['Leg_room'].replace(['excellent', 'good', 'acceptable', 'need improvement', 'poor', 'extremely poor'], [5, 4, 3, 2, 1, 0], inplace = True)\n",
    "df_test['Baggage_handling'].replace(['excellent', 'good', 'acceptable', 'need improvement', 'poor', 'extremely poor'], [5, 4, 3, 2, 1, 0], inplace = True)\n",
    "df_test['Checkin_service'].replace(['excellent', 'good', 'acceptable', 'need improvement', 'poor', 'extremely poor'], [5, 4, 3, 2, 1, 0], inplace = True)\n",
    "df_test['Cleanliness'].replace(['excellent', 'good', 'acceptable', 'need improvement', 'poor', 'extremely poor'], [5, 4, 3, 2, 1, 0], inplace = True)\n",
    "df_test['Online_boarding'].replace(['excellent', 'good', 'acceptable', 'need improvement', 'poor', 'extremely poor' ], [5, 4, 3, 2, 1, 0], inplace = True)\n",
    "df_test['Gender'].replace(['Female', 'Male'], [1, 0], inplace = True)\n",
    "df_test['CustomerType'].replace(['Loyal Customer', 'disloyal Customer'], [1, 0], inplace = True)\n",
    "df_test['TypeTravel'].replace(['Business travel', 'Personal Travel'], [1, 0], inplace = True)\n",
    "df_test['Travel_Class'].replace(['Business', 'Eco'], [1, 0], inplace = True)"
   ]
  },
  {
   "cell_type": "markdown",
   "metadata": {},
   "source": [
    "## Null Imputation - for xgb and lgb algorithms"
   ]
  },
  {
   "cell_type": "markdown",
   "metadata": {},
   "source": [
    "df['Seat_comfort'] = df['Seat_comfort'].fillna(-999)"
   ]
  },
  {
   "cell_type": "markdown",
   "metadata": {},
   "source": [
    "df['col'] = df['col'].astype(pd.Int32Dtype())"
   ]
  },
  {
   "cell_type": "code",
   "execution_count": 927,
   "metadata": {},
   "outputs": [],
   "source": [
    "#df['col'] = df['col'].astype(pd.Int32Dtype())\n",
    "df['Seat_comfort'] = df['Seat_comfort'].fillna(-1)\n",
    "#df['Seat_Class'].replace(['Green Car', 'Ordinary'], [1, 0], inplace = True)\n",
    "df['Arrival_time_convenient'] = df['Arrival_time_convenient'].fillna(-1)\n",
    "df['Catering']= df['Catering'].fillna(-1)\n",
    "df['Platform_location'] = df['Platform_location'].fillna(-1)\n",
    "df['Onboardwifi_service'] = df['Onboardwifi_service'].fillna(-1)\n",
    "df['Onboard_entertainment'] = df['Onboard_entertainment'].fillna(-1)\n",
    "df['Online_support'] = df['Online_support'].fillna(-1)\n",
    "df['Onlinebooking_Ease'] = df['Onlinebooking_Ease'].fillna(-1)\n",
    "df['Onboard_service'] = df['Onboard_service'].fillna(-1)\n",
    "df['Leg_room'] = df['Leg_room'].fillna(-1)\n",
    "df['Baggage_handling'] = df['Baggage_handling'].fillna(-1)\n",
    "df['Checkin_service'] = df['Checkin_service'].fillna(-1)\n",
    "df['Cleanliness'] = df['Cleanliness'].fillna(-1)\n",
    "df['Online_boarding'] = df['Online_boarding'].fillna(-1)\n",
    "df['Gender'] = df['Gender'].fillna(-1)\n",
    "df['CustomerType'] = df['CustomerType'].fillna(-1)\n",
    "df['TypeTravel'] = df['TypeTravel'].fillna(-1)\n",
    "#df['Travel_Class'].replace(['Business', 'Eco'], [1, 0], inplace = True)\n",
    "df['Age'] = df['Age'].fillna(-1)\n",
    "df['DepartureDelay_in_Mins'] = df['DepartureDelay_in_Mins'].fillna(-1)\n",
    "df['ArrivalDelay_in_Mins'] = df['ArrivalDelay_in_Mins'].fillna(-1)"
   ]
  },
  {
   "cell_type": "code",
   "execution_count": 928,
   "metadata": {},
   "outputs": [],
   "source": [
    "df_test['Seat_comfort'] = df['Seat_comfort'].fillna(-1)\n",
    "#df['Seat_Class'].replace(['Green Car', 'Ordinary'], [1, 0], inplace = True)\n",
    "df_test['Arrival_time_convenient'] = df_test['Arrival_time_convenient'].fillna(-1)\n",
    "df_test['Catering']= df_test['Catering'].fillna(-1)\n",
    "df_test['Platform_location'] = df_test['Platform_location'].fillna(-1)\n",
    "df_test['Onboardwifi_service'] = df_test['Onboardwifi_service'].fillna(-1)\n",
    "df_test['Onboard_entertainment'] = df_test['Onboard_entertainment'].fillna(-1)\n",
    "df_test['Online_support'] = df_test['Online_support'].fillna(-1)\n",
    "df_test['Onlinebooking_Ease'] = df_test['Onlinebooking_Ease'].fillna(-1)\n",
    "df_test['Onboard_service'] = df_test['Onboard_service'].fillna(-1)\n",
    "df_test['Leg_room'] = df_test['Leg_room'].fillna(-1)\n",
    "df_test['Baggage_handling'] = df_test['Baggage_handling'].fillna(-1)\n",
    "df_test['Checkin_service'] = df_test['Checkin_service'].fillna(-1)\n",
    "df_test['Cleanliness'] = df_test['Cleanliness'].fillna(-1)\n",
    "df_test['Online_boarding'] = df_test['Online_boarding'].fillna(-1)\n",
    "df_test['Gender'] = df_test['Gender'].fillna(-1)\n",
    "df_test['CustomerType'] = df_test['CustomerType'].fillna(-1)\n",
    "df_test['TypeTravel'] = df_test['TypeTravel'].fillna(-1)\n",
    "#df['Travel_Class'].replace(['Business', 'Eco'], [1, 0], inplace = True)\n",
    "df_test['Age'] = df_test['Age'].fillna(-1)\n",
    "df_test['DepartureDelay_in_Mins'] = df_test['DepartureDelay_in_Mins'].fillna(-1)\n",
    "df_test['ArrivalDelay_in_Mins'] = df_test['ArrivalDelay_in_Mins'].fillna(-1)"
   ]
  },
  {
   "cell_type": "markdown",
   "metadata": {},
   "source": [
    "## Data Type Conversion"
   ]
  },
  {
   "cell_type": "code",
   "execution_count": 929,
   "metadata": {},
   "outputs": [],
   "source": [
    "df['Seat_comfort'] = df['Seat_comfort'].astype('int64')\n",
    "df['Seat_Class']= df['Seat_Class'].astype('int64')\n",
    "df['Arrival_time_convenient']= df['Arrival_time_convenient'].astype('int64') \n",
    "df['Catering']= df['Catering'].astype('int64') \n",
    "df['Platform_location']= df['Platform_location'].astype('int64')\n",
    "df['Onboardwifi_service']= df['Onboardwifi_service'].astype('int64')\n",
    "df['Onboard_entertainment']= df['Onboard_entertainment'].astype('int64') \n",
    "df['Online_support']= df['Online_support'].astype('int64')\n",
    "df['Onlinebooking_Ease']= df['Onlinebooking_Ease'].astype('int64')\n",
    "df['Onboard_service']= df['Onboard_service'].astype('int64') \n",
    "df['Leg_room']= df['Leg_room'].astype('int64')\n",
    "df['Baggage_handling']= df['Baggage_handling'].astype('int64')\n",
    "df['Checkin_service']= df['Checkin_service'].astype('int64')\n",
    "df['Cleanliness']= df['Cleanliness'].astype('int64')\n",
    "df['Online_boarding']= df['Online_boarding'].astype('int64')\n",
    "df['Gender']= df['Gender'].astype('int64')\n",
    "df['CustomerType']= df['CustomerType'].astype('int64') \n",
    "df['TypeTravel']= df['TypeTravel'].astype('int64')\n",
    "df['Travel_Class']= df['Travel_Class'].astype('int64')\n",
    "df['Age']= df['Age'].astype('int64')\n",
    "df['DepartureDelay_in_Mins']=df['DepartureDelay_in_Mins'].astype('int64')\n",
    "df['ArrivalDelay_in_Mins']=df['ArrivalDelay_in_Mins'].astype('int64')"
   ]
  },
  {
   "cell_type": "code",
   "execution_count": 930,
   "metadata": {},
   "outputs": [],
   "source": [
    "df_test['Seat_comfort'] = df_test['Seat_comfort'].astype('int64') \n",
    "df_test['Seat_Class']= df_test['Seat_Class'].astype('int64') \n",
    "df_test['Arrival_time_convenient']= df_test['Arrival_time_convenient'].astype('int64')\n",
    "df_test['Catering']= df_test['Catering'].astype('int64') \n",
    "df_test['Platform_location']= df_test['Platform_location'].astype('int64')\n",
    "df_test['Onboardwifi_service']= df_test['Onboardwifi_service'].astype('int64')\n",
    "df_test['Onboard_entertainment']= df_test['Onboard_entertainment'].astype('int64')\n",
    "df_test['Online_support']= df_test['Online_support'].astype('int64')\n",
    "df_test['Onlinebooking_Ease']= df_test['Onlinebooking_Ease'].astype('int64') \n",
    "df_test['Onboard_service']= df_test['Onboard_service'].astype('int64') \n",
    "df_test['Leg_room']= df_test['Leg_room'].astype('int64')\n",
    "df_test['Baggage_handling']= df_test['Baggage_handling'].astype('int64')\n",
    "df_test['Checkin_service']= df_test['Checkin_service'].astype('int64')\n",
    "df_test['Cleanliness']= df_test['Cleanliness'].astype('int64')\n",
    "df_test['Online_boarding']= df_test['Online_boarding'].astype('int64') \n",
    "df_test['Gender']= df_test['Gender'].astype('int64')\n",
    "df_test['CustomerType']= df_test['CustomerType'].astype('int64')\n",
    "df_test['TypeTravel']= df_test['TypeTravel'].astype('int64')\n",
    "df_test['Travel_Class']= df_test['Travel_Class'].astype('int64') \n",
    "df['Age']= df['Age'].astype('int64')\n",
    "df['DepartureDelay_in_Mins']=df['DepartureDelay_in_Mins'].astype('int64')\n",
    "df['ArrivalDelay_in_Mins']=df['ArrivalDelay_in_Mins'].astype('int64')"
   ]
  },
  {
   "cell_type": "code",
   "execution_count": 931,
   "metadata": {},
   "outputs": [
    {
     "name": "stdout",
     "output_type": "stream",
     "text": [
      "<class 'pandas.core.frame.DataFrame'>\n",
      "Int64Index: 94379 entries, 0 to 94378\n",
      "Data columns (total 25 columns):\n",
      " #   Column                   Non-Null Count  Dtype\n",
      "---  ------                   --------------  -----\n",
      " 0   ID                       94379 non-null  int64\n",
      " 1   Overall_Experience       94379 non-null  int64\n",
      " 2   Seat_comfort             94379 non-null  int64\n",
      " 3   Seat_Class               94379 non-null  int64\n",
      " 4   Arrival_time_convenient  94379 non-null  int64\n",
      " 5   Catering                 94379 non-null  int64\n",
      " 6   Platform_location        94379 non-null  int64\n",
      " 7   Onboardwifi_service      94379 non-null  int64\n",
      " 8   Onboard_entertainment    94379 non-null  int64\n",
      " 9   Online_support           94379 non-null  int64\n",
      " 10  Onlinebooking_Ease       94379 non-null  int64\n",
      " 11  Onboard_service          94379 non-null  int64\n",
      " 12  Leg_room                 94379 non-null  int64\n",
      " 13  Baggage_handling         94379 non-null  int64\n",
      " 14  Checkin_service          94379 non-null  int64\n",
      " 15  Cleanliness              94379 non-null  int64\n",
      " 16  Online_boarding          94379 non-null  int64\n",
      " 17  Gender                   94379 non-null  int64\n",
      " 18  CustomerType             94379 non-null  int64\n",
      " 19  Age                      94379 non-null  int64\n",
      " 20  TypeTravel               94379 non-null  int64\n",
      " 21  Travel_Class             94379 non-null  int64\n",
      " 22  Travel_Distance          94379 non-null  int64\n",
      " 23  DepartureDelay_in_Mins   94379 non-null  int64\n",
      " 24  ArrivalDelay_in_Mins     94379 non-null  int64\n",
      "dtypes: int64(25)\n",
      "memory usage: 20.7 MB\n"
     ]
    }
   ],
   "source": [
    "df.info()"
   ]
  },
  {
   "cell_type": "code",
   "execution_count": 932,
   "metadata": {},
   "outputs": [
    {
     "name": "stdout",
     "output_type": "stream",
     "text": [
      "<class 'pandas.core.frame.DataFrame'>\n",
      "Int64Index: 35602 entries, 0 to 35601\n",
      "Data columns (total 24 columns):\n",
      " #   Column                   Non-Null Count  Dtype  \n",
      "---  ------                   --------------  -----  \n",
      " 0   ID                       35602 non-null  int64  \n",
      " 1   Seat_comfort             35602 non-null  int64  \n",
      " 2   Seat_Class               35602 non-null  int64  \n",
      " 3   Arrival_time_convenient  35602 non-null  int64  \n",
      " 4   Catering                 35602 non-null  int64  \n",
      " 5   Platform_location        35602 non-null  int64  \n",
      " 6   Onboardwifi_service      35602 non-null  int64  \n",
      " 7   Onboard_entertainment    35602 non-null  int64  \n",
      " 8   Online_support           35602 non-null  int64  \n",
      " 9   Onlinebooking_Ease       35602 non-null  int64  \n",
      " 10  Onboard_service          35602 non-null  int64  \n",
      " 11  Leg_room                 35602 non-null  int64  \n",
      " 12  Baggage_handling         35602 non-null  int64  \n",
      " 13  Checkin_service          35602 non-null  int64  \n",
      " 14  Cleanliness              35602 non-null  int64  \n",
      " 15  Online_boarding          35602 non-null  int64  \n",
      " 16  Gender                   35602 non-null  int64  \n",
      " 17  CustomerType             35602 non-null  int64  \n",
      " 18  Age                      35602 non-null  float64\n",
      " 19  TypeTravel               35602 non-null  int64  \n",
      " 20  Travel_Class             35602 non-null  int64  \n",
      " 21  Travel_Distance          35602 non-null  int64  \n",
      " 22  DepartureDelay_in_Mins   35602 non-null  float64\n",
      " 23  ArrivalDelay_in_Mins     35602 non-null  float64\n",
      "dtypes: float64(3), int64(21)\n",
      "memory usage: 6.8 MB\n"
     ]
    }
   ],
   "source": [
    "df_test.info()"
   ]
  },
  {
   "cell_type": "code",
   "execution_count": null,
   "metadata": {},
   "outputs": [],
   "source": []
  },
  {
   "cell_type": "markdown",
   "metadata": {},
   "source": [
    "## Null Imputation - by Median/Mode method"
   ]
  },
  {
   "cell_type": "code",
   "execution_count": 163,
   "metadata": {},
   "outputs": [
    {
     "data": {
      "text/plain": [
       "'Mode Seat_Comfort-Train'"
      ]
     },
     "metadata": {},
     "output_type": "display_data"
    },
    {
     "data": {
      "text/plain": [
       "3.0"
      ]
     },
     "metadata": {},
     "output_type": "display_data"
    },
    {
     "data": {
      "text/plain": [
       "'Mode Seat_Comfort-Test'"
      ]
     },
     "metadata": {},
     "output_type": "display_data"
    },
    {
     "data": {
      "text/plain": [
       "3.0"
      ]
     },
     "metadata": {},
     "output_type": "display_data"
    }
   ],
   "source": [
    "df.loc[df['Seat_comfort'].isnull() == True,'Seat_comfort'] = df['Seat_comfort'].mode()[0]\n",
    "df_test.loc[df_test['Seat_comfort'].isnull() == True,'Seat_comfort'] = df_test['Seat_comfort'].mode()[0]\n",
    "display(\"Mode Seat_Comfort-Train\",df['Seat_comfort'].mode()[0])\n",
    "display(\"Mode Seat_Comfort-Test\",df_test['Seat_comfort'].mode()[0])"
   ]
  },
  {
   "cell_type": "code",
   "execution_count": 164,
   "metadata": {},
   "outputs": [],
   "source": [
    "#df.loc[df['Seat_comfort'].isnull() == True,'Seat_comfort'] = df['Seat_comfort'].median()\n",
    "#df_test.loc[df_test['Seat_comfort'].isnull() == True,'Seat_comfort'] = df_test['Seat_comfort'].median()\n",
    "#display(\"Median Seat_Comfort-Train\",df['Seat_comfort'].median())\n",
    "#display(\"Median Seat_Comfort-Test\",df_test['Seat_comfort'].median())"
   ]
  },
  {
   "cell_type": "code",
   "execution_count": 165,
   "metadata": {},
   "outputs": [
    {
     "data": {
      "text/plain": [
       "'Mode Arrival_time_convenient-Train'"
      ]
     },
     "metadata": {},
     "output_type": "display_data"
    },
    {
     "data": {
      "text/plain": [
       "4.0"
      ]
     },
     "metadata": {},
     "output_type": "display_data"
    },
    {
     "data": {
      "text/plain": [
       "'Mode Arrival_time_convenient-Test'"
      ]
     },
     "metadata": {},
     "output_type": "display_data"
    },
    {
     "data": {
      "text/plain": [
       "4.0"
      ]
     },
     "metadata": {},
     "output_type": "display_data"
    }
   ],
   "source": [
    "df.loc[df['Arrival_time_convenient'].isnull() == True,'Arrival_time_convenient'] = df['Arrival_time_convenient'].mode()[0]\n",
    "df_test.loc[df_test['Arrival_time_convenient'].isnull() == True,'Arrival_time_convenient'] = df_test['Arrival_time_convenient'].mode()[0]\n",
    "display(\"Mode Arrival_time_convenient-Train\",df['Arrival_time_convenient'].mode()[0])\n",
    "display(\"Mode Arrival_time_convenient-Test\",df_test['Arrival_time_convenient'].mode()[0])"
   ]
  },
  {
   "cell_type": "code",
   "execution_count": 166,
   "metadata": {},
   "outputs": [],
   "source": [
    "#df.loc[df['Arrival_time_convenient'].isnull() == True,'Arrival_time_convenient'] = df['Arrival_time_convenient'].median()\n",
    "#df_test.loc[df_test['Arrival_time_convenient'].isnull() == True,'Arrival_time_convenient'] = df_test['Arrival_time_convenient'].median()\n",
    "#display(\"Median Arrival_time_convenient-Train\",df['Arrival_time_convenient'].median())\n",
    "#display(\"Median Arrival_time_convenient-Test\",df_test['Arrival_time_convenient'].median())"
   ]
  },
  {
   "cell_type": "code",
   "execution_count": 167,
   "metadata": {},
   "outputs": [
    {
     "data": {
      "text/plain": [
       "'Mode Catering-Train'"
      ]
     },
     "metadata": {},
     "output_type": "display_data"
    },
    {
     "data": {
      "text/plain": [
       "3.0"
      ]
     },
     "metadata": {},
     "output_type": "display_data"
    },
    {
     "data": {
      "text/plain": [
       "'Mode Catering-Test'"
      ]
     },
     "metadata": {},
     "output_type": "display_data"
    },
    {
     "data": {
      "text/plain": [
       "3.0"
      ]
     },
     "metadata": {},
     "output_type": "display_data"
    }
   ],
   "source": [
    "df.loc[df['Catering'].isnull() == True,'Catering'] = df['Catering'].mode()[0]\n",
    "df_test.loc[df_test['Catering'].isnull() == True,'Catering'] = df_test['Catering'].mode()[0]\n",
    "display(\"Mode Catering-Train\",df['Catering'].mode()[0])\n",
    "display(\"Mode Catering-Test\",df_test['Catering'].mode()[0])"
   ]
  },
  {
   "cell_type": "code",
   "execution_count": 168,
   "metadata": {},
   "outputs": [],
   "source": [
    "#df.loc[df['Catering'].isnull() == True,'Catering'] = df['Catering'].median()\n",
    "#df_test.loc[df_test['Catering'].isnull() == True,'Catering'] = df_test['Catering'].median()\n",
    "#display(\"Median Catering-Train\",df['Catering'].median())\n",
    "#display(\"Median Catering-Test\",df_test['Catering'].median())"
   ]
  },
  {
   "cell_type": "code",
   "execution_count": 169,
   "metadata": {},
   "outputs": [
    {
     "data": {
      "text/plain": [
       "'Mode Platform_location-Train'"
      ]
     },
     "metadata": {},
     "output_type": "display_data"
    },
    {
     "data": {
      "text/plain": [
       "3.0"
      ]
     },
     "metadata": {},
     "output_type": "display_data"
    },
    {
     "data": {
      "text/plain": [
       "'Mode Platform_location-Test'"
      ]
     },
     "metadata": {},
     "output_type": "display_data"
    },
    {
     "data": {
      "text/plain": [
       "3.0"
      ]
     },
     "metadata": {},
     "output_type": "display_data"
    }
   ],
   "source": [
    "df.loc[df['Platform_location'].isnull() == True,'Platform_location'] = df['Platform_location'].mode()[0]\n",
    "df_test.loc[df_test['Platform_location'].isnull() == True,'Platform_location'] = df_test['Platform_location'].mode()[0]\n",
    "display(\"Mode Platform_location-Train\",df['Platform_location'].mode()[0])\n",
    "display(\"Mode Platform_location-Test\",df_test['Platform_location'].mode()[0])"
   ]
  },
  {
   "cell_type": "code",
   "execution_count": 170,
   "metadata": {},
   "outputs": [],
   "source": [
    "#df.loc[df['Platform_location'].isnull() == True,'Platform_location'] = df['Platform_location'].median()\n",
    "#df_test.loc[df_test['Platform_location'].isnull() == True,'Platform_location'] = df_test['Platform_location'].median()\n",
    "#display(\"Median Platform_location-Train\",df['Platform_location'].median())\n",
    "#display(\"Median Platform_location-Test\",df_test['Platform_location'].median())"
   ]
  },
  {
   "cell_type": "code",
   "execution_count": 171,
   "metadata": {},
   "outputs": [
    {
     "data": {
      "text/plain": [
       "'Mode Onboardwifi_service-Train'"
      ]
     },
     "metadata": {},
     "output_type": "display_data"
    },
    {
     "data": {
      "text/plain": [
       "4.0"
      ]
     },
     "metadata": {},
     "output_type": "display_data"
    },
    {
     "data": {
      "text/plain": [
       "'Mode Onboardwifi_service-Test'"
      ]
     },
     "metadata": {},
     "output_type": "display_data"
    },
    {
     "data": {
      "text/plain": [
       "4.0"
      ]
     },
     "metadata": {},
     "output_type": "display_data"
    }
   ],
   "source": [
    "df.loc[df['Onboardwifi_service'].isnull() == True,'Onboardwifi_service'] = df['Onboardwifi_service'].mode()[0]\n",
    "df_test.loc[df_test['Onboardwifi_service'].isnull() == True,'Onboardwifi_service'] = df_test['Onboardwifi_service'].mode()[0]\n",
    "display(\"Mode Onboardwifi_service-Train\",df['Onboardwifi_service'].mode()[0])\n",
    "display(\"Mode Onboardwifi_service-Test\",df_test['Onboardwifi_service'].mode()[0])"
   ]
  },
  {
   "cell_type": "code",
   "execution_count": 172,
   "metadata": {},
   "outputs": [],
   "source": [
    "#df.loc[df['Onboardwifi_service'].isnull() == True,'Onboardwifi_service'] = df['Onboardwifi_service'].median()\n",
    "#df_test.loc[df_test['Onboardwifi_service'].isnull() == True,'Onboardwifi_service'] = df_test['Onboardwifi_service'].median()\n",
    "#display(\"Median Onboardwifi_service-Train\",df['Onboardwifi_service'].median())\n",
    "#display(\"Median Onboardwifi_service-Test\",df_test['Onboardwifi_service'].median())"
   ]
  },
  {
   "cell_type": "code",
   "execution_count": 173,
   "metadata": {},
   "outputs": [
    {
     "data": {
      "text/plain": [
       "'Mode Onboard_entertainment-Train'"
      ]
     },
     "metadata": {},
     "output_type": "display_data"
    },
    {
     "data": {
      "text/plain": [
       "4.0"
      ]
     },
     "metadata": {},
     "output_type": "display_data"
    },
    {
     "data": {
      "text/plain": [
       "'Mode Onboard_entertainment-Test'"
      ]
     },
     "metadata": {},
     "output_type": "display_data"
    },
    {
     "data": {
      "text/plain": [
       "4.0"
      ]
     },
     "metadata": {},
     "output_type": "display_data"
    }
   ],
   "source": [
    "df.loc[df['Onboard_entertainment'].isnull() == True,'Onboard_entertainment'] = df['Onboard_entertainment'].mode()[0]\n",
    "df_test.loc[df_test['Onboard_entertainment'].isnull() == True,'Onboard_entertainment'] = df_test['Onboard_entertainment'].mode()[0]\n",
    "display(\"Mode Onboard_entertainment-Train\",df['Onboard_entertainment'].mode()[0])\n",
    "display(\"Mode Onboard_entertainment-Test\",df_test['Onboard_entertainment'].mode()[0])"
   ]
  },
  {
   "cell_type": "code",
   "execution_count": 174,
   "metadata": {},
   "outputs": [],
   "source": [
    "#df.loc[df['Onboard_entertainment'].isnull() == True,'Onboard_entertainment'] = df['Onboard_entertainment'].median()\n",
    "#df_test.loc[df_test['Onboard_entertainment'].isnull() == True,'Onboard_entertainment'] = df_test['Onboard_entertainment'].median()\n",
    "#display(\"Median Onboard_entertainment-Train\",df['Onboard_entertainment'].median())\n",
    "#display(\"Median Onboard_entertainment-Test\",df_test['Onboard_entertainment'].median())"
   ]
  },
  {
   "cell_type": "code",
   "execution_count": 175,
   "metadata": {},
   "outputs": [
    {
     "data": {
      "text/plain": [
       "'Mode Online_support-Train'"
      ]
     },
     "metadata": {},
     "output_type": "display_data"
    },
    {
     "data": {
      "text/plain": [
       "4.0"
      ]
     },
     "metadata": {},
     "output_type": "display_data"
    },
    {
     "data": {
      "text/plain": [
       "'Mode Online_support-Test'"
      ]
     },
     "metadata": {},
     "output_type": "display_data"
    },
    {
     "data": {
      "text/plain": [
       "4.0"
      ]
     },
     "metadata": {},
     "output_type": "display_data"
    }
   ],
   "source": [
    "df.loc[df['Online_support'].isnull() == True,'Online_support'] = df['Online_support'].mode()[0]\n",
    "df_test.loc[df_test['Online_support'].isnull() == True,'Online_support'] = df_test['Online_support'].mode()[0]\n",
    "display(\"Mode Online_support-Train\",df['Online_support'].mode()[0])\n",
    "display(\"Mode Online_support-Test\",df_test['Online_support'].mode()[0])"
   ]
  },
  {
   "cell_type": "code",
   "execution_count": 176,
   "metadata": {},
   "outputs": [],
   "source": [
    "#df.loc[df['Online_support'].isnull() == True,'Online_support'] = df['Online_support'].median()\n",
    "#df_test.loc[df_test['Online_support'].isnull() == True,'Online_support'] = df_test['Online_support'].median()\n",
    "#display(\"Median Online_support-Train\",df['Online_support'].median())\n",
    "#display(\"Median Online_support-Test\",df_test['Online_support'].median())"
   ]
  },
  {
   "cell_type": "code",
   "execution_count": 177,
   "metadata": {},
   "outputs": [
    {
     "data": {
      "text/plain": [
       "'Mode Onlinebooking_Ease-Train'"
      ]
     },
     "metadata": {},
     "output_type": "display_data"
    },
    {
     "data": {
      "text/plain": [
       "4.0"
      ]
     },
     "metadata": {},
     "output_type": "display_data"
    },
    {
     "data": {
      "text/plain": [
       "'Mode Onlinebooking_Ease-Test'"
      ]
     },
     "metadata": {},
     "output_type": "display_data"
    },
    {
     "data": {
      "text/plain": [
       "4.0"
      ]
     },
     "metadata": {},
     "output_type": "display_data"
    }
   ],
   "source": [
    "df.loc[df['Onlinebooking_Ease'].isnull() == True,'Onlinebooking_Ease'] = df['Onlinebooking_Ease'].mode()[0]\n",
    "df_test.loc[df_test['Onlinebooking_Ease'].isnull() == True,'Onlinebooking_Ease'] = df_test['Onlinebooking_Ease'].mode()[0]\n",
    "display(\"Mode Onlinebooking_Ease-Train\",df['Onlinebooking_Ease'].mode()[0])\n",
    "display(\"Mode Onlinebooking_Ease-Test\",df_test['Onlinebooking_Ease'].mode()[0])"
   ]
  },
  {
   "cell_type": "code",
   "execution_count": 178,
   "metadata": {},
   "outputs": [],
   "source": [
    "#df.loc[df['Onlinebooking_Ease'].isnull() == True,'Onlinebooking_Ease'] = df['Onlinebooking_Ease'].median()\n",
    "#df_test.loc[df_test['Onlinebooking_Ease'].isnull() == True,'Onlinebooking_Ease'] = df_test['Onlinebooking_Ease'].median()\n",
    "#display(\"Median Onlinebooking_Ease-Train\",df['Onlinebooking_Ease'].median())\n",
    "#display(\"Median Onlinebooking_Ease-Test\",df_test['Onlinebooking_Ease'].median())"
   ]
  },
  {
   "cell_type": "code",
   "execution_count": 179,
   "metadata": {},
   "outputs": [
    {
     "data": {
      "text/plain": [
       "'Mode Onboard_service-Train'"
      ]
     },
     "metadata": {},
     "output_type": "display_data"
    },
    {
     "data": {
      "text/plain": [
       "4.0"
      ]
     },
     "metadata": {},
     "output_type": "display_data"
    },
    {
     "data": {
      "text/plain": [
       "'Mode Onboard_service-Test'"
      ]
     },
     "metadata": {},
     "output_type": "display_data"
    },
    {
     "data": {
      "text/plain": [
       "4.0"
      ]
     },
     "metadata": {},
     "output_type": "display_data"
    }
   ],
   "source": [
    "df.loc[df['Onboard_service'].isnull() == True,'Onboard_service'] = df['Onboard_service'].mode()[0]\n",
    "df_test.loc[df_test['Onboard_service'].isnull() == True,'Onboard_service'] = df_test['Onboard_service'].mode()[0]\n",
    "display(\"Mode Onboard_service-Train\",df['Onboard_service'].mode()[0])\n",
    "display(\"Mode Onboard_service-Test\",df_test['Onboard_service'].mode()[0])"
   ]
  },
  {
   "cell_type": "code",
   "execution_count": 180,
   "metadata": {},
   "outputs": [],
   "source": [
    "#df.loc[df['Onboard_service'].isnull() == True,'Onboard_service'] = df['Onboard_service'].median()\n",
    "#df_test.loc[df_test['Onboard_service'].isnull() == True,'Onboard_service'] = df_test['Onboard_service'].median()\n",
    "#display(\"Median Onboard_service-Train\",df['Onboard_service'].median())\n",
    "#display(\"Median Onboard_service-Test\",df_test['Onboard_service'].median())"
   ]
  },
  {
   "cell_type": "code",
   "execution_count": 181,
   "metadata": {},
   "outputs": [
    {
     "data": {
      "text/plain": [
       "'Mode Leg_room-Train'"
      ]
     },
     "metadata": {},
     "output_type": "display_data"
    },
    {
     "data": {
      "text/plain": [
       "4.0"
      ]
     },
     "metadata": {},
     "output_type": "display_data"
    },
    {
     "data": {
      "text/plain": [
       "'Mode Leg_room-Test'"
      ]
     },
     "metadata": {},
     "output_type": "display_data"
    },
    {
     "data": {
      "text/plain": [
       "4.0"
      ]
     },
     "metadata": {},
     "output_type": "display_data"
    }
   ],
   "source": [
    "df.loc[df['Leg_room'].isnull() == True,'Leg_room'] = df['Leg_room'].mode()[0]\n",
    "df_test.loc[df_test['Leg_room'].isnull() == True,'Leg_room'] = df_test['Leg_room'].mode()[0]\n",
    "display(\"Mode Leg_room-Train\",df['Leg_room'].mode()[0])\n",
    "display(\"Mode Leg_room-Test\",df_test['Leg_room'].mode()[0])"
   ]
  },
  {
   "cell_type": "code",
   "execution_count": 182,
   "metadata": {},
   "outputs": [],
   "source": [
    "#df.loc[df['Leg_room'].isnull() == True,'Leg_room'] = df['Leg_room'].median()\n",
    "#df_test.loc[df_test['Leg_room'].isnull() == True,'Leg_room'] = df_test['Leg_room'].median()\n",
    "#display(\"Median Leg_room-Train\",df['Leg_room'].median())\n",
    "#display(\"Median Leg_room-Test\",df_test['Leg_room'].median())"
   ]
  },
  {
   "cell_type": "code",
   "execution_count": 183,
   "metadata": {},
   "outputs": [
    {
     "data": {
      "text/plain": [
       "'Mode Baggage_handling-Train'"
      ]
     },
     "metadata": {},
     "output_type": "display_data"
    },
    {
     "data": {
      "text/plain": [
       "4.0"
      ]
     },
     "metadata": {},
     "output_type": "display_data"
    },
    {
     "data": {
      "text/plain": [
       "'Mode Baggage_handling-Test'"
      ]
     },
     "metadata": {},
     "output_type": "display_data"
    },
    {
     "data": {
      "text/plain": [
       "4.0"
      ]
     },
     "metadata": {},
     "output_type": "display_data"
    }
   ],
   "source": [
    "df.loc[df['Baggage_handling'].isnull() == True,'Baggage_handling'] = df['Baggage_handling'].mode()[0]\n",
    "df_test.loc[df_test['Baggage_handling'].isnull() == True,'Baggage_handling'] = df_test['Baggage_handling'].mode()[0]\n",
    "display(\"Mode Baggage_handling-Train\",df['Baggage_handling'].mode()[0])\n",
    "display(\"Mode Baggage_handling-Test\",df_test['Baggage_handling'].mode()[0])"
   ]
  },
  {
   "cell_type": "code",
   "execution_count": 184,
   "metadata": {},
   "outputs": [],
   "source": [
    "#df.loc[df['Baggage_handling'].isnull() == True,'Baggage_handling'] = df['Baggage_handling'].median()\n",
    "#df_test.loc[df_test['Baggage_handling'].isnull() == True,'Baggage_handling'] = df_test['Baggage_handling'].median()\n",
    "#display(\"Median Baggage_handling-Train\",df['Baggage_handling'].median())\n",
    "#display(\"Median Baggage_handling-Test\",df_test['Baggage_handling'].median())#"
   ]
  },
  {
   "cell_type": "code",
   "execution_count": 185,
   "metadata": {},
   "outputs": [
    {
     "data": {
      "text/plain": [
       "'Mode Checkin_service-Train'"
      ]
     },
     "metadata": {},
     "output_type": "display_data"
    },
    {
     "data": {
      "text/plain": [
       "4.0"
      ]
     },
     "metadata": {},
     "output_type": "display_data"
    },
    {
     "data": {
      "text/plain": [
       "'Mode Checkin_service-Test'"
      ]
     },
     "metadata": {},
     "output_type": "display_data"
    },
    {
     "data": {
      "text/plain": [
       "4.0"
      ]
     },
     "metadata": {},
     "output_type": "display_data"
    }
   ],
   "source": [
    "df.loc[df['Checkin_service'].isnull() == True,'Checkin_service'] = df['Checkin_service'].mode()[0]\n",
    "df_test.loc[df_test['Checkin_service'].isnull() == True,'Checkin_service'] = df_test['Checkin_service'].mode()[0]\n",
    "display(\"Mode Checkin_service-Train\",df['Checkin_service'].mode()[0])\n",
    "display(\"Mode Checkin_service-Test\",df_test['Checkin_service'].mode()[0])"
   ]
  },
  {
   "cell_type": "code",
   "execution_count": 186,
   "metadata": {},
   "outputs": [],
   "source": [
    "#df.loc[df['Checkin_service'].isnull() == True,'Checkin_service'] = df['Checkin_service'].median()\n",
    "#df_test.loc[df_test['Checkin_service'].isnull() == True,'Checkin_service'] = df_test['Checkin_service'].median()\n",
    "#display(\"Median Checkin_service-Train\",df['Checkin_service'].median())\n",
    "#display(\"Median Checkin_service-Test\",df_test['Checkin_service'].median())"
   ]
  },
  {
   "cell_type": "code",
   "execution_count": 187,
   "metadata": {},
   "outputs": [
    {
     "data": {
      "text/plain": [
       "'Mode Cleanliness-Train'"
      ]
     },
     "metadata": {},
     "output_type": "display_data"
    },
    {
     "data": {
      "text/plain": [
       "4.0"
      ]
     },
     "metadata": {},
     "output_type": "display_data"
    },
    {
     "data": {
      "text/plain": [
       "'Mode Cleanliness-Test'"
      ]
     },
     "metadata": {},
     "output_type": "display_data"
    },
    {
     "data": {
      "text/plain": [
       "4.0"
      ]
     },
     "metadata": {},
     "output_type": "display_data"
    }
   ],
   "source": [
    "df.loc[df['Cleanliness'].isnull() == True,'Cleanliness'] = df['Cleanliness'].mode()[0]\n",
    "df_test.loc[df_test['Cleanliness'].isnull() == True,'Cleanliness'] = df_test['Cleanliness'].mode()[0]\n",
    "display(\"Mode Cleanliness-Train\",df['Cleanliness'].mode()[0])\n",
    "display(\"Mode Cleanliness-Test\",df_test['Cleanliness'].mode()[0])"
   ]
  },
  {
   "cell_type": "code",
   "execution_count": 188,
   "metadata": {},
   "outputs": [],
   "source": [
    "#df.loc[df['Cleanliness'].isnull() == True,'Cleanliness'] = df['Cleanliness'].median()\n",
    "#df_test.loc[df_test['Cleanliness'].isnull() == True,'Cleanliness'] = df_test['Cleanliness'].median()\n",
    "#display(\"Median Cleanliness-Train\",df['Cleanliness'].median())\n",
    "#display(\"Median Cleanliness-Test\",df_test['Cleanliness'].median())"
   ]
  },
  {
   "cell_type": "code",
   "execution_count": 189,
   "metadata": {},
   "outputs": [
    {
     "data": {
      "text/plain": [
       "'Mode Online_boarding-Train'"
      ]
     },
     "metadata": {},
     "output_type": "display_data"
    },
    {
     "data": {
      "text/plain": [
       "4.0"
      ]
     },
     "metadata": {},
     "output_type": "display_data"
    },
    {
     "data": {
      "text/plain": [
       "'Mode Online_boarding-Test'"
      ]
     },
     "metadata": {},
     "output_type": "display_data"
    },
    {
     "data": {
      "text/plain": [
       "4.0"
      ]
     },
     "metadata": {},
     "output_type": "display_data"
    }
   ],
   "source": [
    "df.loc[df['Online_boarding'].isnull() == True,'Online_boarding'] = df['Online_boarding'].mode()[0]\n",
    "df_test.loc[df_test['Online_boarding'].isnull() == True,'Online_boarding'] = df_test['Online_boarding'].mode()[0]\n",
    "display(\"Mode Online_boarding-Train\",df['Online_boarding'].mode()[0])\n",
    "display(\"Mode Online_boarding-Test\",df_test['Online_boarding'].mode()[0])"
   ]
  },
  {
   "cell_type": "code",
   "execution_count": 190,
   "metadata": {},
   "outputs": [],
   "source": [
    "#df.loc[df['Online_boarding'].isnull() == True,'Online_boarding'] = df['Online_boarding'].median()\n",
    "#df_test.loc[df_test['Online_boarding'].isnull() == True,'Online_boarding'] = df_test['Online_boarding'].median()\n",
    "#display(\"Median Online_boarding-Train\",df['Online_boarding'].median())\n",
    "#display(\"Median Online_boarding-Test\",df_test['Online_boarding'].median())"
   ]
  },
  {
   "cell_type": "code",
   "execution_count": 191,
   "metadata": {},
   "outputs": [
    {
     "data": {
      "text/plain": [
       "'Mode Gender-Train'"
      ]
     },
     "metadata": {},
     "output_type": "display_data"
    },
    {
     "data": {
      "text/plain": [
       "1.0"
      ]
     },
     "metadata": {},
     "output_type": "display_data"
    },
    {
     "data": {
      "text/plain": [
       "'Mode Gender-Test'"
      ]
     },
     "metadata": {},
     "output_type": "display_data"
    },
    {
     "data": {
      "text/plain": [
       "1.0"
      ]
     },
     "metadata": {},
     "output_type": "display_data"
    }
   ],
   "source": [
    "df.loc[df['Gender'].isnull() == True,'Gender'] = df['Gender'].mode()[0]\n",
    "df_test.loc[df_test['Gender'].isnull() == True,'Gender'] = df_test['Gender'].mode()[0]\n",
    "display(\"Mode Gender-Train\",df['Gender'].mode()[0])\n",
    "display(\"Mode Gender-Test\",df_test['Gender'].mode()[0])"
   ]
  },
  {
   "cell_type": "code",
   "execution_count": 192,
   "metadata": {},
   "outputs": [],
   "source": [
    "#df.loc[df['Gender'].isnull() == True,'Gender'] = df['Gender'].median()\n",
    "#df_test.loc[df_test['Gender'].isnull() == True,'Gender'] = df_test['Gender'].median()\n",
    "#display(\"Median Gender-Train\",df['Gender'].median())\n",
    "#display(\"Median Gender-Test\",df_test['Gender'].median())"
   ]
  },
  {
   "cell_type": "code",
   "execution_count": 193,
   "metadata": {},
   "outputs": [
    {
     "data": {
      "text/plain": [
       "'Mode CustomerType-Train'"
      ]
     },
     "metadata": {},
     "output_type": "display_data"
    },
    {
     "data": {
      "text/plain": [
       "1.0"
      ]
     },
     "metadata": {},
     "output_type": "display_data"
    },
    {
     "data": {
      "text/plain": [
       "'Mode CustomerType-Test'"
      ]
     },
     "metadata": {},
     "output_type": "display_data"
    },
    {
     "data": {
      "text/plain": [
       "1.0"
      ]
     },
     "metadata": {},
     "output_type": "display_data"
    }
   ],
   "source": [
    "df.loc[df['CustomerType'].isnull() == True,'CustomerType'] = df['CustomerType'].mode()[0]\n",
    "df_test.loc[df_test['CustomerType'].isnull() == True,'CustomerType'] = df_test['CustomerType'].mode()[0]\n",
    "display(\"Mode CustomerType-Train\",df['CustomerType'].mode()[0])\n",
    "display(\"Mode CustomerType-Test\",df_test['CustomerType'].mode()[0])"
   ]
  },
  {
   "cell_type": "code",
   "execution_count": 194,
   "metadata": {},
   "outputs": [],
   "source": [
    "#df.loc[df['CustomerType'].isnull() == True,'CustomerType'] = df['CustomerType'].median()\n",
    "#df_test.loc[df_test['CustomerType'].isnull() == True,'CustomerType'] = df_test['CustomerType'].median()\n",
    "#display(\"Median CustomerType-Train\",df['CustomerType'].median())\n",
    "#display(\"Median CustomerType-Test\",df_test['CustomerType'].median())"
   ]
  },
  {
   "cell_type": "code",
   "execution_count": 195,
   "metadata": {},
   "outputs": [
    {
     "data": {
      "text/plain": [
       "'Mode TypeTravel-Train'"
      ]
     },
     "metadata": {},
     "output_type": "display_data"
    },
    {
     "data": {
      "text/plain": [
       "1.0"
      ]
     },
     "metadata": {},
     "output_type": "display_data"
    },
    {
     "data": {
      "text/plain": [
       "'Mode TypeTravel-Test'"
      ]
     },
     "metadata": {},
     "output_type": "display_data"
    },
    {
     "data": {
      "text/plain": [
       "1.0"
      ]
     },
     "metadata": {},
     "output_type": "display_data"
    }
   ],
   "source": [
    "df.loc[df['TypeTravel'].isnull() == True,'TypeTravel'] = df['TypeTravel'].mode()[0]\n",
    "df_test.loc[df_test['TypeTravel'].isnull() == True,'TypeTravel'] = df_test['TypeTravel'].mode()[0]\n",
    "display(\"Mode TypeTravel-Train\",df['TypeTravel'].mode()[0])\n",
    "display(\"Mode TypeTravel-Test\",df_test['TypeTravel'].mode()[0])"
   ]
  },
  {
   "cell_type": "code",
   "execution_count": 196,
   "metadata": {},
   "outputs": [],
   "source": [
    "#df.loc[df['TypeTravel'].isnull() == True,'TypeTravel'] = df['TypeTravel'].median()\n",
    "#df_test.loc[df_test['TypeTravel'].isnull() == True,'TypeTravel'] = df_test['TypeTravel'].median()\n",
    "#display(\"Median TypeTravel-Train\",df['TypeTravel'].median())\n",
    "#display(\"Median TypeTravel-Test\",df_test['TypeTravel'].median())"
   ]
  },
  {
   "cell_type": "code",
   "execution_count": 197,
   "metadata": {},
   "outputs": [
    {
     "data": {
      "text/plain": [
       "'Mode Travel_Class-Train'"
      ]
     },
     "metadata": {},
     "output_type": "display_data"
    },
    {
     "data": {
      "text/plain": [
       "0"
      ]
     },
     "metadata": {},
     "output_type": "display_data"
    },
    {
     "data": {
      "text/plain": [
       "'Mode Travel_Class-Test'"
      ]
     },
     "metadata": {},
     "output_type": "display_data"
    },
    {
     "data": {
      "text/plain": [
       "0"
      ]
     },
     "metadata": {},
     "output_type": "display_data"
    }
   ],
   "source": [
    "df.loc[df['Travel_Class'].isnull() == True,'Travel_Class'] = df['Travel_Class'].mode()[0]\n",
    "df_test.loc[df_test['Travel_Class'].isnull() == True,'Travel_Class'] = df_test['Travel_Class'].mode()[0]\n",
    "display(\"Mode Travel_Class-Train\",df['Travel_Class'].mode()[0])\n",
    "display(\"Mode Travel_Class-Test\",df_test['Travel_Class'].mode()[0])"
   ]
  },
  {
   "cell_type": "code",
   "execution_count": 198,
   "metadata": {},
   "outputs": [],
   "source": [
    "#df.loc[df['Travel_Class'].isnull() == True,'Travel_Class'] = df['Travel_Class'].median()\n",
    "#df_test.loc[df_test['Travel_Class'].isnull() == True,'Travel_Class'] = df_test['Travel_Class'].median()\n",
    "#display(\"Median Travel_Class-Train\",df['Travel_Class'].median())\n",
    "#display(\"Median Travel_Class-Test\",df_test['Travel_Class'].median())"
   ]
  },
  {
   "cell_type": "markdown",
   "metadata": {},
   "source": [
    "## Outliers Check ##"
   ]
  },
  {
   "cell_type": "code",
   "execution_count": 1275,
   "metadata": {},
   "outputs": [
    {
     "name": "stderr",
     "output_type": "stream",
     "text": [
      "C:\\Users\\User\\anaconda3\\lib\\site-packages\\seaborn\\_decorators.py:36: FutureWarning: Pass the following variable as a keyword arg: x. From version 0.12, the only valid positional argument will be `data`, and passing other arguments without an explicit keyword will result in an error or misinterpretation.\n",
      "  warnings.warn(\n"
     ]
    },
    {
     "data": {
      "image/png": "[encoded data removed]",
      "text/plain": [
       "<Figure size 432x288 with 1 Axes>"
      ]
     },
     "metadata": {
      "needs_background": "light"
     },
     "output_type": "display_data"
    },
    {
     "name": "stderr",
     "output_type": "stream",
     "text": [
      "C:\\Users\\User\\anaconda3\\lib\\site-packages\\seaborn\\_decorators.py:36: FutureWarning: Pass the following variable as a keyword arg: x. From version 0.12, the only valid positional argument will be `data`, and passing other arguments without an explicit keyword will result in an error or misinterpretation.\n",
      "  warnings.warn(\n"
     ]
    },
    {
     "data": {
      "image/png": "[encoded data removed]",
      "text/plain": [
       "<Figure size 432x288 with 1 Axes>"
      ]
     },
     "metadata": {
      "needs_background": "light"
     },
     "output_type": "display_data"
    },
    {
     "name": "stderr",
     "output_type": "stream",
     "text": [
      "C:\\Users\\User\\anaconda3\\lib\\site-packages\\seaborn\\_decorators.py:36: FutureWarning: Pass the following variable as a keyword arg: x. From version 0.12, the only valid positional argument will be `data`, and passing other arguments without an explicit keyword will result in an error or misinterpretation.\n",
      "  warnings.warn(\n"
     ]
    },
    {
     "data": {
      "image/png": "[encoded data removed]",
      "text/plain": [
       "<Figure size 432x288 with 1 Axes>"
      ]
     },
     "metadata": {
      "needs_background": "light"
     },
     "output_type": "display_data"
    },
    {
     "name": "stderr",
     "output_type": "stream",
     "text": [
      "C:\\Users\\User\\anaconda3\\lib\\site-packages\\seaborn\\_decorators.py:36: FutureWarning: Pass the following variable as a keyword arg: x. From version 0.12, the only valid positional argument will be `data`, and passing other arguments without an explicit keyword will result in an error or misinterpretation.\n",
      "  warnings.warn(\n"
     ]
    },
    {
     "data": {
      "image/png": "[encoded data removed]",
      "text/plain": [
       "<Figure size 432x288 with 1 Axes>"
      ]
     },
     "metadata": {
      "needs_background": "light"
     },
     "output_type": "display_data"
    }
   ],
   "source": [
    "cols = ['Age','Travel_Distance','DepartureDelay_in_Mins','ArrivalDelay_in_Mins']\n",
    "for i in cols:\n",
    "    sns.boxplot(df[i],whis=1.5)\n",
    "    plt.grid()\n",
    "    plt.show();"
   ]
  },
  {
   "cell_type": "code",
   "execution_count": 1276,
   "metadata": {},
   "outputs": [],
   "source": [
    "def remove_outlier(col):\n",
    "    Q1,Q3=col.quantile([0.25,0.75])\n",
    "    IQR=Q3-Q1\n",
    "    lower_range= Q1-(1.5 * IQR)\n",
    "    upper_range= Q3+(1.5 * IQR)\n",
    "    return lower_range, upper_range "
   ]
  },
  {
   "cell_type": "code",
   "execution_count": 1277,
   "metadata": {},
   "outputs": [],
   "source": [
    "for column in df[cols].columns:\n",
    "    lr,ur=remove_outlier(df[column])\n",
    "    df[column]=np.where(df[column]>ur,ur,df[column])\n",
    "    df[column]=np.where(df[column]<lr,lr,df[column])"
   ]
  },
  {
   "cell_type": "code",
   "execution_count": 82,
   "metadata": {},
   "outputs": [],
   "source": [
    "#cols = ['Age','Travel_Distance','DepartureDelay_in_Mins','ArrivalDelay_in_Mins']\n",
    "#for i in cols:\n",
    "#    sns.boxplot(df[i],whis=1.5)\n",
    "#    plt.grid()\n",
    "#    plt.show();"
   ]
  },
  {
   "cell_type": "code",
   "execution_count": 1221,
   "metadata": {},
   "outputs": [
    {
     "data": {
      "text/plain": [
       "'Train'"
      ]
     },
     "metadata": {},
     "output_type": "display_data"
    },
    {
     "data": {
      "text/plain": [
       "40.0"
      ]
     },
     "metadata": {},
     "output_type": "display_data"
    },
    {
     "data": {
      "text/plain": [
       "'Test'"
      ]
     },
     "metadata": {},
     "output_type": "display_data"
    },
    {
     "data": {
      "text/plain": [
       "40.0"
      ]
     },
     "metadata": {},
     "output_type": "display_data"
    }
   ],
   "source": [
    "median1=df['Age'].median()\n",
    "df['Age']=df['Age'].fillna(median1)\n",
    "df_test.loc[df_test['Age'].isnull() == True,'Age'] = df_test['Age'].median()\n",
    "display(\"Train\",median1)\n",
    "display(\"Test\",df_test['Age'].median())"
   ]
  },
  {
   "cell_type": "code",
   "execution_count": 1222,
   "metadata": {},
   "outputs": [
    {
     "data": {
      "text/plain": [
       "'Train'"
      ]
     },
     "metadata": {},
     "output_type": "display_data"
    },
    {
     "data": {
      "text/plain": [
       "0.0"
      ]
     },
     "metadata": {},
     "output_type": "display_data"
    },
    {
     "data": {
      "text/plain": [
       "'Test'"
      ]
     },
     "metadata": {},
     "output_type": "display_data"
    },
    {
     "data": {
      "text/plain": [
       "0.0"
      ]
     },
     "metadata": {},
     "output_type": "display_data"
    }
   ],
   "source": [
    "median2=df['DepartureDelay_in_Mins'].median()\n",
    "df['DepartureDelay_in_Mins']=df['DepartureDelay_in_Mins'].fillna(median2)\n",
    "df_test.loc[df_test['DepartureDelay_in_Mins'].isnull() == True,'DepartureDelay_in_Mins'] = df_test['DepartureDelay_in_Mins'].median()\n",
    "display(\"Train\",median2)\n",
    "display(\"Test\",df_test['DepartureDelay_in_Mins'].median())"
   ]
  },
  {
   "cell_type": "code",
   "execution_count": 1223,
   "metadata": {},
   "outputs": [
    {
     "data": {
      "text/plain": [
       "'Train'"
      ]
     },
     "metadata": {},
     "output_type": "display_data"
    },
    {
     "data": {
      "text/plain": [
       "0.0"
      ]
     },
     "metadata": {},
     "output_type": "display_data"
    },
    {
     "data": {
      "text/plain": [
       "'Test'"
      ]
     },
     "metadata": {},
     "output_type": "display_data"
    },
    {
     "data": {
      "text/plain": [
       "0.0"
      ]
     },
     "metadata": {},
     "output_type": "display_data"
    }
   ],
   "source": [
    "median3=df['ArrivalDelay_in_Mins'].median()\n",
    "df['ArrivalDelay_in_Mins']=df['ArrivalDelay_in_Mins'].fillna(median3)\n",
    "df_test.loc[df_test['ArrivalDelay_in_Mins'].isnull() == True,'ArrivalDelay_in_Mins'] = df_test['ArrivalDelay_in_Mins'].median()\n",
    "display(\"Train\",median3)\n",
    "display(\"Test\",df_test['ArrivalDelay_in_Mins'].median())"
   ]
  },
  {
   "cell_type": "code",
   "execution_count": 1224,
   "metadata": {},
   "outputs": [
    {
     "data": {
      "text/plain": [
       "'TRAIN DATASET'"
      ]
     },
     "metadata": {},
     "output_type": "display_data"
    },
    {
     "data": {
      "text/plain": [
       "Overall_Experience            0\n",
       "Seat_comfort                 61\n",
       "Seat_Class                    0\n",
       "Arrival_time_convenient    8930\n",
       "Catering                   8741\n",
       "Platform_location            30\n",
       "Onboardwifi_service          30\n",
       "Onboard_entertainment        18\n",
       "Online_support               91\n",
       "Onlinebooking_Ease           73\n",
       "Onboard_service            7601\n",
       "Leg_room                     90\n",
       "Baggage_handling            142\n",
       "Checkin_service              77\n",
       "Cleanliness                   6\n",
       "Online_boarding               6\n",
       "Gender                       77\n",
       "CustomerType               8951\n",
       "Age                           0\n",
       "TypeTravel                 9226\n",
       "Travel_Class                  0\n",
       "Travel_Distance               0\n",
       "DepartureDelay_in_Mins        0\n",
       "ArrivalDelay_in_Mins          0\n",
       "dtype: int64"
      ]
     },
     "metadata": {},
     "output_type": "display_data"
    },
    {
     "data": {
      "text/plain": [
       "'TEST DATASET'"
      ]
     },
     "metadata": {},
     "output_type": "display_data"
    },
    {
     "data": {
      "text/plain": [
       "Seat_comfort                 22\n",
       "Seat_Class                    0\n",
       "Arrival_time_convenient    3325\n",
       "Catering                   3357\n",
       "Platform_location            12\n",
       "Onboardwifi_service          12\n",
       "Onboard_entertainment         8\n",
       "Online_support               26\n",
       "Onlinebooking_Ease           18\n",
       "Onboard_service            2872\n",
       "Leg_room                     25\n",
       "Baggage_handling             40\n",
       "Checkin_service              22\n",
       "Cleanliness                   2\n",
       "Online_boarding               2\n",
       "Gender                       30\n",
       "CustomerType               3383\n",
       "Age                           0\n",
       "TypeTravel                 3448\n",
       "Travel_Class                  0\n",
       "Travel_Distance               0\n",
       "DepartureDelay_in_Mins        0\n",
       "ArrivalDelay_in_Mins          0\n",
       "dtype: int64"
      ]
     },
     "metadata": {},
     "output_type": "display_data"
    }
   ],
   "source": [
    "display(\"TRAIN DATASET\",df.isnull().sum())\n",
    "display(\"TEST DATASET\",df_test.isnull().sum())"
   ]
  },
  {
   "cell_type": "markdown",
   "metadata": {},
   "source": [
    "## Check for any object data types ##"
   ]
  },
  {
   "cell_type": "code",
   "execution_count": 937,
   "metadata": {},
   "outputs": [
    {
     "name": "stdout",
     "output_type": "stream",
     "text": [
      "[]\n",
      "\n",
      "\n",
      "['ID', 'Overall_Experience', 'Seat_comfort', 'Seat_Class', 'Arrival_time_convenient', 'Catering', 'Platform_location', 'Onboardwifi_service', 'Onboard_entertainment', 'Online_support', 'Onlinebooking_Ease', 'Onboard_service', 'Leg_room', 'Baggage_handling', 'Checkin_service', 'Cleanliness', 'Online_boarding', 'Gender', 'CustomerType', 'Age', 'TypeTravel', 'Travel_Class', 'Travel_Distance', 'DepartureDelay_in_Mins', 'ArrivalDelay_in_Mins']\n"
     ]
    }
   ],
   "source": [
    "cat=[]\n",
    "num=[]\n",
    "for i in df.columns:\n",
    "    if df[i].dtype==\"object\":\n",
    "        cat.append(i)\n",
    "    else:\n",
    "        num.append(i)\n",
    "print(cat) \n",
    "print(\"\\n\")\n",
    "print(num)"
   ]
  },
  {
   "cell_type": "code",
   "execution_count": 938,
   "metadata": {},
   "outputs": [],
   "source": [
    "for column in df.columns:\n",
    "    if df[column].dtype == 'object':\n",
    "        print(column.upper(),': ',df[column].nunique())\n",
    "        print(df[column].value_counts(normalize=True).sort_values())\n",
    "        print('\\n')"
   ]
  },
  {
   "cell_type": "markdown",
   "metadata": {},
   "source": [
    "**Quick Pivot for some analysis**"
   ]
  },
  {
   "cell_type": "code",
   "execution_count": 207,
   "metadata": {},
   "outputs": [],
   "source": [
    "#pd.pivot_table(df, index=['Product', 'Gender'],                  \n",
    "#                     columns=[ 'MaritalStatus'], aggfunc=len) \n",
    "#pd.pivot_table(df, index=['Overall_Experience'],                  \n",
    "#                    columns=[ 'Overall_Experience']) "
   ]
  },
  {
   "cell_type": "code",
   "execution_count": null,
   "metadata": {},
   "outputs": [],
   "source": [
    "#display(df['Catering'].value_counts(normalize=True).sort_values)\n",
    "#display(pd.crosstab(df['Overall_Experience'],df['Catering'] ))\n",
    "#sns.countplot(x=\"Overall_Experience\",hue=\"Catering\",data=df)\n",
    "#df.hist(by='Overall_Experience',column = 'Catering')"
   ]
  },
  {
   "cell_type": "code",
   "execution_count": null,
   "metadata": {},
   "outputs": [],
   "source": [
    "#plt.figure(figsize=(5,5))\n",
    "#sns.countplot(x=\"Overall_Experience\",hue=\"Catering\",data=df)"
   ]
  },
  {
   "cell_type": "code",
   "execution_count": 13,
   "metadata": {},
   "outputs": [],
   "source": [
    "#df.info()"
   ]
  },
  {
   "cell_type": "code",
   "execution_count": 939,
   "metadata": {},
   "outputs": [],
   "source": [
    "#df['Age']= df['Age'].astype('int64') \n",
    "#df['DepartureDelay_in_Mins']= df['DepartureDelay_in_Mins'].astype('int64') \n",
    "#df['ArrivalDelay_in_Mins']= df['ArrivalDelay_in_Mins'].astype('int64') "
   ]
  },
  {
   "cell_type": "code",
   "execution_count": 14,
   "metadata": {},
   "outputs": [],
   "source": [
    "#df_test['Age']= df_test['Age'].astype('int64') \n",
    "#df_test['DepartureDelay_in_Mins']= df_test['DepartureDelay_in_Mins'].astype('int64') \n",
    "#df_test['ArrivalDelay_in_Mins']= df_test['ArrivalDelay_in_Mins'].astype('int64') "
   ]
  },
  {
   "cell_type": "markdown",
   "metadata": {},
   "source": [
    "## Necessary step for Test file prediction and submission ##"
   ]
  },
  {
   "cell_type": "code",
   "execution_count": 22,
   "metadata": {},
   "outputs": [],
   "source": [
    "df=df.drop(['ID'],axis=1)"
   ]
  },
  {
   "cell_type": "code",
   "execution_count": 23,
   "metadata": {},
   "outputs": [],
   "source": [
    "test_file_ids = df_test['ID'] ## necessary step"
   ]
  },
  {
   "cell_type": "code",
   "execution_count": 24,
   "metadata": {},
   "outputs": [],
   "source": [
    "df_test=df_test.drop(['ID'],axis=1)"
   ]
  },
  {
   "cell_type": "code",
   "execution_count": 25,
   "metadata": {},
   "outputs": [
    {
     "data": {
      "text/plain": [
       "((94379, 24), (35602, 23))"
      ]
     },
     "execution_count": 25,
     "metadata": {},
     "output_type": "execute_result"
    }
   ],
   "source": [
    "df.shape,df_test.shape"
   ]
  },
  {
   "cell_type": "markdown",
   "metadata": {},
   "source": [
    "## Correlation ##"
   ]
  },
  {
   "cell_type": "code",
   "execution_count": 99,
   "metadata": {},
   "outputs": [
    {
     "data": {
      "text/plain": [
       "<AxesSubplot:>"
      ]
     },
     "execution_count": 99,
     "metadata": {},
     "output_type": "execute_result"
    },
    {
     "data": {
      "image/png": "[encoded data removed]",
      "text/plain": [
       "<Figure size 1440x504 with 2 Axes>"
      ]
     },
     "metadata": {
      "needs_background": "light"
     },
     "output_type": "display_data"
    }
   ],
   "source": [
    "corr=df.corr()\n",
    "plt.figure(figsize=(20,7))\n",
    "sns.heatmap(corr,annot=True)"
   ]
  },
  {
   "cell_type": "code",
   "execution_count": null,
   "metadata": {},
   "outputs": [],
   "source": [
    "#sns.pairplot(df)"
   ]
  },
  {
   "cell_type": "code",
   "execution_count": 100,
   "metadata": {},
   "outputs": [
    {
     "data": {
      "text/html": [
       "<div>\n",
       "<style scoped>\n",
       "    .dataframe tbody tr th:only-of-type {\n",
       "        vertical-align: middle;\n",
       "    }\n",
       "\n",
       "    .dataframe tbody tr th {\n",
       "        vertical-align: top;\n",
       "    }\n",
       "\n",
       "    .dataframe thead th {\n",
       "        text-align: right;\n",
       "    }\n",
       "</style>\n",
       "<table border=\"1\" class=\"dataframe\">\n",
       "  <thead>\n",
       "    <tr style=\"text-align: right;\">\n",
       "      <th></th>\n",
       "      <th>Overall_Experience</th>\n",
       "      <th>Seat_comfort</th>\n",
       "      <th>Seat_Class</th>\n",
       "      <th>Arrival_time_convenient</th>\n",
       "      <th>Catering</th>\n",
       "      <th>Platform_location</th>\n",
       "      <th>Onboardwifi_service</th>\n",
       "      <th>Onboard_entertainment</th>\n",
       "      <th>Online_support</th>\n",
       "      <th>Onlinebooking_Ease</th>\n",
       "      <th>...</th>\n",
       "      <th>Cleanliness</th>\n",
       "      <th>Online_boarding</th>\n",
       "      <th>Gender</th>\n",
       "      <th>CustomerType</th>\n",
       "      <th>Age</th>\n",
       "      <th>TypeTravel</th>\n",
       "      <th>Travel_Class</th>\n",
       "      <th>Travel_Distance</th>\n",
       "      <th>DepartureDelay_in_Mins</th>\n",
       "      <th>ArrivalDelay_in_Mins</th>\n",
       "    </tr>\n",
       "  </thead>\n",
       "  <tbody>\n",
       "    <tr>\n",
       "      <th>0</th>\n",
       "      <td>-1.098107</td>\n",
       "      <td>-0.602903</td>\n",
       "      <td>0.994811</td>\n",
       "      <td>1.288950</td>\n",
       "      <td>1.549973</td>\n",
       "      <td>1.536013</td>\n",
       "      <td>0.569615</td>\n",
       "      <td>-1.027150</td>\n",
       "      <td>-0.397449</td>\n",
       "      <td>-1.126732</td>\n",
       "      <td>...</td>\n",
       "      <td>-1.479319</td>\n",
       "      <td>-1.811942</td>\n",
       "      <td>0.985222</td>\n",
       "      <td>0.445082</td>\n",
       "      <td>0.832356</td>\n",
       "      <td>0.625411</td>\n",
       "      <td>1.046703</td>\n",
       "      <td>-1.660469</td>\n",
       "      <td>-0.383916</td>\n",
       "      <td>-0.259227</td>\n",
       "    </tr>\n",
       "    <tr>\n",
       "      <th>1</th>\n",
       "      <td>-1.098107</td>\n",
       "      <td>-1.321256</td>\n",
       "      <td>-1.005216</td>\n",
       "      <td>1.288950</td>\n",
       "      <td>-1.356788</td>\n",
       "      <td>-0.757533</td>\n",
       "      <td>0.569615</td>\n",
       "      <td>-1.770047</td>\n",
       "      <td>0.367298</td>\n",
       "      <td>0.405697</td>\n",
       "      <td>...</td>\n",
       "      <td>0.256872</td>\n",
       "      <td>0.499265</td>\n",
       "      <td>-1.014999</td>\n",
       "      <td>0.445082</td>\n",
       "      <td>0.567699</td>\n",
       "      <td>-1.598950</td>\n",
       "      <td>-0.955380</td>\n",
       "      <td>0.215099</td>\n",
       "      <td>-0.147874</td>\n",
       "      <td>-0.389511</td>\n",
       "    </tr>\n",
       "    <tr>\n",
       "      <th>2</th>\n",
       "      <td>0.910658</td>\n",
       "      <td>-0.602903</td>\n",
       "      <td>0.994811</td>\n",
       "      <td>-0.735667</td>\n",
       "      <td>-0.630097</td>\n",
       "      <td>-0.757533</td>\n",
       "      <td>-0.946258</td>\n",
       "      <td>0.458644</td>\n",
       "      <td>1.132046</td>\n",
       "      <td>1.171912</td>\n",
       "      <td>...</td>\n",
       "      <td>1.124967</td>\n",
       "      <td>1.269667</td>\n",
       "      <td>0.985222</td>\n",
       "      <td>0.445082</td>\n",
       "      <td>0.236878</td>\n",
       "      <td>0.625411</td>\n",
       "      <td>1.046703</td>\n",
       "      <td>-0.892926</td>\n",
       "      <td>1.635557</td>\n",
       "      <td>2.711265</td>\n",
       "    </tr>\n",
       "    <tr>\n",
       "      <th>3</th>\n",
       "      <td>-1.098107</td>\n",
       "      <td>0.115449</td>\n",
       "      <td>-1.005216</td>\n",
       "      <td>-0.735667</td>\n",
       "      <td>0.096593</td>\n",
       "      <td>-0.757533</td>\n",
       "      <td>-0.188322</td>\n",
       "      <td>-1.027150</td>\n",
       "      <td>-0.397449</td>\n",
       "      <td>-0.360518</td>\n",
       "      <td>...</td>\n",
       "      <td>-0.611223</td>\n",
       "      <td>-0.271137</td>\n",
       "      <td>0.985222</td>\n",
       "      <td>0.445082</td>\n",
       "      <td>0.303042</td>\n",
       "      <td>0.625411</td>\n",
       "      <td>1.046703</td>\n",
       "      <td>-1.166284</td>\n",
       "      <td>-0.042966</td>\n",
       "      <td>0.079514</td>\n",
       "    </tr>\n",
       "    <tr>\n",
       "      <th>4</th>\n",
       "      <td>0.910658</td>\n",
       "      <td>0.115449</td>\n",
       "      <td>-1.005216</td>\n",
       "      <td>-0.060795</td>\n",
       "      <td>0.096593</td>\n",
       "      <td>0.006983</td>\n",
       "      <td>-0.946258</td>\n",
       "      <td>0.458644</td>\n",
       "      <td>1.132046</td>\n",
       "      <td>0.405697</td>\n",
       "      <td>...</td>\n",
       "      <td>0.256872</td>\n",
       "      <td>0.499265</td>\n",
       "      <td>0.985222</td>\n",
       "      <td>0.445082</td>\n",
       "      <td>0.700027</td>\n",
       "      <td>0.625411</td>\n",
       "      <td>1.046703</td>\n",
       "      <td>0.002054</td>\n",
       "      <td>-0.383916</td>\n",
       "      <td>-0.389511</td>\n",
       "    </tr>\n",
       "  </tbody>\n",
       "</table>\n",
       "<p>5 rows × 24 columns</p>\n",
       "</div>"
      ],
      "text/plain": [
       "   Overall_Experience  Seat_comfort  Seat_Class  Arrival_time_convenient  \\\n",
       "0           -1.098107     -0.602903    0.994811                 1.288950   \n",
       "1           -1.098107     -1.321256   -1.005216                 1.288950   \n",
       "2            0.910658     -0.602903    0.994811                -0.735667   \n",
       "3           -1.098107      0.115449   -1.005216                -0.735667   \n",
       "4            0.910658      0.115449   -1.005216                -0.060795   \n",
       "\n",
       "   Catering  Platform_location  Onboardwifi_service  Onboard_entertainment  \\\n",
       "0  1.549973           1.536013             0.569615              -1.027150   \n",
       "1 -1.356788          -0.757533             0.569615              -1.770047   \n",
       "2 -0.630097          -0.757533            -0.946258               0.458644   \n",
       "3  0.096593          -0.757533            -0.188322              -1.027150   \n",
       "4  0.096593           0.006983            -0.946258               0.458644   \n",
       "\n",
       "   Online_support  Onlinebooking_Ease  ...  Cleanliness  Online_boarding  \\\n",
       "0       -0.397449           -1.126732  ...    -1.479319        -1.811942   \n",
       "1        0.367298            0.405697  ...     0.256872         0.499265   \n",
       "2        1.132046            1.171912  ...     1.124967         1.269667   \n",
       "3       -0.397449           -0.360518  ...    -0.611223        -0.271137   \n",
       "4        1.132046            0.405697  ...     0.256872         0.499265   \n",
       "\n",
       "     Gender  CustomerType       Age  TypeTravel  Travel_Class  \\\n",
       "0  0.985222      0.445082  0.832356    0.625411      1.046703   \n",
       "1 -1.014999      0.445082  0.567699   -1.598950     -0.955380   \n",
       "2  0.985222      0.445082  0.236878    0.625411      1.046703   \n",
       "3  0.985222      0.445082  0.303042    0.625411      1.046703   \n",
       "4  0.985222      0.445082  0.700027    0.625411      1.046703   \n",
       "\n",
       "   Travel_Distance  DepartureDelay_in_Mins  ArrivalDelay_in_Mins  \n",
       "0        -1.660469               -0.383916             -0.259227  \n",
       "1         0.215099               -0.147874             -0.389511  \n",
       "2        -0.892926                1.635557              2.711265  \n",
       "3        -1.166284               -0.042966              0.079514  \n",
       "4         0.002054               -0.383916             -0.389511  \n",
       "\n",
       "[5 rows x 24 columns]"
      ]
     },
     "execution_count": 100,
     "metadata": {},
     "output_type": "execute_result"
    }
   ],
   "source": [
    "#from scipy.stats import zscore\n",
    "df_num_scaled=df.apply(zscore)\n",
    "df_num_scaled.head()"
   ]
  },
  {
   "cell_type": "markdown",
   "metadata": {},
   "source": [
    "## Variance Inflation Factor ##"
   ]
  },
  {
   "cell_type": "code",
   "execution_count": 101,
   "metadata": {},
   "outputs": [
    {
     "data": {
      "text/plain": [
       "Index(['Overall_Experience', 'Seat_comfort', 'Seat_Class',\n",
       "       'Arrival_time_convenient', 'Catering', 'Platform_location',\n",
       "       'Onboardwifi_service', 'Onboard_entertainment', 'Online_support',\n",
       "       'Onlinebooking_Ease', 'Onboard_service', 'Leg_room', 'Baggage_handling',\n",
       "       'Checkin_service', 'Cleanliness', 'Online_boarding', 'Gender',\n",
       "       'CustomerType', 'Age', 'TypeTravel', 'Travel_Class', 'Travel_Distance',\n",
       "       'DepartureDelay_in_Mins', 'ArrivalDelay_in_Mins'],\n",
       "      dtype='object')"
      ]
     },
     "execution_count": 101,
     "metadata": {},
     "output_type": "execute_result"
    }
   ],
   "source": [
    "df.columns"
   ]
  },
  {
   "cell_type": "code",
   "execution_count": 106,
   "metadata": {},
   "outputs": [
    {
     "name": "stdout",
     "output_type": "stream",
     "text": [
      "                   features       VIF\n",
      "1                Seat_Class  1.000252\n",
      "21     ArrivalDelay_in_Mins  1.023309\n",
      "15                   Gender  1.057783\n",
      "20          Travel_Distance  1.163112\n",
      "17                      Age  1.209245\n",
      "12          Checkin_service  1.216195\n",
      "16             CustomerType  1.365831\n",
      "10                 Leg_room  1.392572\n",
      "2   Arrival_time_convenient  1.625704\n",
      "4         Platform_location  1.647192\n",
      "9           Onboard_service  1.665763\n",
      "18               TypeTravel  1.689714\n",
      "19             Travel_Class  1.709056\n",
      "6     Onboard_entertainment  1.893667\n",
      "11         Baggage_handling  1.930431\n",
      "13              Cleanliness  2.040062\n",
      "5       Onboardwifi_service  2.043840\n",
      "0              Seat_comfort  2.320029\n",
      "3                  Catering  2.346398\n",
      "7            Online_support  2.353442\n",
      "14          Online_boarding  2.717137\n",
      "8        Onlinebooking_Ease  3.797826\n"
     ]
    }
   ],
   "source": [
    "from statsmodels.stats.outliers_influence import variance_inflation_factor\n",
    "B = df_num_scaled.drop(['Overall_Experience','DepartureDelay_in_Mins'],axis=1)\n",
    "vif = pd.DataFrame()\n",
    "vif[\"features\"]=B.columns\n",
    "vif[\"VIF\"] = [variance_inflation_factor(B.values, i)\n",
    "                          for i in range(len(B.columns))]  \n",
    "print(vif.sort_values(by='VIF'))"
   ]
  },
  {
   "cell_type": "code",
   "execution_count": null,
   "metadata": {},
   "outputs": [],
   "source": [
    "corr=B.corr()\n",
    "plt.figure(figsize=(20,7))\n",
    "sns.heatmap(corr,annot=True)"
   ]
  },
  {
   "cell_type": "markdown",
   "metadata": {},
   "source": [
    "## Model Building ##"
   ]
  },
  {
   "cell_type": "code",
   "execution_count": 945,
   "metadata": {},
   "outputs": [
    {
     "data": {
      "text/plain": [
       "Index(['Overall_Experience', 'Seat_comfort', 'Seat_Class',\n",
       "       'Arrival_time_convenient', 'Catering', 'Platform_location',\n",
       "       'Onboardwifi_service', 'Onboard_entertainment', 'Online_support',\n",
       "       'Onlinebooking_Ease', 'Onboard_service', 'Leg_room', 'Baggage_handling',\n",
       "       'Checkin_service', 'Cleanliness', 'Online_boarding', 'Gender',\n",
       "       'CustomerType', 'Age', 'TypeTravel', 'Travel_Class', 'Travel_Distance',\n",
       "       'DepartureDelay_in_Mins', 'ArrivalDelay_in_Mins'],\n",
       "      dtype='object')"
      ]
     },
     "execution_count": 945,
     "metadata": {},
     "output_type": "execute_result"
    }
   ],
   "source": [
    "df.columns"
   ]
  },
  {
   "cell_type": "code",
   "execution_count": 26,
   "metadata": {},
   "outputs": [],
   "source": [
    "# Copy all the predictor variables into X dataframe\n",
    "X = df.drop(['Overall_Experience'],axis=1) \n",
    "# Copy target into the y dataframe. \n",
    "y = df[['Overall_Experience']]"
   ]
  },
  {
   "cell_type": "code",
   "execution_count": 27,
   "metadata": {},
   "outputs": [],
   "source": [
    "X_train, X_test, y_train, y_test = train_test_split(X, y, test_size=0.30 , random_state=1,stratify=df['Overall_Experience']) "
   ]
  },
  {
   "cell_type": "code",
   "execution_count": 1284,
   "metadata": {},
   "outputs": [],
   "source": [
    "#from sklearn.preprocessing import StandardScaler\n",
    "#sc = StandardScaler() \n",
    "#X_train = sc.fit_transform(X_train) \n",
    "#X_test = sc.transform (X_test)"
   ]
  },
  {
   "cell_type": "code",
   "execution_count": 1285,
   "metadata": {},
   "outputs": [],
   "source": [
    "#from sklearn.preprocessing import StandardScaler\n",
    "#sc = StandardScaler() \n",
    "#X = sc.fit_transform(X) \n",
    "#df_test = sc.transform (df_test)"
   ]
  },
  {
   "cell_type": "code",
   "execution_count": 1286,
   "metadata": {},
   "outputs": [],
   "source": [
    "#X"
   ]
  },
  {
   "cell_type": "code",
   "execution_count": 28,
   "metadata": {},
   "outputs": [
    {
     "data": {
      "text/plain": [
       "((66065, 23), (66065, 1), (28314, 23), (28314, 1))"
      ]
     },
     "execution_count": 28,
     "metadata": {},
     "output_type": "execute_result"
    }
   ],
   "source": [
    "X_train.shape, y_train.shape, X_test.shape, y_test.shape"
   ]
  },
  {
   "cell_type": "code",
   "execution_count": 1046,
   "metadata": {},
   "outputs": [],
   "source": [
    "#X_train"
   ]
  },
  {
   "cell_type": "code",
   "execution_count": 847,
   "metadata": {},
   "outputs": [],
   "source": [
    "#corr=X.corr()\n",
    "#plt.figure(figsize=(20,7))\n",
    "#sns.heatmap(corr,annot=True)"
   ]
  },
  {
   "cell_type": "code",
   "execution_count": null,
   "metadata": {},
   "outputs": [],
   "source": [
    "cb = CatBoostClassifier(iterations=140, depth=14, learning_rate=0.04) - .95002\n",
    "cb = CatBoostClassifier(iterations=600, depth=14, learning_rate=0.04) - .9528\n",
    "cb = CatBoostClassifier( learning_rate=0.04) - .9544"
   ]
  },
  {
   "cell_type": "code",
   "execution_count": null,
   "metadata": {},
   "outputs": [],
   "source": [
    "#999:\tlearn: 0.0773031\ttotal: 2m 46s\tremaining: 0us"
   ]
  },
  {
   "cell_type": "code",
   "execution_count": 29,
   "metadata": {},
   "outputs": [],
   "source": [
    "#random_state=1\n",
    "#n_estimators=500\n",
    "#class_weight={0:0.45, 1:0.55}\n",
    "#rf= RandomForestClassifier()\n",
    "#xgb = XGBClassifier() \n",
    "cb = CatBoostClassifier(iterations=1200, depth = 10,learning_rate=0.06)\n",
    "#dt = DecisionTreeClassifier(random_state=1)\n",
    "#dt_bg = BaggingClassifier(base_estimator=dt,n_estimators=100,random_state=1)\n",
    "#lgb = LGBMClassifier()\n",
    "#gb = GradientBoostingClassifier(random_state=1)\n",
    "#mlp = MLPClassifier()\n",
    "#nb = GaussianNB()\n",
    "#knn = KNeighborsClassifier()\n",
    "#ab = AdaBoostClassifier(n_estimators=100,random_state=1)\n",
    "#log = LogisticRegression()\n",
    "#lda = LinearDiscriminantAnalysis() \n",
    "models=[cb]\n",
    "#models=[xgb,cb,lgb]\n",
    "#models=[rf,xgb,cb,dt_bg,lgb,mlp]\n",
    "#models=[rf,xgb,cb,dt,dt_bg,lgb,mlp,nb,knn,ab,gb,log,lda]\n",
    "scores_train=[]\n",
    "scores_test=[]"
   ]
  },
  {
   "cell_type": "code",
   "execution_count": 30,
   "metadata": {},
   "outputs": [
    {
     "name": "stdout",
     "output_type": "stream",
     "text": [
      "0:\tlearn: 0.6048982\ttotal: 457ms\tremaining: 9m 8s\n",
      "1:\tlearn: 0.5310511\ttotal: 569ms\tremaining: 5m 40s\n",
      "2:\tlearn: 0.4735620\ttotal: 710ms\tremaining: 4m 43s\n",
      "3:\tlearn: 0.4279339\ttotal: 866ms\tremaining: 4m 18s\n",
      "4:\tlearn: 0.3935418\ttotal: 991ms\tremaining: 3m 56s\n",
      "5:\tlearn: 0.3666765\ttotal: 1.13s\tremaining: 3m 44s\n",
      "6:\tlearn: 0.3394307\ttotal: 1.28s\tremaining: 3m 38s\n",
      "7:\tlearn: 0.3176176\ttotal: 1.43s\tremaining: 3m 32s\n",
      "8:\tlearn: 0.2955641\ttotal: 1.58s\tremaining: 3m 29s\n",
      "9:\tlearn: 0.2820172\ttotal: 1.7s\tremaining: 3m 21s\n",
      "10:\tlearn: 0.2703977\ttotal: 1.81s\tremaining: 3m 15s\n",
      "11:\tlearn: 0.2577109\ttotal: 1.95s\tremaining: 3m 12s\n",
      "12:\tlearn: 0.2454461\ttotal: 2.11s\tremaining: 3m 13s\n",
      "13:\tlearn: 0.2363359\ttotal: 2.26s\tremaining: 3m 11s\n",
      "14:\tlearn: 0.2264181\ttotal: 2.44s\tremaining: 3m 13s\n",
      "15:\tlearn: 0.2192018\ttotal: 2.58s\tremaining: 3m 11s\n",
      "16:\tlearn: 0.2115647\ttotal: 2.71s\tremaining: 3m 8s\n",
      "17:\tlearn: 0.2069292\ttotal: 2.83s\tremaining: 3m 5s\n",
      "18:\tlearn: 0.2016109\ttotal: 2.99s\tremaining: 3m 5s\n",
      "19:\tlearn: 0.1980293\ttotal: 3.17s\tremaining: 3m 7s\n",
      "20:\tlearn: 0.1943444\ttotal: 3.34s\tremaining: 3m 7s\n",
      "21:\tlearn: 0.1902859\ttotal: 3.46s\tremaining: 3m 5s\n",
      "22:\tlearn: 0.1867722\ttotal: 3.58s\tremaining: 3m 2s\n",
      "23:\tlearn: 0.1834742\ttotal: 3.71s\tremaining: 3m 1s\n",
      "24:\tlearn: 0.1807155\ttotal: 3.84s\tremaining: 3m\n",
      "25:\tlearn: 0.1778776\ttotal: 3.97s\tremaining: 2m 59s\n",
      "26:\tlearn: 0.1753977\ttotal: 4.11s\tremaining: 2m 58s\n",
      "27:\tlearn: 0.1733495\ttotal: 4.3s\tremaining: 2m 59s\n",
      "28:\tlearn: 0.1713455\ttotal: 4.47s\tremaining: 3m\n",
      "29:\tlearn: 0.1683220\ttotal: 4.61s\tremaining: 2m 59s\n",
      "30:\tlearn: 0.1662801\ttotal: 4.72s\tremaining: 2m 58s\n",
      "31:\tlearn: 0.1643941\ttotal: 4.85s\tremaining: 2m 56s\n",
      "32:\tlearn: 0.1614621\ttotal: 5.03s\tremaining: 2m 57s\n",
      "33:\tlearn: 0.1599290\ttotal: 5.21s\tremaining: 2m 58s\n",
      "34:\tlearn: 0.1576874\ttotal: 5.38s\tremaining: 2m 59s\n",
      "35:\tlearn: 0.1558220\ttotal: 5.49s\tremaining: 2m 57s\n",
      "36:\tlearn: 0.1545279\ttotal: 5.6s\tremaining: 2m 56s\n",
      "37:\tlearn: 0.1526382\ttotal: 5.73s\tremaining: 2m 55s\n",
      "38:\tlearn: 0.1503803\ttotal: 5.92s\tremaining: 2m 56s\n",
      "39:\tlearn: 0.1486668\ttotal: 6.08s\tremaining: 2m 56s\n",
      "40:\tlearn: 0.1469999\ttotal: 6.24s\tremaining: 2m 56s\n",
      "41:\tlearn: 0.1457779\ttotal: 6.36s\tremaining: 2m 55s\n",
      "42:\tlearn: 0.1445348\ttotal: 6.47s\tremaining: 2m 54s\n",
      "43:\tlearn: 0.1428059\ttotal: 6.64s\tremaining: 2m 54s\n",
      "44:\tlearn: 0.1419822\ttotal: 6.81s\tremaining: 2m 54s\n",
      "45:\tlearn: 0.1407350\ttotal: 6.93s\tremaining: 2m 53s\n",
      "46:\tlearn: 0.1390474\ttotal: 7.12s\tremaining: 2m 54s\n",
      "47:\tlearn: 0.1380305\ttotal: 7.33s\tremaining: 2m 55s\n",
      "48:\tlearn: 0.1368968\ttotal: 7.5s\tremaining: 2m 56s\n",
      "49:\tlearn: 0.1361232\ttotal: 7.68s\tremaining: 2m 56s\n",
      "50:\tlearn: 0.1352387\ttotal: 7.82s\tremaining: 2m 56s\n",
      "51:\tlearn: 0.1335481\ttotal: 7.95s\tremaining: 2m 55s\n",
      "52:\tlearn: 0.1326894\ttotal: 8.15s\tremaining: 2m 56s\n",
      "53:\tlearn: 0.1318411\ttotal: 8.36s\tremaining: 2m 57s\n",
      "54:\tlearn: 0.1310693\ttotal: 8.55s\tremaining: 2m 57s\n",
      "55:\tlearn: 0.1302753\ttotal: 8.78s\tremaining: 2m 59s\n",
      "56:\tlearn: 0.1292849\ttotal: 9.01s\tremaining: 3m\n",
      "57:\tlearn: 0.1277906\ttotal: 9.23s\tremaining: 3m 1s\n",
      "58:\tlearn: 0.1266974\ttotal: 9.46s\tremaining: 3m 2s\n",
      "59:\tlearn: 0.1259671\ttotal: 9.66s\tremaining: 3m 3s\n",
      "60:\tlearn: 0.1252229\ttotal: 9.91s\tremaining: 3m 5s\n",
      "61:\tlearn: 0.1244028\ttotal: 10.1s\tremaining: 3m 6s\n",
      "62:\tlearn: 0.1235679\ttotal: 10.4s\tremaining: 3m 7s\n",
      "63:\tlearn: 0.1227017\ttotal: 10.6s\tremaining: 3m 8s\n",
      "64:\tlearn: 0.1222648\ttotal: 10.8s\tremaining: 3m 9s\n",
      "65:\tlearn: 0.1215067\ttotal: 11s\tremaining: 3m 9s\n",
      "66:\tlearn: 0.1208271\ttotal: 11.2s\tremaining: 3m 10s\n",
      "67:\tlearn: 0.1201431\ttotal: 11.5s\tremaining: 3m 10s\n",
      "68:\tlearn: 0.1193806\ttotal: 11.6s\tremaining: 3m 10s\n",
      "69:\tlearn: 0.1186905\ttotal: 11.8s\tremaining: 3m 10s\n",
      "70:\tlearn: 0.1182765\ttotal: 12s\tremaining: 3m 10s\n",
      "71:\tlearn: 0.1178376\ttotal: 12.2s\tremaining: 3m 10s\n",
      "72:\tlearn: 0.1174747\ttotal: 12.3s\tremaining: 3m 10s\n",
      "73:\tlearn: 0.1171407\ttotal: 12.4s\tremaining: 3m 9s\n",
      "74:\tlearn: 0.1164164\ttotal: 12.6s\tremaining: 3m 8s\n",
      "75:\tlearn: 0.1159771\ttotal: 12.7s\tremaining: 3m 7s\n",
      "76:\tlearn: 0.1151366\ttotal: 12.8s\tremaining: 3m 6s\n",
      "77:\tlearn: 0.1144391\ttotal: 12.9s\tremaining: 3m 5s\n",
      "78:\tlearn: 0.1137292\ttotal: 13s\tremaining: 3m 4s\n",
      "79:\tlearn: 0.1130282\ttotal: 13.1s\tremaining: 3m 3s\n",
      "80:\tlearn: 0.1124249\ttotal: 13.3s\tremaining: 3m 3s\n",
      "81:\tlearn: 0.1116695\ttotal: 13.4s\tremaining: 3m 2s\n",
      "82:\tlearn: 0.1111097\ttotal: 13.6s\tremaining: 3m 2s\n",
      "83:\tlearn: 0.1104038\ttotal: 13.7s\tremaining: 3m 2s\n",
      "84:\tlearn: 0.1099749\ttotal: 13.8s\tremaining: 3m 1s\n",
      "85:\tlearn: 0.1094772\ttotal: 13.9s\tremaining: 3m\n",
      "86:\tlearn: 0.1090301\ttotal: 14.1s\tremaining: 2m 59s\n",
      "87:\tlearn: 0.1084494\ttotal: 14.2s\tremaining: 2m 59s\n",
      "88:\tlearn: 0.1078982\ttotal: 14.3s\tremaining: 2m 58s\n",
      "89:\tlearn: 0.1074653\ttotal: 14.4s\tremaining: 2m 57s\n",
      "90:\tlearn: 0.1070632\ttotal: 14.5s\tremaining: 2m 57s\n",
      "91:\tlearn: 0.1066844\ttotal: 14.7s\tremaining: 2m 56s\n",
      "92:\tlearn: 0.1061018\ttotal: 14.9s\tremaining: 2m 57s\n",
      "93:\tlearn: 0.1057420\ttotal: 15.1s\tremaining: 2m 57s\n",
      "94:\tlearn: 0.1051615\ttotal: 15.2s\tremaining: 2m 56s\n",
      "95:\tlearn: 0.1047758\ttotal: 15.3s\tremaining: 2m 55s\n",
      "96:\tlearn: 0.1043842\ttotal: 15.4s\tremaining: 2m 55s\n",
      "97:\tlearn: 0.1040222\ttotal: 15.5s\tremaining: 2m 54s\n",
      "98:\tlearn: 0.1038261\ttotal: 15.7s\tremaining: 2m 54s\n",
      "99:\tlearn: 0.1034215\ttotal: 15.8s\tremaining: 2m 53s\n",
      "100:\tlearn: 0.1032421\ttotal: 15.9s\tremaining: 2m 53s\n",
      "101:\tlearn: 0.1029767\ttotal: 16s\tremaining: 2m 52s\n",
      "102:\tlearn: 0.1026473\ttotal: 16.1s\tremaining: 2m 52s\n",
      "103:\tlearn: 0.1019531\ttotal: 16.3s\tremaining: 2m 51s\n",
      "104:\tlearn: 0.1013986\ttotal: 16.4s\tremaining: 2m 51s\n",
      "105:\tlearn: 0.1008835\ttotal: 16.5s\tremaining: 2m 50s\n",
      "106:\tlearn: 0.1003830\ttotal: 16.7s\tremaining: 2m 50s\n",
      "107:\tlearn: 0.1001091\ttotal: 16.8s\tremaining: 2m 49s\n",
      "108:\tlearn: 0.0998312\ttotal: 16.9s\tremaining: 2m 49s\n",
      "109:\tlearn: 0.0994700\ttotal: 17.1s\tremaining: 2m 49s\n",
      "110:\tlearn: 0.0990908\ttotal: 17.3s\tremaining: 2m 49s\n",
      "111:\tlearn: 0.0986355\ttotal: 17.4s\tremaining: 2m 48s\n",
      "112:\tlearn: 0.0983874\ttotal: 17.5s\tremaining: 2m 48s\n",
      "113:\tlearn: 0.0980614\ttotal: 17.6s\tremaining: 2m 47s\n",
      "114:\tlearn: 0.0977907\ttotal: 17.8s\tremaining: 2m 47s\n",
      "115:\tlearn: 0.0974345\ttotal: 17.9s\tremaining: 2m 47s\n",
      "116:\tlearn: 0.0969728\ttotal: 18.1s\tremaining: 2m 47s\n",
      "117:\tlearn: 0.0965732\ttotal: 18.2s\tremaining: 2m 46s\n",
      "118:\tlearn: 0.0962258\ttotal: 18.3s\tremaining: 2m 46s\n",
      "119:\tlearn: 0.0957265\ttotal: 18.4s\tremaining: 2m 45s\n",
      "120:\tlearn: 0.0952638\ttotal: 18.5s\tremaining: 2m 45s\n",
      "121:\tlearn: 0.0948767\ttotal: 18.7s\tremaining: 2m 45s\n",
      "122:\tlearn: 0.0945431\ttotal: 18.9s\tremaining: 2m 45s\n",
      "123:\tlearn: 0.0942333\ttotal: 19s\tremaining: 2m 44s\n",
      "124:\tlearn: 0.0939373\ttotal: 19.1s\tremaining: 2m 44s\n",
      "125:\tlearn: 0.0935681\ttotal: 19.2s\tremaining: 2m 43s\n",
      "126:\tlearn: 0.0932533\ttotal: 19.3s\tremaining: 2m 43s\n",
      "127:\tlearn: 0.0928729\ttotal: 19.4s\tremaining: 2m 42s\n",
      "128:\tlearn: 0.0927453\ttotal: 19.6s\tremaining: 2m 42s\n",
      "129:\tlearn: 0.0925050\ttotal: 19.7s\tremaining: 2m 41s\n",
      "130:\tlearn: 0.0922714\ttotal: 19.8s\tremaining: 2m 41s\n",
      "131:\tlearn: 0.0920536\ttotal: 19.9s\tremaining: 2m 41s\n",
      "132:\tlearn: 0.0918411\ttotal: 20s\tremaining: 2m 40s\n",
      "133:\tlearn: 0.0916255\ttotal: 20.2s\tremaining: 2m 40s\n",
      "134:\tlearn: 0.0914197\ttotal: 20.3s\tremaining: 2m 39s\n",
      "135:\tlearn: 0.0912486\ttotal: 20.4s\tremaining: 2m 39s\n",
      "136:\tlearn: 0.0909408\ttotal: 20.5s\tremaining: 2m 39s\n",
      "137:\tlearn: 0.0908031\ttotal: 20.7s\tremaining: 2m 39s\n",
      "138:\tlearn: 0.0906316\ttotal: 21s\tremaining: 2m 39s\n",
      "139:\tlearn: 0.0903920\ttotal: 21.1s\tremaining: 2m 39s\n",
      "140:\tlearn: 0.0898610\ttotal: 21.3s\tremaining: 2m 39s\n",
      "141:\tlearn: 0.0896345\ttotal: 21.4s\tremaining: 2m 39s\n",
      "142:\tlearn: 0.0893367\ttotal: 21.6s\tremaining: 2m 39s\n",
      "143:\tlearn: 0.0890773\ttotal: 21.7s\tremaining: 2m 39s\n",
      "144:\tlearn: 0.0886420\ttotal: 21.9s\tremaining: 2m 39s\n",
      "145:\tlearn: 0.0883666\ttotal: 22.1s\tremaining: 2m 39s\n",
      "146:\tlearn: 0.0882453\ttotal: 22.2s\tremaining: 2m 39s\n",
      "147:\tlearn: 0.0880818\ttotal: 22.4s\tremaining: 2m 38s\n",
      "148:\tlearn: 0.0878765\ttotal: 22.5s\tremaining: 2m 38s\n",
      "149:\tlearn: 0.0876870\ttotal: 22.6s\tremaining: 2m 38s\n",
      "150:\tlearn: 0.0874463\ttotal: 22.8s\tremaining: 2m 38s\n",
      "151:\tlearn: 0.0871368\ttotal: 23s\tremaining: 2m 38s\n",
      "152:\tlearn: 0.0869732\ttotal: 23.2s\tremaining: 2m 38s\n",
      "153:\tlearn: 0.0866172\ttotal: 23.4s\tremaining: 2m 38s\n",
      "154:\tlearn: 0.0863056\ttotal: 23.5s\tremaining: 2m 38s\n",
      "155:\tlearn: 0.0860438\ttotal: 23.7s\tremaining: 2m 38s\n",
      "156:\tlearn: 0.0859204\ttotal: 23.9s\tremaining: 2m 38s\n",
      "157:\tlearn: 0.0857802\ttotal: 24s\tremaining: 2m 38s\n"
     ]
    },
    {
     "name": "stdout",
     "output_type": "stream",
     "text": [
      "158:\tlearn: 0.0856363\ttotal: 24.2s\tremaining: 2m 38s\n",
      "159:\tlearn: 0.0854854\ttotal: 24.3s\tremaining: 2m 38s\n",
      "160:\tlearn: 0.0852214\ttotal: 24.5s\tremaining: 2m 38s\n",
      "161:\tlearn: 0.0848821\ttotal: 24.7s\tremaining: 2m 38s\n",
      "162:\tlearn: 0.0846858\ttotal: 24.9s\tremaining: 2m 38s\n",
      "163:\tlearn: 0.0845108\ttotal: 25s\tremaining: 2m 38s\n",
      "164:\tlearn: 0.0841774\ttotal: 25.4s\tremaining: 2m 39s\n",
      "165:\tlearn: 0.0839314\ttotal: 25.5s\tremaining: 2m 38s\n",
      "166:\tlearn: 0.0836752\ttotal: 25.7s\tremaining: 2m 39s\n",
      "167:\tlearn: 0.0834990\ttotal: 26s\tremaining: 2m 39s\n",
      "168:\tlearn: 0.0832809\ttotal: 26.2s\tremaining: 2m 39s\n",
      "169:\tlearn: 0.0830516\ttotal: 26.3s\tremaining: 2m 39s\n",
      "170:\tlearn: 0.0828714\ttotal: 26.5s\tremaining: 2m 39s\n",
      "171:\tlearn: 0.0826294\ttotal: 26.6s\tremaining: 2m 39s\n",
      "172:\tlearn: 0.0824769\ttotal: 26.8s\tremaining: 2m 38s\n",
      "173:\tlearn: 0.0822883\ttotal: 27s\tremaining: 2m 39s\n",
      "174:\tlearn: 0.0821385\ttotal: 27.2s\tremaining: 2m 39s\n",
      "175:\tlearn: 0.0818220\ttotal: 27.3s\tremaining: 2m 38s\n",
      "176:\tlearn: 0.0814306\ttotal: 27.4s\tremaining: 2m 38s\n",
      "177:\tlearn: 0.0811088\ttotal: 27.6s\tremaining: 2m 38s\n",
      "178:\tlearn: 0.0809435\ttotal: 27.8s\tremaining: 2m 38s\n",
      "179:\tlearn: 0.0808548\ttotal: 27.9s\tremaining: 2m 38s\n",
      "180:\tlearn: 0.0806492\ttotal: 28.1s\tremaining: 2m 38s\n",
      "181:\tlearn: 0.0804872\ttotal: 28.3s\tremaining: 2m 38s\n",
      "182:\tlearn: 0.0802741\ttotal: 28.4s\tremaining: 2m 37s\n",
      "183:\tlearn: 0.0800402\ttotal: 28.6s\tremaining: 2m 37s\n",
      "184:\tlearn: 0.0797955\ttotal: 28.8s\tremaining: 2m 37s\n",
      "185:\tlearn: 0.0795878\ttotal: 29s\tremaining: 2m 37s\n",
      "186:\tlearn: 0.0793672\ttotal: 29.2s\tremaining: 2m 37s\n",
      "187:\tlearn: 0.0791342\ttotal: 29.3s\tremaining: 2m 37s\n",
      "188:\tlearn: 0.0789147\ttotal: 29.5s\tremaining: 2m 37s\n",
      "189:\tlearn: 0.0786657\ttotal: 29.7s\tremaining: 2m 37s\n",
      "190:\tlearn: 0.0784853\ttotal: 29.8s\tremaining: 2m 37s\n",
      "191:\tlearn: 0.0782807\ttotal: 30s\tremaining: 2m 37s\n",
      "192:\tlearn: 0.0779999\ttotal: 30.2s\tremaining: 2m 37s\n",
      "193:\tlearn: 0.0777457\ttotal: 30.3s\tremaining: 2m 37s\n",
      "194:\tlearn: 0.0774805\ttotal: 30.4s\tremaining: 2m 36s\n",
      "195:\tlearn: 0.0772700\ttotal: 30.5s\tremaining: 2m 36s\n",
      "196:\tlearn: 0.0771208\ttotal: 30.8s\tremaining: 2m 36s\n",
      "197:\tlearn: 0.0769999\ttotal: 30.9s\tremaining: 2m 36s\n",
      "198:\tlearn: 0.0767923\ttotal: 31s\tremaining: 2m 36s\n",
      "199:\tlearn: 0.0765856\ttotal: 31.2s\tremaining: 2m 35s\n",
      "200:\tlearn: 0.0762544\ttotal: 31.3s\tremaining: 2m 35s\n",
      "201:\tlearn: 0.0761176\ttotal: 31.5s\tremaining: 2m 35s\n",
      "202:\tlearn: 0.0759155\ttotal: 31.7s\tremaining: 2m 35s\n",
      "203:\tlearn: 0.0756741\ttotal: 31.9s\tremaining: 2m 35s\n",
      "204:\tlearn: 0.0754649\ttotal: 32.1s\tremaining: 2m 35s\n",
      "205:\tlearn: 0.0752247\ttotal: 32.2s\tremaining: 2m 35s\n",
      "206:\tlearn: 0.0751509\ttotal: 32.4s\tremaining: 2m 35s\n",
      "207:\tlearn: 0.0749935\ttotal: 32.5s\tremaining: 2m 35s\n",
      "208:\tlearn: 0.0747342\ttotal: 32.7s\tremaining: 2m 35s\n",
      "209:\tlearn: 0.0744658\ttotal: 32.9s\tremaining: 2m 35s\n",
      "210:\tlearn: 0.0743660\ttotal: 33.1s\tremaining: 2m 34s\n",
      "211:\tlearn: 0.0742454\ttotal: 33.2s\tremaining: 2m 34s\n",
      "212:\tlearn: 0.0740790\ttotal: 33.3s\tremaining: 2m 34s\n",
      "213:\tlearn: 0.0739284\ttotal: 33.4s\tremaining: 2m 34s\n",
      "214:\tlearn: 0.0738266\ttotal: 33.6s\tremaining: 2m 33s\n",
      "215:\tlearn: 0.0736017\ttotal: 33.7s\tremaining: 2m 33s\n",
      "216:\tlearn: 0.0734075\ttotal: 33.8s\tremaining: 2m 33s\n",
      "217:\tlearn: 0.0731858\ttotal: 34s\tremaining: 2m 32s\n",
      "218:\tlearn: 0.0729982\ttotal: 34.1s\tremaining: 2m 32s\n",
      "219:\tlearn: 0.0727326\ttotal: 34.2s\tremaining: 2m 32s\n",
      "220:\tlearn: 0.0725332\ttotal: 34.3s\tremaining: 2m 32s\n",
      "221:\tlearn: 0.0724006\ttotal: 34.5s\tremaining: 2m 32s\n",
      "222:\tlearn: 0.0722704\ttotal: 34.7s\tremaining: 2m 32s\n",
      "223:\tlearn: 0.0722015\ttotal: 34.9s\tremaining: 2m 32s\n",
      "224:\tlearn: 0.0720576\ttotal: 35.1s\tremaining: 2m 31s\n",
      "225:\tlearn: 0.0717714\ttotal: 35.3s\tremaining: 2m 32s\n",
      "226:\tlearn: 0.0715196\ttotal: 35.5s\tremaining: 2m 32s\n",
      "227:\tlearn: 0.0712441\ttotal: 35.7s\tremaining: 2m 32s\n",
      "228:\tlearn: 0.0709638\ttotal: 35.8s\tremaining: 2m 32s\n",
      "229:\tlearn: 0.0708447\ttotal: 36s\tremaining: 2m 31s\n",
      "230:\tlearn: 0.0704481\ttotal: 36.2s\tremaining: 2m 31s\n",
      "231:\tlearn: 0.0702731\ttotal: 36.4s\tremaining: 2m 31s\n",
      "232:\tlearn: 0.0700480\ttotal: 36.6s\tremaining: 2m 31s\n",
      "233:\tlearn: 0.0698782\ttotal: 36.7s\tremaining: 2m 31s\n",
      "234:\tlearn: 0.0697110\ttotal: 36.9s\tremaining: 2m 31s\n",
      "235:\tlearn: 0.0695155\ttotal: 37.1s\tremaining: 2m 31s\n",
      "236:\tlearn: 0.0694304\ttotal: 37.2s\tremaining: 2m 31s\n",
      "237:\tlearn: 0.0692539\ttotal: 37.3s\tremaining: 2m 30s\n",
      "238:\tlearn: 0.0690677\ttotal: 37.5s\tremaining: 2m 30s\n",
      "239:\tlearn: 0.0690159\ttotal: 37.6s\tremaining: 2m 30s\n",
      "240:\tlearn: 0.0688244\ttotal: 37.7s\tremaining: 2m 30s\n",
      "241:\tlearn: 0.0687051\ttotal: 37.8s\tremaining: 2m 29s\n",
      "242:\tlearn: 0.0686214\ttotal: 38s\tremaining: 2m 29s\n",
      "243:\tlearn: 0.0684859\ttotal: 38.1s\tremaining: 2m 29s\n",
      "244:\tlearn: 0.0683457\ttotal: 38.3s\tremaining: 2m 29s\n",
      "245:\tlearn: 0.0680279\ttotal: 38.4s\tremaining: 2m 28s\n",
      "246:\tlearn: 0.0679578\ttotal: 38.5s\tremaining: 2m 28s\n",
      "247:\tlearn: 0.0678777\ttotal: 38.6s\tremaining: 2m 28s\n",
      "248:\tlearn: 0.0677560\ttotal: 38.8s\tremaining: 2m 28s\n",
      "249:\tlearn: 0.0676641\ttotal: 38.9s\tremaining: 2m 27s\n",
      "250:\tlearn: 0.0675931\ttotal: 39s\tremaining: 2m 27s\n",
      "251:\tlearn: 0.0674072\ttotal: 39.1s\tremaining: 2m 27s\n",
      "252:\tlearn: 0.0673596\ttotal: 39.3s\tremaining: 2m 27s\n",
      "253:\tlearn: 0.0672261\ttotal: 39.5s\tremaining: 2m 27s\n",
      "254:\tlearn: 0.0670312\ttotal: 39.7s\tremaining: 2m 27s\n",
      "255:\tlearn: 0.0668929\ttotal: 39.9s\tremaining: 2m 27s\n",
      "256:\tlearn: 0.0668404\ttotal: 40.1s\tremaining: 2m 27s\n",
      "257:\tlearn: 0.0666892\ttotal: 40.2s\tremaining: 2m 26s\n",
      "258:\tlearn: 0.0665549\ttotal: 40.4s\tremaining: 2m 26s\n",
      "259:\tlearn: 0.0664949\ttotal: 40.5s\tremaining: 2m 26s\n",
      "260:\tlearn: 0.0664077\ttotal: 40.6s\tremaining: 2m 26s\n",
      "261:\tlearn: 0.0663584\ttotal: 40.8s\tremaining: 2m 25s\n",
      "262:\tlearn: 0.0660889\ttotal: 40.9s\tremaining: 2m 25s\n",
      "263:\tlearn: 0.0659793\ttotal: 41.1s\tremaining: 2m 25s\n",
      "264:\tlearn: 0.0659026\ttotal: 41.2s\tremaining: 2m 25s\n",
      "265:\tlearn: 0.0658230\ttotal: 41.4s\tremaining: 2m 25s\n",
      "266:\tlearn: 0.0656161\ttotal: 41.5s\tremaining: 2m 25s\n",
      "267:\tlearn: 0.0654800\ttotal: 41.7s\tremaining: 2m 24s\n",
      "268:\tlearn: 0.0653477\ttotal: 41.8s\tremaining: 2m 24s\n",
      "269:\tlearn: 0.0652590\ttotal: 41.9s\tremaining: 2m 24s\n",
      "270:\tlearn: 0.0650710\ttotal: 42.1s\tremaining: 2m 24s\n",
      "271:\tlearn: 0.0648144\ttotal: 42.2s\tremaining: 2m 24s\n",
      "272:\tlearn: 0.0647328\ttotal: 42.4s\tremaining: 2m 23s\n",
      "273:\tlearn: 0.0645872\ttotal: 42.6s\tremaining: 2m 23s\n",
      "274:\tlearn: 0.0644893\ttotal: 42.8s\tremaining: 2m 23s\n",
      "275:\tlearn: 0.0643878\ttotal: 43s\tremaining: 2m 23s\n",
      "276:\tlearn: 0.0642509\ttotal: 43.1s\tremaining: 2m 23s\n",
      "277:\tlearn: 0.0640921\ttotal: 43.3s\tremaining: 2m 23s\n",
      "278:\tlearn: 0.0639802\ttotal: 43.5s\tremaining: 2m 23s\n",
      "279:\tlearn: 0.0637493\ttotal: 43.7s\tremaining: 2m 23s\n",
      "280:\tlearn: 0.0635084\ttotal: 43.9s\tremaining: 2m 23s\n",
      "281:\tlearn: 0.0634280\ttotal: 44.1s\tremaining: 2m 23s\n",
      "282:\tlearn: 0.0632066\ttotal: 44.3s\tremaining: 2m 23s\n",
      "283:\tlearn: 0.0630896\ttotal: 44.5s\tremaining: 2m 23s\n",
      "284:\tlearn: 0.0629652\ttotal: 44.6s\tremaining: 2m 23s\n",
      "285:\tlearn: 0.0628996\ttotal: 44.8s\tremaining: 2m 23s\n",
      "286:\tlearn: 0.0628075\ttotal: 44.9s\tremaining: 2m 22s\n",
      "287:\tlearn: 0.0626695\ttotal: 45s\tremaining: 2m 22s\n",
      "288:\tlearn: 0.0625603\ttotal: 45.2s\tremaining: 2m 22s\n",
      "289:\tlearn: 0.0623163\ttotal: 45.3s\tremaining: 2m 22s\n",
      "290:\tlearn: 0.0622191\ttotal: 45.4s\tremaining: 2m 21s\n",
      "291:\tlearn: 0.0620950\ttotal: 45.6s\tremaining: 2m 21s\n",
      "292:\tlearn: 0.0619637\ttotal: 45.8s\tremaining: 2m 21s\n",
      "293:\tlearn: 0.0618440\ttotal: 45.9s\tremaining: 2m 21s\n",
      "294:\tlearn: 0.0616200\ttotal: 46s\tremaining: 2m 21s\n",
      "295:\tlearn: 0.0614989\ttotal: 46.1s\tremaining: 2m 20s\n",
      "296:\tlearn: 0.0612319\ttotal: 46.4s\tremaining: 2m 20s\n",
      "297:\tlearn: 0.0611724\ttotal: 46.6s\tremaining: 2m 20s\n",
      "298:\tlearn: 0.0611166\ttotal: 46.7s\tremaining: 2m 20s\n",
      "299:\tlearn: 0.0609196\ttotal: 47s\tremaining: 2m 20s\n",
      "300:\tlearn: 0.0607881\ttotal: 47.1s\tremaining: 2m 20s\n",
      "301:\tlearn: 0.0606371\ttotal: 47.2s\tremaining: 2m 20s\n",
      "302:\tlearn: 0.0604840\ttotal: 47.3s\tremaining: 2m 20s\n",
      "303:\tlearn: 0.0604019\ttotal: 47.4s\tremaining: 2m 19s\n",
      "304:\tlearn: 0.0600429\ttotal: 47.6s\tremaining: 2m 19s\n",
      "305:\tlearn: 0.0599007\ttotal: 47.7s\tremaining: 2m 19s\n",
      "306:\tlearn: 0.0597270\ttotal: 47.8s\tremaining: 2m 19s\n",
      "307:\tlearn: 0.0595967\ttotal: 47.9s\tremaining: 2m 18s\n",
      "308:\tlearn: 0.0594983\ttotal: 48s\tremaining: 2m 18s\n",
      "309:\tlearn: 0.0594027\ttotal: 48.2s\tremaining: 2m 18s\n",
      "310:\tlearn: 0.0592688\ttotal: 48.4s\tremaining: 2m 18s\n",
      "311:\tlearn: 0.0592307\ttotal: 48.6s\tremaining: 2m 18s\n",
      "312:\tlearn: 0.0591481\ttotal: 48.7s\tremaining: 2m 18s\n",
      "313:\tlearn: 0.0589647\ttotal: 48.9s\tremaining: 2m 18s\n",
      "314:\tlearn: 0.0588100\ttotal: 49.1s\tremaining: 2m 17s\n"
     ]
    },
    {
     "name": "stdout",
     "output_type": "stream",
     "text": [
      "315:\tlearn: 0.0587341\ttotal: 49.2s\tremaining: 2m 17s\n",
      "316:\tlearn: 0.0586472\ttotal: 49.4s\tremaining: 2m 17s\n",
      "317:\tlearn: 0.0583826\ttotal: 49.6s\tremaining: 2m 17s\n",
      "318:\tlearn: 0.0582884\ttotal: 49.8s\tremaining: 2m 17s\n",
      "319:\tlearn: 0.0581815\ttotal: 49.9s\tremaining: 2m 17s\n",
      "320:\tlearn: 0.0580022\ttotal: 50.1s\tremaining: 2m 17s\n",
      "321:\tlearn: 0.0578674\ttotal: 50.3s\tremaining: 2m 17s\n",
      "322:\tlearn: 0.0578151\ttotal: 50.5s\tremaining: 2m 17s\n",
      "323:\tlearn: 0.0576785\ttotal: 50.6s\tremaining: 2m 16s\n",
      "324:\tlearn: 0.0574938\ttotal: 50.8s\tremaining: 2m 16s\n",
      "325:\tlearn: 0.0574473\ttotal: 50.9s\tremaining: 2m 16s\n",
      "326:\tlearn: 0.0573005\ttotal: 51s\tremaining: 2m 16s\n",
      "327:\tlearn: 0.0572155\ttotal: 51.1s\tremaining: 2m 15s\n",
      "328:\tlearn: 0.0570628\ttotal: 51.3s\tremaining: 2m 15s\n",
      "329:\tlearn: 0.0569949\ttotal: 51.4s\tremaining: 2m 15s\n",
      "330:\tlearn: 0.0568480\ttotal: 51.5s\tremaining: 2m 15s\n",
      "331:\tlearn: 0.0566243\ttotal: 51.7s\tremaining: 2m 15s\n",
      "332:\tlearn: 0.0565810\ttotal: 51.8s\tremaining: 2m 14s\n",
      "333:\tlearn: 0.0564800\ttotal: 51.9s\tremaining: 2m 14s\n",
      "334:\tlearn: 0.0563915\ttotal: 52.1s\tremaining: 2m 14s\n",
      "335:\tlearn: 0.0563242\ttotal: 52.3s\tremaining: 2m 14s\n",
      "336:\tlearn: 0.0561827\ttotal: 52.4s\tremaining: 2m 14s\n",
      "337:\tlearn: 0.0560264\ttotal: 52.6s\tremaining: 2m 14s\n",
      "338:\tlearn: 0.0558914\ttotal: 52.7s\tremaining: 2m 13s\n",
      "339:\tlearn: 0.0557838\ttotal: 52.9s\tremaining: 2m 13s\n",
      "340:\tlearn: 0.0556988\ttotal: 53s\tremaining: 2m 13s\n",
      "341:\tlearn: 0.0555933\ttotal: 53.2s\tremaining: 2m 13s\n",
      "342:\tlearn: 0.0554238\ttotal: 53.4s\tremaining: 2m 13s\n",
      "343:\tlearn: 0.0551353\ttotal: 53.5s\tremaining: 2m 13s\n",
      "344:\tlearn: 0.0550820\ttotal: 53.6s\tremaining: 2m 12s\n",
      "345:\tlearn: 0.0550407\ttotal: 53.8s\tremaining: 2m 12s\n",
      "346:\tlearn: 0.0549504\ttotal: 53.9s\tremaining: 2m 12s\n",
      "347:\tlearn: 0.0548045\ttotal: 54.1s\tremaining: 2m 12s\n",
      "348:\tlearn: 0.0547470\ttotal: 54.2s\tremaining: 2m 12s\n",
      "349:\tlearn: 0.0546974\ttotal: 54.4s\tremaining: 2m 11s\n",
      "350:\tlearn: 0.0545659\ttotal: 54.5s\tremaining: 2m 11s\n",
      "351:\tlearn: 0.0545212\ttotal: 54.6s\tremaining: 2m 11s\n",
      "352:\tlearn: 0.0544212\ttotal: 54.8s\tremaining: 2m 11s\n",
      "353:\tlearn: 0.0541859\ttotal: 54.9s\tremaining: 2m 11s\n",
      "354:\tlearn: 0.0541114\ttotal: 55s\tremaining: 2m 10s\n",
      "355:\tlearn: 0.0539393\ttotal: 55.2s\tremaining: 2m 10s\n",
      "356:\tlearn: 0.0538295\ttotal: 55.3s\tremaining: 2m 10s\n",
      "357:\tlearn: 0.0536504\ttotal: 55.5s\tremaining: 2m 10s\n",
      "358:\tlearn: 0.0535244\ttotal: 55.7s\tremaining: 2m 10s\n",
      "359:\tlearn: 0.0534240\ttotal: 55.9s\tremaining: 2m 10s\n",
      "360:\tlearn: 0.0532984\ttotal: 56s\tremaining: 2m 10s\n",
      "361:\tlearn: 0.0532214\ttotal: 56.2s\tremaining: 2m 10s\n",
      "362:\tlearn: 0.0530632\ttotal: 56.4s\tremaining: 2m 10s\n",
      "363:\tlearn: 0.0529719\ttotal: 56.6s\tremaining: 2m 9s\n",
      "364:\tlearn: 0.0528582\ttotal: 56.7s\tremaining: 2m 9s\n",
      "365:\tlearn: 0.0527653\ttotal: 56.9s\tremaining: 2m 9s\n",
      "366:\tlearn: 0.0526757\ttotal: 57.1s\tremaining: 2m 9s\n",
      "367:\tlearn: 0.0526015\ttotal: 57.3s\tremaining: 2m 9s\n",
      "368:\tlearn: 0.0525368\ttotal: 57.4s\tremaining: 2m 9s\n",
      "369:\tlearn: 0.0523744\ttotal: 57.6s\tremaining: 2m 9s\n",
      "370:\tlearn: 0.0522526\ttotal: 57.8s\tremaining: 2m 9s\n",
      "371:\tlearn: 0.0521982\ttotal: 57.9s\tremaining: 2m 8s\n",
      "372:\tlearn: 0.0520886\ttotal: 58.1s\tremaining: 2m 8s\n",
      "373:\tlearn: 0.0520070\ttotal: 58.2s\tremaining: 2m 8s\n",
      "374:\tlearn: 0.0519303\ttotal: 58.4s\tremaining: 2m 8s\n",
      "375:\tlearn: 0.0518784\ttotal: 58.5s\tremaining: 2m 8s\n",
      "376:\tlearn: 0.0517071\ttotal: 58.7s\tremaining: 2m 8s\n",
      "377:\tlearn: 0.0516457\ttotal: 58.9s\tremaining: 2m 8s\n",
      "378:\tlearn: 0.0515490\ttotal: 59s\tremaining: 2m 7s\n",
      "379:\tlearn: 0.0514722\ttotal: 59.1s\tremaining: 2m 7s\n",
      "380:\tlearn: 0.0514359\ttotal: 59.3s\tremaining: 2m 7s\n",
      "381:\tlearn: 0.0513177\ttotal: 59.4s\tremaining: 2m 7s\n",
      "382:\tlearn: 0.0512693\ttotal: 59.5s\tremaining: 2m 6s\n",
      "383:\tlearn: 0.0512081\ttotal: 59.6s\tremaining: 2m 6s\n",
      "384:\tlearn: 0.0510996\ttotal: 59.8s\tremaining: 2m 6s\n",
      "385:\tlearn: 0.0510386\ttotal: 59.9s\tremaining: 2m 6s\n",
      "386:\tlearn: 0.0508130\ttotal: 1m\tremaining: 2m 6s\n",
      "387:\tlearn: 0.0506974\ttotal: 1m\tremaining: 2m 5s\n",
      "388:\tlearn: 0.0506231\ttotal: 1m\tremaining: 2m 5s\n",
      "389:\tlearn: 0.0505104\ttotal: 1m\tremaining: 2m 5s\n",
      "390:\tlearn: 0.0503999\ttotal: 1m\tremaining: 2m 5s\n",
      "391:\tlearn: 0.0502628\ttotal: 1m\tremaining: 2m 5s\n",
      "392:\tlearn: 0.0501854\ttotal: 1m\tremaining: 2m 4s\n",
      "393:\tlearn: 0.0501468\ttotal: 1m\tremaining: 2m 4s\n",
      "394:\tlearn: 0.0500672\ttotal: 1m 1s\tremaining: 2m 4s\n",
      "395:\tlearn: 0.0499436\ttotal: 1m 1s\tremaining: 2m 4s\n",
      "396:\tlearn: 0.0498485\ttotal: 1m 1s\tremaining: 2m 4s\n",
      "397:\tlearn: 0.0497021\ttotal: 1m 1s\tremaining: 2m 3s\n",
      "398:\tlearn: 0.0495890\ttotal: 1m 1s\tremaining: 2m 3s\n",
      "399:\tlearn: 0.0495078\ttotal: 1m 1s\tremaining: 2m 3s\n",
      "400:\tlearn: 0.0493874\ttotal: 1m 1s\tremaining: 2m 3s\n",
      "401:\tlearn: 0.0492721\ttotal: 1m 2s\tremaining: 2m 3s\n",
      "402:\tlearn: 0.0491579\ttotal: 1m 2s\tremaining: 2m 2s\n",
      "403:\tlearn: 0.0490700\ttotal: 1m 2s\tremaining: 2m 2s\n",
      "404:\tlearn: 0.0490182\ttotal: 1m 2s\tremaining: 2m 2s\n",
      "405:\tlearn: 0.0488662\ttotal: 1m 2s\tremaining: 2m 2s\n",
      "406:\tlearn: 0.0488271\ttotal: 1m 2s\tremaining: 2m 2s\n",
      "407:\tlearn: 0.0487054\ttotal: 1m 2s\tremaining: 2m 1s\n",
      "408:\tlearn: 0.0486332\ttotal: 1m 2s\tremaining: 2m 1s\n",
      "409:\tlearn: 0.0486075\ttotal: 1m 3s\tremaining: 2m 1s\n",
      "410:\tlearn: 0.0485285\ttotal: 1m 3s\tremaining: 2m 1s\n",
      "411:\tlearn: 0.0484596\ttotal: 1m 3s\tremaining: 2m\n",
      "412:\tlearn: 0.0483633\ttotal: 1m 3s\tremaining: 2m\n",
      "413:\tlearn: 0.0482821\ttotal: 1m 3s\tremaining: 2m\n",
      "414:\tlearn: 0.0482067\ttotal: 1m 3s\tremaining: 2m\n",
      "415:\tlearn: 0.0480948\ttotal: 1m 3s\tremaining: 2m\n",
      "416:\tlearn: 0.0479664\ttotal: 1m 3s\tremaining: 1m 59s\n",
      "417:\tlearn: 0.0479034\ttotal: 1m 4s\tremaining: 1m 59s\n",
      "418:\tlearn: 0.0478535\ttotal: 1m 4s\tremaining: 1m 59s\n",
      "419:\tlearn: 0.0477905\ttotal: 1m 4s\tremaining: 1m 59s\n",
      "420:\tlearn: 0.0476955\ttotal: 1m 4s\tremaining: 1m 59s\n",
      "421:\tlearn: 0.0475564\ttotal: 1m 4s\tremaining: 1m 58s\n",
      "422:\tlearn: 0.0475047\ttotal: 1m 4s\tremaining: 1m 58s\n",
      "423:\tlearn: 0.0474127\ttotal: 1m 4s\tremaining: 1m 58s\n",
      "424:\tlearn: 0.0473466\ttotal: 1m 4s\tremaining: 1m 58s\n",
      "425:\tlearn: 0.0472199\ttotal: 1m 5s\tremaining: 1m 58s\n",
      "426:\tlearn: 0.0471597\ttotal: 1m 5s\tremaining: 1m 57s\n",
      "427:\tlearn: 0.0470624\ttotal: 1m 5s\tremaining: 1m 57s\n",
      "428:\tlearn: 0.0469566\ttotal: 1m 5s\tremaining: 1m 57s\n",
      "429:\tlearn: 0.0469247\ttotal: 1m 5s\tremaining: 1m 57s\n",
      "430:\tlearn: 0.0468313\ttotal: 1m 5s\tremaining: 1m 57s\n",
      "431:\tlearn: 0.0466662\ttotal: 1m 5s\tremaining: 1m 56s\n",
      "432:\tlearn: 0.0466043\ttotal: 1m 5s\tremaining: 1m 56s\n",
      "433:\tlearn: 0.0465371\ttotal: 1m 5s\tremaining: 1m 56s\n",
      "434:\tlearn: 0.0464576\ttotal: 1m 6s\tremaining: 1m 56s\n",
      "435:\tlearn: 0.0463913\ttotal: 1m 6s\tremaining: 1m 55s\n",
      "436:\tlearn: 0.0463319\ttotal: 1m 6s\tremaining: 1m 55s\n",
      "437:\tlearn: 0.0462067\ttotal: 1m 6s\tremaining: 1m 55s\n",
      "438:\tlearn: 0.0460393\ttotal: 1m 6s\tremaining: 1m 55s\n",
      "439:\tlearn: 0.0459427\ttotal: 1m 6s\tremaining: 1m 55s\n",
      "440:\tlearn: 0.0458499\ttotal: 1m 6s\tremaining: 1m 54s\n",
      "441:\tlearn: 0.0458129\ttotal: 1m 6s\tremaining: 1m 54s\n",
      "442:\tlearn: 0.0456332\ttotal: 1m 7s\tremaining: 1m 54s\n",
      "443:\tlearn: 0.0455121\ttotal: 1m 7s\tremaining: 1m 54s\n",
      "444:\tlearn: 0.0454453\ttotal: 1m 7s\tremaining: 1m 54s\n",
      "445:\tlearn: 0.0453446\ttotal: 1m 7s\tremaining: 1m 53s\n",
      "446:\tlearn: 0.0453154\ttotal: 1m 7s\tremaining: 1m 53s\n",
      "447:\tlearn: 0.0452373\ttotal: 1m 7s\tremaining: 1m 53s\n",
      "448:\tlearn: 0.0451594\ttotal: 1m 7s\tremaining: 1m 53s\n",
      "449:\tlearn: 0.0450918\ttotal: 1m 7s\tremaining: 1m 53s\n",
      "450:\tlearn: 0.0449878\ttotal: 1m 8s\tremaining: 1m 53s\n",
      "451:\tlearn: 0.0449304\ttotal: 1m 8s\tremaining: 1m 52s\n",
      "452:\tlearn: 0.0448761\ttotal: 1m 8s\tremaining: 1m 52s\n",
      "453:\tlearn: 0.0447141\ttotal: 1m 8s\tremaining: 1m 52s\n",
      "454:\tlearn: 0.0446206\ttotal: 1m 8s\tremaining: 1m 52s\n",
      "455:\tlearn: 0.0445473\ttotal: 1m 8s\tremaining: 1m 52s\n",
      "456:\tlearn: 0.0444716\ttotal: 1m 8s\tremaining: 1m 51s\n",
      "457:\tlearn: 0.0443743\ttotal: 1m 8s\tremaining: 1m 51s\n",
      "458:\tlearn: 0.0443147\ttotal: 1m 9s\tremaining: 1m 51s\n",
      "459:\tlearn: 0.0442215\ttotal: 1m 9s\tremaining: 1m 51s\n",
      "460:\tlearn: 0.0441072\ttotal: 1m 9s\tremaining: 1m 51s\n",
      "461:\tlearn: 0.0440520\ttotal: 1m 9s\tremaining: 1m 51s\n",
      "462:\tlearn: 0.0439714\ttotal: 1m 9s\tremaining: 1m 50s\n",
      "463:\tlearn: 0.0438992\ttotal: 1m 9s\tremaining: 1m 50s\n",
      "464:\tlearn: 0.0438195\ttotal: 1m 9s\tremaining: 1m 50s\n",
      "465:\tlearn: 0.0437406\ttotal: 1m 10s\tremaining: 1m 50s\n",
      "466:\tlearn: 0.0436155\ttotal: 1m 10s\tremaining: 1m 50s\n",
      "467:\tlearn: 0.0435745\ttotal: 1m 10s\tremaining: 1m 49s\n",
      "468:\tlearn: 0.0435481\ttotal: 1m 10s\tremaining: 1m 49s\n",
      "469:\tlearn: 0.0434890\ttotal: 1m 10s\tremaining: 1m 49s\n",
      "470:\tlearn: 0.0433824\ttotal: 1m 10s\tremaining: 1m 49s\n",
      "471:\tlearn: 0.0433048\ttotal: 1m 10s\tremaining: 1m 49s\n"
     ]
    },
    {
     "name": "stdout",
     "output_type": "stream",
     "text": [
      "472:\tlearn: 0.0431837\ttotal: 1m 10s\tremaining: 1m 49s\n",
      "473:\tlearn: 0.0431603\ttotal: 1m 11s\tremaining: 1m 48s\n",
      "474:\tlearn: 0.0431210\ttotal: 1m 11s\tremaining: 1m 48s\n",
      "475:\tlearn: 0.0430425\ttotal: 1m 11s\tremaining: 1m 48s\n",
      "476:\tlearn: 0.0429015\ttotal: 1m 11s\tremaining: 1m 48s\n",
      "477:\tlearn: 0.0428127\ttotal: 1m 11s\tremaining: 1m 48s\n",
      "478:\tlearn: 0.0427248\ttotal: 1m 11s\tremaining: 1m 48s\n",
      "479:\tlearn: 0.0426565\ttotal: 1m 12s\tremaining: 1m 48s\n",
      "480:\tlearn: 0.0426133\ttotal: 1m 12s\tremaining: 1m 47s\n",
      "481:\tlearn: 0.0425110\ttotal: 1m 12s\tremaining: 1m 47s\n",
      "482:\tlearn: 0.0424358\ttotal: 1m 12s\tremaining: 1m 47s\n",
      "483:\tlearn: 0.0423825\ttotal: 1m 12s\tremaining: 1m 47s\n",
      "484:\tlearn: 0.0423381\ttotal: 1m 12s\tremaining: 1m 47s\n",
      "485:\tlearn: 0.0422930\ttotal: 1m 12s\tremaining: 1m 47s\n",
      "486:\tlearn: 0.0422543\ttotal: 1m 13s\tremaining: 1m 46s\n",
      "487:\tlearn: 0.0422018\ttotal: 1m 13s\tremaining: 1m 46s\n",
      "488:\tlearn: 0.0421358\ttotal: 1m 13s\tremaining: 1m 46s\n",
      "489:\tlearn: 0.0420876\ttotal: 1m 13s\tremaining: 1m 46s\n",
      "490:\tlearn: 0.0420513\ttotal: 1m 13s\tremaining: 1m 46s\n",
      "491:\tlearn: 0.0419744\ttotal: 1m 13s\tremaining: 1m 46s\n",
      "492:\tlearn: 0.0419128\ttotal: 1m 13s\tremaining: 1m 45s\n",
      "493:\tlearn: 0.0418520\ttotal: 1m 14s\tremaining: 1m 45s\n",
      "494:\tlearn: 0.0418011\ttotal: 1m 14s\tremaining: 1m 45s\n",
      "495:\tlearn: 0.0417564\ttotal: 1m 14s\tremaining: 1m 45s\n",
      "496:\tlearn: 0.0416471\ttotal: 1m 14s\tremaining: 1m 45s\n",
      "497:\tlearn: 0.0415560\ttotal: 1m 14s\tremaining: 1m 45s\n",
      "498:\tlearn: 0.0415088\ttotal: 1m 14s\tremaining: 1m 44s\n",
      "499:\tlearn: 0.0414383\ttotal: 1m 14s\tremaining: 1m 44s\n",
      "500:\tlearn: 0.0413577\ttotal: 1m 14s\tremaining: 1m 44s\n",
      "501:\tlearn: 0.0413349\ttotal: 1m 15s\tremaining: 1m 44s\n",
      "502:\tlearn: 0.0412951\ttotal: 1m 15s\tremaining: 1m 44s\n",
      "503:\tlearn: 0.0412352\ttotal: 1m 15s\tremaining: 1m 43s\n",
      "504:\tlearn: 0.0411531\ttotal: 1m 15s\tremaining: 1m 43s\n",
      "505:\tlearn: 0.0411302\ttotal: 1m 15s\tremaining: 1m 43s\n",
      "506:\tlearn: 0.0410737\ttotal: 1m 15s\tremaining: 1m 43s\n",
      "507:\tlearn: 0.0410116\ttotal: 1m 15s\tremaining: 1m 43s\n",
      "508:\tlearn: 0.0409201\ttotal: 1m 15s\tremaining: 1m 42s\n",
      "509:\tlearn: 0.0408687\ttotal: 1m 15s\tremaining: 1m 42s\n",
      "510:\tlearn: 0.0408042\ttotal: 1m 16s\tremaining: 1m 42s\n",
      "511:\tlearn: 0.0407441\ttotal: 1m 16s\tremaining: 1m 42s\n",
      "512:\tlearn: 0.0406859\ttotal: 1m 16s\tremaining: 1m 42s\n",
      "513:\tlearn: 0.0405849\ttotal: 1m 16s\tremaining: 1m 42s\n",
      "514:\tlearn: 0.0405321\ttotal: 1m 16s\tremaining: 1m 41s\n",
      "515:\tlearn: 0.0404809\ttotal: 1m 16s\tremaining: 1m 41s\n",
      "516:\tlearn: 0.0403845\ttotal: 1m 16s\tremaining: 1m 41s\n",
      "517:\tlearn: 0.0403186\ttotal: 1m 17s\tremaining: 1m 41s\n",
      "518:\tlearn: 0.0402360\ttotal: 1m 17s\tremaining: 1m 41s\n",
      "519:\tlearn: 0.0400468\ttotal: 1m 17s\tremaining: 1m 41s\n",
      "520:\tlearn: 0.0399943\ttotal: 1m 17s\tremaining: 1m 40s\n",
      "521:\tlearn: 0.0399549\ttotal: 1m 17s\tremaining: 1m 40s\n",
      "522:\tlearn: 0.0398902\ttotal: 1m 17s\tremaining: 1m 40s\n",
      "523:\tlearn: 0.0398233\ttotal: 1m 17s\tremaining: 1m 40s\n",
      "524:\tlearn: 0.0397312\ttotal: 1m 17s\tremaining: 1m 40s\n",
      "525:\tlearn: 0.0397017\ttotal: 1m 17s\tremaining: 1m 39s\n",
      "526:\tlearn: 0.0396622\ttotal: 1m 18s\tremaining: 1m 39s\n",
      "527:\tlearn: 0.0396292\ttotal: 1m 18s\tremaining: 1m 39s\n",
      "528:\tlearn: 0.0395353\ttotal: 1m 18s\tremaining: 1m 39s\n",
      "529:\tlearn: 0.0394671\ttotal: 1m 18s\tremaining: 1m 39s\n",
      "530:\tlearn: 0.0394004\ttotal: 1m 18s\tremaining: 1m 38s\n",
      "531:\tlearn: 0.0393207\ttotal: 1m 18s\tremaining: 1m 38s\n",
      "532:\tlearn: 0.0392564\ttotal: 1m 18s\tremaining: 1m 38s\n",
      "533:\tlearn: 0.0391961\ttotal: 1m 18s\tremaining: 1m 38s\n",
      "534:\tlearn: 0.0391311\ttotal: 1m 19s\tremaining: 1m 38s\n",
      "535:\tlearn: 0.0390560\ttotal: 1m 19s\tremaining: 1m 38s\n",
      "536:\tlearn: 0.0390138\ttotal: 1m 19s\tremaining: 1m 37s\n",
      "537:\tlearn: 0.0389756\ttotal: 1m 19s\tremaining: 1m 37s\n",
      "538:\tlearn: 0.0389168\ttotal: 1m 19s\tremaining: 1m 37s\n",
      "539:\tlearn: 0.0388979\ttotal: 1m 19s\tremaining: 1m 37s\n",
      "540:\tlearn: 0.0387894\ttotal: 1m 19s\tremaining: 1m 37s\n",
      "541:\tlearn: 0.0386976\ttotal: 1m 20s\tremaining: 1m 37s\n",
      "542:\tlearn: 0.0385531\ttotal: 1m 20s\tremaining: 1m 37s\n",
      "543:\tlearn: 0.0385097\ttotal: 1m 20s\tremaining: 1m 37s\n",
      "544:\tlearn: 0.0384324\ttotal: 1m 20s\tremaining: 1m 36s\n",
      "545:\tlearn: 0.0384033\ttotal: 1m 20s\tremaining: 1m 36s\n",
      "546:\tlearn: 0.0383719\ttotal: 1m 20s\tremaining: 1m 36s\n",
      "547:\tlearn: 0.0383464\ttotal: 1m 20s\tremaining: 1m 36s\n",
      "548:\tlearn: 0.0382935\ttotal: 1m 21s\tremaining: 1m 36s\n",
      "549:\tlearn: 0.0382571\ttotal: 1m 21s\tremaining: 1m 35s\n",
      "550:\tlearn: 0.0382046\ttotal: 1m 21s\tremaining: 1m 35s\n",
      "551:\tlearn: 0.0381512\ttotal: 1m 21s\tremaining: 1m 35s\n",
      "552:\tlearn: 0.0380988\ttotal: 1m 21s\tremaining: 1m 35s\n",
      "553:\tlearn: 0.0379366\ttotal: 1m 21s\tremaining: 1m 35s\n",
      "554:\tlearn: 0.0378954\ttotal: 1m 21s\tremaining: 1m 35s\n",
      "555:\tlearn: 0.0378177\ttotal: 1m 22s\tremaining: 1m 35s\n",
      "556:\tlearn: 0.0377291\ttotal: 1m 22s\tremaining: 1m 34s\n",
      "557:\tlearn: 0.0376107\ttotal: 1m 22s\tremaining: 1m 34s\n",
      "558:\tlearn: 0.0375524\ttotal: 1m 22s\tremaining: 1m 34s\n",
      "559:\tlearn: 0.0374864\ttotal: 1m 22s\tremaining: 1m 34s\n",
      "560:\tlearn: 0.0374354\ttotal: 1m 22s\tremaining: 1m 34s\n",
      "561:\tlearn: 0.0373688\ttotal: 1m 22s\tremaining: 1m 34s\n",
      "562:\tlearn: 0.0372850\ttotal: 1m 22s\tremaining: 1m 33s\n",
      "563:\tlearn: 0.0372508\ttotal: 1m 23s\tremaining: 1m 33s\n",
      "564:\tlearn: 0.0371763\ttotal: 1m 23s\tremaining: 1m 33s\n",
      "565:\tlearn: 0.0371137\ttotal: 1m 23s\tremaining: 1m 33s\n",
      "566:\tlearn: 0.0370338\ttotal: 1m 23s\tremaining: 1m 33s\n",
      "567:\tlearn: 0.0369340\ttotal: 1m 23s\tremaining: 1m 33s\n",
      "568:\tlearn: 0.0368607\ttotal: 1m 23s\tremaining: 1m 32s\n",
      "569:\tlearn: 0.0368222\ttotal: 1m 23s\tremaining: 1m 32s\n",
      "570:\tlearn: 0.0367663\ttotal: 1m 24s\tremaining: 1m 32s\n",
      "571:\tlearn: 0.0367025\ttotal: 1m 24s\tremaining: 1m 32s\n",
      "572:\tlearn: 0.0366632\ttotal: 1m 24s\tremaining: 1m 32s\n",
      "573:\tlearn: 0.0366239\ttotal: 1m 24s\tremaining: 1m 32s\n",
      "574:\tlearn: 0.0365751\ttotal: 1m 24s\tremaining: 1m 31s\n",
      "575:\tlearn: 0.0364904\ttotal: 1m 24s\tremaining: 1m 31s\n",
      "576:\tlearn: 0.0364351\ttotal: 1m 24s\tremaining: 1m 31s\n",
      "577:\tlearn: 0.0363915\ttotal: 1m 24s\tremaining: 1m 31s\n",
      "578:\tlearn: 0.0363699\ttotal: 1m 25s\tremaining: 1m 31s\n",
      "579:\tlearn: 0.0363189\ttotal: 1m 25s\tremaining: 1m 31s\n",
      "580:\tlearn: 0.0362837\ttotal: 1m 25s\tremaining: 1m 30s\n",
      "581:\tlearn: 0.0362078\ttotal: 1m 25s\tremaining: 1m 30s\n",
      "582:\tlearn: 0.0361340\ttotal: 1m 25s\tremaining: 1m 30s\n",
      "583:\tlearn: 0.0360971\ttotal: 1m 25s\tremaining: 1m 30s\n",
      "584:\tlearn: 0.0360409\ttotal: 1m 25s\tremaining: 1m 30s\n",
      "585:\tlearn: 0.0360195\ttotal: 1m 25s\tremaining: 1m 30s\n",
      "586:\tlearn: 0.0359593\ttotal: 1m 26s\tremaining: 1m 29s\n",
      "587:\tlearn: 0.0358813\ttotal: 1m 26s\tremaining: 1m 29s\n",
      "588:\tlearn: 0.0358408\ttotal: 1m 26s\tremaining: 1m 29s\n",
      "589:\tlearn: 0.0358134\ttotal: 1m 26s\tremaining: 1m 29s\n",
      "590:\tlearn: 0.0357483\ttotal: 1m 26s\tremaining: 1m 29s\n",
      "591:\tlearn: 0.0356633\ttotal: 1m 26s\tremaining: 1m 29s\n",
      "592:\tlearn: 0.0356075\ttotal: 1m 26s\tremaining: 1m 28s\n",
      "593:\tlearn: 0.0355370\ttotal: 1m 27s\tremaining: 1m 28s\n",
      "594:\tlearn: 0.0354800\ttotal: 1m 27s\tremaining: 1m 28s\n",
      "595:\tlearn: 0.0353695\ttotal: 1m 27s\tremaining: 1m 28s\n",
      "596:\tlearn: 0.0353026\ttotal: 1m 27s\tremaining: 1m 28s\n",
      "597:\tlearn: 0.0352663\ttotal: 1m 27s\tremaining: 1m 28s\n",
      "598:\tlearn: 0.0352167\ttotal: 1m 27s\tremaining: 1m 28s\n",
      "599:\tlearn: 0.0351242\ttotal: 1m 27s\tremaining: 1m 27s\n",
      "600:\tlearn: 0.0350798\ttotal: 1m 28s\tremaining: 1m 27s\n",
      "601:\tlearn: 0.0350455\ttotal: 1m 28s\tremaining: 1m 27s\n",
      "602:\tlearn: 0.0350018\ttotal: 1m 28s\tremaining: 1m 27s\n",
      "603:\tlearn: 0.0349521\ttotal: 1m 28s\tremaining: 1m 27s\n",
      "604:\tlearn: 0.0349147\ttotal: 1m 28s\tremaining: 1m 27s\n",
      "605:\tlearn: 0.0348637\ttotal: 1m 28s\tremaining: 1m 26s\n",
      "606:\tlearn: 0.0347923\ttotal: 1m 28s\tremaining: 1m 26s\n",
      "607:\tlearn: 0.0347015\ttotal: 1m 29s\tremaining: 1m 26s\n",
      "608:\tlearn: 0.0346615\ttotal: 1m 29s\tremaining: 1m 26s\n",
      "609:\tlearn: 0.0346146\ttotal: 1m 29s\tremaining: 1m 26s\n",
      "610:\tlearn: 0.0345808\ttotal: 1m 29s\tremaining: 1m 26s\n",
      "611:\tlearn: 0.0345579\ttotal: 1m 29s\tremaining: 1m 26s\n",
      "612:\tlearn: 0.0345117\ttotal: 1m 29s\tremaining: 1m 25s\n",
      "613:\tlearn: 0.0344037\ttotal: 1m 29s\tremaining: 1m 25s\n",
      "614:\tlearn: 0.0343697\ttotal: 1m 30s\tremaining: 1m 25s\n",
      "615:\tlearn: 0.0343302\ttotal: 1m 30s\tremaining: 1m 25s\n",
      "616:\tlearn: 0.0342251\ttotal: 1m 30s\tremaining: 1m 25s\n",
      "617:\tlearn: 0.0341560\ttotal: 1m 30s\tremaining: 1m 25s\n",
      "618:\tlearn: 0.0341109\ttotal: 1m 30s\tremaining: 1m 25s\n",
      "619:\tlearn: 0.0340778\ttotal: 1m 30s\tremaining: 1m 25s\n",
      "620:\tlearn: 0.0340486\ttotal: 1m 31s\tremaining: 1m 24s\n",
      "621:\tlearn: 0.0339540\ttotal: 1m 31s\tremaining: 1m 24s\n",
      "622:\tlearn: 0.0338902\ttotal: 1m 31s\tremaining: 1m 24s\n",
      "623:\tlearn: 0.0338322\ttotal: 1m 31s\tremaining: 1m 24s\n",
      "624:\tlearn: 0.0337645\ttotal: 1m 31s\tremaining: 1m 24s\n"
     ]
    },
    {
     "name": "stdout",
     "output_type": "stream",
     "text": [
      "625:\tlearn: 0.0336863\ttotal: 1m 31s\tremaining: 1m 24s\n",
      "626:\tlearn: 0.0336302\ttotal: 1m 32s\tremaining: 1m 24s\n",
      "627:\tlearn: 0.0336066\ttotal: 1m 32s\tremaining: 1m 24s\n",
      "628:\tlearn: 0.0335629\ttotal: 1m 32s\tremaining: 1m 23s\n",
      "629:\tlearn: 0.0335382\ttotal: 1m 32s\tremaining: 1m 23s\n",
      "630:\tlearn: 0.0334997\ttotal: 1m 32s\tremaining: 1m 23s\n",
      "631:\tlearn: 0.0334517\ttotal: 1m 32s\tremaining: 1m 23s\n",
      "632:\tlearn: 0.0334035\ttotal: 1m 32s\tremaining: 1m 23s\n",
      "633:\tlearn: 0.0333775\ttotal: 1m 33s\tremaining: 1m 23s\n",
      "634:\tlearn: 0.0333483\ttotal: 1m 33s\tremaining: 1m 22s\n",
      "635:\tlearn: 0.0333204\ttotal: 1m 33s\tremaining: 1m 22s\n",
      "636:\tlearn: 0.0332991\ttotal: 1m 33s\tremaining: 1m 22s\n",
      "637:\tlearn: 0.0332483\ttotal: 1m 33s\tremaining: 1m 22s\n",
      "638:\tlearn: 0.0332034\ttotal: 1m 33s\tremaining: 1m 22s\n",
      "639:\tlearn: 0.0331708\ttotal: 1m 33s\tremaining: 1m 22s\n",
      "640:\tlearn: 0.0331358\ttotal: 1m 34s\tremaining: 1m 22s\n",
      "641:\tlearn: 0.0331017\ttotal: 1m 34s\tremaining: 1m 21s\n",
      "642:\tlearn: 0.0330599\ttotal: 1m 34s\tremaining: 1m 21s\n",
      "643:\tlearn: 0.0329862\ttotal: 1m 34s\tremaining: 1m 21s\n",
      "644:\tlearn: 0.0329498\ttotal: 1m 34s\tremaining: 1m 21s\n",
      "645:\tlearn: 0.0328334\ttotal: 1m 34s\tremaining: 1m 21s\n",
      "646:\tlearn: 0.0328112\ttotal: 1m 34s\tremaining: 1m 21s\n",
      "647:\tlearn: 0.0327508\ttotal: 1m 35s\tremaining: 1m 20s\n",
      "648:\tlearn: 0.0327009\ttotal: 1m 35s\tremaining: 1m 20s\n",
      "649:\tlearn: 0.0326719\ttotal: 1m 35s\tremaining: 1m 20s\n",
      "650:\tlearn: 0.0326302\ttotal: 1m 35s\tremaining: 1m 20s\n",
      "651:\tlearn: 0.0325976\ttotal: 1m 35s\tremaining: 1m 20s\n",
      "652:\tlearn: 0.0325341\ttotal: 1m 35s\tremaining: 1m 20s\n",
      "653:\tlearn: 0.0325035\ttotal: 1m 36s\tremaining: 1m 20s\n",
      "654:\tlearn: 0.0324290\ttotal: 1m 36s\tremaining: 1m 20s\n",
      "655:\tlearn: 0.0323986\ttotal: 1m 36s\tremaining: 1m 19s\n",
      "656:\tlearn: 0.0323675\ttotal: 1m 36s\tremaining: 1m 19s\n",
      "657:\tlearn: 0.0323298\ttotal: 1m 36s\tremaining: 1m 19s\n",
      "658:\tlearn: 0.0322703\ttotal: 1m 36s\tremaining: 1m 19s\n",
      "659:\tlearn: 0.0321801\ttotal: 1m 36s\tremaining: 1m 19s\n",
      "660:\tlearn: 0.0321581\ttotal: 1m 37s\tremaining: 1m 19s\n",
      "661:\tlearn: 0.0321258\ttotal: 1m 37s\tremaining: 1m 18s\n",
      "662:\tlearn: 0.0320966\ttotal: 1m 37s\tremaining: 1m 18s\n",
      "663:\tlearn: 0.0320714\ttotal: 1m 37s\tremaining: 1m 18s\n",
      "664:\tlearn: 0.0320306\ttotal: 1m 37s\tremaining: 1m 18s\n",
      "665:\tlearn: 0.0319518\ttotal: 1m 37s\tremaining: 1m 18s\n",
      "666:\tlearn: 0.0319013\ttotal: 1m 37s\tremaining: 1m 18s\n",
      "667:\tlearn: 0.0318726\ttotal: 1m 38s\tremaining: 1m 18s\n",
      "668:\tlearn: 0.0318335\ttotal: 1m 38s\tremaining: 1m 17s\n",
      "669:\tlearn: 0.0318122\ttotal: 1m 38s\tremaining: 1m 17s\n",
      "670:\tlearn: 0.0317963\ttotal: 1m 38s\tremaining: 1m 17s\n",
      "671:\tlearn: 0.0317480\ttotal: 1m 38s\tremaining: 1m 17s\n",
      "672:\tlearn: 0.0316953\ttotal: 1m 38s\tremaining: 1m 17s\n",
      "673:\tlearn: 0.0316541\ttotal: 1m 38s\tremaining: 1m 17s\n",
      "674:\tlearn: 0.0316231\ttotal: 1m 38s\tremaining: 1m 16s\n",
      "675:\tlearn: 0.0315033\ttotal: 1m 39s\tremaining: 1m 16s\n",
      "676:\tlearn: 0.0314900\ttotal: 1m 39s\tremaining: 1m 16s\n",
      "677:\tlearn: 0.0314738\ttotal: 1m 39s\tremaining: 1m 16s\n",
      "678:\tlearn: 0.0314447\ttotal: 1m 39s\tremaining: 1m 16s\n",
      "679:\tlearn: 0.0314062\ttotal: 1m 39s\tremaining: 1m 16s\n",
      "680:\tlearn: 0.0313276\ttotal: 1m 39s\tremaining: 1m 16s\n",
      "681:\tlearn: 0.0312878\ttotal: 1m 39s\tremaining: 1m 15s\n",
      "682:\tlearn: 0.0312590\ttotal: 1m 39s\tremaining: 1m 15s\n",
      "683:\tlearn: 0.0312259\ttotal: 1m 40s\tremaining: 1m 15s\n",
      "684:\tlearn: 0.0312139\ttotal: 1m 40s\tremaining: 1m 15s\n",
      "685:\tlearn: 0.0311494\ttotal: 1m 40s\tremaining: 1m 15s\n",
      "686:\tlearn: 0.0311160\ttotal: 1m 40s\tremaining: 1m 15s\n",
      "687:\tlearn: 0.0310908\ttotal: 1m 40s\tremaining: 1m 14s\n",
      "688:\tlearn: 0.0310418\ttotal: 1m 40s\tremaining: 1m 14s\n",
      "689:\tlearn: 0.0309890\ttotal: 1m 40s\tremaining: 1m 14s\n",
      "690:\tlearn: 0.0309669\ttotal: 1m 41s\tremaining: 1m 14s\n",
      "691:\tlearn: 0.0309032\ttotal: 1m 41s\tremaining: 1m 14s\n",
      "692:\tlearn: 0.0308253\ttotal: 1m 41s\tremaining: 1m 14s\n",
      "693:\tlearn: 0.0307988\ttotal: 1m 41s\tremaining: 1m 14s\n",
      "694:\tlearn: 0.0307642\ttotal: 1m 41s\tremaining: 1m 13s\n",
      "695:\tlearn: 0.0307042\ttotal: 1m 41s\tremaining: 1m 13s\n",
      "696:\tlearn: 0.0306598\ttotal: 1m 42s\tremaining: 1m 13s\n",
      "697:\tlearn: 0.0306464\ttotal: 1m 42s\tremaining: 1m 13s\n",
      "698:\tlearn: 0.0306035\ttotal: 1m 42s\tremaining: 1m 13s\n",
      "699:\tlearn: 0.0305849\ttotal: 1m 42s\tremaining: 1m 13s\n",
      "700:\tlearn: 0.0305430\ttotal: 1m 42s\tremaining: 1m 13s\n",
      "701:\tlearn: 0.0304697\ttotal: 1m 42s\tremaining: 1m 12s\n",
      "702:\tlearn: 0.0304162\ttotal: 1m 42s\tremaining: 1m 12s\n",
      "703:\tlearn: 0.0303832\ttotal: 1m 43s\tremaining: 1m 12s\n",
      "704:\tlearn: 0.0303635\ttotal: 1m 43s\tremaining: 1m 12s\n",
      "705:\tlearn: 0.0303292\ttotal: 1m 43s\tremaining: 1m 12s\n",
      "706:\tlearn: 0.0302940\ttotal: 1m 43s\tremaining: 1m 12s\n",
      "707:\tlearn: 0.0302605\ttotal: 1m 43s\tremaining: 1m 12s\n",
      "708:\tlearn: 0.0302081\ttotal: 1m 43s\tremaining: 1m 11s\n",
      "709:\tlearn: 0.0301971\ttotal: 1m 44s\tremaining: 1m 11s\n",
      "710:\tlearn: 0.0301452\ttotal: 1m 44s\tremaining: 1m 11s\n",
      "711:\tlearn: 0.0300583\ttotal: 1m 44s\tremaining: 1m 11s\n",
      "712:\tlearn: 0.0300024\ttotal: 1m 44s\tremaining: 1m 11s\n",
      "713:\tlearn: 0.0299377\ttotal: 1m 44s\tremaining: 1m 11s\n",
      "714:\tlearn: 0.0298711\ttotal: 1m 45s\tremaining: 1m 11s\n",
      "715:\tlearn: 0.0297617\ttotal: 1m 45s\tremaining: 1m 11s\n",
      "716:\tlearn: 0.0296749\ttotal: 1m 45s\tremaining: 1m 11s\n",
      "717:\tlearn: 0.0296074\ttotal: 1m 45s\tremaining: 1m 10s\n",
      "718:\tlearn: 0.0295782\ttotal: 1m 45s\tremaining: 1m 10s\n",
      "719:\tlearn: 0.0294712\ttotal: 1m 45s\tremaining: 1m 10s\n",
      "720:\tlearn: 0.0294477\ttotal: 1m 45s\tremaining: 1m 10s\n",
      "721:\tlearn: 0.0294037\ttotal: 1m 46s\tremaining: 1m 10s\n",
      "722:\tlearn: 0.0293869\ttotal: 1m 46s\tremaining: 1m 10s\n",
      "723:\tlearn: 0.0293293\ttotal: 1m 46s\tremaining: 1m 9s\n",
      "724:\tlearn: 0.0292618\ttotal: 1m 46s\tremaining: 1m 9s\n",
      "725:\tlearn: 0.0291918\ttotal: 1m 46s\tremaining: 1m 9s\n",
      "726:\tlearn: 0.0291293\ttotal: 1m 46s\tremaining: 1m 9s\n",
      "727:\tlearn: 0.0290963\ttotal: 1m 46s\tremaining: 1m 9s\n",
      "728:\tlearn: 0.0290384\ttotal: 1m 47s\tremaining: 1m 9s\n",
      "729:\tlearn: 0.0289856\ttotal: 1m 47s\tremaining: 1m 9s\n",
      "730:\tlearn: 0.0289300\ttotal: 1m 47s\tremaining: 1m 8s\n",
      "731:\tlearn: 0.0288924\ttotal: 1m 47s\tremaining: 1m 8s\n",
      "732:\tlearn: 0.0288335\ttotal: 1m 47s\tremaining: 1m 8s\n",
      "733:\tlearn: 0.0288094\ttotal: 1m 47s\tremaining: 1m 8s\n",
      "734:\tlearn: 0.0287741\ttotal: 1m 47s\tremaining: 1m 8s\n",
      "735:\tlearn: 0.0287181\ttotal: 1m 47s\tremaining: 1m 8s\n",
      "736:\tlearn: 0.0286672\ttotal: 1m 48s\tremaining: 1m 7s\n",
      "737:\tlearn: 0.0285869\ttotal: 1m 48s\tremaining: 1m 7s\n",
      "738:\tlearn: 0.0285207\ttotal: 1m 48s\tremaining: 1m 7s\n",
      "739:\tlearn: 0.0284559\ttotal: 1m 48s\tremaining: 1m 7s\n",
      "740:\tlearn: 0.0283927\ttotal: 1m 48s\tremaining: 1m 7s\n",
      "741:\tlearn: 0.0283571\ttotal: 1m 48s\tremaining: 1m 7s\n",
      "742:\tlearn: 0.0283075\ttotal: 1m 48s\tremaining: 1m 6s\n",
      "743:\tlearn: 0.0282760\ttotal: 1m 48s\tremaining: 1m 6s\n",
      "744:\tlearn: 0.0282510\ttotal: 1m 49s\tremaining: 1m 6s\n",
      "745:\tlearn: 0.0282388\ttotal: 1m 49s\tremaining: 1m 6s\n",
      "746:\tlearn: 0.0281923\ttotal: 1m 49s\tremaining: 1m 6s\n",
      "747:\tlearn: 0.0281704\ttotal: 1m 49s\tremaining: 1m 6s\n",
      "748:\tlearn: 0.0281319\ttotal: 1m 49s\tremaining: 1m 6s\n",
      "749:\tlearn: 0.0281155\ttotal: 1m 49s\tremaining: 1m 5s\n",
      "750:\tlearn: 0.0280969\ttotal: 1m 50s\tremaining: 1m 5s\n",
      "751:\tlearn: 0.0280697\ttotal: 1m 50s\tremaining: 1m 5s\n",
      "752:\tlearn: 0.0280458\ttotal: 1m 50s\tremaining: 1m 5s\n",
      "753:\tlearn: 0.0280181\ttotal: 1m 50s\tremaining: 1m 5s\n",
      "754:\tlearn: 0.0279921\ttotal: 1m 50s\tremaining: 1m 5s\n",
      "755:\tlearn: 0.0279670\ttotal: 1m 51s\tremaining: 1m 5s\n",
      "756:\tlearn: 0.0279385\ttotal: 1m 51s\tremaining: 1m 5s\n",
      "757:\tlearn: 0.0279013\ttotal: 1m 51s\tremaining: 1m 4s\n",
      "758:\tlearn: 0.0278578\ttotal: 1m 51s\tremaining: 1m 4s\n",
      "759:\tlearn: 0.0278133\ttotal: 1m 51s\tremaining: 1m 4s\n",
      "760:\tlearn: 0.0277933\ttotal: 1m 51s\tremaining: 1m 4s\n",
      "761:\tlearn: 0.0277556\ttotal: 1m 51s\tremaining: 1m 4s\n",
      "762:\tlearn: 0.0277096\ttotal: 1m 51s\tremaining: 1m 4s\n",
      "763:\tlearn: 0.0276574\ttotal: 1m 52s\tremaining: 1m 3s\n",
      "764:\tlearn: 0.0275726\ttotal: 1m 52s\tremaining: 1m 3s\n",
      "765:\tlearn: 0.0275182\ttotal: 1m 52s\tremaining: 1m 3s\n",
      "766:\tlearn: 0.0274904\ttotal: 1m 52s\tremaining: 1m 3s\n",
      "767:\tlearn: 0.0274555\ttotal: 1m 52s\tremaining: 1m 3s\n",
      "768:\tlearn: 0.0274080\ttotal: 1m 52s\tremaining: 1m 3s\n",
      "769:\tlearn: 0.0273773\ttotal: 1m 52s\tremaining: 1m 3s\n",
      "770:\tlearn: 0.0272999\ttotal: 1m 53s\tremaining: 1m 2s\n",
      "771:\tlearn: 0.0272544\ttotal: 1m 53s\tremaining: 1m 2s\n",
      "772:\tlearn: 0.0271997\ttotal: 1m 53s\tremaining: 1m 2s\n",
      "773:\tlearn: 0.0271334\ttotal: 1m 53s\tremaining: 1m 2s\n",
      "774:\tlearn: 0.0271133\ttotal: 1m 53s\tremaining: 1m 2s\n",
      "775:\tlearn: 0.0270915\ttotal: 1m 53s\tremaining: 1m 2s\n",
      "776:\tlearn: 0.0270424\ttotal: 1m 53s\tremaining: 1m 1s\n",
      "777:\tlearn: 0.0270027\ttotal: 1m 53s\tremaining: 1m 1s\n"
     ]
    },
    {
     "name": "stdout",
     "output_type": "stream",
     "text": [
      "778:\tlearn: 0.0269779\ttotal: 1m 54s\tremaining: 1m 1s\n",
      "779:\tlearn: 0.0269013\ttotal: 1m 54s\tremaining: 1m 1s\n",
      "780:\tlearn: 0.0268653\ttotal: 1m 54s\tremaining: 1m 1s\n",
      "781:\tlearn: 0.0268298\ttotal: 1m 54s\tremaining: 1m 1s\n",
      "782:\tlearn: 0.0267533\ttotal: 1m 54s\tremaining: 1m\n",
      "783:\tlearn: 0.0266904\ttotal: 1m 54s\tremaining: 1m\n",
      "784:\tlearn: 0.0266428\ttotal: 1m 54s\tremaining: 1m\n",
      "785:\tlearn: 0.0265740\ttotal: 1m 54s\tremaining: 1m\n",
      "786:\tlearn: 0.0265409\ttotal: 1m 55s\tremaining: 1m\n",
      "787:\tlearn: 0.0264847\ttotal: 1m 55s\tremaining: 1m\n",
      "788:\tlearn: 0.0264438\ttotal: 1m 55s\tremaining: 1m\n",
      "789:\tlearn: 0.0264292\ttotal: 1m 55s\tremaining: 59.9s\n",
      "790:\tlearn: 0.0264049\ttotal: 1m 55s\tremaining: 59.7s\n",
      "791:\tlearn: 0.0263178\ttotal: 1m 55s\tremaining: 59.5s\n",
      "792:\tlearn: 0.0262415\ttotal: 1m 55s\tremaining: 59.4s\n",
      "793:\tlearn: 0.0262137\ttotal: 1m 55s\tremaining: 59.2s\n",
      "794:\tlearn: 0.0261592\ttotal: 1m 55s\tremaining: 59.1s\n",
      "795:\tlearn: 0.0261328\ttotal: 1m 56s\tremaining: 58.9s\n",
      "796:\tlearn: 0.0260815\ttotal: 1m 56s\tremaining: 58.7s\n",
      "797:\tlearn: 0.0260480\ttotal: 1m 56s\tremaining: 58.6s\n",
      "798:\tlearn: 0.0259859\ttotal: 1m 56s\tremaining: 58.4s\n",
      "799:\tlearn: 0.0259606\ttotal: 1m 56s\tremaining: 58.2s\n",
      "800:\tlearn: 0.0259518\ttotal: 1m 56s\tremaining: 58.1s\n",
      "801:\tlearn: 0.0259199\ttotal: 1m 56s\tremaining: 57.9s\n",
      "802:\tlearn: 0.0258532\ttotal: 1m 56s\tremaining: 57.8s\n",
      "803:\tlearn: 0.0258012\ttotal: 1m 56s\tremaining: 57.6s\n",
      "804:\tlearn: 0.0257733\ttotal: 1m 57s\tremaining: 57.5s\n",
      "805:\tlearn: 0.0257338\ttotal: 1m 57s\tremaining: 57.3s\n",
      "806:\tlearn: 0.0256758\ttotal: 1m 57s\tremaining: 57.1s\n",
      "807:\tlearn: 0.0256534\ttotal: 1m 57s\tremaining: 57s\n",
      "808:\tlearn: 0.0256107\ttotal: 1m 57s\tremaining: 56.8s\n",
      "809:\tlearn: 0.0255815\ttotal: 1m 57s\tremaining: 56.6s\n",
      "810:\tlearn: 0.0255480\ttotal: 1m 57s\tremaining: 56.5s\n",
      "811:\tlearn: 0.0254773\ttotal: 1m 57s\tremaining: 56.4s\n",
      "812:\tlearn: 0.0254688\ttotal: 1m 58s\tremaining: 56.2s\n",
      "813:\tlearn: 0.0254384\ttotal: 1m 58s\tremaining: 56.1s\n",
      "814:\tlearn: 0.0253845\ttotal: 1m 58s\tremaining: 56s\n",
      "815:\tlearn: 0.0253704\ttotal: 1m 58s\tremaining: 55.8s\n",
      "816:\tlearn: 0.0253195\ttotal: 1m 58s\tremaining: 55.7s\n",
      "817:\tlearn: 0.0252723\ttotal: 1m 58s\tremaining: 55.5s\n",
      "818:\tlearn: 0.0252284\ttotal: 1m 59s\tremaining: 55.4s\n",
      "819:\tlearn: 0.0251784\ttotal: 1m 59s\tremaining: 55.2s\n",
      "820:\tlearn: 0.0251401\ttotal: 1m 59s\tremaining: 55.1s\n",
      "821:\tlearn: 0.0251092\ttotal: 1m 59s\tremaining: 55s\n",
      "822:\tlearn: 0.0250606\ttotal: 1m 59s\tremaining: 54.8s\n",
      "823:\tlearn: 0.0249918\ttotal: 1m 59s\tremaining: 54.7s\n",
      "824:\tlearn: 0.0249354\ttotal: 2m\tremaining: 54.6s\n",
      "825:\tlearn: 0.0249078\ttotal: 2m\tremaining: 54.5s\n",
      "826:\tlearn: 0.0248905\ttotal: 2m\tremaining: 54.3s\n",
      "827:\tlearn: 0.0248464\ttotal: 2m\tremaining: 54.2s\n",
      "828:\tlearn: 0.0247977\ttotal: 2m\tremaining: 54.1s\n",
      "829:\tlearn: 0.0247788\ttotal: 2m\tremaining: 53.9s\n",
      "830:\tlearn: 0.0247352\ttotal: 2m 1s\tremaining: 53.8s\n",
      "831:\tlearn: 0.0247107\ttotal: 2m 1s\tremaining: 53.7s\n",
      "832:\tlearn: 0.0246859\ttotal: 2m 1s\tremaining: 53.5s\n",
      "833:\tlearn: 0.0246568\ttotal: 2m 1s\tremaining: 53.4s\n",
      "834:\tlearn: 0.0246137\ttotal: 2m 1s\tremaining: 53.3s\n",
      "835:\tlearn: 0.0245815\ttotal: 2m 2s\tremaining: 53.1s\n",
      "836:\tlearn: 0.0245517\ttotal: 2m 2s\tremaining: 53s\n",
      "837:\tlearn: 0.0245060\ttotal: 2m 2s\tremaining: 52.9s\n",
      "838:\tlearn: 0.0244523\ttotal: 2m 2s\tremaining: 52.8s\n",
      "839:\tlearn: 0.0244297\ttotal: 2m 2s\tremaining: 52.6s\n",
      "840:\tlearn: 0.0243414\ttotal: 2m 2s\tremaining: 52.5s\n",
      "841:\tlearn: 0.0243169\ttotal: 2m 3s\tremaining: 52.3s\n",
      "842:\tlearn: 0.0242608\ttotal: 2m 3s\tremaining: 52.2s\n",
      "843:\tlearn: 0.0242131\ttotal: 2m 3s\tremaining: 52.1s\n",
      "844:\tlearn: 0.0241632\ttotal: 2m 3s\tremaining: 51.9s\n",
      "845:\tlearn: 0.0241320\ttotal: 2m 3s\tremaining: 51.8s\n",
      "846:\tlearn: 0.0241128\ttotal: 2m 3s\tremaining: 51.6s\n",
      "847:\tlearn: 0.0240976\ttotal: 2m 3s\tremaining: 51.5s\n",
      "848:\tlearn: 0.0240467\ttotal: 2m 4s\tremaining: 51.3s\n",
      "849:\tlearn: 0.0239928\ttotal: 2m 4s\tremaining: 51.2s\n",
      "850:\tlearn: 0.0239456\ttotal: 2m 4s\tremaining: 51.1s\n",
      "851:\tlearn: 0.0239211\ttotal: 2m 4s\tremaining: 50.9s\n",
      "852:\tlearn: 0.0238833\ttotal: 2m 4s\tremaining: 50.7s\n",
      "853:\tlearn: 0.0238418\ttotal: 2m 4s\tremaining: 50.6s\n",
      "854:\tlearn: 0.0237923\ttotal: 2m 5s\tremaining: 50.4s\n",
      "855:\tlearn: 0.0237499\ttotal: 2m 5s\tremaining: 50.3s\n",
      "856:\tlearn: 0.0236681\ttotal: 2m 5s\tremaining: 50.1s\n",
      "857:\tlearn: 0.0236233\ttotal: 2m 5s\tremaining: 50s\n",
      "858:\tlearn: 0.0235807\ttotal: 2m 5s\tremaining: 49.8s\n",
      "859:\tlearn: 0.0235492\ttotal: 2m 5s\tremaining: 49.7s\n",
      "860:\tlearn: 0.0235114\ttotal: 2m 5s\tremaining: 49.5s\n",
      "861:\tlearn: 0.0234933\ttotal: 2m 5s\tremaining: 49.4s\n",
      "862:\tlearn: 0.0234592\ttotal: 2m 6s\tremaining: 49.2s\n",
      "863:\tlearn: 0.0234396\ttotal: 2m 6s\tremaining: 49.1s\n",
      "864:\tlearn: 0.0234119\ttotal: 2m 6s\tremaining: 48.9s\n",
      "865:\tlearn: 0.0233864\ttotal: 2m 6s\tremaining: 48.8s\n",
      "866:\tlearn: 0.0233477\ttotal: 2m 6s\tremaining: 48.6s\n",
      "867:\tlearn: 0.0233092\ttotal: 2m 6s\tremaining: 48.4s\n",
      "868:\tlearn: 0.0232857\ttotal: 2m 6s\tremaining: 48.3s\n",
      "869:\tlearn: 0.0232499\ttotal: 2m 6s\tremaining: 48.1s\n",
      "870:\tlearn: 0.0232334\ttotal: 2m 7s\tremaining: 48s\n",
      "871:\tlearn: 0.0232174\ttotal: 2m 7s\tremaining: 47.8s\n",
      "872:\tlearn: 0.0231920\ttotal: 2m 7s\tremaining: 47.7s\n",
      "873:\tlearn: 0.0231295\ttotal: 2m 7s\tremaining: 47.5s\n",
      "874:\tlearn: 0.0230850\ttotal: 2m 7s\tremaining: 47.4s\n",
      "875:\tlearn: 0.0230424\ttotal: 2m 7s\tremaining: 47.2s\n",
      "876:\tlearn: 0.0229911\ttotal: 2m 7s\tremaining: 47s\n",
      "877:\tlearn: 0.0229530\ttotal: 2m 7s\tremaining: 46.9s\n",
      "878:\tlearn: 0.0228796\ttotal: 2m 8s\tremaining: 46.7s\n",
      "879:\tlearn: 0.0228556\ttotal: 2m 8s\tremaining: 46.6s\n",
      "880:\tlearn: 0.0228368\ttotal: 2m 8s\tremaining: 46.4s\n",
      "881:\tlearn: 0.0228167\ttotal: 2m 8s\tremaining: 46.3s\n",
      "882:\tlearn: 0.0227947\ttotal: 2m 8s\tremaining: 46.1s\n",
      "883:\tlearn: 0.0227503\ttotal: 2m 8s\tremaining: 46s\n",
      "884:\tlearn: 0.0227138\ttotal: 2m 8s\tremaining: 45.8s\n",
      "885:\tlearn: 0.0226355\ttotal: 2m 8s\tremaining: 45.7s\n",
      "886:\tlearn: 0.0225928\ttotal: 2m 9s\tremaining: 45.6s\n",
      "887:\tlearn: 0.0225715\ttotal: 2m 9s\tremaining: 45.4s\n",
      "888:\tlearn: 0.0225550\ttotal: 2m 9s\tremaining: 45.3s\n",
      "889:\tlearn: 0.0225171\ttotal: 2m 9s\tremaining: 45.1s\n",
      "890:\tlearn: 0.0224924\ttotal: 2m 9s\tremaining: 45s\n",
      "891:\tlearn: 0.0224422\ttotal: 2m 9s\tremaining: 44.9s\n",
      "892:\tlearn: 0.0224101\ttotal: 2m 10s\tremaining: 44.7s\n",
      "893:\tlearn: 0.0223761\ttotal: 2m 10s\tremaining: 44.6s\n",
      "894:\tlearn: 0.0223493\ttotal: 2m 10s\tremaining: 44.4s\n",
      "895:\tlearn: 0.0223029\ttotal: 2m 10s\tremaining: 44.3s\n",
      "896:\tlearn: 0.0222286\ttotal: 2m 10s\tremaining: 44.1s\n",
      "897:\tlearn: 0.0221841\ttotal: 2m 10s\tremaining: 44s\n",
      "898:\tlearn: 0.0221477\ttotal: 2m 10s\tremaining: 43.8s\n",
      "899:\tlearn: 0.0220950\ttotal: 2m 11s\tremaining: 43.7s\n",
      "900:\tlearn: 0.0220506\ttotal: 2m 11s\tremaining: 43.5s\n",
      "901:\tlearn: 0.0220108\ttotal: 2m 11s\tremaining: 43.4s\n",
      "902:\tlearn: 0.0219696\ttotal: 2m 11s\tremaining: 43.2s\n",
      "903:\tlearn: 0.0219118\ttotal: 2m 11s\tremaining: 43.1s\n",
      "904:\tlearn: 0.0218912\ttotal: 2m 11s\tremaining: 42.9s\n",
      "905:\tlearn: 0.0218477\ttotal: 2m 11s\tremaining: 42.8s\n",
      "906:\tlearn: 0.0218009\ttotal: 2m 11s\tremaining: 42.6s\n",
      "907:\tlearn: 0.0217797\ttotal: 2m 12s\tremaining: 42.5s\n",
      "908:\tlearn: 0.0217463\ttotal: 2m 12s\tremaining: 42.3s\n",
      "909:\tlearn: 0.0217140\ttotal: 2m 12s\tremaining: 42.2s\n",
      "910:\tlearn: 0.0216633\ttotal: 2m 12s\tremaining: 42s\n",
      "911:\tlearn: 0.0216432\ttotal: 2m 12s\tremaining: 41.9s\n",
      "912:\tlearn: 0.0216038\ttotal: 2m 12s\tremaining: 41.7s\n",
      "913:\tlearn: 0.0215576\ttotal: 2m 12s\tremaining: 41.6s\n",
      "914:\tlearn: 0.0215272\ttotal: 2m 13s\tremaining: 41.4s\n",
      "915:\tlearn: 0.0215047\ttotal: 2m 13s\tremaining: 41.3s\n",
      "916:\tlearn: 0.0214938\ttotal: 2m 13s\tremaining: 41.1s\n",
      "917:\tlearn: 0.0214765\ttotal: 2m 13s\tremaining: 41s\n",
      "918:\tlearn: 0.0214276\ttotal: 2m 13s\tremaining: 40.8s\n",
      "919:\tlearn: 0.0214099\ttotal: 2m 13s\tremaining: 40.7s\n",
      "920:\tlearn: 0.0214046\ttotal: 2m 13s\tremaining: 40.6s\n",
      "921:\tlearn: 0.0213712\ttotal: 2m 14s\tremaining: 40.4s\n",
      "922:\tlearn: 0.0213381\ttotal: 2m 14s\tremaining: 40.3s\n",
      "923:\tlearn: 0.0213071\ttotal: 2m 14s\tremaining: 40.1s\n",
      "924:\tlearn: 0.0212823\ttotal: 2m 14s\tremaining: 40s\n",
      "925:\tlearn: 0.0212554\ttotal: 2m 14s\tremaining: 39.8s\n",
      "926:\tlearn: 0.0212360\ttotal: 2m 14s\tremaining: 39.7s\n",
      "927:\tlearn: 0.0211991\ttotal: 2m 14s\tremaining: 39.5s\n",
      "928:\tlearn: 0.0211535\ttotal: 2m 15s\tremaining: 39.4s\n",
      "929:\tlearn: 0.0211149\ttotal: 2m 15s\tremaining: 39.2s\n",
      "930:\tlearn: 0.0210689\ttotal: 2m 15s\tremaining: 39.1s\n",
      "931:\tlearn: 0.0210379\ttotal: 2m 15s\tremaining: 39s\n",
      "932:\tlearn: 0.0209812\ttotal: 2m 15s\tremaining: 38.8s\n",
      "933:\tlearn: 0.0209578\ttotal: 2m 15s\tremaining: 38.7s\n",
      "934:\tlearn: 0.0209257\ttotal: 2m 15s\tremaining: 38.5s\n",
      "935:\tlearn: 0.0208946\ttotal: 2m 16s\tremaining: 38.4s\n"
     ]
    },
    {
     "name": "stdout",
     "output_type": "stream",
     "text": [
      "936:\tlearn: 0.0208593\ttotal: 2m 16s\tremaining: 38.2s\n",
      "937:\tlearn: 0.0208019\ttotal: 2m 16s\tremaining: 38.1s\n",
      "938:\tlearn: 0.0207562\ttotal: 2m 16s\tremaining: 37.9s\n",
      "939:\tlearn: 0.0207326\ttotal: 2m 16s\tremaining: 37.8s\n",
      "940:\tlearn: 0.0207138\ttotal: 2m 16s\tremaining: 37.6s\n",
      "941:\tlearn: 0.0206737\ttotal: 2m 16s\tremaining: 37.5s\n",
      "942:\tlearn: 0.0206402\ttotal: 2m 17s\tremaining: 37.3s\n",
      "943:\tlearn: 0.0206026\ttotal: 2m 17s\tremaining: 37.2s\n",
      "944:\tlearn: 0.0205920\ttotal: 2m 17s\tremaining: 37.1s\n",
      "945:\tlearn: 0.0205595\ttotal: 2m 17s\tremaining: 36.9s\n",
      "946:\tlearn: 0.0205462\ttotal: 2m 17s\tremaining: 36.8s\n",
      "947:\tlearn: 0.0205236\ttotal: 2m 17s\tremaining: 36.6s\n",
      "948:\tlearn: 0.0205067\ttotal: 2m 17s\tremaining: 36.5s\n",
      "949:\tlearn: 0.0204854\ttotal: 2m 18s\tremaining: 36.3s\n",
      "950:\tlearn: 0.0204644\ttotal: 2m 18s\tremaining: 36.2s\n",
      "951:\tlearn: 0.0204165\ttotal: 2m 18s\tremaining: 36s\n",
      "952:\tlearn: 0.0203729\ttotal: 2m 18s\tremaining: 35.9s\n",
      "953:\tlearn: 0.0203420\ttotal: 2m 18s\tremaining: 35.8s\n",
      "954:\tlearn: 0.0203084\ttotal: 2m 18s\tremaining: 35.6s\n",
      "955:\tlearn: 0.0202786\ttotal: 2m 18s\tremaining: 35.5s\n",
      "956:\tlearn: 0.0202616\ttotal: 2m 19s\tremaining: 35.3s\n",
      "957:\tlearn: 0.0202399\ttotal: 2m 19s\tremaining: 35.2s\n",
      "958:\tlearn: 0.0201814\ttotal: 2m 19s\tremaining: 35s\n",
      "959:\tlearn: 0.0201650\ttotal: 2m 19s\tremaining: 34.9s\n",
      "960:\tlearn: 0.0201386\ttotal: 2m 19s\tremaining: 34.7s\n",
      "961:\tlearn: 0.0201292\ttotal: 2m 19s\tremaining: 34.6s\n",
      "962:\tlearn: 0.0200907\ttotal: 2m 19s\tremaining: 34.4s\n",
      "963:\tlearn: 0.0200678\ttotal: 2m 20s\tremaining: 34.3s\n",
      "964:\tlearn: 0.0200228\ttotal: 2m 20s\tremaining: 34.1s\n",
      "965:\tlearn: 0.0199929\ttotal: 2m 20s\tremaining: 34s\n",
      "966:\tlearn: 0.0199429\ttotal: 2m 20s\tremaining: 33.9s\n",
      "967:\tlearn: 0.0199251\ttotal: 2m 20s\tremaining: 33.7s\n",
      "968:\tlearn: 0.0198927\ttotal: 2m 20s\tremaining: 33.6s\n",
      "969:\tlearn: 0.0198832\ttotal: 2m 20s\tremaining: 33.4s\n",
      "970:\tlearn: 0.0198542\ttotal: 2m 21s\tremaining: 33.3s\n",
      "971:\tlearn: 0.0198257\ttotal: 2m 21s\tremaining: 33.1s\n",
      "972:\tlearn: 0.0198106\ttotal: 2m 21s\tremaining: 33s\n",
      "973:\tlearn: 0.0197788\ttotal: 2m 21s\tremaining: 32.8s\n",
      "974:\tlearn: 0.0197560\ttotal: 2m 21s\tremaining: 32.7s\n",
      "975:\tlearn: 0.0197300\ttotal: 2m 21s\tremaining: 32.5s\n",
      "976:\tlearn: 0.0197095\ttotal: 2m 21s\tremaining: 32.4s\n",
      "977:\tlearn: 0.0196837\ttotal: 2m 21s\tremaining: 32.2s\n",
      "978:\tlearn: 0.0196712\ttotal: 2m 22s\tremaining: 32.1s\n",
      "979:\tlearn: 0.0196619\ttotal: 2m 22s\tremaining: 31.9s\n",
      "980:\tlearn: 0.0196330\ttotal: 2m 22s\tremaining: 31.8s\n",
      "981:\tlearn: 0.0196137\ttotal: 2m 22s\tremaining: 31.6s\n",
      "982:\tlearn: 0.0195774\ttotal: 2m 22s\tremaining: 31.5s\n",
      "983:\tlearn: 0.0195485\ttotal: 2m 22s\tremaining: 31.3s\n",
      "984:\tlearn: 0.0195056\ttotal: 2m 22s\tremaining: 31.2s\n",
      "985:\tlearn: 0.0194764\ttotal: 2m 22s\tremaining: 31s\n",
      "986:\tlearn: 0.0194684\ttotal: 2m 23s\tremaining: 30.9s\n",
      "987:\tlearn: 0.0194447\ttotal: 2m 23s\tremaining: 30.7s\n",
      "988:\tlearn: 0.0194161\ttotal: 2m 23s\tremaining: 30.6s\n",
      "989:\tlearn: 0.0193856\ttotal: 2m 23s\tremaining: 30.4s\n",
      "990:\tlearn: 0.0193483\ttotal: 2m 23s\tremaining: 30.3s\n",
      "991:\tlearn: 0.0193304\ttotal: 2m 23s\tremaining: 30.1s\n",
      "992:\tlearn: 0.0193078\ttotal: 2m 23s\tremaining: 30s\n",
      "993:\tlearn: 0.0192774\ttotal: 2m 23s\tremaining: 29.8s\n",
      "994:\tlearn: 0.0192650\ttotal: 2m 24s\tremaining: 29.7s\n",
      "995:\tlearn: 0.0192391\ttotal: 2m 24s\tremaining: 29.5s\n",
      "996:\tlearn: 0.0192083\ttotal: 2m 24s\tremaining: 29.4s\n",
      "997:\tlearn: 0.0191662\ttotal: 2m 24s\tremaining: 29.2s\n",
      "998:\tlearn: 0.0191527\ttotal: 2m 24s\tremaining: 29.1s\n",
      "999:\tlearn: 0.0191162\ttotal: 2m 24s\tremaining: 28.9s\n",
      "1000:\tlearn: 0.0190887\ttotal: 2m 24s\tremaining: 28.8s\n",
      "1001:\tlearn: 0.0190618\ttotal: 2m 24s\tremaining: 28.6s\n",
      "1002:\tlearn: 0.0190265\ttotal: 2m 25s\tremaining: 28.5s\n",
      "1003:\tlearn: 0.0189906\ttotal: 2m 25s\tremaining: 28.3s\n",
      "1004:\tlearn: 0.0189752\ttotal: 2m 25s\tremaining: 28.2s\n",
      "1005:\tlearn: 0.0189641\ttotal: 2m 25s\tremaining: 28s\n",
      "1006:\tlearn: 0.0189346\ttotal: 2m 25s\tremaining: 27.9s\n",
      "1007:\tlearn: 0.0189187\ttotal: 2m 25s\tremaining: 27.7s\n",
      "1008:\tlearn: 0.0188887\ttotal: 2m 25s\tremaining: 27.6s\n",
      "1009:\tlearn: 0.0188580\ttotal: 2m 25s\tremaining: 27.4s\n",
      "1010:\tlearn: 0.0188458\ttotal: 2m 25s\tremaining: 27.3s\n",
      "1011:\tlearn: 0.0187981\ttotal: 2m 26s\tremaining: 27.1s\n",
      "1012:\tlearn: 0.0187729\ttotal: 2m 26s\tremaining: 27s\n",
      "1013:\tlearn: 0.0187371\ttotal: 2m 26s\tremaining: 26.8s\n",
      "1014:\tlearn: 0.0187121\ttotal: 2m 26s\tremaining: 26.7s\n",
      "1015:\tlearn: 0.0186867\ttotal: 2m 26s\tremaining: 26.5s\n",
      "1016:\tlearn: 0.0186741\ttotal: 2m 26s\tremaining: 26.4s\n",
      "1017:\tlearn: 0.0186422\ttotal: 2m 26s\tremaining: 26.2s\n",
      "1018:\tlearn: 0.0186286\ttotal: 2m 26s\tremaining: 26.1s\n",
      "1019:\tlearn: 0.0185991\ttotal: 2m 27s\tremaining: 26s\n",
      "1020:\tlearn: 0.0185887\ttotal: 2m 27s\tremaining: 25.8s\n",
      "1021:\tlearn: 0.0185699\ttotal: 2m 27s\tremaining: 25.7s\n",
      "1022:\tlearn: 0.0185474\ttotal: 2m 27s\tremaining: 25.5s\n",
      "1023:\tlearn: 0.0185235\ttotal: 2m 27s\tremaining: 25.4s\n",
      "1024:\tlearn: 0.0184930\ttotal: 2m 27s\tremaining: 25.2s\n",
      "1025:\tlearn: 0.0184598\ttotal: 2m 27s\tremaining: 25.1s\n",
      "1026:\tlearn: 0.0184330\ttotal: 2m 27s\tremaining: 24.9s\n",
      "1027:\tlearn: 0.0184063\ttotal: 2m 28s\tremaining: 24.8s\n",
      "1028:\tlearn: 0.0183927\ttotal: 2m 28s\tremaining: 24.6s\n",
      "1029:\tlearn: 0.0183656\ttotal: 2m 28s\tremaining: 24.5s\n",
      "1030:\tlearn: 0.0183508\ttotal: 2m 28s\tremaining: 24.4s\n",
      "1031:\tlearn: 0.0183193\ttotal: 2m 28s\tremaining: 24.2s\n",
      "1032:\tlearn: 0.0182881\ttotal: 2m 28s\tremaining: 24.1s\n",
      "1033:\tlearn: 0.0182602\ttotal: 2m 29s\tremaining: 23.9s\n",
      "1034:\tlearn: 0.0182403\ttotal: 2m 29s\tremaining: 23.8s\n",
      "1035:\tlearn: 0.0182197\ttotal: 2m 29s\tremaining: 23.7s\n",
      "1036:\tlearn: 0.0182048\ttotal: 2m 29s\tremaining: 23.5s\n",
      "1037:\tlearn: 0.0181857\ttotal: 2m 29s\tremaining: 23.4s\n",
      "1038:\tlearn: 0.0181630\ttotal: 2m 30s\tremaining: 23.2s\n",
      "1039:\tlearn: 0.0181335\ttotal: 2m 30s\tremaining: 23.1s\n",
      "1040:\tlearn: 0.0181040\ttotal: 2m 30s\tremaining: 23s\n",
      "1041:\tlearn: 0.0180842\ttotal: 2m 30s\tremaining: 22.8s\n",
      "1042:\tlearn: 0.0180715\ttotal: 2m 30s\tremaining: 22.7s\n",
      "1043:\tlearn: 0.0180460\ttotal: 2m 30s\tremaining: 22.6s\n",
      "1044:\tlearn: 0.0180225\ttotal: 2m 31s\tremaining: 22.4s\n",
      "1045:\tlearn: 0.0180030\ttotal: 2m 31s\tremaining: 22.3s\n",
      "1046:\tlearn: 0.0179906\ttotal: 2m 31s\tremaining: 22.1s\n",
      "1047:\tlearn: 0.0179826\ttotal: 2m 31s\tremaining: 22s\n",
      "1048:\tlearn: 0.0179766\ttotal: 2m 31s\tremaining: 21.8s\n",
      "1049:\tlearn: 0.0179669\ttotal: 2m 31s\tremaining: 21.7s\n",
      "1050:\tlearn: 0.0179499\ttotal: 2m 31s\tremaining: 21.5s\n",
      "1051:\tlearn: 0.0179004\ttotal: 2m 32s\tremaining: 21.4s\n",
      "1052:\tlearn: 0.0178720\ttotal: 2m 32s\tremaining: 21.3s\n",
      "1053:\tlearn: 0.0178406\ttotal: 2m 32s\tremaining: 21.1s\n",
      "1054:\tlearn: 0.0178240\ttotal: 2m 32s\tremaining: 21s\n",
      "1055:\tlearn: 0.0177979\ttotal: 2m 32s\tremaining: 20.8s\n",
      "1056:\tlearn: 0.0177671\ttotal: 2m 32s\tremaining: 20.7s\n",
      "1057:\tlearn: 0.0177411\ttotal: 2m 33s\tremaining: 20.5s\n",
      "1058:\tlearn: 0.0177316\ttotal: 2m 33s\tremaining: 20.4s\n",
      "1059:\tlearn: 0.0176838\ttotal: 2m 33s\tremaining: 20.3s\n",
      "1060:\tlearn: 0.0176585\ttotal: 2m 33s\tremaining: 20.1s\n",
      "1061:\tlearn: 0.0176185\ttotal: 2m 33s\tremaining: 20s\n",
      "1062:\tlearn: 0.0175879\ttotal: 2m 33s\tremaining: 19.8s\n",
      "1063:\tlearn: 0.0175585\ttotal: 2m 33s\tremaining: 19.7s\n",
      "1064:\tlearn: 0.0175474\ttotal: 2m 34s\tremaining: 19.5s\n",
      "1065:\tlearn: 0.0175276\ttotal: 2m 34s\tremaining: 19.4s\n",
      "1066:\tlearn: 0.0175006\ttotal: 2m 34s\tremaining: 19.2s\n",
      "1067:\tlearn: 0.0174920\ttotal: 2m 34s\tremaining: 19.1s\n",
      "1068:\tlearn: 0.0174654\ttotal: 2m 34s\tremaining: 18.9s\n",
      "1069:\tlearn: 0.0174466\ttotal: 2m 34s\tremaining: 18.8s\n",
      "1070:\tlearn: 0.0174359\ttotal: 2m 34s\tremaining: 18.6s\n",
      "1071:\tlearn: 0.0173958\ttotal: 2m 34s\tremaining: 18.5s\n",
      "1072:\tlearn: 0.0173615\ttotal: 2m 35s\tremaining: 18.3s\n",
      "1073:\tlearn: 0.0173256\ttotal: 2m 35s\tremaining: 18.2s\n",
      "1074:\tlearn: 0.0173082\ttotal: 2m 35s\tremaining: 18.1s\n",
      "1075:\tlearn: 0.0172726\ttotal: 2m 35s\tremaining: 17.9s\n",
      "1076:\tlearn: 0.0172726\ttotal: 2m 35s\tremaining: 17.8s\n",
      "1077:\tlearn: 0.0172589\ttotal: 2m 35s\tremaining: 17.6s\n",
      "1078:\tlearn: 0.0172412\ttotal: 2m 35s\tremaining: 17.5s\n",
      "1079:\tlearn: 0.0172186\ttotal: 2m 35s\tremaining: 17.3s\n",
      "1080:\tlearn: 0.0172080\ttotal: 2m 35s\tremaining: 17.2s\n",
      "1081:\tlearn: 0.0171910\ttotal: 2m 36s\tremaining: 17s\n",
      "1082:\tlearn: 0.0171608\ttotal: 2m 36s\tremaining: 16.9s\n",
      "1083:\tlearn: 0.0171344\ttotal: 2m 36s\tremaining: 16.7s\n",
      "1084:\tlearn: 0.0171017\ttotal: 2m 36s\tremaining: 16.6s\n",
      "1085:\tlearn: 0.0170911\ttotal: 2m 36s\tremaining: 16.4s\n",
      "1086:\tlearn: 0.0170760\ttotal: 2m 36s\tremaining: 16.3s\n",
      "1087:\tlearn: 0.0170475\ttotal: 2m 36s\tremaining: 16.1s\n",
      "1088:\tlearn: 0.0170144\ttotal: 2m 36s\tremaining: 16s\n",
      "1089:\tlearn: 0.0170034\ttotal: 2m 37s\tremaining: 15.8s\n"
     ]
    },
    {
     "name": "stdout",
     "output_type": "stream",
     "text": [
      "1090:\tlearn: 0.0169790\ttotal: 2m 37s\tremaining: 15.7s\n",
      "1091:\tlearn: 0.0169614\ttotal: 2m 37s\tremaining: 15.6s\n",
      "1092:\tlearn: 0.0169480\ttotal: 2m 37s\tremaining: 15.4s\n",
      "1093:\tlearn: 0.0169323\ttotal: 2m 37s\tremaining: 15.3s\n",
      "1094:\tlearn: 0.0169193\ttotal: 2m 37s\tremaining: 15.1s\n",
      "1095:\tlearn: 0.0168920\ttotal: 2m 37s\tremaining: 15s\n",
      "1096:\tlearn: 0.0168614\ttotal: 2m 37s\tremaining: 14.8s\n",
      "1097:\tlearn: 0.0168362\ttotal: 2m 38s\tremaining: 14.7s\n",
      "1098:\tlearn: 0.0168033\ttotal: 2m 38s\tremaining: 14.5s\n",
      "1099:\tlearn: 0.0167847\ttotal: 2m 38s\tremaining: 14.4s\n",
      "1100:\tlearn: 0.0167610\ttotal: 2m 38s\tremaining: 14.2s\n",
      "1101:\tlearn: 0.0167522\ttotal: 2m 38s\tremaining: 14.1s\n",
      "1102:\tlearn: 0.0167374\ttotal: 2m 38s\tremaining: 14s\n",
      "1103:\tlearn: 0.0167254\ttotal: 2m 38s\tremaining: 13.8s\n",
      "1104:\tlearn: 0.0167053\ttotal: 2m 39s\tremaining: 13.7s\n",
      "1105:\tlearn: 0.0166823\ttotal: 2m 39s\tremaining: 13.5s\n",
      "1106:\tlearn: 0.0166631\ttotal: 2m 39s\tremaining: 13.4s\n",
      "1107:\tlearn: 0.0166563\ttotal: 2m 39s\tremaining: 13.2s\n",
      "1108:\tlearn: 0.0166441\ttotal: 2m 39s\tremaining: 13.1s\n",
      "1109:\tlearn: 0.0166257\ttotal: 2m 39s\tremaining: 13s\n",
      "1110:\tlearn: 0.0165930\ttotal: 2m 39s\tremaining: 12.8s\n",
      "1111:\tlearn: 0.0165805\ttotal: 2m 40s\tremaining: 12.7s\n",
      "1112:\tlearn: 0.0165676\ttotal: 2m 40s\tremaining: 12.5s\n",
      "1113:\tlearn: 0.0165374\ttotal: 2m 40s\tremaining: 12.4s\n",
      "1114:\tlearn: 0.0165220\ttotal: 2m 40s\tremaining: 12.2s\n",
      "1115:\tlearn: 0.0165062\ttotal: 2m 40s\tremaining: 12.1s\n",
      "1116:\tlearn: 0.0164865\ttotal: 2m 40s\tremaining: 11.9s\n",
      "1117:\tlearn: 0.0164589\ttotal: 2m 40s\tremaining: 11.8s\n",
      "1118:\tlearn: 0.0164276\ttotal: 2m 40s\tremaining: 11.6s\n",
      "1119:\tlearn: 0.0164068\ttotal: 2m 41s\tremaining: 11.5s\n",
      "1120:\tlearn: 0.0163962\ttotal: 2m 41s\tremaining: 11.4s\n",
      "1121:\tlearn: 0.0163707\ttotal: 2m 41s\tremaining: 11.2s\n",
      "1122:\tlearn: 0.0163412\ttotal: 2m 41s\tremaining: 11.1s\n",
      "1123:\tlearn: 0.0163335\ttotal: 2m 41s\tremaining: 10.9s\n",
      "1124:\tlearn: 0.0163080\ttotal: 2m 41s\tremaining: 10.8s\n",
      "1125:\tlearn: 0.0162859\ttotal: 2m 41s\tremaining: 10.6s\n",
      "1126:\tlearn: 0.0162445\ttotal: 2m 41s\tremaining: 10.5s\n",
      "1127:\tlearn: 0.0162139\ttotal: 2m 42s\tremaining: 10.3s\n",
      "1128:\tlearn: 0.0161875\ttotal: 2m 42s\tremaining: 10.2s\n",
      "1129:\tlearn: 0.0161761\ttotal: 2m 42s\tremaining: 10.1s\n",
      "1130:\tlearn: 0.0161591\ttotal: 2m 42s\tremaining: 9.91s\n",
      "1131:\tlearn: 0.0161406\ttotal: 2m 42s\tremaining: 9.77s\n",
      "1132:\tlearn: 0.0161212\ttotal: 2m 42s\tremaining: 9.62s\n",
      "1133:\tlearn: 0.0160966\ttotal: 2m 42s\tremaining: 9.48s\n",
      "1134:\tlearn: 0.0160772\ttotal: 2m 43s\tremaining: 9.34s\n",
      "1135:\tlearn: 0.0160641\ttotal: 2m 43s\tremaining: 9.19s\n",
      "1136:\tlearn: 0.0160360\ttotal: 2m 43s\tremaining: 9.05s\n",
      "1137:\tlearn: 0.0160081\ttotal: 2m 43s\tremaining: 8.9s\n",
      "1138:\tlearn: 0.0159806\ttotal: 2m 43s\tremaining: 8.76s\n",
      "1139:\tlearn: 0.0159654\ttotal: 2m 43s\tremaining: 8.61s\n",
      "1140:\tlearn: 0.0159370\ttotal: 2m 43s\tremaining: 8.47s\n",
      "1141:\tlearn: 0.0159270\ttotal: 2m 43s\tremaining: 8.32s\n",
      "1142:\tlearn: 0.0159104\ttotal: 2m 43s\tremaining: 8.18s\n",
      "1143:\tlearn: 0.0158883\ttotal: 2m 44s\tremaining: 8.03s\n",
      "1144:\tlearn: 0.0158742\ttotal: 2m 44s\tremaining: 7.89s\n",
      "1145:\tlearn: 0.0158441\ttotal: 2m 44s\tremaining: 7.75s\n",
      "1146:\tlearn: 0.0158213\ttotal: 2m 44s\tremaining: 7.6s\n",
      "1147:\tlearn: 0.0158058\ttotal: 2m 44s\tremaining: 7.46s\n",
      "1148:\tlearn: 0.0157990\ttotal: 2m 44s\tremaining: 7.31s\n",
      "1149:\tlearn: 0.0157752\ttotal: 2m 44s\tremaining: 7.17s\n",
      "1150:\tlearn: 0.0157622\ttotal: 2m 45s\tremaining: 7.03s\n",
      "1151:\tlearn: 0.0157385\ttotal: 2m 45s\tremaining: 6.88s\n",
      "1152:\tlearn: 0.0157262\ttotal: 2m 45s\tremaining: 6.74s\n",
      "1153:\tlearn: 0.0157069\ttotal: 2m 45s\tremaining: 6.59s\n",
      "1154:\tlearn: 0.0156936\ttotal: 2m 45s\tremaining: 6.45s\n",
      "1155:\tlearn: 0.0156811\ttotal: 2m 45s\tremaining: 6.31s\n",
      "1156:\tlearn: 0.0156671\ttotal: 2m 45s\tremaining: 6.16s\n",
      "1157:\tlearn: 0.0156553\ttotal: 2m 45s\tremaining: 6.02s\n",
      "1158:\tlearn: 0.0156497\ttotal: 2m 46s\tremaining: 5.88s\n",
      "1159:\tlearn: 0.0156246\ttotal: 2m 46s\tremaining: 5.73s\n",
      "1160:\tlearn: 0.0155903\ttotal: 2m 46s\tremaining: 5.59s\n",
      "1161:\tlearn: 0.0155718\ttotal: 2m 46s\tremaining: 5.45s\n",
      "1162:\tlearn: 0.0155461\ttotal: 2m 46s\tremaining: 5.3s\n",
      "1163:\tlearn: 0.0155297\ttotal: 2m 46s\tremaining: 5.16s\n",
      "1164:\tlearn: 0.0155116\ttotal: 2m 46s\tremaining: 5.02s\n",
      "1165:\tlearn: 0.0154918\ttotal: 2m 47s\tremaining: 4.87s\n",
      "1166:\tlearn: 0.0154798\ttotal: 2m 47s\tremaining: 4.73s\n",
      "1167:\tlearn: 0.0154611\ttotal: 2m 47s\tremaining: 4.59s\n",
      "1168:\tlearn: 0.0154345\ttotal: 2m 47s\tremaining: 4.44s\n",
      "1169:\tlearn: 0.0154154\ttotal: 2m 47s\tremaining: 4.3s\n",
      "1170:\tlearn: 0.0153926\ttotal: 2m 47s\tremaining: 4.16s\n",
      "1171:\tlearn: 0.0153660\ttotal: 2m 48s\tremaining: 4.02s\n",
      "1172:\tlearn: 0.0153360\ttotal: 2m 48s\tremaining: 3.87s\n",
      "1173:\tlearn: 0.0153020\ttotal: 2m 48s\tremaining: 3.73s\n",
      "1174:\tlearn: 0.0152908\ttotal: 2m 48s\tremaining: 3.59s\n",
      "1175:\tlearn: 0.0152657\ttotal: 2m 48s\tremaining: 3.44s\n",
      "1176:\tlearn: 0.0152487\ttotal: 2m 48s\tremaining: 3.3s\n",
      "1177:\tlearn: 0.0152357\ttotal: 2m 49s\tremaining: 3.16s\n",
      "1178:\tlearn: 0.0152163\ttotal: 2m 49s\tremaining: 3.01s\n",
      "1179:\tlearn: 0.0152107\ttotal: 2m 49s\tremaining: 2.87s\n",
      "1180:\tlearn: 0.0151789\ttotal: 2m 49s\tremaining: 2.73s\n",
      "1181:\tlearn: 0.0151584\ttotal: 2m 49s\tremaining: 2.58s\n",
      "1182:\tlearn: 0.0151362\ttotal: 2m 49s\tremaining: 2.44s\n",
      "1183:\tlearn: 0.0151079\ttotal: 2m 49s\tremaining: 2.3s\n",
      "1184:\tlearn: 0.0151079\ttotal: 2m 50s\tremaining: 2.15s\n",
      "1185:\tlearn: 0.0150910\ttotal: 2m 50s\tremaining: 2.01s\n",
      "1186:\tlearn: 0.0150591\ttotal: 2m 50s\tremaining: 1.86s\n",
      "1187:\tlearn: 0.0150370\ttotal: 2m 50s\tremaining: 1.72s\n",
      "1188:\tlearn: 0.0150179\ttotal: 2m 50s\tremaining: 1.58s\n",
      "1189:\tlearn: 0.0150063\ttotal: 2m 50s\tremaining: 1.43s\n",
      "1190:\tlearn: 0.0149889\ttotal: 2m 50s\tremaining: 1.29s\n",
      "1191:\tlearn: 0.0149687\ttotal: 2m 51s\tremaining: 1.15s\n",
      "1192:\tlearn: 0.0149449\ttotal: 2m 51s\tremaining: 1s\n",
      "1193:\tlearn: 0.0149198\ttotal: 2m 51s\tremaining: 861ms\n",
      "1194:\tlearn: 0.0148969\ttotal: 2m 51s\tremaining: 717ms\n",
      "1195:\tlearn: 0.0148825\ttotal: 2m 51s\tremaining: 574ms\n",
      "1196:\tlearn: 0.0148624\ttotal: 2m 51s\tremaining: 430ms\n",
      "1197:\tlearn: 0.0148462\ttotal: 2m 51s\tremaining: 287ms\n",
      "1198:\tlearn: 0.0148248\ttotal: 2m 51s\tremaining: 143ms\n",
      "1199:\tlearn: 0.0147985\ttotal: 2m 52s\tremaining: 0us\n"
     ]
    }
   ],
   "source": [
    "for i in models:\n",
    "        i.fit(X_train,y_train)\n",
    "        scores_train.append(i.score(X_train, y_train))\n",
    "        scores_test.append(i.score(X_test, y_test))"
   ]
  },
  {
   "cell_type": "code",
   "execution_count": 32,
   "metadata": {},
   "outputs": [
    {
     "name": "stdout",
     "output_type": "stream",
     "text": [
      "          Training Accuracy  Test Accuracy\n",
      "CatBoost           0.999743       0.954298\n"
     ]
    }
   ],
   "source": [
    "# Categorical variables that impacts Overall Experience\n",
    "print(pd.DataFrame({'Training Accuracy':scores_train,'Test Accuracy': scores_test},\n",
    "                  index=['CatBoost']))            "
   ]
  },
  {
   "cell_type": "markdown",
   "metadata": {},
   "source": [
    "## Performance Metrics ##"
   ]
  },
  {
   "cell_type": "code",
   "execution_count": 34,
   "metadata": {},
   "outputs": [],
   "source": [
    "# Prediction on the training and test set with cut off 0.5\n",
    "ytrain_predict = cb.predict(X_train) \n",
    "ytest_predict = cb.predict(X_test) "
   ]
  },
  {
   "cell_type": "code",
   "execution_count": 35,
   "metadata": {},
   "outputs": [
    {
     "name": "stderr",
     "output_type": "stream",
     "text": [
      "C:\\Users\\User\\anaconda3\\lib\\site-packages\\sklearn\\utils\\deprecation.py:87: FutureWarning: Function plot_confusion_matrix is deprecated; Function `plot_confusion_matrix` is deprecated in 1.0 and will be removed in 1.2. Use one of the class methods: ConfusionMatrixDisplay.from_predictions or ConfusionMatrixDisplay.from_estimator.\n",
      "  warnings.warn(msg, category=FutureWarning)\n"
     ]
    },
    {
     "name": "stdout",
     "output_type": "stream",
     "text": [
      "              precision    recall  f1-score   support\n",
      "\n",
      "           0       1.00      1.00      1.00     29950\n",
      "           1       1.00      1.00      1.00     36115\n",
      "\n",
      "    accuracy                           1.00     66065\n",
      "   macro avg       1.00      1.00      1.00     66065\n",
      "weighted avg       1.00      1.00      1.00     66065\n",
      " \n",
      "\n"
     ]
    },
    {
     "data": {
      "image/png": "[encoded data removed]",
      "text/plain": [
       "<Figure size 432x288 with 2 Axes>"
      ]
     },
     "metadata": {
      "needs_background": "light"
     },
     "output_type": "display_data"
    }
   ],
   "source": [
    "# Confusion matrix on the train data\n",
    "plot_confusion_matrix(cb,X_train,y_train)\n",
    "print(classification_report(y_train, ytrain_predict),'\\n');"
   ]
  },
  {
   "cell_type": "code",
   "execution_count": 36,
   "metadata": {},
   "outputs": [
    {
     "name": "stderr",
     "output_type": "stream",
     "text": [
      "C:\\Users\\User\\anaconda3\\lib\\site-packages\\sklearn\\utils\\deprecation.py:87: FutureWarning: Function plot_confusion_matrix is deprecated; Function `plot_confusion_matrix` is deprecated in 1.0 and will be removed in 1.2. Use one of the class methods: ConfusionMatrixDisplay.from_predictions or ConfusionMatrixDisplay.from_estimator.\n",
      "  warnings.warn(msg, category=FutureWarning)\n"
     ]
    },
    {
     "name": "stdout",
     "output_type": "stream",
     "text": [
      "              precision    recall  f1-score   support\n",
      "\n",
      "           0       0.95      0.95      0.95     12836\n",
      "           1       0.96      0.95      0.96     15478\n",
      "\n",
      "    accuracy                           0.95     28314\n",
      "   macro avg       0.95      0.95      0.95     28314\n",
      "weighted avg       0.95      0.95      0.95     28314\n",
      " \n",
      "\n"
     ]
    },
    {
     "data": {
      "image/png": "[encoded data removed]",
      "text/plain": [
       "<Figure size 432x288 with 2 Axes>"
      ]
     },
     "metadata": {
      "needs_background": "light"
     },
     "output_type": "display_data"
    }
   ],
   "source": [
    "# Confusion matrix on the test data\n",
    "plot_confusion_matrix(cb,X_test,y_test)\n",
    "print(classification_report(y_test, ytest_predict),'\\n');"
   ]
  },
  {
   "cell_type": "markdown",
   "metadata": {},
   "source": [
    "## Chosen Model for Submission ##"
   ]
  },
  {
   "cell_type": "code",
   "execution_count": 1334,
   "metadata": {},
   "outputs": [
    {
     "name": "stdout",
     "output_type": "stream",
     "text": [
      "0:\tlearn: 0.6049497\ttotal: 550ms\tremaining: 10m 59s\n",
      "1:\tlearn: 0.5349024\ttotal: 974ms\tremaining: 9m 43s\n",
      "2:\tlearn: 0.4765135\ttotal: 1.46s\tremaining: 9m 42s\n",
      "3:\tlearn: 0.4302161\ttotal: 1.96s\tremaining: 9m 46s\n",
      "4:\tlearn: 0.3956794\ttotal: 2.44s\tremaining: 9m 44s\n",
      "5:\tlearn: 0.3673583\ttotal: 2.89s\tremaining: 9m 34s\n",
      "6:\tlearn: 0.3383145\ttotal: 3.34s\tremaining: 9m 28s\n",
      "7:\tlearn: 0.3168382\ttotal: 3.86s\tremaining: 9m 35s\n",
      "8:\tlearn: 0.2944946\ttotal: 4.35s\tremaining: 9m 36s\n",
      "9:\tlearn: 0.2825743\ttotal: 4.84s\tremaining: 9m 35s\n",
      "10:\tlearn: 0.2677662\ttotal: 5.41s\tremaining: 9m 44s\n",
      "11:\tlearn: 0.2556197\ttotal: 5.89s\tremaining: 9m 42s\n",
      "12:\tlearn: 0.2443052\ttotal: 6.4s\tremaining: 9m 44s\n",
      "13:\tlearn: 0.2340979\ttotal: 6.89s\tremaining: 9m 43s\n",
      "14:\tlearn: 0.2265303\ttotal: 7.44s\tremaining: 9m 47s\n",
      "15:\tlearn: 0.2208973\ttotal: 7.92s\tremaining: 9m 46s\n",
      "16:\tlearn: 0.2145325\ttotal: 8.38s\tremaining: 9m 42s\n",
      "17:\tlearn: 0.2067372\ttotal: 9s\tremaining: 9m 51s\n",
      "18:\tlearn: 0.2008084\ttotal: 9.53s\tremaining: 9m 52s\n",
      "19:\tlearn: 0.1964461\ttotal: 10s\tremaining: 9m 50s\n",
      "20:\tlearn: 0.1926649\ttotal: 10.5s\tremaining: 9m 49s\n",
      "21:\tlearn: 0.1893010\ttotal: 10.9s\tremaining: 9m 42s\n",
      "22:\tlearn: 0.1856122\ttotal: 11.4s\tremaining: 9m 42s\n",
      "23:\tlearn: 0.1820323\ttotal: 11.8s\tremaining: 9m 36s\n",
      "24:\tlearn: 0.1789226\ttotal: 12.5s\tremaining: 9m 47s\n",
      "25:\tlearn: 0.1755175\ttotal: 13s\tremaining: 9m 48s\n",
      "26:\tlearn: 0.1729779\ttotal: 13.6s\tremaining: 9m 51s\n",
      "27:\tlearn: 0.1712246\ttotal: 14.1s\tremaining: 9m 52s\n",
      "28:\tlearn: 0.1692494\ttotal: 14.6s\tremaining: 9m 49s\n",
      "29:\tlearn: 0.1670718\ttotal: 15s\tremaining: 9m 45s\n",
      "30:\tlearn: 0.1654968\ttotal: 15.5s\tremaining: 9m 43s\n",
      "31:\tlearn: 0.1633013\ttotal: 15.9s\tremaining: 9m 41s\n",
      "32:\tlearn: 0.1619177\ttotal: 16.4s\tremaining: 9m 39s\n",
      "33:\tlearn: 0.1600973\ttotal: 16.9s\tremaining: 9m 38s\n",
      "34:\tlearn: 0.1577033\ttotal: 17.3s\tremaining: 9m 36s\n",
      "35:\tlearn: 0.1553057\ttotal: 17.8s\tremaining: 9m 34s\n",
      "36:\tlearn: 0.1542149\ttotal: 18.3s\tremaining: 9m 35s\n",
      "37:\tlearn: 0.1527505\ttotal: 18.8s\tremaining: 9m 35s\n",
      "38:\tlearn: 0.1514141\ttotal: 19.4s\tremaining: 9m 37s\n",
      "39:\tlearn: 0.1493588\ttotal: 20s\tremaining: 9m 39s\n",
      "40:\tlearn: 0.1475074\ttotal: 20.7s\tremaining: 9m 45s\n",
      "41:\tlearn: 0.1461541\ttotal: 21.3s\tremaining: 9m 47s\n",
      "42:\tlearn: 0.1445435\ttotal: 22s\tremaining: 9m 51s\n",
      "43:\tlearn: 0.1430512\ttotal: 22.6s\tremaining: 9m 52s\n",
      "44:\tlearn: 0.1422473\ttotal: 23.3s\tremaining: 9m 56s\n",
      "45:\tlearn: 0.1407347\ttotal: 23.8s\tremaining: 9m 58s\n",
      "46:\tlearn: 0.1396163\ttotal: 24.4s\tremaining: 9m 58s\n",
      "47:\tlearn: 0.1385847\ttotal: 24.9s\tremaining: 9m 56s\n",
      "48:\tlearn: 0.1375300\ttotal: 25.4s\tremaining: 9m 55s\n",
      "49:\tlearn: 0.1368346\ttotal: 25.9s\tremaining: 9m 54s\n",
      "50:\tlearn: 0.1362641\ttotal: 26.4s\tremaining: 9m 54s\n",
      "51:\tlearn: 0.1354198\ttotal: 26.8s\tremaining: 9m 51s\n",
      "52:\tlearn: 0.1337938\ttotal: 27.3s\tremaining: 9m 50s\n",
      "53:\tlearn: 0.1328453\ttotal: 27.7s\tremaining: 9m 48s\n",
      "54:\tlearn: 0.1321691\ttotal: 28.3s\tremaining: 9m 48s\n",
      "55:\tlearn: 0.1313290\ttotal: 28.8s\tremaining: 9m 47s\n",
      "56:\tlearn: 0.1304392\ttotal: 29.3s\tremaining: 9m 46s\n",
      "57:\tlearn: 0.1294753\ttotal: 29.7s\tremaining: 9m 45s\n",
      "58:\tlearn: 0.1283839\ttotal: 30.1s\tremaining: 9m 42s\n",
      "59:\tlearn: 0.1274470\ttotal: 30.5s\tremaining: 9m 40s\n",
      "60:\tlearn: 0.1267341\ttotal: 31s\tremaining: 9m 39s\n",
      "61:\tlearn: 0.1258350\ttotal: 31.6s\tremaining: 9m 40s\n",
      "62:\tlearn: 0.1249486\ttotal: 32.2s\tremaining: 9m 41s\n",
      "63:\tlearn: 0.1239727\ttotal: 32.9s\tremaining: 9m 43s\n",
      "64:\tlearn: 0.1234044\ttotal: 33.4s\tremaining: 9m 43s\n",
      "65:\tlearn: 0.1230444\ttotal: 34s\tremaining: 9m 43s\n",
      "66:\tlearn: 0.1221518\ttotal: 34.5s\tremaining: 9m 42s\n",
      "67:\tlearn: 0.1214892\ttotal: 35s\tremaining: 9m 43s\n",
      "68:\tlearn: 0.1205965\ttotal: 35.5s\tremaining: 9m 41s\n",
      "69:\tlearn: 0.1201577\ttotal: 35.9s\tremaining: 9m 39s\n",
      "70:\tlearn: 0.1195563\ttotal: 36.5s\tremaining: 9m 39s\n",
      "71:\tlearn: 0.1189640\ttotal: 37s\tremaining: 9m 39s\n",
      "72:\tlearn: 0.1182158\ttotal: 37.5s\tremaining: 9m 39s\n",
      "73:\tlearn: 0.1179593\ttotal: 38.3s\tremaining: 9m 42s\n",
      "74:\tlearn: 0.1172131\ttotal: 38.8s\tremaining: 9m 41s\n",
      "75:\tlearn: 0.1167403\ttotal: 39.4s\tremaining: 9m 42s\n",
      "76:\tlearn: 0.1162366\ttotal: 40s\tremaining: 9m 42s\n",
      "77:\tlearn: 0.1160319\ttotal: 40.5s\tremaining: 9m 43s\n",
      "78:\tlearn: 0.1157043\ttotal: 41.2s\tremaining: 9m 44s\n",
      "79:\tlearn: 0.1153591\ttotal: 41.7s\tremaining: 9m 44s\n",
      "80:\tlearn: 0.1146724\ttotal: 42.3s\tremaining: 9m 43s\n",
      "81:\tlearn: 0.1139961\ttotal: 42.8s\tremaining: 9m 43s\n",
      "82:\tlearn: 0.1136698\ttotal: 43.3s\tremaining: 9m 42s\n",
      "83:\tlearn: 0.1129215\ttotal: 43.9s\tremaining: 9m 43s\n",
      "84:\tlearn: 0.1124409\ttotal: 44.5s\tremaining: 9m 43s\n",
      "85:\tlearn: 0.1119041\ttotal: 44.9s\tremaining: 9m 42s\n",
      "86:\tlearn: 0.1114814\ttotal: 45.4s\tremaining: 9m 41s\n",
      "87:\tlearn: 0.1109362\ttotal: 45.9s\tremaining: 9m 39s\n",
      "88:\tlearn: 0.1103365\ttotal: 46.4s\tremaining: 9m 38s\n",
      "89:\tlearn: 0.1098610\ttotal: 46.9s\tremaining: 9m 38s\n",
      "90:\tlearn: 0.1096230\ttotal: 47.4s\tremaining: 9m 37s\n",
      "91:\tlearn: 0.1093276\ttotal: 47.8s\tremaining: 9m 36s\n",
      "92:\tlearn: 0.1087167\ttotal: 48.3s\tremaining: 9m 35s\n",
      "93:\tlearn: 0.1084868\ttotal: 48.7s\tremaining: 9m 33s\n",
      "94:\tlearn: 0.1080973\ttotal: 49.2s\tremaining: 9m 32s\n",
      "95:\tlearn: 0.1077108\ttotal: 49.6s\tremaining: 9m 30s\n",
      "96:\tlearn: 0.1074582\ttotal: 50.1s\tremaining: 9m 30s\n",
      "97:\tlearn: 0.1071637\ttotal: 50.6s\tremaining: 9m 29s\n",
      "98:\tlearn: 0.1068134\ttotal: 51s\tremaining: 9m 27s\n",
      "99:\tlearn: 0.1064216\ttotal: 51.5s\tremaining: 9m 26s\n",
      "100:\tlearn: 0.1062633\ttotal: 51.9s\tremaining: 9m 25s\n",
      "101:\tlearn: 0.1059544\ttotal: 52.4s\tremaining: 9m 24s\n",
      "102:\tlearn: 0.1055206\ttotal: 53s\tremaining: 9m 24s\n",
      "103:\tlearn: 0.1050715\ttotal: 53.5s\tremaining: 9m 23s\n",
      "104:\tlearn: 0.1044211\ttotal: 53.9s\tremaining: 9m 22s\n",
      "105:\tlearn: 0.1039503\ttotal: 54.5s\tremaining: 9m 21s\n",
      "106:\tlearn: 0.1033792\ttotal: 55s\tremaining: 9m 21s\n",
      "107:\tlearn: 0.1032231\ttotal: 55.4s\tremaining: 9m 20s\n",
      "108:\tlearn: 0.1027899\ttotal: 55.9s\tremaining: 9m 19s\n",
      "109:\tlearn: 0.1026082\ttotal: 56.3s\tremaining: 9m 18s\n",
      "110:\tlearn: 0.1020998\ttotal: 56.8s\tremaining: 9m 17s\n",
      "111:\tlearn: 0.1017566\ttotal: 57.2s\tremaining: 9m 15s\n",
      "112:\tlearn: 0.1015442\ttotal: 57.6s\tremaining: 9m 14s\n",
      "113:\tlearn: 0.1012380\ttotal: 58.1s\tremaining: 9m 13s\n",
      "114:\tlearn: 0.1010200\ttotal: 58.6s\tremaining: 9m 12s\n",
      "115:\tlearn: 0.1006112\ttotal: 59s\tremaining: 9m 11s\n",
      "116:\tlearn: 0.1004754\ttotal: 59.4s\tremaining: 9m 10s\n",
      "117:\tlearn: 0.0999925\ttotal: 60s\tremaining: 9m 9s\n",
      "118:\tlearn: 0.0996344\ttotal: 1m\tremaining: 9m 8s\n",
      "119:\tlearn: 0.0994201\ttotal: 1m\tremaining: 9m 7s\n",
      "120:\tlearn: 0.0989912\ttotal: 1m 1s\tremaining: 9m 6s\n",
      "121:\tlearn: 0.0984977\ttotal: 1m 1s\tremaining: 9m 5s\n",
      "122:\tlearn: 0.0982274\ttotal: 1m 2s\tremaining: 9m 4s\n",
      "123:\tlearn: 0.0977268\ttotal: 1m 2s\tremaining: 9m 3s\n",
      "124:\tlearn: 0.0974804\ttotal: 1m 3s\tremaining: 9m 2s\n",
      "125:\tlearn: 0.0973152\ttotal: 1m 3s\tremaining: 9m 1s\n",
      "126:\tlearn: 0.0971336\ttotal: 1m 3s\tremaining: 9m\n",
      "127:\tlearn: 0.0968193\ttotal: 1m 4s\tremaining: 8m 59s\n",
      "128:\tlearn: 0.0967106\ttotal: 1m 4s\tremaining: 8m 58s\n",
      "129:\tlearn: 0.0963822\ttotal: 1m 5s\tremaining: 8m 57s\n",
      "130:\tlearn: 0.0961563\ttotal: 1m 5s\tremaining: 8m 57s\n",
      "131:\tlearn: 0.0959373\ttotal: 1m 6s\tremaining: 8m 57s\n",
      "132:\tlearn: 0.0955711\ttotal: 1m 6s\tremaining: 8m 56s\n",
      "133:\tlearn: 0.0953737\ttotal: 1m 7s\tremaining: 8m 55s\n",
      "134:\tlearn: 0.0951772\ttotal: 1m 7s\tremaining: 8m 54s\n",
      "135:\tlearn: 0.0949719\ttotal: 1m 8s\tremaining: 8m 54s\n",
      "136:\tlearn: 0.0946683\ttotal: 1m 8s\tremaining: 8m 53s\n",
      "137:\tlearn: 0.0944616\ttotal: 1m 9s\tremaining: 8m 52s\n",
      "138:\tlearn: 0.0941794\ttotal: 1m 9s\tremaining: 8m 51s\n",
      "139:\tlearn: 0.0936885\ttotal: 1m 10s\tremaining: 8m 51s\n",
      "140:\tlearn: 0.0933482\ttotal: 1m 10s\tremaining: 8m 50s\n",
      "141:\tlearn: 0.0931072\ttotal: 1m 11s\tremaining: 8m 49s\n",
      "142:\tlearn: 0.0928240\ttotal: 1m 11s\tremaining: 8m 48s\n",
      "143:\tlearn: 0.0925762\ttotal: 1m 12s\tremaining: 8m 48s\n",
      "144:\tlearn: 0.0924144\ttotal: 1m 12s\tremaining: 8m 48s\n",
      "145:\tlearn: 0.0921114\ttotal: 1m 13s\tremaining: 8m 47s\n",
      "146:\tlearn: 0.0920364\ttotal: 1m 13s\tremaining: 8m 46s\n",
      "147:\tlearn: 0.0917877\ttotal: 1m 14s\tremaining: 8m 46s\n",
      "148:\tlearn: 0.0914939\ttotal: 1m 14s\tremaining: 8m 46s\n",
      "149:\tlearn: 0.0913486\ttotal: 1m 15s\tremaining: 8m 47s\n",
      "150:\tlearn: 0.0908935\ttotal: 1m 15s\tremaining: 8m 47s\n",
      "151:\tlearn: 0.0905948\ttotal: 1m 16s\tremaining: 8m 47s\n",
      "152:\tlearn: 0.0904124\ttotal: 1m 16s\tremaining: 8m 46s\n",
      "153:\tlearn: 0.0902105\ttotal: 1m 17s\tremaining: 8m 45s\n",
      "154:\tlearn: 0.0900282\ttotal: 1m 17s\tremaining: 8m 44s\n",
      "155:\tlearn: 0.0898050\ttotal: 1m 18s\tremaining: 8m 44s\n",
      "156:\tlearn: 0.0895707\ttotal: 1m 18s\tremaining: 8m 44s\n",
      "157:\tlearn: 0.0894160\ttotal: 1m 19s\tremaining: 8m 43s\n"
     ]
    },
    {
     "name": "stdout",
     "output_type": "stream",
     "text": [
      "158:\tlearn: 0.0893486\ttotal: 1m 19s\tremaining: 8m 42s\n",
      "159:\tlearn: 0.0891363\ttotal: 1m 20s\tremaining: 8m 42s\n",
      "160:\tlearn: 0.0888179\ttotal: 1m 20s\tremaining: 8m 41s\n",
      "161:\tlearn: 0.0886002\ttotal: 1m 21s\tremaining: 8m 40s\n",
      "162:\tlearn: 0.0883867\ttotal: 1m 21s\tremaining: 8m 40s\n",
      "163:\tlearn: 0.0882306\ttotal: 1m 22s\tremaining: 8m 39s\n",
      "164:\tlearn: 0.0882183\ttotal: 1m 22s\tremaining: 8m 37s\n",
      "165:\tlearn: 0.0881041\ttotal: 1m 22s\tremaining: 8m 36s\n",
      "166:\tlearn: 0.0879245\ttotal: 1m 23s\tremaining: 8m 35s\n",
      "167:\tlearn: 0.0877327\ttotal: 1m 23s\tremaining: 8m 35s\n",
      "168:\tlearn: 0.0875425\ttotal: 1m 24s\tremaining: 8m 34s\n",
      "169:\tlearn: 0.0870889\ttotal: 1m 24s\tremaining: 8m 33s\n",
      "170:\tlearn: 0.0868938\ttotal: 1m 25s\tremaining: 8m 33s\n",
      "171:\tlearn: 0.0866046\ttotal: 1m 25s\tremaining: 8m 32s\n",
      "172:\tlearn: 0.0864561\ttotal: 1m 26s\tremaining: 8m 31s\n",
      "173:\tlearn: 0.0862755\ttotal: 1m 26s\tremaining: 8m 31s\n",
      "174:\tlearn: 0.0860498\ttotal: 1m 27s\tremaining: 8m 30s\n",
      "175:\tlearn: 0.0859392\ttotal: 1m 27s\tremaining: 8m 30s\n",
      "176:\tlearn: 0.0854998\ttotal: 1m 28s\tremaining: 8m 29s\n",
      "177:\tlearn: 0.0853451\ttotal: 1m 28s\tremaining: 8m 29s\n",
      "178:\tlearn: 0.0852026\ttotal: 1m 29s\tremaining: 8m 28s\n",
      "179:\tlearn: 0.0849849\ttotal: 1m 29s\tremaining: 8m 27s\n",
      "180:\tlearn: 0.0846660\ttotal: 1m 30s\tremaining: 8m 27s\n",
      "181:\tlearn: 0.0844945\ttotal: 1m 30s\tremaining: 8m 26s\n",
      "182:\tlearn: 0.0843340\ttotal: 1m 30s\tremaining: 8m 25s\n",
      "183:\tlearn: 0.0841366\ttotal: 1m 31s\tremaining: 8m 25s\n",
      "184:\tlearn: 0.0840039\ttotal: 1m 31s\tremaining: 8m 24s\n",
      "185:\tlearn: 0.0837606\ttotal: 1m 32s\tremaining: 8m 23s\n",
      "186:\tlearn: 0.0836185\ttotal: 1m 32s\tremaining: 8m 22s\n",
      "187:\tlearn: 0.0834171\ttotal: 1m 33s\tremaining: 8m 22s\n",
      "188:\tlearn: 0.0832224\ttotal: 1m 33s\tremaining: 8m 21s\n",
      "189:\tlearn: 0.0830378\ttotal: 1m 34s\tremaining: 8m 21s\n",
      "190:\tlearn: 0.0828600\ttotal: 1m 34s\tremaining: 8m 20s\n",
      "191:\tlearn: 0.0826807\ttotal: 1m 35s\tremaining: 8m 19s\n",
      "192:\tlearn: 0.0824679\ttotal: 1m 35s\tremaining: 8m 19s\n",
      "193:\tlearn: 0.0821771\ttotal: 1m 36s\tremaining: 8m 18s\n",
      "194:\tlearn: 0.0820211\ttotal: 1m 36s\tremaining: 8m 17s\n",
      "195:\tlearn: 0.0818147\ttotal: 1m 37s\tremaining: 8m 17s\n",
      "196:\tlearn: 0.0816677\ttotal: 1m 37s\tremaining: 8m 16s\n",
      "197:\tlearn: 0.0815120\ttotal: 1m 38s\tremaining: 8m 16s\n",
      "198:\tlearn: 0.0812225\ttotal: 1m 38s\tremaining: 8m 15s\n",
      "199:\tlearn: 0.0810071\ttotal: 1m 38s\tremaining: 8m 14s\n",
      "200:\tlearn: 0.0807339\ttotal: 1m 39s\tremaining: 8m 14s\n",
      "201:\tlearn: 0.0804739\ttotal: 1m 39s\tremaining: 8m 13s\n",
      "202:\tlearn: 0.0802317\ttotal: 1m 40s\tremaining: 8m 13s\n",
      "203:\tlearn: 0.0800063\ttotal: 1m 40s\tremaining: 8m 12s\n",
      "204:\tlearn: 0.0798243\ttotal: 1m 41s\tremaining: 8m 11s\n",
      "205:\tlearn: 0.0795752\ttotal: 1m 41s\tremaining: 8m 10s\n",
      "206:\tlearn: 0.0793271\ttotal: 1m 42s\tremaining: 8m 10s\n",
      "207:\tlearn: 0.0791910\ttotal: 1m 42s\tremaining: 8m 10s\n",
      "208:\tlearn: 0.0790578\ttotal: 1m 43s\tremaining: 8m 9s\n",
      "209:\tlearn: 0.0788808\ttotal: 1m 43s\tremaining: 8m 9s\n",
      "210:\tlearn: 0.0787705\ttotal: 1m 44s\tremaining: 8m 8s\n",
      "211:\tlearn: 0.0786224\ttotal: 1m 44s\tremaining: 8m 7s\n",
      "212:\tlearn: 0.0784353\ttotal: 1m 45s\tremaining: 8m 7s\n",
      "213:\tlearn: 0.0782147\ttotal: 1m 45s\tremaining: 8m 6s\n",
      "214:\tlearn: 0.0780459\ttotal: 1m 46s\tremaining: 8m 5s\n",
      "215:\tlearn: 0.0778816\ttotal: 1m 46s\tremaining: 8m 4s\n",
      "216:\tlearn: 0.0777580\ttotal: 1m 46s\tremaining: 8m 3s\n",
      "217:\tlearn: 0.0775057\ttotal: 1m 47s\tremaining: 8m 3s\n",
      "218:\tlearn: 0.0773563\ttotal: 1m 47s\tremaining: 8m 2s\n",
      "219:\tlearn: 0.0771449\ttotal: 1m 48s\tremaining: 8m 1s\n",
      "220:\tlearn: 0.0768753\ttotal: 1m 48s\tremaining: 8m\n",
      "221:\tlearn: 0.0767223\ttotal: 1m 48s\tremaining: 8m\n",
      "222:\tlearn: 0.0766493\ttotal: 1m 49s\tremaining: 7m 59s\n",
      "223:\tlearn: 0.0764990\ttotal: 1m 49s\tremaining: 7m 58s\n",
      "224:\tlearn: 0.0763892\ttotal: 1m 50s\tremaining: 7m 58s\n",
      "225:\tlearn: 0.0762376\ttotal: 1m 50s\tremaining: 7m 57s\n",
      "226:\tlearn: 0.0760794\ttotal: 1m 51s\tremaining: 7m 57s\n",
      "227:\tlearn: 0.0759781\ttotal: 1m 51s\tremaining: 7m 56s\n",
      "228:\tlearn: 0.0758155\ttotal: 1m 52s\tremaining: 7m 55s\n",
      "229:\tlearn: 0.0756683\ttotal: 1m 52s\tremaining: 7m 55s\n",
      "230:\tlearn: 0.0754893\ttotal: 1m 53s\tremaining: 7m 54s\n",
      "231:\tlearn: 0.0753089\ttotal: 1m 53s\tremaining: 7m 53s\n",
      "232:\tlearn: 0.0751577\ttotal: 1m 54s\tremaining: 7m 53s\n",
      "233:\tlearn: 0.0750179\ttotal: 1m 54s\tremaining: 7m 52s\n",
      "234:\tlearn: 0.0749416\ttotal: 1m 54s\tremaining: 7m 52s\n",
      "235:\tlearn: 0.0747839\ttotal: 1m 55s\tremaining: 7m 51s\n",
      "236:\tlearn: 0.0746767\ttotal: 1m 55s\tremaining: 7m 51s\n",
      "237:\tlearn: 0.0744798\ttotal: 1m 56s\tremaining: 7m 50s\n",
      "238:\tlearn: 0.0742608\ttotal: 1m 56s\tremaining: 7m 50s\n",
      "239:\tlearn: 0.0740855\ttotal: 1m 57s\tremaining: 7m 49s\n",
      "240:\tlearn: 0.0738857\ttotal: 1m 57s\tremaining: 7m 49s\n",
      "241:\tlearn: 0.0737475\ttotal: 1m 58s\tremaining: 7m 49s\n",
      "242:\tlearn: 0.0736676\ttotal: 1m 58s\tremaining: 7m 48s\n",
      "243:\tlearn: 0.0734927\ttotal: 1m 59s\tremaining: 7m 47s\n",
      "244:\tlearn: 0.0733675\ttotal: 1m 59s\tremaining: 7m 47s\n",
      "245:\tlearn: 0.0732635\ttotal: 2m\tremaining: 7m 46s\n",
      "246:\tlearn: 0.0730524\ttotal: 2m\tremaining: 7m 45s\n",
      "247:\tlearn: 0.0729396\ttotal: 2m 1s\tremaining: 7m 45s\n",
      "248:\tlearn: 0.0728320\ttotal: 2m 1s\tremaining: 7m 44s\n",
      "249:\tlearn: 0.0727421\ttotal: 2m 2s\tremaining: 7m 44s\n",
      "250:\tlearn: 0.0726492\ttotal: 2m 2s\tremaining: 7m 43s\n",
      "251:\tlearn: 0.0724247\ttotal: 2m 3s\tremaining: 7m 42s\n",
      "252:\tlearn: 0.0722858\ttotal: 2m 3s\tremaining: 7m 42s\n",
      "253:\tlearn: 0.0722140\ttotal: 2m 4s\tremaining: 7m 41s\n",
      "254:\tlearn: 0.0720434\ttotal: 2m 4s\tremaining: 7m 41s\n",
      "255:\tlearn: 0.0718957\ttotal: 2m 4s\tremaining: 7m 40s\n",
      "256:\tlearn: 0.0717607\ttotal: 2m 5s\tremaining: 7m 40s\n",
      "257:\tlearn: 0.0715971\ttotal: 2m 5s\tremaining: 7m 39s\n",
      "258:\tlearn: 0.0714857\ttotal: 2m 6s\tremaining: 7m 38s\n",
      "259:\tlearn: 0.0713759\ttotal: 2m 6s\tremaining: 7m 37s\n",
      "260:\tlearn: 0.0712574\ttotal: 2m 7s\tremaining: 7m 37s\n",
      "261:\tlearn: 0.0711862\ttotal: 2m 7s\tremaining: 7m 36s\n",
      "262:\tlearn: 0.0711343\ttotal: 2m 7s\tremaining: 7m 35s\n",
      "263:\tlearn: 0.0710188\ttotal: 2m 8s\tremaining: 7m 35s\n",
      "264:\tlearn: 0.0708522\ttotal: 2m 8s\tremaining: 7m 34s\n",
      "265:\tlearn: 0.0706921\ttotal: 2m 9s\tremaining: 7m 33s\n",
      "266:\tlearn: 0.0706085\ttotal: 2m 9s\tremaining: 7m 33s\n",
      "267:\tlearn: 0.0704225\ttotal: 2m 10s\tremaining: 7m 32s\n",
      "268:\tlearn: 0.0702543\ttotal: 2m 10s\tremaining: 7m 32s\n",
      "269:\tlearn: 0.0701536\ttotal: 2m 11s\tremaining: 7m 31s\n",
      "270:\tlearn: 0.0700110\ttotal: 2m 11s\tremaining: 7m 30s\n",
      "271:\tlearn: 0.0698967\ttotal: 2m 12s\tremaining: 7m 30s\n",
      "272:\tlearn: 0.0697995\ttotal: 2m 12s\tremaining: 7m 29s\n",
      "273:\tlearn: 0.0695180\ttotal: 2m 13s\tremaining: 7m 29s\n",
      "274:\tlearn: 0.0693882\ttotal: 2m 13s\tremaining: 7m 29s\n",
      "275:\tlearn: 0.0690489\ttotal: 2m 14s\tremaining: 7m 28s\n",
      "276:\tlearn: 0.0689171\ttotal: 2m 14s\tremaining: 7m 28s\n",
      "277:\tlearn: 0.0687878\ttotal: 2m 15s\tremaining: 7m 27s\n",
      "278:\tlearn: 0.0686364\ttotal: 2m 15s\tremaining: 7m 27s\n",
      "279:\tlearn: 0.0685904\ttotal: 2m 16s\tremaining: 7m 26s\n",
      "280:\tlearn: 0.0683505\ttotal: 2m 16s\tremaining: 7m 26s\n",
      "281:\tlearn: 0.0682619\ttotal: 2m 16s\tremaining: 7m 25s\n",
      "282:\tlearn: 0.0681886\ttotal: 2m 17s\tremaining: 7m 25s\n",
      "283:\tlearn: 0.0679982\ttotal: 2m 17s\tremaining: 7m 24s\n",
      "284:\tlearn: 0.0679394\ttotal: 2m 18s\tremaining: 7m 24s\n",
      "285:\tlearn: 0.0678288\ttotal: 2m 18s\tremaining: 7m 23s\n",
      "286:\tlearn: 0.0676845\ttotal: 2m 19s\tremaining: 7m 22s\n",
      "287:\tlearn: 0.0675975\ttotal: 2m 19s\tremaining: 7m 22s\n",
      "288:\tlearn: 0.0675312\ttotal: 2m 20s\tremaining: 7m 21s\n",
      "289:\tlearn: 0.0673983\ttotal: 2m 20s\tremaining: 7m 20s\n",
      "290:\tlearn: 0.0672862\ttotal: 2m 20s\tremaining: 7m 20s\n",
      "291:\tlearn: 0.0671466\ttotal: 2m 21s\tremaining: 7m 19s\n",
      "292:\tlearn: 0.0670890\ttotal: 2m 21s\tremaining: 7m 19s\n",
      "293:\tlearn: 0.0670004\ttotal: 2m 22s\tremaining: 7m 18s\n",
      "294:\tlearn: 0.0668827\ttotal: 2m 22s\tremaining: 7m 17s\n",
      "295:\tlearn: 0.0667771\ttotal: 2m 23s\tremaining: 7m 17s\n",
      "296:\tlearn: 0.0665734\ttotal: 2m 23s\tremaining: 7m 17s\n",
      "297:\tlearn: 0.0663337\ttotal: 2m 24s\tremaining: 7m 16s\n",
      "298:\tlearn: 0.0662634\ttotal: 2m 24s\tremaining: 7m 16s\n",
      "299:\tlearn: 0.0661725\ttotal: 2m 25s\tremaining: 7m 15s\n",
      "300:\tlearn: 0.0659929\ttotal: 2m 25s\tremaining: 7m 14s\n",
      "301:\tlearn: 0.0659004\ttotal: 2m 26s\tremaining: 7m 14s\n",
      "302:\tlearn: 0.0657623\ttotal: 2m 26s\tremaining: 7m 13s\n",
      "303:\tlearn: 0.0657155\ttotal: 2m 26s\tremaining: 7m 13s\n",
      "304:\tlearn: 0.0656402\ttotal: 2m 27s\tremaining: 7m 12s\n",
      "305:\tlearn: 0.0654969\ttotal: 2m 27s\tremaining: 7m 12s\n",
      "306:\tlearn: 0.0654024\ttotal: 2m 28s\tremaining: 7m 11s\n",
      "307:\tlearn: 0.0652942\ttotal: 2m 28s\tremaining: 7m 11s\n",
      "308:\tlearn: 0.0651613\ttotal: 2m 29s\tremaining: 7m 10s\n",
      "309:\tlearn: 0.0649972\ttotal: 2m 29s\tremaining: 7m 9s\n",
      "310:\tlearn: 0.0648827\ttotal: 2m 30s\tremaining: 7m 9s\n"
     ]
    },
    {
     "name": "stdout",
     "output_type": "stream",
     "text": [
      "311:\tlearn: 0.0646788\ttotal: 2m 30s\tremaining: 7m 9s\n",
      "312:\tlearn: 0.0645309\ttotal: 2m 31s\tremaining: 7m 8s\n",
      "313:\tlearn: 0.0644785\ttotal: 2m 31s\tremaining: 7m 8s\n",
      "314:\tlearn: 0.0643725\ttotal: 2m 32s\tremaining: 7m 7s\n",
      "315:\tlearn: 0.0642475\ttotal: 2m 32s\tremaining: 7m 7s\n",
      "316:\tlearn: 0.0641109\ttotal: 2m 33s\tremaining: 7m 6s\n",
      "317:\tlearn: 0.0639909\ttotal: 2m 33s\tremaining: 7m 6s\n",
      "318:\tlearn: 0.0638499\ttotal: 2m 34s\tremaining: 7m 5s\n",
      "319:\tlearn: 0.0637074\ttotal: 2m 34s\tremaining: 7m 4s\n",
      "320:\tlearn: 0.0636841\ttotal: 2m 35s\tremaining: 7m 4s\n",
      "321:\tlearn: 0.0635909\ttotal: 2m 35s\tremaining: 7m 3s\n",
      "322:\tlearn: 0.0634906\ttotal: 2m 35s\tremaining: 7m 3s\n",
      "323:\tlearn: 0.0633836\ttotal: 2m 36s\tremaining: 7m 2s\n",
      "324:\tlearn: 0.0633483\ttotal: 2m 36s\tremaining: 7m 2s\n",
      "325:\tlearn: 0.0632919\ttotal: 2m 37s\tremaining: 7m 1s\n",
      "326:\tlearn: 0.0632185\ttotal: 2m 37s\tremaining: 7m\n",
      "327:\tlearn: 0.0631064\ttotal: 2m 38s\tremaining: 7m\n",
      "328:\tlearn: 0.0629992\ttotal: 2m 38s\tremaining: 6m 59s\n",
      "329:\tlearn: 0.0628966\ttotal: 2m 38s\tremaining: 6m 58s\n",
      "330:\tlearn: 0.0628427\ttotal: 2m 39s\tremaining: 6m 58s\n",
      "331:\tlearn: 0.0626689\ttotal: 2m 39s\tremaining: 6m 57s\n",
      "332:\tlearn: 0.0625925\ttotal: 2m 40s\tremaining: 6m 57s\n",
      "333:\tlearn: 0.0625498\ttotal: 2m 40s\tremaining: 6m 56s\n",
      "334:\tlearn: 0.0624034\ttotal: 2m 41s\tremaining: 6m 56s\n",
      "335:\tlearn: 0.0622780\ttotal: 2m 41s\tremaining: 6m 55s\n",
      "336:\tlearn: 0.0621871\ttotal: 2m 42s\tremaining: 6m 55s\n",
      "337:\tlearn: 0.0620988\ttotal: 2m 42s\tremaining: 6m 54s\n",
      "338:\tlearn: 0.0620070\ttotal: 2m 43s\tremaining: 6m 54s\n",
      "339:\tlearn: 0.0619099\ttotal: 2m 43s\tremaining: 6m 53s\n",
      "340:\tlearn: 0.0617618\ttotal: 2m 44s\tremaining: 6m 53s\n",
      "341:\tlearn: 0.0616918\ttotal: 2m 44s\tremaining: 6m 52s\n",
      "342:\tlearn: 0.0616075\ttotal: 2m 44s\tremaining: 6m 52s\n",
      "343:\tlearn: 0.0614913\ttotal: 2m 45s\tremaining: 6m 51s\n",
      "344:\tlearn: 0.0613567\ttotal: 2m 45s\tremaining: 6m 51s\n",
      "345:\tlearn: 0.0612824\ttotal: 2m 46s\tremaining: 6m 50s\n",
      "346:\tlearn: 0.0612360\ttotal: 2m 46s\tremaining: 6m 50s\n",
      "347:\tlearn: 0.0611471\ttotal: 2m 47s\tremaining: 6m 49s\n",
      "348:\tlearn: 0.0611158\ttotal: 2m 47s\tremaining: 6m 49s\n",
      "349:\tlearn: 0.0610725\ttotal: 2m 48s\tremaining: 6m 48s\n",
      "350:\tlearn: 0.0609977\ttotal: 2m 48s\tremaining: 6m 48s\n",
      "351:\tlearn: 0.0609604\ttotal: 2m 49s\tremaining: 6m 47s\n",
      "352:\tlearn: 0.0608584\ttotal: 2m 49s\tremaining: 6m 47s\n",
      "353:\tlearn: 0.0606883\ttotal: 2m 50s\tremaining: 6m 46s\n",
      "354:\tlearn: 0.0606203\ttotal: 2m 50s\tremaining: 6m 46s\n",
      "355:\tlearn: 0.0605434\ttotal: 2m 51s\tremaining: 6m 45s\n",
      "356:\tlearn: 0.0604072\ttotal: 2m 51s\tremaining: 6m 45s\n",
      "357:\tlearn: 0.0602845\ttotal: 2m 52s\tremaining: 6m 44s\n",
      "358:\tlearn: 0.0602334\ttotal: 2m 52s\tremaining: 6m 43s\n",
      "359:\tlearn: 0.0601024\ttotal: 2m 52s\tremaining: 6m 43s\n",
      "360:\tlearn: 0.0599538\ttotal: 2m 53s\tremaining: 6m 42s\n",
      "361:\tlearn: 0.0598290\ttotal: 2m 53s\tremaining: 6m 42s\n",
      "362:\tlearn: 0.0597487\ttotal: 2m 54s\tremaining: 6m 41s\n",
      "363:\tlearn: 0.0596267\ttotal: 2m 54s\tremaining: 6m 41s\n",
      "364:\tlearn: 0.0595321\ttotal: 2m 55s\tremaining: 6m 40s\n",
      "365:\tlearn: 0.0593848\ttotal: 2m 55s\tremaining: 6m 39s\n",
      "366:\tlearn: 0.0593368\ttotal: 2m 55s\tremaining: 6m 39s\n",
      "367:\tlearn: 0.0592643\ttotal: 2m 56s\tremaining: 6m 38s\n",
      "368:\tlearn: 0.0592050\ttotal: 2m 56s\tremaining: 6m 38s\n",
      "369:\tlearn: 0.0590067\ttotal: 2m 57s\tremaining: 6m 37s\n",
      "370:\tlearn: 0.0588942\ttotal: 2m 57s\tremaining: 6m 37s\n",
      "371:\tlearn: 0.0588256\ttotal: 2m 58s\tremaining: 6m 36s\n",
      "372:\tlearn: 0.0587613\ttotal: 2m 58s\tremaining: 6m 36s\n",
      "373:\tlearn: 0.0587270\ttotal: 2m 59s\tremaining: 6m 35s\n",
      "374:\tlearn: 0.0586840\ttotal: 2m 59s\tremaining: 6m 35s\n",
      "375:\tlearn: 0.0585745\ttotal: 3m\tremaining: 6m 34s\n",
      "376:\tlearn: 0.0584914\ttotal: 3m\tremaining: 6m 34s\n",
      "377:\tlearn: 0.0583838\ttotal: 3m 1s\tremaining: 6m 33s\n",
      "378:\tlearn: 0.0582721\ttotal: 3m 1s\tremaining: 6m 33s\n",
      "379:\tlearn: 0.0581766\ttotal: 3m 2s\tremaining: 6m 32s\n",
      "380:\tlearn: 0.0580954\ttotal: 3m 2s\tremaining: 6m 32s\n",
      "381:\tlearn: 0.0580187\ttotal: 3m 2s\tremaining: 6m 31s\n",
      "382:\tlearn: 0.0579327\ttotal: 3m 3s\tremaining: 6m 31s\n",
      "383:\tlearn: 0.0578637\ttotal: 3m 3s\tremaining: 6m 30s\n",
      "384:\tlearn: 0.0577158\ttotal: 3m 4s\tremaining: 6m 30s\n",
      "385:\tlearn: 0.0576524\ttotal: 3m 4s\tremaining: 6m 29s\n",
      "386:\tlearn: 0.0576127\ttotal: 3m 5s\tremaining: 6m 29s\n",
      "387:\tlearn: 0.0575170\ttotal: 3m 5s\tremaining: 6m 28s\n",
      "388:\tlearn: 0.0574162\ttotal: 3m 6s\tremaining: 6m 28s\n",
      "389:\tlearn: 0.0572883\ttotal: 3m 6s\tremaining: 6m 27s\n",
      "390:\tlearn: 0.0571952\ttotal: 3m 7s\tremaining: 6m 27s\n",
      "391:\tlearn: 0.0571035\ttotal: 3m 7s\tremaining: 6m 26s\n",
      "392:\tlearn: 0.0570369\ttotal: 3m 8s\tremaining: 6m 26s\n",
      "393:\tlearn: 0.0569602\ttotal: 3m 8s\tremaining: 6m 25s\n",
      "394:\tlearn: 0.0568850\ttotal: 3m 8s\tremaining: 6m 24s\n",
      "395:\tlearn: 0.0568059\ttotal: 3m 9s\tremaining: 6m 24s\n",
      "396:\tlearn: 0.0566968\ttotal: 3m 9s\tremaining: 6m 23s\n",
      "397:\tlearn: 0.0566283\ttotal: 3m 10s\tremaining: 6m 23s\n",
      "398:\tlearn: 0.0565635\ttotal: 3m 10s\tremaining: 6m 22s\n",
      "399:\tlearn: 0.0564207\ttotal: 3m 11s\tremaining: 6m 22s\n",
      "400:\tlearn: 0.0563469\ttotal: 3m 11s\tremaining: 6m 21s\n",
      "401:\tlearn: 0.0562434\ttotal: 3m 12s\tremaining: 6m 21s\n",
      "402:\tlearn: 0.0561304\ttotal: 3m 12s\tremaining: 6m 20s\n",
      "403:\tlearn: 0.0560272\ttotal: 3m 12s\tremaining: 6m 20s\n",
      "404:\tlearn: 0.0559272\ttotal: 3m 13s\tremaining: 6m 19s\n",
      "405:\tlearn: 0.0558470\ttotal: 3m 14s\tremaining: 6m 19s\n",
      "406:\tlearn: 0.0557877\ttotal: 3m 14s\tremaining: 6m 18s\n",
      "407:\tlearn: 0.0557076\ttotal: 3m 15s\tremaining: 6m 18s\n",
      "408:\tlearn: 0.0556087\ttotal: 3m 15s\tremaining: 6m 18s\n",
      "409:\tlearn: 0.0554547\ttotal: 3m 16s\tremaining: 6m 17s\n",
      "410:\tlearn: 0.0554288\ttotal: 3m 16s\tremaining: 6m 17s\n",
      "411:\tlearn: 0.0553888\ttotal: 3m 17s\tremaining: 6m 16s\n",
      "412:\tlearn: 0.0553301\ttotal: 3m 17s\tremaining: 6m 16s\n",
      "413:\tlearn: 0.0552572\ttotal: 3m 17s\tremaining: 6m 15s\n",
      "414:\tlearn: 0.0552003\ttotal: 3m 18s\tremaining: 6m 15s\n",
      "415:\tlearn: 0.0550031\ttotal: 3m 18s\tremaining: 6m 14s\n",
      "416:\tlearn: 0.0549686\ttotal: 3m 19s\tremaining: 6m 14s\n",
      "417:\tlearn: 0.0548846\ttotal: 3m 19s\tremaining: 6m 13s\n",
      "418:\tlearn: 0.0548463\ttotal: 3m 20s\tremaining: 6m 13s\n",
      "419:\tlearn: 0.0547601\ttotal: 3m 20s\tremaining: 6m 12s\n",
      "420:\tlearn: 0.0547005\ttotal: 3m 21s\tremaining: 6m 12s\n",
      "421:\tlearn: 0.0546211\ttotal: 3m 21s\tremaining: 6m 12s\n",
      "422:\tlearn: 0.0545339\ttotal: 3m 22s\tremaining: 6m 11s\n",
      "423:\tlearn: 0.0544816\ttotal: 3m 22s\tremaining: 6m 10s\n",
      "424:\tlearn: 0.0543588\ttotal: 3m 23s\tremaining: 6m 10s\n",
      "425:\tlearn: 0.0542912\ttotal: 3m 23s\tremaining: 6m 9s\n",
      "426:\tlearn: 0.0542315\ttotal: 3m 24s\tremaining: 6m 9s\n",
      "427:\tlearn: 0.0541984\ttotal: 3m 24s\tremaining: 6m 8s\n",
      "428:\tlearn: 0.0540952\ttotal: 3m 24s\tremaining: 6m 8s\n",
      "429:\tlearn: 0.0540151\ttotal: 3m 25s\tremaining: 6m 7s\n",
      "430:\tlearn: 0.0539576\ttotal: 3m 25s\tremaining: 6m 7s\n",
      "431:\tlearn: 0.0538273\ttotal: 3m 26s\tremaining: 6m 6s\n",
      "432:\tlearn: 0.0537290\ttotal: 3m 26s\tremaining: 6m 6s\n",
      "433:\tlearn: 0.0536625\ttotal: 3m 27s\tremaining: 6m 5s\n",
      "434:\tlearn: 0.0536327\ttotal: 3m 27s\tremaining: 6m 5s\n",
      "435:\tlearn: 0.0535549\ttotal: 3m 28s\tremaining: 6m 4s\n",
      "436:\tlearn: 0.0535029\ttotal: 3m 28s\tremaining: 6m 4s\n",
      "437:\tlearn: 0.0534477\ttotal: 3m 29s\tremaining: 6m 3s\n",
      "438:\tlearn: 0.0533645\ttotal: 3m 29s\tremaining: 6m 3s\n",
      "439:\tlearn: 0.0532869\ttotal: 3m 30s\tremaining: 6m 2s\n",
      "440:\tlearn: 0.0532354\ttotal: 3m 30s\tremaining: 6m 2s\n",
      "441:\tlearn: 0.0531652\ttotal: 3m 30s\tremaining: 6m 1s\n",
      "442:\tlearn: 0.0530936\ttotal: 3m 31s\tremaining: 6m 1s\n",
      "443:\tlearn: 0.0530292\ttotal: 3m 31s\tremaining: 6m\n",
      "444:\tlearn: 0.0529504\ttotal: 3m 32s\tremaining: 6m\n",
      "445:\tlearn: 0.0528685\ttotal: 3m 32s\tremaining: 5m 59s\n",
      "446:\tlearn: 0.0528205\ttotal: 3m 33s\tremaining: 5m 59s\n",
      "447:\tlearn: 0.0527567\ttotal: 3m 33s\tremaining: 5m 58s\n",
      "448:\tlearn: 0.0526884\ttotal: 3m 34s\tremaining: 5m 58s\n",
      "449:\tlearn: 0.0526155\ttotal: 3m 34s\tremaining: 5m 57s\n",
      "450:\tlearn: 0.0525572\ttotal: 3m 35s\tremaining: 5m 57s\n",
      "451:\tlearn: 0.0525188\ttotal: 3m 35s\tremaining: 5m 56s\n",
      "452:\tlearn: 0.0524416\ttotal: 3m 36s\tremaining: 5m 56s\n",
      "453:\tlearn: 0.0523553\ttotal: 3m 36s\tremaining: 5m 55s\n",
      "454:\tlearn: 0.0522919\ttotal: 3m 36s\tremaining: 5m 55s\n",
      "455:\tlearn: 0.0522158\ttotal: 3m 37s\tremaining: 5m 54s\n",
      "456:\tlearn: 0.0521443\ttotal: 3m 37s\tremaining: 5m 54s\n",
      "457:\tlearn: 0.0520578\ttotal: 3m 38s\tremaining: 5m 53s\n",
      "458:\tlearn: 0.0519858\ttotal: 3m 38s\tremaining: 5m 53s\n",
      "459:\tlearn: 0.0519324\ttotal: 3m 39s\tremaining: 5m 52s\n",
      "460:\tlearn: 0.0518827\ttotal: 3m 39s\tremaining: 5m 52s\n",
      "461:\tlearn: 0.0518234\ttotal: 3m 40s\tremaining: 5m 51s\n",
      "462:\tlearn: 0.0517691\ttotal: 3m 40s\tremaining: 5m 51s\n",
      "463:\tlearn: 0.0517320\ttotal: 3m 41s\tremaining: 5m 50s\n",
      "464:\tlearn: 0.0516278\ttotal: 3m 41s\tremaining: 5m 50s\n"
     ]
    },
    {
     "name": "stdout",
     "output_type": "stream",
     "text": [
      "465:\tlearn: 0.0515812\ttotal: 3m 41s\tremaining: 5m 49s\n",
      "466:\tlearn: 0.0514302\ttotal: 3m 42s\tremaining: 5m 48s\n",
      "467:\tlearn: 0.0513781\ttotal: 3m 42s\tremaining: 5m 48s\n",
      "468:\tlearn: 0.0513017\ttotal: 3m 43s\tremaining: 5m 47s\n",
      "469:\tlearn: 0.0512719\ttotal: 3m 43s\tremaining: 5m 47s\n",
      "470:\tlearn: 0.0512126\ttotal: 3m 44s\tremaining: 5m 46s\n",
      "471:\tlearn: 0.0511583\ttotal: 3m 44s\tremaining: 5m 46s\n",
      "472:\tlearn: 0.0511028\ttotal: 3m 45s\tremaining: 5m 45s\n",
      "473:\tlearn: 0.0509835\ttotal: 3m 45s\tremaining: 5m 45s\n",
      "474:\tlearn: 0.0509130\ttotal: 3m 45s\tremaining: 5m 44s\n",
      "475:\tlearn: 0.0508770\ttotal: 3m 46s\tremaining: 5m 44s\n",
      "476:\tlearn: 0.0508076\ttotal: 3m 46s\tremaining: 5m 43s\n",
      "477:\tlearn: 0.0507099\ttotal: 3m 47s\tremaining: 5m 43s\n",
      "478:\tlearn: 0.0505121\ttotal: 3m 47s\tremaining: 5m 43s\n",
      "479:\tlearn: 0.0504433\ttotal: 3m 48s\tremaining: 5m 42s\n",
      "480:\tlearn: 0.0503885\ttotal: 3m 48s\tremaining: 5m 42s\n",
      "481:\tlearn: 0.0503373\ttotal: 3m 49s\tremaining: 5m 41s\n",
      "482:\tlearn: 0.0503048\ttotal: 3m 49s\tremaining: 5m 41s\n",
      "483:\tlearn: 0.0502449\ttotal: 3m 50s\tremaining: 5m 40s\n",
      "484:\tlearn: 0.0501339\ttotal: 3m 50s\tremaining: 5m 40s\n",
      "485:\tlearn: 0.0500701\ttotal: 3m 51s\tremaining: 5m 39s\n",
      "486:\tlearn: 0.0499883\ttotal: 3m 51s\tremaining: 5m 39s\n",
      "487:\tlearn: 0.0499288\ttotal: 3m 52s\tremaining: 5m 38s\n",
      "488:\tlearn: 0.0498708\ttotal: 3m 52s\tremaining: 5m 38s\n",
      "489:\tlearn: 0.0498194\ttotal: 3m 53s\tremaining: 5m 38s\n",
      "490:\tlearn: 0.0497548\ttotal: 3m 53s\tremaining: 5m 37s\n",
      "491:\tlearn: 0.0497132\ttotal: 3m 54s\tremaining: 5m 37s\n",
      "492:\tlearn: 0.0496244\ttotal: 3m 54s\tremaining: 5m 36s\n",
      "493:\tlearn: 0.0495457\ttotal: 3m 55s\tremaining: 5m 36s\n",
      "494:\tlearn: 0.0494666\ttotal: 3m 55s\tremaining: 5m 35s\n",
      "495:\tlearn: 0.0493789\ttotal: 3m 56s\tremaining: 5m 35s\n",
      "496:\tlearn: 0.0493411\ttotal: 3m 56s\tremaining: 5m 34s\n",
      "497:\tlearn: 0.0492741\ttotal: 3m 56s\tremaining: 5m 34s\n",
      "498:\tlearn: 0.0490603\ttotal: 3m 57s\tremaining: 5m 33s\n",
      "499:\tlearn: 0.0490309\ttotal: 3m 57s\tremaining: 5m 32s\n",
      "500:\tlearn: 0.0489883\ttotal: 3m 58s\tremaining: 5m 32s\n",
      "501:\tlearn: 0.0488959\ttotal: 3m 58s\tremaining: 5m 32s\n",
      "502:\tlearn: 0.0488417\ttotal: 3m 59s\tremaining: 5m 31s\n",
      "503:\tlearn: 0.0487632\ttotal: 3m 59s\tremaining: 5m 31s\n",
      "504:\tlearn: 0.0486997\ttotal: 4m\tremaining: 5m 30s\n",
      "505:\tlearn: 0.0486515\ttotal: 4m 1s\tremaining: 5m 30s\n",
      "506:\tlearn: 0.0486052\ttotal: 4m 1s\tremaining: 5m 30s\n",
      "507:\tlearn: 0.0485055\ttotal: 4m 2s\tremaining: 5m 29s\n",
      "508:\tlearn: 0.0484592\ttotal: 4m 2s\tremaining: 5m 29s\n",
      "509:\tlearn: 0.0483359\ttotal: 4m 3s\tremaining: 5m 28s\n",
      "510:\tlearn: 0.0482547\ttotal: 4m 3s\tremaining: 5m 28s\n",
      "511:\tlearn: 0.0481816\ttotal: 4m 4s\tremaining: 5m 28s\n",
      "512:\tlearn: 0.0481394\ttotal: 4m 4s\tremaining: 5m 27s\n",
      "513:\tlearn: 0.0480801\ttotal: 4m 5s\tremaining: 5m 27s\n",
      "514:\tlearn: 0.0479456\ttotal: 4m 5s\tremaining: 5m 26s\n",
      "515:\tlearn: 0.0478912\ttotal: 4m 6s\tremaining: 5m 26s\n",
      "516:\tlearn: 0.0477923\ttotal: 4m 7s\tremaining: 5m 26s\n",
      "517:\tlearn: 0.0477448\ttotal: 4m 7s\tremaining: 5m 26s\n",
      "518:\tlearn: 0.0476924\ttotal: 4m 8s\tremaining: 5m 25s\n",
      "519:\tlearn: 0.0476497\ttotal: 4m 8s\tremaining: 5m 25s\n",
      "520:\tlearn: 0.0475350\ttotal: 4m 9s\tremaining: 5m 25s\n",
      "521:\tlearn: 0.0474561\ttotal: 4m 10s\tremaining: 5m 24s\n",
      "522:\tlearn: 0.0474238\ttotal: 4m 10s\tremaining: 5m 24s\n",
      "523:\tlearn: 0.0473779\ttotal: 4m 10s\tremaining: 5m 23s\n",
      "524:\tlearn: 0.0473342\ttotal: 4m 11s\tremaining: 5m 23s\n",
      "525:\tlearn: 0.0472856\ttotal: 4m 11s\tremaining: 5m 22s\n",
      "526:\tlearn: 0.0472445\ttotal: 4m 12s\tremaining: 5m 22s\n",
      "527:\tlearn: 0.0472059\ttotal: 4m 12s\tremaining: 5m 21s\n",
      "528:\tlearn: 0.0471015\ttotal: 4m 13s\tremaining: 5m 21s\n",
      "529:\tlearn: 0.0470274\ttotal: 4m 13s\tremaining: 5m 21s\n",
      "530:\tlearn: 0.0469728\ttotal: 4m 14s\tremaining: 5m 20s\n",
      "531:\tlearn: 0.0469377\ttotal: 4m 14s\tremaining: 5m 20s\n",
      "532:\tlearn: 0.0468779\ttotal: 4m 15s\tremaining: 5m 19s\n",
      "533:\tlearn: 0.0467755\ttotal: 4m 15s\tremaining: 5m 19s\n",
      "534:\tlearn: 0.0466991\ttotal: 4m 16s\tremaining: 5m 18s\n",
      "535:\tlearn: 0.0465939\ttotal: 4m 16s\tremaining: 5m 18s\n",
      "536:\tlearn: 0.0465555\ttotal: 4m 17s\tremaining: 5m 17s\n",
      "537:\tlearn: 0.0464919\ttotal: 4m 17s\tremaining: 5m 17s\n",
      "538:\tlearn: 0.0464252\ttotal: 4m 18s\tremaining: 5m 17s\n",
      "539:\tlearn: 0.0463926\ttotal: 4m 19s\tremaining: 5m 16s\n",
      "540:\tlearn: 0.0463204\ttotal: 4m 19s\tremaining: 5m 16s\n",
      "541:\tlearn: 0.0462267\ttotal: 4m 20s\tremaining: 5m 15s\n",
      "542:\tlearn: 0.0461736\ttotal: 4m 20s\tremaining: 5m 15s\n",
      "543:\tlearn: 0.0461031\ttotal: 4m 21s\tremaining: 5m 15s\n",
      "544:\tlearn: 0.0460609\ttotal: 4m 21s\tremaining: 5m 14s\n",
      "545:\tlearn: 0.0460178\ttotal: 4m 22s\tremaining: 5m 14s\n",
      "546:\tlearn: 0.0459369\ttotal: 4m 22s\tremaining: 5m 13s\n",
      "547:\tlearn: 0.0459045\ttotal: 4m 23s\tremaining: 5m 13s\n",
      "548:\tlearn: 0.0458162\ttotal: 4m 23s\tremaining: 5m 12s\n",
      "549:\tlearn: 0.0456989\ttotal: 4m 24s\tremaining: 5m 12s\n",
      "550:\tlearn: 0.0456475\ttotal: 4m 24s\tremaining: 5m 12s\n",
      "551:\tlearn: 0.0456231\ttotal: 4m 25s\tremaining: 5m 11s\n",
      "552:\tlearn: 0.0455429\ttotal: 4m 25s\tremaining: 5m 11s\n",
      "553:\tlearn: 0.0454072\ttotal: 4m 26s\tremaining: 5m 10s\n",
      "554:\tlearn: 0.0453658\ttotal: 4m 27s\tremaining: 5m 10s\n",
      "555:\tlearn: 0.0452952\ttotal: 4m 27s\tremaining: 5m 9s\n",
      "556:\tlearn: 0.0452518\ttotal: 4m 28s\tremaining: 5m 9s\n",
      "557:\tlearn: 0.0452346\ttotal: 4m 28s\tremaining: 5m 8s\n",
      "558:\tlearn: 0.0451852\ttotal: 4m 29s\tremaining: 5m 8s\n",
      "559:\tlearn: 0.0451487\ttotal: 4m 29s\tremaining: 5m 8s\n",
      "560:\tlearn: 0.0451054\ttotal: 4m 29s\tremaining: 5m 7s\n",
      "561:\tlearn: 0.0450627\ttotal: 4m 30s\tremaining: 5m 7s\n",
      "562:\tlearn: 0.0450223\ttotal: 4m 30s\tremaining: 5m 6s\n",
      "563:\tlearn: 0.0449807\ttotal: 4m 31s\tremaining: 5m 6s\n",
      "564:\tlearn: 0.0449433\ttotal: 4m 31s\tremaining: 5m 5s\n",
      "565:\tlearn: 0.0448727\ttotal: 4m 32s\tremaining: 5m 5s\n",
      "566:\tlearn: 0.0447651\ttotal: 4m 32s\tremaining: 5m 4s\n",
      "567:\tlearn: 0.0447070\ttotal: 4m 33s\tremaining: 5m 4s\n",
      "568:\tlearn: 0.0445985\ttotal: 4m 33s\tremaining: 5m 3s\n",
      "569:\tlearn: 0.0445435\ttotal: 4m 34s\tremaining: 5m 3s\n",
      "570:\tlearn: 0.0445080\ttotal: 4m 34s\tremaining: 5m 2s\n",
      "571:\tlearn: 0.0444801\ttotal: 4m 35s\tremaining: 5m 1s\n",
      "572:\tlearn: 0.0444369\ttotal: 4m 35s\tremaining: 5m 1s\n",
      "573:\tlearn: 0.0443826\ttotal: 4m 36s\tremaining: 5m 1s\n",
      "574:\tlearn: 0.0443317\ttotal: 4m 36s\tremaining: 5m\n",
      "575:\tlearn: 0.0442808\ttotal: 4m 37s\tremaining: 5m\n",
      "576:\tlearn: 0.0442226\ttotal: 4m 37s\tremaining: 4m 59s\n",
      "577:\tlearn: 0.0441772\ttotal: 4m 38s\tremaining: 4m 59s\n",
      "578:\tlearn: 0.0441337\ttotal: 4m 38s\tremaining: 4m 58s\n",
      "579:\tlearn: 0.0440683\ttotal: 4m 39s\tremaining: 4m 58s\n",
      "580:\tlearn: 0.0440317\ttotal: 4m 39s\tremaining: 4m 58s\n",
      "581:\tlearn: 0.0439771\ttotal: 4m 40s\tremaining: 4m 57s\n",
      "582:\tlearn: 0.0439102\ttotal: 4m 40s\tremaining: 4m 57s\n",
      "583:\tlearn: 0.0438413\ttotal: 4m 41s\tremaining: 4m 56s\n",
      "584:\tlearn: 0.0438099\ttotal: 4m 41s\tremaining: 4m 56s\n",
      "585:\tlearn: 0.0437640\ttotal: 4m 41s\tremaining: 4m 55s\n",
      "586:\tlearn: 0.0437299\ttotal: 4m 42s\tremaining: 4m 55s\n",
      "587:\tlearn: 0.0436983\ttotal: 4m 43s\tremaining: 4m 54s\n",
      "588:\tlearn: 0.0436661\ttotal: 4m 43s\tremaining: 4m 54s\n",
      "589:\tlearn: 0.0436084\ttotal: 4m 43s\tremaining: 4m 53s\n",
      "590:\tlearn: 0.0435595\ttotal: 4m 44s\tremaining: 4m 53s\n",
      "591:\tlearn: 0.0435263\ttotal: 4m 44s\tremaining: 4m 52s\n",
      "592:\tlearn: 0.0434511\ttotal: 4m 45s\tremaining: 4m 52s\n",
      "593:\tlearn: 0.0434291\ttotal: 4m 45s\tremaining: 4m 51s\n",
      "594:\tlearn: 0.0433470\ttotal: 4m 46s\tremaining: 4m 50s\n",
      "595:\tlearn: 0.0432724\ttotal: 4m 46s\tremaining: 4m 50s\n",
      "596:\tlearn: 0.0431979\ttotal: 4m 47s\tremaining: 4m 49s\n",
      "597:\tlearn: 0.0431034\ttotal: 4m 47s\tremaining: 4m 49s\n",
      "598:\tlearn: 0.0430452\ttotal: 4m 48s\tremaining: 4m 49s\n",
      "599:\tlearn: 0.0429801\ttotal: 4m 48s\tremaining: 4m 48s\n",
      "600:\tlearn: 0.0429745\ttotal: 4m 48s\tremaining: 4m 47s\n",
      "601:\tlearn: 0.0429236\ttotal: 4m 49s\tremaining: 4m 47s\n",
      "602:\tlearn: 0.0428054\ttotal: 4m 49s\tremaining: 4m 47s\n",
      "603:\tlearn: 0.0427317\ttotal: 4m 50s\tremaining: 4m 46s\n",
      "604:\tlearn: 0.0427071\ttotal: 4m 50s\tremaining: 4m 46s\n",
      "605:\tlearn: 0.0426337\ttotal: 4m 51s\tremaining: 4m 45s\n",
      "606:\tlearn: 0.0425664\ttotal: 4m 51s\tremaining: 4m 45s\n",
      "607:\tlearn: 0.0425463\ttotal: 4m 52s\tremaining: 4m 44s\n",
      "608:\tlearn: 0.0425050\ttotal: 4m 52s\tremaining: 4m 44s\n",
      "609:\tlearn: 0.0424802\ttotal: 4m 53s\tremaining: 4m 43s\n",
      "610:\tlearn: 0.0423706\ttotal: 4m 53s\tremaining: 4m 43s\n",
      "611:\tlearn: 0.0423336\ttotal: 4m 54s\tremaining: 4m 42s\n",
      "612:\tlearn: 0.0422882\ttotal: 4m 54s\tremaining: 4m 42s\n",
      "613:\tlearn: 0.0422627\ttotal: 4m 55s\tremaining: 4m 41s\n",
      "614:\tlearn: 0.0422446\ttotal: 4m 55s\tremaining: 4m 41s\n",
      "615:\tlearn: 0.0422074\ttotal: 4m 56s\tremaining: 4m 40s\n",
      "616:\tlearn: 0.0421305\ttotal: 4m 56s\tremaining: 4m 40s\n",
      "617:\tlearn: 0.0420720\ttotal: 4m 57s\tremaining: 4m 39s\n"
     ]
    },
    {
     "name": "stdout",
     "output_type": "stream",
     "text": [
      "618:\tlearn: 0.0420495\ttotal: 4m 57s\tremaining: 4m 39s\n",
      "619:\tlearn: 0.0419886\ttotal: 4m 58s\tremaining: 4m 38s\n",
      "620:\tlearn: 0.0419252\ttotal: 4m 58s\tremaining: 4m 38s\n",
      "621:\tlearn: 0.0418749\ttotal: 4m 59s\tremaining: 4m 37s\n",
      "622:\tlearn: 0.0417998\ttotal: 4m 59s\tremaining: 4m 37s\n",
      "623:\tlearn: 0.0417386\ttotal: 4m 59s\tremaining: 4m 36s\n",
      "624:\tlearn: 0.0417202\ttotal: 5m\tremaining: 4m 36s\n",
      "625:\tlearn: 0.0416669\ttotal: 5m\tremaining: 4m 35s\n",
      "626:\tlearn: 0.0415797\ttotal: 5m 1s\tremaining: 4m 35s\n",
      "627:\tlearn: 0.0415443\ttotal: 5m 1s\tremaining: 4m 34s\n",
      "628:\tlearn: 0.0415062\ttotal: 5m 2s\tremaining: 4m 34s\n",
      "629:\tlearn: 0.0414717\ttotal: 5m 2s\tremaining: 4m 33s\n",
      "630:\tlearn: 0.0414281\ttotal: 5m 3s\tremaining: 4m 33s\n",
      "631:\tlearn: 0.0413806\ttotal: 5m 3s\tremaining: 4m 32s\n",
      "632:\tlearn: 0.0413688\ttotal: 5m 3s\tremaining: 4m 32s\n",
      "633:\tlearn: 0.0413170\ttotal: 5m 4s\tremaining: 4m 31s\n",
      "634:\tlearn: 0.0412614\ttotal: 5m 4s\tremaining: 4m 31s\n",
      "635:\tlearn: 0.0411676\ttotal: 5m 5s\tremaining: 4m 30s\n",
      "636:\tlearn: 0.0411261\ttotal: 5m 5s\tremaining: 4m 30s\n",
      "637:\tlearn: 0.0410919\ttotal: 5m 6s\tremaining: 4m 29s\n",
      "638:\tlearn: 0.0410037\ttotal: 5m 6s\tremaining: 4m 29s\n",
      "639:\tlearn: 0.0409650\ttotal: 5m 7s\tremaining: 4m 28s\n",
      "640:\tlearn: 0.0409253\ttotal: 5m 7s\tremaining: 4m 28s\n",
      "641:\tlearn: 0.0408744\ttotal: 5m 8s\tremaining: 4m 27s\n",
      "642:\tlearn: 0.0408228\ttotal: 5m 8s\tremaining: 4m 27s\n",
      "643:\tlearn: 0.0407147\ttotal: 5m 9s\tremaining: 4m 26s\n",
      "644:\tlearn: 0.0406400\ttotal: 5m 9s\tremaining: 4m 26s\n",
      "645:\tlearn: 0.0405822\ttotal: 5m 10s\tremaining: 4m 25s\n",
      "646:\tlearn: 0.0405473\ttotal: 5m 10s\tremaining: 4m 25s\n",
      "647:\tlearn: 0.0404622\ttotal: 5m 11s\tremaining: 4m 24s\n",
      "648:\tlearn: 0.0404212\ttotal: 5m 11s\tremaining: 4m 24s\n",
      "649:\tlearn: 0.0403914\ttotal: 5m 12s\tremaining: 4m 24s\n",
      "650:\tlearn: 0.0403784\ttotal: 5m 12s\tremaining: 4m 23s\n",
      "651:\tlearn: 0.0403476\ttotal: 5m 12s\tremaining: 4m 23s\n",
      "652:\tlearn: 0.0402975\ttotal: 5m 13s\tremaining: 4m 22s\n",
      "653:\tlearn: 0.0402537\ttotal: 5m 13s\tremaining: 4m 22s\n",
      "654:\tlearn: 0.0401861\ttotal: 5m 14s\tremaining: 4m 21s\n",
      "655:\tlearn: 0.0401359\ttotal: 5m 14s\tremaining: 4m 21s\n",
      "656:\tlearn: 0.0400845\ttotal: 5m 15s\tremaining: 4m 20s\n",
      "657:\tlearn: 0.0400525\ttotal: 5m 15s\tremaining: 4m 20s\n",
      "658:\tlearn: 0.0399837\ttotal: 5m 16s\tremaining: 4m 19s\n",
      "659:\tlearn: 0.0399605\ttotal: 5m 16s\tremaining: 4m 19s\n",
      "660:\tlearn: 0.0399084\ttotal: 5m 17s\tremaining: 4m 18s\n",
      "661:\tlearn: 0.0398432\ttotal: 5m 17s\tremaining: 4m 18s\n",
      "662:\tlearn: 0.0397924\ttotal: 5m 17s\tremaining: 4m 17s\n",
      "663:\tlearn: 0.0396722\ttotal: 5m 18s\tremaining: 4m 17s\n",
      "664:\tlearn: 0.0396379\ttotal: 5m 18s\tremaining: 4m 16s\n",
      "665:\tlearn: 0.0395809\ttotal: 5m 19s\tremaining: 4m 15s\n",
      "666:\tlearn: 0.0395204\ttotal: 5m 19s\tremaining: 4m 15s\n",
      "667:\tlearn: 0.0395066\ttotal: 5m 20s\tremaining: 4m 14s\n",
      "668:\tlearn: 0.0394663\ttotal: 5m 20s\tremaining: 4m 14s\n",
      "669:\tlearn: 0.0394385\ttotal: 5m 20s\tremaining: 4m 13s\n",
      "670:\tlearn: 0.0393917\ttotal: 5m 21s\tremaining: 4m 13s\n",
      "671:\tlearn: 0.0392915\ttotal: 5m 21s\tremaining: 4m 12s\n",
      "672:\tlearn: 0.0392567\ttotal: 5m 22s\tremaining: 4m 12s\n",
      "673:\tlearn: 0.0391994\ttotal: 5m 22s\tremaining: 4m 12s\n",
      "674:\tlearn: 0.0391247\ttotal: 5m 23s\tremaining: 4m 11s\n",
      "675:\tlearn: 0.0390649\ttotal: 5m 24s\tremaining: 4m 11s\n",
      "676:\tlearn: 0.0390417\ttotal: 5m 24s\tremaining: 4m 10s\n",
      "677:\tlearn: 0.0390174\ttotal: 5m 25s\tremaining: 4m 10s\n",
      "678:\tlearn: 0.0389805\ttotal: 5m 25s\tremaining: 4m 9s\n",
      "679:\tlearn: 0.0389283\ttotal: 5m 25s\tremaining: 4m 9s\n",
      "680:\tlearn: 0.0388999\ttotal: 5m 26s\tremaining: 4m 8s\n",
      "681:\tlearn: 0.0388624\ttotal: 5m 26s\tremaining: 4m 8s\n",
      "682:\tlearn: 0.0387964\ttotal: 5m 27s\tremaining: 4m 7s\n",
      "683:\tlearn: 0.0387376\ttotal: 5m 27s\tremaining: 4m 7s\n",
      "684:\tlearn: 0.0386486\ttotal: 5m 28s\tremaining: 4m 6s\n",
      "685:\tlearn: 0.0386190\ttotal: 5m 28s\tremaining: 4m 6s\n",
      "686:\tlearn: 0.0386018\ttotal: 5m 29s\tremaining: 4m 5s\n",
      "687:\tlearn: 0.0385630\ttotal: 5m 29s\tremaining: 4m 5s\n",
      "688:\tlearn: 0.0385434\ttotal: 5m 30s\tremaining: 4m 4s\n",
      "689:\tlearn: 0.0385105\ttotal: 5m 30s\tremaining: 4m 4s\n",
      "690:\tlearn: 0.0384695\ttotal: 5m 30s\tremaining: 4m 3s\n",
      "691:\tlearn: 0.0384153\ttotal: 5m 31s\tremaining: 4m 3s\n",
      "692:\tlearn: 0.0383606\ttotal: 5m 31s\tremaining: 4m 2s\n",
      "693:\tlearn: 0.0383219\ttotal: 5m 32s\tremaining: 4m 2s\n",
      "694:\tlearn: 0.0382498\ttotal: 5m 32s\tremaining: 4m 1s\n",
      "695:\tlearn: 0.0381662\ttotal: 5m 33s\tremaining: 4m 1s\n",
      "696:\tlearn: 0.0381278\ttotal: 5m 33s\tremaining: 4m\n",
      "697:\tlearn: 0.0380673\ttotal: 5m 34s\tremaining: 4m\n",
      "698:\tlearn: 0.0380105\ttotal: 5m 34s\tremaining: 3m 59s\n",
      "699:\tlearn: 0.0379836\ttotal: 5m 35s\tremaining: 3m 59s\n",
      "700:\tlearn: 0.0379645\ttotal: 5m 35s\tremaining: 3m 58s\n",
      "701:\tlearn: 0.0379324\ttotal: 5m 35s\tremaining: 3m 58s\n",
      "702:\tlearn: 0.0378838\ttotal: 5m 36s\tremaining: 3m 57s\n",
      "703:\tlearn: 0.0378173\ttotal: 5m 36s\tremaining: 3m 57s\n",
      "704:\tlearn: 0.0377838\ttotal: 5m 37s\tremaining: 3m 56s\n",
      "705:\tlearn: 0.0377425\ttotal: 5m 37s\tremaining: 3m 56s\n",
      "706:\tlearn: 0.0377091\ttotal: 5m 38s\tremaining: 3m 55s\n",
      "707:\tlearn: 0.0376507\ttotal: 5m 38s\tremaining: 3m 55s\n",
      "708:\tlearn: 0.0376072\ttotal: 5m 39s\tremaining: 3m 54s\n",
      "709:\tlearn: 0.0375683\ttotal: 5m 39s\tremaining: 3m 54s\n",
      "710:\tlearn: 0.0375009\ttotal: 5m 40s\tremaining: 3m 53s\n",
      "711:\tlearn: 0.0374482\ttotal: 5m 40s\tremaining: 3m 53s\n",
      "712:\tlearn: 0.0374246\ttotal: 5m 41s\tremaining: 3m 52s\n",
      "713:\tlearn: 0.0373981\ttotal: 5m 41s\tremaining: 3m 52s\n",
      "714:\tlearn: 0.0373665\ttotal: 5m 42s\tremaining: 3m 52s\n",
      "715:\tlearn: 0.0373434\ttotal: 5m 42s\tremaining: 3m 51s\n",
      "716:\tlearn: 0.0372977\ttotal: 5m 43s\tremaining: 3m 51s\n",
      "717:\tlearn: 0.0372336\ttotal: 5m 43s\tremaining: 3m 50s\n",
      "718:\tlearn: 0.0371616\ttotal: 5m 43s\tremaining: 3m 50s\n",
      "719:\tlearn: 0.0370880\ttotal: 5m 44s\tremaining: 3m 49s\n",
      "720:\tlearn: 0.0370045\ttotal: 5m 44s\tremaining: 3m 49s\n",
      "721:\tlearn: 0.0369839\ttotal: 5m 45s\tremaining: 3m 48s\n",
      "722:\tlearn: 0.0369306\ttotal: 5m 45s\tremaining: 3m 48s\n",
      "723:\tlearn: 0.0369093\ttotal: 5m 46s\tremaining: 3m 47s\n",
      "724:\tlearn: 0.0368858\ttotal: 5m 46s\tremaining: 3m 47s\n",
      "725:\tlearn: 0.0368256\ttotal: 5m 47s\tremaining: 3m 46s\n",
      "726:\tlearn: 0.0368140\ttotal: 5m 47s\tremaining: 3m 46s\n",
      "727:\tlearn: 0.0367991\ttotal: 5m 48s\tremaining: 3m 45s\n",
      "728:\tlearn: 0.0367329\ttotal: 5m 48s\tremaining: 3m 45s\n",
      "729:\tlearn: 0.0367185\ttotal: 5m 48s\tremaining: 3m 44s\n",
      "730:\tlearn: 0.0366762\ttotal: 5m 49s\tremaining: 3m 44s\n",
      "731:\tlearn: 0.0366228\ttotal: 5m 49s\tremaining: 3m 43s\n",
      "732:\tlearn: 0.0365576\ttotal: 5m 50s\tremaining: 3m 43s\n",
      "733:\tlearn: 0.0365289\ttotal: 5m 50s\tremaining: 3m 42s\n",
      "734:\tlearn: 0.0364690\ttotal: 5m 51s\tremaining: 3m 42s\n",
      "735:\tlearn: 0.0364587\ttotal: 5m 51s\tremaining: 3m 41s\n",
      "736:\tlearn: 0.0363966\ttotal: 5m 52s\tremaining: 3m 41s\n",
      "737:\tlearn: 0.0363103\ttotal: 5m 52s\tremaining: 3m 40s\n",
      "738:\tlearn: 0.0362447\ttotal: 5m 53s\tremaining: 3m 40s\n",
      "739:\tlearn: 0.0362058\ttotal: 5m 53s\tremaining: 3m 39s\n",
      "740:\tlearn: 0.0360856\ttotal: 5m 54s\tremaining: 3m 39s\n",
      "741:\tlearn: 0.0360318\ttotal: 5m 54s\tremaining: 3m 38s\n",
      "742:\tlearn: 0.0359920\ttotal: 5m 55s\tremaining: 3m 38s\n",
      "743:\tlearn: 0.0359168\ttotal: 5m 55s\tremaining: 3m 37s\n",
      "744:\tlearn: 0.0358899\ttotal: 5m 56s\tremaining: 3m 37s\n",
      "745:\tlearn: 0.0357936\ttotal: 5m 56s\tremaining: 3m 37s\n",
      "746:\tlearn: 0.0357398\ttotal: 5m 57s\tremaining: 3m 36s\n",
      "747:\tlearn: 0.0356765\ttotal: 5m 57s\tremaining: 3m 36s\n",
      "748:\tlearn: 0.0356150\ttotal: 5m 58s\tremaining: 3m 35s\n",
      "749:\tlearn: 0.0356070\ttotal: 5m 58s\tremaining: 3m 35s\n",
      "750:\tlearn: 0.0355596\ttotal: 5m 58s\tremaining: 3m 34s\n",
      "751:\tlearn: 0.0355257\ttotal: 5m 59s\tremaining: 3m 34s\n",
      "752:\tlearn: 0.0354959\ttotal: 5m 59s\tremaining: 3m 33s\n",
      "753:\tlearn: 0.0354413\ttotal: 6m\tremaining: 3m 33s\n",
      "754:\tlearn: 0.0354102\ttotal: 6m\tremaining: 3m 32s\n",
      "755:\tlearn: 0.0353644\ttotal: 6m 1s\tremaining: 3m 32s\n",
      "756:\tlearn: 0.0353263\ttotal: 6m 1s\tremaining: 3m 31s\n",
      "757:\tlearn: 0.0352971\ttotal: 6m 2s\tremaining: 3m 31s\n",
      "758:\tlearn: 0.0352703\ttotal: 6m 2s\tremaining: 3m 30s\n",
      "759:\tlearn: 0.0352275\ttotal: 6m 2s\tremaining: 3m 30s\n",
      "760:\tlearn: 0.0352120\ttotal: 6m 3s\tremaining: 3m 29s\n",
      "761:\tlearn: 0.0351681\ttotal: 6m 3s\tremaining: 3m 29s\n",
      "762:\tlearn: 0.0351308\ttotal: 6m 4s\tremaining: 3m 28s\n",
      "763:\tlearn: 0.0351157\ttotal: 6m 4s\tremaining: 3m 28s\n",
      "764:\tlearn: 0.0350601\ttotal: 6m 5s\tremaining: 3m 27s\n",
      "765:\tlearn: 0.0350250\ttotal: 6m 5s\tremaining: 3m 27s\n",
      "766:\tlearn: 0.0349570\ttotal: 6m 6s\tremaining: 3m 26s\n",
      "767:\tlearn: 0.0349087\ttotal: 6m 6s\tremaining: 3m 26s\n",
      "768:\tlearn: 0.0348814\ttotal: 6m 7s\tremaining: 3m 25s\n",
      "769:\tlearn: 0.0348298\ttotal: 6m 7s\tremaining: 3m 25s\n",
      "770:\tlearn: 0.0348124\ttotal: 6m 8s\tremaining: 3m 24s\n",
      "771:\tlearn: 0.0347727\ttotal: 6m 8s\tremaining: 3m 24s\n"
     ]
    },
    {
     "name": "stdout",
     "output_type": "stream",
     "text": [
      "772:\tlearn: 0.0347129\ttotal: 6m 9s\tremaining: 3m 23s\n",
      "773:\tlearn: 0.0346496\ttotal: 6m 9s\tremaining: 3m 23s\n",
      "774:\tlearn: 0.0345761\ttotal: 6m 10s\tremaining: 3m 22s\n",
      "775:\tlearn: 0.0345536\ttotal: 6m 10s\tremaining: 3m 22s\n",
      "776:\tlearn: 0.0345055\ttotal: 6m 11s\tremaining: 3m 22s\n",
      "777:\tlearn: 0.0344431\ttotal: 6m 11s\tremaining: 3m 21s\n",
      "778:\tlearn: 0.0343901\ttotal: 6m 12s\tremaining: 3m 21s\n",
      "779:\tlearn: 0.0342784\ttotal: 6m 12s\tremaining: 3m 20s\n",
      "780:\tlearn: 0.0342307\ttotal: 6m 13s\tremaining: 3m 20s\n",
      "781:\tlearn: 0.0341908\ttotal: 6m 13s\tremaining: 3m 19s\n",
      "782:\tlearn: 0.0341475\ttotal: 6m 14s\tremaining: 3m 19s\n",
      "783:\tlearn: 0.0340768\ttotal: 6m 14s\tremaining: 3m 18s\n",
      "784:\tlearn: 0.0340436\ttotal: 6m 15s\tremaining: 3m 18s\n",
      "785:\tlearn: 0.0339830\ttotal: 6m 15s\tremaining: 3m 18s\n",
      "786:\tlearn: 0.0339107\ttotal: 6m 16s\tremaining: 3m 17s\n",
      "787:\tlearn: 0.0338587\ttotal: 6m 17s\tremaining: 3m 17s\n",
      "788:\tlearn: 0.0338157\ttotal: 6m 17s\tremaining: 3m 16s\n",
      "789:\tlearn: 0.0337884\ttotal: 6m 18s\tremaining: 3m 16s\n",
      "790:\tlearn: 0.0337608\ttotal: 6m 18s\tremaining: 3m 15s\n",
      "791:\tlearn: 0.0337118\ttotal: 6m 19s\tremaining: 3m 15s\n",
      "792:\tlearn: 0.0336707\ttotal: 6m 19s\tremaining: 3m 14s\n",
      "793:\tlearn: 0.0336208\ttotal: 6m 20s\tremaining: 3m 14s\n",
      "794:\tlearn: 0.0335803\ttotal: 6m 20s\tremaining: 3m 14s\n",
      "795:\tlearn: 0.0335104\ttotal: 6m 21s\tremaining: 3m 13s\n",
      "796:\tlearn: 0.0334647\ttotal: 6m 21s\tremaining: 3m 13s\n",
      "797:\tlearn: 0.0334409\ttotal: 6m 22s\tremaining: 3m 12s\n",
      "798:\tlearn: 0.0333750\ttotal: 6m 22s\tremaining: 3m 12s\n",
      "799:\tlearn: 0.0333369\ttotal: 6m 23s\tremaining: 3m 11s\n",
      "800:\tlearn: 0.0333066\ttotal: 6m 23s\tremaining: 3m 11s\n",
      "801:\tlearn: 0.0332804\ttotal: 6m 23s\tremaining: 3m 10s\n",
      "802:\tlearn: 0.0332553\ttotal: 6m 24s\tremaining: 3m 10s\n",
      "803:\tlearn: 0.0332081\ttotal: 6m 24s\tremaining: 3m 9s\n",
      "804:\tlearn: 0.0331534\ttotal: 6m 25s\tremaining: 3m 9s\n",
      "805:\tlearn: 0.0331022\ttotal: 6m 25s\tremaining: 3m 8s\n",
      "806:\tlearn: 0.0330322\ttotal: 6m 26s\tremaining: 3m 8s\n",
      "807:\tlearn: 0.0329388\ttotal: 6m 26s\tremaining: 3m 7s\n",
      "808:\tlearn: 0.0328602\ttotal: 6m 27s\tremaining: 3m 7s\n",
      "809:\tlearn: 0.0328204\ttotal: 6m 27s\tremaining: 3m 6s\n",
      "810:\tlearn: 0.0327765\ttotal: 6m 28s\tremaining: 3m 6s\n",
      "811:\tlearn: 0.0327500\ttotal: 6m 28s\tremaining: 3m 5s\n",
      "812:\tlearn: 0.0327046\ttotal: 6m 29s\tremaining: 3m 5s\n",
      "813:\tlearn: 0.0326711\ttotal: 6m 29s\tremaining: 3m 4s\n",
      "814:\tlearn: 0.0326262\ttotal: 6m 30s\tremaining: 3m 4s\n",
      "815:\tlearn: 0.0325968\ttotal: 6m 30s\tremaining: 3m 3s\n",
      "816:\tlearn: 0.0325003\ttotal: 6m 31s\tremaining: 3m 3s\n",
      "817:\tlearn: 0.0324169\ttotal: 6m 31s\tremaining: 3m 2s\n",
      "818:\tlearn: 0.0323346\ttotal: 6m 32s\tremaining: 3m 2s\n",
      "819:\tlearn: 0.0322872\ttotal: 6m 32s\tremaining: 3m 1s\n",
      "820:\tlearn: 0.0322575\ttotal: 6m 33s\tremaining: 3m 1s\n",
      "821:\tlearn: 0.0322066\ttotal: 6m 33s\tremaining: 3m\n",
      "822:\tlearn: 0.0321946\ttotal: 6m 33s\tremaining: 3m\n",
      "823:\tlearn: 0.0321690\ttotal: 6m 34s\tremaining: 2m 59s\n",
      "824:\tlearn: 0.0321408\ttotal: 6m 34s\tremaining: 2m 59s\n",
      "825:\tlearn: 0.0320988\ttotal: 6m 35s\tremaining: 2m 59s\n",
      "826:\tlearn: 0.0320521\ttotal: 6m 35s\tremaining: 2m 58s\n",
      "827:\tlearn: 0.0320162\ttotal: 6m 36s\tremaining: 2m 58s\n",
      "828:\tlearn: 0.0320011\ttotal: 6m 36s\tremaining: 2m 57s\n",
      "829:\tlearn: 0.0319488\ttotal: 6m 37s\tremaining: 2m 57s\n",
      "830:\tlearn: 0.0319039\ttotal: 6m 37s\tremaining: 2m 56s\n",
      "831:\tlearn: 0.0318718\ttotal: 6m 38s\tremaining: 2m 56s\n",
      "832:\tlearn: 0.0318511\ttotal: 6m 38s\tremaining: 2m 55s\n",
      "833:\tlearn: 0.0318028\ttotal: 6m 39s\tremaining: 2m 55s\n",
      "834:\tlearn: 0.0317143\ttotal: 6m 39s\tremaining: 2m 54s\n",
      "835:\tlearn: 0.0316612\ttotal: 6m 40s\tremaining: 2m 54s\n",
      "836:\tlearn: 0.0316408\ttotal: 6m 40s\tremaining: 2m 53s\n",
      "837:\tlearn: 0.0316242\ttotal: 6m 41s\tremaining: 2m 53s\n",
      "838:\tlearn: 0.0315784\ttotal: 6m 41s\tremaining: 2m 52s\n",
      "839:\tlearn: 0.0315389\ttotal: 6m 42s\tremaining: 2m 52s\n",
      "840:\tlearn: 0.0315182\ttotal: 6m 42s\tremaining: 2m 51s\n",
      "841:\tlearn: 0.0314911\ttotal: 6m 43s\tremaining: 2m 51s\n",
      "842:\tlearn: 0.0314736\ttotal: 6m 43s\tremaining: 2m 50s\n",
      "843:\tlearn: 0.0314663\ttotal: 6m 43s\tremaining: 2m 50s\n",
      "844:\tlearn: 0.0314378\ttotal: 6m 44s\tremaining: 2m 49s\n",
      "845:\tlearn: 0.0313871\ttotal: 6m 44s\tremaining: 2m 49s\n",
      "846:\tlearn: 0.0313662\ttotal: 6m 45s\tremaining: 2m 48s\n",
      "847:\tlearn: 0.0313502\ttotal: 6m 45s\tremaining: 2m 48s\n",
      "848:\tlearn: 0.0313300\ttotal: 6m 46s\tremaining: 2m 47s\n",
      "849:\tlearn: 0.0312819\ttotal: 6m 46s\tremaining: 2m 47s\n",
      "850:\tlearn: 0.0312378\ttotal: 6m 47s\tremaining: 2m 47s\n",
      "851:\tlearn: 0.0312182\ttotal: 6m 47s\tremaining: 2m 46s\n",
      "852:\tlearn: 0.0311607\ttotal: 6m 48s\tremaining: 2m 46s\n",
      "853:\tlearn: 0.0311271\ttotal: 6m 48s\tremaining: 2m 45s\n",
      "854:\tlearn: 0.0310846\ttotal: 6m 48s\tremaining: 2m 45s\n",
      "855:\tlearn: 0.0310209\ttotal: 6m 49s\tremaining: 2m 44s\n",
      "856:\tlearn: 0.0310033\ttotal: 6m 49s\tremaining: 2m 44s\n",
      "857:\tlearn: 0.0309677\ttotal: 6m 50s\tremaining: 2m 43s\n",
      "858:\tlearn: 0.0309465\ttotal: 6m 50s\tremaining: 2m 43s\n",
      "859:\tlearn: 0.0309269\ttotal: 6m 51s\tremaining: 2m 42s\n",
      "860:\tlearn: 0.0308826\ttotal: 6m 51s\tremaining: 2m 42s\n",
      "861:\tlearn: 0.0308488\ttotal: 6m 52s\tremaining: 2m 41s\n",
      "862:\tlearn: 0.0308017\ttotal: 6m 52s\tremaining: 2m 41s\n",
      "863:\tlearn: 0.0307048\ttotal: 6m 53s\tremaining: 2m 40s\n",
      "864:\tlearn: 0.0306567\ttotal: 6m 53s\tremaining: 2m 40s\n",
      "865:\tlearn: 0.0306448\ttotal: 6m 54s\tremaining: 2m 39s\n",
      "866:\tlearn: 0.0306241\ttotal: 6m 54s\tremaining: 2m 39s\n",
      "867:\tlearn: 0.0306088\ttotal: 6m 54s\tremaining: 2m 38s\n",
      "868:\tlearn: 0.0305620\ttotal: 6m 55s\tremaining: 2m 38s\n",
      "869:\tlearn: 0.0305156\ttotal: 6m 55s\tremaining: 2m 37s\n",
      "870:\tlearn: 0.0304551\ttotal: 6m 56s\tremaining: 2m 37s\n",
      "871:\tlearn: 0.0304301\ttotal: 6m 56s\tremaining: 2m 36s\n",
      "872:\tlearn: 0.0304017\ttotal: 6m 57s\tremaining: 2m 36s\n",
      "873:\tlearn: 0.0303850\ttotal: 6m 57s\tremaining: 2m 35s\n",
      "874:\tlearn: 0.0303584\ttotal: 6m 58s\tremaining: 2m 35s\n",
      "875:\tlearn: 0.0303279\ttotal: 6m 58s\tremaining: 2m 34s\n",
      "876:\tlearn: 0.0302877\ttotal: 6m 59s\tremaining: 2m 34s\n",
      "877:\tlearn: 0.0302566\ttotal: 6m 59s\tremaining: 2m 33s\n",
      "878:\tlearn: 0.0302336\ttotal: 6m 59s\tremaining: 2m 33s\n",
      "879:\tlearn: 0.0302219\ttotal: 7m\tremaining: 2m 32s\n",
      "880:\tlearn: 0.0301882\ttotal: 7m\tremaining: 2m 32s\n",
      "881:\tlearn: 0.0301632\ttotal: 7m 1s\tremaining: 2m 31s\n",
      "882:\tlearn: 0.0301431\ttotal: 7m 1s\tremaining: 2m 31s\n",
      "883:\tlearn: 0.0300448\ttotal: 7m 2s\tremaining: 2m 30s\n",
      "884:\tlearn: 0.0299885\ttotal: 7m 2s\tremaining: 2m 30s\n",
      "885:\tlearn: 0.0299623\ttotal: 7m 3s\tremaining: 2m 29s\n",
      "886:\tlearn: 0.0299077\ttotal: 7m 3s\tremaining: 2m 29s\n",
      "887:\tlearn: 0.0298669\ttotal: 7m 4s\tremaining: 2m 29s\n",
      "888:\tlearn: 0.0298425\ttotal: 7m 4s\tremaining: 2m 28s\n",
      "889:\tlearn: 0.0297785\ttotal: 7m 5s\tremaining: 2m 28s\n",
      "890:\tlearn: 0.0297403\ttotal: 7m 5s\tremaining: 2m 27s\n",
      "891:\tlearn: 0.0297115\ttotal: 7m 6s\tremaining: 2m 27s\n",
      "892:\tlearn: 0.0296925\ttotal: 7m 6s\tremaining: 2m 26s\n",
      "893:\tlearn: 0.0296729\ttotal: 7m 7s\tremaining: 2m 26s\n",
      "894:\tlearn: 0.0296529\ttotal: 7m 7s\tremaining: 2m 25s\n",
      "895:\tlearn: 0.0296318\ttotal: 7m 8s\tremaining: 2m 25s\n",
      "896:\tlearn: 0.0295983\ttotal: 7m 8s\tremaining: 2m 24s\n",
      "897:\tlearn: 0.0295543\ttotal: 7m 9s\tremaining: 2m 24s\n",
      "898:\tlearn: 0.0295239\ttotal: 7m 9s\tremaining: 2m 23s\n",
      "899:\tlearn: 0.0294790\ttotal: 7m 9s\tremaining: 2m 23s\n",
      "900:\tlearn: 0.0294503\ttotal: 7m 10s\tremaining: 2m 22s\n",
      "901:\tlearn: 0.0294232\ttotal: 7m 10s\tremaining: 2m 22s\n",
      "902:\tlearn: 0.0293918\ttotal: 7m 11s\tremaining: 2m 21s\n",
      "903:\tlearn: 0.0293595\ttotal: 7m 11s\tremaining: 2m 21s\n",
      "904:\tlearn: 0.0293442\ttotal: 7m 12s\tremaining: 2m 20s\n",
      "905:\tlearn: 0.0293060\ttotal: 7m 12s\tremaining: 2m 20s\n",
      "906:\tlearn: 0.0292591\ttotal: 7m 13s\tremaining: 2m 19s\n",
      "907:\tlearn: 0.0292132\ttotal: 7m 13s\tremaining: 2m 19s\n",
      "908:\tlearn: 0.0291895\ttotal: 7m 13s\tremaining: 2m 18s\n",
      "909:\tlearn: 0.0291772\ttotal: 7m 14s\tremaining: 2m 18s\n",
      "910:\tlearn: 0.0291295\ttotal: 7m 14s\tremaining: 2m 17s\n",
      "911:\tlearn: 0.0291195\ttotal: 7m 15s\tremaining: 2m 17s\n",
      "912:\tlearn: 0.0290881\ttotal: 7m 15s\tremaining: 2m 17s\n",
      "913:\tlearn: 0.0290545\ttotal: 7m 16s\tremaining: 2m 16s\n",
      "914:\tlearn: 0.0290300\ttotal: 7m 16s\tremaining: 2m 16s\n",
      "915:\tlearn: 0.0289959\ttotal: 7m 17s\tremaining: 2m 15s\n",
      "916:\tlearn: 0.0289805\ttotal: 7m 17s\tremaining: 2m 15s\n",
      "917:\tlearn: 0.0289362\ttotal: 7m 18s\tremaining: 2m 14s\n",
      "918:\tlearn: 0.0289040\ttotal: 7m 18s\tremaining: 2m 14s\n",
      "919:\tlearn: 0.0288639\ttotal: 7m 19s\tremaining: 2m 13s\n",
      "920:\tlearn: 0.0288393\ttotal: 7m 19s\tremaining: 2m 13s\n",
      "921:\tlearn: 0.0287951\ttotal: 7m 20s\tremaining: 2m 12s\n",
      "922:\tlearn: 0.0287604\ttotal: 7m 20s\tremaining: 2m 12s\n",
      "923:\tlearn: 0.0287336\ttotal: 7m 21s\tremaining: 2m 11s\n",
      "924:\tlearn: 0.0287231\ttotal: 7m 21s\tremaining: 2m 11s\n"
     ]
    },
    {
     "name": "stdout",
     "output_type": "stream",
     "text": [
      "925:\tlearn: 0.0287084\ttotal: 7m 22s\tremaining: 2m 10s\n",
      "926:\tlearn: 0.0286908\ttotal: 7m 22s\tremaining: 2m 10s\n",
      "927:\tlearn: 0.0286551\ttotal: 7m 23s\tremaining: 2m 9s\n",
      "928:\tlearn: 0.0285938\ttotal: 7m 23s\tremaining: 2m 9s\n",
      "929:\tlearn: 0.0285684\ttotal: 7m 24s\tremaining: 2m 8s\n",
      "930:\tlearn: 0.0285400\ttotal: 7m 24s\tremaining: 2m 8s\n",
      "931:\tlearn: 0.0285207\ttotal: 7m 24s\tremaining: 2m 7s\n",
      "932:\tlearn: 0.0284787\ttotal: 7m 25s\tremaining: 2m 7s\n",
      "933:\tlearn: 0.0284197\ttotal: 7m 25s\tremaining: 2m 6s\n",
      "934:\tlearn: 0.0283813\ttotal: 7m 26s\tremaining: 2m 6s\n",
      "935:\tlearn: 0.0283466\ttotal: 7m 26s\tremaining: 2m 6s\n",
      "936:\tlearn: 0.0283154\ttotal: 7m 27s\tremaining: 2m 5s\n",
      "937:\tlearn: 0.0282587\ttotal: 7m 27s\tremaining: 2m 5s\n",
      "938:\tlearn: 0.0281995\ttotal: 7m 28s\tremaining: 2m 4s\n",
      "939:\tlearn: 0.0281665\ttotal: 7m 28s\tremaining: 2m 4s\n",
      "940:\tlearn: 0.0281399\ttotal: 7m 28s\tremaining: 2m 3s\n",
      "941:\tlearn: 0.0281081\ttotal: 7m 29s\tremaining: 2m 3s\n",
      "942:\tlearn: 0.0280636\ttotal: 7m 29s\tremaining: 2m 2s\n",
      "943:\tlearn: 0.0280229\ttotal: 7m 30s\tremaining: 2m 2s\n",
      "944:\tlearn: 0.0280063\ttotal: 7m 30s\tremaining: 2m 1s\n",
      "945:\tlearn: 0.0279584\ttotal: 7m 31s\tremaining: 2m 1s\n",
      "946:\tlearn: 0.0279277\ttotal: 7m 31s\tremaining: 2m\n",
      "947:\tlearn: 0.0278941\ttotal: 7m 32s\tremaining: 2m\n",
      "948:\tlearn: 0.0278638\ttotal: 7m 32s\tremaining: 1m 59s\n",
      "949:\tlearn: 0.0278199\ttotal: 7m 32s\tremaining: 1m 59s\n",
      "950:\tlearn: 0.0277657\ttotal: 7m 33s\tremaining: 1m 58s\n",
      "951:\tlearn: 0.0277113\ttotal: 7m 33s\tremaining: 1m 58s\n",
      "952:\tlearn: 0.0276846\ttotal: 7m 34s\tremaining: 1m 57s\n",
      "953:\tlearn: 0.0276724\ttotal: 7m 34s\tremaining: 1m 57s\n",
      "954:\tlearn: 0.0276369\ttotal: 7m 35s\tremaining: 1m 56s\n",
      "955:\tlearn: 0.0276195\ttotal: 7m 35s\tremaining: 1m 56s\n",
      "956:\tlearn: 0.0275978\ttotal: 7m 36s\tremaining: 1m 55s\n",
      "957:\tlearn: 0.0275822\ttotal: 7m 36s\tremaining: 1m 55s\n",
      "958:\tlearn: 0.0275604\ttotal: 7m 37s\tremaining: 1m 54s\n",
      "959:\tlearn: 0.0275464\ttotal: 7m 37s\tremaining: 1m 54s\n",
      "960:\tlearn: 0.0275224\ttotal: 7m 37s\tremaining: 1m 53s\n",
      "961:\tlearn: 0.0275017\ttotal: 7m 38s\tremaining: 1m 53s\n",
      "962:\tlearn: 0.0274789\ttotal: 7m 38s\tremaining: 1m 52s\n",
      "963:\tlearn: 0.0274487\ttotal: 7m 39s\tremaining: 1m 52s\n",
      "964:\tlearn: 0.0274299\ttotal: 7m 39s\tremaining: 1m 51s\n",
      "965:\tlearn: 0.0273680\ttotal: 7m 40s\tremaining: 1m 51s\n",
      "966:\tlearn: 0.0273528\ttotal: 7m 40s\tremaining: 1m 50s\n",
      "967:\tlearn: 0.0273124\ttotal: 7m 41s\tremaining: 1m 50s\n",
      "968:\tlearn: 0.0272849\ttotal: 7m 41s\tremaining: 1m 50s\n",
      "969:\tlearn: 0.0272394\ttotal: 7m 41s\tremaining: 1m 49s\n",
      "970:\tlearn: 0.0272227\ttotal: 7m 42s\tremaining: 1m 49s\n",
      "971:\tlearn: 0.0271852\ttotal: 7m 42s\tremaining: 1m 48s\n",
      "972:\tlearn: 0.0271452\ttotal: 7m 43s\tremaining: 1m 48s\n",
      "973:\tlearn: 0.0271115\ttotal: 7m 43s\tremaining: 1m 47s\n",
      "974:\tlearn: 0.0271040\ttotal: 7m 44s\tremaining: 1m 47s\n",
      "975:\tlearn: 0.0270887\ttotal: 7m 44s\tremaining: 1m 46s\n",
      "976:\tlearn: 0.0270730\ttotal: 7m 44s\tremaining: 1m 46s\n",
      "977:\tlearn: 0.0270415\ttotal: 7m 45s\tremaining: 1m 45s\n",
      "978:\tlearn: 0.0270030\ttotal: 7m 45s\tremaining: 1m 45s\n",
      "979:\tlearn: 0.0269657\ttotal: 7m 46s\tremaining: 1m 44s\n",
      "980:\tlearn: 0.0269542\ttotal: 7m 46s\tremaining: 1m 44s\n",
      "981:\tlearn: 0.0269269\ttotal: 7m 47s\tremaining: 1m 43s\n",
      "982:\tlearn: 0.0269048\ttotal: 7m 47s\tremaining: 1m 43s\n",
      "983:\tlearn: 0.0268761\ttotal: 7m 47s\tremaining: 1m 42s\n",
      "984:\tlearn: 0.0268382\ttotal: 7m 48s\tremaining: 1m 42s\n",
      "985:\tlearn: 0.0268273\ttotal: 7m 48s\tremaining: 1m 41s\n",
      "986:\tlearn: 0.0267996\ttotal: 7m 49s\tremaining: 1m 41s\n",
      "987:\tlearn: 0.0267707\ttotal: 7m 49s\tremaining: 1m 40s\n",
      "988:\tlearn: 0.0267342\ttotal: 7m 50s\tremaining: 1m 40s\n",
      "989:\tlearn: 0.0266915\ttotal: 7m 50s\tremaining: 1m 39s\n",
      "990:\tlearn: 0.0266279\ttotal: 7m 51s\tremaining: 1m 39s\n",
      "991:\tlearn: 0.0266099\ttotal: 7m 51s\tremaining: 1m 38s\n",
      "992:\tlearn: 0.0265649\ttotal: 7m 52s\tremaining: 1m 38s\n",
      "993:\tlearn: 0.0265119\ttotal: 7m 52s\tremaining: 1m 37s\n",
      "994:\tlearn: 0.0264747\ttotal: 7m 52s\tremaining: 1m 37s\n",
      "995:\tlearn: 0.0264254\ttotal: 7m 53s\tremaining: 1m 36s\n",
      "996:\tlearn: 0.0264070\ttotal: 7m 53s\tremaining: 1m 36s\n",
      "997:\tlearn: 0.0263881\ttotal: 7m 54s\tremaining: 1m 36s\n",
      "998:\tlearn: 0.0263704\ttotal: 7m 54s\tremaining: 1m 35s\n",
      "999:\tlearn: 0.0263421\ttotal: 7m 55s\tremaining: 1m 35s\n",
      "1000:\tlearn: 0.0263173\ttotal: 7m 55s\tremaining: 1m 34s\n",
      "1001:\tlearn: 0.0262852\ttotal: 7m 55s\tremaining: 1m 34s\n",
      "1002:\tlearn: 0.0262618\ttotal: 7m 56s\tremaining: 1m 33s\n",
      "1003:\tlearn: 0.0262449\ttotal: 7m 57s\tremaining: 1m 33s\n",
      "1004:\tlearn: 0.0262275\ttotal: 7m 57s\tremaining: 1m 32s\n",
      "1005:\tlearn: 0.0262041\ttotal: 7m 57s\tremaining: 1m 32s\n",
      "1006:\tlearn: 0.0261816\ttotal: 7m 58s\tremaining: 1m 31s\n",
      "1007:\tlearn: 0.0261593\ttotal: 7m 58s\tremaining: 1m 31s\n",
      "1008:\tlearn: 0.0261241\ttotal: 7m 59s\tremaining: 1m 30s\n",
      "1009:\tlearn: 0.0260924\ttotal: 7m 59s\tremaining: 1m 30s\n",
      "1010:\tlearn: 0.0260681\ttotal: 8m\tremaining: 1m 29s\n",
      "1011:\tlearn: 0.0260339\ttotal: 8m\tremaining: 1m 29s\n",
      "1012:\tlearn: 0.0260210\ttotal: 8m\tremaining: 1m 28s\n",
      "1013:\tlearn: 0.0260015\ttotal: 8m 1s\tremaining: 1m 28s\n",
      "1014:\tlearn: 0.0259855\ttotal: 8m 1s\tremaining: 1m 27s\n",
      "1015:\tlearn: 0.0259545\ttotal: 8m 2s\tremaining: 1m 27s\n",
      "1016:\tlearn: 0.0259235\ttotal: 8m 2s\tremaining: 1m 26s\n",
      "1017:\tlearn: 0.0259069\ttotal: 8m 3s\tremaining: 1m 26s\n",
      "1018:\tlearn: 0.0258787\ttotal: 8m 3s\tremaining: 1m 25s\n",
      "1019:\tlearn: 0.0258562\ttotal: 8m 4s\tremaining: 1m 25s\n",
      "1020:\tlearn: 0.0258102\ttotal: 8m 4s\tremaining: 1m 24s\n",
      "1021:\tlearn: 0.0257748\ttotal: 8m 5s\tremaining: 1m 24s\n",
      "1022:\tlearn: 0.0257600\ttotal: 8m 5s\tremaining: 1m 24s\n",
      "1023:\tlearn: 0.0257107\ttotal: 8m 6s\tremaining: 1m 23s\n",
      "1024:\tlearn: 0.0256945\ttotal: 8m 6s\tremaining: 1m 23s\n",
      "1025:\tlearn: 0.0256633\ttotal: 8m 7s\tremaining: 1m 22s\n",
      "1026:\tlearn: 0.0256347\ttotal: 8m 7s\tremaining: 1m 22s\n",
      "1027:\tlearn: 0.0255909\ttotal: 8m 7s\tremaining: 1m 21s\n",
      "1028:\tlearn: 0.0255751\ttotal: 8m 8s\tremaining: 1m 21s\n",
      "1029:\tlearn: 0.0255588\ttotal: 8m 8s\tremaining: 1m 20s\n",
      "1030:\tlearn: 0.0255325\ttotal: 8m 9s\tremaining: 1m 20s\n",
      "1031:\tlearn: 0.0255114\ttotal: 8m 9s\tremaining: 1m 19s\n",
      "1032:\tlearn: 0.0254470\ttotal: 8m 10s\tremaining: 1m 19s\n",
      "1033:\tlearn: 0.0254290\ttotal: 8m 10s\tremaining: 1m 18s\n",
      "1034:\tlearn: 0.0254033\ttotal: 8m 10s\tremaining: 1m 18s\n",
      "1035:\tlearn: 0.0253576\ttotal: 8m 11s\tremaining: 1m 17s\n",
      "1036:\tlearn: 0.0253178\ttotal: 8m 11s\tremaining: 1m 17s\n",
      "1037:\tlearn: 0.0253029\ttotal: 8m 12s\tremaining: 1m 16s\n",
      "1038:\tlearn: 0.0252796\ttotal: 8m 12s\tremaining: 1m 16s\n",
      "1039:\tlearn: 0.0252574\ttotal: 8m 13s\tremaining: 1m 15s\n",
      "1040:\tlearn: 0.0252369\ttotal: 8m 13s\tremaining: 1m 15s\n",
      "1041:\tlearn: 0.0251537\ttotal: 8m 14s\tremaining: 1m 14s\n",
      "1042:\tlearn: 0.0251298\ttotal: 8m 14s\tremaining: 1m 14s\n",
      "1043:\tlearn: 0.0251195\ttotal: 8m 14s\tremaining: 1m 13s\n",
      "1044:\tlearn: 0.0250906\ttotal: 8m 15s\tremaining: 1m 13s\n",
      "1045:\tlearn: 0.0250568\ttotal: 8m 15s\tremaining: 1m 12s\n",
      "1046:\tlearn: 0.0249864\ttotal: 8m 16s\tremaining: 1m 12s\n",
      "1047:\tlearn: 0.0249507\ttotal: 8m 16s\tremaining: 1m 12s\n",
      "1048:\tlearn: 0.0249303\ttotal: 8m 17s\tremaining: 1m 11s\n",
      "1049:\tlearn: 0.0248985\ttotal: 8m 17s\tremaining: 1m 11s\n",
      "1050:\tlearn: 0.0248807\ttotal: 8m 18s\tremaining: 1m 10s\n",
      "1051:\tlearn: 0.0248608\ttotal: 8m 18s\tremaining: 1m 10s\n",
      "1052:\tlearn: 0.0248013\ttotal: 8m 19s\tremaining: 1m 9s\n",
      "1053:\tlearn: 0.0247661\ttotal: 8m 19s\tremaining: 1m 9s\n",
      "1054:\tlearn: 0.0247431\ttotal: 8m 19s\tremaining: 1m 8s\n",
      "1055:\tlearn: 0.0247088\ttotal: 8m 20s\tremaining: 1m 8s\n",
      "1056:\tlearn: 0.0246752\ttotal: 8m 20s\tremaining: 1m 7s\n",
      "1057:\tlearn: 0.0246615\ttotal: 8m 21s\tremaining: 1m 7s\n",
      "1058:\tlearn: 0.0246496\ttotal: 8m 21s\tremaining: 1m 6s\n",
      "1059:\tlearn: 0.0246274\ttotal: 8m 22s\tremaining: 1m 6s\n",
      "1060:\tlearn: 0.0246006\ttotal: 8m 22s\tremaining: 1m 5s\n",
      "1061:\tlearn: 0.0245648\ttotal: 8m 23s\tremaining: 1m 5s\n",
      "1062:\tlearn: 0.0245405\ttotal: 8m 23s\tremaining: 1m 4s\n",
      "1063:\tlearn: 0.0245315\ttotal: 8m 24s\tremaining: 1m 4s\n",
      "1064:\tlearn: 0.0245140\ttotal: 8m 25s\tremaining: 1m 4s\n",
      "1065:\tlearn: 0.0244939\ttotal: 8m 26s\tremaining: 1m 3s\n",
      "1066:\tlearn: 0.0244610\ttotal: 8m 27s\tremaining: 1m 3s\n",
      "1067:\tlearn: 0.0244369\ttotal: 8m 27s\tremaining: 1m 2s\n",
      "1068:\tlearn: 0.0244308\ttotal: 8m 28s\tremaining: 1m 2s\n",
      "1069:\tlearn: 0.0244031\ttotal: 8m 29s\tremaining: 1m 1s\n",
      "1070:\tlearn: 0.0243942\ttotal: 8m 29s\tremaining: 1m 1s\n",
      "1071:\tlearn: 0.0243839\ttotal: 8m 30s\tremaining: 1m\n",
      "1072:\tlearn: 0.0243726\ttotal: 8m 30s\tremaining: 1m\n",
      "1073:\tlearn: 0.0243701\ttotal: 8m 31s\tremaining: 60s\n",
      "1074:\tlearn: 0.0243619\ttotal: 8m 31s\tremaining: 59.5s\n",
      "1075:\tlearn: 0.0243386\ttotal: 8m 31s\tremaining: 59s\n",
      "1076:\tlearn: 0.0243173\ttotal: 8m 32s\tremaining: 58.5s\n",
      "1077:\tlearn: 0.0243009\ttotal: 8m 32s\tremaining: 58s\n"
     ]
    },
    {
     "name": "stdout",
     "output_type": "stream",
     "text": [
      "1078:\tlearn: 0.0242732\ttotal: 8m 33s\tremaining: 57.6s\n",
      "1079:\tlearn: 0.0242393\ttotal: 8m 33s\tremaining: 57.1s\n",
      "1080:\tlearn: 0.0242268\ttotal: 8m 34s\tremaining: 56.6s\n",
      "1081:\tlearn: 0.0242068\ttotal: 8m 34s\tremaining: 56.1s\n",
      "1082:\tlearn: 0.0241865\ttotal: 8m 35s\tremaining: 55.7s\n",
      "1083:\tlearn: 0.0241459\ttotal: 8m 35s\tremaining: 55.2s\n",
      "1084:\tlearn: 0.0241065\ttotal: 8m 36s\tremaining: 54.7s\n",
      "1085:\tlearn: 0.0240885\ttotal: 8m 36s\tremaining: 54.2s\n",
      "1086:\tlearn: 0.0240612\ttotal: 8m 37s\tremaining: 53.7s\n",
      "1087:\tlearn: 0.0240386\ttotal: 8m 37s\tremaining: 53.3s\n",
      "1088:\tlearn: 0.0240155\ttotal: 8m 37s\tremaining: 52.8s\n",
      "1089:\tlearn: 0.0240027\ttotal: 8m 38s\tremaining: 52.3s\n",
      "1090:\tlearn: 0.0239815\ttotal: 8m 38s\tremaining: 51.8s\n",
      "1091:\tlearn: 0.0239502\ttotal: 8m 39s\tremaining: 51.4s\n",
      "1092:\tlearn: 0.0239170\ttotal: 8m 39s\tremaining: 50.9s\n",
      "1093:\tlearn: 0.0238895\ttotal: 8m 40s\tremaining: 50.4s\n",
      "1094:\tlearn: 0.0238562\ttotal: 8m 40s\tremaining: 49.9s\n",
      "1095:\tlearn: 0.0237993\ttotal: 8m 41s\tremaining: 49.5s\n",
      "1096:\tlearn: 0.0237858\ttotal: 8m 41s\tremaining: 49s\n",
      "1097:\tlearn: 0.0237530\ttotal: 8m 42s\tremaining: 48.5s\n",
      "1098:\tlearn: 0.0237085\ttotal: 8m 42s\tremaining: 48s\n",
      "1099:\tlearn: 0.0236546\ttotal: 8m 43s\tremaining: 47.6s\n",
      "1100:\tlearn: 0.0236268\ttotal: 8m 43s\tremaining: 47.1s\n",
      "1101:\tlearn: 0.0235994\ttotal: 8m 43s\tremaining: 46.6s\n",
      "1102:\tlearn: 0.0235830\ttotal: 8m 44s\tremaining: 46.1s\n",
      "1103:\tlearn: 0.0235764\ttotal: 8m 44s\tremaining: 45.6s\n",
      "1104:\tlearn: 0.0235492\ttotal: 8m 45s\tremaining: 45.2s\n",
      "1105:\tlearn: 0.0235139\ttotal: 8m 45s\tremaining: 44.7s\n",
      "1106:\tlearn: 0.0234885\ttotal: 8m 46s\tremaining: 44.2s\n",
      "1107:\tlearn: 0.0234435\ttotal: 8m 46s\tremaining: 43.7s\n",
      "1108:\tlearn: 0.0234075\ttotal: 8m 46s\tremaining: 43.2s\n",
      "1109:\tlearn: 0.0233509\ttotal: 8m 47s\tremaining: 42.8s\n",
      "1110:\tlearn: 0.0233240\ttotal: 8m 47s\tremaining: 42.3s\n",
      "1111:\tlearn: 0.0232922\ttotal: 8m 48s\tremaining: 41.8s\n",
      "1112:\tlearn: 0.0232617\ttotal: 8m 48s\tremaining: 41.3s\n",
      "1113:\tlearn: 0.0232314\ttotal: 8m 49s\tremaining: 40.9s\n",
      "1114:\tlearn: 0.0232102\ttotal: 8m 49s\tremaining: 40.4s\n",
      "1115:\tlearn: 0.0231884\ttotal: 8m 50s\tremaining: 39.9s\n",
      "1116:\tlearn: 0.0231537\ttotal: 8m 50s\tremaining: 39.4s\n",
      "1117:\tlearn: 0.0231404\ttotal: 8m 51s\tremaining: 39s\n",
      "1118:\tlearn: 0.0231170\ttotal: 8m 51s\tremaining: 38.5s\n",
      "1119:\tlearn: 0.0230890\ttotal: 8m 52s\tremaining: 38s\n",
      "1120:\tlearn: 0.0230714\ttotal: 8m 52s\tremaining: 37.5s\n",
      "1121:\tlearn: 0.0230327\ttotal: 8m 52s\tremaining: 37s\n",
      "1122:\tlearn: 0.0230132\ttotal: 8m 53s\tremaining: 36.6s\n",
      "1123:\tlearn: 0.0229962\ttotal: 8m 53s\tremaining: 36.1s\n",
      "1124:\tlearn: 0.0229723\ttotal: 8m 54s\tremaining: 35.6s\n",
      "1125:\tlearn: 0.0229581\ttotal: 8m 54s\tremaining: 35.1s\n",
      "1126:\tlearn: 0.0229221\ttotal: 8m 55s\tremaining: 34.7s\n",
      "1127:\tlearn: 0.0229055\ttotal: 8m 55s\tremaining: 34.2s\n",
      "1128:\tlearn: 0.0228949\ttotal: 8m 56s\tremaining: 33.7s\n",
      "1129:\tlearn: 0.0228776\ttotal: 8m 56s\tremaining: 33.2s\n",
      "1130:\tlearn: 0.0228437\ttotal: 8m 57s\tremaining: 32.8s\n",
      "1131:\tlearn: 0.0228123\ttotal: 8m 57s\tremaining: 32.3s\n",
      "1132:\tlearn: 0.0227762\ttotal: 8m 57s\tremaining: 31.8s\n",
      "1133:\tlearn: 0.0227501\ttotal: 8m 58s\tremaining: 31.3s\n",
      "1134:\tlearn: 0.0227066\ttotal: 8m 58s\tremaining: 30.9s\n",
      "1135:\tlearn: 0.0226506\ttotal: 8m 59s\tremaining: 30.4s\n",
      "1136:\tlearn: 0.0226147\ttotal: 8m 59s\tremaining: 29.9s\n",
      "1137:\tlearn: 0.0225773\ttotal: 9m\tremaining: 29.4s\n",
      "1138:\tlearn: 0.0225679\ttotal: 9m\tremaining: 28.9s\n",
      "1139:\tlearn: 0.0225337\ttotal: 9m 1s\tremaining: 28.5s\n",
      "1140:\tlearn: 0.0225024\ttotal: 9m 1s\tremaining: 28s\n",
      "1141:\tlearn: 0.0224926\ttotal: 9m 1s\tremaining: 27.5s\n",
      "1142:\tlearn: 0.0224627\ttotal: 9m 2s\tremaining: 27s\n",
      "1143:\tlearn: 0.0224421\ttotal: 9m 2s\tremaining: 26.6s\n",
      "1144:\tlearn: 0.0224099\ttotal: 9m 3s\tremaining: 26.1s\n",
      "1145:\tlearn: 0.0224099\ttotal: 9m 3s\tremaining: 25.6s\n",
      "1146:\tlearn: 0.0223954\ttotal: 9m 3s\tremaining: 25.1s\n",
      "1147:\tlearn: 0.0223953\ttotal: 9m 4s\tremaining: 24.7s\n",
      "1148:\tlearn: 0.0223875\ttotal: 9m 4s\tremaining: 24.2s\n",
      "1149:\tlearn: 0.0223628\ttotal: 9m 5s\tremaining: 23.7s\n",
      "1150:\tlearn: 0.0223441\ttotal: 9m 5s\tremaining: 23.2s\n",
      "1151:\tlearn: 0.0223197\ttotal: 9m 6s\tremaining: 22.8s\n",
      "1152:\tlearn: 0.0223101\ttotal: 9m 6s\tremaining: 22.3s\n",
      "1153:\tlearn: 0.0222916\ttotal: 9m 6s\tremaining: 21.8s\n",
      "1154:\tlearn: 0.0222756\ttotal: 9m 7s\tremaining: 21.3s\n",
      "1155:\tlearn: 0.0222572\ttotal: 9m 7s\tremaining: 20.9s\n",
      "1156:\tlearn: 0.0222337\ttotal: 9m 8s\tremaining: 20.4s\n",
      "1157:\tlearn: 0.0222036\ttotal: 9m 8s\tremaining: 19.9s\n",
      "1158:\tlearn: 0.0221940\ttotal: 9m 9s\tremaining: 19.4s\n",
      "1159:\tlearn: 0.0221648\ttotal: 9m 9s\tremaining: 19s\n",
      "1160:\tlearn: 0.0221326\ttotal: 9m 10s\tremaining: 18.5s\n",
      "1161:\tlearn: 0.0221073\ttotal: 9m 10s\tremaining: 18s\n",
      "1162:\tlearn: 0.0220959\ttotal: 9m 10s\tremaining: 17.5s\n",
      "1163:\tlearn: 0.0220735\ttotal: 9m 11s\tremaining: 17.1s\n",
      "1164:\tlearn: 0.0220634\ttotal: 9m 11s\tremaining: 16.6s\n",
      "1165:\tlearn: 0.0220320\ttotal: 9m 12s\tremaining: 16.1s\n",
      "1166:\tlearn: 0.0220135\ttotal: 9m 12s\tremaining: 15.6s\n",
      "1167:\tlearn: 0.0220010\ttotal: 9m 13s\tremaining: 15.2s\n",
      "1168:\tlearn: 0.0219820\ttotal: 9m 13s\tremaining: 14.7s\n",
      "1169:\tlearn: 0.0219372\ttotal: 9m 14s\tremaining: 14.2s\n",
      "1170:\tlearn: 0.0218987\ttotal: 9m 14s\tremaining: 13.7s\n",
      "1171:\tlearn: 0.0218853\ttotal: 9m 14s\tremaining: 13.3s\n",
      "1172:\tlearn: 0.0218590\ttotal: 9m 15s\tremaining: 12.8s\n",
      "1173:\tlearn: 0.0218464\ttotal: 9m 15s\tremaining: 12.3s\n",
      "1174:\tlearn: 0.0218190\ttotal: 9m 16s\tremaining: 11.8s\n",
      "1175:\tlearn: 0.0217936\ttotal: 9m 16s\tremaining: 11.4s\n",
      "1176:\tlearn: 0.0217670\ttotal: 9m 17s\tremaining: 10.9s\n",
      "1177:\tlearn: 0.0217499\ttotal: 9m 17s\tremaining: 10.4s\n",
      "1178:\tlearn: 0.0217323\ttotal: 9m 18s\tremaining: 9.94s\n",
      "1179:\tlearn: 0.0217102\ttotal: 9m 18s\tremaining: 9.47s\n",
      "1180:\tlearn: 0.0216381\ttotal: 9m 19s\tremaining: 8.99s\n",
      "1181:\tlearn: 0.0215692\ttotal: 9m 19s\tremaining: 8.52s\n",
      "1182:\tlearn: 0.0215303\ttotal: 9m 19s\tremaining: 8.05s\n",
      "1183:\tlearn: 0.0214901\ttotal: 9m 20s\tremaining: 7.57s\n",
      "1184:\tlearn: 0.0214504\ttotal: 9m 20s\tremaining: 7.1s\n",
      "1185:\tlearn: 0.0214332\ttotal: 9m 21s\tremaining: 6.63s\n",
      "1186:\tlearn: 0.0214013\ttotal: 9m 21s\tremaining: 6.15s\n",
      "1187:\tlearn: 0.0213566\ttotal: 9m 22s\tremaining: 5.68s\n",
      "1188:\tlearn: 0.0213307\ttotal: 9m 23s\tremaining: 5.21s\n",
      "1189:\tlearn: 0.0213084\ttotal: 9m 23s\tremaining: 4.74s\n",
      "1190:\tlearn: 0.0212670\ttotal: 9m 23s\tremaining: 4.26s\n",
      "1191:\tlearn: 0.0212497\ttotal: 9m 24s\tremaining: 3.79s\n",
      "1192:\tlearn: 0.0212312\ttotal: 9m 24s\tremaining: 3.31s\n",
      "1193:\tlearn: 0.0212216\ttotal: 9m 25s\tremaining: 2.84s\n",
      "1194:\tlearn: 0.0212216\ttotal: 9m 25s\tremaining: 2.37s\n",
      "1195:\tlearn: 0.0212104\ttotal: 9m 26s\tremaining: 1.89s\n",
      "1196:\tlearn: 0.0211959\ttotal: 9m 26s\tremaining: 1.42s\n",
      "1197:\tlearn: 0.0211959\ttotal: 9m 27s\tremaining: 947ms\n",
      "1198:\tlearn: 0.0211959\ttotal: 9m 27s\tremaining: 473ms\n",
      "1199:\tlearn: 0.0211938\ttotal: 9m 27s\tremaining: 0us\n"
     ]
    },
    {
     "data": {
      "text/plain": [
       "<catboost.core.CatBoostClassifier at 0x21425cd5250>"
      ]
     },
     "execution_count": 1334,
     "metadata": {},
     "output_type": "execute_result"
    }
   ],
   "source": [
    "full_model=CatBoostClassifier(iterations=1200, depth = 10,learning_rate=0.06) \n",
    "full_model.fit(X,y)"
   ]
  },
  {
   "cell_type": "code",
   "execution_count": null,
   "metadata": {},
   "outputs": [],
   "source": [
    "#df_test"
   ]
  },
  {
   "cell_type": "code",
   "execution_count": 119,
   "metadata": {},
   "outputs": [],
   "source": [
    "#df_test=df_test.drop(['DepartureDelay_in_Mins'],axis=1)"
   ]
  },
  {
   "cell_type": "code",
   "execution_count": 1335,
   "metadata": {},
   "outputs": [
    {
     "data": {
      "text/plain": [
       "(35602, 23)"
      ]
     },
     "execution_count": 1335,
     "metadata": {},
     "output_type": "execute_result"
    }
   ],
   "source": [
    "df_test.shape"
   ]
  },
  {
   "cell_type": "code",
   "execution_count": 1336,
   "metadata": {},
   "outputs": [
    {
     "data": {
      "text/plain": [
       "array([1, 1, 1, ..., 1, 1, 0], dtype=int64)"
      ]
     },
     "execution_count": 1336,
     "metadata": {},
     "output_type": "execute_result"
    }
   ],
   "source": [
    "final_predictions = full_model.predict(df_test)\n",
    "final_predictions"
   ]
  },
  {
   "cell_type": "code",
   "execution_count": 1337,
   "metadata": {},
   "outputs": [],
   "source": [
    "submission=pd.DataFrame([test_file_ids,final_predictions]).T"
   ]
  },
  {
   "cell_type": "code",
   "execution_count": 1339,
   "metadata": {},
   "outputs": [],
   "source": [
    "submission.rename(columns={\"Unnamed 0\": \"Overall_Experience\"},inplace=True)"
   ]
  },
  {
   "cell_type": "code",
   "execution_count": 1341,
   "metadata": {},
   "outputs": [],
   "source": [
    "submission.to_csv('submission21.csv',index = False)"
   ]
  },
  {
   "cell_type": "code",
   "execution_count": null,
   "metadata": {},
   "outputs": [],
   "source": []
  }
 ],
 "metadata": {
  "kernelspec": {
   "display_name": "Python 3 (ipykernel)",
   "language": "python",
   "name": "python3"
  },
  "language_info": {
   "codemirror_mode": {
    "name": "ipython",
    "version": 3
   },
   "file_extension": ".py",
   "mimetype": "text/x-python",
   "name": "python",
   "nbconvert_exporter": "python",
   "pygments_lexer": "ipython3",
   "version": "3.9.12"
  }
 },
 "nbformat": 4,
 "nbformat_minor": 4
}
