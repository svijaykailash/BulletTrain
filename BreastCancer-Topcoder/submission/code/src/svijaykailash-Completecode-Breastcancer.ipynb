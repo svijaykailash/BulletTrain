{
 "cells": [
  {
   "cell_type": "markdown",
   "metadata": {
    "colab_type": "text",
    "id": "rApPHbYBc702"
   },
   "source": [
    "# Top Coder - Breast Cancer Prediction"
   ]
  },
  {
   "cell_type": "markdown",
   "metadata": {},
   "source": [
    "**PROBLEM STATEMENT**\n",
    "\n",
    "The provided dataset includes participant characteristics previously shown to be associated with breast cancer risk estimation including age, race/ethnicity, age at first birth, breast density, mammogram result, use of hormone replacement therapy, menopausal status, surgical menopause, body mass index, breast procedure, and diagnosis of invasive breast cancer.\n",
    "These data can be used to describe the distribution of breast cancer risk in the general population or to explore relationships among breast cancer risk factors. \n",
    "\n",
    "**Objective**\n",
    "\n",
    "- Predict Breast cancer result.\n",
    "- The objective of the project is to leverage Topcoder member software development skills and Data Science skills in order to make progress in the field of Oncology.This progress can be in any sub-area, but it's mostly going to revolve around the sub-area of Cancer Prevention."
   ]
  },
  {
   "cell_type": "markdown",
   "metadata": {},
   "source": [
    "**Data Dictionary**"
   ]
  },
  {
   "cell_type": "markdown",
   "metadata": {},
   "source": [
    "1. **id:** Identifier of the row.\n",
    "2. **menopaus:** 0 = premenopausal; 1 = postmenopausal or age>=55 ; 9 = unknown.\n",
    "3. **agegrp:** 1 = 35-39; 2 = 40-44; 3 = 45-49; 4 = 50-54; 5 = 55-59; 6 = 60-64; 7 = 65-69; 8 = 70-74; 9 = 75-79; 10 = 80-84.\n",
    "4. **density:** BI-RADS breast density codes 1 = Almost entirely fat; 2 = Scattered fibroglandular densities; 3 = Heterogeneously dense; 4 = Extremely dense; 9 = Unknown or different measurement system.\n",
    "5. **race:** 1 = white; 2 = Asian/Pacific Islander; 3 = black; 4 = Native American; 5 = other/mixed; 9 = unknown.\n",
    "6. **Hispanic:** 0 = no; 1 = yes; 9 = unknown.\n",
    "7. **bmi:** Body mass index: 1 = 10-24.99; 2 = 25-29.99; 3 = 30-34.99; 4 = 35 or more; 9 = unknown.\n",
    "8. **agefirst:** Age at first birth: 0 = Age < 30; 1 = Age 30 or greater; 2 = Nulliparous; 9 = unknown\n",
    "9. **nrelbc:** Number of first degree relatives with breast cancer: 0 = zero; 1= one; 2 = 2 or more; 9 = unknown.\n",
    "10. **brstproc:** Previous breast procedure: 0 = no; 1 = yes; 9 = unknown.\n",
    "11. **lastmamm:** Result of last mammogram before the index mammogram: 0 = negative; 1 = false positive; 9 = unknown.\n",
    "12. **surgmeno:** Marital status of customer.\n",
    "13. **hrt:** Current hormone therapy: 0 = no; 1 = yes; 9 = unknown or not menopausal (menopaus=0 or menopaus=9).\n",
    "14. **invasive:** Diagnosis of invasive breast cancer within one year of the index screening mammogram: 0 = no; 1 = yes.\n",
    "15. **cancer:** Diagnosis of invasive or ductal carcinoma in situ breast cancer within one year of the index screening mammogram: 0 = no; 1 = yes.\n",
    "16. **count:** Frequency count of this combination of covariates and outcomes (all variables 1 to 14)."
   ]
  },
  {
   "cell_type": "code",
   "execution_count": 2,
   "metadata": {
    "ExecuteTime": {
     "end_time": "2020-05-12T13:14:21.767109Z",
     "start_time": "2020-05-12T13:14:21.758879Z"
    }
   },
   "outputs": [],
   "source": [
    "import numpy as np\n",
    "import pandas as pd\n",
    "import matplotlib.pyplot as plt\n",
    "%matplotlib inline\n",
    "import seaborn as sns"
   ]
  },
  {
   "cell_type": "code",
   "execution_count": 3,
   "metadata": {},
   "outputs": [
    {
     "name": "stdout",
     "output_type": "stream",
     "text": [
      "3.9.12\n"
     ]
    }
   ],
   "source": [
    "from platform import python_version\n",
    "print(python_version())"
   ]
  },
  {
   "cell_type": "code",
   "execution_count": null,
   "metadata": {},
   "outputs": [],
   "source": []
  },
  {
   "cell_type": "markdown",
   "metadata": {},
   "source": [
    "**Read the data**"
   ]
  },
  {
   "cell_type": "code",
   "execution_count": 4,
   "metadata": {
    "ExecuteTime": {
     "end_time": "2020-05-12T13:14:24.019418Z",
     "start_time": "2020-05-12T13:14:23.931546Z"
    }
   },
   "outputs": [],
   "source": [
    "df=pd.read_csv('data-training.csv')\n",
    "df_test = pd.read_csv('data-provisional.csv')"
   ]
  },
  {
   "cell_type": "code",
   "execution_count": 5,
   "metadata": {},
   "outputs": [
    {
     "name": "stdout",
     "output_type": "stream",
     "text": [
      "<class 'pandas.core.frame.DataFrame'>\n",
      "RangeIndex: 196462 entries, 0 to 196461\n",
      "Data columns (total 16 columns):\n",
      " #   Column    Non-Null Count   Dtype \n",
      "---  ------    --------------   ----- \n",
      " 0   id        196462 non-null  object\n",
      " 1   menopaus  196462 non-null  int64 \n",
      " 2   agegrp    196462 non-null  int64 \n",
      " 3   density   196462 non-null  int64 \n",
      " 4   race      196462 non-null  int64 \n",
      " 5   Hispanic  196462 non-null  int64 \n",
      " 6   bmi       196462 non-null  int64 \n",
      " 7   agefirst  196462 non-null  int64 \n",
      " 8   nrelbc    196462 non-null  int64 \n",
      " 9   brstproc  196462 non-null  int64 \n",
      " 10  lastmamm  196462 non-null  int64 \n",
      " 11  surgmeno  196462 non-null  int64 \n",
      " 12  hrt       196462 non-null  int64 \n",
      " 13  invasive  196462 non-null  int64 \n",
      " 14  cancer    196462 non-null  int64 \n",
      " 15  count     196462 non-null  int64 \n",
      "dtypes: int64(15), object(1)\n",
      "memory usage: 24.0+ MB\n"
     ]
    }
   ],
   "source": [
    "df.info()"
   ]
  },
  {
   "cell_type": "code",
   "execution_count": 6,
   "metadata": {},
   "outputs": [
    {
     "data": {
      "text/html": [
       "<div>\n",
       "<style scoped>\n",
       "    .dataframe tbody tr th:only-of-type {\n",
       "        vertical-align: middle;\n",
       "    }\n",
       "\n",
       "    .dataframe tbody tr th {\n",
       "        vertical-align: top;\n",
       "    }\n",
       "\n",
       "    .dataframe thead th {\n",
       "        text-align: right;\n",
       "    }\n",
       "</style>\n",
       "<table border=\"1\" class=\"dataframe\">\n",
       "  <thead>\n",
       "    <tr style=\"text-align: right;\">\n",
       "      <th></th>\n",
       "      <th>id</th>\n",
       "      <th>menopaus</th>\n",
       "      <th>agegrp</th>\n",
       "      <th>density</th>\n",
       "      <th>race</th>\n",
       "      <th>Hispanic</th>\n",
       "      <th>bmi</th>\n",
       "      <th>agefirst</th>\n",
       "      <th>nrelbc</th>\n",
       "      <th>brstproc</th>\n",
       "      <th>lastmamm</th>\n",
       "      <th>surgmeno</th>\n",
       "      <th>hrt</th>\n",
       "      <th>invasive</th>\n",
       "      <th>cancer</th>\n",
       "      <th>count</th>\n",
       "    </tr>\n",
       "  </thead>\n",
       "  <tbody>\n",
       "    <tr>\n",
       "      <th>0</th>\n",
       "      <td>RE-TRAIN-0000001</td>\n",
       "      <td>0</td>\n",
       "      <td>1</td>\n",
       "      <td>1</td>\n",
       "      <td>1</td>\n",
       "      <td>0</td>\n",
       "      <td>1</td>\n",
       "      <td>0</td>\n",
       "      <td>0</td>\n",
       "      <td>0</td>\n",
       "      <td>9</td>\n",
       "      <td>9</td>\n",
       "      <td>9</td>\n",
       "      <td>0</td>\n",
       "      <td>0</td>\n",
       "      <td>2</td>\n",
       "    </tr>\n",
       "    <tr>\n",
       "      <th>1</th>\n",
       "      <td>RE-TRAIN-0000002</td>\n",
       "      <td>0</td>\n",
       "      <td>1</td>\n",
       "      <td>1</td>\n",
       "      <td>1</td>\n",
       "      <td>0</td>\n",
       "      <td>1</td>\n",
       "      <td>0</td>\n",
       "      <td>0</td>\n",
       "      <td>0</td>\n",
       "      <td>9</td>\n",
       "      <td>9</td>\n",
       "      <td>9</td>\n",
       "      <td>0</td>\n",
       "      <td>0</td>\n",
       "      <td>4</td>\n",
       "    </tr>\n",
       "    <tr>\n",
       "      <th>2</th>\n",
       "      <td>RE-TRAIN-0000003</td>\n",
       "      <td>0</td>\n",
       "      <td>1</td>\n",
       "      <td>1</td>\n",
       "      <td>1</td>\n",
       "      <td>0</td>\n",
       "      <td>1</td>\n",
       "      <td>0</td>\n",
       "      <td>1</td>\n",
       "      <td>0</td>\n",
       "      <td>0</td>\n",
       "      <td>9</td>\n",
       "      <td>9</td>\n",
       "      <td>0</td>\n",
       "      <td>0</td>\n",
       "      <td>1</td>\n",
       "    </tr>\n",
       "    <tr>\n",
       "      <th>3</th>\n",
       "      <td>RE-TRAIN-0000004</td>\n",
       "      <td>0</td>\n",
       "      <td>1</td>\n",
       "      <td>1</td>\n",
       "      <td>1</td>\n",
       "      <td>0</td>\n",
       "      <td>1</td>\n",
       "      <td>0</td>\n",
       "      <td>1</td>\n",
       "      <td>0</td>\n",
       "      <td>9</td>\n",
       "      <td>9</td>\n",
       "      <td>9</td>\n",
       "      <td>0</td>\n",
       "      <td>0</td>\n",
       "      <td>1</td>\n",
       "    </tr>\n",
       "    <tr>\n",
       "      <th>4</th>\n",
       "      <td>RE-TRAIN-0000005</td>\n",
       "      <td>0</td>\n",
       "      <td>1</td>\n",
       "      <td>1</td>\n",
       "      <td>1</td>\n",
       "      <td>0</td>\n",
       "      <td>1</td>\n",
       "      <td>1</td>\n",
       "      <td>0</td>\n",
       "      <td>0</td>\n",
       "      <td>0</td>\n",
       "      <td>9</td>\n",
       "      <td>9</td>\n",
       "      <td>0</td>\n",
       "      <td>0</td>\n",
       "      <td>2</td>\n",
       "    </tr>\n",
       "  </tbody>\n",
       "</table>\n",
       "</div>"
      ],
      "text/plain": [
       "                 id  menopaus  agegrp  density  race  Hispanic  bmi  agefirst  \\\n",
       "0  RE-TRAIN-0000001         0       1        1     1         0    1         0   \n",
       "1  RE-TRAIN-0000002         0       1        1     1         0    1         0   \n",
       "2  RE-TRAIN-0000003         0       1        1     1         0    1         0   \n",
       "3  RE-TRAIN-0000004         0       1        1     1         0    1         0   \n",
       "4  RE-TRAIN-0000005         0       1        1     1         0    1         1   \n",
       "\n",
       "   nrelbc  brstproc  lastmamm  surgmeno  hrt  invasive  cancer  count  \n",
       "0       0         0         9         9    9         0       0      2  \n",
       "1       0         0         9         9    9         0       0      4  \n",
       "2       1         0         0         9    9         0       0      1  \n",
       "3       1         0         9         9    9         0       0      1  \n",
       "4       0         0         0         9    9         0       0      2  "
      ]
     },
     "execution_count": 6,
     "metadata": {},
     "output_type": "execute_result"
    }
   ],
   "source": [
    "df.head()"
   ]
  },
  {
   "cell_type": "code",
   "execution_count": 7,
   "metadata": {},
   "outputs": [
    {
     "data": {
      "text/html": [
       "<div>\n",
       "<style scoped>\n",
       "    .dataframe tbody tr th:only-of-type {\n",
       "        vertical-align: middle;\n",
       "    }\n",
       "\n",
       "    .dataframe tbody tr th {\n",
       "        vertical-align: top;\n",
       "    }\n",
       "\n",
       "    .dataframe thead th {\n",
       "        text-align: right;\n",
       "    }\n",
       "</style>\n",
       "<table border=\"1\" class=\"dataframe\">\n",
       "  <thead>\n",
       "    <tr style=\"text-align: right;\">\n",
       "      <th></th>\n",
       "      <th>id</th>\n",
       "      <th>menopaus</th>\n",
       "      <th>agegrp</th>\n",
       "      <th>density</th>\n",
       "      <th>race</th>\n",
       "      <th>Hispanic</th>\n",
       "      <th>bmi</th>\n",
       "      <th>agefirst</th>\n",
       "      <th>nrelbc</th>\n",
       "      <th>brstproc</th>\n",
       "      <th>lastmamm</th>\n",
       "      <th>surgmeno</th>\n",
       "      <th>hrt</th>\n",
       "      <th>invasive</th>\n",
       "      <th>count</th>\n",
       "    </tr>\n",
       "  </thead>\n",
       "  <tbody>\n",
       "    <tr>\n",
       "      <th>0</th>\n",
       "      <td>RE-PROV-0000001</td>\n",
       "      <td>0</td>\n",
       "      <td>1</td>\n",
       "      <td>1</td>\n",
       "      <td>1</td>\n",
       "      <td>0</td>\n",
       "      <td>1</td>\n",
       "      <td>0</td>\n",
       "      <td>0</td>\n",
       "      <td>0</td>\n",
       "      <td>0</td>\n",
       "      <td>9</td>\n",
       "      <td>9</td>\n",
       "      <td>0</td>\n",
       "      <td>4</td>\n",
       "    </tr>\n",
       "    <tr>\n",
       "      <th>1</th>\n",
       "      <td>RE-PROV-0000002</td>\n",
       "      <td>0</td>\n",
       "      <td>1</td>\n",
       "      <td>1</td>\n",
       "      <td>1</td>\n",
       "      <td>0</td>\n",
       "      <td>2</td>\n",
       "      <td>0</td>\n",
       "      <td>1</td>\n",
       "      <td>0</td>\n",
       "      <td>9</td>\n",
       "      <td>9</td>\n",
       "      <td>9</td>\n",
       "      <td>0</td>\n",
       "      <td>1</td>\n",
       "    </tr>\n",
       "    <tr>\n",
       "      <th>2</th>\n",
       "      <td>RE-PROV-0000003</td>\n",
       "      <td>0</td>\n",
       "      <td>1</td>\n",
       "      <td>1</td>\n",
       "      <td>1</td>\n",
       "      <td>0</td>\n",
       "      <td>2</td>\n",
       "      <td>9</td>\n",
       "      <td>0</td>\n",
       "      <td>0</td>\n",
       "      <td>0</td>\n",
       "      <td>9</td>\n",
       "      <td>9</td>\n",
       "      <td>0</td>\n",
       "      <td>4</td>\n",
       "    </tr>\n",
       "    <tr>\n",
       "      <th>3</th>\n",
       "      <td>RE-PROV-0000004</td>\n",
       "      <td>0</td>\n",
       "      <td>1</td>\n",
       "      <td>1</td>\n",
       "      <td>1</td>\n",
       "      <td>0</td>\n",
       "      <td>2</td>\n",
       "      <td>9</td>\n",
       "      <td>1</td>\n",
       "      <td>0</td>\n",
       "      <td>0</td>\n",
       "      <td>9</td>\n",
       "      <td>9</td>\n",
       "      <td>0</td>\n",
       "      <td>2</td>\n",
       "    </tr>\n",
       "    <tr>\n",
       "      <th>4</th>\n",
       "      <td>RE-PROV-0000005</td>\n",
       "      <td>0</td>\n",
       "      <td>1</td>\n",
       "      <td>1</td>\n",
       "      <td>1</td>\n",
       "      <td>0</td>\n",
       "      <td>3</td>\n",
       "      <td>2</td>\n",
       "      <td>0</td>\n",
       "      <td>0</td>\n",
       "      <td>9</td>\n",
       "      <td>9</td>\n",
       "      <td>9</td>\n",
       "      <td>0</td>\n",
       "      <td>3</td>\n",
       "    </tr>\n",
       "  </tbody>\n",
       "</table>\n",
       "</div>"
      ],
      "text/plain": [
       "                id  menopaus  agegrp  density  race  Hispanic  bmi  agefirst  \\\n",
       "0  RE-PROV-0000001         0       1        1     1         0    1         0   \n",
       "1  RE-PROV-0000002         0       1        1     1         0    2         0   \n",
       "2  RE-PROV-0000003         0       1        1     1         0    2         9   \n",
       "3  RE-PROV-0000004         0       1        1     1         0    2         9   \n",
       "4  RE-PROV-0000005         0       1        1     1         0    3         2   \n",
       "\n",
       "   nrelbc  brstproc  lastmamm  surgmeno  hrt  invasive  count  \n",
       "0       0         0         0         9    9         0      4  \n",
       "1       1         0         9         9    9         0      1  \n",
       "2       0         0         0         9    9         0      4  \n",
       "3       1         0         0         9    9         0      2  \n",
       "4       0         0         9         9    9         0      3  "
      ]
     },
     "execution_count": 7,
     "metadata": {},
     "output_type": "execute_result"
    }
   ],
   "source": [
    "df_test.head()"
   ]
  },
  {
   "cell_type": "code",
   "execution_count": 8,
   "metadata": {},
   "outputs": [],
   "source": [
    "test_file_ids = df_test['id'] ## necessary step"
   ]
  },
  {
   "cell_type": "code",
   "execution_count": 9,
   "metadata": {},
   "outputs": [],
   "source": [
    "df = df.drop(\"id\" , axis=1)\n",
    "df_test = df_test.drop(\"id\" , axis=1)"
   ]
  },
  {
   "cell_type": "code",
   "execution_count": 10,
   "metadata": {},
   "outputs": [
    {
     "data": {
      "text/plain": [
       "(196462, 15)"
      ]
     },
     "execution_count": 10,
     "metadata": {},
     "output_type": "execute_result"
    }
   ],
   "source": [
    "df.shape"
   ]
  },
  {
   "cell_type": "code",
   "execution_count": 11,
   "metadata": {},
   "outputs": [
    {
     "data": {
      "text/plain": [
       "(28066, 14)"
      ]
     },
     "execution_count": 11,
     "metadata": {},
     "output_type": "execute_result"
    }
   ],
   "source": [
    "df_test.shape"
   ]
  },
  {
   "cell_type": "markdown",
   "metadata": {},
   "source": [
    "**Target variable distribution**"
   ]
  },
  {
   "cell_type": "code",
   "execution_count": 12,
   "metadata": {
    "ExecuteTime": {
     "end_time": "2020-05-12T13:14:26.770322Z",
     "start_time": "2020-05-12T13:14:26.767366Z"
    }
   },
   "outputs": [
    {
     "name": "stdout",
     "output_type": "stream",
     "text": [
      "0    189942\n",
      "1      6520\n",
      "Name: cancer, dtype: int64\n"
     ]
    },
    {
     "data": {
      "text/plain": [
       "0    0.966813\n",
       "1    0.033187\n",
       "Name: cancer, dtype: float64"
      ]
     },
     "execution_count": 12,
     "metadata": {},
     "output_type": "execute_result"
    }
   ],
   "source": [
    "print(df.cancer.value_counts())\n",
    "df.cancer.value_counts(normalize=True) "
   ]
  },
  {
   "cell_type": "markdown",
   "metadata": {},
   "source": [
    "**Get the info**"
   ]
  },
  {
   "cell_type": "code",
   "execution_count": 13,
   "metadata": {
    "ExecuteTime": {
     "end_time": "2020-05-12T13:14:36.237412Z",
     "start_time": "2020-05-12T13:14:36.229432Z"
    }
   },
   "outputs": [
    {
     "name": "stdout",
     "output_type": "stream",
     "text": [
      "<class 'pandas.core.frame.DataFrame'>\n",
      "RangeIndex: 196462 entries, 0 to 196461\n",
      "Data columns (total 15 columns):\n",
      " #   Column    Non-Null Count   Dtype\n",
      "---  ------    --------------   -----\n",
      " 0   menopaus  196462 non-null  int64\n",
      " 1   agegrp    196462 non-null  int64\n",
      " 2   density   196462 non-null  int64\n",
      " 3   race      196462 non-null  int64\n",
      " 4   Hispanic  196462 non-null  int64\n",
      " 5   bmi       196462 non-null  int64\n",
      " 6   agefirst  196462 non-null  int64\n",
      " 7   nrelbc    196462 non-null  int64\n",
      " 8   brstproc  196462 non-null  int64\n",
      " 9   lastmamm  196462 non-null  int64\n",
      " 10  surgmeno  196462 non-null  int64\n",
      " 11  hrt       196462 non-null  int64\n",
      " 12  invasive  196462 non-null  int64\n",
      " 13  cancer    196462 non-null  int64\n",
      " 14  count     196462 non-null  int64\n",
      "dtypes: int64(15)\n",
      "memory usage: 22.5 MB\n"
     ]
    }
   ],
   "source": [
    "df.info()"
   ]
  },
  {
   "cell_type": "markdown",
   "metadata": {},
   "source": [
    "**Get the Summary Statistics**"
   ]
  },
  {
   "cell_type": "code",
   "execution_count": 14,
   "metadata": {
    "ExecuteTime": {
     "end_time": "2020-04-29T03:47:51.568372Z",
     "start_time": "2020-04-29T03:47:51.494890Z"
    }
   },
   "outputs": [
    {
     "data": {
      "text/html": [
       "<div>\n",
       "<style scoped>\n",
       "    .dataframe tbody tr th:only-of-type {\n",
       "        vertical-align: middle;\n",
       "    }\n",
       "\n",
       "    .dataframe tbody tr th {\n",
       "        vertical-align: top;\n",
       "    }\n",
       "\n",
       "    .dataframe thead th {\n",
       "        text-align: right;\n",
       "    }\n",
       "</style>\n",
       "<table border=\"1\" class=\"dataframe\">\n",
       "  <thead>\n",
       "    <tr style=\"text-align: right;\">\n",
       "      <th></th>\n",
       "      <th>count</th>\n",
       "      <th>mean</th>\n",
       "      <th>std</th>\n",
       "      <th>min</th>\n",
       "      <th>25%</th>\n",
       "      <th>50%</th>\n",
       "      <th>75%</th>\n",
       "      <th>max</th>\n",
       "    </tr>\n",
       "  </thead>\n",
       "  <tbody>\n",
       "    <tr>\n",
       "      <th>menopaus</th>\n",
       "      <td>196462.0</td>\n",
       "      <td>1.308752</td>\n",
       "      <td>1.908668</td>\n",
       "      <td>0.0</td>\n",
       "      <td>1.0</td>\n",
       "      <td>1.0</td>\n",
       "      <td>1.0</td>\n",
       "      <td>9.0</td>\n",
       "    </tr>\n",
       "    <tr>\n",
       "      <th>agegrp</th>\n",
       "      <td>196462.0</td>\n",
       "      <td>5.469674</td>\n",
       "      <td>2.387198</td>\n",
       "      <td>1.0</td>\n",
       "      <td>4.0</td>\n",
       "      <td>5.0</td>\n",
       "      <td>7.0</td>\n",
       "      <td>10.0</td>\n",
       "    </tr>\n",
       "    <tr>\n",
       "      <th>density</th>\n",
       "      <td>196462.0</td>\n",
       "      <td>4.093718</td>\n",
       "      <td>2.958682</td>\n",
       "      <td>1.0</td>\n",
       "      <td>2.0</td>\n",
       "      <td>3.0</td>\n",
       "      <td>9.0</td>\n",
       "      <td>9.0</td>\n",
       "    </tr>\n",
       "    <tr>\n",
       "      <th>race</th>\n",
       "      <td>196462.0</td>\n",
       "      <td>3.171438</td>\n",
       "      <td>3.145186</td>\n",
       "      <td>1.0</td>\n",
       "      <td>1.0</td>\n",
       "      <td>1.0</td>\n",
       "      <td>4.0</td>\n",
       "      <td>9.0</td>\n",
       "    </tr>\n",
       "    <tr>\n",
       "      <th>Hispanic</th>\n",
       "      <td>196462.0</td>\n",
       "      <td>2.887917</td>\n",
       "      <td>4.062008</td>\n",
       "      <td>0.0</td>\n",
       "      <td>0.0</td>\n",
       "      <td>0.0</td>\n",
       "      <td>9.0</td>\n",
       "      <td>9.0</td>\n",
       "    </tr>\n",
       "    <tr>\n",
       "      <th>bmi</th>\n",
       "      <td>196462.0</td>\n",
       "      <td>4.775483</td>\n",
       "      <td>3.469497</td>\n",
       "      <td>1.0</td>\n",
       "      <td>2.0</td>\n",
       "      <td>3.0</td>\n",
       "      <td>9.0</td>\n",
       "      <td>9.0</td>\n",
       "    </tr>\n",
       "    <tr>\n",
       "      <th>agefirst</th>\n",
       "      <td>196462.0</td>\n",
       "      <td>3.372927</td>\n",
       "      <td>3.973707</td>\n",
       "      <td>0.0</td>\n",
       "      <td>0.0</td>\n",
       "      <td>1.0</td>\n",
       "      <td>9.0</td>\n",
       "      <td>9.0</td>\n",
       "    </tr>\n",
       "    <tr>\n",
       "      <th>nrelbc</th>\n",
       "      <td>196462.0</td>\n",
       "      <td>1.571271</td>\n",
       "      <td>3.057983</td>\n",
       "      <td>0.0</td>\n",
       "      <td>0.0</td>\n",
       "      <td>0.0</td>\n",
       "      <td>1.0</td>\n",
       "      <td>9.0</td>\n",
       "    </tr>\n",
       "    <tr>\n",
       "      <th>brstproc</th>\n",
       "      <td>196462.0</td>\n",
       "      <td>1.450362</td>\n",
       "      <td>2.940595</td>\n",
       "      <td>0.0</td>\n",
       "      <td>0.0</td>\n",
       "      <td>0.0</td>\n",
       "      <td>1.0</td>\n",
       "      <td>9.0</td>\n",
       "    </tr>\n",
       "    <tr>\n",
       "      <th>lastmamm</th>\n",
       "      <td>196462.0</td>\n",
       "      <td>3.042176</td>\n",
       "      <td>4.198951</td>\n",
       "      <td>0.0</td>\n",
       "      <td>0.0</td>\n",
       "      <td>0.0</td>\n",
       "      <td>9.0</td>\n",
       "      <td>9.0</td>\n",
       "    </tr>\n",
       "    <tr>\n",
       "      <th>surgmeno</th>\n",
       "      <td>196462.0</td>\n",
       "      <td>4.118303</td>\n",
       "      <td>4.272907</td>\n",
       "      <td>0.0</td>\n",
       "      <td>0.0</td>\n",
       "      <td>1.0</td>\n",
       "      <td>9.0</td>\n",
       "      <td>9.0</td>\n",
       "    </tr>\n",
       "    <tr>\n",
       "      <th>hrt</th>\n",
       "      <td>196462.0</td>\n",
       "      <td>3.316484</td>\n",
       "      <td>4.050667</td>\n",
       "      <td>0.0</td>\n",
       "      <td>0.0</td>\n",
       "      <td>1.0</td>\n",
       "      <td>9.0</td>\n",
       "      <td>9.0</td>\n",
       "    </tr>\n",
       "    <tr>\n",
       "      <th>invasive</th>\n",
       "      <td>196462.0</td>\n",
       "      <td>0.025608</td>\n",
       "      <td>0.157963</td>\n",
       "      <td>0.0</td>\n",
       "      <td>0.0</td>\n",
       "      <td>0.0</td>\n",
       "      <td>0.0</td>\n",
       "      <td>1.0</td>\n",
       "    </tr>\n",
       "    <tr>\n",
       "      <th>cancer</th>\n",
       "      <td>196462.0</td>\n",
       "      <td>0.033187</td>\n",
       "      <td>0.179125</td>\n",
       "      <td>0.0</td>\n",
       "      <td>0.0</td>\n",
       "      <td>0.0</td>\n",
       "      <td>0.0</td>\n",
       "      <td>1.0</td>\n",
       "    </tr>\n",
       "    <tr>\n",
       "      <th>count</th>\n",
       "      <td>196462.0</td>\n",
       "      <td>8.474825</td>\n",
       "      <td>54.367564</td>\n",
       "      <td>1.0</td>\n",
       "      <td>1.0</td>\n",
       "      <td>1.0</td>\n",
       "      <td>4.0</td>\n",
       "      <td>7295.0</td>\n",
       "    </tr>\n",
       "  </tbody>\n",
       "</table>\n",
       "</div>"
      ],
      "text/plain": [
       "             count      mean        std  min  25%  50%  75%     max\n",
       "menopaus  196462.0  1.308752   1.908668  0.0  1.0  1.0  1.0     9.0\n",
       "agegrp    196462.0  5.469674   2.387198  1.0  4.0  5.0  7.0    10.0\n",
       "density   196462.0  4.093718   2.958682  1.0  2.0  3.0  9.0     9.0\n",
       "race      196462.0  3.171438   3.145186  1.0  1.0  1.0  4.0     9.0\n",
       "Hispanic  196462.0  2.887917   4.062008  0.0  0.0  0.0  9.0     9.0\n",
       "bmi       196462.0  4.775483   3.469497  1.0  2.0  3.0  9.0     9.0\n",
       "agefirst  196462.0  3.372927   3.973707  0.0  0.0  1.0  9.0     9.0\n",
       "nrelbc    196462.0  1.571271   3.057983  0.0  0.0  0.0  1.0     9.0\n",
       "brstproc  196462.0  1.450362   2.940595  0.0  0.0  0.0  1.0     9.0\n",
       "lastmamm  196462.0  3.042176   4.198951  0.0  0.0  0.0  9.0     9.0\n",
       "surgmeno  196462.0  4.118303   4.272907  0.0  0.0  1.0  9.0     9.0\n",
       "hrt       196462.0  3.316484   4.050667  0.0  0.0  1.0  9.0     9.0\n",
       "invasive  196462.0  0.025608   0.157963  0.0  0.0  0.0  0.0     1.0\n",
       "cancer    196462.0  0.033187   0.179125  0.0  0.0  0.0  0.0     1.0\n",
       "count     196462.0  8.474825  54.367564  1.0  1.0  1.0  4.0  7295.0"
      ]
     },
     "execution_count": 14,
     "metadata": {},
     "output_type": "execute_result"
    }
   ],
   "source": [
    "df.describe(include='all').T"
   ]
  },
  {
   "cell_type": "markdown",
   "metadata": {},
   "source": []
  },
  {
   "cell_type": "markdown",
   "metadata": {},
   "source": [
    "**Check for Object Data Type**"
   ]
  },
  {
   "cell_type": "code",
   "execution_count": 15,
   "metadata": {
    "ExecuteTime": {
     "end_time": "2020-04-29T03:47:53.515420Z",
     "start_time": "2020-04-29T03:47:53.493942Z"
    }
   },
   "outputs": [
    {
     "data": {
      "text/html": [
       "<div>\n",
       "<style scoped>\n",
       "    .dataframe tbody tr th:only-of-type {\n",
       "        vertical-align: middle;\n",
       "    }\n",
       "\n",
       "    .dataframe tbody tr th {\n",
       "        vertical-align: top;\n",
       "    }\n",
       "\n",
       "    .dataframe thead th {\n",
       "        text-align: right;\n",
       "    }\n",
       "</style>\n",
       "<table border=\"1\" class=\"dataframe\">\n",
       "  <thead>\n",
       "    <tr style=\"text-align: right;\">\n",
       "      <th></th>\n",
       "    </tr>\n",
       "  </thead>\n",
       "  <tbody>\n",
       "    <tr>\n",
       "      <th>0</th>\n",
       "    </tr>\n",
       "    <tr>\n",
       "      <th>1</th>\n",
       "    </tr>\n",
       "    <tr>\n",
       "      <th>2</th>\n",
       "    </tr>\n",
       "    <tr>\n",
       "      <th>3</th>\n",
       "    </tr>\n",
       "    <tr>\n",
       "      <th>4</th>\n",
       "    </tr>\n",
       "  </tbody>\n",
       "</table>\n",
       "</div>"
      ],
      "text/plain": [
       "Empty DataFrame\n",
       "Columns: []\n",
       "Index: [0, 1, 2, 3, 4]"
      ]
     },
     "execution_count": 15,
     "metadata": {},
     "output_type": "execute_result"
    }
   ],
   "source": [
    "df.select_dtypes(include='object').head()"
   ]
  },
  {
   "cell_type": "markdown",
   "metadata": {},
   "source": [
    "**Check for the different values under 'object' data type**"
   ]
  },
  {
   "cell_type": "code",
   "execution_count": 16,
   "metadata": {},
   "outputs": [
    {
     "data": {
      "text/plain": [
       "1    157733\n",
       "0     27686\n",
       "9     11043\n",
       "Name: menopaus, dtype: int64"
      ]
     },
     "execution_count": 16,
     "metadata": {},
     "output_type": "execute_result"
    }
   ],
   "source": [
    "df.menopaus.value_counts()"
   ]
  },
  {
   "cell_type": "code",
   "execution_count": 17,
   "metadata": {},
   "outputs": [
    {
     "data": {
      "text/plain": [
       "4     32743\n",
       "3     27677\n",
       "5     26287\n",
       "6     23083\n",
       "7     21253\n",
       "8     19599\n",
       "9     16337\n",
       "2     13339\n",
       "10    10581\n",
       "1      5563\n",
       "Name: agegrp, dtype: int64"
      ]
     },
     "execution_count": 17,
     "metadata": {},
     "output_type": "execute_result"
    }
   ],
   "source": [
    "df.agegrp.value_counts()"
   ]
  },
  {
   "cell_type": "code",
   "execution_count": 18,
   "metadata": {},
   "outputs": [
    {
     "data": {
      "text/plain": [
       "2    56602\n",
       "9    49730\n",
       "3    49627\n",
       "1    22469\n",
       "4    18034\n",
       "Name: density, dtype: int64"
      ]
     },
     "execution_count": 18,
     "metadata": {},
     "output_type": "execute_result"
    }
   ],
   "source": [
    "df.density.value_counts()"
   ]
  },
  {
   "cell_type": "code",
   "execution_count": 19,
   "metadata": {},
   "outputs": [
    {
     "data": {
      "text/plain": [
       "1    108735\n",
       "9     40451\n",
       "2     16186\n",
       "3     15065\n",
       "5      8606\n",
       "4      7419\n",
       "Name: race, dtype: int64"
      ]
     },
     "execution_count": 19,
     "metadata": {},
     "output_type": "execute_result"
    }
   ],
   "source": [
    "df.race.value_counts()"
   ]
  },
  {
   "cell_type": "code",
   "execution_count": 20,
   "metadata": {},
   "outputs": [
    {
     "data": {
      "text/plain": [
       "0    108288\n",
       "9     59899\n",
       "1     28275\n",
       "Name: Hispanic, dtype: int64"
      ]
     },
     "execution_count": 20,
     "metadata": {},
     "output_type": "execute_result"
    }
   ],
   "source": [
    "df.Hispanic.value_counts()"
   ]
  },
  {
   "cell_type": "code",
   "execution_count": 21,
   "metadata": {},
   "outputs": [
    {
     "data": {
      "text/plain": [
       "9    76505\n",
       "1    44426\n",
       "2    36838\n",
       "3    23218\n",
       "4    15475\n",
       "Name: bmi, dtype: int64"
      ]
     },
     "execution_count": 21,
     "metadata": {},
     "output_type": "execute_result"
    }
   ],
   "source": [
    "df.bmi.value_counts()"
   ]
  },
  {
   "cell_type": "code",
   "execution_count": 22,
   "metadata": {},
   "outputs": [
    {
     "data": {
      "text/plain": [
       "0    77408\n",
       "9    64061\n",
       "2    31110\n",
       "1    23883\n",
       "Name: agefirst, dtype: int64"
      ]
     },
     "execution_count": 22,
     "metadata": {},
     "output_type": "execute_result"
    }
   ],
   "source": [
    "df.agefirst.value_counts()"
   ]
  },
  {
   "cell_type": "code",
   "execution_count": 23,
   "metadata": {},
   "outputs": [
    {
     "data": {
      "text/plain": [
       "0    116512\n",
       "1     45707\n",
       "9     27786\n",
       "2      6457\n",
       "Name: nrelbc, dtype: int64"
      ]
     },
     "execution_count": 23,
     "metadata": {},
     "output_type": "execute_result"
    }
   ],
   "source": [
    "df.nrelbc.value_counts()"
   ]
  },
  {
   "cell_type": "code",
   "execution_count": 24,
   "metadata": {},
   "outputs": [
    {
     "data": {
      "text/plain": [
       "0    114537\n",
       "1     56548\n",
       "9     25377\n",
       "Name: brstproc, dtype: int64"
      ]
     },
     "execution_count": 24,
     "metadata": {},
     "output_type": "execute_result"
    }
   ],
   "source": [
    "df.brstproc.value_counts()"
   ]
  },
  {
   "cell_type": "code",
   "execution_count": 25,
   "metadata": {},
   "outputs": [
    {
     "data": {
      "text/plain": [
       "0    119278\n",
       "9     65061\n",
       "1     12123\n",
       "Name: lastmamm, dtype: int64"
      ]
     },
     "execution_count": 25,
     "metadata": {},
     "output_type": "execute_result"
    }
   ],
   "source": [
    "df.lastmamm.value_counts()"
   ]
  },
  {
   "cell_type": "code",
   "execution_count": 26,
   "metadata": {},
   "outputs": [
    {
     "data": {
      "text/plain": [
       "9    84860\n",
       "0    66252\n",
       "1    45350\n",
       "Name: surgmeno, dtype: int64"
      ]
     },
     "execution_count": 26,
     "metadata": {},
     "output_type": "execute_result"
    }
   ],
   "source": [
    "df.surgmeno.value_counts()"
   ]
  },
  {
   "cell_type": "code",
   "execution_count": 27,
   "metadata": {},
   "outputs": [
    {
     "data": {
      "text/plain": [
       "0    70771\n",
       "9    65734\n",
       "1    59957\n",
       "Name: hrt, dtype: int64"
      ]
     },
     "execution_count": 27,
     "metadata": {},
     "output_type": "execute_result"
    }
   ],
   "source": [
    "df.hrt.value_counts()"
   ]
  },
  {
   "cell_type": "code",
   "execution_count": 28,
   "metadata": {},
   "outputs": [
    {
     "data": {
      "text/plain": [
       "0    191431\n",
       "1      5031\n",
       "Name: invasive, dtype: int64"
      ]
     },
     "execution_count": 28,
     "metadata": {},
     "output_type": "execute_result"
    }
   ],
   "source": [
    "df.invasive.value_counts()"
   ]
  },
  {
   "cell_type": "code",
   "execution_count": 29,
   "metadata": {},
   "outputs": [
    {
     "data": {
      "text/plain": [
       "0    189942\n",
       "1      6520\n",
       "Name: cancer, dtype: int64"
      ]
     },
     "execution_count": 29,
     "metadata": {},
     "output_type": "execute_result"
    }
   ],
   "source": [
    "df.cancer.value_counts()"
   ]
  },
  {
   "cell_type": "code",
   "execution_count": 30,
   "metadata": {},
   "outputs": [],
   "source": [
    "#df.count.value_counts()"
   ]
  },
  {
   "cell_type": "code",
   "execution_count": 31,
   "metadata": {},
   "outputs": [
    {
     "name": "stdout",
     "output_type": "stream",
     "text": [
      "<class 'pandas.core.frame.DataFrame'>\n",
      "RangeIndex: 196462 entries, 0 to 196461\n",
      "Data columns (total 15 columns):\n",
      " #   Column    Non-Null Count   Dtype\n",
      "---  ------    --------------   -----\n",
      " 0   menopaus  196462 non-null  int64\n",
      " 1   agegrp    196462 non-null  int64\n",
      " 2   density   196462 non-null  int64\n",
      " 3   race      196462 non-null  int64\n",
      " 4   Hispanic  196462 non-null  int64\n",
      " 5   bmi       196462 non-null  int64\n",
      " 6   agefirst  196462 non-null  int64\n",
      " 7   nrelbc    196462 non-null  int64\n",
      " 8   brstproc  196462 non-null  int64\n",
      " 9   lastmamm  196462 non-null  int64\n",
      " 10  surgmeno  196462 non-null  int64\n",
      " 11  hrt       196462 non-null  int64\n",
      " 12  invasive  196462 non-null  int64\n",
      " 13  cancer    196462 non-null  int64\n",
      " 14  count     196462 non-null  int64\n",
      "dtypes: int64(15)\n",
      "memory usage: 22.5 MB\n"
     ]
    }
   ],
   "source": [
    "df.info()"
   ]
  },
  {
   "cell_type": "markdown",
   "metadata": {},
   "source": [
    "**Check for Null Values**"
   ]
  },
  {
   "cell_type": "code",
   "execution_count": 32,
   "metadata": {},
   "outputs": [
    {
     "data": {
      "text/plain": [
       "menopaus    0\n",
       "agegrp      0\n",
       "density     0\n",
       "race        0\n",
       "Hispanic    0\n",
       "bmi         0\n",
       "agefirst    0\n",
       "nrelbc      0\n",
       "brstproc    0\n",
       "lastmamm    0\n",
       "surgmeno    0\n",
       "hrt         0\n",
       "invasive    0\n",
       "cancer      0\n",
       "count       0\n",
       "dtype: int64"
      ]
     },
     "execution_count": 32,
     "metadata": {},
     "output_type": "execute_result"
    }
   ],
   "source": [
    "df.isnull().sum()"
   ]
  },
  {
   "cell_type": "code",
   "execution_count": 33,
   "metadata": {},
   "outputs": [
    {
     "data": {
      "text/plain": [
       "menopaus    0\n",
       "agegrp      0\n",
       "density     0\n",
       "race        0\n",
       "Hispanic    0\n",
       "bmi         0\n",
       "agefirst    0\n",
       "nrelbc      0\n",
       "brstproc    0\n",
       "lastmamm    0\n",
       "surgmeno    0\n",
       "hrt         0\n",
       "invasive    0\n",
       "count       0\n",
       "dtype: int64"
      ]
     },
     "execution_count": 33,
     "metadata": {},
     "output_type": "execute_result"
    }
   ],
   "source": [
    "df_test.isnull().sum()"
   ]
  },
  {
   "cell_type": "code",
   "execution_count": null,
   "metadata": {},
   "outputs": [],
   "source": []
  },
  {
   "cell_type": "code",
   "execution_count": null,
   "metadata": {},
   "outputs": [],
   "source": []
  },
  {
   "cell_type": "markdown",
   "metadata": {},
   "source": [
    "**Check for Outliers**"
   ]
  },
  {
   "cell_type": "code",
   "execution_count": 31,
   "metadata": {},
   "outputs": [
    {
     "name": "stderr",
     "output_type": "stream",
     "text": [
      "C:\\Users\\User\\anaconda3\\lib\\site-packages\\seaborn\\_decorators.py:36: FutureWarning: Pass the following variable as a keyword arg: x. From version 0.12, the only valid positional argument will be `data`, and passing other arguments without an explicit keyword will result in an error or misinterpretation.\n",
      "  warnings.warn(\n"
     ]
    },
    {
     "data": {
      "image/png": "[encoded data removed]",
      "text/plain": [
       "<Figure size 432x288 with 1 Axes>"
      ]
     },
     "metadata": {
      "needs_background": "light"
     },
     "output_type": "display_data"
    },
    {
     "name": "stderr",
     "output_type": "stream",
     "text": [
      "C:\\Users\\User\\anaconda3\\lib\\site-packages\\seaborn\\_decorators.py:36: FutureWarning: Pass the following variable as a keyword arg: x. From version 0.12, the only valid positional argument will be `data`, and passing other arguments without an explicit keyword will result in an error or misinterpretation.\n",
      "  warnings.warn(\n"
     ]
    },
    {
     "data": {
      "image/png": "[encoded data removed]",
      "text/plain": [
       "<Figure size 432x288 with 1 Axes>"
      ]
     },
     "metadata": {
      "needs_background": "light"
     },
     "output_type": "display_data"
    },
    {
     "name": "stderr",
     "output_type": "stream",
     "text": [
      "C:\\Users\\User\\anaconda3\\lib\\site-packages\\seaborn\\_decorators.py:36: FutureWarning: Pass the following variable as a keyword arg: x. From version 0.12, the only valid positional argument will be `data`, and passing other arguments without an explicit keyword will result in an error or misinterpretation.\n",
      "  warnings.warn(\n"
     ]
    },
    {
     "data": {
      "image/png": "[encoded data removed]",
      "text/plain": [
       "<Figure size 432x288 with 1 Axes>"
      ]
     },
     "metadata": {
      "needs_background": "light"
     },
     "output_type": "display_data"
    },
    {
     "name": "stderr",
     "output_type": "stream",
     "text": [
      "C:\\Users\\User\\anaconda3\\lib\\site-packages\\seaborn\\_decorators.py:36: FutureWarning: Pass the following variable as a keyword arg: x. From version 0.12, the only valid positional argument will be `data`, and passing other arguments without an explicit keyword will result in an error or misinterpretation.\n",
      "  warnings.warn(\n"
     ]
    },
    {
     "data": {
      "image/png": "[encoded data removed]",
      "text/plain": [
       "<Figure size 432x288 with 1 Axes>"
      ]
     },
     "metadata": {
      "needs_background": "light"
     },
     "output_type": "display_data"
    },
    {
     "name": "stderr",
     "output_type": "stream",
     "text": [
      "C:\\Users\\User\\anaconda3\\lib\\site-packages\\seaborn\\_decorators.py:36: FutureWarning: Pass the following variable as a keyword arg: x. From version 0.12, the only valid positional argument will be `data`, and passing other arguments without an explicit keyword will result in an error or misinterpretation.\n",
      "  warnings.warn(\n"
     ]
    },
    {
     "data": {
      "image/png": "[encoded data removed]",
      "text/plain": [
       "<Figure size 432x288 with 1 Axes>"
      ]
     },
     "metadata": {
      "needs_background": "light"
     },
     "output_type": "display_data"
    },
    {
     "name": "stderr",
     "output_type": "stream",
     "text": [
      "C:\\Users\\User\\anaconda3\\lib\\site-packages\\seaborn\\_decorators.py:36: FutureWarning: Pass the following variable as a keyword arg: x. From version 0.12, the only valid positional argument will be `data`, and passing other arguments without an explicit keyword will result in an error or misinterpretation.\n",
      "  warnings.warn(\n"
     ]
    },
    {
     "data": {
      "image/png": "[encoded data removed]",
      "text/plain": [
       "<Figure size 432x288 with 1 Axes>"
      ]
     },
     "metadata": {
      "needs_background": "light"
     },
     "output_type": "display_data"
    },
    {
     "name": "stderr",
     "output_type": "stream",
     "text": [
      "C:\\Users\\User\\anaconda3\\lib\\site-packages\\seaborn\\_decorators.py:36: FutureWarning: Pass the following variable as a keyword arg: x. From version 0.12, the only valid positional argument will be `data`, and passing other arguments without an explicit keyword will result in an error or misinterpretation.\n",
      "  warnings.warn(\n"
     ]
    },
    {
     "data": {
      "image/png": "[encoded data removed]",
      "text/plain": [
       "<Figure size 432x288 with 1 Axes>"
      ]
     },
     "metadata": {
      "needs_background": "light"
     },
     "output_type": "display_data"
    },
    {
     "name": "stderr",
     "output_type": "stream",
     "text": [
      "C:\\Users\\User\\anaconda3\\lib\\site-packages\\seaborn\\_decorators.py:36: FutureWarning: Pass the following variable as a keyword arg: x. From version 0.12, the only valid positional argument will be `data`, and passing other arguments without an explicit keyword will result in an error or misinterpretation.\n",
      "  warnings.warn(\n"
     ]
    },
    {
     "data": {
      "image/png": "[encoded data removed]",
      "text/plain": [
       "<Figure size 432x288 with 1 Axes>"
      ]
     },
     "metadata": {
      "needs_background": "light"
     },
     "output_type": "display_data"
    },
    {
     "name": "stderr",
     "output_type": "stream",
     "text": [
      "C:\\Users\\User\\anaconda3\\lib\\site-packages\\seaborn\\_decorators.py:36: FutureWarning: Pass the following variable as a keyword arg: x. From version 0.12, the only valid positional argument will be `data`, and passing other arguments without an explicit keyword will result in an error or misinterpretation.\n",
      "  warnings.warn(\n"
     ]
    },
    {
     "data": {
      "image/png": "[encoded data removed]",
      "text/plain": [
       "<Figure size 432x288 with 1 Axes>"
      ]
     },
     "metadata": {
      "needs_background": "light"
     },
     "output_type": "display_data"
    },
    {
     "name": "stderr",
     "output_type": "stream",
     "text": [
      "C:\\Users\\User\\anaconda3\\lib\\site-packages\\seaborn\\_decorators.py:36: FutureWarning: Pass the following variable as a keyword arg: x. From version 0.12, the only valid positional argument will be `data`, and passing other arguments without an explicit keyword will result in an error or misinterpretation.\n",
      "  warnings.warn(\n"
     ]
    },
    {
     "data": {
      "image/png": "[encoded data removed]",
      "text/plain": [
       "<Figure size 432x288 with 1 Axes>"
      ]
     },
     "metadata": {
      "needs_background": "light"
     },
     "output_type": "display_data"
    },
    {
     "name": "stderr",
     "output_type": "stream",
     "text": [
      "C:\\Users\\User\\anaconda3\\lib\\site-packages\\seaborn\\_decorators.py:36: FutureWarning: Pass the following variable as a keyword arg: x. From version 0.12, the only valid positional argument will be `data`, and passing other arguments without an explicit keyword will result in an error or misinterpretation.\n",
      "  warnings.warn(\n"
     ]
    },
    {
     "data": {
      "image/png": "[encoded data removed]",
      "text/plain": [
       "<Figure size 432x288 with 1 Axes>"
      ]
     },
     "metadata": {
      "needs_background": "light"
     },
     "output_type": "display_data"
    },
    {
     "name": "stderr",
     "output_type": "stream",
     "text": [
      "C:\\Users\\User\\anaconda3\\lib\\site-packages\\seaborn\\_decorators.py:36: FutureWarning: Pass the following variable as a keyword arg: x. From version 0.12, the only valid positional argument will be `data`, and passing other arguments without an explicit keyword will result in an error or misinterpretation.\n",
      "  warnings.warn(\n"
     ]
    },
    {
     "data": {
      "image/png": "[encoded data removed]",
      "text/plain": [
       "<Figure size 432x288 with 1 Axes>"
      ]
     },
     "metadata": {
      "needs_background": "light"
     },
     "output_type": "display_data"
    },
    {
     "name": "stderr",
     "output_type": "stream",
     "text": [
      "C:\\Users\\User\\anaconda3\\lib\\site-packages\\seaborn\\_decorators.py:36: FutureWarning: Pass the following variable as a keyword arg: x. From version 0.12, the only valid positional argument will be `data`, and passing other arguments without an explicit keyword will result in an error or misinterpretation.\n",
      "  warnings.warn(\n"
     ]
    },
    {
     "data": {
      "image/png": "[encoded data removed]",
      "text/plain": [
       "<Figure size 432x288 with 1 Axes>"
      ]
     },
     "metadata": {
      "needs_background": "light"
     },
     "output_type": "display_data"
    },
    {
     "name": "stderr",
     "output_type": "stream",
     "text": [
      "C:\\Users\\User\\anaconda3\\lib\\site-packages\\seaborn\\_decorators.py:36: FutureWarning: Pass the following variable as a keyword arg: x. From version 0.12, the only valid positional argument will be `data`, and passing other arguments without an explicit keyword will result in an error or misinterpretation.\n",
      "  warnings.warn(\n"
     ]
    },
    {
     "data": {
      "image/png": "[encoded data removed]",
      "text/plain": [
       "<Figure size 432x288 with 1 Axes>"
      ]
     },
     "metadata": {
      "needs_background": "light"
     },
     "output_type": "display_data"
    }
   ],
   "source": [
    "cols=['menopaus','agegrp','density','race','Hispanic','bmi','agefirst','nrelbc','brstproc','lastmamm','surgmeno','hrt','invasive','count']\n",
    "for i in cols:\n",
    "    sns.boxplot(df[i],showmeans=True,whis=0.1)\n",
    "    plt.grid()\n",
    "    plt.show();"
   ]
  },
  {
   "cell_type": "code",
   "execution_count": null,
   "metadata": {},
   "outputs": [],
   "source": []
  },
  {
   "cell_type": "markdown",
   "metadata": {},
   "source": [
    "**Outlier Treatment**"
   ]
  },
  {
   "cell_type": "code",
   "execution_count": 32,
   "metadata": {},
   "outputs": [],
   "source": [
    "#def remove_outlier(col):\n",
    "#    Q1,Q3=col.quantile([0.25,0.75])\n",
    "#    IQR=Q3-Q1\n",
    "#    lower_range= Q1-(1.5 * IQR)\n",
    "#    upper_range= Q3+(1.5 * IQR)\n",
    "#    return lower_range, upper_range "
   ]
  },
  {
   "cell_type": "code",
   "execution_count": 33,
   "metadata": {},
   "outputs": [],
   "source": [
    "#for column in df[cols].columns:\n",
    "#    lr,ur=remove_outlier(df[column])\n",
    "#    df[column]=np.where(df[column]>ur,ur,df[column])\n",
    "#    df[column]=np.where(df[column]<lr,lr,df[column])"
   ]
  },
  {
   "cell_type": "code",
   "execution_count": 34,
   "metadata": {},
   "outputs": [],
   "source": [
    "#cols=['AgentBonus', 'Age', 'CustTenure', 'MonthlyIncome','ExistingPolicyTenure','SumAssured','LastMonthCalls']\n",
    "#for i in cols:\n",
    "#    sns.boxplot(df[i],whis=1.5)\n",
    "#    plt.grid()\n",
    "#    plt.show();"
   ]
  },
  {
   "cell_type": "code",
   "execution_count": null,
   "metadata": {},
   "outputs": [],
   "source": []
  },
  {
   "cell_type": "markdown",
   "metadata": {},
   "source": [
    "**Univariate Analysis**"
   ]
  },
  {
   "cell_type": "markdown",
   "metadata": {},
   "source": [
    "- Distribution of variables"
   ]
  },
  {
   "cell_type": "code",
   "execution_count": 34,
   "metadata": {},
   "outputs": [],
   "source": [
    "from pylab import rcParams\n",
    "rcParams['figure.figsize'] = 16,20"
   ]
  },
  {
   "cell_type": "code",
   "execution_count": 36,
   "metadata": {},
   "outputs": [
    {
     "data": {
      "image/png": "[encoded data removed]",
      "text/plain": [
       "<Figure size 1152x1440 with 16 Axes>"
      ]
     },
     "metadata": {
      "needs_background": "light"
     },
     "output_type": "display_data"
    }
   ],
   "source": [
    "df[['menopaus','agegrp','density','race','Hispanic','bmi','agefirst','nrelbc','brstproc','lastmamm','surgmeno','hrt','invasive','count']].hist();"
   ]
  },
  {
   "cell_type": "markdown",
   "metadata": {},
   "source": [
    "**BiVariate Analysis with Target Variable : 'cancer'**"
   ]
  },
  {
   "cell_type": "markdown",
   "metadata": {},
   "source": [
    "- 'menopaus' with 'cancer'"
   ]
  },
  {
   "cell_type": "code",
   "execution_count": 37,
   "metadata": {},
   "outputs": [
    {
     "data": {
      "text/plain": [
       "<AxesSubplot:xlabel='cancer', ylabel='count'>"
      ]
     },
     "execution_count": 37,
     "metadata": {},
     "output_type": "execute_result"
    },
    {
     "data": {
      "image/png": "[encoded data removed]",
      "text/plain": [
       "<Figure size 360x360 with 1 Axes>"
      ]
     },
     "metadata": {
      "needs_background": "light"
     },
     "output_type": "display_data"
    }
   ],
   "source": [
    "plt.figure(figsize=(5,5))\n",
    "sns.countplot(x=\"cancer\",hue=\"menopaus\",data=df)"
   ]
  },
  {
   "cell_type": "markdown",
   "metadata": {},
   "source": [
    "- 'agegrp' with 'cancer'"
   ]
  },
  {
   "cell_type": "code",
   "execution_count": 38,
   "metadata": {},
   "outputs": [
    {
     "data": {
      "text/plain": [
       "<AxesSubplot:xlabel='cancer', ylabel='count'>"
      ]
     },
     "execution_count": 38,
     "metadata": {},
     "output_type": "execute_result"
    },
    {
     "data": {
      "image/png": "[encoded data removed]",
      "text/plain": [
       "<Figure size 360x360 with 1 Axes>"
      ]
     },
     "metadata": {
      "needs_background": "light"
     },
     "output_type": "display_data"
    }
   ],
   "source": [
    "plt.figure(figsize=(5,5))\n",
    "sns.countplot(x=\"cancer\",hue=\"agegrp\",data=df)"
   ]
  },
  {
   "cell_type": "markdown",
   "metadata": {},
   "source": [
    "- 'density' with 'cancer'"
   ]
  },
  {
   "cell_type": "code",
   "execution_count": 39,
   "metadata": {},
   "outputs": [
    {
     "data": {
      "text/plain": [
       "<AxesSubplot:xlabel='cancer', ylabel='count'>"
      ]
     },
     "execution_count": 39,
     "metadata": {},
     "output_type": "execute_result"
    },
    {
     "data": {
      "image/png": "[encoded data removed]",
      "text/plain": [
       "<Figure size 360x360 with 1 Axes>"
      ]
     },
     "metadata": {
      "needs_background": "light"
     },
     "output_type": "display_data"
    }
   ],
   "source": [
    "plt.figure(figsize=(5,5))\n",
    "sns.countplot(x=\"cancer\",hue=\"density\",data=df)"
   ]
  },
  {
   "cell_type": "markdown",
   "metadata": {},
   "source": [
    "- 'race' with 'cancer'"
   ]
  },
  {
   "cell_type": "code",
   "execution_count": 40,
   "metadata": {},
   "outputs": [
    {
     "data": {
      "text/plain": [
       "<AxesSubplot:xlabel='cancer', ylabel='count'>"
      ]
     },
     "execution_count": 40,
     "metadata": {},
     "output_type": "execute_result"
    },
    {
     "data": {
      "image/png": "[encoded data removed]",
      "text/plain": [
       "<Figure size 360x360 with 1 Axes>"
      ]
     },
     "metadata": {
      "needs_background": "light"
     },
     "output_type": "display_data"
    }
   ],
   "source": [
    "plt.figure(figsize=(5,5))\n",
    "sns.countplot(x=\"cancer\",hue=\"race\",data=df)"
   ]
  },
  {
   "cell_type": "markdown",
   "metadata": {},
   "source": [
    "- 'Hispanic' with 'cancer'"
   ]
  },
  {
   "cell_type": "code",
   "execution_count": 41,
   "metadata": {},
   "outputs": [
    {
     "data": {
      "text/plain": [
       "<AxesSubplot:xlabel='cancer', ylabel='count'>"
      ]
     },
     "execution_count": 41,
     "metadata": {},
     "output_type": "execute_result"
    },
    {
     "data": {
      "image/png": "[encoded data removed]",
      "text/plain": [
       "<Figure size 360x360 with 1 Axes>"
      ]
     },
     "metadata": {
      "needs_background": "light"
     },
     "output_type": "display_data"
    }
   ],
   "source": [
    "plt.figure(figsize=(5,5))\n",
    "sns.countplot(x=\"cancer\",hue=\"Hispanic\",data=df)"
   ]
  },
  {
   "cell_type": "markdown",
   "metadata": {},
   "source": [
    "- 'bmi' with 'cancer'"
   ]
  },
  {
   "cell_type": "code",
   "execution_count": 42,
   "metadata": {},
   "outputs": [
    {
     "data": {
      "text/plain": [
       "<AxesSubplot:xlabel='cancer', ylabel='count'>"
      ]
     },
     "execution_count": 42,
     "metadata": {},
     "output_type": "execute_result"
    },
    {
     "data": {
      "image/png": "[encoded data removed]",
      "text/plain": [
       "<Figure size 360x360 with 1 Axes>"
      ]
     },
     "metadata": {
      "needs_background": "light"
     },
     "output_type": "display_data"
    }
   ],
   "source": [
    "plt.figure(figsize=(5,5))\n",
    "sns.countplot(x=\"cancer\",hue=\"bmi\",data=df)"
   ]
  },
  {
   "cell_type": "markdown",
   "metadata": {},
   "source": [
    "- 'agefirst' with 'cancer'"
   ]
  },
  {
   "cell_type": "code",
   "execution_count": 43,
   "metadata": {},
   "outputs": [
    {
     "data": {
      "text/plain": [
       "<AxesSubplot:xlabel='cancer', ylabel='count'>"
      ]
     },
     "execution_count": 43,
     "metadata": {},
     "output_type": "execute_result"
    },
    {
     "data": {
      "image/png": "[encoded data removed]",
      "text/plain": [
       "<Figure size 360x360 with 1 Axes>"
      ]
     },
     "metadata": {
      "needs_background": "light"
     },
     "output_type": "display_data"
    }
   ],
   "source": [
    "plt.figure(figsize=(5,5))\n",
    "sns.countplot(x=\"cancer\",hue=\"agefirst\",data=df)"
   ]
  },
  {
   "cell_type": "markdown",
   "metadata": {},
   "source": [
    "- 'nrelbc' with 'cancer'"
   ]
  },
  {
   "cell_type": "code",
   "execution_count": 44,
   "metadata": {},
   "outputs": [
    {
     "data": {
      "text/plain": [
       "<AxesSubplot:xlabel='cancer', ylabel='count'>"
      ]
     },
     "execution_count": 44,
     "metadata": {},
     "output_type": "execute_result"
    },
    {
     "data": {
      "image/png": "[encoded data removed]",
      "text/plain": [
       "<Figure size 360x360 with 1 Axes>"
      ]
     },
     "metadata": {
      "needs_background": "light"
     },
     "output_type": "display_data"
    }
   ],
   "source": [
    "plt.figure(figsize=(5,5))\n",
    "sns.countplot(x=\"cancer\",hue=\"nrelbc\",data=df)"
   ]
  },
  {
   "cell_type": "markdown",
   "metadata": {},
   "source": [
    "- 'brstproc' with 'cancer'"
   ]
  },
  {
   "cell_type": "code",
   "execution_count": 45,
   "metadata": {},
   "outputs": [
    {
     "data": {
      "text/plain": [
       "<AxesSubplot:xlabel='cancer', ylabel='count'>"
      ]
     },
     "execution_count": 45,
     "metadata": {},
     "output_type": "execute_result"
    },
    {
     "data": {
      "image/png": "[encoded data removed]",
      "text/plain": [
       "<Figure size 360x360 with 1 Axes>"
      ]
     },
     "metadata": {
      "needs_background": "light"
     },
     "output_type": "display_data"
    }
   ],
   "source": [
    "plt.figure(figsize=(5,5))\n",
    "sns.countplot(x=\"cancer\",hue=\"brstproc\",data=df)"
   ]
  },
  {
   "cell_type": "markdown",
   "metadata": {},
   "source": [
    "- 'lastmamm' with 'cancer'"
   ]
  },
  {
   "cell_type": "code",
   "execution_count": 46,
   "metadata": {},
   "outputs": [
    {
     "data": {
      "text/plain": [
       "<AxesSubplot:xlabel='cancer', ylabel='count'>"
      ]
     },
     "execution_count": 46,
     "metadata": {},
     "output_type": "execute_result"
    },
    {
     "data": {
      "image/png": "[encoded data removed]",
      "text/plain": [
       "<Figure size 360x360 with 1 Axes>"
      ]
     },
     "metadata": {
      "needs_background": "light"
     },
     "output_type": "display_data"
    }
   ],
   "source": [
    "plt.figure(figsize=(5,5))\n",
    "sns.countplot(x=\"cancer\",hue=\"lastmamm\",data=df)"
   ]
  },
  {
   "cell_type": "markdown",
   "metadata": {},
   "source": [
    "- 'surgmeno' with 'cancer'"
   ]
  },
  {
   "cell_type": "code",
   "execution_count": 47,
   "metadata": {},
   "outputs": [
    {
     "data": {
      "text/plain": [
       "<AxesSubplot:xlabel='cancer', ylabel='count'>"
      ]
     },
     "execution_count": 47,
     "metadata": {},
     "output_type": "execute_result"
    },
    {
     "data": {
      "image/png": "[encoded data removed]",
      "text/plain": [
       "<Figure size 360x360 with 1 Axes>"
      ]
     },
     "metadata": {
      "needs_background": "light"
     },
     "output_type": "display_data"
    }
   ],
   "source": [
    "plt.figure(figsize=(5,5))\n",
    "sns.countplot(x=\"cancer\",hue=\"surgmeno\",data=df)"
   ]
  },
  {
   "cell_type": "markdown",
   "metadata": {},
   "source": [
    "- 'hrt' with 'cancer'"
   ]
  },
  {
   "cell_type": "code",
   "execution_count": 48,
   "metadata": {},
   "outputs": [
    {
     "data": {
      "text/plain": [
       "<AxesSubplot:xlabel='cancer', ylabel='count'>"
      ]
     },
     "execution_count": 48,
     "metadata": {},
     "output_type": "execute_result"
    },
    {
     "data": {
      "image/png": "[encoded data removed]",
      "text/plain": [
       "<Figure size 360x360 with 1 Axes>"
      ]
     },
     "metadata": {
      "needs_background": "light"
     },
     "output_type": "display_data"
    }
   ],
   "source": [
    "plt.figure(figsize=(5,5))\n",
    "sns.countplot(x=\"cancer\",hue=\"hrt\",data=df)"
   ]
  },
  {
   "cell_type": "markdown",
   "metadata": {},
   "source": [
    "- 'invasive' with 'cancer'"
   ]
  },
  {
   "cell_type": "code",
   "execution_count": 49,
   "metadata": {},
   "outputs": [
    {
     "data": {
      "text/plain": [
       "<AxesSubplot:xlabel='cancer', ylabel='count'>"
      ]
     },
     "execution_count": 49,
     "metadata": {},
     "output_type": "execute_result"
    },
    {
     "data": {
      "image/png": "[encoded data removed]",
      "text/plain": [
       "<Figure size 360x360 with 1 Axes>"
      ]
     },
     "metadata": {
      "needs_background": "light"
     },
     "output_type": "display_data"
    }
   ],
   "source": [
    "plt.figure(figsize=(5,5))\n",
    "sns.countplot(x=\"cancer\",hue=\"invasive\",data=df)"
   ]
  },
  {
   "cell_type": "markdown",
   "metadata": {},
   "source": [
    "- 'count' with 'cancer'"
   ]
  },
  {
   "cell_type": "code",
   "execution_count": 50,
   "metadata": {},
   "outputs": [
    {
     "name": "stderr",
     "output_type": "stream",
     "text": [
      "C:\\Users\\User\\anaconda3\\lib\\site-packages\\seaborn\\_decorators.py:36: FutureWarning: Pass the following variables as keyword args: x, y. From version 0.12, the only valid positional argument will be `data`, and passing other arguments without an explicit keyword will result in an error or misinterpretation.\n",
      "  warnings.warn(\n"
     ]
    },
    {
     "data": {
      "image/png": "[encoded data removed]",
      "text/plain": [
       "<Figure size 576x576 with 1 Axes>"
      ]
     },
     "metadata": {
      "needs_background": "light"
     },
     "output_type": "display_data"
    }
   ],
   "source": [
    "plt.figure(figsize=(8,8))\n",
    "sns.stripplot(df[\"cancer\"], df['count'], jitter=True) \n",
    "plt.show()"
   ]
  },
  {
   "cell_type": "markdown",
   "metadata": {},
   "source": [
    "**Multi variate Analysis**"
   ]
  },
  {
   "cell_type": "code",
   "execution_count": null,
   "metadata": {},
   "outputs": [],
   "source": [
    "#sns.pairplot(df,diag_kind='hist',hue='cancer');"
   ]
  },
  {
   "cell_type": "code",
   "execution_count": 35,
   "metadata": {},
   "outputs": [
    {
     "data": {
      "image/png": "[encoded data removed]",
      "text/plain": [
       "<Figure size 864x504 with 2 Axes>"
      ]
     },
     "metadata": {
      "needs_background": "light"
     },
     "output_type": "display_data"
    }
   ],
   "source": [
    "plt.figure(figsize=(12,7))\n",
    "sns.heatmap(df.corr(), annot=True, fmt='.2f', cmap='Blues')\n",
    "plt.show()"
   ]
  },
  {
   "cell_type": "markdown",
   "metadata": {},
   "source": [
    "**Observation**"
   ]
  },
  {
   "cell_type": "markdown",
   "metadata": {},
   "source": [
    "- The target field 'cancer'is highly influenced by 'invasive' field.\n",
    "- There is no corelation among the predictor fields."
   ]
  },
  {
   "cell_type": "code",
   "execution_count": null,
   "metadata": {},
   "outputs": [],
   "source": []
  },
  {
   "cell_type": "markdown",
   "metadata": {},
   "source": [
    "**Insights from EDA**"
   ]
  },
  {
   "cell_type": "code",
   "execution_count": null,
   "metadata": {},
   "outputs": [],
   "source": []
  },
  {
   "cell_type": "code",
   "execution_count": null,
   "metadata": {},
   "outputs": [],
   "source": []
  },
  {
   "cell_type": "code",
   "execution_count": null,
   "metadata": {},
   "outputs": [],
   "source": []
  },
  {
   "cell_type": "code",
   "execution_count": null,
   "metadata": {},
   "outputs": [],
   "source": []
  },
  {
   "cell_type": "code",
   "execution_count": null,
   "metadata": {},
   "outputs": [],
   "source": []
  },
  {
   "cell_type": "code",
   "execution_count": null,
   "metadata": {},
   "outputs": [],
   "source": []
  },
  {
   "cell_type": "code",
   "execution_count": null,
   "metadata": {},
   "outputs": [],
   "source": []
  },
  {
   "cell_type": "markdown",
   "metadata": {},
   "source": [
    "**VIF**"
   ]
  },
  {
   "cell_type": "code",
   "execution_count": 53,
   "metadata": {},
   "outputs": [
    {
     "data": {
      "text/plain": [
       "Index(['menopaus', 'agegrp', 'density', 'race', 'Hispanic', 'bmi', 'agefirst',\n",
       "       'nrelbc', 'brstproc', 'lastmamm', 'surgmeno', 'hrt', 'invasive',\n",
       "       'cancer', 'count'],\n",
       "      dtype='object')"
      ]
     },
     "execution_count": 53,
     "metadata": {},
     "output_type": "execute_result"
    }
   ],
   "source": [
    "df.columns"
   ]
  },
  {
   "cell_type": "code",
   "execution_count": 36,
   "metadata": {},
   "outputs": [
    {
     "data": {
      "text/html": [
       "<div>\n",
       "<style scoped>\n",
       "    .dataframe tbody tr th:only-of-type {\n",
       "        vertical-align: middle;\n",
       "    }\n",
       "\n",
       "    .dataframe tbody tr th {\n",
       "        vertical-align: top;\n",
       "    }\n",
       "\n",
       "    .dataframe thead th {\n",
       "        text-align: right;\n",
       "    }\n",
       "</style>\n",
       "<table border=\"1\" class=\"dataframe\">\n",
       "  <thead>\n",
       "    <tr style=\"text-align: right;\">\n",
       "      <th></th>\n",
       "      <th>menopaus</th>\n",
       "      <th>agegrp</th>\n",
       "      <th>density</th>\n",
       "      <th>race</th>\n",
       "      <th>Hispanic</th>\n",
       "      <th>bmi</th>\n",
       "      <th>agefirst</th>\n",
       "      <th>nrelbc</th>\n",
       "      <th>brstproc</th>\n",
       "      <th>lastmamm</th>\n",
       "      <th>surgmeno</th>\n",
       "      <th>hrt</th>\n",
       "      <th>invasive</th>\n",
       "      <th>cancer</th>\n",
       "      <th>count</th>\n",
       "    </tr>\n",
       "  </thead>\n",
       "  <tbody>\n",
       "    <tr>\n",
       "      <th>0</th>\n",
       "      <td>-0.68569</td>\n",
       "      <td>-1.872356</td>\n",
       "      <td>-1.045643</td>\n",
       "      <td>-0.690402</td>\n",
       "      <td>-0.71096</td>\n",
       "      <td>-1.088196</td>\n",
       "      <td>-0.848813</td>\n",
       "      <td>-0.513827</td>\n",
       "      <td>-0.493222</td>\n",
       "      <td>1.418888</td>\n",
       "      <td>1.14248</td>\n",
       "      <td>1.40311</td>\n",
       "      <td>-0.162114</td>\n",
       "      <td>-0.185273</td>\n",
       "      <td>-0.119094</td>\n",
       "    </tr>\n",
       "    <tr>\n",
       "      <th>1</th>\n",
       "      <td>-0.68569</td>\n",
       "      <td>-1.872356</td>\n",
       "      <td>-1.045643</td>\n",
       "      <td>-0.690402</td>\n",
       "      <td>-0.71096</td>\n",
       "      <td>-1.088196</td>\n",
       "      <td>-0.848813</td>\n",
       "      <td>-0.513827</td>\n",
       "      <td>-0.493222</td>\n",
       "      <td>1.418888</td>\n",
       "      <td>1.14248</td>\n",
       "      <td>1.40311</td>\n",
       "      <td>-0.162114</td>\n",
       "      <td>-0.185273</td>\n",
       "      <td>-0.082307</td>\n",
       "    </tr>\n",
       "    <tr>\n",
       "      <th>2</th>\n",
       "      <td>-0.68569</td>\n",
       "      <td>-1.872356</td>\n",
       "      <td>-1.045643</td>\n",
       "      <td>-0.690402</td>\n",
       "      <td>-0.71096</td>\n",
       "      <td>-1.088196</td>\n",
       "      <td>-0.848813</td>\n",
       "      <td>-0.186813</td>\n",
       "      <td>-0.493222</td>\n",
       "      <td>-0.724511</td>\n",
       "      <td>1.14248</td>\n",
       "      <td>1.40311</td>\n",
       "      <td>-0.162114</td>\n",
       "      <td>-0.185273</td>\n",
       "      <td>-0.137487</td>\n",
       "    </tr>\n",
       "    <tr>\n",
       "      <th>3</th>\n",
       "      <td>-0.68569</td>\n",
       "      <td>-1.872356</td>\n",
       "      <td>-1.045643</td>\n",
       "      <td>-0.690402</td>\n",
       "      <td>-0.71096</td>\n",
       "      <td>-1.088196</td>\n",
       "      <td>-0.848813</td>\n",
       "      <td>-0.186813</td>\n",
       "      <td>-0.493222</td>\n",
       "      <td>1.418888</td>\n",
       "      <td>1.14248</td>\n",
       "      <td>1.40311</td>\n",
       "      <td>-0.162114</td>\n",
       "      <td>-0.185273</td>\n",
       "      <td>-0.137487</td>\n",
       "    </tr>\n",
       "    <tr>\n",
       "      <th>4</th>\n",
       "      <td>-0.68569</td>\n",
       "      <td>-1.872356</td>\n",
       "      <td>-1.045643</td>\n",
       "      <td>-0.690402</td>\n",
       "      <td>-0.71096</td>\n",
       "      <td>-1.088196</td>\n",
       "      <td>-0.597159</td>\n",
       "      <td>-0.513827</td>\n",
       "      <td>-0.493222</td>\n",
       "      <td>-0.724511</td>\n",
       "      <td>1.14248</td>\n",
       "      <td>1.40311</td>\n",
       "      <td>-0.162114</td>\n",
       "      <td>-0.185273</td>\n",
       "      <td>-0.119094</td>\n",
       "    </tr>\n",
       "  </tbody>\n",
       "</table>\n",
       "</div>"
      ],
      "text/plain": [
       "   menopaus    agegrp   density      race  Hispanic       bmi  agefirst  \\\n",
       "0  -0.68569 -1.872356 -1.045643 -0.690402  -0.71096 -1.088196 -0.848813   \n",
       "1  -0.68569 -1.872356 -1.045643 -0.690402  -0.71096 -1.088196 -0.848813   \n",
       "2  -0.68569 -1.872356 -1.045643 -0.690402  -0.71096 -1.088196 -0.848813   \n",
       "3  -0.68569 -1.872356 -1.045643 -0.690402  -0.71096 -1.088196 -0.848813   \n",
       "4  -0.68569 -1.872356 -1.045643 -0.690402  -0.71096 -1.088196 -0.597159   \n",
       "\n",
       "     nrelbc  brstproc  lastmamm  surgmeno      hrt  invasive    cancer  \\\n",
       "0 -0.513827 -0.493222  1.418888   1.14248  1.40311 -0.162114 -0.185273   \n",
       "1 -0.513827 -0.493222  1.418888   1.14248  1.40311 -0.162114 -0.185273   \n",
       "2 -0.186813 -0.493222 -0.724511   1.14248  1.40311 -0.162114 -0.185273   \n",
       "3 -0.186813 -0.493222  1.418888   1.14248  1.40311 -0.162114 -0.185273   \n",
       "4 -0.513827 -0.493222 -0.724511   1.14248  1.40311 -0.162114 -0.185273   \n",
       "\n",
       "      count  \n",
       "0 -0.119094  \n",
       "1 -0.082307  \n",
       "2 -0.137487  \n",
       "3 -0.137487  \n",
       "4 -0.119094  "
      ]
     },
     "execution_count": 36,
     "metadata": {},
     "output_type": "execute_result"
    }
   ],
   "source": [
    "from scipy.stats import zscore\n",
    "df_scaled=df.apply(zscore)\n",
    "df_scaled.head()"
   ]
  },
  {
   "cell_type": "code",
   "execution_count": 37,
   "metadata": {},
   "outputs": [
    {
     "name": "stdout",
     "output_type": "stream",
     "text": [
      "    features       VIF\n",
      "12  invasive  1.008640\n",
      "13     count  1.013124\n",
      "9   lastmamm  1.014482\n",
      "2    density  1.030656\n",
      "7     nrelbc  1.039857\n",
      "8   brstproc  1.057166\n",
      "0   menopaus  1.083250\n",
      "6   agefirst  1.115200\n",
      "5        bmi  1.154057\n",
      "4   Hispanic  1.201960\n",
      "3       race  1.235072\n",
      "1     agegrp  1.248989\n",
      "10  surgmeno  1.353580\n",
      "11       hrt  1.442357\n"
     ]
    }
   ],
   "source": [
    "from statsmodels.stats.outliers_influence import variance_inflation_factor\n",
    "Z = df_scaled\n",
    "Z = df_scaled.drop(['cancer'],axis=1) \n",
    "vif = pd.DataFrame()\n",
    "vif[\"features\"]=Z.columns\n",
    "vif[\"VIF\"] = [variance_inflation_factor(Z.values, i)\n",
    "                          for i in range(len(Z.columns))]  \n",
    "print(vif.sort_values(by='VIF'))"
   ]
  },
  {
   "cell_type": "code",
   "execution_count": null,
   "metadata": {},
   "outputs": [],
   "source": []
  },
  {
   "cell_type": "markdown",
   "metadata": {},
   "source": [
    "**Train/Test Split**"
   ]
  },
  {
   "cell_type": "code",
   "execution_count": 38,
   "metadata": {},
   "outputs": [],
   "source": [
    "from sklearn.model_selection import train_test_split"
   ]
  },
  {
   "cell_type": "code",
   "execution_count": 39,
   "metadata": {},
   "outputs": [],
   "source": [
    "# capture the target column (\"cancer\") into separate vectors for training set and test set\n",
    "\n",
    "# Copy all the predictor variables into X dataframe\n",
    "X = df.drop(['cancer'],axis=1) \n",
    "# Copy target into the y dataframe. \n",
    "y = df[['cancer']]"
   ]
  },
  {
   "cell_type": "code",
   "execution_count": 40,
   "metadata": {},
   "outputs": [],
   "source": [
    "# splitting data into training and test set for independent attributes\n",
    "x_train, x_test, y_train, y_test = train_test_split(X, y, test_size=0.30 , random_state=1,stratify=df['cancer']) "
   ]
  },
  {
   "cell_type": "code",
   "execution_count": 41,
   "metadata": {},
   "outputs": [
    {
     "data": {
      "text/plain": [
       "((137523, 14), (137523, 1), (58939, 14), (58939, 1))"
      ]
     },
     "execution_count": 41,
     "metadata": {},
     "output_type": "execute_result"
    }
   ],
   "source": [
    "x_train.shape, y_train.shape, x_test.shape, y_test.shape"
   ]
  },
  {
   "cell_type": "code",
   "execution_count": 42,
   "metadata": {},
   "outputs": [
    {
     "data": {
      "text/plain": [
       "cancer\n",
       "0         0.966813\n",
       "1         0.033187\n",
       "dtype: float64"
      ]
     },
     "execution_count": 42,
     "metadata": {},
     "output_type": "execute_result"
    }
   ],
   "source": [
    "y_test.value_counts(normalize=True)"
   ]
  },
  {
   "cell_type": "code",
   "execution_count": 43,
   "metadata": {},
   "outputs": [
    {
     "data": {
      "text/plain": [
       "cancer\n",
       "0         0.966813\n",
       "1         0.033187\n",
       "dtype: float64"
      ]
     },
     "execution_count": 43,
     "metadata": {},
     "output_type": "execute_result"
    }
   ],
   "source": [
    "y_train.value_counts(normalize=True)"
   ]
  },
  {
   "cell_type": "code",
   "execution_count": null,
   "metadata": {},
   "outputs": [],
   "source": []
  },
  {
   "cell_type": "code",
   "execution_count": null,
   "metadata": {},
   "outputs": [],
   "source": []
  },
  {
   "cell_type": "markdown",
   "metadata": {},
   "source": [
    "**Scaling**"
   ]
  },
  {
   "cell_type": "code",
   "execution_count": 44,
   "metadata": {},
   "outputs": [],
   "source": [
    "from sklearn.preprocessing import StandardScaler"
   ]
  },
  {
   "cell_type": "code",
   "execution_count": 45,
   "metadata": {},
   "outputs": [],
   "source": [
    "ss=StandardScaler() \n",
    "# we are scaling the data for ANN. Without scaling it will give very poor results. Computations becomes easier\n",
    "x_train_scaled=ss.fit_transform(x_train)\n",
    "x_test_scaled=ss.transform(x_test)"
   ]
  },
  {
   "cell_type": "code",
   "execution_count": null,
   "metadata": {},
   "outputs": [],
   "source": []
  },
  {
   "cell_type": "code",
   "execution_count": null,
   "metadata": {},
   "outputs": [],
   "source": []
  },
  {
   "cell_type": "code",
   "execution_count": null,
   "metadata": {},
   "outputs": [],
   "source": []
  },
  {
   "cell_type": "code",
   "execution_count": null,
   "metadata": {},
   "outputs": [],
   "source": []
  },
  {
   "cell_type": "markdown",
   "metadata": {},
   "source": [
    "**Import necessary libraries for Model Building**"
   ]
  },
  {
   "cell_type": "code",
   "execution_count": 46,
   "metadata": {},
   "outputs": [],
   "source": [
    "from sklearn.ensemble import RandomForestClassifier\n",
    "import catboost as catboost\n",
    "from catboost import CatBoostClassifier\n",
    "from xgboost import XGBClassifier\n",
    "import xgboost as xgboost"
   ]
  },
  {
   "cell_type": "code",
   "execution_count": 47,
   "metadata": {},
   "outputs": [],
   "source": [
    "from sklearn.model_selection import GridSearchCV"
   ]
  },
  {
   "cell_type": "code",
   "execution_count": 48,
   "metadata": {},
   "outputs": [],
   "source": [
    "from sklearn import metrics\n",
    "from sklearn.metrics import roc_auc_score,roc_curve,classification_report,confusion_matrix,plot_confusion_matrix"
   ]
  },
  {
   "cell_type": "code",
   "execution_count": null,
   "metadata": {},
   "outputs": [],
   "source": []
  },
  {
   "cell_type": "markdown",
   "metadata": {},
   "source": [
    "**RandomForest, XGB, CatBoost**"
   ]
  },
  {
   "cell_type": "code",
   "execution_count": 104,
   "metadata": {},
   "outputs": [],
   "source": [
    "rf= RandomForestClassifier()\n",
    "xgb = XGBClassifier() \n",
    "cb = CatBoostClassifier()"
   ]
  },
  {
   "cell_type": "code",
   "execution_count": 105,
   "metadata": {},
   "outputs": [],
   "source": [
    "models=[rf,xgb,cb]\n",
    "scores_train=[]\n",
    "scores_test=[]"
   ]
  },
  {
   "cell_type": "code",
   "execution_count": 106,
   "metadata": {},
   "outputs": [
    {
     "name": "stderr",
     "output_type": "stream",
     "text": [
      "C:\\Users\\User\\AppData\\Local\\Temp\\ipykernel_4628\\1020830230.py:2: DataConversionWarning: A column-vector y was passed when a 1d array was expected. Please change the shape of y to (n_samples,), for example using ravel().\n",
      "  i.fit(x_train,y_train)\n"
     ]
    },
    {
     "name": "stdout",
     "output_type": "stream",
     "text": [
      "Learning rate set to 0.084337\n",
      "0:\tlearn: 0.5097666\ttotal: 371ms\tremaining: 6m 10s\n",
      "1:\tlearn: 0.3747878\ttotal: 490ms\tremaining: 4m 4s\n",
      "2:\tlearn: 0.2811275\ttotal: 601ms\tremaining: 3m 19s\n",
      "3:\tlearn: 0.2143181\ttotal: 777ms\tremaining: 3m 13s\n",
      "4:\tlearn: 0.1682652\ttotal: 909ms\tremaining: 3m\n",
      "5:\tlearn: 0.1355917\ttotal: 1s\tremaining: 2m 46s\n",
      "6:\tlearn: 0.1125443\ttotal: 1.1s\tremaining: 2m 35s\n",
      "7:\tlearn: 0.0957205\ttotal: 1.2s\tremaining: 2m 28s\n",
      "8:\tlearn: 0.0830059\ttotal: 1.29s\tremaining: 2m 22s\n",
      "9:\tlearn: 0.0737386\ttotal: 1.39s\tremaining: 2m 17s\n",
      "10:\tlearn: 0.0645405\ttotal: 1.47s\tremaining: 2m 12s\n",
      "11:\tlearn: 0.0594856\ttotal: 1.56s\tremaining: 2m 8s\n",
      "12:\tlearn: 0.0555626\ttotal: 1.65s\tremaining: 2m 5s\n",
      "13:\tlearn: 0.0527131\ttotal: 1.76s\tremaining: 2m 4s\n",
      "14:\tlearn: 0.0485746\ttotal: 1.88s\tremaining: 2m 3s\n",
      "15:\tlearn: 0.0470067\ttotal: 2s\tremaining: 2m 3s\n",
      "16:\tlearn: 0.0456883\ttotal: 2.12s\tremaining: 2m 2s\n",
      "17:\tlearn: 0.0435210\ttotal: 2.23s\tremaining: 2m 1s\n",
      "18:\tlearn: 0.0418040\ttotal: 2.33s\tremaining: 2m\n",
      "19:\tlearn: 0.0406963\ttotal: 2.43s\tremaining: 1m 59s\n",
      "20:\tlearn: 0.0401695\ttotal: 2.52s\tremaining: 1m 57s\n",
      "21:\tlearn: 0.0392835\ttotal: 2.62s\tremaining: 1m 56s\n",
      "22:\tlearn: 0.0384482\ttotal: 2.72s\tremaining: 1m 55s\n",
      "23:\tlearn: 0.0378369\ttotal: 2.81s\tremaining: 1m 54s\n",
      "24:\tlearn: 0.0373257\ttotal: 2.93s\tremaining: 1m 54s\n",
      "25:\tlearn: 0.0368406\ttotal: 3.05s\tremaining: 1m 54s\n",
      "26:\tlearn: 0.0364735\ttotal: 3.17s\tremaining: 1m 54s\n",
      "27:\tlearn: 0.0361382\ttotal: 3.28s\tremaining: 1m 54s\n",
      "28:\tlearn: 0.0357750\ttotal: 3.41s\tremaining: 1m 54s\n",
      "29:\tlearn: 0.0355434\ttotal: 3.53s\tremaining: 1m 54s\n",
      "30:\tlearn: 0.0352085\ttotal: 3.65s\tremaining: 1m 54s\n",
      "31:\tlearn: 0.0349560\ttotal: 3.76s\tremaining: 1m 53s\n",
      "32:\tlearn: 0.0347878\ttotal: 3.88s\tremaining: 1m 53s\n",
      "33:\tlearn: 0.0345894\ttotal: 4s\tremaining: 1m 53s\n",
      "34:\tlearn: 0.0343579\ttotal: 4.13s\tremaining: 1m 53s\n",
      "35:\tlearn: 0.0341936\ttotal: 4.24s\tremaining: 1m 53s\n",
      "36:\tlearn: 0.0340158\ttotal: 4.36s\tremaining: 1m 53s\n",
      "37:\tlearn: 0.0338362\ttotal: 4.47s\tremaining: 1m 53s\n",
      "38:\tlearn: 0.0336668\ttotal: 4.59s\tremaining: 1m 53s\n",
      "39:\tlearn: 0.0335100\ttotal: 4.71s\tremaining: 1m 52s\n",
      "40:\tlearn: 0.0333984\ttotal: 4.82s\tremaining: 1m 52s\n",
      "41:\tlearn: 0.0332773\ttotal: 4.95s\tremaining: 1m 52s\n",
      "42:\tlearn: 0.0331302\ttotal: 5.11s\tremaining: 1m 53s\n",
      "43:\tlearn: 0.0329886\ttotal: 5.27s\tremaining: 1m 54s\n",
      "44:\tlearn: 0.0328474\ttotal: 5.44s\tremaining: 1m 55s\n",
      "45:\tlearn: 0.0327311\ttotal: 5.6s\tremaining: 1m 56s\n",
      "46:\tlearn: 0.0325225\ttotal: 5.76s\tremaining: 1m 56s\n",
      "47:\tlearn: 0.0323966\ttotal: 5.89s\tremaining: 1m 56s\n",
      "48:\tlearn: 0.0322749\ttotal: 6.02s\tremaining: 1m 56s\n",
      "49:\tlearn: 0.0321210\ttotal: 6.13s\tremaining: 1m 56s\n",
      "50:\tlearn: 0.0319365\ttotal: 6.25s\tremaining: 1m 56s\n",
      "51:\tlearn: 0.0318124\ttotal: 6.38s\tremaining: 1m 56s\n",
      "52:\tlearn: 0.0317042\ttotal: 6.51s\tremaining: 1m 56s\n",
      "53:\tlearn: 0.0314545\ttotal: 6.62s\tremaining: 1m 56s\n",
      "54:\tlearn: 0.0313181\ttotal: 6.74s\tremaining: 1m 55s\n",
      "55:\tlearn: 0.0311860\ttotal: 6.88s\tremaining: 1m 55s\n",
      "56:\tlearn: 0.0310811\ttotal: 7.05s\tremaining: 1m 56s\n",
      "57:\tlearn: 0.0308858\ttotal: 7.19s\tremaining: 1m 56s\n",
      "58:\tlearn: 0.0307495\ttotal: 7.32s\tremaining: 1m 56s\n",
      "59:\tlearn: 0.0306808\ttotal: 7.43s\tremaining: 1m 56s\n",
      "60:\tlearn: 0.0305461\ttotal: 7.55s\tremaining: 1m 56s\n",
      "61:\tlearn: 0.0303960\ttotal: 7.66s\tremaining: 1m 55s\n",
      "62:\tlearn: 0.0303222\ttotal: 7.78s\tremaining: 1m 55s\n",
      "63:\tlearn: 0.0302451\ttotal: 7.89s\tremaining: 1m 55s\n",
      "64:\tlearn: 0.0301710\ttotal: 8.01s\tremaining: 1m 55s\n",
      "65:\tlearn: 0.0299982\ttotal: 8.12s\tremaining: 1m 54s\n",
      "66:\tlearn: 0.0299052\ttotal: 8.26s\tremaining: 1m 55s\n",
      "67:\tlearn: 0.0298004\ttotal: 8.38s\tremaining: 1m 54s\n",
      "68:\tlearn: 0.0297007\ttotal: 8.54s\tremaining: 1m 55s\n",
      "69:\tlearn: 0.0295404\ttotal: 8.72s\tremaining: 1m 55s\n",
      "70:\tlearn: 0.0294677\ttotal: 8.9s\tremaining: 1m 56s\n",
      "71:\tlearn: 0.0293893\ttotal: 9.1s\tremaining: 1m 57s\n",
      "72:\tlearn: 0.0292120\ttotal: 9.34s\tremaining: 1m 58s\n",
      "73:\tlearn: 0.0291454\ttotal: 9.72s\tremaining: 2m 1s\n",
      "74:\tlearn: 0.0289685\ttotal: 9.89s\tremaining: 2m 1s\n",
      "75:\tlearn: 0.0288898\ttotal: 10.5s\tremaining: 2m 7s\n",
      "76:\tlearn: 0.0287719\ttotal: 11.1s\tremaining: 2m 12s\n",
      "77:\tlearn: 0.0286750\ttotal: 11.6s\tremaining: 2m 17s\n",
      "78:\tlearn: 0.0285713\ttotal: 12.2s\tremaining: 2m 22s\n",
      "79:\tlearn: 0.0284571\ttotal: 12.6s\tremaining: 2m 24s\n",
      "80:\tlearn: 0.0283485\ttotal: 13s\tremaining: 2m 27s\n",
      "81:\tlearn: 0.0282427\ttotal: 13.3s\tremaining: 2m 29s\n",
      "82:\tlearn: 0.0280959\ttotal: 13.8s\tremaining: 2m 32s\n",
      "83:\tlearn: 0.0280411\ttotal: 14s\tremaining: 2m 32s\n",
      "84:\tlearn: 0.0279200\ttotal: 14.2s\tremaining: 2m 32s\n",
      "85:\tlearn: 0.0278194\ttotal: 14.6s\tremaining: 2m 35s\n",
      "86:\tlearn: 0.0277427\ttotal: 15s\tremaining: 2m 37s\n",
      "87:\tlearn: 0.0276366\ttotal: 15.6s\tremaining: 2m 41s\n",
      "88:\tlearn: 0.0275082\ttotal: 16s\tremaining: 2m 43s\n",
      "89:\tlearn: 0.0274313\ttotal: 16.1s\tremaining: 2m 43s\n",
      "90:\tlearn: 0.0273238\ttotal: 16.6s\tremaining: 2m 46s\n",
      "91:\tlearn: 0.0272213\ttotal: 16.8s\tremaining: 2m 45s\n",
      "92:\tlearn: 0.0270933\ttotal: 17s\tremaining: 2m 46s\n",
      "93:\tlearn: 0.0270314\ttotal: 17.2s\tremaining: 2m 46s\n",
      "94:\tlearn: 0.0269367\ttotal: 17.3s\tremaining: 2m 45s\n",
      "95:\tlearn: 0.0268724\ttotal: 17.6s\tremaining: 2m 45s\n",
      "96:\tlearn: 0.0267960\ttotal: 17.8s\tremaining: 2m 46s\n",
      "97:\tlearn: 0.0267263\ttotal: 18s\tremaining: 2m 45s\n",
      "98:\tlearn: 0.0266415\ttotal: 18.3s\tremaining: 2m 46s\n",
      "99:\tlearn: 0.0265622\ttotal: 18.4s\tremaining: 2m 45s\n",
      "100:\tlearn: 0.0264575\ttotal: 18.5s\tremaining: 2m 44s\n",
      "101:\tlearn: 0.0263732\ttotal: 18.6s\tremaining: 2m 43s\n",
      "102:\tlearn: 0.0262656\ttotal: 18.9s\tremaining: 2m 44s\n",
      "103:\tlearn: 0.0261641\ttotal: 19.1s\tremaining: 2m 44s\n",
      "104:\tlearn: 0.0260811\ttotal: 19.3s\tremaining: 2m 44s\n",
      "105:\tlearn: 0.0260065\ttotal: 19.5s\tremaining: 2m 44s\n",
      "106:\tlearn: 0.0259545\ttotal: 19.8s\tremaining: 2m 44s\n",
      "107:\tlearn: 0.0258498\ttotal: 20s\tremaining: 2m 45s\n",
      "108:\tlearn: 0.0257782\ttotal: 20.2s\tremaining: 2m 45s\n",
      "109:\tlearn: 0.0257194\ttotal: 20.5s\tremaining: 2m 45s\n",
      "110:\tlearn: 0.0256576\ttotal: 20.7s\tremaining: 2m 45s\n",
      "111:\tlearn: 0.0256043\ttotal: 21s\tremaining: 2m 46s\n",
      "112:\tlearn: 0.0255497\ttotal: 21.2s\tremaining: 2m 46s\n",
      "113:\tlearn: 0.0254785\ttotal: 21.3s\tremaining: 2m 45s\n",
      "114:\tlearn: 0.0253900\ttotal: 21.4s\tremaining: 2m 44s\n",
      "115:\tlearn: 0.0253186\ttotal: 21.6s\tremaining: 2m 44s\n",
      "116:\tlearn: 0.0252779\ttotal: 21.7s\tremaining: 2m 43s\n",
      "117:\tlearn: 0.0252005\ttotal: 21.9s\tremaining: 2m 43s\n",
      "118:\tlearn: 0.0251488\ttotal: 22.1s\tremaining: 2m 43s\n",
      "119:\tlearn: 0.0251065\ttotal: 22.3s\tremaining: 2m 43s\n",
      "120:\tlearn: 0.0250218\ttotal: 22.4s\tremaining: 2m 42s\n",
      "121:\tlearn: 0.0248985\ttotal: 22.5s\tremaining: 2m 42s\n",
      "122:\tlearn: 0.0248421\ttotal: 22.7s\tremaining: 2m 41s\n",
      "123:\tlearn: 0.0247868\ttotal: 22.8s\tremaining: 2m 40s\n",
      "124:\tlearn: 0.0247386\ttotal: 22.9s\tremaining: 2m 40s\n",
      "125:\tlearn: 0.0246367\ttotal: 23s\tremaining: 2m 39s\n",
      "126:\tlearn: 0.0245524\ttotal: 23.2s\tremaining: 2m 39s\n",
      "127:\tlearn: 0.0244944\ttotal: 23.3s\tremaining: 2m 38s\n",
      "128:\tlearn: 0.0244298\ttotal: 23.4s\tremaining: 2m 38s\n",
      "129:\tlearn: 0.0243596\ttotal: 23.6s\tremaining: 2m 37s\n",
      "130:\tlearn: 0.0243164\ttotal: 23.7s\tremaining: 2m 37s\n",
      "131:\tlearn: 0.0242685\ttotal: 23.9s\tremaining: 2m 36s\n",
      "132:\tlearn: 0.0242162\ttotal: 24s\tremaining: 2m 36s\n",
      "133:\tlearn: 0.0241743\ttotal: 24.2s\tremaining: 2m 36s\n",
      "134:\tlearn: 0.0241186\ttotal: 24.3s\tremaining: 2m 35s\n",
      "135:\tlearn: 0.0240663\ttotal: 24.4s\tremaining: 2m 35s\n",
      "136:\tlearn: 0.0239991\ttotal: 24.6s\tremaining: 2m 34s\n",
      "137:\tlearn: 0.0239421\ttotal: 24.7s\tremaining: 2m 34s\n",
      "138:\tlearn: 0.0238768\ttotal: 24.9s\tremaining: 2m 34s\n",
      "139:\tlearn: 0.0238204\ttotal: 25.2s\tremaining: 2m 34s\n",
      "140:\tlearn: 0.0237755\ttotal: 25.3s\tremaining: 2m 34s\n",
      "141:\tlearn: 0.0237089\ttotal: 25.5s\tremaining: 2m 34s\n",
      "142:\tlearn: 0.0236534\ttotal: 25.8s\tremaining: 2m 34s\n",
      "143:\tlearn: 0.0236181\ttotal: 25.9s\tremaining: 2m 34s\n",
      "144:\tlearn: 0.0235720\ttotal: 26.1s\tremaining: 2m 33s\n",
      "145:\tlearn: 0.0235140\ttotal: 26.2s\tremaining: 2m 33s\n",
      "146:\tlearn: 0.0234666\ttotal: 26.3s\tremaining: 2m 32s\n",
      "147:\tlearn: 0.0234222\ttotal: 26.5s\tremaining: 2m 32s\n",
      "148:\tlearn: 0.0233631\ttotal: 26.6s\tremaining: 2m 32s\n",
      "149:\tlearn: 0.0233281\ttotal: 26.8s\tremaining: 2m 31s\n",
      "150:\tlearn: 0.0232772\ttotal: 27s\tremaining: 2m 32s\n",
      "151:\tlearn: 0.0232183\ttotal: 27.2s\tremaining: 2m 31s\n",
      "152:\tlearn: 0.0231189\ttotal: 27.4s\tremaining: 2m 31s\n",
      "153:\tlearn: 0.0230662\ttotal: 27.6s\tremaining: 2m 31s\n",
      "154:\tlearn: 0.0230303\ttotal: 27.7s\tremaining: 2m 31s\n",
      "155:\tlearn: 0.0229800\ttotal: 27.9s\tremaining: 2m 30s\n",
      "156:\tlearn: 0.0229319\ttotal: 28s\tremaining: 2m 30s\n",
      "157:\tlearn: 0.0228963\ttotal: 28.2s\tremaining: 2m 30s\n"
     ]
    },
    {
     "name": "stdout",
     "output_type": "stream",
     "text": [
      "158:\tlearn: 0.0228545\ttotal: 28.3s\tremaining: 2m 29s\n",
      "159:\tlearn: 0.0228141\ttotal: 28.5s\tremaining: 2m 29s\n",
      "160:\tlearn: 0.0227792\ttotal: 28.7s\tremaining: 2m 29s\n",
      "161:\tlearn: 0.0227271\ttotal: 28.8s\tremaining: 2m 28s\n",
      "162:\tlearn: 0.0226870\ttotal: 28.9s\tremaining: 2m 28s\n",
      "163:\tlearn: 0.0226504\ttotal: 29.1s\tremaining: 2m 28s\n",
      "164:\tlearn: 0.0226159\ttotal: 29.3s\tremaining: 2m 28s\n",
      "165:\tlearn: 0.0225760\ttotal: 29.4s\tremaining: 2m 27s\n",
      "166:\tlearn: 0.0225284\ttotal: 29.5s\tremaining: 2m 27s\n",
      "167:\tlearn: 0.0224787\ttotal: 29.7s\tremaining: 2m 26s\n",
      "168:\tlearn: 0.0224174\ttotal: 29.8s\tremaining: 2m 26s\n",
      "169:\tlearn: 0.0223526\ttotal: 30s\tremaining: 2m 26s\n",
      "170:\tlearn: 0.0222981\ttotal: 30.2s\tremaining: 2m 26s\n",
      "171:\tlearn: 0.0222673\ttotal: 30.4s\tremaining: 2m 26s\n",
      "172:\tlearn: 0.0222291\ttotal: 30.5s\tremaining: 2m 26s\n",
      "173:\tlearn: 0.0221876\ttotal: 30.7s\tremaining: 2m 25s\n",
      "174:\tlearn: 0.0221256\ttotal: 30.8s\tremaining: 2m 25s\n",
      "175:\tlearn: 0.0220822\ttotal: 30.9s\tremaining: 2m 24s\n",
      "176:\tlearn: 0.0220450\ttotal: 31s\tremaining: 2m 24s\n",
      "177:\tlearn: 0.0220211\ttotal: 31.1s\tremaining: 2m 23s\n",
      "178:\tlearn: 0.0219648\ttotal: 31.3s\tremaining: 2m 23s\n",
      "179:\tlearn: 0.0219290\ttotal: 31.4s\tremaining: 2m 23s\n",
      "180:\tlearn: 0.0218970\ttotal: 31.5s\tremaining: 2m 22s\n",
      "181:\tlearn: 0.0218508\ttotal: 31.6s\tremaining: 2m 22s\n",
      "182:\tlearn: 0.0218138\ttotal: 31.8s\tremaining: 2m 21s\n",
      "183:\tlearn: 0.0217760\ttotal: 31.9s\tremaining: 2m 21s\n",
      "184:\tlearn: 0.0217405\ttotal: 32.1s\tremaining: 2m 21s\n",
      "185:\tlearn: 0.0217064\ttotal: 32.3s\tremaining: 2m 21s\n",
      "186:\tlearn: 0.0216497\ttotal: 32.4s\tremaining: 2m 20s\n",
      "187:\tlearn: 0.0216163\ttotal: 32.5s\tremaining: 2m 20s\n",
      "188:\tlearn: 0.0215872\ttotal: 32.6s\tremaining: 2m 19s\n",
      "189:\tlearn: 0.0215378\ttotal: 32.7s\tremaining: 2m 19s\n",
      "190:\tlearn: 0.0215097\ttotal: 32.8s\tremaining: 2m 18s\n",
      "191:\tlearn: 0.0214814\ttotal: 32.9s\tremaining: 2m 18s\n",
      "192:\tlearn: 0.0214402\ttotal: 33s\tremaining: 2m 17s\n",
      "193:\tlearn: 0.0214063\ttotal: 33.1s\tremaining: 2m 17s\n",
      "194:\tlearn: 0.0213760\ttotal: 33.2s\tremaining: 2m 17s\n",
      "195:\tlearn: 0.0213464\ttotal: 33.3s\tremaining: 2m 16s\n",
      "196:\tlearn: 0.0213193\ttotal: 33.5s\tremaining: 2m 16s\n",
      "197:\tlearn: 0.0212950\ttotal: 33.6s\tremaining: 2m 16s\n",
      "198:\tlearn: 0.0212690\ttotal: 33.7s\tremaining: 2m 15s\n",
      "199:\tlearn: 0.0212351\ttotal: 33.8s\tremaining: 2m 15s\n",
      "200:\tlearn: 0.0211919\ttotal: 33.9s\tremaining: 2m 14s\n",
      "201:\tlearn: 0.0211704\ttotal: 34s\tremaining: 2m 14s\n",
      "202:\tlearn: 0.0211428\ttotal: 34.1s\tremaining: 2m 14s\n",
      "203:\tlearn: 0.0211129\ttotal: 34.3s\tremaining: 2m 13s\n",
      "204:\tlearn: 0.0210916\ttotal: 34.4s\tremaining: 2m 13s\n",
      "205:\tlearn: 0.0210462\ttotal: 34.5s\tremaining: 2m 12s\n",
      "206:\tlearn: 0.0210173\ttotal: 34.6s\tremaining: 2m 12s\n",
      "207:\tlearn: 0.0209675\ttotal: 34.7s\tremaining: 2m 12s\n",
      "208:\tlearn: 0.0209390\ttotal: 34.9s\tremaining: 2m 12s\n",
      "209:\tlearn: 0.0209111\ttotal: 35.2s\tremaining: 2m 12s\n",
      "210:\tlearn: 0.0208885\ttotal: 35.5s\tremaining: 2m 12s\n",
      "211:\tlearn: 0.0208411\ttotal: 35.7s\tremaining: 2m 12s\n",
      "212:\tlearn: 0.0207923\ttotal: 36s\tremaining: 2m 13s\n",
      "213:\tlearn: 0.0207620\ttotal: 36.2s\tremaining: 2m 12s\n",
      "214:\tlearn: 0.0207410\ttotal: 36.3s\tremaining: 2m 12s\n",
      "215:\tlearn: 0.0207065\ttotal: 36.5s\tremaining: 2m 12s\n",
      "216:\tlearn: 0.0206227\ttotal: 36.7s\tremaining: 2m 12s\n",
      "217:\tlearn: 0.0205954\ttotal: 36.9s\tremaining: 2m 12s\n",
      "218:\tlearn: 0.0205607\ttotal: 37.1s\tremaining: 2m 12s\n",
      "219:\tlearn: 0.0205428\ttotal: 37.4s\tremaining: 2m 12s\n",
      "220:\tlearn: 0.0204859\ttotal: 37.6s\tremaining: 2m 12s\n",
      "221:\tlearn: 0.0204557\ttotal: 37.8s\tremaining: 2m 12s\n",
      "222:\tlearn: 0.0204307\ttotal: 37.9s\tremaining: 2m 12s\n",
      "223:\tlearn: 0.0204065\ttotal: 38.1s\tremaining: 2m 11s\n",
      "224:\tlearn: 0.0203740\ttotal: 38.3s\tremaining: 2m 11s\n",
      "225:\tlearn: 0.0203434\ttotal: 38.4s\tremaining: 2m 11s\n",
      "226:\tlearn: 0.0203103\ttotal: 38.6s\tremaining: 2m 11s\n",
      "227:\tlearn: 0.0202859\ttotal: 38.8s\tremaining: 2m 11s\n",
      "228:\tlearn: 0.0202710\ttotal: 38.9s\tremaining: 2m 11s\n",
      "229:\tlearn: 0.0202331\ttotal: 39.1s\tremaining: 2m 10s\n",
      "230:\tlearn: 0.0201928\ttotal: 39.3s\tremaining: 2m 10s\n",
      "231:\tlearn: 0.0201627\ttotal: 39.4s\tremaining: 2m 10s\n",
      "232:\tlearn: 0.0201075\ttotal: 39.6s\tremaining: 2m 10s\n",
      "233:\tlearn: 0.0200793\ttotal: 39.8s\tremaining: 2m 10s\n",
      "234:\tlearn: 0.0200583\ttotal: 40.1s\tremaining: 2m 10s\n",
      "235:\tlearn: 0.0200388\ttotal: 40.4s\tremaining: 2m 10s\n",
      "236:\tlearn: 0.0200149\ttotal: 40.7s\tremaining: 2m 10s\n",
      "237:\tlearn: 0.0199826\ttotal: 40.9s\tremaining: 2m 10s\n",
      "238:\tlearn: 0.0199627\ttotal: 41.1s\tremaining: 2m 10s\n",
      "239:\tlearn: 0.0199260\ttotal: 41.2s\tremaining: 2m 10s\n",
      "240:\tlearn: 0.0199042\ttotal: 41.4s\tremaining: 2m 10s\n",
      "241:\tlearn: 0.0198702\ttotal: 41.5s\tremaining: 2m 9s\n",
      "242:\tlearn: 0.0198482\ttotal: 41.6s\tremaining: 2m 9s\n",
      "243:\tlearn: 0.0197958\ttotal: 41.8s\tremaining: 2m 9s\n",
      "244:\tlearn: 0.0197682\ttotal: 42s\tremaining: 2m 9s\n",
      "245:\tlearn: 0.0197503\ttotal: 42.2s\tremaining: 2m 9s\n",
      "246:\tlearn: 0.0197139\ttotal: 42.4s\tremaining: 2m 9s\n",
      "247:\tlearn: 0.0196745\ttotal: 42.6s\tremaining: 2m 9s\n",
      "248:\tlearn: 0.0196310\ttotal: 42.8s\tremaining: 2m 8s\n",
      "249:\tlearn: 0.0196070\ttotal: 42.9s\tremaining: 2m 8s\n",
      "250:\tlearn: 0.0195898\ttotal: 43s\tremaining: 2m 8s\n",
      "251:\tlearn: 0.0195611\ttotal: 43.2s\tremaining: 2m 8s\n",
      "252:\tlearn: 0.0195391\ttotal: 43.3s\tremaining: 2m 7s\n",
      "253:\tlearn: 0.0195007\ttotal: 43.5s\tremaining: 2m 7s\n",
      "254:\tlearn: 0.0194491\ttotal: 43.7s\tremaining: 2m 7s\n",
      "255:\tlearn: 0.0194264\ttotal: 43.8s\tremaining: 2m 7s\n",
      "256:\tlearn: 0.0193995\ttotal: 44s\tremaining: 2m 7s\n",
      "257:\tlearn: 0.0193635\ttotal: 44.2s\tremaining: 2m 7s\n",
      "258:\tlearn: 0.0193370\ttotal: 44.4s\tremaining: 2m 7s\n",
      "259:\tlearn: 0.0193007\ttotal: 44.5s\tremaining: 2m 6s\n",
      "260:\tlearn: 0.0192803\ttotal: 44.8s\tremaining: 2m 6s\n",
      "261:\tlearn: 0.0192600\ttotal: 44.9s\tremaining: 2m 6s\n",
      "262:\tlearn: 0.0192377\ttotal: 45.1s\tremaining: 2m 6s\n",
      "263:\tlearn: 0.0192053\ttotal: 45.4s\tremaining: 2m 6s\n",
      "264:\tlearn: 0.0191744\ttotal: 45.5s\tremaining: 2m 6s\n",
      "265:\tlearn: 0.0191559\ttotal: 45.7s\tremaining: 2m 6s\n",
      "266:\tlearn: 0.0191166\ttotal: 45.8s\tremaining: 2m 5s\n",
      "267:\tlearn: 0.0190823\ttotal: 46s\tremaining: 2m 5s\n",
      "268:\tlearn: 0.0190515\ttotal: 46.1s\tremaining: 2m 5s\n",
      "269:\tlearn: 0.0190261\ttotal: 46.2s\tremaining: 2m 5s\n",
      "270:\tlearn: 0.0189663\ttotal: 46.4s\tremaining: 2m 4s\n",
      "271:\tlearn: 0.0189398\ttotal: 46.5s\tremaining: 2m 4s\n",
      "272:\tlearn: 0.0189101\ttotal: 46.5s\tremaining: 2m 3s\n",
      "273:\tlearn: 0.0188677\ttotal: 46.7s\tremaining: 2m 3s\n",
      "274:\tlearn: 0.0188356\ttotal: 46.9s\tremaining: 2m 3s\n",
      "275:\tlearn: 0.0187981\ttotal: 47.1s\tremaining: 2m 3s\n",
      "276:\tlearn: 0.0187845\ttotal: 47.2s\tremaining: 2m 3s\n",
      "277:\tlearn: 0.0187638\ttotal: 47.4s\tremaining: 2m 3s\n",
      "278:\tlearn: 0.0187492\ttotal: 47.6s\tremaining: 2m 2s\n",
      "279:\tlearn: 0.0187260\ttotal: 47.7s\tremaining: 2m 2s\n",
      "280:\tlearn: 0.0187031\ttotal: 47.8s\tremaining: 2m 2s\n",
      "281:\tlearn: 0.0186686\ttotal: 48s\tremaining: 2m 2s\n",
      "282:\tlearn: 0.0186341\ttotal: 48.1s\tremaining: 2m 1s\n",
      "283:\tlearn: 0.0186012\ttotal: 48.2s\tremaining: 2m 1s\n",
      "284:\tlearn: 0.0185790\ttotal: 48.3s\tremaining: 2m 1s\n",
      "285:\tlearn: 0.0185630\ttotal: 48.4s\tremaining: 2m\n",
      "286:\tlearn: 0.0185337\ttotal: 48.6s\tremaining: 2m\n",
      "287:\tlearn: 0.0185089\ttotal: 48.7s\tremaining: 2m\n",
      "288:\tlearn: 0.0184757\ttotal: 48.9s\tremaining: 2m\n",
      "289:\tlearn: 0.0184598\ttotal: 49s\tremaining: 1m 59s\n",
      "290:\tlearn: 0.0184397\ttotal: 49.1s\tremaining: 1m 59s\n",
      "291:\tlearn: 0.0184040\ttotal: 49.3s\tremaining: 1m 59s\n",
      "292:\tlearn: 0.0183649\ttotal: 49.4s\tremaining: 1m 59s\n",
      "293:\tlearn: 0.0183415\ttotal: 49.5s\tremaining: 1m 58s\n",
      "294:\tlearn: 0.0183102\ttotal: 49.8s\tremaining: 1m 58s\n",
      "295:\tlearn: 0.0182973\ttotal: 49.9s\tremaining: 1m 58s\n",
      "296:\tlearn: 0.0182776\ttotal: 50.1s\tremaining: 1m 58s\n",
      "297:\tlearn: 0.0182606\ttotal: 50.2s\tremaining: 1m 58s\n",
      "298:\tlearn: 0.0182364\ttotal: 50.4s\tremaining: 1m 58s\n",
      "299:\tlearn: 0.0181782\ttotal: 50.5s\tremaining: 1m 57s\n",
      "300:\tlearn: 0.0181553\ttotal: 50.6s\tremaining: 1m 57s\n",
      "301:\tlearn: 0.0181359\ttotal: 50.8s\tremaining: 1m 57s\n",
      "302:\tlearn: 0.0181200\ttotal: 50.9s\tremaining: 1m 57s\n",
      "303:\tlearn: 0.0180913\ttotal: 51s\tremaining: 1m 56s\n",
      "304:\tlearn: 0.0180638\ttotal: 51.1s\tremaining: 1m 56s\n",
      "305:\tlearn: 0.0180404\ttotal: 51.2s\tremaining: 1m 56s\n",
      "306:\tlearn: 0.0180178\ttotal: 51.4s\tremaining: 1m 56s\n",
      "307:\tlearn: 0.0179995\ttotal: 51.7s\tremaining: 1m 56s\n",
      "308:\tlearn: 0.0179350\ttotal: 51.9s\tremaining: 1m 56s\n",
      "309:\tlearn: 0.0178929\ttotal: 52.1s\tremaining: 1m 55s\n",
      "310:\tlearn: 0.0178757\ttotal: 52.2s\tremaining: 1m 55s\n",
      "311:\tlearn: 0.0178429\ttotal: 52.4s\tremaining: 1m 55s\n",
      "312:\tlearn: 0.0178209\ttotal: 52.6s\tremaining: 1m 55s\n",
      "313:\tlearn: 0.0178023\ttotal: 52.8s\tremaining: 1m 55s\n",
      "314:\tlearn: 0.0177635\ttotal: 52.9s\tremaining: 1m 55s\n"
     ]
    },
    {
     "name": "stdout",
     "output_type": "stream",
     "text": [
      "315:\tlearn: 0.0177469\ttotal: 53s\tremaining: 1m 54s\n",
      "316:\tlearn: 0.0177330\ttotal: 53.2s\tremaining: 1m 54s\n",
      "317:\tlearn: 0.0177048\ttotal: 53.3s\tremaining: 1m 54s\n",
      "318:\tlearn: 0.0176705\ttotal: 53.4s\tremaining: 1m 54s\n",
      "319:\tlearn: 0.0176452\ttotal: 53.7s\tremaining: 1m 54s\n",
      "320:\tlearn: 0.0176240\ttotal: 53.8s\tremaining: 1m 53s\n",
      "321:\tlearn: 0.0176083\ttotal: 54s\tremaining: 1m 53s\n",
      "322:\tlearn: 0.0175944\ttotal: 54.1s\tremaining: 1m 53s\n",
      "323:\tlearn: 0.0175717\ttotal: 54.3s\tremaining: 1m 53s\n",
      "324:\tlearn: 0.0175497\ttotal: 54.5s\tremaining: 1m 53s\n",
      "325:\tlearn: 0.0175337\ttotal: 54.7s\tremaining: 1m 53s\n",
      "326:\tlearn: 0.0175136\ttotal: 55s\tremaining: 1m 53s\n",
      "327:\tlearn: 0.0174872\ttotal: 55.3s\tremaining: 1m 53s\n",
      "328:\tlearn: 0.0174586\ttotal: 55.6s\tremaining: 1m 53s\n",
      "329:\tlearn: 0.0174365\ttotal: 55.9s\tremaining: 1m 53s\n",
      "330:\tlearn: 0.0174196\ttotal: 56.1s\tremaining: 1m 53s\n",
      "331:\tlearn: 0.0173968\ttotal: 56.3s\tremaining: 1m 53s\n",
      "332:\tlearn: 0.0173599\ttotal: 56.4s\tremaining: 1m 53s\n",
      "333:\tlearn: 0.0173459\ttotal: 56.6s\tremaining: 1m 52s\n",
      "334:\tlearn: 0.0173349\ttotal: 56.8s\tremaining: 1m 52s\n",
      "335:\tlearn: 0.0173032\ttotal: 57.1s\tremaining: 1m 52s\n",
      "336:\tlearn: 0.0172864\ttotal: 57.3s\tremaining: 1m 52s\n",
      "337:\tlearn: 0.0172601\ttotal: 57.7s\tremaining: 1m 53s\n",
      "338:\tlearn: 0.0172367\ttotal: 58s\tremaining: 1m 53s\n",
      "339:\tlearn: 0.0171973\ttotal: 58.2s\tremaining: 1m 52s\n",
      "340:\tlearn: 0.0171760\ttotal: 58.4s\tremaining: 1m 52s\n",
      "341:\tlearn: 0.0171446\ttotal: 58.6s\tremaining: 1m 52s\n",
      "342:\tlearn: 0.0171243\ttotal: 58.7s\tremaining: 1m 52s\n",
      "343:\tlearn: 0.0171101\ttotal: 58.9s\tremaining: 1m 52s\n",
      "344:\tlearn: 0.0170960\ttotal: 59s\tremaining: 1m 52s\n",
      "345:\tlearn: 0.0170808\ttotal: 59.2s\tremaining: 1m 51s\n",
      "346:\tlearn: 0.0170562\ttotal: 59.3s\tremaining: 1m 51s\n",
      "347:\tlearn: 0.0170277\ttotal: 59.6s\tremaining: 1m 51s\n",
      "348:\tlearn: 0.0170129\ttotal: 59.8s\tremaining: 1m 51s\n",
      "349:\tlearn: 0.0169847\ttotal: 1m\tremaining: 1m 51s\n",
      "350:\tlearn: 0.0169676\ttotal: 1m\tremaining: 1m 51s\n",
      "351:\tlearn: 0.0169398\ttotal: 1m\tremaining: 1m 51s\n",
      "352:\tlearn: 0.0169258\ttotal: 1m\tremaining: 1m 51s\n",
      "353:\tlearn: 0.0169069\ttotal: 1m\tremaining: 1m 51s\n",
      "354:\tlearn: 0.0168887\ttotal: 1m\tremaining: 1m 50s\n",
      "355:\tlearn: 0.0168748\ttotal: 1m 1s\tremaining: 1m 50s\n",
      "356:\tlearn: 0.0168539\ttotal: 1m 1s\tremaining: 1m 50s\n",
      "357:\tlearn: 0.0168208\ttotal: 1m 1s\tremaining: 1m 50s\n",
      "358:\tlearn: 0.0168069\ttotal: 1m 1s\tremaining: 1m 50s\n",
      "359:\tlearn: 0.0167864\ttotal: 1m 1s\tremaining: 1m 50s\n",
      "360:\tlearn: 0.0167671\ttotal: 1m 2s\tremaining: 1m 49s\n",
      "361:\tlearn: 0.0167439\ttotal: 1m 2s\tremaining: 1m 49s\n",
      "362:\tlearn: 0.0167030\ttotal: 1m 2s\tremaining: 1m 49s\n",
      "363:\tlearn: 0.0166830\ttotal: 1m 2s\tremaining: 1m 49s\n",
      "364:\tlearn: 0.0166708\ttotal: 1m 2s\tremaining: 1m 49s\n",
      "365:\tlearn: 0.0166578\ttotal: 1m 2s\tremaining: 1m 48s\n",
      "366:\tlearn: 0.0166464\ttotal: 1m 3s\tremaining: 1m 48s\n",
      "367:\tlearn: 0.0166274\ttotal: 1m 3s\tremaining: 1m 48s\n",
      "368:\tlearn: 0.0166037\ttotal: 1m 3s\tremaining: 1m 48s\n",
      "369:\tlearn: 0.0165796\ttotal: 1m 3s\tremaining: 1m 48s\n",
      "370:\tlearn: 0.0165714\ttotal: 1m 3s\tremaining: 1m 47s\n",
      "371:\tlearn: 0.0165575\ttotal: 1m 3s\tremaining: 1m 47s\n",
      "372:\tlearn: 0.0165430\ttotal: 1m 3s\tremaining: 1m 47s\n",
      "373:\tlearn: 0.0165225\ttotal: 1m 3s\tremaining: 1m 47s\n",
      "374:\tlearn: 0.0165001\ttotal: 1m 4s\tremaining: 1m 46s\n",
      "375:\tlearn: 0.0164875\ttotal: 1m 4s\tremaining: 1m 46s\n",
      "376:\tlearn: 0.0164735\ttotal: 1m 4s\tremaining: 1m 46s\n",
      "377:\tlearn: 0.0164461\ttotal: 1m 4s\tremaining: 1m 46s\n",
      "378:\tlearn: 0.0164238\ttotal: 1m 4s\tremaining: 1m 46s\n",
      "379:\tlearn: 0.0164100\ttotal: 1m 4s\tremaining: 1m 45s\n",
      "380:\tlearn: 0.0163936\ttotal: 1m 5s\tremaining: 1m 45s\n",
      "381:\tlearn: 0.0163713\ttotal: 1m 5s\tremaining: 1m 45s\n",
      "382:\tlearn: 0.0163516\ttotal: 1m 5s\tremaining: 1m 45s\n",
      "383:\tlearn: 0.0163330\ttotal: 1m 5s\tremaining: 1m 45s\n",
      "384:\tlearn: 0.0163065\ttotal: 1m 5s\tremaining: 1m 44s\n",
      "385:\tlearn: 0.0162810\ttotal: 1m 5s\tremaining: 1m 44s\n",
      "386:\tlearn: 0.0162691\ttotal: 1m 5s\tremaining: 1m 44s\n",
      "387:\tlearn: 0.0162479\ttotal: 1m 6s\tremaining: 1m 44s\n",
      "388:\tlearn: 0.0162348\ttotal: 1m 6s\tremaining: 1m 44s\n",
      "389:\tlearn: 0.0162047\ttotal: 1m 6s\tremaining: 1m 43s\n",
      "390:\tlearn: 0.0161947\ttotal: 1m 6s\tremaining: 1m 43s\n",
      "391:\tlearn: 0.0161745\ttotal: 1m 6s\tremaining: 1m 43s\n",
      "392:\tlearn: 0.0161626\ttotal: 1m 6s\tremaining: 1m 43s\n",
      "393:\tlearn: 0.0161436\ttotal: 1m 6s\tremaining: 1m 43s\n",
      "394:\tlearn: 0.0161361\ttotal: 1m 7s\tremaining: 1m 42s\n",
      "395:\tlearn: 0.0161237\ttotal: 1m 7s\tremaining: 1m 42s\n",
      "396:\tlearn: 0.0161143\ttotal: 1m 7s\tremaining: 1m 42s\n",
      "397:\tlearn: 0.0160996\ttotal: 1m 7s\tremaining: 1m 42s\n",
      "398:\tlearn: 0.0160799\ttotal: 1m 7s\tremaining: 1m 42s\n",
      "399:\tlearn: 0.0160620\ttotal: 1m 7s\tremaining: 1m 41s\n",
      "400:\tlearn: 0.0160424\ttotal: 1m 8s\tremaining: 1m 41s\n",
      "401:\tlearn: 0.0160323\ttotal: 1m 8s\tremaining: 1m 41s\n",
      "402:\tlearn: 0.0160155\ttotal: 1m 8s\tremaining: 1m 41s\n",
      "403:\tlearn: 0.0159951\ttotal: 1m 8s\tremaining: 1m 41s\n",
      "404:\tlearn: 0.0159813\ttotal: 1m 8s\tremaining: 1m 40s\n",
      "405:\tlearn: 0.0159695\ttotal: 1m 8s\tremaining: 1m 40s\n",
      "406:\tlearn: 0.0159483\ttotal: 1m 8s\tremaining: 1m 40s\n",
      "407:\tlearn: 0.0159289\ttotal: 1m 9s\tremaining: 1m 40s\n",
      "408:\tlearn: 0.0159142\ttotal: 1m 9s\tremaining: 1m 40s\n",
      "409:\tlearn: 0.0159048\ttotal: 1m 9s\tremaining: 1m 40s\n",
      "410:\tlearn: 0.0158866\ttotal: 1m 9s\tremaining: 1m 40s\n",
      "411:\tlearn: 0.0158728\ttotal: 1m 10s\tremaining: 1m 40s\n",
      "412:\tlearn: 0.0158445\ttotal: 1m 10s\tremaining: 1m 39s\n",
      "413:\tlearn: 0.0158251\ttotal: 1m 10s\tremaining: 1m 39s\n",
      "414:\tlearn: 0.0158108\ttotal: 1m 10s\tremaining: 1m 39s\n",
      "415:\tlearn: 0.0157925\ttotal: 1m 10s\tremaining: 1m 39s\n",
      "416:\tlearn: 0.0157804\ttotal: 1m 10s\tremaining: 1m 39s\n",
      "417:\tlearn: 0.0157475\ttotal: 1m 11s\tremaining: 1m 39s\n",
      "418:\tlearn: 0.0157343\ttotal: 1m 11s\tremaining: 1m 39s\n",
      "419:\tlearn: 0.0157155\ttotal: 1m 11s\tremaining: 1m 38s\n",
      "420:\tlearn: 0.0156977\ttotal: 1m 11s\tremaining: 1m 38s\n",
      "421:\tlearn: 0.0156832\ttotal: 1m 11s\tremaining: 1m 38s\n",
      "422:\tlearn: 0.0156718\ttotal: 1m 12s\tremaining: 1m 38s\n",
      "423:\tlearn: 0.0156470\ttotal: 1m 12s\tremaining: 1m 38s\n",
      "424:\tlearn: 0.0156374\ttotal: 1m 12s\tremaining: 1m 37s\n",
      "425:\tlearn: 0.0156023\ttotal: 1m 12s\tremaining: 1m 37s\n",
      "426:\tlearn: 0.0155878\ttotal: 1m 12s\tremaining: 1m 37s\n",
      "427:\tlearn: 0.0155726\ttotal: 1m 12s\tremaining: 1m 37s\n",
      "428:\tlearn: 0.0155573\ttotal: 1m 12s\tremaining: 1m 36s\n",
      "429:\tlearn: 0.0155310\ttotal: 1m 12s\tremaining: 1m 36s\n",
      "430:\tlearn: 0.0155020\ttotal: 1m 13s\tremaining: 1m 36s\n",
      "431:\tlearn: 0.0154843\ttotal: 1m 13s\tremaining: 1m 36s\n",
      "432:\tlearn: 0.0154713\ttotal: 1m 13s\tremaining: 1m 36s\n",
      "433:\tlearn: 0.0154617\ttotal: 1m 13s\tremaining: 1m 36s\n",
      "434:\tlearn: 0.0154440\ttotal: 1m 14s\tremaining: 1m 36s\n",
      "435:\tlearn: 0.0154314\ttotal: 1m 14s\tremaining: 1m 36s\n",
      "436:\tlearn: 0.0154085\ttotal: 1m 14s\tremaining: 1m 36s\n",
      "437:\tlearn: 0.0153888\ttotal: 1m 14s\tremaining: 1m 35s\n",
      "438:\tlearn: 0.0153780\ttotal: 1m 14s\tremaining: 1m 35s\n",
      "439:\tlearn: 0.0153597\ttotal: 1m 15s\tremaining: 1m 35s\n",
      "440:\tlearn: 0.0153462\ttotal: 1m 15s\tremaining: 1m 35s\n",
      "441:\tlearn: 0.0153402\ttotal: 1m 15s\tremaining: 1m 35s\n",
      "442:\tlearn: 0.0153341\ttotal: 1m 15s\tremaining: 1m 35s\n",
      "443:\tlearn: 0.0153230\ttotal: 1m 15s\tremaining: 1m 35s\n",
      "444:\tlearn: 0.0152888\ttotal: 1m 16s\tremaining: 1m 34s\n",
      "445:\tlearn: 0.0152736\ttotal: 1m 16s\tremaining: 1m 34s\n",
      "446:\tlearn: 0.0152584\ttotal: 1m 16s\tremaining: 1m 34s\n",
      "447:\tlearn: 0.0152491\ttotal: 1m 16s\tremaining: 1m 34s\n",
      "448:\tlearn: 0.0152289\ttotal: 1m 16s\tremaining: 1m 34s\n",
      "449:\tlearn: 0.0152031\ttotal: 1m 17s\tremaining: 1m 34s\n",
      "450:\tlearn: 0.0151936\ttotal: 1m 17s\tremaining: 1m 33s\n",
      "451:\tlearn: 0.0151867\ttotal: 1m 17s\tremaining: 1m 33s\n",
      "452:\tlearn: 0.0151668\ttotal: 1m 17s\tremaining: 1m 33s\n",
      "453:\tlearn: 0.0151590\ttotal: 1m 17s\tremaining: 1m 33s\n",
      "454:\tlearn: 0.0151482\ttotal: 1m 17s\tremaining: 1m 33s\n",
      "455:\tlearn: 0.0151258\ttotal: 1m 18s\tremaining: 1m 33s\n",
      "456:\tlearn: 0.0151081\ttotal: 1m 18s\tremaining: 1m 33s\n",
      "457:\tlearn: 0.0150964\ttotal: 1m 18s\tremaining: 1m 33s\n",
      "458:\tlearn: 0.0150771\ttotal: 1m 19s\tremaining: 1m 33s\n",
      "459:\tlearn: 0.0150695\ttotal: 1m 19s\tremaining: 1m 33s\n",
      "460:\tlearn: 0.0150592\ttotal: 1m 19s\tremaining: 1m 33s\n",
      "461:\tlearn: 0.0150421\ttotal: 1m 20s\tremaining: 1m 33s\n",
      "462:\tlearn: 0.0150312\ttotal: 1m 20s\tremaining: 1m 33s\n",
      "463:\tlearn: 0.0150047\ttotal: 1m 20s\tremaining: 1m 33s\n",
      "464:\tlearn: 0.0149843\ttotal: 1m 21s\tremaining: 1m 33s\n",
      "465:\tlearn: 0.0149717\ttotal: 1m 21s\tremaining: 1m 33s\n",
      "466:\tlearn: 0.0149521\ttotal: 1m 21s\tremaining: 1m 33s\n",
      "467:\tlearn: 0.0149401\ttotal: 1m 21s\tremaining: 1m 32s\n",
      "468:\tlearn: 0.0149154\ttotal: 1m 21s\tremaining: 1m 32s\n",
      "469:\tlearn: 0.0148951\ttotal: 1m 22s\tremaining: 1m 32s\n",
      "470:\tlearn: 0.0148857\ttotal: 1m 22s\tremaining: 1m 32s\n"
     ]
    },
    {
     "name": "stdout",
     "output_type": "stream",
     "text": [
      "471:\tlearn: 0.0148805\ttotal: 1m 22s\tremaining: 1m 32s\n",
      "472:\tlearn: 0.0148703\ttotal: 1m 23s\tremaining: 1m 32s\n",
      "473:\tlearn: 0.0148506\ttotal: 1m 23s\tremaining: 1m 32s\n",
      "474:\tlearn: 0.0148405\ttotal: 1m 23s\tremaining: 1m 32s\n",
      "475:\tlearn: 0.0148283\ttotal: 1m 23s\tremaining: 1m 31s\n",
      "476:\tlearn: 0.0148171\ttotal: 1m 23s\tremaining: 1m 31s\n",
      "477:\tlearn: 0.0147932\ttotal: 1m 23s\tremaining: 1m 31s\n",
      "478:\tlearn: 0.0147797\ttotal: 1m 23s\tremaining: 1m 31s\n",
      "479:\tlearn: 0.0147691\ttotal: 1m 24s\tremaining: 1m 31s\n",
      "480:\tlearn: 0.0147512\ttotal: 1m 24s\tremaining: 1m 31s\n",
      "481:\tlearn: 0.0147361\ttotal: 1m 24s\tremaining: 1m 30s\n",
      "482:\tlearn: 0.0147200\ttotal: 1m 25s\tremaining: 1m 30s\n",
      "483:\tlearn: 0.0147020\ttotal: 1m 25s\tremaining: 1m 30s\n",
      "484:\tlearn: 0.0146820\ttotal: 1m 25s\tremaining: 1m 30s\n",
      "485:\tlearn: 0.0146700\ttotal: 1m 25s\tremaining: 1m 30s\n",
      "486:\tlearn: 0.0146614\ttotal: 1m 26s\tremaining: 1m 30s\n",
      "487:\tlearn: 0.0146400\ttotal: 1m 26s\tremaining: 1m 30s\n",
      "488:\tlearn: 0.0146224\ttotal: 1m 26s\tremaining: 1m 30s\n",
      "489:\tlearn: 0.0146055\ttotal: 1m 26s\tremaining: 1m 30s\n",
      "490:\tlearn: 0.0145811\ttotal: 1m 27s\tremaining: 1m 30s\n",
      "491:\tlearn: 0.0145649\ttotal: 1m 27s\tremaining: 1m 30s\n",
      "492:\tlearn: 0.0145529\ttotal: 1m 27s\tremaining: 1m 30s\n",
      "493:\tlearn: 0.0145400\ttotal: 1m 27s\tremaining: 1m 29s\n",
      "494:\tlearn: 0.0145237\ttotal: 1m 28s\tremaining: 1m 29s\n",
      "495:\tlearn: 0.0145089\ttotal: 1m 28s\tremaining: 1m 29s\n",
      "496:\tlearn: 0.0144878\ttotal: 1m 28s\tremaining: 1m 29s\n",
      "497:\tlearn: 0.0144753\ttotal: 1m 28s\tremaining: 1m 29s\n",
      "498:\tlearn: 0.0144587\ttotal: 1m 29s\tremaining: 1m 29s\n",
      "499:\tlearn: 0.0144430\ttotal: 1m 29s\tremaining: 1m 29s\n",
      "500:\tlearn: 0.0144300\ttotal: 1m 29s\tremaining: 1m 29s\n",
      "501:\tlearn: 0.0144142\ttotal: 1m 30s\tremaining: 1m 29s\n",
      "502:\tlearn: 0.0143877\ttotal: 1m 30s\tremaining: 1m 29s\n",
      "503:\tlearn: 0.0143786\ttotal: 1m 31s\tremaining: 1m 30s\n",
      "504:\tlearn: 0.0143690\ttotal: 1m 31s\tremaining: 1m 30s\n",
      "505:\tlearn: 0.0143590\ttotal: 1m 32s\tremaining: 1m 29s\n",
      "506:\tlearn: 0.0143438\ttotal: 1m 32s\tremaining: 1m 29s\n",
      "507:\tlearn: 0.0143328\ttotal: 1m 32s\tremaining: 1m 29s\n",
      "508:\tlearn: 0.0143161\ttotal: 1m 32s\tremaining: 1m 29s\n",
      "509:\tlearn: 0.0143015\ttotal: 1m 33s\tremaining: 1m 29s\n",
      "510:\tlearn: 0.0142899\ttotal: 1m 33s\tremaining: 1m 29s\n",
      "511:\tlearn: 0.0142726\ttotal: 1m 33s\tremaining: 1m 29s\n",
      "512:\tlearn: 0.0142625\ttotal: 1m 33s\tremaining: 1m 29s\n",
      "513:\tlearn: 0.0142518\ttotal: 1m 34s\tremaining: 1m 29s\n",
      "514:\tlearn: 0.0142339\ttotal: 1m 34s\tremaining: 1m 29s\n",
      "515:\tlearn: 0.0142156\ttotal: 1m 34s\tremaining: 1m 29s\n",
      "516:\tlearn: 0.0141997\ttotal: 1m 35s\tremaining: 1m 29s\n",
      "517:\tlearn: 0.0141919\ttotal: 1m 35s\tremaining: 1m 29s\n",
      "518:\tlearn: 0.0141721\ttotal: 1m 36s\tremaining: 1m 29s\n",
      "519:\tlearn: 0.0141610\ttotal: 1m 36s\tremaining: 1m 29s\n",
      "520:\tlearn: 0.0141434\ttotal: 1m 36s\tremaining: 1m 29s\n",
      "521:\tlearn: 0.0141268\ttotal: 1m 37s\tremaining: 1m 28s\n",
      "522:\tlearn: 0.0141097\ttotal: 1m 37s\tremaining: 1m 29s\n",
      "523:\tlearn: 0.0140914\ttotal: 1m 37s\tremaining: 1m 28s\n",
      "524:\tlearn: 0.0140804\ttotal: 1m 38s\tremaining: 1m 28s\n",
      "525:\tlearn: 0.0140608\ttotal: 1m 38s\tremaining: 1m 28s\n",
      "526:\tlearn: 0.0140459\ttotal: 1m 38s\tremaining: 1m 28s\n",
      "527:\tlearn: 0.0140341\ttotal: 1m 38s\tremaining: 1m 28s\n",
      "528:\tlearn: 0.0140267\ttotal: 1m 39s\tremaining: 1m 28s\n",
      "529:\tlearn: 0.0140210\ttotal: 1m 39s\tremaining: 1m 28s\n",
      "530:\tlearn: 0.0140126\ttotal: 1m 40s\tremaining: 1m 28s\n",
      "531:\tlearn: 0.0139983\ttotal: 1m 40s\tremaining: 1m 28s\n",
      "532:\tlearn: 0.0139921\ttotal: 1m 40s\tremaining: 1m 28s\n",
      "533:\tlearn: 0.0139776\ttotal: 1m 41s\tremaining: 1m 28s\n",
      "534:\tlearn: 0.0139697\ttotal: 1m 41s\tremaining: 1m 28s\n",
      "535:\tlearn: 0.0139605\ttotal: 1m 42s\tremaining: 1m 28s\n",
      "536:\tlearn: 0.0139440\ttotal: 1m 42s\tremaining: 1m 28s\n",
      "537:\tlearn: 0.0139355\ttotal: 1m 42s\tremaining: 1m 28s\n",
      "538:\tlearn: 0.0139245\ttotal: 1m 43s\tremaining: 1m 28s\n",
      "539:\tlearn: 0.0139088\ttotal: 1m 43s\tremaining: 1m 28s\n",
      "540:\tlearn: 0.0138944\ttotal: 1m 43s\tremaining: 1m 27s\n",
      "541:\tlearn: 0.0138861\ttotal: 1m 43s\tremaining: 1m 27s\n",
      "542:\tlearn: 0.0138742\ttotal: 1m 44s\tremaining: 1m 27s\n",
      "543:\tlearn: 0.0138635\ttotal: 1m 44s\tremaining: 1m 27s\n",
      "544:\tlearn: 0.0138502\ttotal: 1m 44s\tremaining: 1m 27s\n",
      "545:\tlearn: 0.0138340\ttotal: 1m 45s\tremaining: 1m 27s\n",
      "546:\tlearn: 0.0138227\ttotal: 1m 45s\tremaining: 1m 27s\n",
      "547:\tlearn: 0.0138089\ttotal: 1m 45s\tremaining: 1m 27s\n",
      "548:\tlearn: 0.0137968\ttotal: 1m 45s\tremaining: 1m 26s\n",
      "549:\tlearn: 0.0137840\ttotal: 1m 46s\tremaining: 1m 26s\n",
      "550:\tlearn: 0.0137727\ttotal: 1m 46s\tremaining: 1m 26s\n",
      "551:\tlearn: 0.0137620\ttotal: 1m 46s\tremaining: 1m 26s\n",
      "552:\tlearn: 0.0137567\ttotal: 1m 46s\tremaining: 1m 26s\n",
      "553:\tlearn: 0.0137379\ttotal: 1m 47s\tremaining: 1m 26s\n",
      "554:\tlearn: 0.0137189\ttotal: 1m 47s\tremaining: 1m 26s\n",
      "555:\tlearn: 0.0137079\ttotal: 1m 47s\tremaining: 1m 25s\n",
      "556:\tlearn: 0.0136844\ttotal: 1m 47s\tremaining: 1m 25s\n",
      "557:\tlearn: 0.0136768\ttotal: 1m 48s\tremaining: 1m 25s\n",
      "558:\tlearn: 0.0136547\ttotal: 1m 48s\tremaining: 1m 25s\n",
      "559:\tlearn: 0.0136334\ttotal: 1m 48s\tremaining: 1m 25s\n",
      "560:\tlearn: 0.0136244\ttotal: 1m 48s\tremaining: 1m 25s\n",
      "561:\tlearn: 0.0136099\ttotal: 1m 48s\tremaining: 1m 24s\n",
      "562:\tlearn: 0.0135960\ttotal: 1m 49s\tremaining: 1m 24s\n",
      "563:\tlearn: 0.0135858\ttotal: 1m 49s\tremaining: 1m 24s\n",
      "564:\tlearn: 0.0135685\ttotal: 1m 49s\tremaining: 1m 24s\n",
      "565:\tlearn: 0.0135537\ttotal: 1m 49s\tremaining: 1m 24s\n",
      "566:\tlearn: 0.0135389\ttotal: 1m 49s\tremaining: 1m 23s\n",
      "567:\tlearn: 0.0135294\ttotal: 1m 49s\tremaining: 1m 23s\n",
      "568:\tlearn: 0.0135130\ttotal: 1m 50s\tremaining: 1m 23s\n",
      "569:\tlearn: 0.0135082\ttotal: 1m 50s\tremaining: 1m 23s\n",
      "570:\tlearn: 0.0134923\ttotal: 1m 50s\tremaining: 1m 22s\n",
      "571:\tlearn: 0.0134843\ttotal: 1m 50s\tremaining: 1m 22s\n",
      "572:\tlearn: 0.0134697\ttotal: 1m 50s\tremaining: 1m 22s\n",
      "573:\tlearn: 0.0134514\ttotal: 1m 50s\tremaining: 1m 22s\n",
      "574:\tlearn: 0.0134432\ttotal: 1m 50s\tremaining: 1m 21s\n",
      "575:\tlearn: 0.0134237\ttotal: 1m 50s\tremaining: 1m 21s\n",
      "576:\tlearn: 0.0134096\ttotal: 1m 51s\tremaining: 1m 21s\n",
      "577:\tlearn: 0.0133970\ttotal: 1m 51s\tremaining: 1m 21s\n",
      "578:\tlearn: 0.0133902\ttotal: 1m 51s\tremaining: 1m 20s\n",
      "579:\tlearn: 0.0133772\ttotal: 1m 51s\tremaining: 1m 20s\n",
      "580:\tlearn: 0.0133690\ttotal: 1m 51s\tremaining: 1m 20s\n",
      "581:\tlearn: 0.0133524\ttotal: 1m 51s\tremaining: 1m 20s\n",
      "582:\tlearn: 0.0133339\ttotal: 1m 51s\tremaining: 1m 19s\n",
      "583:\tlearn: 0.0133245\ttotal: 1m 52s\tremaining: 1m 19s\n",
      "584:\tlearn: 0.0133068\ttotal: 1m 52s\tremaining: 1m 19s\n",
      "585:\tlearn: 0.0133002\ttotal: 1m 52s\tremaining: 1m 19s\n",
      "586:\tlearn: 0.0132886\ttotal: 1m 52s\tremaining: 1m 19s\n",
      "587:\tlearn: 0.0132715\ttotal: 1m 52s\tremaining: 1m 18s\n",
      "588:\tlearn: 0.0132584\ttotal: 1m 52s\tremaining: 1m 18s\n",
      "589:\tlearn: 0.0132507\ttotal: 1m 52s\tremaining: 1m 18s\n",
      "590:\tlearn: 0.0132424\ttotal: 1m 53s\tremaining: 1m 18s\n",
      "591:\tlearn: 0.0132340\ttotal: 1m 53s\tremaining: 1m 18s\n",
      "592:\tlearn: 0.0132214\ttotal: 1m 53s\tremaining: 1m 17s\n",
      "593:\tlearn: 0.0132132\ttotal: 1m 53s\tremaining: 1m 17s\n",
      "594:\tlearn: 0.0132056\ttotal: 1m 53s\tremaining: 1m 17s\n",
      "595:\tlearn: 0.0131985\ttotal: 1m 53s\tremaining: 1m 17s\n",
      "596:\tlearn: 0.0131899\ttotal: 1m 53s\tremaining: 1m 16s\n",
      "597:\tlearn: 0.0131787\ttotal: 1m 54s\tremaining: 1m 16s\n",
      "598:\tlearn: 0.0131678\ttotal: 1m 54s\tremaining: 1m 16s\n",
      "599:\tlearn: 0.0131567\ttotal: 1m 54s\tremaining: 1m 16s\n",
      "600:\tlearn: 0.0131488\ttotal: 1m 55s\tremaining: 1m 16s\n",
      "601:\tlearn: 0.0131328\ttotal: 1m 55s\tremaining: 1m 16s\n",
      "602:\tlearn: 0.0131218\ttotal: 1m 56s\tremaining: 1m 16s\n",
      "603:\tlearn: 0.0131166\ttotal: 1m 56s\tremaining: 1m 16s\n",
      "604:\tlearn: 0.0131122\ttotal: 1m 57s\tremaining: 1m 16s\n",
      "605:\tlearn: 0.0131056\ttotal: 1m 57s\tremaining: 1m 16s\n",
      "606:\tlearn: 0.0130944\ttotal: 1m 57s\tremaining: 1m 16s\n",
      "607:\tlearn: 0.0130847\ttotal: 1m 58s\tremaining: 1m 16s\n",
      "608:\tlearn: 0.0130712\ttotal: 1m 58s\tremaining: 1m 15s\n",
      "609:\tlearn: 0.0130576\ttotal: 1m 58s\tremaining: 1m 15s\n",
      "610:\tlearn: 0.0130503\ttotal: 1m 58s\tremaining: 1m 15s\n",
      "611:\tlearn: 0.0130353\ttotal: 1m 59s\tremaining: 1m 15s\n",
      "612:\tlearn: 0.0130278\ttotal: 1m 59s\tremaining: 1m 15s\n",
      "613:\tlearn: 0.0130076\ttotal: 1m 59s\tremaining: 1m 15s\n",
      "614:\tlearn: 0.0129956\ttotal: 2m\tremaining: 1m 15s\n",
      "615:\tlearn: 0.0129799\ttotal: 2m\tremaining: 1m 15s\n",
      "616:\tlearn: 0.0129695\ttotal: 2m\tremaining: 1m 14s\n",
      "617:\tlearn: 0.0129591\ttotal: 2m\tremaining: 1m 14s\n",
      "618:\tlearn: 0.0129469\ttotal: 2m 1s\tremaining: 1m 14s\n",
      "619:\tlearn: 0.0129391\ttotal: 2m 1s\tremaining: 1m 14s\n",
      "620:\tlearn: 0.0129297\ttotal: 2m 1s\tremaining: 1m 14s\n",
      "621:\tlearn: 0.0129176\ttotal: 2m 1s\tremaining: 1m 13s\n",
      "622:\tlearn: 0.0129086\ttotal: 2m 2s\tremaining: 1m 13s\n",
      "623:\tlearn: 0.0129004\ttotal: 2m 2s\tremaining: 1m 13s\n"
     ]
    },
    {
     "name": "stdout",
     "output_type": "stream",
     "text": [
      "624:\tlearn: 0.0128937\ttotal: 2m 2s\tremaining: 1m 13s\n",
      "625:\tlearn: 0.0128824\ttotal: 2m 2s\tremaining: 1m 13s\n",
      "626:\tlearn: 0.0128751\ttotal: 2m 3s\tremaining: 1m 13s\n",
      "627:\tlearn: 0.0128709\ttotal: 2m 3s\tremaining: 1m 13s\n",
      "628:\tlearn: 0.0128533\ttotal: 2m 3s\tremaining: 1m 12s\n",
      "629:\tlearn: 0.0128417\ttotal: 2m 3s\tremaining: 1m 12s\n",
      "630:\tlearn: 0.0128254\ttotal: 2m 4s\tremaining: 1m 12s\n",
      "631:\tlearn: 0.0128175\ttotal: 2m 4s\tremaining: 1m 12s\n",
      "632:\tlearn: 0.0128067\ttotal: 2m 5s\tremaining: 1m 12s\n",
      "633:\tlearn: 0.0127999\ttotal: 2m 5s\tremaining: 1m 12s\n",
      "634:\tlearn: 0.0127844\ttotal: 2m 5s\tremaining: 1m 12s\n",
      "635:\tlearn: 0.0127653\ttotal: 2m 5s\tremaining: 1m 11s\n",
      "636:\tlearn: 0.0127559\ttotal: 2m 5s\tremaining: 1m 11s\n",
      "637:\tlearn: 0.0127431\ttotal: 2m 5s\tremaining: 1m 11s\n",
      "638:\tlearn: 0.0127282\ttotal: 2m 5s\tremaining: 1m 11s\n",
      "639:\tlearn: 0.0127156\ttotal: 2m 6s\tremaining: 1m 10s\n",
      "640:\tlearn: 0.0126968\ttotal: 2m 6s\tremaining: 1m 10s\n",
      "641:\tlearn: 0.0126889\ttotal: 2m 6s\tremaining: 1m 10s\n",
      "642:\tlearn: 0.0126781\ttotal: 2m 6s\tremaining: 1m 10s\n",
      "643:\tlearn: 0.0126674\ttotal: 2m 6s\tremaining: 1m 10s\n",
      "644:\tlearn: 0.0126597\ttotal: 2m 6s\tremaining: 1m 9s\n",
      "645:\tlearn: 0.0126459\ttotal: 2m 6s\tremaining: 1m 9s\n",
      "646:\tlearn: 0.0126361\ttotal: 2m 7s\tremaining: 1m 9s\n",
      "647:\tlearn: 0.0126288\ttotal: 2m 7s\tremaining: 1m 9s\n",
      "648:\tlearn: 0.0126183\ttotal: 2m 7s\tremaining: 1m 9s\n",
      "649:\tlearn: 0.0126079\ttotal: 2m 7s\tremaining: 1m 8s\n",
      "650:\tlearn: 0.0125964\ttotal: 2m 7s\tremaining: 1m 8s\n",
      "651:\tlearn: 0.0125909\ttotal: 2m 8s\tremaining: 1m 8s\n",
      "652:\tlearn: 0.0125781\ttotal: 2m 8s\tremaining: 1m 8s\n",
      "653:\tlearn: 0.0125725\ttotal: 2m 8s\tremaining: 1m 7s\n",
      "654:\tlearn: 0.0125604\ttotal: 2m 8s\tremaining: 1m 7s\n",
      "655:\tlearn: 0.0125528\ttotal: 2m 8s\tremaining: 1m 7s\n",
      "656:\tlearn: 0.0125395\ttotal: 2m 8s\tremaining: 1m 7s\n",
      "657:\tlearn: 0.0125249\ttotal: 2m 9s\tremaining: 1m 7s\n",
      "658:\tlearn: 0.0125168\ttotal: 2m 9s\tremaining: 1m 6s\n",
      "659:\tlearn: 0.0125060\ttotal: 2m 9s\tremaining: 1m 6s\n",
      "660:\tlearn: 0.0124966\ttotal: 2m 9s\tremaining: 1m 6s\n",
      "661:\tlearn: 0.0124888\ttotal: 2m 9s\tremaining: 1m 6s\n",
      "662:\tlearn: 0.0124838\ttotal: 2m 10s\tremaining: 1m 6s\n",
      "663:\tlearn: 0.0124777\ttotal: 2m 10s\tremaining: 1m 5s\n",
      "664:\tlearn: 0.0124647\ttotal: 2m 10s\tremaining: 1m 5s\n",
      "665:\tlearn: 0.0124558\ttotal: 2m 10s\tremaining: 1m 5s\n",
      "666:\tlearn: 0.0124507\ttotal: 2m 10s\tremaining: 1m 5s\n",
      "667:\tlearn: 0.0124422\ttotal: 2m 10s\tremaining: 1m 5s\n",
      "668:\tlearn: 0.0124274\ttotal: 2m 11s\tremaining: 1m 4s\n",
      "669:\tlearn: 0.0124124\ttotal: 2m 11s\tremaining: 1m 4s\n",
      "670:\tlearn: 0.0124061\ttotal: 2m 11s\tremaining: 1m 4s\n",
      "671:\tlearn: 0.0123967\ttotal: 2m 11s\tremaining: 1m 4s\n",
      "672:\tlearn: 0.0123853\ttotal: 2m 11s\tremaining: 1m 4s\n",
      "673:\tlearn: 0.0123759\ttotal: 2m 11s\tremaining: 1m 3s\n",
      "674:\tlearn: 0.0123602\ttotal: 2m 12s\tremaining: 1m 3s\n",
      "675:\tlearn: 0.0123545\ttotal: 2m 12s\tremaining: 1m 3s\n",
      "676:\tlearn: 0.0123491\ttotal: 2m 12s\tremaining: 1m 3s\n",
      "677:\tlearn: 0.0123435\ttotal: 2m 12s\tremaining: 1m 2s\n",
      "678:\tlearn: 0.0123273\ttotal: 2m 12s\tremaining: 1m 2s\n",
      "679:\tlearn: 0.0123130\ttotal: 2m 12s\tremaining: 1m 2s\n",
      "680:\tlearn: 0.0123057\ttotal: 2m 12s\tremaining: 1m 2s\n",
      "681:\tlearn: 0.0122965\ttotal: 2m 12s\tremaining: 1m 2s\n",
      "682:\tlearn: 0.0122844\ttotal: 2m 13s\tremaining: 1m 1s\n",
      "683:\tlearn: 0.0122708\ttotal: 2m 13s\tremaining: 1m 1s\n",
      "684:\tlearn: 0.0122638\ttotal: 2m 13s\tremaining: 1m 1s\n",
      "685:\tlearn: 0.0122509\ttotal: 2m 13s\tremaining: 1m 1s\n",
      "686:\tlearn: 0.0122460\ttotal: 2m 13s\tremaining: 1m\n",
      "687:\tlearn: 0.0122257\ttotal: 2m 13s\tremaining: 1m\n",
      "688:\tlearn: 0.0122169\ttotal: 2m 14s\tremaining: 1m\n",
      "689:\tlearn: 0.0122104\ttotal: 2m 14s\tremaining: 1m\n",
      "690:\tlearn: 0.0122038\ttotal: 2m 14s\tremaining: 1m\n",
      "691:\tlearn: 0.0121895\ttotal: 2m 14s\tremaining: 59.9s\n",
      "692:\tlearn: 0.0121763\ttotal: 2m 14s\tremaining: 59.7s\n",
      "693:\tlearn: 0.0121688\ttotal: 2m 14s\tremaining: 59.4s\n",
      "694:\tlearn: 0.0121625\ttotal: 2m 14s\tremaining: 59.2s\n",
      "695:\tlearn: 0.0121444\ttotal: 2m 15s\tremaining: 59s\n",
      "696:\tlearn: 0.0121303\ttotal: 2m 15s\tremaining: 58.8s\n",
      "697:\tlearn: 0.0121216\ttotal: 2m 15s\tremaining: 58.5s\n",
      "698:\tlearn: 0.0121165\ttotal: 2m 15s\tremaining: 58.3s\n",
      "699:\tlearn: 0.0121076\ttotal: 2m 15s\tremaining: 58.1s\n",
      "700:\tlearn: 0.0120909\ttotal: 2m 15s\tremaining: 57.9s\n",
      "701:\tlearn: 0.0120796\ttotal: 2m 15s\tremaining: 57.7s\n",
      "702:\tlearn: 0.0120726\ttotal: 2m 16s\tremaining: 57.5s\n",
      "703:\tlearn: 0.0120690\ttotal: 2m 16s\tremaining: 57.3s\n",
      "704:\tlearn: 0.0120621\ttotal: 2m 16s\tremaining: 57.1s\n",
      "705:\tlearn: 0.0120542\ttotal: 2m 16s\tremaining: 56.9s\n",
      "706:\tlearn: 0.0120455\ttotal: 2m 16s\tremaining: 56.7s\n",
      "707:\tlearn: 0.0120401\ttotal: 2m 16s\tremaining: 56.5s\n",
      "708:\tlearn: 0.0120338\ttotal: 2m 17s\tremaining: 56.3s\n",
      "709:\tlearn: 0.0120276\ttotal: 2m 17s\tremaining: 56.1s\n",
      "710:\tlearn: 0.0120184\ttotal: 2m 17s\tremaining: 55.8s\n",
      "711:\tlearn: 0.0120131\ttotal: 2m 17s\tremaining: 55.6s\n",
      "712:\tlearn: 0.0120091\ttotal: 2m 17s\tremaining: 55.4s\n",
      "713:\tlearn: 0.0120048\ttotal: 2m 17s\tremaining: 55.2s\n",
      "714:\tlearn: 0.0119984\ttotal: 2m 17s\tremaining: 55s\n",
      "715:\tlearn: 0.0119933\ttotal: 2m 17s\tremaining: 54.7s\n",
      "716:\tlearn: 0.0119789\ttotal: 2m 18s\tremaining: 54.5s\n",
      "717:\tlearn: 0.0119699\ttotal: 2m 18s\tremaining: 54.3s\n",
      "718:\tlearn: 0.0119532\ttotal: 2m 18s\tremaining: 54.1s\n",
      "719:\tlearn: 0.0119387\ttotal: 2m 18s\tremaining: 53.9s\n",
      "720:\tlearn: 0.0119228\ttotal: 2m 18s\tremaining: 53.7s\n",
      "721:\tlearn: 0.0119156\ttotal: 2m 18s\tremaining: 53.5s\n",
      "722:\tlearn: 0.0119108\ttotal: 2m 19s\tremaining: 53.3s\n",
      "723:\tlearn: 0.0118944\ttotal: 2m 19s\tremaining: 53.1s\n",
      "724:\tlearn: 0.0118886\ttotal: 2m 19s\tremaining: 52.9s\n",
      "725:\tlearn: 0.0118813\ttotal: 2m 19s\tremaining: 52.7s\n",
      "726:\tlearn: 0.0118668\ttotal: 2m 19s\tremaining: 52.5s\n",
      "727:\tlearn: 0.0118566\ttotal: 2m 19s\tremaining: 52.3s\n",
      "728:\tlearn: 0.0118439\ttotal: 2m 20s\tremaining: 52.1s\n",
      "729:\tlearn: 0.0118222\ttotal: 2m 20s\tremaining: 51.9s\n",
      "730:\tlearn: 0.0118104\ttotal: 2m 20s\tremaining: 51.7s\n",
      "731:\tlearn: 0.0118012\ttotal: 2m 20s\tremaining: 51.5s\n",
      "732:\tlearn: 0.0117982\ttotal: 2m 20s\tremaining: 51.3s\n",
      "733:\tlearn: 0.0117857\ttotal: 2m 21s\tremaining: 51.1s\n",
      "734:\tlearn: 0.0117750\ttotal: 2m 21s\tremaining: 50.9s\n",
      "735:\tlearn: 0.0117590\ttotal: 2m 21s\tremaining: 50.7s\n",
      "736:\tlearn: 0.0117495\ttotal: 2m 21s\tremaining: 50.4s\n",
      "737:\tlearn: 0.0117369\ttotal: 2m 21s\tremaining: 50.2s\n",
      "738:\tlearn: 0.0117302\ttotal: 2m 21s\tremaining: 50s\n",
      "739:\tlearn: 0.0117247\ttotal: 2m 21s\tremaining: 49.8s\n",
      "740:\tlearn: 0.0117148\ttotal: 2m 21s\tremaining: 49.6s\n",
      "741:\tlearn: 0.0117056\ttotal: 2m 21s\tremaining: 49.4s\n",
      "742:\tlearn: 0.0116928\ttotal: 2m 22s\tremaining: 49.1s\n",
      "743:\tlearn: 0.0116892\ttotal: 2m 22s\tremaining: 48.9s\n",
      "744:\tlearn: 0.0116735\ttotal: 2m 22s\tremaining: 48.7s\n",
      "745:\tlearn: 0.0116694\ttotal: 2m 22s\tremaining: 48.5s\n",
      "746:\tlearn: 0.0116639\ttotal: 2m 22s\tremaining: 48.3s\n",
      "747:\tlearn: 0.0116565\ttotal: 2m 22s\tremaining: 48s\n",
      "748:\tlearn: 0.0116529\ttotal: 2m 22s\tremaining: 47.8s\n",
      "749:\tlearn: 0.0116364\ttotal: 2m 22s\tremaining: 47.6s\n",
      "750:\tlearn: 0.0116311\ttotal: 2m 22s\tremaining: 47.4s\n",
      "751:\tlearn: 0.0116200\ttotal: 2m 23s\tremaining: 47.2s\n",
      "752:\tlearn: 0.0116057\ttotal: 2m 23s\tremaining: 47s\n",
      "753:\tlearn: 0.0115826\ttotal: 2m 23s\tremaining: 46.7s\n",
      "754:\tlearn: 0.0115756\ttotal: 2m 23s\tremaining: 46.5s\n",
      "755:\tlearn: 0.0115705\ttotal: 2m 23s\tremaining: 46.3s\n",
      "756:\tlearn: 0.0115601\ttotal: 2m 23s\tremaining: 46.1s\n",
      "757:\tlearn: 0.0115529\ttotal: 2m 23s\tremaining: 45.9s\n",
      "758:\tlearn: 0.0115464\ttotal: 2m 23s\tremaining: 45.7s\n",
      "759:\tlearn: 0.0115384\ttotal: 2m 24s\tremaining: 45.5s\n",
      "760:\tlearn: 0.0115325\ttotal: 2m 24s\tremaining: 45.3s\n",
      "761:\tlearn: 0.0115197\ttotal: 2m 24s\tremaining: 45.1s\n",
      "762:\tlearn: 0.0115094\ttotal: 2m 24s\tremaining: 44.8s\n",
      "763:\tlearn: 0.0115047\ttotal: 2m 24s\tremaining: 44.6s\n",
      "764:\tlearn: 0.0114970\ttotal: 2m 24s\tremaining: 44.4s\n",
      "765:\tlearn: 0.0114809\ttotal: 2m 24s\tremaining: 44.2s\n",
      "766:\tlearn: 0.0114712\ttotal: 2m 24s\tremaining: 44s\n",
      "767:\tlearn: 0.0114613\ttotal: 2m 25s\tremaining: 43.8s\n",
      "768:\tlearn: 0.0114463\ttotal: 2m 25s\tremaining: 43.7s\n",
      "769:\tlearn: 0.0114331\ttotal: 2m 25s\tremaining: 43.5s\n",
      "770:\tlearn: 0.0114197\ttotal: 2m 25s\tremaining: 43.3s\n",
      "771:\tlearn: 0.0114130\ttotal: 2m 25s\tremaining: 43.1s\n",
      "772:\tlearn: 0.0113979\ttotal: 2m 26s\tremaining: 42.9s\n",
      "773:\tlearn: 0.0113890\ttotal: 2m 26s\tremaining: 42.7s\n",
      "774:\tlearn: 0.0113791\ttotal: 2m 26s\tremaining: 42.5s\n",
      "775:\tlearn: 0.0113732\ttotal: 2m 26s\tremaining: 42.3s\n",
      "776:\tlearn: 0.0113697\ttotal: 2m 26s\tremaining: 42.1s\n",
      "777:\tlearn: 0.0113598\ttotal: 2m 26s\tremaining: 41.9s\n",
      "778:\tlearn: 0.0113527\ttotal: 2m 27s\tremaining: 41.7s\n",
      "779:\tlearn: 0.0113436\ttotal: 2m 27s\tremaining: 41.5s\n"
     ]
    },
    {
     "name": "stdout",
     "output_type": "stream",
     "text": [
      "780:\tlearn: 0.0113384\ttotal: 2m 27s\tremaining: 41.4s\n",
      "781:\tlearn: 0.0113260\ttotal: 2m 27s\tremaining: 41.2s\n",
      "782:\tlearn: 0.0113110\ttotal: 2m 27s\tremaining: 41s\n",
      "783:\tlearn: 0.0113061\ttotal: 2m 27s\tremaining: 40.8s\n",
      "784:\tlearn: 0.0112992\ttotal: 2m 28s\tremaining: 40.6s\n",
      "785:\tlearn: 0.0112888\ttotal: 2m 28s\tremaining: 40.4s\n",
      "786:\tlearn: 0.0112778\ttotal: 2m 28s\tremaining: 40.2s\n",
      "787:\tlearn: 0.0112724\ttotal: 2m 28s\tremaining: 40s\n",
      "788:\tlearn: 0.0112651\ttotal: 2m 28s\tremaining: 39.8s\n",
      "789:\tlearn: 0.0112522\ttotal: 2m 29s\tremaining: 39.6s\n",
      "790:\tlearn: 0.0112461\ttotal: 2m 29s\tremaining: 39.4s\n",
      "791:\tlearn: 0.0112411\ttotal: 2m 29s\tremaining: 39.2s\n",
      "792:\tlearn: 0.0112328\ttotal: 2m 29s\tremaining: 39s\n",
      "793:\tlearn: 0.0112212\ttotal: 2m 29s\tremaining: 38.8s\n",
      "794:\tlearn: 0.0112188\ttotal: 2m 29s\tremaining: 38.6s\n",
      "795:\tlearn: 0.0112107\ttotal: 2m 29s\tremaining: 38.4s\n",
      "796:\tlearn: 0.0112052\ttotal: 2m 29s\tremaining: 38.2s\n",
      "797:\tlearn: 0.0111923\ttotal: 2m 30s\tremaining: 38s\n",
      "798:\tlearn: 0.0111767\ttotal: 2m 30s\tremaining: 37.8s\n",
      "799:\tlearn: 0.0111726\ttotal: 2m 30s\tremaining: 37.6s\n",
      "800:\tlearn: 0.0111683\ttotal: 2m 30s\tremaining: 37.4s\n",
      "801:\tlearn: 0.0111638\ttotal: 2m 30s\tremaining: 37.2s\n",
      "802:\tlearn: 0.0111589\ttotal: 2m 30s\tremaining: 37s\n",
      "803:\tlearn: 0.0111538\ttotal: 2m 31s\tremaining: 36.8s\n",
      "804:\tlearn: 0.0111461\ttotal: 2m 31s\tremaining: 36.6s\n",
      "805:\tlearn: 0.0111423\ttotal: 2m 31s\tremaining: 36.4s\n",
      "806:\tlearn: 0.0111358\ttotal: 2m 31s\tremaining: 36.2s\n",
      "807:\tlearn: 0.0111315\ttotal: 2m 31s\tremaining: 36.1s\n",
      "808:\tlearn: 0.0111244\ttotal: 2m 31s\tremaining: 35.9s\n",
      "809:\tlearn: 0.0111074\ttotal: 2m 32s\tremaining: 35.7s\n",
      "810:\tlearn: 0.0110979\ttotal: 2m 32s\tremaining: 35.5s\n",
      "811:\tlearn: 0.0110942\ttotal: 2m 32s\tremaining: 35.3s\n",
      "812:\tlearn: 0.0110789\ttotal: 2m 32s\tremaining: 35.1s\n",
      "813:\tlearn: 0.0110745\ttotal: 2m 32s\tremaining: 34.9s\n",
      "814:\tlearn: 0.0110695\ttotal: 2m 32s\tremaining: 34.7s\n",
      "815:\tlearn: 0.0110597\ttotal: 2m 32s\tremaining: 34.5s\n",
      "816:\tlearn: 0.0110471\ttotal: 2m 33s\tremaining: 34.3s\n",
      "817:\tlearn: 0.0110398\ttotal: 2m 33s\tremaining: 34.1s\n",
      "818:\tlearn: 0.0110358\ttotal: 2m 33s\tremaining: 33.9s\n",
      "819:\tlearn: 0.0110310\ttotal: 2m 33s\tremaining: 33.7s\n",
      "820:\tlearn: 0.0110257\ttotal: 2m 34s\tremaining: 33.6s\n",
      "821:\tlearn: 0.0110078\ttotal: 2m 34s\tremaining: 33.4s\n",
      "822:\tlearn: 0.0109951\ttotal: 2m 34s\tremaining: 33.2s\n",
      "823:\tlearn: 0.0109905\ttotal: 2m 34s\tremaining: 33s\n",
      "824:\tlearn: 0.0109880\ttotal: 2m 34s\tremaining: 32.8s\n",
      "825:\tlearn: 0.0109758\ttotal: 2m 34s\tremaining: 32.6s\n",
      "826:\tlearn: 0.0109715\ttotal: 2m 34s\tremaining: 32.4s\n",
      "827:\tlearn: 0.0109609\ttotal: 2m 35s\tremaining: 32.2s\n",
      "828:\tlearn: 0.0109548\ttotal: 2m 35s\tremaining: 32s\n",
      "829:\tlearn: 0.0109407\ttotal: 2m 35s\tremaining: 31.8s\n",
      "830:\tlearn: 0.0109279\ttotal: 2m 35s\tremaining: 31.7s\n",
      "831:\tlearn: 0.0109164\ttotal: 2m 35s\tremaining: 31.5s\n",
      "832:\tlearn: 0.0109087\ttotal: 2m 35s\tremaining: 31.3s\n",
      "833:\tlearn: 0.0109008\ttotal: 2m 36s\tremaining: 31.1s\n",
      "834:\tlearn: 0.0108975\ttotal: 2m 36s\tremaining: 30.9s\n",
      "835:\tlearn: 0.0108907\ttotal: 2m 36s\tremaining: 30.7s\n",
      "836:\tlearn: 0.0108820\ttotal: 2m 36s\tremaining: 30.5s\n",
      "837:\tlearn: 0.0108631\ttotal: 2m 36s\tremaining: 30.3s\n",
      "838:\tlearn: 0.0108492\ttotal: 2m 36s\tremaining: 30.1s\n",
      "839:\tlearn: 0.0108445\ttotal: 2m 36s\tremaining: 29.9s\n",
      "840:\tlearn: 0.0108355\ttotal: 2m 37s\tremaining: 29.7s\n",
      "841:\tlearn: 0.0108314\ttotal: 2m 37s\tremaining: 29.5s\n",
      "842:\tlearn: 0.0108271\ttotal: 2m 37s\tremaining: 29.3s\n",
      "843:\tlearn: 0.0108242\ttotal: 2m 37s\tremaining: 29.1s\n",
      "844:\tlearn: 0.0108197\ttotal: 2m 37s\tremaining: 28.9s\n",
      "845:\tlearn: 0.0108167\ttotal: 2m 37s\tremaining: 28.7s\n",
      "846:\tlearn: 0.0108118\ttotal: 2m 37s\tremaining: 28.5s\n",
      "847:\tlearn: 0.0108038\ttotal: 2m 38s\tremaining: 28.3s\n",
      "848:\tlearn: 0.0107993\ttotal: 2m 38s\tremaining: 28.2s\n",
      "849:\tlearn: 0.0107895\ttotal: 2m 38s\tremaining: 28s\n",
      "850:\tlearn: 0.0107861\ttotal: 2m 38s\tremaining: 27.8s\n",
      "851:\tlearn: 0.0107781\ttotal: 2m 38s\tremaining: 27.6s\n",
      "852:\tlearn: 0.0107709\ttotal: 2m 38s\tremaining: 27.4s\n",
      "853:\tlearn: 0.0107620\ttotal: 2m 38s\tremaining: 27.2s\n",
      "854:\tlearn: 0.0107571\ttotal: 2m 39s\tremaining: 27s\n",
      "855:\tlearn: 0.0107522\ttotal: 2m 39s\tremaining: 26.8s\n",
      "856:\tlearn: 0.0107490\ttotal: 2m 39s\tremaining: 26.6s\n",
      "857:\tlearn: 0.0107459\ttotal: 2m 39s\tremaining: 26.4s\n",
      "858:\tlearn: 0.0107393\ttotal: 2m 39s\tremaining: 26.2s\n",
      "859:\tlearn: 0.0107325\ttotal: 2m 39s\tremaining: 26s\n",
      "860:\tlearn: 0.0107234\ttotal: 2m 39s\tremaining: 25.8s\n",
      "861:\tlearn: 0.0107164\ttotal: 2m 39s\tremaining: 25.6s\n",
      "862:\tlearn: 0.0107117\ttotal: 2m 40s\tremaining: 25.4s\n",
      "863:\tlearn: 0.0107020\ttotal: 2m 40s\tremaining: 25.2s\n",
      "864:\tlearn: 0.0106945\ttotal: 2m 40s\tremaining: 25s\n",
      "865:\tlearn: 0.0106808\ttotal: 2m 40s\tremaining: 24.8s\n",
      "866:\tlearn: 0.0106762\ttotal: 2m 40s\tremaining: 24.6s\n",
      "867:\tlearn: 0.0106655\ttotal: 2m 40s\tremaining: 24.4s\n",
      "868:\tlearn: 0.0106632\ttotal: 2m 40s\tremaining: 24.3s\n",
      "869:\tlearn: 0.0106588\ttotal: 2m 41s\tremaining: 24.1s\n",
      "870:\tlearn: 0.0106457\ttotal: 2m 41s\tremaining: 23.9s\n",
      "871:\tlearn: 0.0106337\ttotal: 2m 41s\tremaining: 23.7s\n",
      "872:\tlearn: 0.0106262\ttotal: 2m 41s\tremaining: 23.5s\n",
      "873:\tlearn: 0.0106242\ttotal: 2m 41s\tremaining: 23.3s\n",
      "874:\tlearn: 0.0106177\ttotal: 2m 41s\tremaining: 23.1s\n",
      "875:\tlearn: 0.0106109\ttotal: 2m 41s\tremaining: 22.9s\n",
      "876:\tlearn: 0.0106056\ttotal: 2m 41s\tremaining: 22.7s\n",
      "877:\tlearn: 0.0105969\ttotal: 2m 42s\tremaining: 22.5s\n",
      "878:\tlearn: 0.0105871\ttotal: 2m 42s\tremaining: 22.3s\n",
      "879:\tlearn: 0.0105836\ttotal: 2m 42s\tremaining: 22.1s\n",
      "880:\tlearn: 0.0105790\ttotal: 2m 42s\tremaining: 22s\n",
      "881:\tlearn: 0.0105729\ttotal: 2m 42s\tremaining: 21.8s\n",
      "882:\tlearn: 0.0105677\ttotal: 2m 42s\tremaining: 21.6s\n",
      "883:\tlearn: 0.0105538\ttotal: 2m 43s\tremaining: 21.4s\n",
      "884:\tlearn: 0.0105432\ttotal: 2m 43s\tremaining: 21.2s\n",
      "885:\tlearn: 0.0105366\ttotal: 2m 43s\tremaining: 21s\n",
      "886:\tlearn: 0.0105266\ttotal: 2m 43s\tremaining: 20.9s\n",
      "887:\tlearn: 0.0105196\ttotal: 2m 43s\tremaining: 20.7s\n",
      "888:\tlearn: 0.0105159\ttotal: 2m 44s\tremaining: 20.5s\n",
      "889:\tlearn: 0.0105104\ttotal: 2m 44s\tremaining: 20.3s\n",
      "890:\tlearn: 0.0105034\ttotal: 2m 44s\tremaining: 20.1s\n",
      "891:\tlearn: 0.0104953\ttotal: 2m 44s\tremaining: 19.9s\n",
      "892:\tlearn: 0.0104894\ttotal: 2m 44s\tremaining: 19.7s\n",
      "893:\tlearn: 0.0104861\ttotal: 2m 44s\tremaining: 19.5s\n",
      "894:\tlearn: 0.0104836\ttotal: 2m 44s\tremaining: 19.3s\n",
      "895:\tlearn: 0.0104794\ttotal: 2m 45s\tremaining: 19.2s\n",
      "896:\tlearn: 0.0104766\ttotal: 2m 45s\tremaining: 19s\n",
      "897:\tlearn: 0.0104676\ttotal: 2m 45s\tremaining: 18.8s\n",
      "898:\tlearn: 0.0104641\ttotal: 2m 45s\tremaining: 18.6s\n",
      "899:\tlearn: 0.0104601\ttotal: 2m 45s\tremaining: 18.4s\n",
      "900:\tlearn: 0.0104533\ttotal: 2m 45s\tremaining: 18.2s\n",
      "901:\tlearn: 0.0104497\ttotal: 2m 45s\tremaining: 18s\n",
      "902:\tlearn: 0.0104463\ttotal: 2m 46s\tremaining: 17.8s\n",
      "903:\tlearn: 0.0104431\ttotal: 2m 46s\tremaining: 17.7s\n",
      "904:\tlearn: 0.0104337\ttotal: 2m 46s\tremaining: 17.5s\n",
      "905:\tlearn: 0.0104248\ttotal: 2m 46s\tremaining: 17.3s\n",
      "906:\tlearn: 0.0104127\ttotal: 2m 46s\tremaining: 17.1s\n",
      "907:\tlearn: 0.0104086\ttotal: 2m 47s\tremaining: 16.9s\n",
      "908:\tlearn: 0.0103979\ttotal: 2m 47s\tremaining: 16.7s\n",
      "909:\tlearn: 0.0103903\ttotal: 2m 47s\tremaining: 16.5s\n",
      "910:\tlearn: 0.0103846\ttotal: 2m 47s\tremaining: 16.4s\n",
      "911:\tlearn: 0.0103808\ttotal: 2m 47s\tremaining: 16.2s\n",
      "912:\tlearn: 0.0103684\ttotal: 2m 47s\tremaining: 16s\n",
      "913:\tlearn: 0.0103535\ttotal: 2m 47s\tremaining: 15.8s\n",
      "914:\tlearn: 0.0103420\ttotal: 2m 48s\tremaining: 15.6s\n",
      "915:\tlearn: 0.0103324\ttotal: 2m 48s\tremaining: 15.4s\n",
      "916:\tlearn: 0.0103234\ttotal: 2m 48s\tremaining: 15.2s\n",
      "917:\tlearn: 0.0103157\ttotal: 2m 48s\tremaining: 15.1s\n",
      "918:\tlearn: 0.0103090\ttotal: 2m 48s\tremaining: 14.9s\n",
      "919:\tlearn: 0.0102995\ttotal: 2m 49s\tremaining: 14.7s\n",
      "920:\tlearn: 0.0102968\ttotal: 2m 49s\tremaining: 14.5s\n",
      "921:\tlearn: 0.0102873\ttotal: 2m 49s\tremaining: 14.3s\n",
      "922:\tlearn: 0.0102749\ttotal: 2m 49s\tremaining: 14.1s\n",
      "923:\tlearn: 0.0102707\ttotal: 2m 49s\tremaining: 13.9s\n",
      "924:\tlearn: 0.0102675\ttotal: 2m 49s\tremaining: 13.8s\n",
      "925:\tlearn: 0.0102653\ttotal: 2m 49s\tremaining: 13.6s\n",
      "926:\tlearn: 0.0102544\ttotal: 2m 50s\tremaining: 13.4s\n",
      "927:\tlearn: 0.0102505\ttotal: 2m 50s\tremaining: 13.2s\n",
      "928:\tlearn: 0.0102422\ttotal: 2m 50s\tremaining: 13s\n",
      "929:\tlearn: 0.0102338\ttotal: 2m 50s\tremaining: 12.8s\n",
      "930:\tlearn: 0.0102241\ttotal: 2m 50s\tremaining: 12.7s\n",
      "931:\tlearn: 0.0102154\ttotal: 2m 50s\tremaining: 12.5s\n",
      "932:\tlearn: 0.0102126\ttotal: 2m 50s\tremaining: 12.3s\n",
      "933:\tlearn: 0.0102004\ttotal: 2m 51s\tremaining: 12.1s\n",
      "934:\tlearn: 0.0101935\ttotal: 2m 51s\tremaining: 11.9s\n",
      "935:\tlearn: 0.0101882\ttotal: 2m 51s\tremaining: 11.7s\n"
     ]
    },
    {
     "name": "stdout",
     "output_type": "stream",
     "text": [
      "936:\tlearn: 0.0101859\ttotal: 2m 51s\tremaining: 11.5s\n",
      "937:\tlearn: 0.0101762\ttotal: 2m 51s\tremaining: 11.3s\n",
      "938:\tlearn: 0.0101744\ttotal: 2m 51s\tremaining: 11.2s\n",
      "939:\tlearn: 0.0101642\ttotal: 2m 51s\tremaining: 11s\n",
      "940:\tlearn: 0.0101572\ttotal: 2m 52s\tremaining: 10.8s\n",
      "941:\tlearn: 0.0101432\ttotal: 2m 52s\tremaining: 10.6s\n",
      "942:\tlearn: 0.0101348\ttotal: 2m 52s\tremaining: 10.4s\n",
      "943:\tlearn: 0.0101312\ttotal: 2m 52s\tremaining: 10.2s\n",
      "944:\tlearn: 0.0101201\ttotal: 2m 52s\tremaining: 10.1s\n",
      "945:\tlearn: 0.0101166\ttotal: 2m 52s\tremaining: 9.87s\n",
      "946:\tlearn: 0.0101109\ttotal: 2m 52s\tremaining: 9.68s\n",
      "947:\tlearn: 0.0101064\ttotal: 2m 53s\tremaining: 9.5s\n",
      "948:\tlearn: 0.0100984\ttotal: 2m 53s\tremaining: 9.31s\n",
      "949:\tlearn: 0.0100925\ttotal: 2m 53s\tremaining: 9.13s\n",
      "950:\tlearn: 0.0100851\ttotal: 2m 53s\tremaining: 8.95s\n",
      "951:\tlearn: 0.0100822\ttotal: 2m 53s\tremaining: 8.76s\n",
      "952:\tlearn: 0.0100776\ttotal: 2m 53s\tremaining: 8.57s\n",
      "953:\tlearn: 0.0100670\ttotal: 2m 53s\tremaining: 8.39s\n",
      "954:\tlearn: 0.0100610\ttotal: 2m 54s\tremaining: 8.2s\n",
      "955:\tlearn: 0.0100535\ttotal: 2m 54s\tremaining: 8.02s\n",
      "956:\tlearn: 0.0100398\ttotal: 2m 54s\tremaining: 7.83s\n",
      "957:\tlearn: 0.0100333\ttotal: 2m 54s\tremaining: 7.65s\n",
      "958:\tlearn: 0.0100183\ttotal: 2m 54s\tremaining: 7.46s\n",
      "959:\tlearn: 0.0100124\ttotal: 2m 54s\tremaining: 7.28s\n",
      "960:\tlearn: 0.0100023\ttotal: 2m 54s\tremaining: 7.09s\n",
      "961:\tlearn: 0.0099899\ttotal: 2m 54s\tremaining: 6.91s\n",
      "962:\tlearn: 0.0099853\ttotal: 2m 55s\tremaining: 6.73s\n",
      "963:\tlearn: 0.0099818\ttotal: 2m 55s\tremaining: 6.54s\n",
      "964:\tlearn: 0.0099761\ttotal: 2m 55s\tremaining: 6.36s\n",
      "965:\tlearn: 0.0099626\ttotal: 2m 55s\tremaining: 6.17s\n",
      "966:\tlearn: 0.0099520\ttotal: 2m 55s\tremaining: 5.99s\n",
      "967:\tlearn: 0.0099406\ttotal: 2m 55s\tremaining: 5.81s\n",
      "968:\tlearn: 0.0099344\ttotal: 2m 55s\tremaining: 5.62s\n",
      "969:\tlearn: 0.0099323\ttotal: 2m 55s\tremaining: 5.44s\n",
      "970:\tlearn: 0.0099294\ttotal: 2m 56s\tremaining: 5.26s\n",
      "971:\tlearn: 0.0099234\ttotal: 2m 56s\tremaining: 5.07s\n",
      "972:\tlearn: 0.0099150\ttotal: 2m 56s\tremaining: 4.89s\n",
      "973:\tlearn: 0.0099085\ttotal: 2m 56s\tremaining: 4.71s\n",
      "974:\tlearn: 0.0099003\ttotal: 2m 56s\tremaining: 4.53s\n",
      "975:\tlearn: 0.0098967\ttotal: 2m 56s\tremaining: 4.35s\n",
      "976:\tlearn: 0.0098920\ttotal: 2m 56s\tremaining: 4.17s\n",
      "977:\tlearn: 0.0098896\ttotal: 2m 57s\tremaining: 3.98s\n",
      "978:\tlearn: 0.0098872\ttotal: 2m 57s\tremaining: 3.8s\n",
      "979:\tlearn: 0.0098835\ttotal: 2m 57s\tremaining: 3.62s\n",
      "980:\tlearn: 0.0098755\ttotal: 2m 57s\tremaining: 3.44s\n",
      "981:\tlearn: 0.0098722\ttotal: 2m 57s\tremaining: 3.26s\n",
      "982:\tlearn: 0.0098541\ttotal: 2m 57s\tremaining: 3.08s\n",
      "983:\tlearn: 0.0098405\ttotal: 2m 58s\tremaining: 2.9s\n",
      "984:\tlearn: 0.0098312\ttotal: 2m 58s\tremaining: 2.71s\n",
      "985:\tlearn: 0.0098268\ttotal: 2m 58s\tremaining: 2.53s\n",
      "986:\tlearn: 0.0098220\ttotal: 2m 58s\tremaining: 2.35s\n",
      "987:\tlearn: 0.0098191\ttotal: 2m 59s\tremaining: 2.17s\n",
      "988:\tlearn: 0.0098148\ttotal: 2m 59s\tremaining: 1.99s\n",
      "989:\tlearn: 0.0098109\ttotal: 2m 59s\tremaining: 1.81s\n",
      "990:\tlearn: 0.0098066\ttotal: 2m 59s\tremaining: 1.63s\n",
      "991:\tlearn: 0.0097963\ttotal: 2m 59s\tremaining: 1.45s\n",
      "992:\tlearn: 0.0097933\ttotal: 3m\tremaining: 1.27s\n",
      "993:\tlearn: 0.0097850\ttotal: 3m\tremaining: 1.09s\n",
      "994:\tlearn: 0.0097830\ttotal: 3m\tremaining: 908ms\n",
      "995:\tlearn: 0.0097776\ttotal: 3m\tremaining: 726ms\n",
      "996:\tlearn: 0.0097720\ttotal: 3m 1s\tremaining: 545ms\n",
      "997:\tlearn: 0.0097693\ttotal: 3m 1s\tremaining: 364ms\n",
      "998:\tlearn: 0.0097657\ttotal: 3m 1s\tremaining: 182ms\n",
      "999:\tlearn: 0.0097574\ttotal: 3m 1s\tremaining: 0us\n"
     ]
    }
   ],
   "source": [
    "for i in models:\n",
    "        i.fit(x_train,y_train)\n",
    "        scores_train.append(i.score(x_train, y_train))\n",
    "        scores_test.append(i.score(x_test, y_test))"
   ]
  },
  {
   "cell_type": "code",
   "execution_count": 107,
   "metadata": {},
   "outputs": [
    {
     "name": "stdout",
     "output_type": "stream",
     "text": [
      "               Training Accuracy  Test Accuracy\n",
      "Random Forest           0.999636       0.993247\n",
      "XGBoost                 0.995993       0.995164\n",
      "CatBoost                0.997128       0.995419\n"
     ]
    }
   ],
   "source": [
    "print(pd.DataFrame({'Training Accuracy':scores_train,'Test Accuracy': scores_test},          \n",
    "                   index=['Random Forest','XGBoost','CatBoost'])) "
   ]
  },
  {
   "cell_type": "code",
   "execution_count": null,
   "metadata": {},
   "outputs": [],
   "source": []
  },
  {
   "cell_type": "markdown",
   "metadata": {},
   "source": [
    "**Hyper Parameter Tuning**"
   ]
  },
  {
   "cell_type": "code",
   "execution_count": 54,
   "metadata": {},
   "outputs": [],
   "source": [
    "cb = CatBoostClassifier()"
   ]
  },
  {
   "cell_type": "code",
   "execution_count": 55,
   "metadata": {},
   "outputs": [],
   "source": [
    "parameters = {'depth' : [ 4, 5, 6, 7, 8, 9, 10],\n",
    "    'learning_rate': [0.04 , 0.05 , 0.06 , 0.07,0.08],\n",
    "    'iterations': [100,200,300,400,500,600,700,800,900,1000,1100,1200] \n",
    "}"
   ]
  },
  {
   "cell_type": "code",
   "execution_count": 56,
   "metadata": {},
   "outputs": [],
   "source": [
    "Grid_CBC = GridSearchCV(estimator = cb, param_grid = parameters, cv = 2,n_jobs=-1)"
   ]
  },
  {
   "cell_type": "code",
   "execution_count": null,
   "metadata": {},
   "outputs": [],
   "source": [
    "Grid_CBC.fit(x_train,y_train)"
   ]
  },
  {
   "cell_type": "code",
   "execution_count": null,
   "metadata": {},
   "outputs": [],
   "source": [
    "print(\"\\n The best estimator across all searched params:\",Grid_CBC.best_estimator_)"
   ]
  },
  {
   "cell_type": "code",
   "execution_count": null,
   "metadata": {},
   "outputs": [],
   "source": [
    "print(\"\\n The best score across all searched params:\",Grid_CBC.best_score_)"
   ]
  },
  {
   "cell_type": "code",
   "execution_count": null,
   "metadata": {},
   "outputs": [],
   "source": [
    "print(\"\\n The best parameter across all searched params:\",Grid_CBC.best_params_)"
   ]
  },
  {
   "cell_type": "code",
   "execution_count": null,
   "metadata": {},
   "outputs": [],
   "source": [
    "cb.score(x_train, y_train)"
   ]
  },
  {
   "cell_type": "code",
   "execution_count": null,
   "metadata": {},
   "outputs": [],
   "source": [
    "cb.score(x_test, y_test)"
   ]
  },
  {
   "cell_type": "code",
   "execution_count": null,
   "metadata": {},
   "outputs": [],
   "source": []
  },
  {
   "cell_type": "code",
   "execution_count": 49,
   "metadata": {},
   "outputs": [],
   "source": [
    "#Shinkansen\n",
    "cb = CatBoostClassifier(iterations=1200, depth = 10,learning_rate=0.06)\n",
    "#Train:94379/Test:35602"
   ]
  },
  {
   "cell_type": "code",
   "execution_count": 51,
   "metadata": {},
   "outputs": [
    {
     "name": "stdout",
     "output_type": "stream",
     "text": [
      "0:\tlearn: 0.5582000\ttotal: 600ms\tremaining: 11m 59s\n",
      "1:\tlearn: 0.4478694\ttotal: 734ms\tremaining: 7m 19s\n",
      "2:\tlearn: 0.3629266\ttotal: 833ms\tremaining: 5m 32s\n",
      "3:\tlearn: 0.2974104\ttotal: 922ms\tremaining: 4m 35s\n",
      "4:\tlearn: 0.2452435\ttotal: 1.11s\tremaining: 4m 25s\n",
      "5:\tlearn: 0.2051404\ttotal: 1.22s\tremaining: 4m 2s\n",
      "6:\tlearn: 0.1722599\ttotal: 1.33s\tremaining: 3m 46s\n",
      "7:\tlearn: 0.1466927\ttotal: 1.57s\tremaining: 3m 53s\n",
      "8:\tlearn: 0.1263717\ttotal: 1.75s\tremaining: 3m 52s\n",
      "9:\tlearn: 0.1107794\ttotal: 1.98s\tremaining: 3m 55s\n",
      "10:\tlearn: 0.0980550\ttotal: 2.12s\tremaining: 3m 48s\n",
      "11:\tlearn: 0.0863539\ttotal: 2.34s\tremaining: 3m 52s\n",
      "12:\tlearn: 0.0789372\ttotal: 2.42s\tremaining: 3m 40s\n",
      "13:\tlearn: 0.0709044\ttotal: 2.67s\tremaining: 3m 46s\n",
      "14:\tlearn: 0.0642029\ttotal: 2.96s\tremaining: 3m 53s\n",
      "15:\tlearn: 0.0603276\ttotal: 3.06s\tremaining: 3m 46s\n",
      "16:\tlearn: 0.0559775\ttotal: 3.17s\tremaining: 3m 40s\n",
      "17:\tlearn: 0.0523183\ttotal: 3.42s\tremaining: 3m 44s\n",
      "18:\tlearn: 0.0504179\ttotal: 3.51s\tremaining: 3m 38s\n",
      "19:\tlearn: 0.0479098\ttotal: 3.74s\tremaining: 3m 40s\n",
      "20:\tlearn: 0.0464263\ttotal: 3.96s\tremaining: 3m 42s\n",
      "21:\tlearn: 0.0453094\ttotal: 4.08s\tremaining: 3m 38s\n",
      "22:\tlearn: 0.0435388\ttotal: 4.36s\tremaining: 3m 43s\n",
      "23:\tlearn: 0.0426115\ttotal: 4.57s\tremaining: 3m 44s\n",
      "24:\tlearn: 0.0410465\ttotal: 4.88s\tremaining: 3m 49s\n",
      "25:\tlearn: 0.0398906\ttotal: 5.15s\tremaining: 3m 52s\n",
      "26:\tlearn: 0.0386854\ttotal: 5.38s\tremaining: 3m 53s\n",
      "27:\tlearn: 0.0377255\ttotal: 5.63s\tremaining: 3m 55s\n",
      "28:\tlearn: 0.0369224\ttotal: 5.85s\tremaining: 3m 56s\n",
      "29:\tlearn: 0.0362301\ttotal: 6.08s\tremaining: 3m 57s\n",
      "30:\tlearn: 0.0356390\ttotal: 6.29s\tremaining: 3m 57s\n",
      "31:\tlearn: 0.0350720\ttotal: 6.53s\tremaining: 3m 58s\n",
      "32:\tlearn: 0.0345443\ttotal: 6.78s\tremaining: 3m 59s\n",
      "33:\tlearn: 0.0340092\ttotal: 7.07s\tremaining: 4m 2s\n",
      "34:\tlearn: 0.0335654\ttotal: 7.35s\tremaining: 4m 4s\n",
      "35:\tlearn: 0.0332325\ttotal: 7.62s\tremaining: 4m 6s\n",
      "36:\tlearn: 0.0327932\ttotal: 7.9s\tremaining: 4m 8s\n",
      "37:\tlearn: 0.0325184\ttotal: 8.17s\tremaining: 4m 9s\n",
      "38:\tlearn: 0.0321369\ttotal: 8.44s\tremaining: 4m 11s\n",
      "39:\tlearn: 0.0318037\ttotal: 8.74s\tremaining: 4m 13s\n",
      "40:\tlearn: 0.0313998\ttotal: 9s\tremaining: 4m 14s\n",
      "41:\tlearn: 0.0310366\ttotal: 9.27s\tremaining: 4m 15s\n",
      "42:\tlearn: 0.0307800\ttotal: 9.72s\tremaining: 4m 21s\n",
      "43:\tlearn: 0.0305195\ttotal: 9.99s\tremaining: 4m 22s\n",
      "44:\tlearn: 0.0302015\ttotal: 10.5s\tremaining: 4m 28s\n",
      "45:\tlearn: 0.0299424\ttotal: 10.7s\tremaining: 4m 28s\n",
      "46:\tlearn: 0.0297180\ttotal: 11s\tremaining: 4m 29s\n",
      "47:\tlearn: 0.0295040\ttotal: 11.3s\tremaining: 4m 30s\n",
      "48:\tlearn: 0.0292464\ttotal: 11.6s\tremaining: 4m 31s\n",
      "49:\tlearn: 0.0290713\ttotal: 11.8s\tremaining: 4m 31s\n",
      "50:\tlearn: 0.0288983\ttotal: 12.1s\tremaining: 4m 32s\n",
      "51:\tlearn: 0.0286925\ttotal: 12.4s\tremaining: 4m 33s\n",
      "52:\tlearn: 0.0284957\ttotal: 12.7s\tremaining: 4m 34s\n",
      "53:\tlearn: 0.0282962\ttotal: 12.9s\tremaining: 4m 34s\n",
      "54:\tlearn: 0.0281143\ttotal: 13.2s\tremaining: 4m 34s\n",
      "55:\tlearn: 0.0279552\ttotal: 13.5s\tremaining: 4m 35s\n",
      "56:\tlearn: 0.0277522\ttotal: 13.8s\tremaining: 4m 36s\n",
      "57:\tlearn: 0.0275588\ttotal: 14s\tremaining: 4m 36s\n",
      "58:\tlearn: 0.0273665\ttotal: 14.3s\tremaining: 4m 36s\n",
      "59:\tlearn: 0.0271936\ttotal: 14.6s\tremaining: 4m 36s\n",
      "60:\tlearn: 0.0269965\ttotal: 14.9s\tremaining: 4m 37s\n",
      "61:\tlearn: 0.0268779\ttotal: 15.1s\tremaining: 4m 37s\n",
      "62:\tlearn: 0.0267621\ttotal: 15.4s\tremaining: 4m 38s\n",
      "63:\tlearn: 0.0266496\ttotal: 15.7s\tremaining: 4m 38s\n",
      "64:\tlearn: 0.0264871\ttotal: 15.9s\tremaining: 4m 38s\n",
      "65:\tlearn: 0.0263739\ttotal: 16.4s\tremaining: 4m 42s\n",
      "66:\tlearn: 0.0261840\ttotal: 16.7s\tremaining: 4m 42s\n",
      "67:\tlearn: 0.0260491\ttotal: 17s\tremaining: 4m 42s\n",
      "68:\tlearn: 0.0258701\ttotal: 17.3s\tremaining: 4m 43s\n",
      "69:\tlearn: 0.0256921\ttotal: 17.5s\tremaining: 4m 43s\n",
      "70:\tlearn: 0.0255546\ttotal: 17.8s\tremaining: 4m 43s\n",
      "71:\tlearn: 0.0254392\ttotal: 18.1s\tremaining: 4m 43s\n",
      "72:\tlearn: 0.0252946\ttotal: 18.3s\tremaining: 4m 43s\n",
      "73:\tlearn: 0.0250792\ttotal: 18.6s\tremaining: 4m 42s\n",
      "74:\tlearn: 0.0249524\ttotal: 18.8s\tremaining: 4m 42s\n",
      "75:\tlearn: 0.0249119\ttotal: 18.9s\tremaining: 4m 40s\n",
      "76:\tlearn: 0.0247778\ttotal: 19.2s\tremaining: 4m 39s\n",
      "77:\tlearn: 0.0245936\ttotal: 19.4s\tremaining: 4m 38s\n",
      "78:\tlearn: 0.0243955\ttotal: 19.6s\tremaining: 4m 38s\n",
      "79:\tlearn: 0.0242375\ttotal: 19.9s\tremaining: 4m 38s\n",
      "80:\tlearn: 0.0240670\ttotal: 20.1s\tremaining: 4m 38s\n",
      "81:\tlearn: 0.0239272\ttotal: 20.4s\tremaining: 4m 37s\n",
      "82:\tlearn: 0.0237726\ttotal: 20.8s\tremaining: 4m 39s\n",
      "83:\tlearn: 0.0236572\ttotal: 21.1s\tremaining: 4m 39s\n",
      "84:\tlearn: 0.0234781\ttotal: 21.3s\tremaining: 4m 39s\n",
      "85:\tlearn: 0.0233802\ttotal: 21.5s\tremaining: 4m 38s\n",
      "86:\tlearn: 0.0232333\ttotal: 21.8s\tremaining: 4m 38s\n",
      "87:\tlearn: 0.0231253\ttotal: 22s\tremaining: 4m 38s\n",
      "88:\tlearn: 0.0230377\ttotal: 22.2s\tremaining: 4m 37s\n",
      "89:\tlearn: 0.0229296\ttotal: 22.4s\tremaining: 4m 36s\n",
      "90:\tlearn: 0.0228099\ttotal: 22.7s\tremaining: 4m 36s\n",
      "91:\tlearn: 0.0226936\ttotal: 22.9s\tremaining: 4m 36s\n",
      "92:\tlearn: 0.0225892\ttotal: 23.2s\tremaining: 4m 35s\n",
      "93:\tlearn: 0.0224698\ttotal: 23.4s\tremaining: 4m 35s\n",
      "94:\tlearn: 0.0223614\ttotal: 23.7s\tremaining: 4m 35s\n",
      "95:\tlearn: 0.0222159\ttotal: 24s\tremaining: 4m 35s\n",
      "96:\tlearn: 0.0220908\ttotal: 24.3s\tremaining: 4m 36s\n",
      "97:\tlearn: 0.0220100\ttotal: 24.7s\tremaining: 4m 37s\n",
      "98:\tlearn: 0.0218933\ttotal: 25s\tremaining: 4m 38s\n",
      "99:\tlearn: 0.0218498\ttotal: 25.2s\tremaining: 4m 36s\n",
      "100:\tlearn: 0.0217178\ttotal: 25.4s\tremaining: 4m 36s\n",
      "101:\tlearn: 0.0215981\ttotal: 25.7s\tremaining: 4m 36s\n",
      "102:\tlearn: 0.0214634\ttotal: 26s\tremaining: 4m 36s\n",
      "103:\tlearn: 0.0213583\ttotal: 26.3s\tremaining: 4m 36s\n",
      "104:\tlearn: 0.0212457\ttotal: 26.6s\tremaining: 4m 36s\n",
      "105:\tlearn: 0.0211651\ttotal: 26.8s\tremaining: 4m 36s\n",
      "106:\tlearn: 0.0210695\ttotal: 27.1s\tremaining: 4m 36s\n",
      "107:\tlearn: 0.0209774\ttotal: 27.4s\tremaining: 4m 37s\n",
      "108:\tlearn: 0.0208596\ttotal: 27.7s\tremaining: 4m 37s\n",
      "109:\tlearn: 0.0207690\ttotal: 28.1s\tremaining: 4m 38s\n",
      "110:\tlearn: 0.0206953\ttotal: 28.5s\tremaining: 4m 39s\n",
      "111:\tlearn: 0.0206227\ttotal: 28.8s\tremaining: 4m 39s\n",
      "112:\tlearn: 0.0205014\ttotal: 29.5s\tremaining: 4m 43s\n",
      "113:\tlearn: 0.0204145\ttotal: 30.1s\tremaining: 4m 46s\n",
      "114:\tlearn: 0.0203366\ttotal: 30.6s\tremaining: 4m 48s\n",
      "115:\tlearn: 0.0202360\ttotal: 31s\tremaining: 4m 49s\n",
      "116:\tlearn: 0.0201664\ttotal: 31.3s\tremaining: 4m 49s\n",
      "117:\tlearn: 0.0200379\ttotal: 31.6s\tremaining: 4m 50s\n",
      "118:\tlearn: 0.0199594\ttotal: 32.1s\tremaining: 4m 51s\n",
      "119:\tlearn: 0.0198527\ttotal: 32.6s\tremaining: 4m 53s\n",
      "120:\tlearn: 0.0197673\ttotal: 33s\tremaining: 4m 54s\n",
      "121:\tlearn: 0.0196201\ttotal: 33.4s\tremaining: 4m 55s\n",
      "122:\tlearn: 0.0195341\ttotal: 33.8s\tremaining: 4m 55s\n",
      "123:\tlearn: 0.0194177\ttotal: 34.3s\tremaining: 4m 57s\n",
      "124:\tlearn: 0.0193491\ttotal: 34.5s\tremaining: 4m 56s\n",
      "125:\tlearn: 0.0192756\ttotal: 34.9s\tremaining: 4m 57s\n",
      "126:\tlearn: 0.0192029\ttotal: 35.2s\tremaining: 4m 57s\n",
      "127:\tlearn: 0.0191186\ttotal: 35.6s\tremaining: 4m 58s\n",
      "128:\tlearn: 0.0190983\ttotal: 35.7s\tremaining: 4m 56s\n",
      "129:\tlearn: 0.0189959\ttotal: 36.1s\tremaining: 4m 57s\n",
      "130:\tlearn: 0.0189336\ttotal: 36.4s\tremaining: 4m 57s\n",
      "131:\tlearn: 0.0188486\ttotal: 36.8s\tremaining: 4m 57s\n",
      "132:\tlearn: 0.0187633\ttotal: 37.2s\tremaining: 4m 58s\n",
      "133:\tlearn: 0.0186490\ttotal: 37.6s\tremaining: 4m 58s\n",
      "134:\tlearn: 0.0185316\ttotal: 37.9s\tremaining: 4m 59s\n",
      "135:\tlearn: 0.0184620\ttotal: 38.2s\tremaining: 4m 59s\n",
      "136:\tlearn: 0.0183886\ttotal: 38.5s\tremaining: 4m 58s\n",
      "137:\tlearn: 0.0182975\ttotal: 38.8s\tremaining: 4m 58s\n",
      "138:\tlearn: 0.0181938\ttotal: 39.1s\tremaining: 4m 58s\n",
      "139:\tlearn: 0.0181868\ttotal: 39.2s\tremaining: 4m 57s\n",
      "140:\tlearn: 0.0180966\ttotal: 39.6s\tremaining: 4m 57s\n",
      "141:\tlearn: 0.0180292\ttotal: 39.9s\tremaining: 4m 57s\n",
      "142:\tlearn: 0.0179741\ttotal: 40.3s\tremaining: 4m 57s\n",
      "143:\tlearn: 0.0179655\ttotal: 40.4s\tremaining: 4m 56s\n",
      "144:\tlearn: 0.0178552\ttotal: 40.7s\tremaining: 4m 56s\n",
      "145:\tlearn: 0.0177967\ttotal: 41.1s\tremaining: 4m 56s\n",
      "146:\tlearn: 0.0177245\ttotal: 41.5s\tremaining: 4m 57s\n",
      "147:\tlearn: 0.0176376\ttotal: 41.9s\tremaining: 4m 57s\n",
      "148:\tlearn: 0.0175729\ttotal: 42.2s\tremaining: 4m 57s\n",
      "149:\tlearn: 0.0175479\ttotal: 42.4s\tremaining: 4m 56s\n",
      "150:\tlearn: 0.0174820\ttotal: 42.7s\tremaining: 4m 56s\n",
      "151:\tlearn: 0.0173895\ttotal: 43.1s\tremaining: 4m 57s\n",
      "152:\tlearn: 0.0172973\ttotal: 43.5s\tremaining: 4m 57s\n",
      "153:\tlearn: 0.0172516\ttotal: 43.8s\tremaining: 4m 57s\n",
      "154:\tlearn: 0.0171924\ttotal: 44.1s\tremaining: 4m 57s\n",
      "155:\tlearn: 0.0171809\ttotal: 44.2s\tremaining: 4m 55s\n",
      "156:\tlearn: 0.0171045\ttotal: 44.4s\tremaining: 4m 55s\n",
      "157:\tlearn: 0.0170171\ttotal: 44.7s\tremaining: 4m 54s\n"
     ]
    },
    {
     "name": "stdout",
     "output_type": "stream",
     "text": [
      "158:\tlearn: 0.0169547\ttotal: 45s\tremaining: 4m 54s\n",
      "159:\tlearn: 0.0168707\ttotal: 45.3s\tremaining: 4m 54s\n",
      "160:\tlearn: 0.0167994\ttotal: 45.6s\tremaining: 4m 54s\n",
      "161:\tlearn: 0.0167529\ttotal: 45.8s\tremaining: 4m 53s\n",
      "162:\tlearn: 0.0167042\ttotal: 46.1s\tremaining: 4m 53s\n",
      "163:\tlearn: 0.0166288\ttotal: 46.4s\tremaining: 4m 53s\n",
      "164:\tlearn: 0.0165494\ttotal: 46.7s\tremaining: 4m 52s\n",
      "165:\tlearn: 0.0164875\ttotal: 46.9s\tremaining: 4m 52s\n",
      "166:\tlearn: 0.0164370\ttotal: 47.2s\tremaining: 4m 51s\n",
      "167:\tlearn: 0.0163909\ttotal: 47.4s\tremaining: 4m 51s\n",
      "168:\tlearn: 0.0163147\ttotal: 47.7s\tremaining: 4m 50s\n",
      "169:\tlearn: 0.0162724\ttotal: 48s\tremaining: 4m 50s\n",
      "170:\tlearn: 0.0162096\ttotal: 48.2s\tremaining: 4m 50s\n",
      "171:\tlearn: 0.0161537\ttotal: 48.5s\tremaining: 4m 49s\n",
      "172:\tlearn: 0.0160840\ttotal: 48.8s\tremaining: 4m 49s\n",
      "173:\tlearn: 0.0160657\ttotal: 48.9s\tremaining: 4m 48s\n",
      "174:\tlearn: 0.0160012\ttotal: 49.2s\tremaining: 4m 47s\n",
      "175:\tlearn: 0.0159373\ttotal: 49.4s\tremaining: 4m 47s\n",
      "176:\tlearn: 0.0158748\ttotal: 49.7s\tremaining: 4m 47s\n",
      "177:\tlearn: 0.0158344\ttotal: 49.9s\tremaining: 4m 46s\n",
      "178:\tlearn: 0.0157647\ttotal: 50.2s\tremaining: 4m 46s\n",
      "179:\tlearn: 0.0157151\ttotal: 50.5s\tremaining: 4m 46s\n",
      "180:\tlearn: 0.0156664\ttotal: 50.8s\tremaining: 4m 45s\n",
      "181:\tlearn: 0.0156185\ttotal: 51s\tremaining: 4m 45s\n",
      "182:\tlearn: 0.0155373\ttotal: 51.3s\tremaining: 4m 44s\n",
      "183:\tlearn: 0.0155023\ttotal: 51.5s\tremaining: 4m 44s\n",
      "184:\tlearn: 0.0154488\ttotal: 51.7s\tremaining: 4m 43s\n",
      "185:\tlearn: 0.0153855\ttotal: 52s\tremaining: 4m 43s\n",
      "186:\tlearn: 0.0153574\ttotal: 52.2s\tremaining: 4m 42s\n",
      "187:\tlearn: 0.0153147\ttotal: 52.4s\tremaining: 4m 42s\n",
      "188:\tlearn: 0.0152485\ttotal: 52.6s\tremaining: 4m 41s\n",
      "189:\tlearn: 0.0151973\ttotal: 52.9s\tremaining: 4m 41s\n",
      "190:\tlearn: 0.0151462\ttotal: 53.1s\tremaining: 4m 40s\n",
      "191:\tlearn: 0.0150780\ttotal: 53.3s\tremaining: 4m 39s\n",
      "192:\tlearn: 0.0150191\ttotal: 53.6s\tremaining: 4m 39s\n",
      "193:\tlearn: 0.0149782\ttotal: 53.8s\tremaining: 4m 38s\n",
      "194:\tlearn: 0.0149465\ttotal: 54s\tremaining: 4m 38s\n",
      "195:\tlearn: 0.0149299\ttotal: 54.1s\tremaining: 4m 37s\n",
      "196:\tlearn: 0.0148776\ttotal: 54.4s\tremaining: 4m 36s\n",
      "197:\tlearn: 0.0147838\ttotal: 54.6s\tremaining: 4m 36s\n",
      "198:\tlearn: 0.0147154\ttotal: 54.8s\tremaining: 4m 35s\n",
      "199:\tlearn: 0.0146728\ttotal: 55.1s\tremaining: 4m 35s\n",
      "200:\tlearn: 0.0146301\ttotal: 55.3s\tremaining: 4m 34s\n",
      "201:\tlearn: 0.0145628\ttotal: 55.6s\tremaining: 4m 34s\n",
      "202:\tlearn: 0.0145138\ttotal: 55.9s\tremaining: 4m 34s\n",
      "203:\tlearn: 0.0144680\ttotal: 56.2s\tremaining: 4m 34s\n",
      "204:\tlearn: 0.0144242\ttotal: 56.4s\tremaining: 4m 33s\n",
      "205:\tlearn: 0.0143469\ttotal: 56.7s\tremaining: 4m 33s\n",
      "206:\tlearn: 0.0143016\ttotal: 57s\tremaining: 4m 33s\n",
      "207:\tlearn: 0.0142624\ttotal: 57.2s\tremaining: 4m 32s\n",
      "208:\tlearn: 0.0141893\ttotal: 57.5s\tremaining: 4m 32s\n",
      "209:\tlearn: 0.0141458\ttotal: 57.8s\tremaining: 4m 32s\n",
      "210:\tlearn: 0.0140771\ttotal: 58s\tremaining: 4m 31s\n",
      "211:\tlearn: 0.0140522\ttotal: 58.3s\tremaining: 4m 31s\n",
      "212:\tlearn: 0.0139898\ttotal: 58.6s\tremaining: 4m 31s\n",
      "213:\tlearn: 0.0139535\ttotal: 58.8s\tremaining: 4m 30s\n",
      "214:\tlearn: 0.0139117\ttotal: 59s\tremaining: 4m 30s\n",
      "215:\tlearn: 0.0138799\ttotal: 59.3s\tremaining: 4m 30s\n",
      "216:\tlearn: 0.0138247\ttotal: 59.6s\tremaining: 4m 29s\n",
      "217:\tlearn: 0.0137873\ttotal: 59.9s\tremaining: 4m 29s\n",
      "218:\tlearn: 0.0137625\ttotal: 1m\tremaining: 4m 29s\n",
      "219:\tlearn: 0.0137271\ttotal: 1m\tremaining: 4m 28s\n",
      "220:\tlearn: 0.0136686\ttotal: 1m\tremaining: 4m 28s\n",
      "221:\tlearn: 0.0136085\ttotal: 1m\tremaining: 4m 28s\n",
      "222:\tlearn: 0.0135858\ttotal: 1m 1s\tremaining: 4m 27s\n",
      "223:\tlearn: 0.0135386\ttotal: 1m 1s\tremaining: 4m 27s\n",
      "224:\tlearn: 0.0134701\ttotal: 1m 1s\tremaining: 4m 27s\n",
      "225:\tlearn: 0.0134429\ttotal: 1m 1s\tremaining: 4m 27s\n",
      "226:\tlearn: 0.0133970\ttotal: 1m 2s\tremaining: 4m 26s\n",
      "227:\tlearn: 0.0133742\ttotal: 1m 2s\tremaining: 4m 26s\n",
      "228:\tlearn: 0.0133430\ttotal: 1m 2s\tremaining: 4m 25s\n",
      "229:\tlearn: 0.0132886\ttotal: 1m 3s\tremaining: 4m 25s\n",
      "230:\tlearn: 0.0132422\ttotal: 1m 3s\tremaining: 4m 25s\n",
      "231:\tlearn: 0.0132095\ttotal: 1m 3s\tremaining: 4m 25s\n",
      "232:\tlearn: 0.0131886\ttotal: 1m 3s\tremaining: 4m 25s\n",
      "233:\tlearn: 0.0131326\ttotal: 1m 4s\tremaining: 4m 24s\n",
      "234:\tlearn: 0.0130945\ttotal: 1m 4s\tremaining: 4m 24s\n",
      "235:\tlearn: 0.0130716\ttotal: 1m 4s\tremaining: 4m 24s\n",
      "236:\tlearn: 0.0130296\ttotal: 1m 4s\tremaining: 4m 23s\n",
      "237:\tlearn: 0.0129932\ttotal: 1m 5s\tremaining: 4m 23s\n",
      "238:\tlearn: 0.0129594\ttotal: 1m 5s\tremaining: 4m 23s\n",
      "239:\tlearn: 0.0129264\ttotal: 1m 5s\tremaining: 4m 22s\n",
      "240:\tlearn: 0.0128999\ttotal: 1m 5s\tremaining: 4m 22s\n",
      "241:\tlearn: 0.0128662\ttotal: 1m 6s\tremaining: 4m 22s\n",
      "242:\tlearn: 0.0128478\ttotal: 1m 6s\tremaining: 4m 21s\n",
      "243:\tlearn: 0.0128188\ttotal: 1m 6s\tremaining: 4m 21s\n",
      "244:\tlearn: 0.0127888\ttotal: 1m 6s\tremaining: 4m 20s\n",
      "245:\tlearn: 0.0127715\ttotal: 1m 7s\tremaining: 4m 20s\n",
      "246:\tlearn: 0.0127497\ttotal: 1m 7s\tremaining: 4m 19s\n",
      "247:\tlearn: 0.0127092\ttotal: 1m 7s\tremaining: 4m 19s\n",
      "248:\tlearn: 0.0126915\ttotal: 1m 7s\tremaining: 4m 19s\n",
      "249:\tlearn: 0.0126565\ttotal: 1m 8s\tremaining: 4m 18s\n",
      "250:\tlearn: 0.0126228\ttotal: 1m 8s\tremaining: 4m 18s\n",
      "251:\tlearn: 0.0125890\ttotal: 1m 8s\tremaining: 4m 17s\n",
      "252:\tlearn: 0.0125411\ttotal: 1m 8s\tremaining: 4m 17s\n",
      "253:\tlearn: 0.0124986\ttotal: 1m 9s\tremaining: 4m 17s\n",
      "254:\tlearn: 0.0124703\ttotal: 1m 9s\tremaining: 4m 16s\n",
      "255:\tlearn: 0.0124312\ttotal: 1m 9s\tremaining: 4m 16s\n",
      "256:\tlearn: 0.0123987\ttotal: 1m 9s\tremaining: 4m 15s\n",
      "257:\tlearn: 0.0123725\ttotal: 1m 9s\tremaining: 4m 15s\n",
      "258:\tlearn: 0.0123298\ttotal: 1m 10s\tremaining: 4m 14s\n",
      "259:\tlearn: 0.0123112\ttotal: 1m 10s\tremaining: 4m 14s\n",
      "260:\tlearn: 0.0122827\ttotal: 1m 10s\tremaining: 4m 14s\n",
      "261:\tlearn: 0.0122575\ttotal: 1m 10s\tremaining: 4m 13s\n",
      "262:\tlearn: 0.0122334\ttotal: 1m 11s\tremaining: 4m 13s\n",
      "263:\tlearn: 0.0122083\ttotal: 1m 11s\tremaining: 4m 13s\n",
      "264:\tlearn: 0.0121947\ttotal: 1m 11s\tremaining: 4m 13s\n",
      "265:\tlearn: 0.0121636\ttotal: 1m 12s\tremaining: 4m 12s\n",
      "266:\tlearn: 0.0121186\ttotal: 1m 12s\tremaining: 4m 12s\n",
      "267:\tlearn: 0.0120917\ttotal: 1m 12s\tremaining: 4m 12s\n",
      "268:\tlearn: 0.0120668\ttotal: 1m 12s\tremaining: 4m 12s\n",
      "269:\tlearn: 0.0120535\ttotal: 1m 13s\tremaining: 4m 11s\n",
      "270:\tlearn: 0.0120369\ttotal: 1m 13s\tremaining: 4m 11s\n",
      "271:\tlearn: 0.0119827\ttotal: 1m 13s\tremaining: 4m 11s\n",
      "272:\tlearn: 0.0119572\ttotal: 1m 13s\tremaining: 4m 11s\n",
      "273:\tlearn: 0.0119226\ttotal: 1m 14s\tremaining: 4m 11s\n",
      "274:\tlearn: 0.0119055\ttotal: 1m 14s\tremaining: 4m 10s\n",
      "275:\tlearn: 0.0118768\ttotal: 1m 14s\tremaining: 4m 10s\n",
      "276:\tlearn: 0.0118240\ttotal: 1m 15s\tremaining: 4m 10s\n",
      "277:\tlearn: 0.0117944\ttotal: 1m 15s\tremaining: 4m 10s\n",
      "278:\tlearn: 0.0117597\ttotal: 1m 15s\tremaining: 4m 10s\n",
      "279:\tlearn: 0.0117437\ttotal: 1m 16s\tremaining: 4m 9s\n",
      "280:\tlearn: 0.0117162\ttotal: 1m 16s\tremaining: 4m 9s\n",
      "281:\tlearn: 0.0116953\ttotal: 1m 16s\tremaining: 4m 9s\n",
      "282:\tlearn: 0.0116686\ttotal: 1m 16s\tremaining: 4m 9s\n",
      "283:\tlearn: 0.0116331\ttotal: 1m 17s\tremaining: 4m 8s\n",
      "284:\tlearn: 0.0116125\ttotal: 1m 17s\tremaining: 4m 8s\n",
      "285:\tlearn: 0.0115902\ttotal: 1m 17s\tremaining: 4m 8s\n",
      "286:\tlearn: 0.0115718\ttotal: 1m 18s\tremaining: 4m 8s\n",
      "287:\tlearn: 0.0115592\ttotal: 1m 18s\tremaining: 4m 7s\n",
      "288:\tlearn: 0.0115462\ttotal: 1m 18s\tremaining: 4m 7s\n",
      "289:\tlearn: 0.0115323\ttotal: 1m 18s\tremaining: 4m 7s\n",
      "290:\tlearn: 0.0114949\ttotal: 1m 19s\tremaining: 4m 6s\n",
      "291:\tlearn: 0.0114833\ttotal: 1m 19s\tremaining: 4m 6s\n",
      "292:\tlearn: 0.0114474\ttotal: 1m 19s\tremaining: 4m 6s\n",
      "293:\tlearn: 0.0114317\ttotal: 1m 19s\tremaining: 4m 6s\n",
      "294:\tlearn: 0.0114067\ttotal: 1m 20s\tremaining: 4m 5s\n",
      "295:\tlearn: 0.0113915\ttotal: 1m 20s\tremaining: 4m 5s\n",
      "296:\tlearn: 0.0113702\ttotal: 1m 20s\tremaining: 4m 5s\n",
      "297:\tlearn: 0.0113087\ttotal: 1m 21s\tremaining: 4m 5s\n",
      "298:\tlearn: 0.0112478\ttotal: 1m 21s\tremaining: 4m 5s\n",
      "299:\tlearn: 0.0112192\ttotal: 1m 21s\tremaining: 4m 4s\n",
      "300:\tlearn: 0.0112008\ttotal: 1m 21s\tremaining: 4m 4s\n",
      "301:\tlearn: 0.0111612\ttotal: 1m 22s\tremaining: 4m 3s\n",
      "302:\tlearn: 0.0111369\ttotal: 1m 22s\tremaining: 4m 3s\n",
      "303:\tlearn: 0.0110788\ttotal: 1m 22s\tremaining: 4m 3s\n",
      "304:\tlearn: 0.0110546\ttotal: 1m 22s\tremaining: 4m 2s\n",
      "305:\tlearn: 0.0110284\ttotal: 1m 22s\tremaining: 4m 2s\n",
      "306:\tlearn: 0.0109725\ttotal: 1m 23s\tremaining: 4m 2s\n",
      "307:\tlearn: 0.0109607\ttotal: 1m 23s\tremaining: 4m 1s\n",
      "308:\tlearn: 0.0109025\ttotal: 1m 23s\tremaining: 4m 1s\n",
      "309:\tlearn: 0.0108798\ttotal: 1m 23s\tremaining: 4m\n",
      "310:\tlearn: 0.0108562\ttotal: 1m 24s\tremaining: 4m\n",
      "311:\tlearn: 0.0108404\ttotal: 1m 24s\tremaining: 4m\n",
      "312:\tlearn: 0.0108263\ttotal: 1m 24s\tremaining: 3m 59s\n"
     ]
    },
    {
     "name": "stdout",
     "output_type": "stream",
     "text": [
      "313:\tlearn: 0.0107970\ttotal: 1m 24s\tremaining: 3m 59s\n",
      "314:\tlearn: 0.0107508\ttotal: 1m 25s\tremaining: 3m 59s\n",
      "315:\tlearn: 0.0107293\ttotal: 1m 25s\tremaining: 3m 58s\n",
      "316:\tlearn: 0.0107151\ttotal: 1m 25s\tremaining: 3m 58s\n",
      "317:\tlearn: 0.0106945\ttotal: 1m 25s\tremaining: 3m 58s\n",
      "318:\tlearn: 0.0106835\ttotal: 1m 26s\tremaining: 3m 57s\n",
      "319:\tlearn: 0.0106335\ttotal: 1m 26s\tremaining: 3m 57s\n",
      "320:\tlearn: 0.0105968\ttotal: 1m 26s\tremaining: 3m 56s\n",
      "321:\tlearn: 0.0105726\ttotal: 1m 26s\tremaining: 3m 56s\n",
      "322:\tlearn: 0.0105506\ttotal: 1m 27s\tremaining: 3m 56s\n",
      "323:\tlearn: 0.0105221\ttotal: 1m 27s\tremaining: 3m 56s\n",
      "324:\tlearn: 0.0104573\ttotal: 1m 27s\tremaining: 3m 55s\n",
      "325:\tlearn: 0.0104264\ttotal: 1m 27s\tremaining: 3m 55s\n",
      "326:\tlearn: 0.0104101\ttotal: 1m 28s\tremaining: 3m 55s\n",
      "327:\tlearn: 0.0103835\ttotal: 1m 28s\tremaining: 3m 55s\n",
      "328:\tlearn: 0.0103602\ttotal: 1m 28s\tremaining: 3m 54s\n",
      "329:\tlearn: 0.0103448\ttotal: 1m 28s\tremaining: 3m 54s\n",
      "330:\tlearn: 0.0103237\ttotal: 1m 29s\tremaining: 3m 54s\n",
      "331:\tlearn: 0.0103075\ttotal: 1m 29s\tremaining: 3m 54s\n",
      "332:\tlearn: 0.0102816\ttotal: 1m 29s\tremaining: 3m 53s\n",
      "333:\tlearn: 0.0102508\ttotal: 1m 30s\tremaining: 3m 53s\n",
      "334:\tlearn: 0.0102302\ttotal: 1m 30s\tremaining: 3m 53s\n",
      "335:\tlearn: 0.0102047\ttotal: 1m 30s\tremaining: 3m 52s\n",
      "336:\tlearn: 0.0101867\ttotal: 1m 30s\tremaining: 3m 52s\n",
      "337:\tlearn: 0.0101579\ttotal: 1m 31s\tremaining: 3m 52s\n",
      "338:\tlearn: 0.0101355\ttotal: 1m 31s\tremaining: 3m 52s\n",
      "339:\tlearn: 0.0101130\ttotal: 1m 31s\tremaining: 3m 51s\n",
      "340:\tlearn: 0.0100985\ttotal: 1m 31s\tremaining: 3m 51s\n",
      "341:\tlearn: 0.0100361\ttotal: 1m 32s\tremaining: 3m 51s\n",
      "342:\tlearn: 0.0099769\ttotal: 1m 32s\tremaining: 3m 51s\n",
      "343:\tlearn: 0.0099561\ttotal: 1m 32s\tremaining: 3m 50s\n",
      "344:\tlearn: 0.0099350\ttotal: 1m 33s\tremaining: 3m 50s\n",
      "345:\tlearn: 0.0099082\ttotal: 1m 33s\tremaining: 3m 50s\n",
      "346:\tlearn: 0.0098901\ttotal: 1m 33s\tremaining: 3m 49s\n",
      "347:\tlearn: 0.0098655\ttotal: 1m 33s\tremaining: 3m 49s\n",
      "348:\tlearn: 0.0098517\ttotal: 1m 34s\tremaining: 3m 49s\n",
      "349:\tlearn: 0.0098280\ttotal: 1m 34s\tremaining: 3m 49s\n",
      "350:\tlearn: 0.0098022\ttotal: 1m 34s\tremaining: 3m 48s\n",
      "351:\tlearn: 0.0097807\ttotal: 1m 34s\tremaining: 3m 48s\n",
      "352:\tlearn: 0.0097677\ttotal: 1m 35s\tremaining: 3m 48s\n",
      "353:\tlearn: 0.0097477\ttotal: 1m 35s\tremaining: 3m 48s\n",
      "354:\tlearn: 0.0097331\ttotal: 1m 35s\tremaining: 3m 47s\n",
      "355:\tlearn: 0.0097173\ttotal: 1m 35s\tremaining: 3m 47s\n",
      "356:\tlearn: 0.0096987\ttotal: 1m 36s\tremaining: 3m 47s\n",
      "357:\tlearn: 0.0096663\ttotal: 1m 36s\tremaining: 3m 46s\n",
      "358:\tlearn: 0.0096449\ttotal: 1m 36s\tremaining: 3m 46s\n",
      "359:\tlearn: 0.0096244\ttotal: 1m 36s\tremaining: 3m 46s\n",
      "360:\tlearn: 0.0096095\ttotal: 1m 37s\tremaining: 3m 45s\n",
      "361:\tlearn: 0.0095706\ttotal: 1m 37s\tremaining: 3m 45s\n",
      "362:\tlearn: 0.0095548\ttotal: 1m 37s\tremaining: 3m 45s\n",
      "363:\tlearn: 0.0095277\ttotal: 1m 37s\tremaining: 3m 44s\n",
      "364:\tlearn: 0.0094813\ttotal: 1m 38s\tremaining: 3m 44s\n",
      "365:\tlearn: 0.0094595\ttotal: 1m 38s\tremaining: 3m 44s\n",
      "366:\tlearn: 0.0094512\ttotal: 1m 38s\tremaining: 3m 43s\n",
      "367:\tlearn: 0.0094121\ttotal: 1m 38s\tremaining: 3m 43s\n",
      "368:\tlearn: 0.0093998\ttotal: 1m 39s\tremaining: 3m 42s\n",
      "369:\tlearn: 0.0093874\ttotal: 1m 39s\tremaining: 3m 42s\n",
      "370:\tlearn: 0.0093752\ttotal: 1m 39s\tremaining: 3m 42s\n",
      "371:\tlearn: 0.0093467\ttotal: 1m 39s\tremaining: 3m 41s\n",
      "372:\tlearn: 0.0093302\ttotal: 1m 39s\tremaining: 3m 41s\n",
      "373:\tlearn: 0.0093041\ttotal: 1m 40s\tremaining: 3m 41s\n",
      "374:\tlearn: 0.0092698\ttotal: 1m 40s\tremaining: 3m 40s\n",
      "375:\tlearn: 0.0092552\ttotal: 1m 40s\tremaining: 3m 40s\n",
      "376:\tlearn: 0.0092194\ttotal: 1m 40s\tremaining: 3m 40s\n",
      "377:\tlearn: 0.0092064\ttotal: 1m 41s\tremaining: 3m 39s\n",
      "378:\tlearn: 0.0091711\ttotal: 1m 41s\tremaining: 3m 39s\n",
      "379:\tlearn: 0.0091629\ttotal: 1m 41s\tremaining: 3m 38s\n",
      "380:\tlearn: 0.0091222\ttotal: 1m 41s\tremaining: 3m 38s\n",
      "381:\tlearn: 0.0090864\ttotal: 1m 41s\tremaining: 3m 38s\n",
      "382:\tlearn: 0.0090757\ttotal: 1m 42s\tremaining: 3m 37s\n",
      "383:\tlearn: 0.0090547\ttotal: 1m 42s\tremaining: 3m 37s\n",
      "384:\tlearn: 0.0090073\ttotal: 1m 42s\tremaining: 3m 37s\n",
      "385:\tlearn: 0.0089946\ttotal: 1m 42s\tremaining: 3m 36s\n",
      "386:\tlearn: 0.0089711\ttotal: 1m 43s\tremaining: 3m 36s\n",
      "387:\tlearn: 0.0089350\ttotal: 1m 43s\tremaining: 3m 36s\n",
      "388:\tlearn: 0.0089232\ttotal: 1m 43s\tremaining: 3m 36s\n",
      "389:\tlearn: 0.0089053\ttotal: 1m 43s\tremaining: 3m 35s\n",
      "390:\tlearn: 0.0088888\ttotal: 1m 44s\tremaining: 3m 35s\n",
      "391:\tlearn: 0.0088764\ttotal: 1m 44s\tremaining: 3m 35s\n",
      "392:\tlearn: 0.0088659\ttotal: 1m 44s\tremaining: 3m 34s\n",
      "393:\tlearn: 0.0088465\ttotal: 1m 44s\tremaining: 3m 34s\n",
      "394:\tlearn: 0.0088307\ttotal: 1m 45s\tremaining: 3m 34s\n",
      "395:\tlearn: 0.0088060\ttotal: 1m 45s\tremaining: 3m 34s\n",
      "396:\tlearn: 0.0087940\ttotal: 1m 45s\tremaining: 3m 33s\n",
      "397:\tlearn: 0.0087824\ttotal: 1m 45s\tremaining: 3m 33s\n",
      "398:\tlearn: 0.0087703\ttotal: 1m 46s\tremaining: 3m 33s\n",
      "399:\tlearn: 0.0087328\ttotal: 1m 46s\tremaining: 3m 33s\n",
      "400:\tlearn: 0.0087190\ttotal: 1m 46s\tremaining: 3m 32s\n",
      "401:\tlearn: 0.0086588\ttotal: 1m 47s\tremaining: 3m 32s\n",
      "402:\tlearn: 0.0086121\ttotal: 1m 47s\tremaining: 3m 32s\n",
      "403:\tlearn: 0.0085766\ttotal: 1m 47s\tremaining: 3m 32s\n",
      "404:\tlearn: 0.0085652\ttotal: 1m 47s\tremaining: 3m 31s\n",
      "405:\tlearn: 0.0085461\ttotal: 1m 48s\tremaining: 3m 31s\n",
      "406:\tlearn: 0.0085256\ttotal: 1m 48s\tremaining: 3m 31s\n",
      "407:\tlearn: 0.0085131\ttotal: 1m 48s\tremaining: 3m 30s\n",
      "408:\tlearn: 0.0085010\ttotal: 1m 48s\tremaining: 3m 30s\n",
      "409:\tlearn: 0.0084702\ttotal: 1m 49s\tremaining: 3m 30s\n",
      "410:\tlearn: 0.0084563\ttotal: 1m 49s\tremaining: 3m 30s\n",
      "411:\tlearn: 0.0084323\ttotal: 1m 49s\tremaining: 3m 29s\n",
      "412:\tlearn: 0.0084124\ttotal: 1m 49s\tremaining: 3m 29s\n",
      "413:\tlearn: 0.0083987\ttotal: 1m 50s\tremaining: 3m 29s\n",
      "414:\tlearn: 0.0083860\ttotal: 1m 50s\tremaining: 3m 28s\n",
      "415:\tlearn: 0.0083720\ttotal: 1m 50s\tremaining: 3m 28s\n",
      "416:\tlearn: 0.0083602\ttotal: 1m 51s\tremaining: 3m 28s\n",
      "417:\tlearn: 0.0083404\ttotal: 1m 51s\tremaining: 3m 28s\n",
      "418:\tlearn: 0.0083271\ttotal: 1m 51s\tremaining: 3m 27s\n",
      "419:\tlearn: 0.0083140\ttotal: 1m 51s\tremaining: 3m 27s\n",
      "420:\tlearn: 0.0083058\ttotal: 1m 52s\tremaining: 3m 27s\n",
      "421:\tlearn: 0.0082925\ttotal: 1m 52s\tremaining: 3m 27s\n",
      "422:\tlearn: 0.0082838\ttotal: 1m 52s\tremaining: 3m 26s\n",
      "423:\tlearn: 0.0082643\ttotal: 1m 52s\tremaining: 3m 26s\n",
      "424:\tlearn: 0.0082483\ttotal: 1m 53s\tremaining: 3m 26s\n",
      "425:\tlearn: 0.0082389\ttotal: 1m 53s\tremaining: 3m 25s\n",
      "426:\tlearn: 0.0082053\ttotal: 1m 53s\tremaining: 3m 25s\n",
      "427:\tlearn: 0.0081852\ttotal: 1m 53s\tremaining: 3m 25s\n",
      "428:\tlearn: 0.0081740\ttotal: 1m 54s\tremaining: 3m 24s\n",
      "429:\tlearn: 0.0081625\ttotal: 1m 54s\tremaining: 3m 24s\n",
      "430:\tlearn: 0.0081528\ttotal: 1m 54s\tremaining: 3m 24s\n",
      "431:\tlearn: 0.0081177\ttotal: 1m 54s\tremaining: 3m 23s\n",
      "432:\tlearn: 0.0080996\ttotal: 1m 54s\tremaining: 3m 23s\n",
      "433:\tlearn: 0.0080885\ttotal: 1m 55s\tremaining: 3m 23s\n",
      "434:\tlearn: 0.0080688\ttotal: 1m 55s\tremaining: 3m 22s\n",
      "435:\tlearn: 0.0080516\ttotal: 1m 55s\tremaining: 3m 22s\n",
      "436:\tlearn: 0.0080211\ttotal: 1m 55s\tremaining: 3m 22s\n",
      "437:\tlearn: 0.0080079\ttotal: 1m 56s\tremaining: 3m 22s\n",
      "438:\tlearn: 0.0079785\ttotal: 1m 56s\tremaining: 3m 21s\n",
      "439:\tlearn: 0.0079677\ttotal: 1m 56s\tremaining: 3m 21s\n",
      "440:\tlearn: 0.0079526\ttotal: 1m 56s\tremaining: 3m 21s\n",
      "441:\tlearn: 0.0079220\ttotal: 1m 57s\tremaining: 3m 20s\n",
      "442:\tlearn: 0.0079092\ttotal: 1m 57s\tremaining: 3m 20s\n",
      "443:\tlearn: 0.0078884\ttotal: 1m 57s\tremaining: 3m 20s\n",
      "444:\tlearn: 0.0078492\ttotal: 1m 57s\tremaining: 3m 19s\n",
      "445:\tlearn: 0.0078326\ttotal: 1m 57s\tremaining: 3m 19s\n",
      "446:\tlearn: 0.0078082\ttotal: 1m 58s\tremaining: 3m 19s\n",
      "447:\tlearn: 0.0077838\ttotal: 1m 58s\tremaining: 3m 18s\n",
      "448:\tlearn: 0.0077762\ttotal: 1m 58s\tremaining: 3m 18s\n",
      "449:\tlearn: 0.0077498\ttotal: 1m 58s\tremaining: 3m 18s\n",
      "450:\tlearn: 0.0077346\ttotal: 1m 59s\tremaining: 3m 17s\n",
      "451:\tlearn: 0.0077256\ttotal: 1m 59s\tremaining: 3m 17s\n",
      "452:\tlearn: 0.0077174\ttotal: 1m 59s\tremaining: 3m 17s\n",
      "453:\tlearn: 0.0077072\ttotal: 2m\tremaining: 3m 17s\n",
      "454:\tlearn: 0.0076932\ttotal: 2m\tremaining: 3m 16s\n",
      "455:\tlearn: 0.0076846\ttotal: 2m\tremaining: 3m 16s\n",
      "456:\tlearn: 0.0076771\ttotal: 2m\tremaining: 3m 16s\n",
      "457:\tlearn: 0.0076603\ttotal: 2m 1s\tremaining: 3m 16s\n",
      "458:\tlearn: 0.0076473\ttotal: 2m 1s\tremaining: 3m 15s\n",
      "459:\tlearn: 0.0076340\ttotal: 2m 1s\tremaining: 3m 15s\n",
      "460:\tlearn: 0.0076168\ttotal: 2m 1s\tremaining: 3m 15s\n",
      "461:\tlearn: 0.0075845\ttotal: 2m 2s\tremaining: 3m 15s\n",
      "462:\tlearn: 0.0075343\ttotal: 2m 2s\tremaining: 3m 14s\n",
      "463:\tlearn: 0.0075077\ttotal: 2m 2s\tremaining: 3m 14s\n",
      "464:\tlearn: 0.0074824\ttotal: 2m 2s\tremaining: 3m 14s\n",
      "465:\tlearn: 0.0074713\ttotal: 2m 3s\tremaining: 3m 14s\n"
     ]
    },
    {
     "name": "stdout",
     "output_type": "stream",
     "text": [
      "466:\tlearn: 0.0074530\ttotal: 2m 3s\tremaining: 3m 13s\n",
      "467:\tlearn: 0.0074143\ttotal: 2m 3s\tremaining: 3m 13s\n",
      "468:\tlearn: 0.0073860\ttotal: 2m 4s\tremaining: 3m 13s\n",
      "469:\tlearn: 0.0073744\ttotal: 2m 4s\tremaining: 3m 13s\n",
      "470:\tlearn: 0.0073653\ttotal: 2m 4s\tremaining: 3m 12s\n",
      "471:\tlearn: 0.0073472\ttotal: 2m 4s\tremaining: 3m 12s\n",
      "472:\tlearn: 0.0073373\ttotal: 2m 5s\tremaining: 3m 12s\n",
      "473:\tlearn: 0.0073126\ttotal: 2m 5s\tremaining: 3m 12s\n",
      "474:\tlearn: 0.0073037\ttotal: 2m 5s\tremaining: 3m 11s\n",
      "475:\tlearn: 0.0072790\ttotal: 2m 5s\tremaining: 3m 11s\n",
      "476:\tlearn: 0.0072689\ttotal: 2m 6s\tremaining: 3m 11s\n",
      "477:\tlearn: 0.0072562\ttotal: 2m 6s\tremaining: 3m 11s\n",
      "478:\tlearn: 0.0072375\ttotal: 2m 6s\tremaining: 3m 10s\n",
      "479:\tlearn: 0.0072276\ttotal: 2m 7s\tremaining: 3m 10s\n",
      "480:\tlearn: 0.0072166\ttotal: 2m 7s\tremaining: 3m 10s\n",
      "481:\tlearn: 0.0071976\ttotal: 2m 7s\tremaining: 3m 9s\n",
      "482:\tlearn: 0.0071834\ttotal: 2m 7s\tremaining: 3m 9s\n",
      "483:\tlearn: 0.0071715\ttotal: 2m 8s\tremaining: 3m 9s\n",
      "484:\tlearn: 0.0071555\ttotal: 2m 8s\tremaining: 3m 9s\n",
      "485:\tlearn: 0.0071485\ttotal: 2m 8s\tremaining: 3m 8s\n",
      "486:\tlearn: 0.0071395\ttotal: 2m 8s\tremaining: 3m 8s\n",
      "487:\tlearn: 0.0071305\ttotal: 2m 9s\tremaining: 3m 8s\n",
      "488:\tlearn: 0.0071195\ttotal: 2m 9s\tremaining: 3m 8s\n",
      "489:\tlearn: 0.0071061\ttotal: 2m 9s\tremaining: 3m 7s\n",
      "490:\tlearn: 0.0070970\ttotal: 2m 9s\tremaining: 3m 7s\n",
      "491:\tlearn: 0.0070911\ttotal: 2m 10s\tremaining: 3m 7s\n",
      "492:\tlearn: 0.0070694\ttotal: 2m 10s\tremaining: 3m 6s\n",
      "493:\tlearn: 0.0070589\ttotal: 2m 10s\tremaining: 3m 6s\n",
      "494:\tlearn: 0.0070347\ttotal: 2m 10s\tremaining: 3m 6s\n",
      "495:\tlearn: 0.0070256\ttotal: 2m 10s\tremaining: 3m 5s\n",
      "496:\tlearn: 0.0070202\ttotal: 2m 11s\tremaining: 3m 5s\n",
      "497:\tlearn: 0.0069968\ttotal: 2m 11s\tremaining: 3m 5s\n",
      "498:\tlearn: 0.0069830\ttotal: 2m 11s\tremaining: 3m 4s\n",
      "499:\tlearn: 0.0069684\ttotal: 2m 11s\tremaining: 3m 4s\n",
      "500:\tlearn: 0.0069493\ttotal: 2m 12s\tremaining: 3m 4s\n",
      "501:\tlearn: 0.0069398\ttotal: 2m 12s\tremaining: 3m 3s\n",
      "502:\tlearn: 0.0069238\ttotal: 2m 12s\tremaining: 3m 3s\n",
      "503:\tlearn: 0.0069017\ttotal: 2m 12s\tremaining: 3m 3s\n",
      "504:\tlearn: 0.0068960\ttotal: 2m 12s\tremaining: 3m 3s\n",
      "505:\tlearn: 0.0068716\ttotal: 2m 13s\tremaining: 3m 2s\n",
      "506:\tlearn: 0.0068630\ttotal: 2m 13s\tremaining: 3m 2s\n",
      "507:\tlearn: 0.0068506\ttotal: 2m 13s\tremaining: 3m 2s\n",
      "508:\tlearn: 0.0068289\ttotal: 2m 13s\tremaining: 3m 1s\n",
      "509:\tlearn: 0.0068036\ttotal: 2m 14s\tremaining: 3m 1s\n",
      "510:\tlearn: 0.0067911\ttotal: 2m 14s\tremaining: 3m 1s\n",
      "511:\tlearn: 0.0067803\ttotal: 2m 14s\tremaining: 3m 1s\n",
      "512:\tlearn: 0.0067606\ttotal: 2m 14s\tremaining: 3m\n",
      "513:\tlearn: 0.0067492\ttotal: 2m 15s\tremaining: 3m\n",
      "514:\tlearn: 0.0067445\ttotal: 2m 15s\tremaining: 3m\n",
      "515:\tlearn: 0.0067339\ttotal: 2m 15s\tremaining: 2m 59s\n",
      "516:\tlearn: 0.0067258\ttotal: 2m 16s\tremaining: 2m 59s\n",
      "517:\tlearn: 0.0067202\ttotal: 2m 16s\tremaining: 2m 59s\n",
      "518:\tlearn: 0.0066995\ttotal: 2m 16s\tremaining: 2m 59s\n",
      "519:\tlearn: 0.0066914\ttotal: 2m 16s\tremaining: 2m 58s\n",
      "520:\tlearn: 0.0066677\ttotal: 2m 17s\tremaining: 2m 58s\n",
      "521:\tlearn: 0.0066464\ttotal: 2m 17s\tremaining: 2m 58s\n",
      "522:\tlearn: 0.0066374\ttotal: 2m 17s\tremaining: 2m 58s\n",
      "523:\tlearn: 0.0066259\ttotal: 2m 17s\tremaining: 2m 57s\n",
      "524:\tlearn: 0.0066043\ttotal: 2m 18s\tremaining: 2m 57s\n",
      "525:\tlearn: 0.0065987\ttotal: 2m 18s\tremaining: 2m 57s\n",
      "526:\tlearn: 0.0065911\ttotal: 2m 18s\tremaining: 2m 57s\n",
      "527:\tlearn: 0.0065818\ttotal: 2m 18s\tremaining: 2m 56s\n",
      "528:\tlearn: 0.0065753\ttotal: 2m 19s\tremaining: 2m 56s\n",
      "529:\tlearn: 0.0065583\ttotal: 2m 19s\tremaining: 2m 56s\n",
      "530:\tlearn: 0.0065508\ttotal: 2m 19s\tremaining: 2m 56s\n",
      "531:\tlearn: 0.0065222\ttotal: 2m 20s\tremaining: 2m 55s\n",
      "532:\tlearn: 0.0065027\ttotal: 2m 20s\tremaining: 2m 55s\n",
      "533:\tlearn: 0.0064859\ttotal: 2m 20s\tremaining: 2m 55s\n",
      "534:\tlearn: 0.0064664\ttotal: 2m 20s\tremaining: 2m 55s\n",
      "535:\tlearn: 0.0064590\ttotal: 2m 21s\tremaining: 2m 54s\n",
      "536:\tlearn: 0.0064377\ttotal: 2m 21s\tremaining: 2m 54s\n",
      "537:\tlearn: 0.0064293\ttotal: 2m 21s\tremaining: 2m 54s\n",
      "538:\tlearn: 0.0064236\ttotal: 2m 21s\tremaining: 2m 53s\n",
      "539:\tlearn: 0.0064098\ttotal: 2m 22s\tremaining: 2m 53s\n",
      "540:\tlearn: 0.0063966\ttotal: 2m 22s\tremaining: 2m 53s\n",
      "541:\tlearn: 0.0063809\ttotal: 2m 22s\tremaining: 2m 53s\n",
      "542:\tlearn: 0.0063720\ttotal: 2m 22s\tremaining: 2m 52s\n",
      "543:\tlearn: 0.0063644\ttotal: 2m 23s\tremaining: 2m 52s\n",
      "544:\tlearn: 0.0063503\ttotal: 2m 23s\tremaining: 2m 52s\n",
      "545:\tlearn: 0.0063298\ttotal: 2m 23s\tremaining: 2m 52s\n",
      "546:\tlearn: 0.0063142\ttotal: 2m 23s\tremaining: 2m 51s\n",
      "547:\tlearn: 0.0062976\ttotal: 2m 24s\tremaining: 2m 51s\n",
      "548:\tlearn: 0.0062897\ttotal: 2m 24s\tremaining: 2m 51s\n",
      "549:\tlearn: 0.0062844\ttotal: 2m 24s\tremaining: 2m 51s\n",
      "550:\tlearn: 0.0062773\ttotal: 2m 25s\tremaining: 2m 50s\n",
      "551:\tlearn: 0.0062671\ttotal: 2m 25s\tremaining: 2m 50s\n",
      "552:\tlearn: 0.0062562\ttotal: 2m 25s\tremaining: 2m 50s\n",
      "553:\tlearn: 0.0062527\ttotal: 2m 25s\tremaining: 2m 49s\n",
      "554:\tlearn: 0.0062445\ttotal: 2m 25s\tremaining: 2m 49s\n",
      "555:\tlearn: 0.0062352\ttotal: 2m 26s\tremaining: 2m 49s\n",
      "556:\tlearn: 0.0062029\ttotal: 2m 26s\tremaining: 2m 48s\n",
      "557:\tlearn: 0.0061937\ttotal: 2m 26s\tremaining: 2m 48s\n",
      "558:\tlearn: 0.0061884\ttotal: 2m 26s\tremaining: 2m 48s\n",
      "559:\tlearn: 0.0061712\ttotal: 2m 27s\tremaining: 2m 48s\n",
      "560:\tlearn: 0.0061541\ttotal: 2m 27s\tremaining: 2m 47s\n",
      "561:\tlearn: 0.0061472\ttotal: 2m 27s\tremaining: 2m 47s\n",
      "562:\tlearn: 0.0061309\ttotal: 2m 27s\tremaining: 2m 47s\n",
      "563:\tlearn: 0.0061195\ttotal: 2m 27s\tremaining: 2m 46s\n",
      "564:\tlearn: 0.0061134\ttotal: 2m 28s\tremaining: 2m 46s\n",
      "565:\tlearn: 0.0061070\ttotal: 2m 28s\tremaining: 2m 46s\n",
      "566:\tlearn: 0.0060992\ttotal: 2m 28s\tremaining: 2m 45s\n",
      "567:\tlearn: 0.0060889\ttotal: 2m 28s\tremaining: 2m 45s\n",
      "568:\tlearn: 0.0060843\ttotal: 2m 29s\tremaining: 2m 45s\n",
      "569:\tlearn: 0.0060680\ttotal: 2m 29s\tremaining: 2m 45s\n",
      "570:\tlearn: 0.0060625\ttotal: 2m 29s\tremaining: 2m 44s\n",
      "571:\tlearn: 0.0060534\ttotal: 2m 29s\tremaining: 2m 44s\n",
      "572:\tlearn: 0.0060465\ttotal: 2m 30s\tremaining: 2m 44s\n",
      "573:\tlearn: 0.0060406\ttotal: 2m 30s\tremaining: 2m 43s\n",
      "574:\tlearn: 0.0060324\ttotal: 2m 30s\tremaining: 2m 43s\n",
      "575:\tlearn: 0.0060287\ttotal: 2m 30s\tremaining: 2m 43s\n",
      "576:\tlearn: 0.0060050\ttotal: 2m 31s\tremaining: 2m 43s\n",
      "577:\tlearn: 0.0059920\ttotal: 2m 31s\tremaining: 2m 42s\n",
      "578:\tlearn: 0.0059808\ttotal: 2m 31s\tremaining: 2m 42s\n",
      "579:\tlearn: 0.0059718\ttotal: 2m 31s\tremaining: 2m 42s\n",
      "580:\tlearn: 0.0059546\ttotal: 2m 32s\tremaining: 2m 42s\n",
      "581:\tlearn: 0.0059480\ttotal: 2m 32s\tremaining: 2m 41s\n",
      "582:\tlearn: 0.0059407\ttotal: 2m 32s\tremaining: 2m 41s\n",
      "583:\tlearn: 0.0059357\ttotal: 2m 33s\tremaining: 2m 41s\n",
      "584:\tlearn: 0.0059305\ttotal: 2m 33s\tremaining: 2m 41s\n",
      "585:\tlearn: 0.0059080\ttotal: 2m 33s\tremaining: 2m 40s\n",
      "586:\tlearn: 0.0059000\ttotal: 2m 33s\tremaining: 2m 40s\n",
      "587:\tlearn: 0.0058753\ttotal: 2m 34s\tremaining: 2m 40s\n",
      "588:\tlearn: 0.0058596\ttotal: 2m 34s\tremaining: 2m 40s\n",
      "589:\tlearn: 0.0058478\ttotal: 2m 34s\tremaining: 2m 39s\n",
      "590:\tlearn: 0.0058397\ttotal: 2m 34s\tremaining: 2m 39s\n",
      "591:\tlearn: 0.0058197\ttotal: 2m 35s\tremaining: 2m 39s\n",
      "592:\tlearn: 0.0058134\ttotal: 2m 35s\tremaining: 2m 39s\n",
      "593:\tlearn: 0.0058028\ttotal: 2m 35s\tremaining: 2m 38s\n",
      "594:\tlearn: 0.0057963\ttotal: 2m 35s\tremaining: 2m 38s\n",
      "595:\tlearn: 0.0057931\ttotal: 2m 36s\tremaining: 2m 38s\n",
      "596:\tlearn: 0.0057555\ttotal: 2m 36s\tremaining: 2m 38s\n",
      "597:\tlearn: 0.0057493\ttotal: 2m 36s\tremaining: 2m 37s\n",
      "598:\tlearn: 0.0057327\ttotal: 2m 37s\tremaining: 2m 37s\n",
      "599:\tlearn: 0.0057190\ttotal: 2m 37s\tremaining: 2m 37s\n",
      "600:\tlearn: 0.0056996\ttotal: 2m 37s\tremaining: 2m 37s\n",
      "601:\tlearn: 0.0056864\ttotal: 2m 37s\tremaining: 2m 36s\n",
      "602:\tlearn: 0.0056712\ttotal: 2m 38s\tremaining: 2m 36s\n",
      "603:\tlearn: 0.0056639\ttotal: 2m 38s\tremaining: 2m 36s\n",
      "604:\tlearn: 0.0056503\ttotal: 2m 38s\tremaining: 2m 36s\n",
      "605:\tlearn: 0.0056437\ttotal: 2m 38s\tremaining: 2m 35s\n",
      "606:\tlearn: 0.0056301\ttotal: 2m 39s\tremaining: 2m 35s\n",
      "607:\tlearn: 0.0056231\ttotal: 2m 39s\tremaining: 2m 35s\n",
      "608:\tlearn: 0.0056064\ttotal: 2m 39s\tremaining: 2m 35s\n",
      "609:\tlearn: 0.0055923\ttotal: 2m 40s\tremaining: 2m 34s\n",
      "610:\tlearn: 0.0055859\ttotal: 2m 40s\tremaining: 2m 34s\n",
      "611:\tlearn: 0.0055807\ttotal: 2m 40s\tremaining: 2m 34s\n",
      "612:\tlearn: 0.0055614\ttotal: 2m 40s\tremaining: 2m 34s\n",
      "613:\tlearn: 0.0055501\ttotal: 2m 41s\tremaining: 2m 33s\n",
      "614:\tlearn: 0.0055396\ttotal: 2m 41s\tremaining: 2m 33s\n",
      "615:\tlearn: 0.0055331\ttotal: 2m 41s\tremaining: 2m 33s\n",
      "616:\tlearn: 0.0055281\ttotal: 2m 41s\tremaining: 2m 32s\n",
      "617:\tlearn: 0.0055180\ttotal: 2m 42s\tremaining: 2m 32s\n",
      "618:\tlearn: 0.0055142\ttotal: 2m 42s\tremaining: 2m 32s\n"
     ]
    },
    {
     "name": "stdout",
     "output_type": "stream",
     "text": [
      "619:\tlearn: 0.0054979\ttotal: 2m 42s\tremaining: 2m 32s\n",
      "620:\tlearn: 0.0054862\ttotal: 2m 42s\tremaining: 2m 31s\n",
      "621:\tlearn: 0.0054779\ttotal: 2m 42s\tremaining: 2m 31s\n",
      "622:\tlearn: 0.0054723\ttotal: 2m 43s\tremaining: 2m 31s\n",
      "623:\tlearn: 0.0054648\ttotal: 2m 43s\tremaining: 2m 30s\n",
      "624:\tlearn: 0.0054601\ttotal: 2m 43s\tremaining: 2m 30s\n",
      "625:\tlearn: 0.0054547\ttotal: 2m 43s\tremaining: 2m 30s\n",
      "626:\tlearn: 0.0054492\ttotal: 2m 44s\tremaining: 2m 29s\n",
      "627:\tlearn: 0.0054365\ttotal: 2m 44s\tremaining: 2m 29s\n",
      "628:\tlearn: 0.0054314\ttotal: 2m 44s\tremaining: 2m 29s\n",
      "629:\tlearn: 0.0054091\ttotal: 2m 44s\tremaining: 2m 28s\n",
      "630:\tlearn: 0.0054047\ttotal: 2m 44s\tremaining: 2m 28s\n",
      "631:\tlearn: 0.0053993\ttotal: 2m 45s\tremaining: 2m 28s\n",
      "632:\tlearn: 0.0053923\ttotal: 2m 45s\tremaining: 2m 28s\n",
      "633:\tlearn: 0.0053875\ttotal: 2m 45s\tremaining: 2m 27s\n",
      "634:\tlearn: 0.0053768\ttotal: 2m 45s\tremaining: 2m 27s\n",
      "635:\tlearn: 0.0053637\ttotal: 2m 46s\tremaining: 2m 27s\n",
      "636:\tlearn: 0.0053591\ttotal: 2m 46s\tremaining: 2m 26s\n",
      "637:\tlearn: 0.0053517\ttotal: 2m 46s\tremaining: 2m 26s\n",
      "638:\tlearn: 0.0053411\ttotal: 2m 46s\tremaining: 2m 26s\n",
      "639:\tlearn: 0.0053353\ttotal: 2m 47s\tremaining: 2m 26s\n",
      "640:\tlearn: 0.0053234\ttotal: 2m 47s\tremaining: 2m 25s\n",
      "641:\tlearn: 0.0053160\ttotal: 2m 47s\tremaining: 2m 25s\n",
      "642:\tlearn: 0.0053090\ttotal: 2m 47s\tremaining: 2m 25s\n",
      "643:\tlearn: 0.0053001\ttotal: 2m 48s\tremaining: 2m 25s\n",
      "644:\tlearn: 0.0052934\ttotal: 2m 48s\tremaining: 2m 24s\n",
      "645:\tlearn: 0.0052901\ttotal: 2m 48s\tremaining: 2m 24s\n",
      "646:\tlearn: 0.0052727\ttotal: 2m 48s\tremaining: 2m 24s\n",
      "647:\tlearn: 0.0052600\ttotal: 2m 49s\tremaining: 2m 24s\n",
      "648:\tlearn: 0.0052535\ttotal: 2m 49s\tremaining: 2m 23s\n",
      "649:\tlearn: 0.0052492\ttotal: 2m 49s\tremaining: 2m 23s\n",
      "650:\tlearn: 0.0052449\ttotal: 2m 49s\tremaining: 2m 23s\n",
      "651:\tlearn: 0.0052383\ttotal: 2m 50s\tremaining: 2m 23s\n",
      "652:\tlearn: 0.0052290\ttotal: 2m 50s\tremaining: 2m 22s\n",
      "653:\tlearn: 0.0052231\ttotal: 2m 50s\tremaining: 2m 22s\n",
      "654:\tlearn: 0.0052106\ttotal: 2m 51s\tremaining: 2m 22s\n",
      "655:\tlearn: 0.0051791\ttotal: 2m 51s\tremaining: 2m 22s\n",
      "656:\tlearn: 0.0051725\ttotal: 2m 51s\tremaining: 2m 21s\n",
      "657:\tlearn: 0.0051600\ttotal: 2m 51s\tremaining: 2m 21s\n",
      "658:\tlearn: 0.0051485\ttotal: 2m 52s\tremaining: 2m 21s\n",
      "659:\tlearn: 0.0051430\ttotal: 2m 52s\tremaining: 2m 21s\n",
      "660:\tlearn: 0.0051300\ttotal: 2m 52s\tremaining: 2m 20s\n",
      "661:\tlearn: 0.0051245\ttotal: 2m 52s\tremaining: 2m 20s\n",
      "662:\tlearn: 0.0051193\ttotal: 2m 53s\tremaining: 2m 20s\n",
      "663:\tlearn: 0.0051153\ttotal: 2m 53s\tremaining: 2m 19s\n",
      "664:\tlearn: 0.0051094\ttotal: 2m 53s\tremaining: 2m 19s\n",
      "665:\tlearn: 0.0051040\ttotal: 2m 53s\tremaining: 2m 19s\n",
      "666:\tlearn: 0.0050929\ttotal: 2m 54s\tremaining: 2m 19s\n",
      "667:\tlearn: 0.0050843\ttotal: 2m 54s\tremaining: 2m 18s\n",
      "668:\tlearn: 0.0050693\ttotal: 2m 54s\tremaining: 2m 18s\n",
      "669:\tlearn: 0.0050605\ttotal: 2m 55s\tremaining: 2m 18s\n",
      "670:\tlearn: 0.0050468\ttotal: 2m 55s\tremaining: 2m 18s\n",
      "671:\tlearn: 0.0050421\ttotal: 2m 55s\tremaining: 2m 17s\n",
      "672:\tlearn: 0.0050321\ttotal: 2m 55s\tremaining: 2m 17s\n",
      "673:\tlearn: 0.0050210\ttotal: 2m 56s\tremaining: 2m 17s\n",
      "674:\tlearn: 0.0050077\ttotal: 2m 56s\tremaining: 2m 17s\n",
      "675:\tlearn: 0.0050031\ttotal: 2m 56s\tremaining: 2m 16s\n",
      "676:\tlearn: 0.0049899\ttotal: 2m 56s\tremaining: 2m 16s\n",
      "677:\tlearn: 0.0049854\ttotal: 2m 57s\tremaining: 2m 16s\n",
      "678:\tlearn: 0.0049726\ttotal: 2m 57s\tremaining: 2m 16s\n",
      "679:\tlearn: 0.0049684\ttotal: 2m 57s\tremaining: 2m 15s\n",
      "680:\tlearn: 0.0049524\ttotal: 2m 57s\tremaining: 2m 15s\n",
      "681:\tlearn: 0.0049465\ttotal: 2m 58s\tremaining: 2m 15s\n",
      "682:\tlearn: 0.0049391\ttotal: 2m 58s\tremaining: 2m 14s\n",
      "683:\tlearn: 0.0049361\ttotal: 2m 58s\tremaining: 2m 14s\n",
      "684:\tlearn: 0.0049328\ttotal: 2m 58s\tremaining: 2m 14s\n",
      "685:\tlearn: 0.0049286\ttotal: 2m 58s\tremaining: 2m 14s\n",
      "686:\tlearn: 0.0049235\ttotal: 2m 59s\tremaining: 2m 13s\n",
      "687:\tlearn: 0.0049198\ttotal: 2m 59s\tremaining: 2m 13s\n",
      "688:\tlearn: 0.0049153\ttotal: 2m 59s\tremaining: 2m 13s\n",
      "689:\tlearn: 0.0049126\ttotal: 2m 59s\tremaining: 2m 12s\n",
      "690:\tlearn: 0.0048874\ttotal: 3m\tremaining: 2m 12s\n",
      "691:\tlearn: 0.0048841\ttotal: 3m\tremaining: 2m 12s\n",
      "692:\tlearn: 0.0048803\ttotal: 3m\tremaining: 2m 12s\n",
      "693:\tlearn: 0.0048772\ttotal: 3m\tremaining: 2m 11s\n",
      "694:\tlearn: 0.0048712\ttotal: 3m 1s\tremaining: 2m 11s\n",
      "695:\tlearn: 0.0048630\ttotal: 3m 1s\tremaining: 2m 11s\n",
      "696:\tlearn: 0.0048600\ttotal: 3m 1s\tremaining: 2m 10s\n",
      "697:\tlearn: 0.0048506\ttotal: 3m 1s\tremaining: 2m 10s\n",
      "698:\tlearn: 0.0048446\ttotal: 3m 1s\tremaining: 2m 10s\n",
      "699:\tlearn: 0.0048385\ttotal: 3m 2s\tremaining: 2m 10s\n",
      "700:\tlearn: 0.0048309\ttotal: 3m 2s\tremaining: 2m 9s\n",
      "701:\tlearn: 0.0048250\ttotal: 3m 2s\tremaining: 2m 9s\n",
      "702:\tlearn: 0.0048170\ttotal: 3m 2s\tremaining: 2m 9s\n",
      "703:\tlearn: 0.0048141\ttotal: 3m 3s\tremaining: 2m 9s\n",
      "704:\tlearn: 0.0048087\ttotal: 3m 3s\tremaining: 2m 8s\n",
      "705:\tlearn: 0.0048026\ttotal: 3m 3s\tremaining: 2m 8s\n",
      "706:\tlearn: 0.0047961\ttotal: 3m 4s\tremaining: 2m 8s\n",
      "707:\tlearn: 0.0047903\ttotal: 3m 4s\tremaining: 2m 8s\n",
      "708:\tlearn: 0.0047796\ttotal: 3m 4s\tremaining: 2m 7s\n",
      "709:\tlearn: 0.0047700\ttotal: 3m 4s\tremaining: 2m 7s\n",
      "710:\tlearn: 0.0047589\ttotal: 3m 5s\tremaining: 2m 7s\n",
      "711:\tlearn: 0.0047545\ttotal: 3m 5s\tremaining: 2m 7s\n",
      "712:\tlearn: 0.0047477\ttotal: 3m 5s\tremaining: 2m 6s\n",
      "713:\tlearn: 0.0047332\ttotal: 3m 5s\tremaining: 2m 6s\n",
      "714:\tlearn: 0.0047259\ttotal: 3m 6s\tremaining: 2m 6s\n",
      "715:\tlearn: 0.0047195\ttotal: 3m 6s\tremaining: 2m 6s\n",
      "716:\tlearn: 0.0047128\ttotal: 3m 6s\tremaining: 2m 5s\n",
      "717:\tlearn: 0.0047084\ttotal: 3m 6s\tremaining: 2m 5s\n",
      "718:\tlearn: 0.0046924\ttotal: 3m 7s\tremaining: 2m 5s\n",
      "719:\tlearn: 0.0046882\ttotal: 3m 7s\tremaining: 2m 4s\n",
      "720:\tlearn: 0.0046761\ttotal: 3m 7s\tremaining: 2m 4s\n",
      "721:\tlearn: 0.0046640\ttotal: 3m 8s\tremaining: 2m 4s\n",
      "722:\tlearn: 0.0046543\ttotal: 3m 8s\tremaining: 2m 4s\n",
      "723:\tlearn: 0.0046413\ttotal: 3m 8s\tremaining: 2m 3s\n",
      "724:\tlearn: 0.0046326\ttotal: 3m 8s\tremaining: 2m 3s\n",
      "725:\tlearn: 0.0046266\ttotal: 3m 9s\tremaining: 2m 3s\n",
      "726:\tlearn: 0.0046224\ttotal: 3m 9s\tremaining: 2m 3s\n",
      "727:\tlearn: 0.0046179\ttotal: 3m 9s\tremaining: 2m 2s\n",
      "728:\tlearn: 0.0046054\ttotal: 3m 9s\tremaining: 2m 2s\n",
      "729:\tlearn: 0.0045932\ttotal: 3m 10s\tremaining: 2m 2s\n",
      "730:\tlearn: 0.0045872\ttotal: 3m 10s\tremaining: 2m 2s\n",
      "731:\tlearn: 0.0045807\ttotal: 3m 10s\tremaining: 2m 1s\n",
      "732:\tlearn: 0.0045769\ttotal: 3m 10s\tremaining: 2m 1s\n",
      "733:\tlearn: 0.0045747\ttotal: 3m 11s\tremaining: 2m 1s\n",
      "734:\tlearn: 0.0045699\ttotal: 3m 11s\tremaining: 2m 1s\n",
      "735:\tlearn: 0.0045670\ttotal: 3m 11s\tremaining: 2m\n",
      "736:\tlearn: 0.0045645\ttotal: 3m 12s\tremaining: 2m\n",
      "737:\tlearn: 0.0045543\ttotal: 3m 12s\tremaining: 2m\n",
      "738:\tlearn: 0.0045481\ttotal: 3m 12s\tremaining: 2m\n",
      "739:\tlearn: 0.0045454\ttotal: 3m 12s\tremaining: 1m 59s\n",
      "740:\tlearn: 0.0045355\ttotal: 3m 13s\tremaining: 1m 59s\n",
      "741:\tlearn: 0.0045283\ttotal: 3m 13s\tremaining: 1m 59s\n",
      "742:\tlearn: 0.0045258\ttotal: 3m 13s\tremaining: 1m 59s\n",
      "743:\tlearn: 0.0045158\ttotal: 3m 13s\tremaining: 1m 58s\n",
      "744:\tlearn: 0.0045032\ttotal: 3m 14s\tremaining: 1m 58s\n",
      "745:\tlearn: 0.0044938\ttotal: 3m 14s\tremaining: 1m 58s\n",
      "746:\tlearn: 0.0044876\ttotal: 3m 14s\tremaining: 1m 57s\n",
      "747:\tlearn: 0.0044777\ttotal: 3m 14s\tremaining: 1m 57s\n",
      "748:\tlearn: 0.0044739\ttotal: 3m 15s\tremaining: 1m 57s\n",
      "749:\tlearn: 0.0044675\ttotal: 3m 15s\tremaining: 1m 57s\n",
      "750:\tlearn: 0.0044573\ttotal: 3m 15s\tremaining: 1m 56s\n",
      "751:\tlearn: 0.0044483\ttotal: 3m 15s\tremaining: 1m 56s\n",
      "752:\tlearn: 0.0044418\ttotal: 3m 16s\tremaining: 1m 56s\n",
      "753:\tlearn: 0.0044324\ttotal: 3m 16s\tremaining: 1m 56s\n",
      "754:\tlearn: 0.0044288\ttotal: 3m 16s\tremaining: 1m 55s\n",
      "755:\tlearn: 0.0044211\ttotal: 3m 16s\tremaining: 1m 55s\n",
      "756:\tlearn: 0.0044083\ttotal: 3m 16s\tremaining: 1m 55s\n",
      "757:\tlearn: 0.0044046\ttotal: 3m 17s\tremaining: 1m 54s\n",
      "758:\tlearn: 0.0044006\ttotal: 3m 17s\tremaining: 1m 54s\n",
      "759:\tlearn: 0.0043957\ttotal: 3m 17s\tremaining: 1m 54s\n",
      "760:\tlearn: 0.0043856\ttotal: 3m 18s\tremaining: 1m 54s\n",
      "761:\tlearn: 0.0043822\ttotal: 3m 18s\tremaining: 1m 53s\n",
      "762:\tlearn: 0.0043791\ttotal: 3m 18s\tremaining: 1m 53s\n",
      "763:\tlearn: 0.0043719\ttotal: 3m 18s\tremaining: 1m 53s\n",
      "764:\tlearn: 0.0043656\ttotal: 3m 18s\tremaining: 1m 53s\n",
      "765:\tlearn: 0.0043622\ttotal: 3m 19s\tremaining: 1m 52s\n",
      "766:\tlearn: 0.0043585\ttotal: 3m 19s\tremaining: 1m 52s\n",
      "767:\tlearn: 0.0043537\ttotal: 3m 19s\tremaining: 1m 52s\n",
      "768:\tlearn: 0.0043483\ttotal: 3m 20s\tremaining: 1m 52s\n",
      "769:\tlearn: 0.0043454\ttotal: 3m 20s\tremaining: 1m 51s\n",
      "770:\tlearn: 0.0043432\ttotal: 3m 20s\tremaining: 1m 51s\n",
      "771:\tlearn: 0.0043388\ttotal: 3m 20s\tremaining: 1m 51s\n",
      "772:\tlearn: 0.0043361\ttotal: 3m 21s\tremaining: 1m 51s\n"
     ]
    },
    {
     "name": "stdout",
     "output_type": "stream",
     "text": [
      "773:\tlearn: 0.0043340\ttotal: 3m 21s\tremaining: 1m 50s\n",
      "774:\tlearn: 0.0043306\ttotal: 3m 21s\tremaining: 1m 50s\n",
      "775:\tlearn: 0.0043265\ttotal: 3m 21s\tremaining: 1m 50s\n",
      "776:\tlearn: 0.0043228\ttotal: 3m 22s\tremaining: 1m 50s\n",
      "777:\tlearn: 0.0043151\ttotal: 3m 22s\tremaining: 1m 49s\n",
      "778:\tlearn: 0.0043114\ttotal: 3m 22s\tremaining: 1m 49s\n",
      "779:\tlearn: 0.0043035\ttotal: 3m 23s\tremaining: 1m 49s\n",
      "780:\tlearn: 0.0042966\ttotal: 3m 23s\tremaining: 1m 49s\n",
      "781:\tlearn: 0.0042906\ttotal: 3m 23s\tremaining: 1m 48s\n",
      "782:\tlearn: 0.0042843\ttotal: 3m 23s\tremaining: 1m 48s\n",
      "783:\tlearn: 0.0042822\ttotal: 3m 24s\tremaining: 1m 48s\n",
      "784:\tlearn: 0.0042791\ttotal: 3m 24s\tremaining: 1m 47s\n",
      "785:\tlearn: 0.0042682\ttotal: 3m 24s\tremaining: 1m 47s\n",
      "786:\tlearn: 0.0042620\ttotal: 3m 24s\tremaining: 1m 47s\n",
      "787:\tlearn: 0.0042554\ttotal: 3m 25s\tremaining: 1m 47s\n",
      "788:\tlearn: 0.0042450\ttotal: 3m 25s\tremaining: 1m 47s\n",
      "789:\tlearn: 0.0042357\ttotal: 3m 25s\tremaining: 1m 46s\n",
      "790:\tlearn: 0.0042290\ttotal: 3m 25s\tremaining: 1m 46s\n",
      "791:\tlearn: 0.0042253\ttotal: 3m 26s\tremaining: 1m 46s\n",
      "792:\tlearn: 0.0042200\ttotal: 3m 26s\tremaining: 1m 45s\n",
      "793:\tlearn: 0.0042160\ttotal: 3m 26s\tremaining: 1m 45s\n",
      "794:\tlearn: 0.0042090\ttotal: 3m 27s\tremaining: 1m 45s\n",
      "795:\tlearn: 0.0041995\ttotal: 3m 27s\tremaining: 1m 45s\n",
      "796:\tlearn: 0.0041910\ttotal: 3m 27s\tremaining: 1m 44s\n",
      "797:\tlearn: 0.0041811\ttotal: 3m 27s\tremaining: 1m 44s\n",
      "798:\tlearn: 0.0041750\ttotal: 3m 28s\tremaining: 1m 44s\n",
      "799:\tlearn: 0.0041675\ttotal: 3m 28s\tremaining: 1m 44s\n",
      "800:\tlearn: 0.0041633\ttotal: 3m 28s\tremaining: 1m 43s\n",
      "801:\tlearn: 0.0041516\ttotal: 3m 28s\tremaining: 1m 43s\n",
      "802:\tlearn: 0.0041387\ttotal: 3m 29s\tremaining: 1m 43s\n",
      "803:\tlearn: 0.0041339\ttotal: 3m 29s\tremaining: 1m 43s\n",
      "804:\tlearn: 0.0041288\ttotal: 3m 29s\tremaining: 1m 42s\n",
      "805:\tlearn: 0.0041233\ttotal: 3m 29s\tremaining: 1m 42s\n",
      "806:\tlearn: 0.0041204\ttotal: 3m 29s\tremaining: 1m 42s\n",
      "807:\tlearn: 0.0041135\ttotal: 3m 30s\tremaining: 1m 41s\n",
      "808:\tlearn: 0.0041066\ttotal: 3m 30s\tremaining: 1m 41s\n",
      "809:\tlearn: 0.0041025\ttotal: 3m 30s\tremaining: 1m 41s\n",
      "810:\tlearn: 0.0040965\ttotal: 3m 30s\tremaining: 1m 41s\n",
      "811:\tlearn: 0.0040893\ttotal: 3m 30s\tremaining: 1m 40s\n",
      "812:\tlearn: 0.0040865\ttotal: 3m 31s\tremaining: 1m 40s\n",
      "813:\tlearn: 0.0040820\ttotal: 3m 31s\tremaining: 1m 40s\n",
      "814:\tlearn: 0.0040719\ttotal: 3m 31s\tremaining: 1m 39s\n",
      "815:\tlearn: 0.0040668\ttotal: 3m 31s\tremaining: 1m 39s\n",
      "816:\tlearn: 0.0040465\ttotal: 3m 32s\tremaining: 1m 39s\n",
      "817:\tlearn: 0.0040438\ttotal: 3m 32s\tremaining: 1m 39s\n",
      "818:\tlearn: 0.0040383\ttotal: 3m 32s\tremaining: 1m 38s\n",
      "819:\tlearn: 0.0040330\ttotal: 3m 32s\tremaining: 1m 38s\n",
      "820:\tlearn: 0.0040284\ttotal: 3m 32s\tremaining: 1m 38s\n",
      "821:\tlearn: 0.0040213\ttotal: 3m 33s\tremaining: 1m 38s\n",
      "822:\tlearn: 0.0040173\ttotal: 3m 33s\tremaining: 1m 37s\n",
      "823:\tlearn: 0.0040093\ttotal: 3m 33s\tremaining: 1m 37s\n",
      "824:\tlearn: 0.0040020\ttotal: 3m 33s\tremaining: 1m 37s\n",
      "825:\tlearn: 0.0039995\ttotal: 3m 34s\tremaining: 1m 36s\n",
      "826:\tlearn: 0.0039896\ttotal: 3m 34s\tremaining: 1m 36s\n",
      "827:\tlearn: 0.0039837\ttotal: 3m 34s\tremaining: 1m 36s\n",
      "828:\tlearn: 0.0039748\ttotal: 3m 34s\tremaining: 1m 36s\n",
      "829:\tlearn: 0.0039697\ttotal: 3m 35s\tremaining: 1m 35s\n",
      "830:\tlearn: 0.0039640\ttotal: 3m 35s\tremaining: 1m 35s\n",
      "831:\tlearn: 0.0039611\ttotal: 3m 35s\tremaining: 1m 35s\n",
      "832:\tlearn: 0.0039562\ttotal: 3m 35s\tremaining: 1m 35s\n",
      "833:\tlearn: 0.0039536\ttotal: 3m 36s\tremaining: 1m 34s\n",
      "834:\tlearn: 0.0039513\ttotal: 3m 36s\tremaining: 1m 34s\n",
      "835:\tlearn: 0.0039471\ttotal: 3m 36s\tremaining: 1m 34s\n",
      "836:\tlearn: 0.0039437\ttotal: 3m 36s\tremaining: 1m 34s\n",
      "837:\tlearn: 0.0039408\ttotal: 3m 37s\tremaining: 1m 33s\n",
      "838:\tlearn: 0.0039331\ttotal: 3m 37s\tremaining: 1m 33s\n",
      "839:\tlearn: 0.0039257\ttotal: 3m 37s\tremaining: 1m 33s\n",
      "840:\tlearn: 0.0039205\ttotal: 3m 37s\tremaining: 1m 33s\n",
      "841:\tlearn: 0.0039167\ttotal: 3m 38s\tremaining: 1m 32s\n",
      "842:\tlearn: 0.0039078\ttotal: 3m 38s\tremaining: 1m 32s\n",
      "843:\tlearn: 0.0039044\ttotal: 3m 38s\tremaining: 1m 32s\n",
      "844:\tlearn: 0.0038956\ttotal: 3m 39s\tremaining: 1m 32s\n",
      "845:\tlearn: 0.0038940\ttotal: 3m 39s\tremaining: 1m 31s\n",
      "846:\tlearn: 0.0038881\ttotal: 3m 39s\tremaining: 1m 31s\n",
      "847:\tlearn: 0.0038843\ttotal: 3m 39s\tremaining: 1m 31s\n",
      "848:\tlearn: 0.0038829\ttotal: 3m 40s\tremaining: 1m 30s\n",
      "849:\tlearn: 0.0038806\ttotal: 3m 40s\tremaining: 1m 30s\n",
      "850:\tlearn: 0.0038783\ttotal: 3m 40s\tremaining: 1m 30s\n",
      "851:\tlearn: 0.0038730\ttotal: 3m 40s\tremaining: 1m 30s\n",
      "852:\tlearn: 0.0038700\ttotal: 3m 41s\tremaining: 1m 29s\n",
      "853:\tlearn: 0.0038611\ttotal: 3m 41s\tremaining: 1m 29s\n",
      "854:\tlearn: 0.0038501\ttotal: 3m 41s\tremaining: 1m 29s\n",
      "855:\tlearn: 0.0038363\ttotal: 3m 41s\tremaining: 1m 29s\n",
      "856:\tlearn: 0.0038212\ttotal: 3m 42s\tremaining: 1m 28s\n",
      "857:\tlearn: 0.0038165\ttotal: 3m 42s\tremaining: 1m 28s\n",
      "858:\tlearn: 0.0038102\ttotal: 3m 42s\tremaining: 1m 28s\n",
      "859:\tlearn: 0.0038078\ttotal: 3m 42s\tremaining: 1m 28s\n",
      "860:\tlearn: 0.0038026\ttotal: 3m 43s\tremaining: 1m 27s\n",
      "861:\tlearn: 0.0037980\ttotal: 3m 43s\tremaining: 1m 27s\n",
      "862:\tlearn: 0.0037953\ttotal: 3m 43s\tremaining: 1m 27s\n",
      "863:\tlearn: 0.0037919\ttotal: 3m 43s\tremaining: 1m 27s\n",
      "864:\tlearn: 0.0037862\ttotal: 3m 44s\tremaining: 1m 26s\n",
      "865:\tlearn: 0.0037786\ttotal: 3m 44s\tremaining: 1m 26s\n",
      "866:\tlearn: 0.0037766\ttotal: 3m 44s\tremaining: 1m 26s\n",
      "867:\tlearn: 0.0037737\ttotal: 3m 44s\tremaining: 1m 26s\n",
      "868:\tlearn: 0.0037675\ttotal: 3m 45s\tremaining: 1m 25s\n",
      "869:\tlearn: 0.0037649\ttotal: 3m 45s\tremaining: 1m 25s\n",
      "870:\tlearn: 0.0037584\ttotal: 3m 45s\tremaining: 1m 25s\n",
      "871:\tlearn: 0.0037537\ttotal: 3m 45s\tremaining: 1m 24s\n",
      "872:\tlearn: 0.0037496\ttotal: 3m 46s\tremaining: 1m 24s\n",
      "873:\tlearn: 0.0037445\ttotal: 3m 46s\tremaining: 1m 24s\n",
      "874:\tlearn: 0.0037404\ttotal: 3m 46s\tremaining: 1m 24s\n",
      "875:\tlearn: 0.0037341\ttotal: 3m 46s\tremaining: 1m 23s\n",
      "876:\tlearn: 0.0037293\ttotal: 3m 46s\tremaining: 1m 23s\n",
      "877:\tlearn: 0.0037256\ttotal: 3m 47s\tremaining: 1m 23s\n",
      "878:\tlearn: 0.0037181\ttotal: 3m 47s\tremaining: 1m 23s\n",
      "879:\tlearn: 0.0037074\ttotal: 3m 47s\tremaining: 1m 22s\n",
      "880:\tlearn: 0.0036991\ttotal: 3m 47s\tremaining: 1m 22s\n",
      "881:\tlearn: 0.0036884\ttotal: 3m 48s\tremaining: 1m 22s\n",
      "882:\tlearn: 0.0036828\ttotal: 3m 48s\tremaining: 1m 21s\n",
      "883:\tlearn: 0.0036790\ttotal: 3m 48s\tremaining: 1m 21s\n",
      "884:\tlearn: 0.0036751\ttotal: 3m 48s\tremaining: 1m 21s\n",
      "885:\tlearn: 0.0036730\ttotal: 3m 48s\tremaining: 1m 21s\n",
      "886:\tlearn: 0.0036709\ttotal: 3m 49s\tremaining: 1m 20s\n",
      "887:\tlearn: 0.0036688\ttotal: 3m 49s\tremaining: 1m 20s\n",
      "888:\tlearn: 0.0036663\ttotal: 3m 49s\tremaining: 1m 20s\n",
      "889:\tlearn: 0.0036636\ttotal: 3m 49s\tremaining: 1m 20s\n",
      "890:\tlearn: 0.0036529\ttotal: 3m 49s\tremaining: 1m 19s\n",
      "891:\tlearn: 0.0036452\ttotal: 3m 50s\tremaining: 1m 19s\n",
      "892:\tlearn: 0.0036410\ttotal: 3m 50s\tremaining: 1m 19s\n",
      "893:\tlearn: 0.0036346\ttotal: 3m 50s\tremaining: 1m 18s\n",
      "894:\tlearn: 0.0036287\ttotal: 3m 51s\tremaining: 1m 18s\n",
      "895:\tlearn: 0.0036253\ttotal: 3m 51s\tremaining: 1m 18s\n",
      "896:\tlearn: 0.0036179\ttotal: 3m 51s\tremaining: 1m 18s\n",
      "897:\tlearn: 0.0036130\ttotal: 3m 51s\tremaining: 1m 17s\n",
      "898:\tlearn: 0.0036099\ttotal: 3m 52s\tremaining: 1m 17s\n",
      "899:\tlearn: 0.0035994\ttotal: 3m 52s\tremaining: 1m 17s\n",
      "900:\tlearn: 0.0035904\ttotal: 3m 52s\tremaining: 1m 17s\n",
      "901:\tlearn: 0.0035866\ttotal: 3m 52s\tremaining: 1m 16s\n",
      "902:\tlearn: 0.0035838\ttotal: 3m 53s\tremaining: 1m 16s\n",
      "903:\tlearn: 0.0035780\ttotal: 3m 53s\tremaining: 1m 16s\n",
      "904:\tlearn: 0.0035752\ttotal: 3m 53s\tremaining: 1m 16s\n",
      "905:\tlearn: 0.0035701\ttotal: 3m 54s\tremaining: 1m 15s\n",
      "906:\tlearn: 0.0035632\ttotal: 3m 54s\tremaining: 1m 15s\n",
      "907:\tlearn: 0.0035587\ttotal: 3m 54s\tremaining: 1m 15s\n",
      "908:\tlearn: 0.0035547\ttotal: 3m 54s\tremaining: 1m 15s\n",
      "909:\tlearn: 0.0035527\ttotal: 3m 55s\tremaining: 1m 14s\n",
      "910:\tlearn: 0.0035490\ttotal: 3m 55s\tremaining: 1m 14s\n",
      "911:\tlearn: 0.0035436\ttotal: 3m 55s\tremaining: 1m 14s\n",
      "912:\tlearn: 0.0035421\ttotal: 3m 55s\tremaining: 1m 14s\n",
      "913:\tlearn: 0.0035403\ttotal: 3m 56s\tremaining: 1m 13s\n",
      "914:\tlearn: 0.0035382\ttotal: 3m 56s\tremaining: 1m 13s\n",
      "915:\tlearn: 0.0035353\ttotal: 3m 56s\tremaining: 1m 13s\n",
      "916:\tlearn: 0.0035331\ttotal: 3m 57s\tremaining: 1m 13s\n",
      "917:\tlearn: 0.0035278\ttotal: 3m 57s\tremaining: 1m 12s\n",
      "918:\tlearn: 0.0035238\ttotal: 3m 57s\tremaining: 1m 12s\n",
      "919:\tlearn: 0.0035215\ttotal: 3m 57s\tremaining: 1m 12s\n",
      "920:\tlearn: 0.0035167\ttotal: 3m 58s\tremaining: 1m 12s\n",
      "921:\tlearn: 0.0035114\ttotal: 3m 58s\tremaining: 1m 11s\n",
      "922:\tlearn: 0.0035068\ttotal: 3m 58s\tremaining: 1m 11s\n",
      "923:\tlearn: 0.0035007\ttotal: 3m 58s\tremaining: 1m 11s\n",
      "924:\tlearn: 0.0034987\ttotal: 3m 59s\tremaining: 1m 11s\n"
     ]
    },
    {
     "name": "stdout",
     "output_type": "stream",
     "text": [
      "925:\tlearn: 0.0034918\ttotal: 3m 59s\tremaining: 1m 10s\n",
      "926:\tlearn: 0.0034877\ttotal: 3m 59s\tremaining: 1m 10s\n",
      "927:\tlearn: 0.0034825\ttotal: 3m 59s\tremaining: 1m 10s\n",
      "928:\tlearn: 0.0034803\ttotal: 4m\tremaining: 1m 10s\n",
      "929:\tlearn: 0.0034760\ttotal: 4m\tremaining: 1m 9s\n",
      "930:\tlearn: 0.0034659\ttotal: 4m\tremaining: 1m 9s\n",
      "931:\tlearn: 0.0034591\ttotal: 4m\tremaining: 1m 9s\n",
      "932:\tlearn: 0.0034554\ttotal: 4m 1s\tremaining: 1m 9s\n",
      "933:\tlearn: 0.0034537\ttotal: 4m 1s\tremaining: 1m 8s\n",
      "934:\tlearn: 0.0034488\ttotal: 4m 1s\tremaining: 1m 8s\n",
      "935:\tlearn: 0.0034460\ttotal: 4m 1s\tremaining: 1m 8s\n",
      "936:\tlearn: 0.0034363\ttotal: 4m 2s\tremaining: 1m 7s\n",
      "937:\tlearn: 0.0034327\ttotal: 4m 2s\tremaining: 1m 7s\n",
      "938:\tlearn: 0.0034296\ttotal: 4m 2s\tremaining: 1m 7s\n",
      "939:\tlearn: 0.0034254\ttotal: 4m 2s\tremaining: 1m 7s\n",
      "940:\tlearn: 0.0034218\ttotal: 4m 2s\tremaining: 1m 6s\n",
      "941:\tlearn: 0.0034156\ttotal: 4m 3s\tremaining: 1m 6s\n",
      "942:\tlearn: 0.0034138\ttotal: 4m 3s\tremaining: 1m 6s\n",
      "943:\tlearn: 0.0034063\ttotal: 4m 3s\tremaining: 1m 6s\n",
      "944:\tlearn: 0.0034003\ttotal: 4m 3s\tremaining: 1m 5s\n",
      "945:\tlearn: 0.0033926\ttotal: 4m 4s\tremaining: 1m 5s\n",
      "946:\tlearn: 0.0033863\ttotal: 4m 4s\tremaining: 1m 5s\n",
      "947:\tlearn: 0.0033824\ttotal: 4m 4s\tremaining: 1m 4s\n",
      "948:\tlearn: 0.0033796\ttotal: 4m 4s\tremaining: 1m 4s\n",
      "949:\tlearn: 0.0033752\ttotal: 4m 4s\tremaining: 1m 4s\n",
      "950:\tlearn: 0.0033723\ttotal: 4m 5s\tremaining: 1m 4s\n",
      "951:\tlearn: 0.0033695\ttotal: 4m 5s\tremaining: 1m 3s\n",
      "952:\tlearn: 0.0033622\ttotal: 4m 5s\tremaining: 1m 3s\n",
      "953:\tlearn: 0.0033591\ttotal: 4m 5s\tremaining: 1m 3s\n",
      "954:\tlearn: 0.0033562\ttotal: 4m 6s\tremaining: 1m 3s\n",
      "955:\tlearn: 0.0033527\ttotal: 4m 6s\tremaining: 1m 2s\n",
      "956:\tlearn: 0.0033471\ttotal: 4m 6s\tremaining: 1m 2s\n",
      "957:\tlearn: 0.0033456\ttotal: 4m 6s\tremaining: 1m 2s\n",
      "958:\tlearn: 0.0033443\ttotal: 4m 7s\tremaining: 1m 2s\n",
      "959:\tlearn: 0.0033419\ttotal: 4m 7s\tremaining: 1m 1s\n",
      "960:\tlearn: 0.0033397\ttotal: 4m 7s\tremaining: 1m 1s\n",
      "961:\tlearn: 0.0033324\ttotal: 4m 7s\tremaining: 1m 1s\n",
      "962:\tlearn: 0.0033286\ttotal: 4m 8s\tremaining: 1m 1s\n",
      "963:\tlearn: 0.0033221\ttotal: 4m 8s\tremaining: 1m\n",
      "964:\tlearn: 0.0033176\ttotal: 4m 8s\tremaining: 1m\n",
      "965:\tlearn: 0.0033091\ttotal: 4m 9s\tremaining: 1m\n",
      "966:\tlearn: 0.0033064\ttotal: 4m 9s\tremaining: 1m\n",
      "967:\tlearn: 0.0033010\ttotal: 4m 9s\tremaining: 59.8s\n",
      "968:\tlearn: 0.0032951\ttotal: 4m 9s\tremaining: 59.6s\n",
      "969:\tlearn: 0.0032923\ttotal: 4m 10s\tremaining: 59.3s\n",
      "970:\tlearn: 0.0032906\ttotal: 4m 10s\tremaining: 59s\n",
      "971:\tlearn: 0.0032860\ttotal: 4m 10s\tremaining: 58.8s\n",
      "972:\tlearn: 0.0032826\ttotal: 4m 10s\tremaining: 58.5s\n",
      "973:\tlearn: 0.0032787\ttotal: 4m 11s\tremaining: 58.3s\n",
      "974:\tlearn: 0.0032752\ttotal: 4m 11s\tremaining: 58s\n",
      "975:\tlearn: 0.0032707\ttotal: 4m 11s\tremaining: 57.8s\n",
      "976:\tlearn: 0.0032682\ttotal: 4m 11s\tremaining: 57.5s\n",
      "977:\tlearn: 0.0032666\ttotal: 4m 12s\tremaining: 57.3s\n",
      "978:\tlearn: 0.0032640\ttotal: 4m 12s\tremaining: 57s\n",
      "979:\tlearn: 0.0032602\ttotal: 4m 12s\tremaining: 56.7s\n",
      "980:\tlearn: 0.0032563\ttotal: 4m 13s\tremaining: 56.5s\n",
      "981:\tlearn: 0.0032543\ttotal: 4m 13s\tremaining: 56.2s\n",
      "982:\tlearn: 0.0032524\ttotal: 4m 13s\tremaining: 56s\n",
      "983:\tlearn: 0.0032506\ttotal: 4m 13s\tremaining: 55.7s\n",
      "984:\tlearn: 0.0032440\ttotal: 4m 14s\tremaining: 55.5s\n",
      "985:\tlearn: 0.0032399\ttotal: 4m 14s\tremaining: 55.2s\n",
      "986:\tlearn: 0.0032380\ttotal: 4m 14s\tremaining: 55s\n",
      "987:\tlearn: 0.0032310\ttotal: 4m 14s\tremaining: 54.7s\n",
      "988:\tlearn: 0.0032254\ttotal: 4m 15s\tremaining: 54.4s\n",
      "989:\tlearn: 0.0032233\ttotal: 4m 15s\tremaining: 54.2s\n",
      "990:\tlearn: 0.0032191\ttotal: 4m 15s\tremaining: 53.9s\n",
      "991:\tlearn: 0.0032159\ttotal: 4m 15s\tremaining: 53.7s\n",
      "992:\tlearn: 0.0032102\ttotal: 4m 16s\tremaining: 53.4s\n",
      "993:\tlearn: 0.0032080\ttotal: 4m 16s\tremaining: 53.2s\n",
      "994:\tlearn: 0.0032046\ttotal: 4m 16s\tremaining: 52.9s\n",
      "995:\tlearn: 0.0031999\ttotal: 4m 16s\tremaining: 52.6s\n",
      "996:\tlearn: 0.0031937\ttotal: 4m 17s\tremaining: 52.4s\n",
      "997:\tlearn: 0.0031893\ttotal: 4m 17s\tremaining: 52.1s\n",
      "998:\tlearn: 0.0031867\ttotal: 4m 17s\tremaining: 51.8s\n",
      "999:\tlearn: 0.0031855\ttotal: 4m 17s\tremaining: 51.6s\n",
      "1000:\tlearn: 0.0031842\ttotal: 4m 18s\tremaining: 51.3s\n",
      "1001:\tlearn: 0.0031780\ttotal: 4m 18s\tremaining: 51s\n",
      "1002:\tlearn: 0.0031749\ttotal: 4m 18s\tremaining: 50.8s\n",
      "1003:\tlearn: 0.0031708\ttotal: 4m 18s\tremaining: 50.5s\n",
      "1004:\tlearn: 0.0031692\ttotal: 4m 18s\tremaining: 50.2s\n",
      "1005:\tlearn: 0.0031667\ttotal: 4m 19s\tremaining: 50s\n",
      "1006:\tlearn: 0.0031618\ttotal: 4m 19s\tremaining: 49.7s\n",
      "1007:\tlearn: 0.0031581\ttotal: 4m 19s\tremaining: 49.5s\n",
      "1008:\tlearn: 0.0031561\ttotal: 4m 19s\tremaining: 49.2s\n",
      "1009:\tlearn: 0.0031546\ttotal: 4m 20s\tremaining: 48.9s\n",
      "1010:\tlearn: 0.0031521\ttotal: 4m 20s\tremaining: 48.7s\n",
      "1011:\tlearn: 0.0031476\ttotal: 4m 20s\tremaining: 48.4s\n",
      "1012:\tlearn: 0.0031461\ttotal: 4m 20s\tremaining: 48.2s\n",
      "1013:\tlearn: 0.0031441\ttotal: 4m 21s\tremaining: 47.9s\n",
      "1014:\tlearn: 0.0031374\ttotal: 4m 21s\tremaining: 47.6s\n",
      "1015:\tlearn: 0.0031327\ttotal: 4m 21s\tremaining: 47.4s\n",
      "1016:\tlearn: 0.0031296\ttotal: 4m 21s\tremaining: 47.1s\n",
      "1017:\tlearn: 0.0031250\ttotal: 4m 21s\tremaining: 46.8s\n",
      "1018:\tlearn: 0.0031220\ttotal: 4m 22s\tremaining: 46.6s\n",
      "1019:\tlearn: 0.0031198\ttotal: 4m 22s\tremaining: 46.3s\n",
      "1020:\tlearn: 0.0031161\ttotal: 4m 22s\tremaining: 46.1s\n",
      "1021:\tlearn: 0.0031142\ttotal: 4m 23s\tremaining: 45.8s\n",
      "1022:\tlearn: 0.0031112\ttotal: 4m 23s\tremaining: 45.6s\n",
      "1023:\tlearn: 0.0031042\ttotal: 4m 23s\tremaining: 45.3s\n",
      "1024:\tlearn: 0.0031007\ttotal: 4m 23s\tremaining: 45.1s\n",
      "1025:\tlearn: 0.0030976\ttotal: 4m 24s\tremaining: 44.8s\n",
      "1026:\tlearn: 0.0030935\ttotal: 4m 24s\tremaining: 44.5s\n",
      "1027:\tlearn: 0.0030917\ttotal: 4m 24s\tremaining: 44.3s\n",
      "1028:\tlearn: 0.0030884\ttotal: 4m 24s\tremaining: 44s\n",
      "1029:\tlearn: 0.0030865\ttotal: 4m 25s\tremaining: 43.8s\n",
      "1030:\tlearn: 0.0030854\ttotal: 4m 25s\tremaining: 43.5s\n",
      "1031:\tlearn: 0.0030828\ttotal: 4m 25s\tremaining: 43.3s\n",
      "1032:\tlearn: 0.0030805\ttotal: 4m 25s\tremaining: 43s\n",
      "1033:\tlearn: 0.0030779\ttotal: 4m 26s\tremaining: 42.7s\n",
      "1034:\tlearn: 0.0030758\ttotal: 4m 26s\tremaining: 42.5s\n",
      "1035:\tlearn: 0.0030740\ttotal: 4m 26s\tremaining: 42.2s\n",
      "1036:\tlearn: 0.0030713\ttotal: 4m 27s\tremaining: 42s\n",
      "1037:\tlearn: 0.0030677\ttotal: 4m 27s\tremaining: 41.7s\n",
      "1038:\tlearn: 0.0030632\ttotal: 4m 27s\tremaining: 41.5s\n",
      "1039:\tlearn: 0.0030616\ttotal: 4m 27s\tremaining: 41.2s\n",
      "1040:\tlearn: 0.0030568\ttotal: 4m 28s\tremaining: 40.9s\n",
      "1041:\tlearn: 0.0030446\ttotal: 4m 28s\tremaining: 40.7s\n",
      "1042:\tlearn: 0.0030388\ttotal: 4m 28s\tremaining: 40.4s\n",
      "1043:\tlearn: 0.0030352\ttotal: 4m 28s\tremaining: 40.2s\n",
      "1044:\tlearn: 0.0030330\ttotal: 4m 29s\tremaining: 39.9s\n",
      "1045:\tlearn: 0.0030267\ttotal: 4m 29s\tremaining: 39.7s\n",
      "1046:\tlearn: 0.0030237\ttotal: 4m 29s\tremaining: 39.4s\n",
      "1047:\tlearn: 0.0030203\ttotal: 4m 30s\tremaining: 39.2s\n",
      "1048:\tlearn: 0.0030191\ttotal: 4m 30s\tremaining: 38.9s\n",
      "1049:\tlearn: 0.0030173\ttotal: 4m 30s\tremaining: 38.6s\n",
      "1050:\tlearn: 0.0030131\ttotal: 4m 30s\tremaining: 38.4s\n",
      "1051:\tlearn: 0.0030080\ttotal: 4m 31s\tremaining: 38.1s\n",
      "1052:\tlearn: 0.0030061\ttotal: 4m 31s\tremaining: 37.9s\n",
      "1053:\tlearn: 0.0030036\ttotal: 4m 31s\tremaining: 37.6s\n",
      "1054:\tlearn: 0.0029990\ttotal: 4m 31s\tremaining: 37.4s\n",
      "1055:\tlearn: 0.0029963\ttotal: 4m 32s\tremaining: 37.1s\n",
      "1056:\tlearn: 0.0029918\ttotal: 4m 32s\tremaining: 36.9s\n",
      "1057:\tlearn: 0.0029877\ttotal: 4m 32s\tremaining: 36.6s\n",
      "1058:\tlearn: 0.0029861\ttotal: 4m 32s\tremaining: 36.3s\n",
      "1059:\tlearn: 0.0029826\ttotal: 4m 33s\tremaining: 36.1s\n",
      "1060:\tlearn: 0.0029803\ttotal: 4m 33s\tremaining: 35.8s\n",
      "1061:\tlearn: 0.0029769\ttotal: 4m 33s\tremaining: 35.5s\n",
      "1062:\tlearn: 0.0029747\ttotal: 4m 33s\tremaining: 35.3s\n",
      "1063:\tlearn: 0.0029709\ttotal: 4m 34s\tremaining: 35s\n",
      "1064:\tlearn: 0.0029665\ttotal: 4m 34s\tremaining: 34.8s\n",
      "1065:\tlearn: 0.0029629\ttotal: 4m 34s\tremaining: 34.5s\n",
      "1066:\tlearn: 0.0029616\ttotal: 4m 34s\tremaining: 34.3s\n",
      "1067:\tlearn: 0.0029605\ttotal: 4m 35s\tremaining: 34s\n",
      "1068:\tlearn: 0.0029580\ttotal: 4m 35s\tremaining: 33.7s\n",
      "1069:\tlearn: 0.0029557\ttotal: 4m 35s\tremaining: 33.5s\n",
      "1070:\tlearn: 0.0029530\ttotal: 4m 35s\tremaining: 33.2s\n",
      "1071:\tlearn: 0.0029520\ttotal: 4m 35s\tremaining: 32.9s\n",
      "1072:\tlearn: 0.0029485\ttotal: 4m 36s\tremaining: 32.7s\n",
      "1073:\tlearn: 0.0029458\ttotal: 4m 36s\tremaining: 32.4s\n",
      "1074:\tlearn: 0.0029413\ttotal: 4m 36s\tremaining: 32.2s\n",
      "1075:\tlearn: 0.0029396\ttotal: 4m 36s\tremaining: 31.9s\n",
      "1076:\tlearn: 0.0029339\ttotal: 4m 37s\tremaining: 31.6s\n",
      "1077:\tlearn: 0.0029303\ttotal: 4m 37s\tremaining: 31.4s\n",
      "1078:\tlearn: 0.0029267\ttotal: 4m 37s\tremaining: 31.1s\n",
      "1079:\tlearn: 0.0029257\ttotal: 4m 37s\tremaining: 30.9s\n"
     ]
    },
    {
     "name": "stdout",
     "output_type": "stream",
     "text": [
      "1080:\tlearn: 0.0029226\ttotal: 4m 38s\tremaining: 30.6s\n",
      "1081:\tlearn: 0.0029210\ttotal: 4m 38s\tremaining: 30.4s\n",
      "1082:\tlearn: 0.0029192\ttotal: 4m 38s\tremaining: 30.1s\n",
      "1083:\tlearn: 0.0029180\ttotal: 4m 38s\tremaining: 29.8s\n",
      "1084:\tlearn: 0.0029166\ttotal: 4m 39s\tremaining: 29.6s\n",
      "1085:\tlearn: 0.0029144\ttotal: 4m 39s\tremaining: 29.3s\n",
      "1086:\tlearn: 0.0029109\ttotal: 4m 39s\tremaining: 29.1s\n",
      "1087:\tlearn: 0.0029048\ttotal: 4m 39s\tremaining: 28.8s\n",
      "1088:\tlearn: 0.0029029\ttotal: 4m 40s\tremaining: 28.6s\n",
      "1089:\tlearn: 0.0028987\ttotal: 4m 40s\tremaining: 28.3s\n",
      "1090:\tlearn: 0.0028931\ttotal: 4m 40s\tremaining: 28s\n",
      "1091:\tlearn: 0.0028911\ttotal: 4m 40s\tremaining: 27.8s\n",
      "1092:\tlearn: 0.0028877\ttotal: 4m 41s\tremaining: 27.5s\n",
      "1093:\tlearn: 0.0028862\ttotal: 4m 41s\tremaining: 27.3s\n",
      "1094:\tlearn: 0.0028844\ttotal: 4m 41s\tremaining: 27s\n",
      "1095:\tlearn: 0.0028820\ttotal: 4m 42s\tremaining: 26.8s\n",
      "1096:\tlearn: 0.0028794\ttotal: 4m 42s\tremaining: 26.5s\n",
      "1097:\tlearn: 0.0028773\ttotal: 4m 42s\tremaining: 26.2s\n",
      "1098:\tlearn: 0.0028757\ttotal: 4m 42s\tremaining: 26s\n",
      "1099:\tlearn: 0.0028734\ttotal: 4m 43s\tremaining: 25.7s\n",
      "1100:\tlearn: 0.0028676\ttotal: 4m 43s\tremaining: 25.5s\n",
      "1101:\tlearn: 0.0028628\ttotal: 4m 43s\tremaining: 25.2s\n",
      "1102:\tlearn: 0.0028573\ttotal: 4m 44s\tremaining: 25s\n",
      "1103:\tlearn: 0.0028542\ttotal: 4m 44s\tremaining: 24.7s\n",
      "1104:\tlearn: 0.0028530\ttotal: 4m 44s\tremaining: 24.5s\n",
      "1105:\tlearn: 0.0028503\ttotal: 4m 44s\tremaining: 24.2s\n",
      "1106:\tlearn: 0.0028465\ttotal: 4m 45s\tremaining: 24s\n",
      "1107:\tlearn: 0.0028425\ttotal: 4m 45s\tremaining: 23.7s\n",
      "1108:\tlearn: 0.0028405\ttotal: 4m 45s\tremaining: 23.5s\n",
      "1109:\tlearn: 0.0028377\ttotal: 4m 46s\tremaining: 23.2s\n",
      "1110:\tlearn: 0.0028356\ttotal: 4m 46s\tremaining: 22.9s\n",
      "1111:\tlearn: 0.0028309\ttotal: 4m 46s\tremaining: 22.7s\n",
      "1112:\tlearn: 0.0028274\ttotal: 4m 47s\tremaining: 22.4s\n",
      "1113:\tlearn: 0.0028208\ttotal: 4m 47s\tremaining: 22.2s\n",
      "1114:\tlearn: 0.0028196\ttotal: 4m 47s\tremaining: 21.9s\n",
      "1115:\tlearn: 0.0028178\ttotal: 4m 48s\tremaining: 21.7s\n",
      "1116:\tlearn: 0.0028160\ttotal: 4m 48s\tremaining: 21.4s\n",
      "1117:\tlearn: 0.0028147\ttotal: 4m 48s\tremaining: 21.2s\n",
      "1118:\tlearn: 0.0028130\ttotal: 4m 48s\tremaining: 20.9s\n",
      "1119:\tlearn: 0.0028067\ttotal: 4m 49s\tremaining: 20.6s\n",
      "1120:\tlearn: 0.0028049\ttotal: 4m 49s\tremaining: 20.4s\n",
      "1121:\tlearn: 0.0028020\ttotal: 4m 49s\tremaining: 20.1s\n",
      "1122:\tlearn: 0.0027963\ttotal: 4m 49s\tremaining: 19.9s\n",
      "1123:\tlearn: 0.0027911\ttotal: 4m 50s\tremaining: 19.6s\n",
      "1124:\tlearn: 0.0027856\ttotal: 4m 50s\tremaining: 19.4s\n",
      "1125:\tlearn: 0.0027822\ttotal: 4m 50s\tremaining: 19.1s\n",
      "1126:\tlearn: 0.0027796\ttotal: 4m 50s\tremaining: 18.8s\n",
      "1127:\tlearn: 0.0027770\ttotal: 4m 50s\tremaining: 18.6s\n",
      "1128:\tlearn: 0.0027751\ttotal: 4m 51s\tremaining: 18.3s\n",
      "1129:\tlearn: 0.0027737\ttotal: 4m 51s\tremaining: 18.1s\n",
      "1130:\tlearn: 0.0027703\ttotal: 4m 51s\tremaining: 17.8s\n",
      "1131:\tlearn: 0.0027690\ttotal: 4m 51s\tremaining: 17.5s\n",
      "1132:\tlearn: 0.0027632\ttotal: 4m 52s\tremaining: 17.3s\n",
      "1133:\tlearn: 0.0027603\ttotal: 4m 52s\tremaining: 17s\n",
      "1134:\tlearn: 0.0027580\ttotal: 4m 52s\tremaining: 16.8s\n",
      "1135:\tlearn: 0.0027560\ttotal: 4m 52s\tremaining: 16.5s\n",
      "1136:\tlearn: 0.0027534\ttotal: 4m 52s\tremaining: 16.2s\n",
      "1137:\tlearn: 0.0027469\ttotal: 4m 53s\tremaining: 16s\n",
      "1138:\tlearn: 0.0027435\ttotal: 4m 53s\tremaining: 15.7s\n",
      "1139:\tlearn: 0.0027402\ttotal: 4m 53s\tremaining: 15.5s\n",
      "1140:\tlearn: 0.0027365\ttotal: 4m 53s\tremaining: 15.2s\n",
      "1141:\tlearn: 0.0027356\ttotal: 4m 54s\tremaining: 14.9s\n",
      "1142:\tlearn: 0.0027326\ttotal: 4m 54s\tremaining: 14.7s\n",
      "1143:\tlearn: 0.0027308\ttotal: 4m 54s\tremaining: 14.4s\n",
      "1144:\tlearn: 0.0027273\ttotal: 4m 54s\tremaining: 14.2s\n",
      "1145:\tlearn: 0.0027257\ttotal: 4m 55s\tremaining: 13.9s\n",
      "1146:\tlearn: 0.0027249\ttotal: 4m 55s\tremaining: 13.7s\n",
      "1147:\tlearn: 0.0027224\ttotal: 4m 55s\tremaining: 13.4s\n",
      "1148:\tlearn: 0.0027207\ttotal: 4m 56s\tremaining: 13.1s\n",
      "1149:\tlearn: 0.0027196\ttotal: 4m 56s\tremaining: 12.9s\n",
      "1150:\tlearn: 0.0027185\ttotal: 4m 56s\tremaining: 12.6s\n",
      "1151:\tlearn: 0.0027169\ttotal: 4m 56s\tremaining: 12.4s\n",
      "1152:\tlearn: 0.0027143\ttotal: 4m 57s\tremaining: 12.1s\n",
      "1153:\tlearn: 0.0027067\ttotal: 4m 57s\tremaining: 11.9s\n",
      "1154:\tlearn: 0.0026992\ttotal: 4m 57s\tremaining: 11.6s\n",
      "1155:\tlearn: 0.0026966\ttotal: 4m 57s\tremaining: 11.3s\n",
      "1156:\tlearn: 0.0026953\ttotal: 4m 58s\tremaining: 11.1s\n",
      "1157:\tlearn: 0.0026932\ttotal: 4m 58s\tremaining: 10.8s\n",
      "1158:\tlearn: 0.0026898\ttotal: 4m 58s\tremaining: 10.6s\n",
      "1159:\tlearn: 0.0026886\ttotal: 4m 58s\tremaining: 10.3s\n",
      "1160:\tlearn: 0.0026875\ttotal: 4m 59s\tremaining: 10.1s\n",
      "1161:\tlearn: 0.0026858\ttotal: 4m 59s\tremaining: 9.79s\n",
      "1162:\tlearn: 0.0026825\ttotal: 4m 59s\tremaining: 9.54s\n",
      "1163:\tlearn: 0.0026796\ttotal: 5m\tremaining: 9.28s\n",
      "1164:\tlearn: 0.0026781\ttotal: 5m\tremaining: 9.02s\n",
      "1165:\tlearn: 0.0026761\ttotal: 5m\tremaining: 8.76s\n",
      "1166:\tlearn: 0.0026744\ttotal: 5m\tremaining: 8.51s\n",
      "1167:\tlearn: 0.0026724\ttotal: 5m 1s\tremaining: 8.25s\n",
      "1168:\tlearn: 0.0026710\ttotal: 5m 1s\tremaining: 7.99s\n",
      "1169:\tlearn: 0.0026688\ttotal: 5m 1s\tremaining: 7.73s\n",
      "1170:\tlearn: 0.0026674\ttotal: 5m 1s\tremaining: 7.47s\n",
      "1171:\tlearn: 0.0026620\ttotal: 5m 2s\tremaining: 7.22s\n",
      "1172:\tlearn: 0.0026573\ttotal: 5m 2s\tremaining: 6.96s\n",
      "1173:\tlearn: 0.0026553\ttotal: 5m 2s\tremaining: 6.7s\n",
      "1174:\tlearn: 0.0026526\ttotal: 5m 2s\tremaining: 6.45s\n",
      "1175:\tlearn: 0.0026485\ttotal: 5m 3s\tremaining: 6.19s\n",
      "1176:\tlearn: 0.0026465\ttotal: 5m 3s\tremaining: 5.93s\n",
      "1177:\tlearn: 0.0026447\ttotal: 5m 3s\tremaining: 5.67s\n",
      "1178:\tlearn: 0.0026396\ttotal: 5m 4s\tremaining: 5.42s\n",
      "1179:\tlearn: 0.0026367\ttotal: 5m 4s\tremaining: 5.16s\n",
      "1180:\tlearn: 0.0026342\ttotal: 5m 4s\tremaining: 4.9s\n",
      "1181:\tlearn: 0.0026299\ttotal: 5m 4s\tremaining: 4.64s\n",
      "1182:\tlearn: 0.0026252\ttotal: 5m 5s\tremaining: 4.38s\n",
      "1183:\tlearn: 0.0026227\ttotal: 5m 5s\tremaining: 4.13s\n",
      "1184:\tlearn: 0.0026208\ttotal: 5m 5s\tremaining: 3.87s\n",
      "1185:\tlearn: 0.0026193\ttotal: 5m 5s\tremaining: 3.61s\n",
      "1186:\tlearn: 0.0026151\ttotal: 5m 6s\tremaining: 3.35s\n",
      "1187:\tlearn: 0.0026135\ttotal: 5m 6s\tremaining: 3.09s\n",
      "1188:\tlearn: 0.0026116\ttotal: 5m 6s\tremaining: 2.83s\n",
      "1189:\tlearn: 0.0026090\ttotal: 5m 6s\tremaining: 2.58s\n",
      "1190:\tlearn: 0.0026042\ttotal: 5m 7s\tremaining: 2.32s\n",
      "1191:\tlearn: 0.0026026\ttotal: 5m 7s\tremaining: 2.06s\n",
      "1192:\tlearn: 0.0025984\ttotal: 5m 7s\tremaining: 1.81s\n",
      "1193:\tlearn: 0.0025971\ttotal: 5m 8s\tremaining: 1.55s\n",
      "1194:\tlearn: 0.0025955\ttotal: 5m 8s\tremaining: 1.29s\n",
      "1195:\tlearn: 0.0025924\ttotal: 5m 8s\tremaining: 1.03s\n",
      "1196:\tlearn: 0.0025903\ttotal: 5m 9s\tremaining: 775ms\n",
      "1197:\tlearn: 0.0025883\ttotal: 5m 9s\tremaining: 517ms\n",
      "1198:\tlearn: 0.0025869\ttotal: 5m 10s\tremaining: 259ms\n",
      "1199:\tlearn: 0.0025845\ttotal: 5m 10s\tremaining: 0us\n"
     ]
    },
    {
     "ename": "NameError",
     "evalue": "name 'scores_train' is not defined",
     "output_type": "error",
     "traceback": [
      "\u001b[1;31m---------------------------------------------------------------------------\u001b[0m",
      "\u001b[1;31mNameError\u001b[0m                                 Traceback (most recent call last)",
      "Input \u001b[1;32mIn [51]\u001b[0m, in \u001b[0;36m<cell line: 2>\u001b[1;34m()\u001b[0m\n\u001b[0;32m      1\u001b[0m cb\u001b[38;5;241m.\u001b[39mfit(x_train,y_train)\n\u001b[1;32m----> 2\u001b[0m \u001b[43mscores_train\u001b[49m\u001b[38;5;241m.\u001b[39mappend(cb\u001b[38;5;241m.\u001b[39mscore(x_train, y_train))\n\u001b[0;32m      3\u001b[0m scores_test\u001b[38;5;241m.\u001b[39mappend(cb\u001b[38;5;241m.\u001b[39mscore(x_test, y_test))\n",
      "\u001b[1;31mNameError\u001b[0m: name 'scores_train' is not defined"
     ]
    }
   ],
   "source": [
    "cb.fit(x_train,y_train)\n",
    "scores_train.append(cb.score(x_train, y_train))\n",
    "scores_test.append(cb.score(x_test, y_test))"
   ]
  },
  {
   "cell_type": "code",
   "execution_count": 52,
   "metadata": {},
   "outputs": [
    {
     "data": {
      "text/plain": [
       "0.9995418948103226"
      ]
     },
     "execution_count": 52,
     "metadata": {},
     "output_type": "execute_result"
    }
   ],
   "source": [
    "cb.score(x_train, y_train)"
   ]
  },
  {
   "cell_type": "code",
   "execution_count": 53,
   "metadata": {},
   "outputs": [
    {
     "data": {
      "text/plain": [
       "0.9948251582144251"
      ]
     },
     "execution_count": 53,
     "metadata": {},
     "output_type": "execute_result"
    }
   ],
   "source": [
    "cb.score(x_test, y_test)"
   ]
  },
  {
   "cell_type": "code",
   "execution_count": null,
   "metadata": {},
   "outputs": [],
   "source": []
  },
  {
   "cell_type": "markdown",
   "metadata": {},
   "source": [
    "**Model Evaluation**"
   ]
  },
  {
   "cell_type": "code",
   "execution_count": 108,
   "metadata": {},
   "outputs": [],
   "source": [
    "model=cb"
   ]
  },
  {
   "cell_type": "code",
   "execution_count": 109,
   "metadata": {},
   "outputs": [],
   "source": [
    "#predict Train/Test\n",
    "ytrain_predict = model.predict(x_train)\n",
    "ytest_predict = model.predict(x_test)"
   ]
  },
  {
   "cell_type": "code",
   "execution_count": 110,
   "metadata": {},
   "outputs": [],
   "source": [
    "#Predict Probobality\n",
    "ytest_predict_prob = model.predict_proba(x_test) "
   ]
  },
  {
   "cell_type": "code",
   "execution_count": 111,
   "metadata": {},
   "outputs": [
    {
     "data": {
      "text/plain": [
       "array([[9.99078217e-01, 9.21782605e-04],\n",
       "       [9.99999109e-01, 8.90782238e-07],\n",
       "       [9.99992439e-01, 7.56113820e-06],\n",
       "       ...,\n",
       "       [9.95052204e-01, 4.94779613e-03],\n",
       "       [9.99982276e-01, 1.77237889e-05],\n",
       "       [9.99662252e-01, 3.37747511e-04]])"
      ]
     },
     "execution_count": 111,
     "metadata": {},
     "output_type": "execute_result"
    }
   ],
   "source": [
    "ytest_predict_prob"
   ]
  },
  {
   "cell_type": "code",
   "execution_count": null,
   "metadata": {},
   "outputs": [],
   "source": []
  },
  {
   "cell_type": "code",
   "execution_count": null,
   "metadata": {},
   "outputs": [],
   "source": []
  },
  {
   "cell_type": "code",
   "execution_count": null,
   "metadata": {},
   "outputs": [],
   "source": []
  },
  {
   "cell_type": "markdown",
   "metadata": {},
   "source": [
    "**AUC/ROC,Classification Report for Training data** "
   ]
  },
  {
   "cell_type": "code",
   "execution_count": 112,
   "metadata": {},
   "outputs": [
    {
     "name": "stdout",
     "output_type": "stream",
     "text": [
      "AUC: 0.999\n"
     ]
    },
    {
     "data": {
      "image/png": "[encoded data removed]",
      "text/plain": [
       "<Figure size 432x288 with 1 Axes>"
      ]
     },
     "metadata": {
      "needs_background": "light"
     },
     "output_type": "display_data"
    }
   ],
   "source": [
    "# predict probabilities\n",
    "probs = model.predict_proba(x_train)\n",
    "# keep probabilities for the positive outcome only\n",
    "probs = probs[:, 1]\n",
    "# calculate AUC\n",
    "auc = roc_auc_score(y_train, probs)\n",
    "print('AUC: %.3f' % auc)\n",
    "# calculate roc curve\n",
    "train_fpr, train_tpr, train_thresholds = roc_curve(y_train, probs)\n",
    "plt.plot([0, 1], [0, 1], linestyle='--')\n",
    "# plot the roc curve for the model\n",
    "plt.plot(train_fpr, train_tpr);"
   ]
  },
  {
   "cell_type": "code",
   "execution_count": 113,
   "metadata": {},
   "outputs": [
    {
     "data": {
      "text/plain": [
       "0.9971277531758324"
      ]
     },
     "execution_count": 113,
     "metadata": {},
     "output_type": "execute_result"
    }
   ],
   "source": [
    "# Accuracy - Train Data\n",
    "model.score(x_train, y_train)"
   ]
  },
  {
   "cell_type": "code",
   "execution_count": 114,
   "metadata": {},
   "outputs": [
    {
     "name": "stderr",
     "output_type": "stream",
     "text": [
      "C:\\Users\\User\\anaconda3\\lib\\site-packages\\sklearn\\utils\\deprecation.py:87: FutureWarning: Function plot_confusion_matrix is deprecated; Function `plot_confusion_matrix` is deprecated in 1.0 and will be removed in 1.2. Use one of the class methods: ConfusionMatrixDisplay.from_predictions or ConfusionMatrixDisplay.from_estimator.\n",
      "  warnings.warn(msg, category=FutureWarning)\n"
     ]
    },
    {
     "data": {
      "image/png": "[encoded data removed]",
      "text/plain": [
       "<Figure size 432x288 with 2 Axes>"
      ]
     },
     "metadata": {
      "needs_background": "light"
     },
     "output_type": "display_data"
    }
   ],
   "source": [
    "confusion_matrix(y_train, ytrain_predict)\n",
    "plot_confusion_matrix(model,x_train,y_train);"
   ]
  },
  {
   "cell_type": "code",
   "execution_count": 115,
   "metadata": {},
   "outputs": [
    {
     "name": "stdout",
     "output_type": "stream",
     "text": [
      "              precision    recall  f1-score   support\n",
      "\n",
      "           0       1.00      1.00      1.00    132959\n",
      "           1       1.00      0.91      0.95      4564\n",
      "\n",
      "    accuracy                           1.00    137523\n",
      "   macro avg       1.00      0.96      0.98    137523\n",
      "weighted avg       1.00      1.00      1.00    137523\n",
      "\n"
     ]
    }
   ],
   "source": [
    "print(classification_report(y_train, ytrain_predict))"
   ]
  },
  {
   "cell_type": "markdown",
   "metadata": {},
   "source": [
    "**AUC/ROC,Classification Report for Test data** "
   ]
  },
  {
   "cell_type": "code",
   "execution_count": 116,
   "metadata": {},
   "outputs": [
    {
     "name": "stdout",
     "output_type": "stream",
     "text": [
      "AUC: 0.999\n"
     ]
    },
    {
     "data": {
      "image/png": "[encoded data removed]",
      "text/plain": [
       "<Figure size 432x288 with 1 Axes>"
      ]
     },
     "metadata": {
      "needs_background": "light"
     },
     "output_type": "display_data"
    }
   ],
   "source": [
    "# predict probabilities\n",
    "probs = model.predict_proba(x_test)\n",
    "# keep probabilities for the positive outcome only\n",
    "probs = probs[:, 1]\n",
    "# calculate AUC\n",
    "test_auc = roc_auc_score(y_test, probs)\n",
    "print('AUC: %.3f' % auc)\n",
    "# calculate roc curve\n",
    "test_fpr, test_tpr, test_thresholds = roc_curve(y_test, probs)\n",
    "plt.plot([0, 1], [0, 1], linestyle='--')\n",
    "# plot the roc curve for the model\n",
    "plt.plot(test_fpr, test_tpr);"
   ]
  },
  {
   "cell_type": "code",
   "execution_count": 117,
   "metadata": {},
   "outputs": [
    {
     "data": {
      "text/plain": [
       "0.9954189925176877"
      ]
     },
     "execution_count": 117,
     "metadata": {},
     "output_type": "execute_result"
    }
   ],
   "source": [
    "# Accuracy - Test Data\n",
    "model.score(x_test, y_test)"
   ]
  },
  {
   "cell_type": "code",
   "execution_count": 118,
   "metadata": {},
   "outputs": [
    {
     "data": {
      "text/plain": [
       "array([[56969,    14],\n",
       "       [  256,  1700]], dtype=int64)"
      ]
     },
     "execution_count": 118,
     "metadata": {},
     "output_type": "execute_result"
    }
   ],
   "source": [
    "confusion_matrix(y_test, ytest_predict)"
   ]
  },
  {
   "cell_type": "code",
   "execution_count": 119,
   "metadata": {},
   "outputs": [
    {
     "name": "stderr",
     "output_type": "stream",
     "text": [
      "C:\\Users\\User\\anaconda3\\lib\\site-packages\\sklearn\\utils\\deprecation.py:87: FutureWarning: Function plot_confusion_matrix is deprecated; Function `plot_confusion_matrix` is deprecated in 1.0 and will be removed in 1.2. Use one of the class methods: ConfusionMatrixDisplay.from_predictions or ConfusionMatrixDisplay.from_estimator.\n",
      "  warnings.warn(msg, category=FutureWarning)\n"
     ]
    },
    {
     "data": {
      "image/png": "[encoded data removed]",
      "text/plain": [
       "<Figure size 432x288 with 2 Axes>"
      ]
     },
     "metadata": {
      "needs_background": "light"
     },
     "output_type": "display_data"
    }
   ],
   "source": [
    "plot_confusion_matrix(model,x_test,y_test);"
   ]
  },
  {
   "cell_type": "code",
   "execution_count": 120,
   "metadata": {},
   "outputs": [
    {
     "name": "stdout",
     "output_type": "stream",
     "text": [
      "              precision    recall  f1-score   support\n",
      "\n",
      "           0       1.00      1.00      1.00     56983\n",
      "           1       0.99      0.87      0.93      1956\n",
      "\n",
      "    accuracy                           1.00     58939\n",
      "   macro avg       0.99      0.93      0.96     58939\n",
      "weighted avg       1.00      1.00      1.00     58939\n",
      "\n"
     ]
    }
   ],
   "source": [
    "print(classification_report(y_test, ytest_predict))"
   ]
  },
  {
   "cell_type": "code",
   "execution_count": null,
   "metadata": {},
   "outputs": [],
   "source": []
  },
  {
   "cell_type": "markdown",
   "metadata": {},
   "source": [
    "**Selected Model and Submission**"
   ]
  },
  {
   "cell_type": "code",
   "execution_count": 157,
   "metadata": {},
   "outputs": [],
   "source": [
    "#final_model=CatBoostClassifier()\n",
    "#final_model=XGBClassifier() \n",
    "final_model=RandomForestClassifier() "
   ]
  },
  {
   "cell_type": "code",
   "execution_count": 158,
   "metadata": {},
   "outputs": [
    {
     "name": "stderr",
     "output_type": "stream",
     "text": [
      "C:\\Users\\User\\AppData\\Local\\Temp\\ipykernel_4628\\3155372493.py:1: DataConversionWarning: A column-vector y was passed when a 1d array was expected. Please change the shape of y to (n_samples,), for example using ravel().\n",
      "  final_model.fit(X,y)\n"
     ]
    },
    {
     "data": {
      "text/plain": [
       "RandomForestClassifier()"
      ]
     },
     "execution_count": 158,
     "metadata": {},
     "output_type": "execute_result"
    }
   ],
   "source": [
    "final_model.fit(X,y)"
   ]
  },
  {
   "cell_type": "code",
   "execution_count": 159,
   "metadata": {},
   "outputs": [
    {
     "data": {
      "text/plain": [
       "(28066, 14)"
      ]
     },
     "execution_count": 159,
     "metadata": {},
     "output_type": "execute_result"
    }
   ],
   "source": [
    "df_test.shape"
   ]
  },
  {
   "cell_type": "code",
   "execution_count": 160,
   "metadata": {},
   "outputs": [
    {
     "data": {
      "text/plain": [
       "array([0, 0, 0, ..., 0, 0, 1], dtype=int64)"
      ]
     },
     "execution_count": 160,
     "metadata": {},
     "output_type": "execute_result"
    }
   ],
   "source": [
    "final_predictions = final_model.predict(df_test)\n",
    "final_predictions"
   ]
  },
  {
   "cell_type": "code",
   "execution_count": 145,
   "metadata": {},
   "outputs": [
    {
     "data": {
      "text/html": [
       "<div>\n",
       "<style scoped>\n",
       "    .dataframe tbody tr th:only-of-type {\n",
       "        vertical-align: middle;\n",
       "    }\n",
       "\n",
       "    .dataframe tbody tr th {\n",
       "        vertical-align: top;\n",
       "    }\n",
       "\n",
       "    .dataframe thead th {\n",
       "        text-align: right;\n",
       "    }\n",
       "</style>\n",
       "<table border=\"1\" class=\"dataframe\">\n",
       "  <thead>\n",
       "    <tr style=\"text-align: right;\">\n",
       "      <th></th>\n",
       "      <th>id</th>\n",
       "      <th>Unnamed 0</th>\n",
       "    </tr>\n",
       "  </thead>\n",
       "  <tbody>\n",
       "    <tr>\n",
       "      <th>0</th>\n",
       "      <td>RE-PROV-0000001</td>\n",
       "      <td>0</td>\n",
       "    </tr>\n",
       "    <tr>\n",
       "      <th>1</th>\n",
       "      <td>RE-PROV-0000002</td>\n",
       "      <td>0</td>\n",
       "    </tr>\n",
       "    <tr>\n",
       "      <th>2</th>\n",
       "      <td>RE-PROV-0000003</td>\n",
       "      <td>0</td>\n",
       "    </tr>\n",
       "    <tr>\n",
       "      <th>3</th>\n",
       "      <td>RE-PROV-0000004</td>\n",
       "      <td>0</td>\n",
       "    </tr>\n",
       "    <tr>\n",
       "      <th>4</th>\n",
       "      <td>RE-PROV-0000005</td>\n",
       "      <td>0</td>\n",
       "    </tr>\n",
       "    <tr>\n",
       "      <th>...</th>\n",
       "      <td>...</td>\n",
       "      <td>...</td>\n",
       "    </tr>\n",
       "    <tr>\n",
       "      <th>28061</th>\n",
       "      <td>RE-PROV-0028062</td>\n",
       "      <td>0</td>\n",
       "    </tr>\n",
       "    <tr>\n",
       "      <th>28062</th>\n",
       "      <td>RE-PROV-0028063</td>\n",
       "      <td>0</td>\n",
       "    </tr>\n",
       "    <tr>\n",
       "      <th>28063</th>\n",
       "      <td>RE-PROV-0028064</td>\n",
       "      <td>0</td>\n",
       "    </tr>\n",
       "    <tr>\n",
       "      <th>28064</th>\n",
       "      <td>RE-PROV-0028065</td>\n",
       "      <td>0</td>\n",
       "    </tr>\n",
       "    <tr>\n",
       "      <th>28065</th>\n",
       "      <td>RE-PROV-0028066</td>\n",
       "      <td>1</td>\n",
       "    </tr>\n",
       "  </tbody>\n",
       "</table>\n",
       "<p>28066 rows × 2 columns</p>\n",
       "</div>"
      ],
      "text/plain": [
       "                    id Unnamed 0\n",
       "0      RE-PROV-0000001         0\n",
       "1      RE-PROV-0000002         0\n",
       "2      RE-PROV-0000003         0\n",
       "3      RE-PROV-0000004         0\n",
       "4      RE-PROV-0000005         0\n",
       "...                ...       ...\n",
       "28061  RE-PROV-0028062         0\n",
       "28062  RE-PROV-0028063         0\n",
       "28063  RE-PROV-0028064         0\n",
       "28064  RE-PROV-0028065         0\n",
       "28065  RE-PROV-0028066         1\n",
       "\n",
       "[28066 rows x 2 columns]"
      ]
     },
     "execution_count": 145,
     "metadata": {},
     "output_type": "execute_result"
    }
   ],
   "source": [
    "submission=pd.DataFrame([test_file_ids,final_predictions]).T\n",
    "submission"
   ]
  },
  {
   "cell_type": "code",
   "execution_count": 146,
   "metadata": {},
   "outputs": [],
   "source": [
    "submission.rename(columns={\"Unnamed 0\": \"prediction\"},inplace=True)"
   ]
  },
  {
   "cell_type": "code",
   "execution_count": 147,
   "metadata": {},
   "outputs": [
    {
     "data": {
      "text/plain": [
       "0    0.970427\n",
       "1    0.029573\n",
       "Name: prediction, dtype: float64"
      ]
     },
     "execution_count": 147,
     "metadata": {},
     "output_type": "execute_result"
    }
   ],
   "source": [
    "submission.prediction.value_counts(normalize=True)"
   ]
  },
  {
   "cell_type": "code",
   "execution_count": 148,
   "metadata": {},
   "outputs": [],
   "source": [
    "submission['prediction'] = submission['prediction'].astype('float64')"
   ]
  },
  {
   "cell_type": "code",
   "execution_count": 149,
   "metadata": {},
   "outputs": [
    {
     "name": "stdout",
     "output_type": "stream",
     "text": [
      "<class 'pandas.core.frame.DataFrame'>\n",
      "RangeIndex: 28066 entries, 0 to 28065\n",
      "Data columns (total 2 columns):\n",
      " #   Column      Non-Null Count  Dtype  \n",
      "---  ------      --------------  -----  \n",
      " 0   id          28066 non-null  object \n",
      " 1   prediction  28066 non-null  float64\n",
      "dtypes: float64(1), object(1)\n",
      "memory usage: 438.7+ KB\n"
     ]
    }
   ],
   "source": [
    "submission.info()"
   ]
  },
  {
   "cell_type": "code",
   "execution_count": 150,
   "metadata": {},
   "outputs": [],
   "source": [
    "submission.to_csv('solution.csv',index = False)"
   ]
  },
  {
   "cell_type": "code",
   "execution_count": null,
   "metadata": {},
   "outputs": [],
   "source": []
  },
  {
   "cell_type": "markdown",
   "metadata": {},
   "source": [
    "**Submission for Probobality of Prediction**"
   ]
  },
  {
   "cell_type": "code",
   "execution_count": 161,
   "metadata": {},
   "outputs": [
    {
     "data": {
      "text/plain": [
       "array([[1.  , 0.  ],\n",
       "       [1.  , 0.  ],\n",
       "       [0.99, 0.01],\n",
       "       ...,\n",
       "       [1.  , 0.  ],\n",
       "       [0.96, 0.04],\n",
       "       [0.14, 0.86]])"
      ]
     },
     "execution_count": 161,
     "metadata": {},
     "output_type": "execute_result"
    }
   ],
   "source": [
    "final_predictions_prob = final_model.predict_proba(df_test) \n",
    "final_predictions_prob"
   ]
  },
  {
   "cell_type": "code",
   "execution_count": 162,
   "metadata": {},
   "outputs": [
    {
     "data": {
      "text/html": [
       "<div>\n",
       "<style scoped>\n",
       "    .dataframe tbody tr th:only-of-type {\n",
       "        vertical-align: middle;\n",
       "    }\n",
       "\n",
       "    .dataframe tbody tr th {\n",
       "        vertical-align: top;\n",
       "    }\n",
       "\n",
       "    .dataframe thead th {\n",
       "        text-align: right;\n",
       "    }\n",
       "</style>\n",
       "<table border=\"1\" class=\"dataframe\">\n",
       "  <thead>\n",
       "    <tr style=\"text-align: right;\">\n",
       "      <th></th>\n",
       "      <th>Prob-0</th>\n",
       "      <th>prediction</th>\n",
       "    </tr>\n",
       "  </thead>\n",
       "  <tbody>\n",
       "    <tr>\n",
       "      <th>0</th>\n",
       "      <td>1.00</td>\n",
       "      <td>0.00</td>\n",
       "    </tr>\n",
       "    <tr>\n",
       "      <th>1</th>\n",
       "      <td>1.00</td>\n",
       "      <td>0.00</td>\n",
       "    </tr>\n",
       "    <tr>\n",
       "      <th>2</th>\n",
       "      <td>0.99</td>\n",
       "      <td>0.01</td>\n",
       "    </tr>\n",
       "    <tr>\n",
       "      <th>3</th>\n",
       "      <td>1.00</td>\n",
       "      <td>0.00</td>\n",
       "    </tr>\n",
       "    <tr>\n",
       "      <th>4</th>\n",
       "      <td>1.00</td>\n",
       "      <td>0.00</td>\n",
       "    </tr>\n",
       "    <tr>\n",
       "      <th>...</th>\n",
       "      <td>...</td>\n",
       "      <td>...</td>\n",
       "    </tr>\n",
       "    <tr>\n",
       "      <th>28061</th>\n",
       "      <td>0.92</td>\n",
       "      <td>0.08</td>\n",
       "    </tr>\n",
       "    <tr>\n",
       "      <th>28062</th>\n",
       "      <td>0.97</td>\n",
       "      <td>0.03</td>\n",
       "    </tr>\n",
       "    <tr>\n",
       "      <th>28063</th>\n",
       "      <td>1.00</td>\n",
       "      <td>0.00</td>\n",
       "    </tr>\n",
       "    <tr>\n",
       "      <th>28064</th>\n",
       "      <td>0.96</td>\n",
       "      <td>0.04</td>\n",
       "    </tr>\n",
       "    <tr>\n",
       "      <th>28065</th>\n",
       "      <td>0.14</td>\n",
       "      <td>0.86</td>\n",
       "    </tr>\n",
       "  </tbody>\n",
       "</table>\n",
       "<p>28066 rows × 2 columns</p>\n",
       "</div>"
      ],
      "text/plain": [
       "       Prob-0  prediction\n",
       "0        1.00        0.00\n",
       "1        1.00        0.00\n",
       "2        0.99        0.01\n",
       "3        1.00        0.00\n",
       "4        1.00        0.00\n",
       "...       ...         ...\n",
       "28061    0.92        0.08\n",
       "28062    0.97        0.03\n",
       "28063    1.00        0.00\n",
       "28064    0.96        0.04\n",
       "28065    0.14        0.86\n",
       "\n",
       "[28066 rows x 2 columns]"
      ]
     },
     "execution_count": 162,
     "metadata": {},
     "output_type": "execute_result"
    }
   ],
   "source": [
    "df_predict_prob = pd.DataFrame(final_predictions_prob, columns =['Prob-0','prediction'])\n",
    "df_predict_prob"
   ]
  },
  {
   "cell_type": "code",
   "execution_count": 163,
   "metadata": {},
   "outputs": [
    {
     "data": {
      "text/html": [
       "<div>\n",
       "<style scoped>\n",
       "    .dataframe tbody tr th:only-of-type {\n",
       "        vertical-align: middle;\n",
       "    }\n",
       "\n",
       "    .dataframe tbody tr th {\n",
       "        vertical-align: top;\n",
       "    }\n",
       "\n",
       "    .dataframe thead th {\n",
       "        text-align: right;\n",
       "    }\n",
       "</style>\n",
       "<table border=\"1\" class=\"dataframe\">\n",
       "  <thead>\n",
       "    <tr style=\"text-align: right;\">\n",
       "      <th></th>\n",
       "      <th>id</th>\n",
       "      <th>prediction</th>\n",
       "    </tr>\n",
       "  </thead>\n",
       "  <tbody>\n",
       "    <tr>\n",
       "      <th>0</th>\n",
       "      <td>RE-PROV-0000001</td>\n",
       "      <td>0.0</td>\n",
       "    </tr>\n",
       "    <tr>\n",
       "      <th>1</th>\n",
       "      <td>RE-PROV-0000002</td>\n",
       "      <td>0.0</td>\n",
       "    </tr>\n",
       "    <tr>\n",
       "      <th>2</th>\n",
       "      <td>RE-PROV-0000003</td>\n",
       "      <td>0.01</td>\n",
       "    </tr>\n",
       "    <tr>\n",
       "      <th>3</th>\n",
       "      <td>RE-PROV-0000004</td>\n",
       "      <td>0.0</td>\n",
       "    </tr>\n",
       "    <tr>\n",
       "      <th>4</th>\n",
       "      <td>RE-PROV-0000005</td>\n",
       "      <td>0.0</td>\n",
       "    </tr>\n",
       "    <tr>\n",
       "      <th>...</th>\n",
       "      <td>...</td>\n",
       "      <td>...</td>\n",
       "    </tr>\n",
       "    <tr>\n",
       "      <th>28061</th>\n",
       "      <td>RE-PROV-0028062</td>\n",
       "      <td>0.08</td>\n",
       "    </tr>\n",
       "    <tr>\n",
       "      <th>28062</th>\n",
       "      <td>RE-PROV-0028063</td>\n",
       "      <td>0.03</td>\n",
       "    </tr>\n",
       "    <tr>\n",
       "      <th>28063</th>\n",
       "      <td>RE-PROV-0028064</td>\n",
       "      <td>0.0</td>\n",
       "    </tr>\n",
       "    <tr>\n",
       "      <th>28064</th>\n",
       "      <td>RE-PROV-0028065</td>\n",
       "      <td>0.04</td>\n",
       "    </tr>\n",
       "    <tr>\n",
       "      <th>28065</th>\n",
       "      <td>RE-PROV-0028066</td>\n",
       "      <td>0.86</td>\n",
       "    </tr>\n",
       "  </tbody>\n",
       "</table>\n",
       "<p>28066 rows × 2 columns</p>\n",
       "</div>"
      ],
      "text/plain": [
       "                    id prediction\n",
       "0      RE-PROV-0000001        0.0\n",
       "1      RE-PROV-0000002        0.0\n",
       "2      RE-PROV-0000003       0.01\n",
       "3      RE-PROV-0000004        0.0\n",
       "4      RE-PROV-0000005        0.0\n",
       "...                ...        ...\n",
       "28061  RE-PROV-0028062       0.08\n",
       "28062  RE-PROV-0028063       0.03\n",
       "28063  RE-PROV-0028064        0.0\n",
       "28064  RE-PROV-0028065       0.04\n",
       "28065  RE-PROV-0028066       0.86\n",
       "\n",
       "[28066 rows x 2 columns]"
      ]
     },
     "execution_count": 163,
     "metadata": {},
     "output_type": "execute_result"
    }
   ],
   "source": [
    "#submit_prob=pd.DataFrame([test_file_ids,round(df_predict_prob['prediction'],2)]).T\n",
    "submit_prob=pd.DataFrame([test_file_ids,df_predict_prob['prediction']]).T\n",
    "submit_prob"
   ]
  },
  {
   "cell_type": "code",
   "execution_count": 164,
   "metadata": {},
   "outputs": [],
   "source": [
    "submit_prob['prediction'] = submit_prob['prediction'].astype('float64')"
   ]
  },
  {
   "cell_type": "code",
   "execution_count": 165,
   "metadata": {},
   "outputs": [
    {
     "name": "stdout",
     "output_type": "stream",
     "text": [
      "<class 'pandas.core.frame.DataFrame'>\n",
      "RangeIndex: 28066 entries, 0 to 28065\n",
      "Data columns (total 2 columns):\n",
      " #   Column      Non-Null Count  Dtype  \n",
      "---  ------      --------------  -----  \n",
      " 0   id          28066 non-null  object \n",
      " 1   prediction  28066 non-null  float64\n",
      "dtypes: float64(1), object(1)\n",
      "memory usage: 438.7+ KB\n"
     ]
    }
   ],
   "source": [
    "submit_prob.info()"
   ]
  },
  {
   "cell_type": "code",
   "execution_count": 166,
   "metadata": {},
   "outputs": [],
   "source": [
    "submit_prob.to_csv('solution.csv',index = False)"
   ]
  },
  {
   "cell_type": "code",
   "execution_count": null,
   "metadata": {},
   "outputs": [],
   "source": []
  }
 ],
 "metadata": {
  "kernelspec": {
   "display_name": "Python 3 (ipykernel)",
   "language": "python",
   "name": "python3"
  },
  "language_info": {
   "codemirror_mode": {
    "name": "ipython",
    "version": 3
   },
   "file_extension": ".py",
   "mimetype": "text/x-python",
   "name": "python",
   "nbconvert_exporter": "python",
   "pygments_lexer": "ipython3",
   "version": "3.9.12"
  },
  "toc": {
   "base_numbering": 1,
   "nav_menu": {},
   "number_sections": true,
   "sideBar": true,
   "skip_h1_title": false,
   "title_cell": "Table of Contents",
   "title_sidebar": "Contents",
   "toc_cell": false,
   "toc_position": {},
   "toc_section_display": true,
   "toc_window_display": false
  },
  "varInspector": {
   "cols": {
    "lenName": 16,
    "lenType": 16,
    "lenVar": 40
   },
   "kernels_config": {
    "python": {
     "delete_cmd_postfix": "",
     "delete_cmd_prefix": "del ",
     "library": "var_list.py",
     "varRefreshCmd": "print(var_dic_list())"
    },
    "r": {
     "delete_cmd_postfix": ") ",
     "delete_cmd_prefix": "rm(",
     "library": "var_list.r",
     "varRefreshCmd": "cat(var_dic_list()) "
    }
   },
   "types_to_exclude": [
    "module",
    "function",
    "builtin_function_or_method",
    "instance",
    "_Feature"
   ],
   "window_display": false
  }
 },
 "nbformat": 4,
 "nbformat_minor": 4
}
